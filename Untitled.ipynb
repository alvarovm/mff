{
 "cells": [
  {
   "cell_type": "code",
   "execution_count": 161,
   "metadata": {},
   "outputs": [],
   "source": [
    "import numpy as np\n",
    "from itertools import combinations\n",
    "\n",
    "from ase.io import iread, read\n",
    "from asap3 import FullNeighborList\n",
    "\n",
    "from scipy.spatial import cKDTree"
   ]
  },
  {
   "cell_type": "code",
   "execution_count": 162,
   "metadata": {},
   "outputs": [],
   "source": [
    "testfiles = {\n",
    "    'BIP_300': 'test/data/BIP_300/movie.xyz',\n",
    "    'C_a': 'test/data/C_a/data_C.xyz',\n",
    "    'Fe_vac': 'test/data/Fe_vad/vaca_iron500.xyz',\n",
    "    'HNi': 'test/data/HNI/h_ase500.xyz'\n",
    "}\n",
    "\n",
    "filename = 'test/data/Fe_vac/vaca_iron500.xyz'\n",
    "traj = read(filename, index=slice(None))\n",
    "\n",
    "\n"
   ]
  },
  {
   "cell_type": "code",
   "execution_count": 327,
   "metadata": {},
   "outputs": [
    {
     "name": "stdout",
     "output_type": "stream",
     "text": [
      "12.25\n"
     ]
    }
   ],
   "source": [
    "r_cut = 3.5\n",
    "print(r_cut**2)\n",
    "atoms = traj[-1]\n",
    "nl = FullNeighborList(r_cut, atoms=atoms)"
   ]
  },
  {
   "cell_type": "code",
   "execution_count": 380,
   "metadata": {},
   "outputs": [
    {
     "name": "stdout",
     "output_type": "stream",
     "text": [
      "(732, 3) (732, 3) 868\n"
     ]
    }
   ],
   "source": [
    "\n",
    "def find_triplets(atoms, nl):\n",
    "    indices, distances, positions = [], [], dict()\n",
    "\n",
    "    for i in range(len(atoms)):\n",
    "\n",
    "        inds, pos, dists = nl.get_neighbors(i)\n",
    "        assert len(inds) is len(np.unique(inds)), \"There are repetitive indices!\\n{}\".format(inds)\n",
    "\n",
    "        # ingnore already visited atoms\n",
    "        inds, pos, dists = inds[inds > i], pos[inds > i, :], dists[inds > i]\n",
    "\n",
    "        for local_ind, (j, pos_ij, dist_ij) in enumerate(zip(inds, pos, dists)):\n",
    "\n",
    "            # Caching local displacement vectors\n",
    "            positions[(i, j)], positions[(j, i)] = pos_ij, -pos_ij\n",
    "\n",
    "            for k, dist_ik in zip(inds[local_ind + 1:], dists[local_ind + 1:]):\n",
    "\n",
    "                try:\n",
    "                    jk_ind = list(nl[j]).index(k)\n",
    "                except ValueError:\n",
    "                    continue  # no valid triplet\n",
    "\n",
    "                _, j_pos, j_dists = nl.get_neighbors(j)\n",
    "\n",
    "                indices.append([i, j, k])\n",
    "                distances.append([dist_ij, dist_ik, j_dists[jk_ind]])\n",
    "\n",
    "    return np.array(indices), np.sqrt(np.array(distances)), positions\n",
    "\n",
    "indices, distances, positions = find_triplets(atoms, nl)\n",
    "print(indices.shape, distances.shape, len(positions))"
   ]
  },
  {
   "cell_type": "code",
   "execution_count": 371,
   "metadata": {},
   "outputs": [
    {
     "name": "stdout",
     "output_type": "stream",
     "text": [
      "(732, 3) (732, 3) 868\n"
     ]
    }
   ],
   "source": [
    "def find_triplets(atoms, nl):\n",
    "    indices, distances, positions = [], [], dict()\n",
    "\n",
    "    for i in range(len(atoms)):\n",
    "\n",
    "        inds, pos, dists = nl.get_neighbors(i)\n",
    "        assert len(inds) is len(np.unique(inds)), \"There are repetitive indices!\\n{}\".format(inds)\n",
    "\n",
    "        # ingnore already visited atoms\n",
    "        inds, pos, dists = inds[inds > i], pos[inds > i, :], dists[inds > i]\n",
    "\n",
    "        for j_ind, (j, pos_ij) in enumerate(zip(inds, pos)):\n",
    "\n",
    "            # Caching local displacement vectors\n",
    "            positions[(i, j)], positions[(j, i)] = pos_ij, -pos_ij\n",
    "\n",
    "            for k_ind, k in enumerate(inds[j_ind + 1:], j_ind + 1):\n",
    "\n",
    "                try:\n",
    "                    jk_ind = list(nl[j]).index(k)\n",
    "                except ValueError:\n",
    "                    continue  # no valid triplet\n",
    "\n",
    "                _, j_pos, j_dists = nl.get_neighbors(j)\n",
    "\n",
    "                indices.append([i, j, k])\n",
    "                distances.append([dists[j_ind], dists[k_ind], j_dists[jk_ind]])\n",
    "\n",
    "    return np.array(indices), np.sqrt(np.array(distances)), positions\n",
    "\n",
    "indices, distances, positions = find_triplets(atoms, nl)\n",
    "print(indices.shape, distances.shape, len(positions))"
   ]
  },
  {
   "cell_type": "code",
   "execution_count": 377,
   "metadata": {},
   "outputs": [
    {
     "name": "stdout",
     "output_type": "stream",
     "text": [
      "[ 0.03544 -0.08478 -2.73283]\n",
      "[-1.35949  1.48898 -1.37712]\n",
      "[ 1.65162 -1.45439 -1.37   ]\n",
      "[-1.27438  1.30468  1.4729 ]\n",
      "[ 1.61956 -1.5432   1.44509]\n",
      "[ 0.10948 -0.14517  2.94031]\n",
      "[ 1.53841  1.45574 -1.31688]\n",
      "[1.56106 1.37152 1.481  ]\n",
      "[ 3.0967  -0.13184  0.13038]\n",
      "[0.09553 2.83988 0.12263]\n"
     ]
    }
   ],
   "source": [
    "for p in pos[3:]:\n",
    "    print(p)\n"
   ]
  },
  {
   "cell_type": "code",
   "execution_count": 378,
   "metadata": {},
   "outputs": [
    {
     "name": "stdout",
     "output_type": "stream",
     "text": [
      "(732, 3) (732, 3) 868\n"
     ]
    }
   ],
   "source": [
    "def find_triplets(atoms, nl):\n",
    "    indices, distances, positions = [], [], dict()\n",
    "\n",
    "    for i in range(len(atoms)):\n",
    "\n",
    "        inds, pos, dists = nl.get_neighbors(i)\n",
    "        assert len(inds) is len(np.unique(inds)), \"There are repetitive indices!\\n{}\".format(inds)\n",
    "\n",
    "        # ingnore already visited atoms\n",
    "        inds, pos, dists = inds[inds > i], pos[inds > i, :], dists[inds > i]\n",
    "\n",
    "        for j_ind, j in enumerate(inds):\n",
    "\n",
    "            # Caching local displacement vectors\n",
    "            positions[(i, j)], positions[(j, i)] = pos[j_ind], -pos[j_ind]\n",
    "\n",
    "            for k_ind, k in enumerate(inds[j_ind + 1:], j_ind + 1):\n",
    "\n",
    "                try:\n",
    "                    jk_ind = list(nl[j]).index(k)\n",
    "                except ValueError:\n",
    "                    continue  # no valid triplet\n",
    "\n",
    "                _, j_pos, j_dists = nl.get_neighbors(j)\n",
    "\n",
    "                indices.append([i, j, k])\n",
    "                distances.append([dists[j_ind], dists[k_ind], j_dists[jk_ind]])\n",
    "\n",
    "    return np.array(indices), np.sqrt(np.array(distances)), positions\n",
    "\n",
    "indices, distances, positions = find_triplets(atoms, nl)\n",
    "print(indices.shape, distances.shape, len(positions))"
   ]
  },
  {
   "cell_type": "code",
   "execution_count": 344,
   "metadata": {},
   "outputs": [
    {
     "name": "stdout",
     "output_type": "stream",
     "text": [
      "1589 732\n",
      "(732, 3) (732, 3) 868\n"
     ]
    }
   ],
   "source": [
    "def find_triplets(atoms,nl):\n",
    "\n",
    "    indices = []\n",
    "    distances = []\n",
    "    positions = dict()\n",
    "\n",
    "    count0, count1 = 0, 0\n",
    "    for i in range(len(atoms)):\n",
    "#         if i > 0: break        \n",
    "        # assert len(inds) is len(np.unique(inds)), \"There are repetative indecies!\\n{}\".format(inds)\n",
    "\n",
    "        i_inds, i_pos, i_dists = nl.get_neighbors(i)\n",
    "\n",
    "        # ingnore already visited nodes\n",
    "        mask = i_inds > i\n",
    "        i_inds, i_pos, i_dists = i_inds[mask], i_pos[mask, :], i_dists[mask]\n",
    "\n",
    "        for j_ind, j in enumerate(i_inds):\n",
    "\n",
    "            for k_ind, k in enumerate(i_inds[j_ind + 1:], j_ind + 1):\n",
    "                count0 += 1\n",
    "\n",
    "                jk_ind, = np.where(nl[j] == k)\n",
    "                # jk_ind = list(nl[j]).index(k)\n",
    "\n",
    "                if not jk_ind.size:\n",
    "                    # no valid triplet\n",
    "                    continue\n",
    "\n",
    "                _, j_pos, j_dists = nl.get_neighbors(j)\n",
    "\n",
    "                indices.append([i, j, k])\n",
    "                # print(i, j, k)\n",
    "                \n",
    "                # Caching local postion vectors\n",
    "                positions[(i, j)], positions[(j, i)] = i_pos[j_ind], -i_pos[j_ind]\n",
    "                positions[(i, k)], positions[(k, i)] = i_pos[k_ind], -i_pos[k_ind]\n",
    "                positions[(j, k)], positions[(k, j)] = j_pos[j_ind], -j_pos[j_ind]\n",
    "\n",
    "                distances.append([i_dists[j_ind], i_dists[k_ind], j_dists[jk_ind[0]]])\n",
    "\n",
    "                count1 +=1\n",
    "\n",
    "#     for (j_ind, j), (k_ind, k) in combinations(enumerate(inds[inds > i]), 2):\n",
    "        \n",
    "#         count0 += 1\n",
    "        \n",
    "            \n",
    "#         jk_ind, = np.where(nl[k] == j)\n",
    "#         # jk_ind = list(arr[k][0]).index(j)\n",
    "\n",
    "#         if jk_ind.size:\n",
    "#             count1 +=1\n",
    "#             print(i,j,k, dists[j_ind], dists[k_ind], arr[k][2][jk_ind[0]])\n",
    "\n",
    "    \n",
    "    print(count0, count1)\n",
    "    return np.array(indices), np.array(distances), positions\n",
    "\n",
    "indices, distances, positions = find_triplets(atoms, nl)\n",
    "print(indices.shape, distances.shape, len(positions))\n"
   ]
  },
  {
   "cell_type": "code",
   "execution_count": 347,
   "metadata": {
    "scrolled": false
   },
   "outputs": [
    {
     "name": "stdout",
     "output_type": "stream",
     "text": [
      "(732, 3) (732, 3) 868\n"
     ]
    }
   ],
   "source": [
    "\n",
    "def find_triplets2(atoms, nl):\n",
    "    indices = []\n",
    "    distances = []\n",
    "    positions = dict()\n",
    "\n",
    "    # tuple (con: immutuable)\n",
    "\n",
    "    arr = [nl.get_neighbors(i) for i in range(len(atoms))]\n",
    "\n",
    "    count0, count1 = 0, 0\n",
    "    for i, (inds, pos, dists) in enumerate(arr):\n",
    "        # assert len(inds) is len(np.unique(inds)), \"There are repetative indecies!\\n{}\".format(inds)\n",
    "\n",
    "        # for (j_ind, j), (k_ind, k) in combinations(enumerate(inds), 2):\n",
    "        #     if j > i and k > i:\n",
    "        #         count0 += 1\n",
    "        #         jk_ind, = np.where(arr[k][0] == j)\n",
    "        #         # jk_ind = list(arr[k][0]).index(j)\n",
    "\n",
    "        #         if jk_ind.size:\n",
    "        #             count1 +=1\n",
    "\n",
    "        inds, pos, dists = inds[inds > i], pos[inds > i, :], dists[inds > i]\n",
    "\n",
    "        for (j_ind, j), (k_ind, k) in combinations(enumerate(inds), 2):\n",
    "            count0 += 1\n",
    "\n",
    "            jk_ind, = np.where(arr[j][0] == k)\n",
    "\n",
    "            if not jk_ind.size:\n",
    "                continue\n",
    "\n",
    "            indices.append([i, j, k])\n",
    "            # print(i, j, k)\n",
    "\n",
    "            # Caching local postion vectors\n",
    "            positions[(i, j)], positions[(j, i)] = pos[j_ind], -pos[j_ind]\n",
    "            positions[(i, k)], positions[(k, i)] = pos[k_ind], -pos[k_ind]\n",
    "            positions[(j, k)], positions[(k, j)] = arr[j][1][jk_ind[0], :], -arr[j][1][jk_ind[0], :]\n",
    "\n",
    "            distances.append([dists[j_ind], dists[k_ind], arr[j][2][jk_ind[0]]])\n",
    "\n",
    "            count1 += 1\n",
    "\n",
    "    return np.array(indices), np.array(distances), positions\n",
    "\n",
    "\n",
    "indices, distances, positions = find_triplets2(atoms, nl)\n",
    "print(indices.shape, distances.shape, len(positions))\n"
   ]
  },
  {
   "cell_type": "code",
   "execution_count": 350,
   "metadata": {},
   "outputs": [
    {
     "name": "stdout",
     "output_type": "stream",
     "text": [
      "13.4 ms ± 292 µs per loop (mean ± std. dev. of 7 runs, 100 loops each)\n",
      "13.3 ms ± 293 µs per loop (mean ± std. dev. of 7 runs, 100 loops each)\n"
     ]
    }
   ],
   "source": [
    "%timeit indices, distances, positions = find_triplets2(atoms, nl)\n",
    "%timeit indices, distances, positions = find_triplets(atoms, nl)"
   ]
  },
  {
   "cell_type": "code",
   "execution_count": 258,
   "metadata": {},
   "outputs": [
    {
     "name": "stdout",
     "output_type": "stream",
     "text": [
      "0 59 47\n",
      "0 59 48\n",
      "0 59 60\n",
      "0 59 11\n",
      "0 47 48\n",
      "0 47 4\n",
      "0 48 60\n",
      "0 48 4\n",
      "0 60 1\n",
      "0 60 12\n",
      "0 1 12\n",
      "0 1 21\n",
      "0 1 17\n",
      "0 1 5\n",
      "0 4 20\n",
      "0 4 21\n",
      "0 4 5\n",
      "0 11 12\n",
      "0 11 16\n",
      "0 12 16\n",
      "0 12 17\n",
      "0 16 20\n",
      "0 16 21\n",
      "0 16 17\n",
      "0 20 21\n",
      "0 21 17\n",
      "0 21 5\n"
     ]
    },
    {
     "data": {
      "text/plain": [
       "(78, 27)"
      ]
     },
     "execution_count": 258,
     "metadata": {},
     "output_type": "execute_result"
    }
   ],
   "source": [
    "# tuple (con: immutuable)\n",
    "\n",
    "arr = tuple(nl.get_neighbors(i) for i in range(len(atoms)))\n",
    "\n",
    "count0, count1 = 0, 0\n",
    "for  i, (inds, pos, dists) in enumerate(arr):\n",
    "    \n",
    "    if i > 0: break\n",
    "    # assert len(inds) is len(np.unique(inds)), \"There are repetative indecies!\\n{}\".format(inds)\n",
    "    \n",
    "    for (j_ind, j), (k_ind, k) in combinations(enumerate(inds), 2):\n",
    "        count0 += 1\n",
    "        if j > i and k > i and j in nl[k]:\n",
    "            jk_ind = list(arr[k][0]).index(j)\n",
    "            if not jk_ind:\n",
    "                continue\n",
    "                \n",
    "            count1 +=1\n",
    "            print(i,j,k)\n",
    "        \n",
    "       \n",
    "    \n",
    "count0, count1"
   ]
  },
  {
   "cell_type": "code",
   "execution_count": 233,
   "metadata": {},
   "outputs": [],
   "source": [
    "rcmax = r_cut\n",
    "positions = atoms.get_positions()\n",
    "pbc = atoms.get_pbc()\n",
    "cell = atoms.get_cell()\n",
    "        \n",
    "icell = np.linalg.pinv(cell)\n",
    "scaled = np.dot(positions, icell)\n",
    "scaled0 = scaled.copy()\n",
    "\n",
    "N = []\n",
    "for i in range(3):\n",
    "    if pbc[i]:\n",
    "        scaled0[:, i] %= 1.0\n",
    "        v = icell[:, i]\n",
    "        h = 1 / np.sqrt(np.dot(v, v))\n",
    "        n = int(2 * rcmax / h) + 1\n",
    "    else:\n",
    "        n = 0\n",
    "    N.append(n)\n",
    "\n",
    "offsets = (scaled0 - scaled).round().astype(int)\n",
    "positions0 = atoms.positions + np.dot(offsets, cell)\n",
    "natoms = len(atoms)\n",
    "indices = np.arange(natoms)\n"
   ]
  },
  {
   "cell_type": "code",
   "execution_count": 394,
   "metadata": {},
   "outputs": [
    {
     "name": "stdout",
     "output_type": "stream",
     "text": [
      "(732, 1) (732, 1) (732, 1)\n"
     ]
    }
   ],
   "source": [
    "def test(x,y,z):\n",
    "    print(x.shape,y.shape,z.shape)\n",
    "    \n",
    "test(*np.hsplit(distances,3))"
   ]
  },
  {
   "cell_type": "code",
   "execution_count": 402,
   "metadata": {},
   "outputs": [
    {
     "name": "stdout",
     "output_type": "stream",
     "text": [
      "0 59 47\n",
      "2.47059858125516 2.749447608175143 2.636377774826668\n",
      "0 59 48\n",
      "2.47059858125516 2.376586264140226 2.8958941425749676\n",
      "0 59 60\n",
      "2.47059858125516 2.9059532716132925 2.4078383381157473\n",
      "0 59 11\n",
      "2.47059858125516 2.8215070413876355 2.5513646744242577\n"
     ]
    },
    {
     "data": {
      "text/plain": [
       "array([[ 0, 59, 47],\n",
       "       [ 0, 59, 48],\n",
       "       [ 0, 59, 60],\n",
       "       [ 0, 59, 11]])"
      ]
     },
     "execution_count": 402,
     "metadata": {},
     "output_type": "execute_result"
    }
   ],
   "source": [
    "inds = indices[:4]\n",
    "dists = distances[:4]\n",
    "\n",
    "for (i,j,k), (d_ij, d_jk, d_ki) in zip(inds, dists):\n",
    "    print(i,j,k)\n",
    "    print(d_ij, d_jk, d_ki)\n",
    "\n",
    "inds"
   ]
  },
  {
   "cell_type": "code",
   "execution_count": 401,
   "metadata": {},
   "outputs": [
    {
     "data": {
      "text/plain": [
       "array([[2.47059858, 2.74944761, 2.63637777],\n",
       "       [2.47059858, 2.37658626, 2.89589414],\n",
       "       [2.47059858, 2.90595327, 2.40783834],\n",
       "       [2.47059858, 2.82150704, 2.55136467]])"
      ]
     },
     "execution_count": 401,
     "metadata": {},
     "output_type": "execute_result"
    }
   ],
   "source": [
    "dists"
   ]
  },
  {
   "cell_type": "code",
   "execution_count": 403,
   "metadata": {},
   "outputs": [],
   "source": [
    "aa = np.array(range(100))"
   ]
  },
  {
   "cell_type": "code",
   "execution_count": 408,
   "metadata": {},
   "outputs": [],
   "source": [
    "aa[np.array([2,33,4])] = 1\n"
   ]
  },
  {
   "cell_type": "code",
   "execution_count": 409,
   "metadata": {},
   "outputs": [
    {
     "data": {
      "text/plain": [
       "array([ 0,  1,  1,  3,  1,  5,  6,  7,  8,  9, 10, 11, 12, 13, 14, 15, 16,\n",
       "       17, 18, 19, 20, 21, 22, 23, 24, 25, 26, 27, 28, 29, 30, 31, 32,  1,\n",
       "       34, 35, 36, 37, 38, 39, 40, 41, 42, 43, 44, 45, 46, 47, 48, 49, 50,\n",
       "       51, 52, 53, 54, 55, 56, 57, 58, 59, 60, 61, 62, 63, 64, 65, 66, 67,\n",
       "       68, 69, 70, 71, 72, 73, 74, 75, 76, 77, 78, 79, 80, 81, 82, 83, 84,\n",
       "       85, 86, 87, 88, 89, 90, 91, 92, 93, 94, 95, 96, 97, 98, 99])"
      ]
     },
     "execution_count": 409,
     "metadata": {},
     "output_type": "execute_result"
    }
   ],
   "source": [
    "aa"
   ]
  },
  {
   "cell_type": "code",
   "execution_count": null,
   "metadata": {},
   "outputs": [],
   "source": []
  }
 ],
 "metadata": {
  "kernelspec": {
   "display_name": "Python 3",
   "language": "python",
   "name": "python3"
  },
  "language_info": {
   "codemirror_mode": {
    "name": "ipython",
    "version": 3
   },
   "file_extension": ".py",
   "mimetype": "text/x-python",
   "name": "python",
   "nbconvert_exporter": "python",
   "pygments_lexer": "ipython3",
   "version": "3.6.4"
  }
 },
 "nbformat": 4,
 "nbformat_minor": 2
}
