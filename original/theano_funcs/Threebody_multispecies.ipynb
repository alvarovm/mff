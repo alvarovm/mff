{
 "cells": [
  {
   "cell_type": "markdown",
   "metadata": {},
   "source": [
    "# Three-body conservative kernel for two chemical species"
   ]
  },
  {
   "cell_type": "code",
   "execution_count": 27,
   "metadata": {},
   "outputs": [],
   "source": [
    "# import libraries\n",
    "import theano\n",
    "import theano.tensor as T\n",
    "from theano import function\n",
    "import numpy as np"
   ]
  },
  {
   "cell_type": "markdown",
   "metadata": {},
   "source": [
    "### Definitions"
   ]
  },
  {
   "cell_type": "markdown",
   "metadata": {},
   "source": [
    "Define the position of the atoms relative to the centrla one, and their chemical species, by a matrix of dimension Mx5"
   ]
  },
  {
   "cell_type": "code",
   "execution_count": 28,
   "metadata": {},
   "outputs": [],
   "source": [
    "# positions of central atoms\n",
    "r1, r2 = T.dvectors('r1d','r2d') \n",
    "# positions of neighbours \n",
    "rho1, rho2 = T.dmatrices('rho1','rho2') \n",
    "# hyperparameter\n",
    "sig = T.dscalar('sig') \n"
   ]
  },
  {
   "cell_type": "code",
   "execution_count": 29,
   "metadata": {},
   "outputs": [],
   "source": [
    "# positions of neighbours without chemical species\n",
    "\n",
    "rho1s = rho1[:, 0:3]\n",
    "rho2s = rho2[:, 0:3]\n",
    "\n",
    "alpha_1 = rho1[:, 3].flatten()\n",
    "alpha_2 = rho2[:, 3].flatten()\n",
    "\n",
    "alpha_j = rho1[:, 4].flatten()\n",
    "alpha_m = rho2[:, 4].flatten()\n",
    "\n",
    "alpha_k = rho1[:, 4].flatten()\n",
    "alpha_n = rho2[:, 4].flatten()\n"
   ]
  },
  {
   "cell_type": "markdown",
   "metadata": {},
   "source": [
    "Calculate the relative distance to the central vector"
   ]
  },
  {
   "cell_type": "code",
   "execution_count": 30,
   "metadata": {},
   "outputs": [],
   "source": [
    "# first configuration\n",
    "r1j = T.sqrt(T.sum((rho1s[:, :]-r1[None,:])**2, axis = 1))\n",
    "\n",
    "# second configuration\n",
    "r2m = T.sqrt(T.sum((rho2s[:, :]-r2[None,:])**2, axis = 1))\n"
   ]
  },
  {
   "cell_type": "markdown",
   "metadata": {},
   "source": [
    "Calculate the distances between the neighbours"
   ]
  },
  {
   "cell_type": "code",
   "execution_count": 31,
   "metadata": {},
   "outputs": [],
   "source": [
    "# first configuration\n",
    "rjk = T.sqrt(T.sum((rho1s[None, :, :] - rho1s[:, None, :])**2, axis = 2))\n",
    "\n",
    "# second configuration\n",
    "rmn = T.sqrt(T.sum((rho2s[None, :, :] - rho2s[:, None, :])**2, axis = 2))\n"
   ]
  },
  {
   "cell_type": "markdown",
   "metadata": {},
   "source": [
    "Calculate the mask given by the chemical species"
   ]
  },
  {
   "cell_type": "code",
   "execution_count": 32,
   "metadata": {},
   "outputs": [],
   "source": [
    "#def delta_alpha(a1j, a2m):\n",
    "#    d = (a1j == a2m)\n",
    "#    dn =  float(d == 'true')\n",
    "#    return dn"
   ]
  },
  {
   "cell_type": "code",
   "execution_count": 33,
   "metadata": {},
   "outputs": [],
   "source": [
    "# !!! THIS IS NOT AN EXACT KRONECKER SYMBOL !!!\n",
    "\n",
    "def delta_alpha2(a1j, a2m):\n",
    "    d = np.exp(-(a1j - a2m)**2/(2*(1e-5)**2))\n",
    "    return d"
   ]
  },
  {
   "cell_type": "markdown",
   "metadata": {},
   "source": [
    "Now let us calculate all the kronecker deltas for all 6 permutations of atoms in the second triplet. These are\n",
    "\n",
    "$$ P1 + P2 + P3 + P4 + P5 + P6$$\n",
    "\n",
    "$$ \\delta_{1jk,2mn} + \\delta_{1jk,2nm} + \\delta_{1jk,mn2} + \\delta_{1jk,m2n} + \\delta_{1jk,n2m} + \\delta_{1jk,nm2} $$\n",
    "\n",
    "$$ \\delta_{12}\\delta_{jm}\\delta_{kn} + \\delta_{12}\\delta_{jn}\\delta_{km} + \\delta_{1m}\\delta_{jn}\\delta_{k2} + \\delta_{1m}\\delta_{j2}\\delta_{kn} + \\delta_{1n}\\delta_{j2}\\delta_{km} + \\delta_{1n}\\delta_{jm}\\delta_{k2} $$"
   ]
  },
  {
   "cell_type": "code",
   "execution_count": 60,
   "metadata": {},
   "outputs": [],
   "source": [
    "# permutation 1\n",
    "\n",
    "delta_alphas12 = delta_alpha2(alpha_1[0] , alpha_2[0])\n",
    "delta_alphasjm = delta_alpha2(alpha_j[:, None] , alpha_m[None, :])\n",
    "delta_alphaskn = delta_alpha2(alpha_k[:, None] , alpha_n[None, :])\n",
    "delta_alphas_jmkn = delta_alphasjm[:,None,:,None] * delta_alphaskn[None, :, None, :]\n",
    "\n",
    "delta_perm1 = delta_alphas12 * delta_alphas_jmkn\n",
    "\n",
    "# permutation 2\n",
    "\n",
    "delta_alphas12 = delta_alpha2(alpha_1[0] , alpha_2[0])\n",
    "delta_alphasjn = delta_alpha2(alpha_j[:, None] , alpha_n[None, :])\n",
    "delta_alphaskm = delta_alpha2(alpha_k[:, None] , alpha_m[None, :])\n",
    "delta_alphas_jnkm = delta_alphasjn[:,None,:,None] * delta_alphaskm[None, :, None, :]\n",
    "\n",
    "delta_perm2 = delta_alphas12 * delta_alphas_jnkm\n",
    "\n",
    "# permutation 3\n",
    "delta_alphas1m = delta_alpha2(alpha_1[0, None] , alpha_m[None, :]).flatten()\n",
    "delta_alphasjn = delta_alpha2(alpha_j[:, None] , alpha_n[None, :])\n",
    "delta_alphask2 = delta_alpha2(alpha_k[:, None] , alpha_2[None, 0]).flatten()\n",
    "delta_alphas_k21m = delta_alphask2[:, None] * delta_alphas1m[None, :] \n",
    "\n",
    "delta_perm3 = delta_alphas_k21m[:,None,:,None] * delta_alphasjn[None, :, None, :]\n",
    "\n",
    "\n",
    "# permutation 4\n",
    "delta_alphas1m = delta_alpha2(alpha_1[0, None] , alpha_m[None, :]).flatten()\n",
    "delta_alphasj2 = delta_alpha2(alpha_j[:, None] , alpha_2[None, 0]).flatten()\n",
    "delta_alphaskn = delta_alpha2(alpha_k[:, None] , alpha_n[None, :])\n",
    "delta_alphas_j21m = delta_alphasj2[:, None] * delta_alphas1m[None, :]\n",
    "\n",
    "delta_perm4 = delta_alphas_j21m[:,None,:,None] * delta_alphaskn[None, :, None, :]\n",
    "\n",
    "# permutation 5\n",
    "delta_alphas1n = delta_alpha2(alpha_1[0, None] , alpha_n[None, :]).flatten()\n",
    "delta_alphasj2 = delta_alpha2(alpha_j[:, None] , alpha_2[None, 0]).flatten()\n",
    "delta_alphaskm = delta_alpha2(alpha_k[:, None] , alpha_m[None, :])\n",
    "delta_alphas_j21n = delta_alphasj2[:, None] * delta_alphas1n[None, :]\n",
    "\n",
    "delta_perm5 = delta_alphas_j21n[:,None,:,None] * delta_alphaskm[None, :, None, :]\n",
    "\n",
    "# permutation 6\n",
    "delta_alphas1n = delta_alpha2(alpha_1[0, None] , alpha_n[None, :]).flatten()\n",
    "delta_alphasjm = delta_alpha2(alpha_j[:, None] , alpha_m[None, :])\n",
    "delta_alphask2 = delta_alpha2(alpha_k[:, None] , alpha_2[None, 0]).flatten()\n",
    "delta_alphas_k21n = delta_alphask2[:, None] * delta_alphas1n[None, :]\n",
    "\n",
    "delta_perm6 = delta_alphas_k21n[:,None,:,None] * delta_alphasjm[None, :, None, :]"
   ]
  },
  {
   "cell_type": "markdown",
   "metadata": {},
   "source": [
    "### Kernel"
   ]
  },
  {
   "cell_type": "markdown",
   "metadata": {},
   "source": [
    "Calculate the kernel on all combinations of radii"
   ]
  },
  {
   "cell_type": "code",
   "execution_count": 61,
   "metadata": {},
   "outputs": [],
   "source": [
    "# Squared exp of differences\n",
    "se_1j2m = T.exp(-(r1j[:,None] - r2m[None,:])**2/(2*sig**2))\n",
    "se_jkmn = T.exp(-(rjk[:,:,None,None] - rmn[None,None,:,:])**2/(2*sig**2))\n",
    "se_jk2m = T.exp(-(rjk[:,:,None] - r2m[None, None,:])**2/(2*sig**2))\n",
    "se_1jmn = T.exp(-(r1j[:,None, None] - rmn[None,:,:])**2/(2*sig**2))"
   ]
  },
  {
   "cell_type": "markdown",
   "metadata": {},
   "source": [
    "Build the kernel"
   ]
  },
  {
   "cell_type": "code",
   "execution_count": 62,
   "metadata": {},
   "outputs": [],
   "source": [
    "# Kernel not summed (cyclic permutations)\n",
    "k1n = (se_1j2m[:,None, :, None]*se_1j2m[None, :, None,:]*se_jkmn)\n",
    "k2n = (se_1jmn[:,None, :, :]*se_jk2m[:, :, None,:]*se_1j2m[None,:,:,None])\n",
    "k3n = (se_1j2m[:,None, None, :]*se_jk2m[:, :, :,None]*se_1jmn[None,:, :, :])\n",
    "\n",
    "# final shape is M1 M1 M2 M2\n",
    "\n",
    "# kernel\n",
    "ker_jkmn = (k1n+k2n+k3n)*(delta_perm1+delta_perm2+delta_perm3 + delta_perm4 + delta_perm5 + delta_perm6)\n",
    "\n"
   ]
  },
  {
   "cell_type": "markdown",
   "metadata": {},
   "source": [
    "PROBLEM\n",
    "\n",
    "In the way we defined the delta functions, the two configurations H-Ni-Ni and Ni-H-H are not equal (and that's right). However, this won't work well for the \"pairwise terms\" in the sum since these should actually recognise those as being equal. What possibly should be done at this point is building a mask of ones and se"
   ]
  },
  {
   "cell_type": "code",
   "execution_count": 63,
   "metadata": {},
   "outputs": [
    {
     "data": {
      "text/plain": [
       "array([[0., 1., 1., 1., 1.],\n       [1., 0., 1., 1., 1.],\n       [1., 1., 0., 1., 1.],\n       [1., 1., 1., 0., 1.],\n       [1., 1., 1., 1., 0.]])"
      ]
     },
     "execution_count": 63,
     "metadata": {},
     "output_type": "execute_result"
    }
   ],
   "source": [
    "mask_jk = T.ones_like(rjk) - T.identity_like(rjk)\n",
    "mask_mn = T.ones_like(rmn) - T.identity_like(rmn)\n",
    "\n",
    "mask_jkmn = mask_jk[:, :, None, None] * mask_mn[None, None, :, :]\n",
    "\n",
    "mask_jk.eval({rjk: np.zeros((5, 5))})"
   ]
  },
  {
   "cell_type": "code",
   "execution_count": 64,
   "metadata": {},
   "outputs": [],
   "source": [
    "# energy energy kernel\n",
    "kerncut = T.sum(ker_jkmn*mask_jkmn)\n",
    "kfun = function([r1, r2, rho1, rho2, sig], kerncut)\n"
   ]
  },
  {
   "cell_type": "code",
   "execution_count": 65,
   "metadata": {},
   "outputs": [],
   "source": [
    "# energy force kernel\n",
    "G3b_ms = T.grad(kerncut, r1)\n",
    "G3b_ms_fun = function([r1, r2, rho1, rho2, sig], G3b_ms)\n"
   ]
  },
  {
   "cell_type": "markdown",
   "metadata": {},
   "source": [
    "Take Hessian"
   ]
  },
  {
   "cell_type": "code",
   "execution_count": 66,
   "metadata": {},
   "outputs": [],
   "source": [
    "# force force kernel\n",
    "gr1 = T.grad(kerncut, r1)\n",
    "\n",
    "H3b_ms, updates = theano.scan(lambda j, gr1, r2 : T.grad(gr1[j], r2), sequences = T.arange(gr1.shape[0]), non_sequences = [gr1, r2])\n",
    "H3b_ms_fun = function([r1, r2, rho1, rho2, sig], H3b_ms)"
   ]
  },
  {
   "cell_type": "markdown",
   "metadata": {},
   "source": [
    "Saving the kernel"
   ]
  },
  {
   "cell_type": "code",
   "execution_count": 42,
   "metadata": {},
   "outputs": [
    {
     "ename": "NameError",
     "evalue": "name 'H3b_ms_fun' is not defined",
     "traceback": [
      "\u001b[0;31m---------------------------------------------------------------------------\u001b[0m",
      "\u001b[0;31mNameError\u001b[0m                                 Traceback (most recent call last)",
      "\u001b[0;32m<ipython-input-42-4936339933fd>\u001b[0m in \u001b[0;36m<module>\u001b[0;34m()\u001b[0m\n\u001b[1;32m      4\u001b[0m \u001b[0msys\u001b[0m\u001b[0;34m.\u001b[0m\u001b[0msetrecursionlimit\u001b[0m\u001b[0;34m(\u001b[0m\u001b[0;36m3000\u001b[0m\u001b[0;34m)\u001b[0m\u001b[0;34m\u001b[0m\u001b[0m\n\u001b[1;32m      5\u001b[0m \u001b[0mf\u001b[0m \u001b[0;34m=\u001b[0m \u001b[0mopen\u001b[0m\u001b[0;34m(\u001b[0m\u001b[0;34m'H3b_ms.save'\u001b[0m\u001b[0;34m,\u001b[0m \u001b[0;34m'wb'\u001b[0m\u001b[0;34m)\u001b[0m\u001b[0;34m\u001b[0m\u001b[0m\n\u001b[0;32m----> 6\u001b[0;31m \u001b[0mcPickle\u001b[0m\u001b[0;34m.\u001b[0m\u001b[0mdump\u001b[0m\u001b[0;34m(\u001b[0m\u001b[0mH3b_ms_fun\u001b[0m\u001b[0;34m,\u001b[0m \u001b[0mf\u001b[0m\u001b[0;34m,\u001b[0m \u001b[0mprotocol\u001b[0m\u001b[0;34m=\u001b[0m\u001b[0mcPickle\u001b[0m\u001b[0;34m.\u001b[0m\u001b[0mHIGHEST_PROTOCOL\u001b[0m\u001b[0;34m)\u001b[0m\u001b[0;34m\u001b[0m\u001b[0m\n\u001b[0m\u001b[1;32m      7\u001b[0m \u001b[0mf\u001b[0m\u001b[0;34m.\u001b[0m\u001b[0mclose\u001b[0m\u001b[0;34m(\u001b[0m\u001b[0;34m)\u001b[0m\u001b[0;34m\u001b[0m\u001b[0m\n\u001b[1;32m      8\u001b[0m \u001b[0;34m\u001b[0m\u001b[0m\n",
      "\u001b[0;31mNameError\u001b[0m: name 'H3b_ms_fun' is not defined"
     ],
     "output_type": "error"
    }
   ],
   "source": [
    "from six.moves import cPickle\n",
    "import sys\n",
    "\n",
    "sys.setrecursionlimit(3000)\n",
    "f = open('H3b_ms.save', 'wb')\n",
    "cPickle.dump(H3b_ms_fun, f, protocol=cPickle.HIGHEST_PROTOCOL)\n",
    "f.close()\n",
    "\n",
    "f = open('G3b_ms.save', 'wb')\n",
    "cPickle.dump(G3b_ms_fun, f, protocol=cPickle.HIGHEST_PROTOCOL)\n",
    "f.close()\n",
    "\n",
    "f = open('S3b_ms.save', 'wb')\n",
    "cPickle.dump(kfun, f, protocol=cPickle.HIGHEST_PROTOCOL)\n",
    "f.close()\n"
   ]
  },
  {
   "cell_type": "markdown",
   "metadata": {
    "collapsed": true
   },
   "source": [
    "### Kernel with cutoff function"
   ]
  },
  {
   "cell_type": "code",
   "execution_count": 67,
   "metadata": {},
   "outputs": [],
   "source": [
    "theta = T.dscalar('theta')\n",
    "rc = T.dscalar('rc')\n",
    "\n",
    "ker_jkmn_withcutoff = (k1n+k2n+k3n)*(delta_perm1+delta_perm2+delta_perm3 + delta_perm4 + delta_perm5 + delta_perm6)*(\n",
    "    T.exp(-theta/(rc-r1j[:,None,None,None]))* T.exp(-theta/(rc-r1j[None,:,None,None]))* T.exp(-theta/(rc-rjk[:,:,None,None])) * \n",
    "    T.exp(-theta/(rc-r2m[None,None,None,:]))* T.exp(-theta/(rc-r2m[None,None,:,None]))* T.exp(-theta/(rc-rmn[None,None,:,:])) *\n",
    "(0.5*(T.sgn(rc-rjk[:,:,None,None])+1)) * (0.5*(T.sgn(rc-rmn[None,None,:,:])+1)))\n",
    "\n",
    "k_cutoff = T.sum(ker_jkmn_withcutoff*mask_jkmn)"
   ]
  },
  {
   "cell_type": "code",
   "execution_count": 68,
   "metadata": {},
   "outputs": [],
   "source": [
    "#pi = T.constant('pi')\n",
    "\n",
    "ker_jkmn_withcutoff_v2 = (k1n+k2n+k3n)*(delta_perm1+delta_perm2+delta_perm3 + delta_perm4 + delta_perm5 + delta_perm6)*(\n",
    "    T.exp(-theta/(rc-r1j[:,None,None,None]))* T.exp(-theta/(rc-r1j[None,:,None,None]))* T.exp(-theta/(rc-rjk[:,:,None,None])) * \n",
    "    T.exp(-theta/(rc-r2m[None,None,None,:]))* T.exp(-theta/(rc-r2m[None,None,:,None]))* T.exp(-theta/(rc-rmn[None,None,:,:])) )\n",
    "\n",
    "k_cutoff_v2 = T.sum(ker_jkmn_withcutoff*mask_jkmn)"
   ]
  },
  {
   "cell_type": "code",
   "execution_count": 69,
   "metadata": {},
   "outputs": [],
   "source": [
    "# energy energy kernel\n",
    "k_ee_cut_fun = function([r1, r2, rho1, rho2, sig, theta, rc], k_cutoff)\n",
    "\n",
    "# energy force kernel\n",
    "k_ef_cut = T.grad(k_cutoff, r2)\n",
    "k_ef_cut_fun = function([r1, r2, rho1, rho2, sig, theta, rc], k_ef_cut)\n",
    "\n",
    "# force force kernel\n",
    "k_ff_cut = T.grad(k_cutoff, r1)\n",
    "k_ff_cut_der, updates = theano.scan(lambda j, k_ff_cut, r2 : T.grad(k_ff_cut[j], r2), sequences = T.arange(k_ff_cut.shape[0]), non_sequences = [k_ff_cut, r2])\n",
    "k_ff_cut_fun = function([r1, r2, rho1, rho2, sig, theta, rc], k_ff_cut_der)"
   ]
  },
  {
   "cell_type": "markdown",
   "metadata": {},
   "source": [
    "Saving the cutoff kernels"
   ]
  },
  {
   "cell_type": "code",
   "execution_count": 70,
   "metadata": {},
   "outputs": [],
   "source": [
    "sys.setrecursionlimit(3000)\n",
    "\n",
    "f = open('3B_ee_ker_cut.save', 'wb')\n",
    "cPickle.dump(k_ee_cut_fun, f, protocol=cPickle.HIGHEST_PROTOCOL)\n",
    "f.close()\n",
    "\n",
    "f = open('3B_ef_ker_cut.save', 'wb')\n",
    "cPickle.dump(k_ef_cut_fun, f, protocol=cPickle.HIGHEST_PROTOCOL)\n",
    "f.close()\n",
    "f = open('3B_ff_ker_cut.save', 'wb')\n",
    "cPickle.dump(k_ff_cut_fun, f, protocol=cPickle.HIGHEST_PROTOCOL)\n",
    "f.close()"
   ]
  },
  {
   "cell_type": "markdown",
   "metadata": {},
   "source": [
    "### Tests"
   ]
  },
  {
   "cell_type": "markdown",
   "metadata": {},
   "source": [
    "Test on a single configuration"
   ]
  },
  {
   "cell_type": "code",
   "execution_count": 71,
   "metadata": {},
   "outputs": [
    {
     "name": "stdout",
     "output_type": "stream",
     "text": [
      "(3, 5) (4, 5)\n"
     ]
    }
   ],
   "source": [
    "rho1n = np.array([[1, 2, 3, 1, 3],\n",
    "                  [1, 2, 4, 1, 4],\n",
    "                  [1, 2, 1, 1, 1]])\n",
    "\n",
    "rho2n = np.array([[1.2, 2.1, 3.3, 1, 3],\n",
    "                  [1.7, 2.1, 4.6, 1, 4],\n",
    "                  [1.2, 2.1, 1.2, 1, 1], \n",
    "                  [1.3, 2.2, 1.4, 1.5, 1.1]])\n",
    "\n",
    "print(rho1n.shape , rho2n.shape)"
   ]
  },
  {
   "cell_type": "code",
   "execution_count": 73,
   "metadata": {},
   "outputs": [
    {
     "name": "stdout",
     "output_type": "stream",
     "text": [
      "Cutoff kernel 0.001791\nSimple kernel 0.001381\n[[2.60542839 4.55626349 3.82323099]\n [5.21085677 9.11252699 7.64646198]\n [4.48934244 7.49588605 9.64446587]]\n[[2.6054284  4.55626352 3.82323101]\n [5.2108568  9.11252704 7.64646203]\n [4.48934247 7.4958861  9.64446593]]\n"
     ]
    }
   ],
   "source": [
    "import datetime\n",
    "t0 = datetime.datetime.now()\n",
    "mat_cut = k_ff_cut_fun(np.array([0,0,0]), np.array([0,0,0]), rho1n, rho2n, 1., .0001, 100000.0)\n",
    "tf = datetime.datetime.now()\n",
    "print(\"Cutoff kernel\",(tf-t0).total_seconds())\n",
    "\n",
    "t0 = datetime.datetime.now()\n",
    "mat = H3b_ms_fun(np.array([0,0,0]), np.array([0,0,0]),rho1n, rho2n, 1., )\n",
    "tf = datetime.datetime.now()\n",
    "print(\"Simple kernel\", (tf-t0).total_seconds())\n",
    "\n",
    "print(mat_cut)\n",
    "print(mat)"
   ]
  },
  {
   "cell_type": "code",
   "execution_count": 49,
   "metadata": {},
   "outputs": [
    {
     "ename": "EOFError",
     "evalue": "Ran out of input",
     "traceback": [
      "\u001b[0;31m---------------------------------------------------------------------------\u001b[0m",
      "\u001b[0;31mEOFError\u001b[0m                                  Traceback (most recent call last)",
      "\u001b[0;32m<ipython-input-49-a0358bcfdcbc>\u001b[0m in \u001b[0;36m<module>\u001b[0;34m()\u001b[0m\n\u001b[1;32m      1\u001b[0m \u001b[0mf\u001b[0m \u001b[0;34m=\u001b[0m \u001b[0mopen\u001b[0m\u001b[0;34m(\u001b[0m\u001b[0;34m'H3b_ms.save'\u001b[0m\u001b[0;34m,\u001b[0m \u001b[0;34m'rb'\u001b[0m\u001b[0;34m)\u001b[0m\u001b[0;34m\u001b[0m\u001b[0m\n\u001b[0;32m----> 2\u001b[0;31m \u001b[0mHessian_3b_mcs\u001b[0m \u001b[0;34m=\u001b[0m \u001b[0mcPickle\u001b[0m\u001b[0;34m.\u001b[0m\u001b[0mload\u001b[0m\u001b[0;34m(\u001b[0m\u001b[0mf\u001b[0m\u001b[0;34m)\u001b[0m\u001b[0;34m\u001b[0m\u001b[0m\n\u001b[0m\u001b[1;32m      3\u001b[0m \u001b[0mf\u001b[0m\u001b[0;34m.\u001b[0m\u001b[0mclose\u001b[0m\u001b[0;34m(\u001b[0m\u001b[0;34m)\u001b[0m\u001b[0;34m\u001b[0m\u001b[0m\n",
      "\u001b[0;31mEOFError\u001b[0m: Ran out of input"
     ],
     "output_type": "error"
    }
   ],
   "source": [
    "f = open('H3b_ms.save', 'rb')\n",
    "Hessian_3b_mcs = cPickle.load(f)\n",
    "f.close()"
   ]
  },
  {
   "cell_type": "code",
   "execution_count": 77,
   "metadata": {
    "collapsed": true
   },
   "outputs": [],
   "source": [
    "mat2 = H3b_ms_fun([0,0,0], [0,0,0], rho1n, rho2n, 100.)"
   ]
  },
  {
   "cell_type": "code",
   "execution_count": 78,
   "metadata": {},
   "outputs": [
    {
     "data": {
      "text/plain": [
       "array([[2.6054284 , 4.55626352, 3.82323101],\n       [5.2108568 , 9.11252704, 7.64646203],\n       [4.48934247, 7.4958861 , 9.64446593]])"
      ]
     },
     "execution_count": 78,
     "metadata": {},
     "output_type": "execute_result"
    }
   ],
   "source": [
    "mat"
   ]
  },
  {
   "cell_type": "code",
   "execution_count": 79,
   "metadata": {},
   "outputs": [
    {
     "data": {
      "text/plain": [
       "array([[0.00089971, 0.0014605 , 0.00165446],\n       [0.00179942, 0.002921  , 0.00330893],\n       [0.00190579, 0.00305716, 0.00366767]])"
      ]
     },
     "execution_count": 79,
     "metadata": {},
     "output_type": "execute_result"
    }
   ],
   "source": [
    "mat2"
   ]
  },
  {
   "cell_type": "code",
   "execution_count": 80,
   "metadata": {},
   "outputs": [
    {
     "name": "stdout",
     "output_type": "stream",
     "text": [
      "[[2.6054284  4.55626352 3.82323101]\n [5.2108568  9.11252704 7.64646203]\n [4.48934247 7.4958861  9.64446593]]\n"
     ]
    },
    {
     "ename": "NameError",
     "evalue": "name 'matT' is not defined",
     "traceback": [
      "\u001b[0;31m---------------------------------------------------------------------------\u001b[0m",
      "\u001b[0;31mNameError\u001b[0m                                 Traceback (most recent call last)",
      "\u001b[0;32m<ipython-input-80-9619748c3bea>\u001b[0m in \u001b[0;36m<module>\u001b[0;34m()\u001b[0m\n\u001b[1;32m      1\u001b[0m \u001b[0mprint\u001b[0m\u001b[0;34m(\u001b[0m\u001b[0mmat\u001b[0m\u001b[0;34m)\u001b[0m\u001b[0;34m\u001b[0m\u001b[0m\n\u001b[0;32m----> 2\u001b[0;31m \u001b[0mprint\u001b[0m\u001b[0;34m(\u001b[0m\u001b[0mnp\u001b[0m\u001b[0;34m.\u001b[0m\u001b[0misclose\u001b[0m\u001b[0;34m(\u001b[0m\u001b[0mmat\u001b[0m\u001b[0;34m,\u001b[0m\u001b[0mmatT\u001b[0m\u001b[0;34m.\u001b[0m\u001b[0mT\u001b[0m\u001b[0;34m)\u001b[0m\u001b[0;34m)\u001b[0m\u001b[0;34m\u001b[0m\u001b[0m\n\u001b[0m",
      "\u001b[0;31mNameError\u001b[0m: name 'matT' is not defined"
     ],
     "output_type": "error"
    }
   ],
   "source": [
    "print(mat)\n",
    "print(np.isclose(mat,matT.T))"
   ]
  },
  {
   "cell_type": "code",
   "execution_count": 81,
   "metadata": {},
   "outputs": [
    {
     "data": {
      "text/plain": [
       "array([-0.30672155,  2.03220703, 19.6369359 ])"
      ]
     },
     "execution_count": 81,
     "metadata": {},
     "output_type": "execute_result"
    }
   ],
   "source": [
    "np.linalg.eigvalsh(mat)"
   ]
  },
  {
   "cell_type": "markdown",
   "metadata": {},
   "source": [
    "Tests on random configurations"
   ]
  },
  {
   "cell_type": "code",
   "execution_count": 83,
   "metadata": {},
   "outputs": [
    {
     "name": "stdout",
     "output_type": "stream",
     "text": [
      "Simple kernel 5.480356\n"
     ]
    },
    {
     "name": "stdout",
     "output_type": "stream",
     "text": [
      "Cutoff kernel 8.838187\n"
     ]
    }
   ],
   "source": [
    "n = 100\n",
    "d = 3\n",
    "nn = 2\n",
    "confs = (np.random.rand(n, nn, d+2)-0.5)*100\n",
    "\n",
    "#cov_sim_fun(np.zeros(d),np.zeros(d),confs[i],confs[j], 1.)\n",
    "#Hfun2(np.zeros(d),confs[i],np.zeros(d),confs[j], 1.)\n",
    "\n",
    "\n",
    "gram = np.zeros((n*d,n*d))\n",
    "\n",
    "t0 = datetime.datetime.now()\n",
    "for i in np.arange(n):\n",
    "    for j in np.arange(n):\n",
    "        gram[d*i:d*(i+1),d*j:d*(j+1)] = H3b_ms_fun(np.zeros(d),np.zeros(d), confs[i],confs[j], 10000.)\n",
    "tf = datetime.datetime.now()\n",
    "print(\"Simple kernel\", (tf-t0).total_seconds())\n",
    "\n",
    "t0 = datetime.datetime.now()\n",
    "for i in np.arange(n):\n",
    "    for j in np.arange(n):\n",
    "        gram[d*i:d*(i+1),d*j:d*(j+1)] = k_ff_cut_fun(np.zeros(d),np.zeros(d), confs[i],confs[j], 10000., 0.4, 10.0)\n",
    "tf = datetime.datetime.now()\n",
    "print(\"Cutoff kernel\", (tf-t0).total_seconds())     "
   ]
  },
  {
   "cell_type": "code",
   "execution_count": 84,
   "metadata": {},
   "outputs": [
    {
     "name": "stdout",
     "output_type": "stream",
     "text": [
      "[[0. 0. 0. ... 0. 0. 0.]\n [0. 0. 0. ... 0. 0. 0.]\n [0. 0. 0. ... 0. 0. 0.]\n ...\n [0. 0. 0. ... 0. 0. 0.]\n [0. 0. 0. ... 0. 0. 0.]\n [0. 0. 0. ... 0. 0. 0.]]\n"
     ]
    }
   ],
   "source": [
    "print(gram)"
   ]
  },
  {
   "cell_type": "code",
   "execution_count": 85,
   "metadata": {},
   "outputs": [
    {
     "data": {
      "text/plain": [
       "True"
      ]
     },
     "execution_count": 85,
     "metadata": {},
     "output_type": "execute_result"
    }
   ],
   "source": [
    "np.isclose(gram, gram.T).all()"
   ]
  },
  {
   "cell_type": "code",
   "execution_count": 87,
   "metadata": {},
   "outputs": [
    {
     "name": "stdout",
     "output_type": "stream",
     "text": [
      "0.0\n2.8624744996204707e-06\n"
     ]
    },
    {
     "data": {
      "image/png": "[encoded data removed]",
      "text/plain": [
       "<Figure size 432x288 with 1 Axes>"
      ]
     },
     "metadata": {},
     "output_type": "display_data"
    }
   ],
   "source": [
    "import matplotlib.pyplot as plt\n",
    "eigs, eigvecs = np.linalg.eigh(gram)\n",
    "print(np.min(eigs))\n",
    "print(np.max(eigs))\n",
    "plt.hist(eigs[:], 40)\n",
    "plt.show()"
   ]
  },
  {
   "cell_type": "code",
   "execution_count": null,
   "metadata": {
    "collapsed": true
   },
   "outputs": [],
   "source": []
  },
  {
   "cell_type": "code",
   "execution_count": null,
   "metadata": {
    "collapsed": true
   },
   "outputs": [],
   "source": []
  },
  {
   "cell_type": "code",
   "execution_count": null,
   "metadata": {
    "collapsed": true
   },
   "outputs": [],
   "source": []
  }
 ],
 "metadata": {
  "kernelspec": {
   "display_name": "Python 3",
   "language": "python",
   "name": "python3"
  },
  "language_info": {
   "codemirror_mode": {
    "name": "ipython",
    "version": 3
   },
   "file_extension": ".py",
   "mimetype": "text/x-python",
   "name": "python",
   "nbconvert_exporter": "python",
   "pygments_lexer": "ipython3",
   "version": "3.6.4"
  }
 },
 "nbformat": 4,
 "nbformat_minor": 2
}
