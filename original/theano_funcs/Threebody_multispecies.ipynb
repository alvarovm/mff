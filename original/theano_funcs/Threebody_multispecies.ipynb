{
 "cells": [
  {
   "cell_type": "markdown",
   "metadata": {},
   "source": [
    "# Three-body conservative kernel for two chemical species"
   ]
  },
  {
   "cell_type": "code",
   "execution_count": 2,
   "metadata": {},
   "outputs": [],
   "source": [
    "# import libraries\n",
    "import theano\n",
    "import theano.tensor as T\n",
    "from theano import function\n",
    "import numpy as np"
   ]
  },
  {
   "cell_type": "markdown",
   "metadata": {},
   "source": [
    "### Definitions"
   ]
  },
  {
   "cell_type": "markdown",
   "metadata": {},
   "source": [
    "Define the position of the atoms relative to the centrla one, and their chemical species, by a matrix of dimension Mx5"
   ]
  },
  {
   "cell_type": "code",
   "execution_count": 3,
   "metadata": {},
   "outputs": [],
   "source": [
    "# positions of central atoms\n",
    "r1, r2 = T.dvectors('r1d','r2d') \n",
    "# positions of neighbours \n",
    "rho1, rho2 = T.dmatrices('rho1','rho2') \n",
    "# hyperparameter\n",
    "sig = T.dscalar('sig') \n"
   ]
  },
  {
   "cell_type": "code",
   "execution_count": 4,
   "metadata": {},
   "outputs": [],
   "source": [
    "# positions of neighbours without chemical species\n",
    "\n",
    "rho1s = rho1[:, 0:3]\n",
    "rho2s = rho2[:, 0:3]\n",
    "\n",
    "alpha_1 = rho1[:, 3].flatten()\n",
    "alpha_2 = rho2[:, 3].flatten()\n",
    "\n",
    "alpha_j = rho1[:, 4].flatten()\n",
    "alpha_m = rho2[:, 4].flatten()\n",
    "\n",
    "alpha_k = rho1[:, 4].flatten()\n",
    "alpha_n = rho2[:, 4].flatten()\n"
   ]
  },
  {
   "cell_type": "markdown",
   "metadata": {},
   "source": [
    "Calculate the relative distance to the central vector"
   ]
  },
  {
   "cell_type": "code",
   "execution_count": 5,
   "metadata": {},
   "outputs": [],
   "source": [
    "# first configuration\n",
    "r1j = T.sqrt(T.sum((rho1s[:, :]-r1[None,:])**2, axis = 1))\n",
    "\n",
    "# second configuration\n",
    "r2m = T.sqrt(T.sum((rho2s[:, :]-r2[None,:])**2, axis = 1))\n"
   ]
  },
  {
   "cell_type": "markdown",
   "metadata": {},
   "source": [
    "Calculate the distances between the neighbours"
   ]
  },
  {
   "cell_type": "code",
   "execution_count": 6,
   "metadata": {},
   "outputs": [],
   "source": [
    "# first configuration\n",
    "rjk = T.sqrt(T.sum((rho1s[None, :, :] - rho1s[:, None, :])**2, axis = 2))\n",
    "\n",
    "# second configuration\n",
    "rmn = T.sqrt(T.sum((rho2s[None, :, :] - rho2s[:, None, :])**2, axis = 2))\n"
   ]
  },
  {
   "cell_type": "markdown",
   "metadata": {},
   "source": [
    "Calculate the mask given by the chemical species"
   ]
  },
  {
   "cell_type": "code",
   "execution_count": 7,
   "metadata": {},
   "outputs": [],
   "source": [
    "#def delta_alpha(a1j, a2m):\n",
    "#    d = (a1j == a2m)\n",
    "#    dn =  float(d == 'true')\n",
    "#    return dn"
   ]
  },
  {
   "cell_type": "code",
   "execution_count": 8,
   "metadata": {},
   "outputs": [],
   "source": [
    "# !!! THIS IS NOT AN EXACT KRONECKER SYMBOL !!!\n",
    "\n",
    "def delta_alpha2(a1j, a2m):\n",
    "    d = np.exp(-(a1j - a2m)**2/(2*(1e-5)**2))\n",
    "    return d"
   ]
  },
  {
   "cell_type": "markdown",
   "metadata": {},
   "source": [
    "Now let us calculate all the kronecker deltas for all 6 permutations of atoms in the second triplet. These are\n",
    "\n",
    "$$ P1 + P2 + P3 + P4 + P5 + P6$$\n",
    "\n",
    "$$ \\delta_{1jk,2mn} + \\delta_{1jk,2nm} + \\delta_{1jk,mn2} + \\delta_{1jk,m2n} + \\delta_{1jk,n2m} + \\delta_{1jk,nm2} $$\n",
    "\n",
    "$$ \\delta_{12}\\delta_{jm}\\delta_{kn} + \\delta_{12}\\delta_{jn}\\delta_{km} + \\delta_{1m}\\delta_{jn}\\delta_{k2} + \\delta_{1m}\\delta_{j2}\\delta_{kn} + \\delta_{1n}\\delta_{j2}\\delta_{km} + \\delta_{1n}\\delta_{jm}\\delta_{k2} $$"
   ]
  },
  {
   "cell_type": "code",
   "execution_count": 9,
   "metadata": {},
   "outputs": [],
   "source": [
    "# permutation 1\n",
    "\n",
    "delta_alphas12 = delta_alpha2(alpha_1[0] , alpha_2[0])\n",
    "delta_alphasjm = delta_alpha2(alpha_j[:, None] , alpha_m[None, :])\n",
    "delta_alphaskn = delta_alpha2(alpha_k[:, None] , alpha_n[None, :])\n",
    "delta_alphas_jmkn = delta_alphasjm[:,None,:,None] * delta_alphaskn[None, :, None, :]\n",
    "\n",
    "delta_perm1 = delta_alphas12 * delta_alphas_jmkn\n",
    "\n",
    "# permutation 2\n",
    "\n",
    "delta_alphas12 = delta_alpha2(alpha_1[0] , alpha_2[0])\n",
    "delta_alphasjn = delta_alpha2(alpha_j[:, None] , alpha_n[None, :])\n",
    "delta_alphaskm = delta_alpha2(alpha_k[:, None] , alpha_m[None, :])\n",
    "delta_alphas_jnkm = delta_alphasjn[:,None,:,None] * delta_alphaskm[None, :, None, :]\n",
    "\n",
    "delta_perm2 = delta_alphas12 * delta_alphas_jnkm\n",
    "\n",
    "# permutation 3\n",
    "delta_alphas1m = delta_alpha2(alpha_1[0, None] , alpha_m[None, :]).flatten()\n",
    "delta_alphasjn = delta_alpha2(alpha_j[:, None] , alpha_n[None, :])\n",
    "delta_alphask2 = delta_alpha2(alpha_k[:, None] , alpha_2[None, 0]).flatten()\n",
    "delta_alphas_k21m = delta_alphask2[:, None] * delta_alphas1m[None, :] \n",
    "\n",
    "delta_perm3 = delta_alphas_k21m[:,None,:,None] * delta_alphasjn[None, :, None, :]\n",
    "\n",
    "\n",
    "# permutation 4\n",
    "delta_alphas1m = delta_alpha2(alpha_1[0, None] , alpha_m[None, :]).flatten()\n",
    "delta_alphasj2 = delta_alpha2(alpha_j[:, None] , alpha_2[None, 0]).flatten()\n",
    "delta_alphaskn = delta_alpha2(alpha_k[:, None] , alpha_n[None, :])\n",
    "delta_alphas_j21m = delta_alphasj2[:, None] * delta_alphas1m[None, :]\n",
    "\n",
    "delta_perm4 = delta_alphas_j21m[:,None,:,None] * delta_alphaskn[None, :, None, :]\n",
    "\n",
    "# permutation 5\n",
    "delta_alphas1n = delta_alpha2(alpha_1[0, None] , alpha_n[None, :]).flatten()\n",
    "delta_alphasj2 = delta_alpha2(alpha_j[:, None] , alpha_2[None, 0]).flatten()\n",
    "delta_alphaskm = delta_alpha2(alpha_k[:, None] , alpha_m[None, :])\n",
    "delta_alphas_j21n = delta_alphasj2[:, None] * delta_alphas1n[None, :]\n",
    "\n",
    "delta_perm5 = delta_alphas_j21n[:,None,:,None] * delta_alphaskm[None, :, None, :]\n",
    "\n",
    "# permutation 6\n",
    "delta_alphas1n = delta_alpha2(alpha_1[0, None] , alpha_n[None, :]).flatten()\n",
    "delta_alphasjm = delta_alpha2(alpha_j[:, None] , alpha_m[None, :])\n",
    "delta_alphask2 = delta_alpha2(alpha_k[:, None] , alpha_2[None, 0]).flatten()\n",
    "delta_alphas_k21n = delta_alphask2[:, None] * delta_alphas1n[None, :]\n",
    "\n",
    "delta_perm6 = delta_alphas_k21n[:,None,:,None] * delta_alphasjm[None, :, None, :]"
   ]
  },
  {
   "cell_type": "markdown",
   "metadata": {},
   "source": [
    "### Kernel"
   ]
  },
  {
   "cell_type": "markdown",
   "metadata": {},
   "source": [
    "Calculate the kernel on all combinations of radii"
   ]
  },
  {
   "cell_type": "code",
   "execution_count": 10,
   "metadata": {},
   "outputs": [],
   "source": [
    "# Squared exp of differences\n",
    "se_1j2m = T.exp(-(r1j[:,None] - r2m[None,:])**2/(2*sig**2))\n",
    "se_jkmn = T.exp(-(rjk[:,:,None,None] - rmn[None,None,:,:])**2/(2*sig**2))\n",
    "se_jk2m = T.exp(-(rjk[:,:,None] - r2m[None, None,:])**2/(2*sig**2))\n",
    "se_1jmn = T.exp(-(r1j[:,None, None] - rmn[None,:,:])**2/(2*sig**2))"
   ]
  },
  {
   "cell_type": "markdown",
   "metadata": {},
   "source": [
    "Build the kernel"
   ]
  },
  {
   "cell_type": "code",
   "execution_count": 11,
   "metadata": {},
   "outputs": [],
   "source": [
    "# Kernel not summed (cyclic permutations)\n",
    "k1n = (se_1j2m[:,None, :, None]*se_1j2m[None, :, None,:]*se_jkmn)\n",
    "k2n = (se_1jmn[:,None, :, :]*se_jk2m[:, :, None,:]*se_1j2m[None,:,:,None])\n",
    "k3n = (se_1j2m[:,None, None, :]*se_jk2m[:, :, :,None]*se_1jmn[None,:, :, :])\n",
    "\n",
    "# final shape is M1 M1 M2 M2\n",
    "\n",
    "# kernel\n",
    "ker_jkmn = (k1n+k2n+k3n)*(delta_perm1+delta_perm2+delta_perm3 + delta_perm4 + delta_perm5 + delta_perm6)\n",
    "\n"
   ]
  },
  {
   "cell_type": "markdown",
   "metadata": {},
   "source": [
    "PROBLEM\n",
    "\n",
    "In the way we defined the delta functions, the two configurations H-Ni-Ni and Ni-H-H are not equal (and that's right). However, this won't work well for the \"pairwise terms\" in the sum since these should actually recognise those as being equal. What possibly should be done at this point is building a mask of ones and se"
   ]
  },
  {
   "cell_type": "code",
   "execution_count": 12,
   "metadata": {},
   "outputs": [
    {
     "data": {
      "text/plain": [
       "array([[ 0.,  1.,  1.,  1.,  1.],\n",
       "       [ 1.,  0.,  1.,  1.,  1.],\n",
       "       [ 1.,  1.,  0.,  1.,  1.],\n",
       "       [ 1.,  1.,  1.,  0.,  1.],\n",
       "       [ 1.,  1.,  1.,  1.,  0.]])"
      ]
     },
     "execution_count": 12,
     "metadata": {},
     "output_type": "execute_result"
    }
   ],
   "source": [
    "mask_jk = T.ones_like(rjk) - T.identity_like(rjk)\n",
    "mask_mn = T.ones_like(rmn) - T.identity_like(rmn)\n",
    "\n",
    "mask_jkmn = mask_jk[:, :, None, None] * mask_mn[None, None, :, :]\n",
    "\n",
    "mask_jk.eval({rjk: np.zeros((5, 5))})"
   ]
  },
  {
   "cell_type": "code",
   "execution_count": 13,
   "metadata": {},
   "outputs": [],
   "source": [
    "# energy energy kernel\n",
    "kerncut = T.sum(ker_jkmn*mask_jkmn)\n",
    "kfun = function([r1, r2, rho1, rho2, sig], kerncut)\n"
   ]
  },
  {
   "cell_type": "code",
   "execution_count": 14,
   "metadata": {},
   "outputs": [],
   "source": [
    "# energy force kernel\n",
    "G3b_ms = T.grad(kerncut, r1)\n",
    "G3b_ms_fun = function([r1, r2, rho1, rho2, sig], G3b_ms)\n"
   ]
  },
  {
   "cell_type": "markdown",
   "metadata": {},
   "source": [
    "Take Hessian"
   ]
  },
  {
   "cell_type": "code",
   "execution_count": 15,
   "metadata": {},
   "outputs": [],
   "source": [
    "# force force kernel\n",
    "gr1 = T.grad(kerncut, r1)\n",
    "\n",
    "H3b_ms, updates = theano.scan(lambda j, gr1, r2 : T.grad(gr1[j], r2), sequences = T.arange(gr1.shape[0]), non_sequences = [gr1, r2])\n",
    "H3b_ms_fun = function([r1, r2, rho1, rho2, sig], H3b_ms)"
   ]
  },
  {
   "cell_type": "markdown",
   "metadata": {},
   "source": [
    "Saving the kernel"
   ]
  },
  {
   "cell_type": "code",
   "execution_count": 19,
   "metadata": {},
   "outputs": [],
   "source": [
    "from six.moves import cPickle\n",
    "import sys\n",
    "\n",
    "sys.setrecursionlimit(3000)\n",
    "f = open('H3b_ms.save', 'wb')\n",
    "cPickle.dump(H3b_ms_fun, f, protocol=cPickle.HIGHEST_PROTOCOL)\n",
    "f.close()\n",
    "\n",
    "f = open('G3b_ms.save', 'wb')\n",
    "cPickle.dump(G3b_ms_fun, f, protocol=cPickle.HIGHEST_PROTOCOL)\n",
    "f.close()\n",
    "\n",
    "f = open('S3b_ms.save', 'wb')\n",
    "cPickle.dump(kfun, f, protocol=cPickle.HIGHEST_PROTOCOL)\n",
    "f.close()\n"
   ]
  },
  {
   "cell_type": "markdown",
   "metadata": {
    "collapsed": true
   },
   "source": [
    "### Kernel with cutoff function"
   ]
  },
  {
   "cell_type": "code",
   "execution_count": 16,
   "metadata": {},
   "outputs": [],
   "source": [
    "theta = T.dscalar('theta')\n",
    "rc = T.dscalar('rc')\n",
    "\n",
    "ker_jkmn_withcutoff = (k1n+k2n+k3n)*(delta_perm1+delta_perm2+delta_perm3 + delta_perm4 + delta_perm5 + delta_perm6)*(\n",
    "    T.exp(-theta/(rc-r1j[:,None,None,None]))* T.exp(-theta/(rc-r1j[None,:,None,None]))* T.exp(-theta/(rc-rjk[:,:,None,None])) * \n",
    "    T.exp(-theta/(rc-r2m[None,None,None,:]))* T.exp(-theta/(rc-r2m[None,None,:,None]))* T.exp(-theta/(rc-rmn[None,None,:,:])) *\n",
    "(0.5*(T.sgn(rc-rjk[:,:,None,None])+1)) * (0.5*(T.sgn(rc-rmn[None,None,:,:])+1)))\n",
    "\n",
    "k_cutoff = T.sum(ker_jkmn_withcutoff*mask_jkmn)"
   ]
  },
  {
   "cell_type": "code",
   "execution_count": 17,
   "metadata": {},
   "outputs": [
    {
     "ename": "TypeError",
     "evalue": "('Could not convert pi to TensorType', <class 'str'>)",
     "traceback": [
      "\u001b[0;31m---------------------------------------------------------------------------\u001b[0m",
      "\u001b[0;31mKeyError\u001b[0m                                  Traceback (most recent call last)",
      "\u001b[0;32m/Users/aldoglielmo/anaconda/lib/python3.6/site-packages/theano/tensor/type.py\u001b[0m in \u001b[0;36mdtype_specs\u001b[0;34m(self)\u001b[0m\n\u001b[1;32m    269\u001b[0m                 \u001b[0;34m'complex64'\u001b[0m\u001b[0;34m:\u001b[0m \u001b[0;34m(\u001b[0m\u001b[0mcomplex\u001b[0m\u001b[0;34m,\u001b[0m \u001b[0;34m'theano_complex64'\u001b[0m\u001b[0;34m,\u001b[0m \u001b[0;34m'NPY_COMPLEX64'\u001b[0m\u001b[0;34m)\u001b[0m\u001b[0;34m\u001b[0m\u001b[0m\n\u001b[0;32m--> 270\u001b[0;31m             }[self.dtype]\n\u001b[0m\u001b[1;32m    271\u001b[0m         \u001b[0;32mexcept\u001b[0m \u001b[0mKeyError\u001b[0m\u001b[0;34m:\u001b[0m\u001b[0;34m\u001b[0m\u001b[0m\n",
      "\u001b[0;31mKeyError\u001b[0m: '<U2'",
      "\nDuring handling of the above exception, another exception occurred:\n",
      "\u001b[0;31mTypeError\u001b[0m                                 Traceback (most recent call last)",
      "\u001b[0;32m/Users/aldoglielmo/anaconda/lib/python3.6/site-packages/theano/tensor/basic.py\u001b[0m in \u001b[0;36mconstant_or_value\u001b[0;34m(x, rtype, name, ndim, dtype)\u001b[0m\n\u001b[1;32m    249\u001b[0m             rval = rtype(\n\u001b[0;32m--> 250\u001b[0;31m                 \u001b[0mTensorType\u001b[0m\u001b[0;34m(\u001b[0m\u001b[0mdtype\u001b[0m\u001b[0;34m=\u001b[0m\u001b[0mx_\u001b[0m\u001b[0;34m.\u001b[0m\u001b[0mdtype\u001b[0m\u001b[0;34m,\u001b[0m \u001b[0mbroadcastable\u001b[0m\u001b[0;34m=\u001b[0m\u001b[0mbcastable\u001b[0m\u001b[0;34m)\u001b[0m\u001b[0;34m,\u001b[0m\u001b[0;34m\u001b[0m\u001b[0m\n\u001b[0m\u001b[1;32m    251\u001b[0m                 \u001b[0mx_\u001b[0m\u001b[0;34m.\u001b[0m\u001b[0mcopy\u001b[0m\u001b[0;34m(\u001b[0m\u001b[0;34m)\u001b[0m\u001b[0;34m,\u001b[0m\u001b[0;34m\u001b[0m\u001b[0m\n",
      "\u001b[0;32m/Users/aldoglielmo/anaconda/lib/python3.6/site-packages/theano/tensor/type.py\u001b[0m in \u001b[0;36m__init__\u001b[0;34m(self, dtype, broadcastable, name, sparse_grad)\u001b[0m\n\u001b[1;32m     50\u001b[0m         \u001b[0mself\u001b[0m\u001b[0;34m.\u001b[0m\u001b[0mbroadcastable\u001b[0m \u001b[0;34m=\u001b[0m \u001b[0mtuple\u001b[0m\u001b[0;34m(\u001b[0m\u001b[0mbool\u001b[0m\u001b[0;34m(\u001b[0m\u001b[0mb\u001b[0m\u001b[0;34m)\u001b[0m \u001b[0;32mfor\u001b[0m \u001b[0mb\u001b[0m \u001b[0;32min\u001b[0m \u001b[0mbroadcastable\u001b[0m\u001b[0;34m)\u001b[0m\u001b[0;34m\u001b[0m\u001b[0m\n\u001b[0;32m---> 51\u001b[0;31m         \u001b[0mself\u001b[0m\u001b[0;34m.\u001b[0m\u001b[0mdtype_specs\u001b[0m\u001b[0;34m(\u001b[0m\u001b[0;34m)\u001b[0m  \u001b[0;31m# error checking is done there\u001b[0m\u001b[0;34m\u001b[0m\u001b[0m\n\u001b[0m\u001b[1;32m     52\u001b[0m         \u001b[0mself\u001b[0m\u001b[0;34m.\u001b[0m\u001b[0mname\u001b[0m \u001b[0;34m=\u001b[0m \u001b[0mname\u001b[0m\u001b[0;34m\u001b[0m\u001b[0m\n",
      "\u001b[0;32m/Users/aldoglielmo/anaconda/lib/python3.6/site-packages/theano/tensor/type.py\u001b[0m in \u001b[0;36mdtype_specs\u001b[0;34m(self)\u001b[0m\n\u001b[1;32m    272\u001b[0m             raise TypeError(\"Unsupported dtype for %s: %s\"\n\u001b[0;32m--> 273\u001b[0;31m                             % (self.__class__.__name__, self.dtype))\n\u001b[0m\u001b[1;32m    274\u001b[0m \u001b[0;34m\u001b[0m\u001b[0m\n",
      "\u001b[0;31mTypeError\u001b[0m: Unsupported dtype for TensorType: <U2",
      "\nDuring handling of the above exception, another exception occurred:\n",
      "\u001b[0;31mTypeError\u001b[0m                                 Traceback (most recent call last)",
      "\u001b[0;32m<ipython-input-17-5595ac9d7599>\u001b[0m in \u001b[0;36m<module>\u001b[0;34m()\u001b[0m\n\u001b[0;32m----> 1\u001b[0;31m \u001b[0mpi\u001b[0m \u001b[0;34m=\u001b[0m \u001b[0mT\u001b[0m\u001b[0;34m.\u001b[0m\u001b[0mconstant\u001b[0m\u001b[0;34m(\u001b[0m\u001b[0;34m'pi'\u001b[0m\u001b[0;34m)\u001b[0m\u001b[0;34m\u001b[0m\u001b[0m\n\u001b[0m\u001b[1;32m      2\u001b[0m \u001b[0;34m\u001b[0m\u001b[0m\n\u001b[1;32m      3\u001b[0m ker_jkmn_withcutoff_v2 = (k1n+k2n+k3n)*(delta_perm1+delta_perm2+delta_perm3 + delta_perm4 + delta_perm5 + delta_perm6)*(\n\u001b[1;32m      4\u001b[0m     \u001b[0mT\u001b[0m\u001b[0;34m.\u001b[0m\u001b[0mexp\u001b[0m\u001b[0;34m(\u001b[0m\u001b[0;34m-\u001b[0m\u001b[0mtheta\u001b[0m\u001b[0;34m/\u001b[0m\u001b[0;34m(\u001b[0m\u001b[0mrc\u001b[0m\u001b[0;34m-\u001b[0m\u001b[0mr1j\u001b[0m\u001b[0;34m[\u001b[0m\u001b[0;34m:\u001b[0m\u001b[0;34m,\u001b[0m\u001b[0;32mNone\u001b[0m\u001b[0;34m,\u001b[0m\u001b[0;32mNone\u001b[0m\u001b[0;34m,\u001b[0m\u001b[0;32mNone\u001b[0m\u001b[0;34m]\u001b[0m\u001b[0;34m)\u001b[0m\u001b[0;34m)\u001b[0m\u001b[0;34m*\u001b[0m \u001b[0mT\u001b[0m\u001b[0;34m.\u001b[0m\u001b[0mexp\u001b[0m\u001b[0;34m(\u001b[0m\u001b[0;34m-\u001b[0m\u001b[0mtheta\u001b[0m\u001b[0;34m/\u001b[0m\u001b[0;34m(\u001b[0m\u001b[0mrc\u001b[0m\u001b[0;34m-\u001b[0m\u001b[0mr1j\u001b[0m\u001b[0;34m[\u001b[0m\u001b[0;32mNone\u001b[0m\u001b[0;34m,\u001b[0m\u001b[0;34m:\u001b[0m\u001b[0;34m,\u001b[0m\u001b[0;32mNone\u001b[0m\u001b[0;34m,\u001b[0m\u001b[0;32mNone\u001b[0m\u001b[0;34m]\u001b[0m\u001b[0;34m)\u001b[0m\u001b[0;34m)\u001b[0m\u001b[0;34m*\u001b[0m \u001b[0mT\u001b[0m\u001b[0;34m.\u001b[0m\u001b[0mexp\u001b[0m\u001b[0;34m(\u001b[0m\u001b[0;34m-\u001b[0m\u001b[0mtheta\u001b[0m\u001b[0;34m/\u001b[0m\u001b[0;34m(\u001b[0m\u001b[0mrc\u001b[0m\u001b[0;34m-\u001b[0m\u001b[0mrjk\u001b[0m\u001b[0;34m[\u001b[0m\u001b[0;34m:\u001b[0m\u001b[0;34m,\u001b[0m\u001b[0;34m:\u001b[0m\u001b[0;34m,\u001b[0m\u001b[0;32mNone\u001b[0m\u001b[0;34m,\u001b[0m\u001b[0;32mNone\u001b[0m\u001b[0;34m]\u001b[0m\u001b[0;34m)\u001b[0m\u001b[0;34m)\u001b[0m \u001b[0;34m*\u001b[0m\u001b[0;34m\u001b[0m\u001b[0m\n\u001b[1;32m      5\u001b[0m     T.exp(-theta/(rc-r2m[None,None,None,:]))* T.exp(-theta/(rc-r2m[None,None,:,None]))* T.exp(-theta/(rc-rmn[None,None,:,:])) )\n",
      "\u001b[0;32m/Users/aldoglielmo/anaconda/lib/python3.6/site-packages/theano/tensor/basic.py\u001b[0m in \u001b[0;36mconstant\u001b[0;34m(x, name, ndim, dtype)\u001b[0m\n\u001b[1;32m    262\u001b[0m \u001b[0;32mdef\u001b[0m \u001b[0mconstant\u001b[0m\u001b[0;34m(\u001b[0m\u001b[0mx\u001b[0m\u001b[0;34m,\u001b[0m \u001b[0mname\u001b[0m\u001b[0;34m=\u001b[0m\u001b[0;32mNone\u001b[0m\u001b[0;34m,\u001b[0m \u001b[0mndim\u001b[0m\u001b[0;34m=\u001b[0m\u001b[0;32mNone\u001b[0m\u001b[0;34m,\u001b[0m \u001b[0mdtype\u001b[0m\u001b[0;34m=\u001b[0m\u001b[0;32mNone\u001b[0m\u001b[0;34m)\u001b[0m\u001b[0;34m:\u001b[0m\u001b[0;34m\u001b[0m\u001b[0m\n\u001b[1;32m    263\u001b[0m     ret = constant_or_value(x, rtype=TensorConstant, name=name, ndim=ndim,\n\u001b[0;32m--> 264\u001b[0;31m                             dtype=dtype)\n\u001b[0m\u001b[1;32m    265\u001b[0m \u001b[0;34m\u001b[0m\u001b[0m\n\u001b[1;32m    266\u001b[0m     \u001b[0;31m# We create a small cache of frequently used constant.\u001b[0m\u001b[0;34m\u001b[0m\u001b[0;34m\u001b[0m\u001b[0m\n",
      "\u001b[0;32m/Users/aldoglielmo/anaconda/lib/python3.6/site-packages/theano/tensor/basic.py\u001b[0m in \u001b[0;36mconstant_or_value\u001b[0;34m(x, rtype, name, ndim, dtype)\u001b[0m\n\u001b[1;32m    257\u001b[0m                          x_, name=name)\n\u001b[1;32m    258\u001b[0m     \u001b[0;32mexcept\u001b[0m \u001b[0mException\u001b[0m\u001b[0;34m:\u001b[0m\u001b[0;34m\u001b[0m\u001b[0m\n\u001b[0;32m--> 259\u001b[0;31m         \u001b[0;32mraise\u001b[0m \u001b[0mTypeError\u001b[0m\u001b[0;34m(\u001b[0m\u001b[0;34m\"Could not convert %s to TensorType\"\u001b[0m \u001b[0;34m%\u001b[0m \u001b[0mx\u001b[0m\u001b[0;34m,\u001b[0m \u001b[0mtype\u001b[0m\u001b[0;34m(\u001b[0m\u001b[0mx\u001b[0m\u001b[0;34m)\u001b[0m\u001b[0;34m)\u001b[0m\u001b[0;34m\u001b[0m\u001b[0m\n\u001b[0m\u001b[1;32m    260\u001b[0m \u001b[0;34m\u001b[0m\u001b[0m\n\u001b[1;32m    261\u001b[0m \u001b[0;34m\u001b[0m\u001b[0m\n",
      "\u001b[0;31mTypeError\u001b[0m: ('Could not convert pi to TensorType', <class 'str'>)"
     ],
     "output_type": "error"
    }
   ],
   "source": [
    "pi = T.constant('pi')\n",
    "\n",
    "ker_jkmn_withcutoff_v2 = (k1n+k2n+k3n)*(delta_perm1+delta_perm2+delta_perm3 + delta_perm4 + delta_perm5 + delta_perm6)*(\n",
    "    T.exp(-theta/(rc-r1j[:,None,None,None]))* T.exp(-theta/(rc-r1j[None,:,None,None]))* T.exp(-theta/(rc-rjk[:,:,None,None])) * \n",
    "    T.exp(-theta/(rc-r2m[None,None,None,:]))* T.exp(-theta/(rc-r2m[None,None,:,None]))* T.exp(-theta/(rc-rmn[None,None,:,:])) )\n",
    "\n",
    "k_cutoff_v2 = T.sum(ker_jkmn_withcutoff*mask_jkmn)"
   ]
  },
  {
   "cell_type": "code",
   "execution_count": 20,
   "metadata": {},
   "outputs": [],
   "source": [
    "# energy energy kernel\n",
    "k_ee_cut_fun = function([r1, r2, rho1, rho2, sig, theta, rc], k_cutoff)\n",
    "\n",
    "# energy force kernel\n",
    "k_ef_cut = T.grad(k_cutoff, r2)\n",
    "k_ef_cut_fun = function([r1, r2, rho1, rho2, sig, theta, rc], k_ef_cut)\n",
    "\n",
    "# force force kernel\n",
    "k_ff_cut = T.grad(k_cutoff, r1)\n",
    "k_ff_cut_der, updates = theano.scan(lambda j, k_ff_cut, r2 : T.grad(k_ff_cut[j], r2), sequences = T.arange(k_ff_cut.shape[0]), non_sequences = [k_ff_cut, r2])\n",
    "k_ff_cut_fun = function([r1, r2, rho1, rho2, sig, theta, rc], k_ff_cut_der)"
   ]
  },
  {
   "cell_type": "markdown",
   "metadata": {},
   "source": [
    "Saving the cutoff kernels"
   ]
  },
  {
   "cell_type": "code",
   "execution_count": 21,
   "metadata": {},
   "outputs": [
    {
     "ename": "NameError",
     "evalue": "name 'sys' is not defined",
     "traceback": [
      "\u001b[1;31m---------------------------------------------------------------------------\u001b[0m",
      "\u001b[1;31mNameError\u001b[0m                                 Traceback (most recent call last)",
      "\u001b[1;32m<ipython-input-21-f266b06ec0ef>\u001b[0m in \u001b[0;36m<module>\u001b[1;34m()\u001b[0m\n\u001b[1;32m----> 1\u001b[1;33m \u001b[0msys\u001b[0m\u001b[1;33m.\u001b[0m\u001b[0msetrecursionlimit\u001b[0m\u001b[1;33m(\u001b[0m\u001b[1;36m3000\u001b[0m\u001b[1;33m)\u001b[0m\u001b[1;33m\u001b[0m\u001b[0m\n\u001b[0m\u001b[0;32m      2\u001b[0m \u001b[1;33m\u001b[0m\u001b[0m\n\u001b[0;32m      3\u001b[0m \u001b[0mf\u001b[0m \u001b[1;33m=\u001b[0m \u001b[0mopen\u001b[0m\u001b[1;33m(\u001b[0m\u001b[1;34m'3B_ee_ker_cut.save'\u001b[0m\u001b[1;33m,\u001b[0m \u001b[1;34m'wb'\u001b[0m\u001b[1;33m)\u001b[0m\u001b[1;33m\u001b[0m\u001b[0m\n\u001b[0;32m      4\u001b[0m \u001b[0mcPickle\u001b[0m\u001b[1;33m.\u001b[0m\u001b[0mdump\u001b[0m\u001b[1;33m(\u001b[0m\u001b[0mk_ee_cut_fun\u001b[0m\u001b[1;33m,\u001b[0m \u001b[0mf\u001b[0m\u001b[1;33m,\u001b[0m \u001b[0mprotocol\u001b[0m\u001b[1;33m=\u001b[0m\u001b[0mcPickle\u001b[0m\u001b[1;33m.\u001b[0m\u001b[0mHIGHEST_PROTOCOL\u001b[0m\u001b[1;33m)\u001b[0m\u001b[1;33m\u001b[0m\u001b[0m\n\u001b[0;32m      5\u001b[0m \u001b[0mf\u001b[0m\u001b[1;33m.\u001b[0m\u001b[0mclose\u001b[0m\u001b[1;33m(\u001b[0m\u001b[1;33m)\u001b[0m\u001b[1;33m\u001b[0m\u001b[0m\n",
      "\u001b[1;31mNameError\u001b[0m: name 'sys' is not defined"
     ],
     "output_type": "error"
    }
   ],
   "source": [
    "sys.setrecursionlimit(3000)\n",
    "\n",
    "f = open('3B_ee_ker_cut.save', 'wb')\n",
    "cPickle.dump(k_ee_cut_fun, f, protocol=cPickle.HIGHEST_PROTOCOL)\n",
    "f.close()\n",
    "\n",
    "f = open('3B_ef_ker_cut.save', 'wb')\n",
    "cPickle.dump(k_ef_cut_fun, f, protocol=cPickle.HIGHEST_PROTOCOL)\n",
    "f.close()\n",
    "f = open('3B_ff_ker_cut.save', 'wb')\n",
    "cPickle.dump(k_ff_cut_fun, f, protocol=cPickle.HIGHEST_PROTOCOL)\n",
    "f.close()"
   ]
  },
  {
   "cell_type": "markdown",
   "metadata": {},
   "source": [
    "### Tests"
   ]
  },
  {
   "cell_type": "markdown",
   "metadata": {},
   "source": [
    "Test on a single configuration"
   ]
  },
  {
   "cell_type": "code",
   "execution_count": 17,
   "metadata": {},
   "outputs": [
    {
     "name": "stdout",
     "output_type": "stream",
     "text": [
      "((3L, 5L), (4L, 5L))\n"
     ]
    }
   ],
   "source": [
    "rho1n = np.array([[1, 2, 3, 1, 3],\n",
    "                  [1, 2, 4, 1, 4],\n",
    "                  [1, 2, 1, 1, 1]])\n",
    "\n",
    "rho2n = np.array([[1.2, 2.1, 3.3, 1, 3],\n",
    "                  [1.7, 2.1, 4.6, 1, 4],\n",
    "                  [1.2, 2.1, 1.2, 1, 1], \n",
    "                  [1.3, 2.2, 1.4, 1.5, 1.1]])\n",
    "\n",
    "print(rho1n.shape , rho2n.shape)"
   ]
  },
  {
   "cell_type": "code",
   "execution_count": 18,
   "metadata": {},
   "outputs": [
    {
     "ename": "NameError",
     "evalue": "name 'k_ff_cut_fun' is not defined",
     "traceback": [
      "\u001b[1;31m---------------------------------------------------------------------------\u001b[0m",
      "\u001b[1;31mNameError\u001b[0m                                 Traceback (most recent call last)",
      "\u001b[1;32m<ipython-input-18-c74fe397e7e0>\u001b[0m in \u001b[0;36m<module>\u001b[1;34m()\u001b[0m\n\u001b[0;32m      1\u001b[0m \u001b[1;32mimport\u001b[0m \u001b[0mdatetime\u001b[0m\u001b[1;33m\u001b[0m\u001b[0m\n\u001b[0;32m      2\u001b[0m \u001b[0mt0\u001b[0m \u001b[1;33m=\u001b[0m \u001b[0mdatetime\u001b[0m\u001b[1;33m.\u001b[0m\u001b[0mdatetime\u001b[0m\u001b[1;33m.\u001b[0m\u001b[0mnow\u001b[0m\u001b[1;33m(\u001b[0m\u001b[1;33m)\u001b[0m\u001b[1;33m\u001b[0m\u001b[0m\n\u001b[1;32m----> 3\u001b[1;33m \u001b[0mmat_cut\u001b[0m \u001b[1;33m=\u001b[0m \u001b[0mk_ff_cut_fun\u001b[0m\u001b[1;33m(\u001b[0m\u001b[0mnp\u001b[0m\u001b[1;33m.\u001b[0m\u001b[0marray\u001b[0m\u001b[1;33m(\u001b[0m\u001b[1;33m[\u001b[0m\u001b[1;36m0\u001b[0m\u001b[1;33m,\u001b[0m\u001b[1;36m0\u001b[0m\u001b[1;33m,\u001b[0m\u001b[1;36m0\u001b[0m\u001b[1;33m]\u001b[0m\u001b[1;33m)\u001b[0m\u001b[1;33m,\u001b[0m \u001b[0mnp\u001b[0m\u001b[1;33m.\u001b[0m\u001b[0marray\u001b[0m\u001b[1;33m(\u001b[0m\u001b[1;33m[\u001b[0m\u001b[1;36m0\u001b[0m\u001b[1;33m,\u001b[0m\u001b[1;36m0\u001b[0m\u001b[1;33m,\u001b[0m\u001b[1;36m0\u001b[0m\u001b[1;33m]\u001b[0m\u001b[1;33m)\u001b[0m\u001b[1;33m,\u001b[0m \u001b[0mrho1n\u001b[0m\u001b[1;33m,\u001b[0m \u001b[0mrho2n\u001b[0m\u001b[1;33m,\u001b[0m \u001b[1;36m1.\u001b[0m\u001b[1;33m,\u001b[0m \u001b[1;36m.0001\u001b[0m\u001b[1;33m,\u001b[0m \u001b[1;36m100000.0\u001b[0m\u001b[1;33m)\u001b[0m\u001b[1;33m\u001b[0m\u001b[0m\n\u001b[0m\u001b[0;32m      4\u001b[0m \u001b[0mtf\u001b[0m \u001b[1;33m=\u001b[0m \u001b[0mdatetime\u001b[0m\u001b[1;33m.\u001b[0m\u001b[0mdatetime\u001b[0m\u001b[1;33m.\u001b[0m\u001b[0mnow\u001b[0m\u001b[1;33m(\u001b[0m\u001b[1;33m)\u001b[0m\u001b[1;33m\u001b[0m\u001b[0m\n\u001b[0;32m      5\u001b[0m \u001b[1;32mprint\u001b[0m\u001b[1;33m(\u001b[0m\u001b[1;34m\"Cutoff kernel\"\u001b[0m\u001b[1;33m,\u001b[0m\u001b[1;33m(\u001b[0m\u001b[0mtf\u001b[0m\u001b[1;33m-\u001b[0m\u001b[0mt0\u001b[0m\u001b[1;33m)\u001b[0m\u001b[1;33m.\u001b[0m\u001b[0mtotal_seconds\u001b[0m\u001b[1;33m(\u001b[0m\u001b[1;33m)\u001b[0m\u001b[1;33m)\u001b[0m\u001b[1;33m\u001b[0m\u001b[0m\n",
      "\u001b[1;31mNameError\u001b[0m: name 'k_ff_cut_fun' is not defined"
     ],
     "output_type": "error"
    }
   ],
   "source": [
    "import datetime\n",
    "t0 = datetime.datetime.now()\n",
    "mat_cut = k_ff_cut_fun(np.array([0,0,0]), np.array([0,0,0]), rho1n, rho2n, 1., .0001, 100000.0)\n",
    "tf = datetime.datetime.now()\n",
    "print(\"Cutoff kernel\",(tf-t0).total_seconds())\n",
    "\n",
    "t0 = datetime.datetime.now()\n",
    "mat = H3b_ms_fun(np.array([0,0,0]), np.array([0,0,0]),rho1n, rho2n, 1., )\n",
    "tf = datetime.datetime.now()\n",
    "print(\"Simple kernel\", (tf-t0).total_seconds())\n",
    "\n",
    "print(mat_cut)\n",
    "print(mat)"
   ]
  },
  {
   "cell_type": "code",
   "execution_count": null,
   "metadata": {},
   "outputs": [],
   "source": [
    "f = open('H3b_ms.save', 'rb')\n",
    "Hessian_3b_mcs = cPickle.load(f)\n",
    "f.close()"
   ]
  },
  {
   "cell_type": "code",
   "execution_count": null,
   "metadata": {
    "collapsed": true
   },
   "outputs": [],
   "source": [
    "mat2 = Hessian_3b_mcs([0,0,0], [0,0,0], rho1n, rho2n, 100.)"
   ]
  },
  {
   "cell_type": "code",
   "execution_count": null,
   "metadata": {},
   "outputs": [],
   "source": [
    "mat"
   ]
  },
  {
   "cell_type": "code",
   "execution_count": null,
   "metadata": {},
   "outputs": [],
   "source": [
    "mat2"
   ]
  },
  {
   "cell_type": "code",
   "execution_count": null,
   "metadata": {},
   "outputs": [],
   "source": [
    "print(mat)\n",
    "print(np.isclose(mat,matT.T))"
   ]
  },
  {
   "cell_type": "code",
   "execution_count": null,
   "metadata": {},
   "outputs": [],
   "source": [
    "np.linalg.eigvalsh(mat)"
   ]
  },
  {
   "cell_type": "markdown",
   "metadata": {},
   "source": [
    "Tests on random configurations"
   ]
  },
  {
   "cell_type": "code",
   "execution_count": 57,
   "metadata": {},
   "outputs": [
    {
     "name": "stdout",
     "output_type": "stream",
     "text": [
      "('Simple kernel', 3.35)\n",
      "('Cutoff kernel', 5.85)\n"
     ]
    }
   ],
   "source": [
    "n = 100\n",
    "d = 3\n",
    "nn = 2\n",
    "confs = (np.random.rand(n, nn, d+2)-0.5)*100\n",
    "\n",
    "#cov_sim_fun(np.zeros(d),np.zeros(d),confs[i],confs[j], 1.)\n",
    "#Hfun2(np.zeros(d),confs[i],np.zeros(d),confs[j], 1.)\n",
    "\n",
    "\n",
    "gram = np.zeros((n*d,n*d))\n",
    "\n",
    "t0 = datetime.datetime.now()\n",
    "for i in np.arange(n):\n",
    "    for j in np.arange(n):\n",
    "        gram[d*i:d*(i+1),d*j:d*(j+1)] = H3b_ms_fun(np.zeros(d),np.zeros(d), confs[i],confs[j], 10000.)\n",
    "tf = datetime.datetime.now()\n",
    "print(\"Simple kernel\", (tf-t0).total_seconds())\n",
    "\n",
    "t0 = datetime.datetime.now()\n",
    "for i in np.arange(n):\n",
    "    for j in np.arange(n):\n",
    "        gram[d*i:d*(i+1),d*j:d*(j+1)] = k_ff_cut_fun(np.zeros(d),np.zeros(d), confs[i],confs[j], 10000., 0.4, 10.0)\n",
    "tf = datetime.datetime.now()\n",
    "print(\"Cutoff kernel\", (tf-t0).total_seconds())     "
   ]
  },
  {
   "cell_type": "code",
   "execution_count": null,
   "metadata": {},
   "outputs": [],
   "source": [
    "print(gram)"
   ]
  },
  {
   "cell_type": "code",
   "execution_count": null,
   "metadata": {},
   "outputs": [],
   "source": [
    "np.isclose(gram, gram.T).all()"
   ]
  },
  {
   "cell_type": "code",
   "execution_count": null,
   "metadata": {},
   "outputs": [],
   "source": [
    "import matplotlib.pyplot as plt\n",
    "eigs, eigvecs = np.linalg.eigh(gram)\n",
    "print(np.min(eigs))\n",
    "print(np.max(eigs))\n",
    "plt.hist(eigs[:], 40)\n",
    "plt.show()"
   ]
  },
  {
   "cell_type": "code",
   "execution_count": null,
   "metadata": {
    "collapsed": true
   },
   "outputs": [],
   "source": []
  },
  {
   "cell_type": "code",
   "execution_count": null,
   "metadata": {
    "collapsed": true
   },
   "outputs": [],
   "source": []
  },
  {
   "cell_type": "code",
   "execution_count": null,
   "metadata": {
    "collapsed": true
   },
   "outputs": [],
   "source": []
  }
 ],
 "metadata": {
  "kernelspec": {
   "display_name": "Python 3",
   "language": "python",
   "name": "python3"
  },
  "language_info": {
   "codemirror_mode": {
    "name": "ipython",
    "version": 3
   },
   "file_extension": ".py",
   "mimetype": "text/x-python",
   "name": "python",
   "nbconvert_exporter": "python",
   "pygments_lexer": "ipython3",
   "version": "3.6.4"
  }
 },
 "nbformat": 4,
 "nbformat_minor": 2
}
