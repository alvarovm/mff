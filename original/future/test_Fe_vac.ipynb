{
 "cells": [
  {
   "cell_type": "code",
   "execution_count": 2,
   "metadata": {
    "ExecuteTime": {
     "end_time": "2018-06-08T11:19:09.927198Z",
     "start_time": "2018-06-08T11:19:09.924143Z"
    }
   },
   "outputs": [],
   "source": [
    "import sys\n",
    "sys.path.append('..')"
   ]
  },
  {
   "cell_type": "code",
   "execution_count": 3,
   "metadata": {
    "ExecuteTime": {
     "end_time": "2018-06-08T11:19:10.780146Z",
     "start_time": "2018-06-08T11:19:10.265936Z"
    }
   },
   "outputs": [],
   "source": [
    "import os\n",
    "import logging\n",
    "\n",
    "import numpy as np\n",
    "import matplotlib.pyplot as plt\n",
    "from ase.io import read\n",
    "from original import better_MFF_database\n",
    "from original.better_MFF_database import carve_confs\n",
    "from original import Kernels\n",
    "from original import GP_for_MFF\n",
    "\n",
    "better_MFF_database.USE_ASAP = False\n",
    "logging.basicConfig(level=logging.INFO)"
   ]
  },
  {
   "cell_type": "code",
   "execution_count": 4,
   "metadata": {
    "ExecuteTime": {
     "end_time": "2018-06-08T11:19:10.786790Z",
     "start_time": "2018-06-08T11:19:10.782680Z"
    }
   },
   "outputs": [],
   "source": [
    "# Parameters\n",
    "directory = 'data/Fe_vac/'\n",
    "r_cut = 4.45\n",
    "sigma = 0.6\n",
    "noise = 0.0001\n",
    "# ntest = 20\n",
    "\n",
    "combine_2b_3b = True"
   ]
  },
  {
   "cell_type": "code",
   "execution_count": 5,
   "metadata": {
    "ExecuteTime": {
     "end_time": "2018-06-08T11:19:11.741044Z",
     "start_time": "2018-06-08T11:19:11.737336Z"
    },
    "scrolled": true
   },
   "outputs": [],
   "source": [
    "# # ----------------------------------------\n",
    "# # Construct a configuration database\n",
    "# # ----------------------------------------\n",
    "\n",
    "\n",
    "# n_data = 5000\n",
    "\n",
    "# filename = directory + 'movie.xyz'\n",
    "\n",
    "# traj = read(filename, index=slice(None), format='extxyz')\n",
    "\n",
    "# elements, confs, forces, energies = carve_confs(traj, r_cut, n_data,\n",
    "#                                                 forces_label='force', energy_label='energy', USE_ASAP=True)\n",
    "\n",
    "# if not os.path.exists(directory):\n",
    "#     os.makedirs(directory)\n",
    "\n",
    "# np.save('{}/confs_cut={:.2f}.npy'.format(directory, r_cut), confs)\n",
    "# np.save('{}/forces_cut={:.2f}.npy'.format(directory, r_cut), forces)\n",
    "# np.save('{}/energies_cut={:.2f}.npy'.format(directory, r_cut), energies)\n",
    "\n",
    "# lens = [len(conf) for conf in confs]\n",
    "\n",
    "# logging.info('\\n'.join((\n",
    "#     'Number of atoms in a configuration:',\n",
    "#     '   maximum: {}'.format(np.max(lens)),\n",
    "#     '   minimum: {}'.format(np.min(lens)),\n",
    "#     '   average: {:.4}'.format(np.mean(lens))\n",
    "# )))\n"
   ]
  },
  {
   "cell_type": "code",
   "execution_count": 6,
   "metadata": {
    "ExecuteTime": {
     "end_time": "2018-06-08T11:19:12.208892Z",
     "start_time": "2018-06-08T11:19:12.177240Z"
    }
   },
   "outputs": [],
   "source": [
    "# ----------------------------------------\n",
    "# Test a simple GP on the built database\n",
    "# ----------------------------------------\n",
    "\n",
    "# Parameters\n",
    "# ntr = 100\n",
    "ntr = 50\n",
    "ntest = 5\n",
    "\n",
    "# Get configurations and forces from file\n",
    "confs = np.load(str(directory + 'confs_cut={:.2f}.npy'.format(r_cut)))\n",
    "forces = np.load(str(directory + 'forces_cut={:.2f}.npy'.format(r_cut)))\n",
    "numconfs = len(forces)\n",
    "ind = np.arange(numconfs)\n",
    "# np.random.seed(61326)\n",
    "# ind_tot = np.random.choice(ind, size=ntr + ntest, replace=False)\n",
    "\n",
    "# Separate into random testing and training dataset\n",
    "# tr_confs, tr_forces = confs[ind[:ntr]], forces[ind[:ntr]]\n",
    "# tst_confs, tst_forces = confs[ind[ntr:]], forces[ind[ntr:]]\n",
    "\n",
    "# Use fixed training and testing dataset\n",
    "tr_confs, tr_forces = confs[:ntr], forces[:ntr]\n",
    "tst_confs, tst_forces = confs[-ntest - 1:-1], forces[-ntest - 1:-1]\n"
   ]
  },
  {
   "cell_type": "code",
   "execution_count": 7,
   "metadata": {
    "ExecuteTime": {
     "end_time": "2018-06-10T18:19:02.771523Z",
     "start_time": "2018-06-08T11:19:12.709736Z"
    },
    "scrolled": false
   },
   "outputs": [
    {
     "name": "stdout",
     "output_type": "stream",
     "text": [
      "Started compilation of theano two body single species kernels\n"
     ]
    },
    {
     "name": "stderr",
     "output_type": "stream",
     "text": [
      "INFO:theano.gof.compilelock:Waiting for existing lock by process '52033' (I am process '50403')\n",
      "INFO:theano.gof.compilelock:To manually release the lock, delete /Users/fekad/.theano/compiledir_Darwin-17.5.0-x86_64-i386-64bit-i386-3.6.5-64/lock_dir\n",
      "INFO:theano.gof.compilelock:Waiting for existing lock by process '52033' (I am process '50403')\n",
      "INFO:theano.gof.compilelock:To manually release the lock, delete /Users/fekad/.theano/compiledir_Darwin-17.5.0-x86_64-i386-64bit-i386-3.6.5-64/lock_dir\n",
      "INFO:theano.gof.compilelock:Waiting for existing lock by process '52033' (I am process '50403')\n",
      "INFO:theano.gof.compilelock:To manually release the lock, delete /Users/fekad/.theano/compiledir_Darwin-17.5.0-x86_64-i386-64bit-i386-3.6.5-64/lock_dir\n",
      "INFO:theano.gof.compilelock:Waiting for existing lock by process '52033' (I am process '50403')\n",
      "INFO:theano.gof.compilelock:To manually release the lock, delete /Users/fekad/.theano/compiledir_Darwin-17.5.0-x86_64-i386-64bit-i386-3.6.5-64/lock_dir\n",
      "INFO:theano.gof.compilelock:Waiting for existing lock by process '52033' (I am process '50403')\n",
      "INFO:theano.gof.compilelock:To manually release the lock, delete /Users/fekad/.theano/compiledir_Darwin-17.5.0-x86_64-i386-64bit-i386-3.6.5-64/lock_dir\n",
      "INFO:theano.gof.compilelock:Waiting for existing lock by process '52033' (I am process '50403')\n",
      "INFO:theano.gof.compilelock:To manually release the lock, delete /Users/fekad/.theano/compiledir_Darwin-17.5.0-x86_64-i386-64bit-i386-3.6.5-64/lock_dir\n",
      "INFO:theano.gof.compilelock:Waiting for existing lock by process '52033' (I am process '50403')\n",
      "INFO:theano.gof.compilelock:To manually release the lock, delete /Users/fekad/.theano/compiledir_Darwin-17.5.0-x86_64-i386-64bit-i386-3.6.5-64/lock_dir\n",
      "INFO:theano.gof.compilelock:Waiting for existing lock by process '52033' (I am process '50403')\n",
      "INFO:theano.gof.compilelock:To manually release the lock, delete /Users/fekad/.theano/compiledir_Darwin-17.5.0-x86_64-i386-64bit-i386-3.6.5-64/lock_dir\n",
      "INFO:theano.gof.compilelock:Waiting for existing lock by process '52033' (I am process '50403')\n",
      "INFO:theano.gof.compilelock:To manually release the lock, delete /Users/fekad/.theano/compiledir_Darwin-17.5.0-x86_64-i386-64bit-i386-3.6.5-64/lock_dir\n",
      "INFO:theano.gof.compilelock:Waiting for existing lock by process '52033' (I am process '50403')\n",
      "INFO:theano.gof.compilelock:To manually release the lock, delete /Users/fekad/.theano/compiledir_Darwin-17.5.0-x86_64-i386-64bit-i386-3.6.5-64/lock_dir\n",
      "INFO:theano.gof.compilelock:Waiting for existing lock by process '52033' (I am process '50403')\n",
      "INFO:theano.gof.compilelock:To manually release the lock, delete /Users/fekad/.theano/compiledir_Darwin-17.5.0-x86_64-i386-64bit-i386-3.6.5-64/lock_dir\n",
      "INFO:theano.gof.compilelock:Waiting for existing lock by process '52033' (I am process '50403')\n",
      "INFO:theano.gof.compilelock:To manually release the lock, delete /Users/fekad/.theano/compiledir_Darwin-17.5.0-x86_64-i386-64bit-i386-3.6.5-64/lock_dir\n",
      "INFO:theano.gof.compilelock:Waiting for existing lock by process '52033' (I am process '50403')\n",
      "INFO:theano.gof.compilelock:To manually release the lock, delete /Users/fekad/.theano/compiledir_Darwin-17.5.0-x86_64-i386-64bit-i386-3.6.5-64/lock_dir\n",
      "INFO:theano.gof.compilelock:Waiting for existing lock by process '52033' (I am process '50403')\n",
      "INFO:theano.gof.compilelock:To manually release the lock, delete /Users/fekad/.theano/compiledir_Darwin-17.5.0-x86_64-i386-64bit-i386-3.6.5-64/lock_dir\n",
      "INFO:theano.gof.compilelock:Waiting for existing lock by process '52033' (I am process '50403')\n",
      "INFO:theano.gof.compilelock:To manually release the lock, delete /Users/fekad/.theano/compiledir_Darwin-17.5.0-x86_64-i386-64bit-i386-3.6.5-64/lock_dir\n",
      "INFO:theano.gof.compilelock:Waiting for existing lock by process '52033' (I am process '50403')\n",
      "INFO:theano.gof.compilelock:To manually release the lock, delete /Users/fekad/.theano/compiledir_Darwin-17.5.0-x86_64-i386-64bit-i386-3.6.5-64/lock_dir\n",
      "INFO:theano.gof.compilelock:Waiting for existing lock by process '52033' (I am process '50403')\n",
      "INFO:theano.gof.compilelock:To manually release the lock, delete /Users/fekad/.theano/compiledir_Darwin-17.5.0-x86_64-i386-64bit-i386-3.6.5-64/lock_dir\n",
      "INFO:theano.gof.compilelock:Waiting for existing lock by process '52033' (I am process '50403')\n",
      "INFO:theano.gof.compilelock:To manually release the lock, delete /Users/fekad/.theano/compiledir_Darwin-17.5.0-x86_64-i386-64bit-i386-3.6.5-64/lock_dir\n",
      "INFO:theano.gof.compilelock:Waiting for existing lock by process '52033' (I am process '50403')\n",
      "INFO:theano.gof.compilelock:To manually release the lock, delete /Users/fekad/.theano/compiledir_Darwin-17.5.0-x86_64-i386-64bit-i386-3.6.5-64/lock_dir\n",
      "INFO:theano.gof.compilelock:Waiting for existing lock by process '52033' (I am process '50403')\n",
      "INFO:theano.gof.compilelock:To manually release the lock, delete /Users/fekad/.theano/compiledir_Darwin-17.5.0-x86_64-i386-64bit-i386-3.6.5-64/lock_dir\n",
      "INFO:theano.gof.compilelock:Waiting for existing lock by process '52033' (I am process '50403')\n",
      "INFO:theano.gof.compilelock:To manually release the lock, delete /Users/fekad/.theano/compiledir_Darwin-17.5.0-x86_64-i386-64bit-i386-3.6.5-64/lock_dir\n",
      "INFO:theano.gof.compilelock:Waiting for existing lock by process '52033' (I am process '50403')\n",
      "INFO:theano.gof.compilelock:To manually release the lock, delete /Users/fekad/.theano/compiledir_Darwin-17.5.0-x86_64-i386-64bit-i386-3.6.5-64/lock_dir\n",
      "INFO:theano.gof.compilelock:Waiting for existing lock by process '52033' (I am process '50403')\n",
      "INFO:theano.gof.compilelock:To manually release the lock, delete /Users/fekad/.theano/compiledir_Darwin-17.5.0-x86_64-i386-64bit-i386-3.6.5-64/lock_dir\n"
     ]
    },
    {
     "name": "stdout",
     "output_type": "stream",
     "text": [
      "Ended compilation of theano two body single species kernels\n",
      "Training 2B GP\n",
      "Saved Gaussian process with name: data/Fe_vac/gp_ker=2_ntr=50_sig=0.30_cut=4.45\n",
      "Started compilation of theano three body single species kernels\n",
      "Ended compilation of theano three body single species kernels\n",
      "Training 3B GP\n",
      "Saved Gaussian process with name: data/Fe_vac/gp_ker=3_ntr=50_sig=0.60_cut=4.45\n",
      "Testing GP\n",
      "2 body MAEF on forces: 0.1317 +- 0.0672\n",
      "MAEF on forces: 0.1125 +- 0.0858\n",
      "Relative MAEF on forces: 0.1641 +- 0.1252\n"
     ]
    }
   ],
   "source": [
    "two_body_train_forces = np.zeros((ntr, 3))\n",
    "    \n",
    "if combine_2b_3b:\n",
    "    # First train with a 2 body\n",
    "    ker_2 = Kernels.TwoBodySingleSpecies(theta=[sigma / 2.0, r_cut / 10.0, r_cut])\n",
    "    gp_2 = GP_for_MFF.GaussianProcess(kernel=ker_2, noise=noise, optimizer=None)\n",
    "    print('Training 2B GP')\n",
    "    gp_2.fit(tr_confs, tr_forces)\n",
    "\n",
    "    gp_2_name = 'gp_ker=2_ntr={}_sig={:.2f}_cut={:.2f}'.format(ntr, sigma / 2.0, r_cut)\n",
    "    gp_2.save(directory + gp_2_name)\n",
    "\n",
    "    # Calculate the predictions of the 2body on the training set\n",
    "    for i in range(ntr):\n",
    "        two_body_train_forces[i] = gp_2.predict(np.reshape(tr_confs[i], (1, len(tr_confs[i]), 5)))\n",
    "\n",
    "\n",
    "# Then train with a 2 body on the difference between tr_force and tr_force obtained with the two body\n",
    "ker_3 = Kernels.ThreeBodySingleSpecies(theta=[sigma, r_cut / 10.0, r_cut])\n",
    "gp_3 = GP_for_MFF.GaussianProcess(kernel=ker_3, noise=noise, optimizer=None)\n",
    "print('Training 3B GP')\n",
    "gp_3.fit(tr_confs, tr_forces - two_body_train_forces)\n",
    "\n",
    "gp_3_name = 'gp_ker=3_ntr={}_sig={:.2f}_cut={:.2f}'.format(ntr, sigma, r_cut)\n",
    "gp_3.save(directory + gp_3_name)\n",
    "\n",
    "# Test the GP performance\n",
    "print('Testing GP')\n",
    "\n",
    "gp_3b_forces = np.zeros((ntest, 3))\n",
    "gp_error = np.zeros((ntest, 3))\n",
    "gp_2b_error = np.zeros((ntest, 3))\n",
    "gp_2b_forces = np.zeros((ntest, 3))\n",
    "\n",
    "for i in np.arange(ntest):\n",
    "    if combine_2b_3b:\n",
    "        gp_2b_forces[i, :] = gp_2.predict(np.reshape(tst_confs[i], (1, len(tst_confs[i]), 5)))\n",
    "        gp_2b_error[i, :] = gp_2b_forces[i, :] - tst_forces[i, :]\n",
    "    gp_3b_forces[i, :] = gp_3.predict(np.reshape(tst_confs[i], (1, len(tst_confs[i]), 5)))\n",
    "    gp_error[i, :] = gp_2b_forces[i, :] + gp_3b_forces[i, :] - tst_forces[i, :]\n",
    "\n",
    "MAEF = np.mean(np.sqrt(np.sum(np.square(gp_error), axis=1)))\n",
    "SMAEF = np.std(np.sqrt(np.sum(np.square(gp_error), axis=1)))\n",
    "MAEF_2B = np.mean(np.sqrt(np.sum(np.square(gp_2b_error), axis=1)))\n",
    "SMAE_2B = np.std(np.sqrt(np.sum(np.square(gp_2b_error), axis=1)))\n",
    "\n",
    "MF = np.mean(np.linalg.norm(tst_forces, axis=1))\n",
    "\n",
    "print('2 body MAEF on forces: {:.4f} +- {:.4f}'.format(MAEF_2B, SMAE_2B))\n",
    "print('MAEF on forces: {:.4f} +- {:.4f}'.format(MAEF, SMAEF))\n",
    "print('Relative MAEF on forces: {:.4f} +- {:.4f}'.format(MAEF / MF, SMAEF / MF))\n",
    "# 2 body MAEF on forces: 0.1539 +- 0.0901\n",
    "# MAEF on forces: 0.3648 +- 0.1103\n",
    "# Relative MAEF on forces: 0.4245 +- 0.1284\n"
   ]
  },
  {
   "cell_type": "code",
   "execution_count": 28,
   "metadata": {
    "ExecuteTime": {
     "end_time": "2018-05-26T12:21:31.418556Z",
     "start_time": "2018-05-26T12:21:31.412635Z"
    }
   },
   "outputs": [
    {
     "name": "stdout",
     "output_type": "stream",
     "text": [
      "2 body MAEF on forces: 0.1317 +- 0.0672\n",
      "MAEF on forces: 0.1125 +- 0.0858\n",
      "Relative MAEF on forces: 0.1641 +- 0.1252\n"
     ]
    }
   ],
   "source": [
    "for i in np.arange(ntest):\n",
    "    gp_error[i, :] = gp_2b_forces[i, :] + gp_3b_forces[i, :] - tst_forces[i, :]\n",
    "\n",
    "MAEF = np.mean(np.sqrt(np.sum(np.square(gp_error), axis=1)))\n",
    "SMAEF = np.std(np.sqrt(np.sum(np.square(gp_error), axis=1)))\n",
    "MAEF_2B = np.mean(np.sqrt(np.sum(np.square(gp_2b_error), axis=1)))\n",
    "SMAE_2B = np.std(np.sqrt(np.sum(np.square(gp_2b_error), axis=1)))\n",
    "\n",
    "MF = np.mean(np.linalg.norm(tst_forces, axis=1))\n",
    "\n",
    "print('2 body MAEF on forces: {:.4f} +- {:.4f}'.format(MAEF_2B, SMAE_2B))\n",
    "print('MAEF on forces: {:.4f} +- {:.4f}'.format(MAEF, SMAEF))\n",
    "print('Relative MAEF on forces: {:.4f} +- {:.4f}'.format(MAEF / MF, SMAEF / MF))\n"
   ]
  },
  {
   "cell_type": "code",
   "execution_count": 29,
   "metadata": {
    "ExecuteTime": {
     "end_time": "2018-05-26T12:21:31.423690Z",
     "start_time": "2018-05-26T12:21:31.421126Z"
    }
   },
   "outputs": [],
   "source": [
    "# %load_ext autoreload\n",
    "# %autoreload 1\n",
    "# %aimport original.create_MFF_grid"
   ]
  },
  {
   "cell_type": "code",
   "execution_count": 30,
   "metadata": {
    "ExecuteTime": {
     "end_time": "2018-05-26T12:21:31.875759Z",
     "start_time": "2018-05-26T12:21:31.425647Z"
    }
   },
   "outputs": [
    {
     "name": "stdout",
     "output_type": "stream",
     "text": [
      "Saved mapping with name MFF_2b_ntr_50_sig_0.30_cut_4.45.npy\n"
     ]
    }
   ],
   "source": [
    "# ----------------------------------------\n",
    "# Mapping\n",
    "# ----------------------------------------\n",
    "import original.create_MFF_grid as create_MFF_grid\n",
    "\n",
    "grid_start = 1.5\n",
    "elementslist = [26]\n",
    "num = 100\n",
    "\n",
    "mapping_2b = create_MFF_grid.SingleSpecies(gp_2, grid_start, r_cut, num, elementslist[0])\n",
    "all_grids_2b = mapping_2b.build_grids()\n",
    "\n",
    "remap_name_2b = 'MFF_{}b_ntr_{}_sig_{:.2f}_cut_{:.2f}.npy'.format(2, ntr, sigma / 2., r_cut)\n",
    "\n",
    "np.save(directory + '/' + remap_name_2b, all_grids_2b)\n",
    "print('Saved mapping with name {}'.format(remap_name_2b))\n"
   ]
  },
  {
   "cell_type": "code",
   "execution_count": 31,
   "metadata": {
    "ExecuteTime": {
     "end_time": "2018-05-26T12:21:31.991527Z",
     "start_time": "2018-05-26T12:21:31.878273Z"
    }
   },
   "outputs": [
    {
     "data": {
      "text/plain": [
       "[<matplotlib.lines.Line2D at 0x1c1a7e8668>]"
      ]
     },
     "execution_count": 31,
     "metadata": {},
     "output_type": "execute_result"
    },
    {
     "data": {
      "image/png": "[encoded data removed]",
      "text/plain": [
       "<Figure size 432x288 with 1 Axes>"
      ]
     },
     "metadata": {},
     "output_type": "display_data"
    }
   ],
   "source": [
    "from m_ff.interpolation import Spline3D, Spline1D\n",
    "import matplotlib.pyplot as plt\n",
    "\n",
    "plt.plot(all_grids_2b[0], all_grids_2b[3])\n",
    "\n",
    "mapped_2b = Spline1D(all_grids_2b[0],all_grids_2b[3])\n",
    "plt.plot(all_grids_2b[0], mapped_2b(all_grids_2b[0], nu=0))\n",
    "plt.plot(all_grids_2b[0], mapped_2b(all_grids_2b[0], nu=1))\n"
   ]
  },
  {
   "cell_type": "code",
   "execution_count": 32,
   "metadata": {
    "ExecuteTime": {
     "end_time": "2018-05-26T12:21:32.008738Z",
     "start_time": "2018-05-26T12:21:31.994299Z"
    }
   },
   "outputs": [
    {
     "name": "stdout",
     "output_type": "stream",
     "text": [
      "test 0\n",
      "[0.686 0.274 0.05 ]\n",
      "[0.686 0.351 0.003]\n",
      "[0.686 0.351 0.003]\n",
      "test 1\n",
      "[-1.048 -0.434 -0.125]\n",
      "[-0.966 -0.342 -0.15 ]\n",
      "[-0.966 -0.341 -0.15 ]\n",
      "test 2\n",
      "[ 0.55  -0.032 -0.092]\n",
      "[ 0.563 -0.071 -0.169]\n",
      "[ 0.563 -0.07  -0.169]\n",
      "test 3\n",
      "[ 0.333 -0.092 -0.041]\n",
      "[ 0.337  0.141 -0.164]\n",
      "[ 0.337  0.141 -0.164]\n",
      "test 4\n",
      "[-0.469 -0.379  0.212]\n",
      "[-0.525 -0.342  0.149]\n",
      "[-0.525 -0.342  0.149]\n"
     ]
    }
   ],
   "source": [
    "from ase import Atoms\n",
    "from asap3 import FullNeighborList\n",
    "traj = []\n",
    "\n",
    "forces = np.zeros((ntest, 3))\n",
    "\n",
    "for i in np.arange(ntest):\n",
    "\n",
    "    coords = np.vstack([[0,0,0], tst_confs[i][:,:3]])\n",
    "    atoms = Atoms('Fe' + str(len(coords)), positions=coords)\n",
    "\n",
    "    atoms.set_cell([100,100,100])\n",
    "    nl = FullNeighborList(rCut=4.45, atoms=atoms, driftfactor=0.)\n",
    "\n",
    "    inds, pos, dists2 = nl.get_neighbors(0)\n",
    "\n",
    "    dists = np.sqrt(dists2)\n",
    "    energy_local = mapped_2b(dists, nu=0)\n",
    "    fs_scalars = - mapped_2b(dists, nu=1)\n",
    "\n",
    "    potential_energies = np.sum(energy_local, axis=0)\n",
    "    forces[i] = np.sum(pos/dists[:, np.newaxis] * fs_scalars[:, np.newaxis], axis=0)\n",
    "    \n",
    "    print('test {}'.format(i))\n",
    "    print(tst_forces[i])\n",
    "    print(forces[i])\n",
    "    print(gp_2b_forces[i])\n",
    "    \n"
   ]
  },
  {
   "cell_type": "code",
   "execution_count": 33,
   "metadata": {
    "ExecuteTime": {
     "end_time": "2018-05-26T12:22:12.782739Z",
     "start_time": "2018-05-26T12:21:32.011483Z"
    }
   },
   "outputs": [
    {
     "name": "stdout",
     "output_type": "stream",
     "text": [
      "Saved mapping with name MFF_3b_ntr_50_sig_0.60_cut_4.45.npy\n"
     ]
    }
   ],
   "source": [
    "# ----------------------------------------\n",
    "# Mapping 3b\n",
    "# ----------------------------------------\n",
    "from original import create_MFF_grid\n",
    "\n",
    "grid_start = 1.5\n",
    "elementslist = [26]\n",
    "\n",
    "# num = 100\n",
    "num = 20\n",
    "\n",
    "mapping = create_MFF_grid.SingleSpecies(gp_3, grid_start, r_cut, num, elementslist[0], build2donly=False)\n",
    "all_grids = mapping.build_grids()\n",
    "\n",
    "remap_name = 'MFF_{}b_ntr_{}_sig_{:.2f}_cut_{:.2f}.npy'.format(3, ntr, sigma, r_cut)\n",
    "\n",
    "np.save(directory + '/' + remap_name, all_grids)\n",
    "print('Saved mapping with name {}'.format(remap_name))\n"
   ]
  },
  {
   "cell_type": "code",
   "execution_count": 34,
   "metadata": {
    "ExecuteTime": {
     "end_time": "2018-05-26T12:22:12.790151Z",
     "start_time": "2018-05-26T12:22:12.785339Z"
    }
   },
   "outputs": [],
   "source": [
    "mapped_3b = Spline3D(all_grids[0],all_grids[0],all_grids[0],all_grids[4])\n"
   ]
  },
  {
   "cell_type": "code",
   "execution_count": 35,
   "metadata": {
    "ExecuteTime": {
     "end_time": "2018-05-26T12:22:13.329331Z",
     "start_time": "2018-05-26T12:22:12.792625Z"
    },
    "scrolled": false
   },
   "outputs": [
    {
     "data": {
      "image/png": "[encoded data removed]",
      "text/plain": [
       "<Figure size 432x288 with 2 Axes>"
      ]
     },
     "metadata": {},
     "output_type": "display_data"
    },
    {
     "data": {
      "image/png": "[encoded data removed]",
      "text/plain": [
       "<Figure size 432x288 with 2 Axes>"
      ]
     },
     "metadata": {},
     "output_type": "display_data"
    },
    {
     "data": {
      "image/png": "[encoded data removed]",
      "text/plain": [
       "<Figure size 432x288 with 2 Axes>"
      ]
     },
     "metadata": {},
     "output_type": "display_data"
    },
    {
     "data": {
      "image/png": "[encoded data removed]",
      "text/plain": [
       "<Figure size 432x288 with 2 Axes>"
      ]
     },
     "metadata": {},
     "output_type": "display_data"
    }
   ],
   "source": [
    "data = all_grids[4]\n",
    "dists = np.linspace(grid_start, r_cut, num)\n",
    "z_min, z_max = -np.max(np.abs(data)), np.max(np.abs(data))\n",
    "for i in range(0, len(dists), 5):\n",
    "    plt.title(dists[i])\n",
    "    plt.pcolor(dists, dists, -data[:,:,i], cmap='RdBu', vmin=z_min, vmax=z_max)\n",
    "    plt.colorbar()\n",
    "    plt.axis('equal')\n",
    "\n",
    "    plt.show()"
   ]
  },
  {
   "cell_type": "code",
   "execution_count": 36,
   "metadata": {
    "ExecuteTime": {
     "end_time": "2018-05-26T12:22:13.340914Z",
     "start_time": "2018-05-26T12:22:13.331841Z"
    }
   },
   "outputs": [],
   "source": [
    "def find_triplets(atoms, nl):\n",
    "    # atomic_numbers = self.atoms.get_array('numbers', copy=False)\n",
    "\n",
    "    indices, distances, positions = [], [], dict()\n",
    "\n",
    "    for i in range(len(atoms)):\n",
    "\n",
    "        inds, pos, dists2 = nl.get_neighbors(i)\n",
    "\n",
    "        # Limitation\n",
    "        assert len(inds) is len(np.unique(inds)), \"There are repetitive indices!\\n{}\".format(inds)\n",
    "\n",
    "        # ignoring already visited atoms\n",
    "        inds, pos, dists2 = inds[inds > i], pos[inds > i, :], dists2[inds > i]\n",
    "        dists = np.sqrt(dists2)\n",
    "\n",
    "        for local_ind, (j, pos_ij, dist_ij) in enumerate(zip(inds, pos, dists)):\n",
    "\n",
    "            # Caching local displacement vectors\n",
    "            positions[(i, j)], positions[(j, i)] = pos_ij, -pos_ij\n",
    "\n",
    "            for k, dist_ik in islice(zip(inds, dists), local_ind + 1, None):\n",
    "\n",
    "                try:\n",
    "                    jk_ind = list(nl[j]).index(k)\n",
    "                except ValueError:\n",
    "                    continue  # no valid triplet\n",
    "\n",
    "                _, _, dists_j = nl.get_neighbors(j)\n",
    "\n",
    "                indices.append([i, j, k])\n",
    "                distances.append([dist_ij, dist_ik, np.sqrt(dists_j[jk_ind])])\n",
    "\n",
    "    return np.array(indices), np.array(distances), positions\n",
    "\n",
    "# def find_triplets2(atoms, nl):\n",
    "#     indices, distances, positions = [], [], dict()\n",
    "\n",
    "#     # caching\n",
    "#     arr = [nl.get_neighbors(i) for i in range(len(nl))]\n",
    "\n",
    "#     for i, (inds, pos, dists2) in enumerate(arr):\n",
    "#         # assert len(inds) is len(np.unique(inds)), \"There are repetitive indices!\\n{}\".format(inds)\n",
    "\n",
    "#         # ingnore already visited nodes\n",
    "#         inds, pos, dists2 = inds[inds > i], pos[inds > i, :], dists2[inds > i]\n",
    "\n",
    "#         dists = np.sqrt(dists2)\n",
    "#         pos = pos / dists.reshape(-1, 1)\n",
    "\n",
    "#         for (j_ind, j), (k_ind, k) in combinations(enumerate(inds), 2):\n",
    "\n",
    "#             jk_ind, = np.where(arr[j][0] == k)\n",
    "\n",
    "#             if not jk_ind.size:\n",
    "#                 continue  # no valid triplet\n",
    "\n",
    "#             indices.append([i, j, k])\n",
    "\n",
    "#             # Caching local position vectors\n",
    "#             dist_jk = np.sqrt(arr[j][2][jk_ind[0]])\n",
    "#             positions[(i, j)], positions[(j, i)] = pos[j_ind], -pos[j_ind]\n",
    "#             positions[(i, k)], positions[(k, i)] = pos[k_ind], -pos[k_ind]\n",
    "#             positions[(j, k)], positions[(k, j)] = \\\n",
    "#                 arr[j][1][jk_ind[0], :] / dist_jk, -arr[j][1][jk_ind[0], :] / dist_jk\n",
    "\n",
    "#             distances.append([dists[j_ind], dists[k_ind], dist_jk])\n",
    "\n",
    "#     return np.array(indices), np.array(distances), positions"
   ]
  },
  {
   "cell_type": "code",
   "execution_count": null,
   "metadata": {},
   "outputs": [],
   "source": []
  },
  {
   "cell_type": "code",
   "execution_count": 37,
   "metadata": {
    "ExecuteTime": {
     "end_time": "2018-05-26T12:22:13.394122Z",
     "start_time": "2018-05-26T12:22:13.342646Z"
    },
    "scrolled": false
   },
   "outputs": [
    {
     "name": "stdout",
     "output_type": "stream",
     "text": [
      "test 0\n",
      "[0.686 0.351 0.003]\n",
      "[0.686 0.351 0.003]\n",
      "[0.312 0.695 0.18 ]\n",
      "[-0.031 -0.021  0.032]\n",
      "[0.686 0.274 0.05 ]\n",
      "test 0\n",
      "[0.686 0.351 0.003]\n",
      "[0.686 0.351 0.003]\n",
      "[-0.019  0.672  0.577]\n",
      "[-0.031 -0.021  0.032]\n",
      "[0.686 0.274 0.05 ]\n",
      "test 0\n",
      "[0.686 0.351 0.003]\n",
      "[0.686 0.351 0.003]\n",
      "[ 0.424  0.784 -0.124]\n",
      "[-0.031 -0.021  0.032]\n",
      "[0.686 0.274 0.05 ]\n",
      "test 0\n",
      "[0.686 0.351 0.003]\n",
      "[0.686 0.351 0.003]\n",
      "[ 0.613  0.548 -0.134]\n",
      "[-0.031 -0.021  0.032]\n",
      "[0.686 0.274 0.05 ]\n",
      "test 0\n",
      "[0.686 0.351 0.003]\n",
      "[0.686 0.351 0.003]\n",
      "[ 0.121  0.613 -0.021]\n",
      "[-0.031 -0.021  0.032]\n",
      "[0.686 0.274 0.05 ]\n"
     ]
    }
   ],
   "source": [
    "from itertools import combinations, islice\n",
    "\n",
    "forces_2b = np.zeros((ntest, 3))\n",
    "forces_3b = np.zeros((ntest, 3))\n",
    "\n",
    "for i in np.arange(ntest):\n",
    "\n",
    "    coords = np.vstack([[0,0,0], tst_confs[i][:,:3]])\n",
    "    atoms = Atoms('Fe' + str(len(coords)), positions=coords)\n",
    "\n",
    "    atoms.set_cell([100,100,100])\n",
    "    nl = FullNeighborList(rCut=4.45, atoms=atoms, driftfactor=0.)\n",
    "\n",
    "    inds, pos, dists2 = nl.get_neighbors(0)\n",
    "\n",
    "    dists = np.sqrt(dists2).reshape(-1, 1)\n",
    "    norm = pos / dists\n",
    "\n",
    "    energy_local = mapped_2b(dists, nu=0)\n",
    "    fs_scalars = - mapped_2b(dists, nu=1)\n",
    "\n",
    "    potential_energies = 1 / 2 * np.sum(energy_local, axis=0)\n",
    "    forces_2b[i] = np.sum(norm * fs_scalars, axis=0)\n",
    "\n",
    "    # 3 body    \n",
    "    indices, distances, positions = find_triplets([atoms[0]], nl)\n",
    "\n",
    "#     print(indices)\n",
    "    \n",
    "    xi, yi, zi = np.hsplit(distances, 3)\n",
    "    mapped = mapped_3b.ev_all(zi, xi, yi)\n",
    "\n",
    "    for (i, j, k), energy, dE_ij, dE_jk, dE_ki in zip(indices, mapped[0], mapped[1], mapped[2], mapped[3]):\n",
    "        forces_3b[i] +=  positions[(i, j)] * dE_ij + positions[(i, k)] * dE_ki\n",
    "        # forces_3b[j] += - positions[(j, k)] * dE_jk - positions[(j, i)] * dE_ij\n",
    "        # forces_3b[k] += - positions[(k, i)] * dE_ki - positions[(k, j)] * dE_jk\n",
    "\n",
    "        # potential_energies[[i, j, k]] += energy\n",
    "\n",
    "    print('test {}'.format(i))\n",
    "    print(forces_2b[i])\n",
    "    print(gp_2b_forces[i])\n",
    "    print(forces_3b[i])\n",
    "    print(gp_3b_forces[i])\n",
    "    print(tst_forces[i])\n",
    "\n"
   ]
  },
  {
   "cell_type": "code",
   "execution_count": 38,
   "metadata": {
    "ExecuteTime": {
     "end_time": "2018-05-26T12:22:26.325852Z",
     "start_time": "2018-05-26T12:22:13.396467Z"
    },
    "scrolled": false
   },
   "outputs": [
    {
     "name": "stdout",
     "output_type": "stream",
     "text": [
      "test 0\n",
      "[0.686 0.351 0.003]\n",
      "[0.686 0.351 0.003]\n",
      "[0.433 1.308 0.159]\n",
      "[-0.031 -0.021  0.032]\n",
      "[[-0.031 -0.021  0.032]]\n",
      "[0.686 0.274 0.05 ]\n"
     ]
    }
   ],
   "source": [
    "i=0\n",
    "\n",
    "coords = np.vstack([[0,0,0], tst_confs[i][:,:3]])\n",
    "atoms = Atoms('Fe' + str(len(coords)), positions=coords)\n",
    "\n",
    "atoms.set_cell([100,100,100])\n",
    "nl = FullNeighborList(rCut=4.45, atoms=atoms, driftfactor=0.)\n",
    "\n",
    "inds, pos, dists2 = nl.get_neighbors(0)\n",
    "\n",
    "dists = np.sqrt(dists2).reshape(-1, 1)\n",
    "norm = pos / dists\n",
    "\n",
    "energy_local = mapped_2b(dists, nu=0)\n",
    "fs_scalars = - mapped_2b(dists, nu=1)\n",
    "\n",
    "potential_energies = 1 / 2 * np.sum(energy_local, axis=0)\n",
    "forces_2b[i] = np.sum(norm * fs_scalars, axis=0)\n",
    "\n",
    "# 3 body    \n",
    "indices, distances, positions = find_triplets([atoms[0]], nl)\n",
    "\n",
    "#     print(indices)\n",
    "\n",
    "xi, yi, zi = np.hsplit(distances, 3)\n",
    "mapped = mapped_3b.ev_all(zi, xi, yi)\n",
    "\n",
    "for (i, j, k), energy, dE_ij, dE_jk, dE_ki in zip(indices, mapped[0], mapped[1], mapped[2], mapped[3]):\n",
    "    forces_3b[i] +=  positions[(i, j)] * dE_ij + positions[(i, k)] * dE_ki\n",
    "    # forces_3b[j] += - positions[(j, k)] * dE_jk - positions[(j, i)] * dE_ij\n",
    "    # forces_3b[k] += - positions[(k, i)] * dE_ki - positions[(k, j)] * dE_jk\n",
    "\n",
    "    # potential_energies[[i, j, k]] += energy\n",
    "forces_3b_gp_test = 0\n",
    "for (i,j,k) in indices:\n",
    "    \n",
    "    conf = np.array([[\n",
    "        [*positions[(i,j)], 26, 26],\n",
    "        [*positions[(i,k)], 26, 26]\n",
    "    ]])\n",
    "#     print(conf)\n",
    "    forces_3b_gp_test += gp_3.predict(conf)\n",
    "\n",
    "\n",
    "print('test {}'.format(i))\n",
    "print(forces_2b[i])\n",
    "print(gp_2b_forces[i])\n",
    "print(forces_3b[i])\n",
    "print(gp_3b_forces[i])\n",
    "print(forces_3b_gp_test)\n",
    "print(tst_forces[i])"
   ]
  },
  {
   "cell_type": "code",
   "execution_count": null,
   "metadata": {},
   "outputs": [],
   "source": []
  },
  {
   "cell_type": "code",
   "execution_count": 39,
   "metadata": {
    "ExecuteTime": {
     "end_time": "2018-05-26T12:22:26.331372Z",
     "start_time": "2018-05-26T12:22:26.327857Z"
    }
   },
   "outputs": [],
   "source": [
    "# from ase.io import read\n",
    "# from pathlib import Path\n",
    "# from m_ff.interpolation import Spline3D, Spline1D\n",
    "\n",
    "# from m_ff.calculators import ThreeBodySingleSpecies\n",
    "\n",
    "# logging.basicConfig(level=logging.INFO)\n",
    "\n",
    "# directory = Path('data/Fe_vac')\n",
    "\n",
    "# filename = directory / 'movie.xyz'\n",
    "# traj = read(str(filename), index=slice(None))\n",
    "\n",
    "# rs, element1, _, grid_1_1_data, _ = np.load(str(directory / 'MFF_2b_ntr_20_sig_0.30_cut_4.45.npy'))\n",
    "# grid_2b = Spline1D(rs, grid_1_1_data)\n",
    "\n",
    "# # calc = TwoBodySingleSpecies(r_cut=4.45, grid_2b=grid_2b)\n",
    "\n",
    "# rs, element1, _, _, grid_1_1_1_data = np.load(str(directory / 'MFF_3b_ntr_20_sig_0.60_cut_4.45.npy'))\n",
    "# grid_3b = Spline3D(rs, rs, rs, grid_1_1_1_data)\n",
    "\n",
    "# calc = ThreeBodySingleSpecies(r_cut=4.45, grid_2b=grid_2b, grid_3b=grid_3b)\n",
    "\n",
    "# atoms = traj[0]\n",
    "# atoms.set_calculator(calc)\n",
    "\n",
    "# f = atoms.get_forces()\n",
    "# rms = np.sqrt(np.sum(np.square(atoms.arrays['force'] - atoms.get_forces()), axis=1))\n",
    "# print('MAEF on forces: {:.4f} +- {:.4f}'.format(np.mean(rms), np.std(rms)))\n",
    "\n",
    "# for atoms in traj[0:5]:\n",
    "\n",
    "#     atoms.set_calculator(calc)\n",
    "\n",
    "#     # print(atoms.arrays['force'])\n",
    "#     # print(atoms.get_forces())\n",
    "\n",
    "#     rms = np.sqrt(np.sum(np.square(atoms.arrays['force'] - atoms.get_forces()), axis=1))\n",
    "#     print('MAEF on forces: {:.4f} +- {:.4f}'.format(np.mean(rms), np.std(rms)))\n",
    "\n"
   ]
  },
  {
   "cell_type": "code",
   "execution_count": null,
   "metadata": {},
   "outputs": [],
   "source": []
  },
  {
   "cell_type": "code",
   "execution_count": null,
   "metadata": {},
   "outputs": [],
   "source": []
  },
  {
   "cell_type": "code",
   "execution_count": null,
   "metadata": {},
   "outputs": [],
   "source": []
  },
  {
   "cell_type": "code",
   "execution_count": null,
   "metadata": {},
   "outputs": [],
   "source": []
  }
 ],
 "metadata": {
  "kernelspec": {
   "display_name": "Python 3",
   "language": "python",
   "name": "python3"
  },
  "language_info": {
   "codemirror_mode": {
    "name": "ipython",
    "version": 3
   },
   "file_extension": ".py",
   "mimetype": "text/x-python",
   "name": "python",
   "nbconvert_exporter": "python",
   "pygments_lexer": "ipython3",
   "version": "3.6.5"
  },
  "toc": {
   "base_numbering": 1,
   "nav_menu": {},
   "number_sections": false,
   "sideBar": true,
   "skip_h1_title": false,
   "title_cell": "Table of Contents",
   "title_sidebar": "Contents",
   "toc_cell": false,
   "toc_position": {},
   "toc_section_display": true,
   "toc_window_display": false
  }
 },
 "nbformat": 4,
 "nbformat_minor": 2
}
