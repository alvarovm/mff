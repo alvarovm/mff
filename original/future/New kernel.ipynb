{
 "cells": [
  {
   "cell_type": "markdown",
   "metadata": {},
   "source": [
    "- atoms object as input for fitting\n",
    "- atoms object and list of triplets as input for prediction\n",
    "- learning single snapshot\n",
    "- sampling single snapshot (random triplets, most relevant triplets)"
   ]
  },
  {
   "cell_type": "code",
   "execution_count": 1,
   "metadata": {
    "ExecuteTime": {
     "end_time": "2018-06-04T03:37:58.699081Z",
     "start_time": "2018-06-04T03:37:58.267515Z"
    }
   },
   "outputs": [],
   "source": [
    "import numpy as np\n",
    "import scipy.sparse as sp\n",
    "import scipy.spatial as spatial\n",
    "\n",
    "import matplotlib.pyplot as plt\n",
    "\n",
    "from ase import atoms\n",
    "from ase.io import read\n"
   ]
  },
  {
   "cell_type": "code",
   "execution_count": 2,
   "metadata": {
    "ExecuteTime": {
     "end_time": "2018-06-04T03:37:58.713475Z",
     "start_time": "2018-06-04T03:37:58.701615Z"
    }
   },
   "outputs": [
    {
     "data": {
      "text/plain": [
       "5"
      ]
     },
     "execution_count": 2,
     "metadata": {},
     "output_type": "execute_result"
    }
   ],
   "source": [
    "filename = 'test/data/BIP_300/movie.xyz'\n",
    "traj = read(filename, index=slice(0,5))\n",
    "len(traj)"
   ]
  },
  {
   "cell_type": "code",
   "execution_count": 24,
   "metadata": {
    "ExecuteTime": {
     "end_time": "2018-06-04T17:39:56.488824Z",
     "start_time": "2018-06-04T17:39:56.485505Z"
    }
   },
   "outputs": [],
   "source": [
    "atoms = traj[0]\n",
    "elements = atoms.get_array('numbers')\n",
    "positions = atoms.get_positions()\n",
    "forces = atoms.get_array('force')"
   ]
  },
  {
   "cell_type": "code",
   "execution_count": 21,
   "metadata": {
    "ExecuteTime": {
     "end_time": "2018-06-04T15:57:17.799753Z",
     "start_time": "2018-06-04T15:57:17.795830Z"
    }
   },
   "outputs": [],
   "source": [
    "def distance_matrix(atoms, r_cut, method='ckdtree', output_type=''):\n",
    "    if method == 'ckdtree':\n",
    "        kdtree = spatial.cKDTree(atoms.get_positions())\n",
    "        d_matrix = kdtree.sparse_distance_matrix(kdtree, r_cut, output_type)\n",
    "        return d_matrix"
   ]
  },
  {
   "cell_type": "code",
   "execution_count": 4,
   "metadata": {
    "ExecuteTime": {
     "end_time": "2018-06-04T03:37:58.729802Z",
     "start_time": "2018-06-04T03:37:58.725393Z"
    }
   },
   "outputs": [],
   "source": [
    "kdtree = spatial.cKDTree(atoms.get_positions())"
   ]
  },
  {
   "cell_type": "code",
   "execution_count": 5,
   "metadata": {
    "ExecuteTime": {
     "end_time": "2018-06-04T03:37:58.738436Z",
     "start_time": "2018-06-04T03:37:58.732241Z"
    }
   },
   "outputs": [],
   "source": [
    "d_matrix = kdtree.sparse_distance_matrix(kdtree, 3.)"
   ]
  },
  {
   "cell_type": "code",
   "execution_count": 6,
   "metadata": {
    "ExecuteTime": {
     "end_time": "2018-06-04T03:37:58.974010Z",
     "start_time": "2018-06-04T03:37:58.741610Z"
    }
   },
   "outputs": [
    {
     "data": {
      "text/plain": [
       "<matplotlib.lines.Line2D at 0x10af1ee48>"
      ]
     },
     "execution_count": 6,
     "metadata": {},
     "output_type": "execute_result"
    },
    {
     "data": {
      "image/png": "[encoded data removed]",
      "text/plain": [
       "<Figure size 432x288 with 1 Axes>"
      ]
     },
     "metadata": {},
     "output_type": "display_data"
    }
   ],
   "source": [
    "plt.spy(d_matrix)"
   ]
  },
  {
   "cell_type": "code",
   "execution_count": 25,
   "metadata": {
    "ExecuteTime": {
     "end_time": "2018-06-04T21:28:12.079253Z",
     "start_time": "2018-06-04T21:28:11.916418Z"
    }
   },
   "outputs": [
    {
     "data": {
      "image/png": "[encoded data removed]",
      "text/plain": [
       "<Figure size 432x288 with 1 Axes>"
      ]
     },
     "metadata": {},
     "output_type": "display_data"
    },
    {
     "data": {
      "image/png": "[encoded data removed]",
      "text/plain": [
       "<Figure size 432x288 with 1 Axes>"
      ]
     },
     "metadata": {},
     "output_type": "display_data"
    }
   ],
   "source": [
    "kdtree_1 = spatial.cKDTree(traj[0].get_positions())\n",
    "kdtree_2 = spatial.cKDTree(traj[-1].get_positions())\n",
    "d_matrix_1 = kdtree_1.sparse_distance_matrix(kdtree_1, 3.)\n",
    "d_matrix_2 = kdtree_2.sparse_distance_matrix(kdtree_2, 3.)\n",
    "plt.spy(d_matrix_1)\n",
    "plt.show()\n",
    "plt.spy(d_matrix_2)\n",
    "plt.show()\n"
   ]
  },
  {
   "cell_type": "code",
   "execution_count": 16,
   "metadata": {
    "ExecuteTime": {
     "end_time": "2018-06-04T03:53:52.504166Z",
     "start_time": "2018-06-04T03:53:52.435642Z"
    }
   },
   "outputs": [
    {
     "data": {
      "image/png": "[encoded data removed]",
      "text/plain": [
       "<Figure size 432x288 with 1 Axes>"
      ]
     },
     "metadata": {},
     "output_type": "display_data"
    }
   ],
   "source": [
    "d_matrix_1 = kdtree_1.sparse_distance_matrix(kdtree_1, 3.)\n",
    "d_matrix_2 = kdtree_2.sparse_distance_matrix(kdtree_2, 3.)\n",
    "plt.spy(d_matrix_1 - d_matrix_2)\n",
    "# plt.spy(d_matrix_2)\n",
    "plt.show()"
   ]
  },
  {
   "cell_type": "code",
   "execution_count": 31,
   "metadata": {
    "ExecuteTime": {
     "end_time": "2018-06-04T21:34:17.530798Z",
     "start_time": "2018-06-04T21:34:17.428642Z"
    }
   },
   "outputs": [
    {
     "data": {
      "text/plain": [
       "<matplotlib.lines.Line2D at 0x10b88eb38>"
      ]
     },
     "execution_count": 31,
     "metadata": {},
     "output_type": "execute_result"
    },
    {
     "data": {
      "image/png": "[encoded data removed]",
      "text/plain": [
       "<Figure size 432x288 with 1 Axes>"
      ]
     },
     "metadata": {},
     "output_type": "display_data"
    }
   ],
   "source": [
    "plt.spy(np.kron(d_matrix_1, d_matrix_2))"
   ]
  },
  {
   "cell_type": "code",
   "execution_count": 63,
   "metadata": {
    "ExecuteTime": {
     "end_time": "2018-06-05T02:49:13.420399Z",
     "start_time": "2018-06-05T02:49:13.411674Z"
    }
   },
   "outputs": [
    {
     "name": "stdout",
     "output_type": "stream",
     "text": [
      "  (0, 0)\t2.34151647395\n",
      "  (0, 2)\t2.34179797036\n",
      "  (0, 4)\t2.42659247996\n",
      "  (0, 9)\t2.41613895947\n",
      "  (0, 10)\t2.41593176683\n",
      "  (0, 14)\t2.43144445654\n",
      "  (0, 15)\t2.43244505633\n"
     ]
    }
   ],
   "source": [
    "for d in d_matrix_1[1,:]:\n",
    "    print(d)"
   ]
  },
  {
   "cell_type": "code",
   "execution_count": 55,
   "metadata": {
    "ExecuteTime": {
     "end_time": "2018-06-05T01:42:26.814588Z",
     "start_time": "2018-06-05T01:42:26.803188Z"
    }
   },
   "outputs": [
    {
     "data": {
      "text/plain": [
       "<361x361 sparse matrix of type '<class 'numpy.float64'>'\n",
       "\twith 4560 stored elements in Compressed Sparse Row format>"
      ]
     },
     "execution_count": 55,
     "metadata": {},
     "output_type": "execute_result"
    }
   ],
   "source": [
    "sp.kronsum(d_matrix_1, -d_matrix_1)"
   ]
  },
  {
   "cell_type": "code",
   "execution_count": 57,
   "metadata": {
    "ExecuteTime": {
     "end_time": "2018-06-05T01:43:25.934700Z",
     "start_time": "2018-06-05T01:43:25.923873Z"
    }
   },
   "outputs": [
    {
     "data": {
      "text/plain": [
       "<361x361 sparse matrix of type '<class 'numpy.float64'>'\n",
       "\twith 4560 stored elements in Compressed Sparse Row format>"
      ]
     },
     "execution_count": 57,
     "metadata": {},
     "output_type": "execute_result"
    }
   ],
   "source": [
    "sigma = 1.\n",
    "\n",
    "x = sp.kronsum(d_matrix_1, -d_matrix_1)\n",
    "np.exp(x.data, out=x.data )\n",
    "x"
   ]
  },
  {
   "cell_type": "code",
   "execution_count": 60,
   "metadata": {
    "ExecuteTime": {
     "end_time": "2018-06-05T01:49:26.147180Z",
     "start_time": "2018-06-05T01:49:26.135291Z"
    }
   },
   "outputs": [
    {
     "ename": "AttributeError",
     "evalue": "elemwise not found",
     "output_type": "error",
     "traceback": [
      "\u001b[0;31m---------------------------------------------------------------------------\u001b[0m",
      "\u001b[0;31mAttributeError\u001b[0m                            Traceback (most recent call last)",
      "\u001b[0;32m<ipython-input-60-867bbbc7982e>\u001b[0m in \u001b[0;36m<module>\u001b[0;34m()\u001b[0m\n\u001b[0;32m----> 1\u001b[0;31m \u001b[0mx\u001b[0m\u001b[0;34m.\u001b[0m\u001b[0melemwise\u001b[0m\u001b[0;34m\u001b[0m\u001b[0m\n\u001b[0m",
      "\u001b[0;32m/usr/local/miniconda3/envs/dev/lib/python3.6/site-packages/scipy/sparse/base.py\u001b[0m in \u001b[0;36m__getattr__\u001b[0;34m(self, attr)\u001b[0m\n\u001b[1;32m    684\u001b[0m             \u001b[0;32mreturn\u001b[0m \u001b[0mself\u001b[0m\u001b[0;34m.\u001b[0m\u001b[0mgetnnz\u001b[0m\u001b[0;34m(\u001b[0m\u001b[0;34m)\u001b[0m\u001b[0;34m\u001b[0m\u001b[0m\n\u001b[1;32m    685\u001b[0m         \u001b[0;32melse\u001b[0m\u001b[0;34m:\u001b[0m\u001b[0;34m\u001b[0m\u001b[0m\n\u001b[0;32m--> 686\u001b[0;31m             \u001b[0;32mraise\u001b[0m \u001b[0mAttributeError\u001b[0m\u001b[0;34m(\u001b[0m\u001b[0mattr\u001b[0m \u001b[0;34m+\u001b[0m \u001b[0;34m\" not found\"\u001b[0m\u001b[0;34m)\u001b[0m\u001b[0;34m\u001b[0m\u001b[0m\n\u001b[0m\u001b[1;32m    687\u001b[0m \u001b[0;34m\u001b[0m\u001b[0m\n\u001b[1;32m    688\u001b[0m     \u001b[0;32mdef\u001b[0m \u001b[0mtranspose\u001b[0m\u001b[0;34m(\u001b[0m\u001b[0mself\u001b[0m\u001b[0;34m,\u001b[0m \u001b[0maxes\u001b[0m\u001b[0;34m=\u001b[0m\u001b[0;32mNone\u001b[0m\u001b[0;34m,\u001b[0m \u001b[0mcopy\u001b[0m\u001b[0;34m=\u001b[0m\u001b[0;32mFalse\u001b[0m\u001b[0;34m)\u001b[0m\u001b[0;34m:\u001b[0m\u001b[0;34m\u001b[0m\u001b[0m\n",
      "\u001b[0;31mAttributeError\u001b[0m: elemwise not found"
     ]
    }
   ],
   "source": [
    "x.elemwise"
   ]
  },
  {
   "cell_type": "code",
   "execution_count": 58,
   "metadata": {
    "ExecuteTime": {
     "end_time": "2018-06-05T01:43:26.375588Z",
     "start_time": "2018-06-05T01:43:26.172094Z"
    },
    "scrolled": true
   },
   "outputs": [
    {
     "data": {
      "text/plain": [
       "<matplotlib.lines.Line2D at 0x101ba7d898>"
      ]
     },
     "execution_count": 58,
     "metadata": {},
     "output_type": "execute_result"
    },
    {
     "data": {
      "image/png": "[encoded data removed]",
      "text/plain": [
       "<Figure size 432x288 with 1 Axes>"
      ]
     },
     "metadata": {},
     "output_type": "display_data"
    }
   ],
   "source": [
    "plt.spy(x)"
   ]
  },
  {
   "cell_type": "markdown",
   "metadata": {},
   "source": [
    "# Gpflow"
   ]
  },
  {
   "cell_type": "code",
   "execution_count": 43,
   "metadata": {
    "ExecuteTime": {
     "end_time": "2018-06-05T01:34:21.673954Z",
     "start_time": "2018-06-05T01:34:21.478052Z"
    }
   },
   "outputs": [],
   "source": [
    "import gpflow\n",
    "import numpy as np\n",
    "import matplotlib.pyplot as plt\n",
    "plt.style.use('ggplot')\n",
    "import tensorflow as tf\n",
    "%matplotlib inline"
   ]
  },
  {
   "cell_type": "code",
   "execution_count": 44,
   "metadata": {
    "ExecuteTime": {
     "end_time": "2018-06-05T01:34:22.325122Z",
     "start_time": "2018-06-05T01:34:22.320131Z"
    }
   },
   "outputs": [],
   "source": [
    "import gpflow\n",
    "import tensorflow as tf\n",
    "\n",
    "class Brownian(gpflow.kernels.Kernel):\n",
    "    def __init__(self):\n",
    "        super().__init__(input_dim=1, active_dims=[0])\n",
    "        self.variance = gpflow.Param(1.0, transform=gpflow.transforms.positive)\n",
    "\n",
    "    def K(self, X, X2=None):\n",
    "        if X2 is None:\n",
    "            X2 = X\n",
    "        return self.variance * tf.minimum(X, tf.transpose(X2))\n",
    "\n",
    "    def Kdiag(self, X):\n",
    "        return self.variance * tf.reshape(X, (-1,))\n"
   ]
  },
  {
   "cell_type": "code",
   "execution_count": 45,
   "metadata": {
    "ExecuteTime": {
     "end_time": "2018-06-05T01:34:24.049517Z",
     "start_time": "2018-06-05T01:34:22.853894Z"
    }
   },
   "outputs": [
    {
     "name": "stderr",
     "output_type": "stream",
     "text": [
      "/usr/local/miniconda3/envs/dev/lib/python3.6/site-packages/gpflow/densities.py:89: UserWarning: Shape of x must be 2D at computation.\n",
      "  warnings.warn('Shape of x must be 2D at computation.')\n"
     ]
    },
    {
     "name": "stdout",
     "output_type": "stream",
     "text": [
      "INFO:tensorflow:Optimization terminated with:\n",
      "  Message: b'CONVERGENCE: NORM_OF_PROJECTED_GRADIENT_<=_PGTOL'\n",
      "  Objective function value: 2.218895\n",
      "  Number of iterations: 23\n",
      "  Number of functions evaluations: 27\n"
     ]
    },
    {
     "data": {
      "image/png": "[encoded data removed]",
      "text/plain": [
       "<Figure size 432x288 with 1 Axes>"
      ]
     },
     "metadata": {},
     "output_type": "display_data"
    }
   ],
   "source": [
    "X = np.random.rand(5, 1)\n",
    "Y = np.sin(X*6) + np.random.randn(*X.shape)*0.001\n",
    "\n",
    "\n",
    "k1 = Brownian()\n",
    "k2 = gpflow.kernels.Constant(1)\n",
    "k = k1 + k2\n",
    "\n",
    "m = gpflow.models.GPR(X, Y, kern=k)\n",
    "opt = gpflow.train.ScipyOptimizer()\n",
    "opt.minimize(m)\n",
    "\n",
    "xx = np.linspace(0, 1.1, 100).reshape(100, 1)\n",
    "mean, var = m.predict_y(xx)\n",
    "plt.plot(X, Y, 'kx', mew=2)\n",
    "line, = plt.plot(xx, mean, lw=2)\n",
    "_ = plt.fill_between(xx[:,0], mean[:,0] - 2*np.sqrt(var[:,0]), mean[:,0] + 2*np.sqrt(var[:,0]), color=line.get_color(), alpha=0.2)"
   ]
  },
  {
   "cell_type": "code",
   "execution_count": 48,
   "metadata": {
    "ExecuteTime": {
     "end_time": "2018-06-05T01:35:09.398822Z",
     "start_time": "2018-06-05T01:35:09.384060Z"
    }
   },
   "outputs": [
    {
     "data": {
      "text/html": [
       "<div>\n",
       "<style scoped>\n",
       "    .dataframe tbody tr th:only-of-type {\n",
       "        vertical-align: middle;\n",
       "    }\n",
       "\n",
       "    .dataframe tbody tr th {\n",
       "        vertical-align: top;\n",
       "    }\n",
       "\n",
       "    .dataframe thead th {\n",
       "        text-align: right;\n",
       "    }\n",
       "</style>\n",
       "<table border=\"1\" class=\"dataframe\">\n",
       "  <thead>\n",
       "    <tr style=\"text-align: right;\">\n",
       "      <th></th>\n",
       "      <th>class</th>\n",
       "      <th>prior</th>\n",
       "      <th>transform</th>\n",
       "      <th>trainable</th>\n",
       "      <th>shape</th>\n",
       "      <th>fixed_shape</th>\n",
       "      <th>value</th>\n",
       "    </tr>\n",
       "  </thead>\n",
       "  <tbody>\n",
       "    <tr>\n",
       "      <th>GPR/kern/brownian/variance</th>\n",
       "      <td>Parameter</td>\n",
       "      <td>None</td>\n",
       "      <td>+ve</td>\n",
       "      <td>True</td>\n",
       "      <td>()</td>\n",
       "      <td>True</td>\n",
       "      <td>1.995006697774781</td>\n",
       "    </tr>\n",
       "    <tr>\n",
       "      <th>GPR/kern/constant/variance</th>\n",
       "      <td>Parameter</td>\n",
       "      <td>None</td>\n",
       "      <td>+ve</td>\n",
       "      <td>True</td>\n",
       "      <td>()</td>\n",
       "      <td>True</td>\n",
       "      <td>1.0083605932938102e-06</td>\n",
       "    </tr>\n",
       "  </tbody>\n",
       "</table>\n",
       "</div>"
      ],
      "text/plain": [
       "                                class prior transform  trainable shape  \\\n",
       "GPR/kern/brownian/variance  Parameter  None       +ve       True    ()   \n",
       "GPR/kern/constant/variance  Parameter  None       +ve       True    ()   \n",
       "\n",
       "                            fixed_shape                   value  \n",
       "GPR/kern/brownian/variance         True       1.995006697774781  \n",
       "GPR/kern/constant/variance         True  1.0083605932938102e-06  "
      ]
     },
     "execution_count": 48,
     "metadata": {},
     "output_type": "execute_result"
    }
   ],
   "source": [
    "k.as_pandas_table()"
   ]
  },
  {
   "cell_type": "code",
   "execution_count": null,
   "metadata": {},
   "outputs": [],
   "source": []
  },
  {
   "cell_type": "code",
   "execution_count": 65,
   "metadata": {
    "ExecuteTime": {
     "end_time": "2018-06-06T17:21:44.590953Z",
     "start_time": "2018-06-06T17:21:44.582741Z"
    }
   },
   "outputs": [],
   "source": [
    "import numpy as np\n",
    "from scipy.sparse import dok_matrix\n",
    "S = dok_matrix((5, 5), dtype=np.float32)\n",
    "for i in range(5):\n",
    "    for j in range(5):\n",
    "        S[i,j] = i+j    # Update element"
   ]
  },
  {
   "cell_type": "code",
   "execution_count": 66,
   "metadata": {
    "ExecuteTime": {
     "end_time": "2018-06-06T17:21:49.273253Z",
     "start_time": "2018-06-06T17:21:49.266352Z"
    }
   },
   "outputs": [
    {
     "data": {
      "text/plain": [
       "<5x5 sparse matrix of type '<class 'numpy.float32'>'\n",
       "\twith 24 stored elements in Dictionary Of Keys format>"
      ]
     },
     "execution_count": 66,
     "metadata": {},
     "output_type": "execute_result"
    }
   ],
   "source": [
    "S"
   ]
  },
  {
   "cell_type": "code",
   "execution_count": 69,
   "metadata": {
    "ExecuteTime": {
     "end_time": "2018-06-06T17:22:17.411157Z",
     "start_time": "2018-06-06T17:22:17.396928Z"
    }
   },
   "outputs": [
    {
     "ename": "AttributeError",
     "evalue": "exp2 not found",
     "output_type": "error",
     "traceback": [
      "\u001b[0;31m---------------------------------------------------------------------------\u001b[0m",
      "\u001b[0;31mAttributeError\u001b[0m                            Traceback (most recent call last)",
      "\u001b[0;32m<ipython-input-69-aa83efdb239e>\u001b[0m in \u001b[0;36m<module>\u001b[0;34m()\u001b[0m\n\u001b[0;32m----> 1\u001b[0;31m \u001b[0mnp\u001b[0m\u001b[0;34m.\u001b[0m\u001b[0mexp2\u001b[0m\u001b[0;34m(\u001b[0m\u001b[0mS\u001b[0m\u001b[0;34m)\u001b[0m\u001b[0;34m\u001b[0m\u001b[0m\n\u001b[0m",
      "\u001b[0;32m/usr/local/miniconda3/envs/dev/lib/python3.6/site-packages/scipy/sparse/base.py\u001b[0m in \u001b[0;36m__getattr__\u001b[0;34m(self, attr)\u001b[0m\n\u001b[1;32m    684\u001b[0m             \u001b[0;32mreturn\u001b[0m \u001b[0mself\u001b[0m\u001b[0;34m.\u001b[0m\u001b[0mgetnnz\u001b[0m\u001b[0;34m(\u001b[0m\u001b[0;34m)\u001b[0m\u001b[0;34m\u001b[0m\u001b[0m\n\u001b[1;32m    685\u001b[0m         \u001b[0;32melse\u001b[0m\u001b[0;34m:\u001b[0m\u001b[0;34m\u001b[0m\u001b[0m\n\u001b[0;32m--> 686\u001b[0;31m             \u001b[0;32mraise\u001b[0m \u001b[0mAttributeError\u001b[0m\u001b[0;34m(\u001b[0m\u001b[0mattr\u001b[0m \u001b[0;34m+\u001b[0m \u001b[0;34m\" not found\"\u001b[0m\u001b[0;34m)\u001b[0m\u001b[0;34m\u001b[0m\u001b[0m\n\u001b[0m\u001b[1;32m    687\u001b[0m \u001b[0;34m\u001b[0m\u001b[0m\n\u001b[1;32m    688\u001b[0m     \u001b[0;32mdef\u001b[0m \u001b[0mtranspose\u001b[0m\u001b[0;34m(\u001b[0m\u001b[0mself\u001b[0m\u001b[0;34m,\u001b[0m \u001b[0maxes\u001b[0m\u001b[0;34m=\u001b[0m\u001b[0;32mNone\u001b[0m\u001b[0;34m,\u001b[0m \u001b[0mcopy\u001b[0m\u001b[0;34m=\u001b[0m\u001b[0;32mFalse\u001b[0m\u001b[0;34m)\u001b[0m\u001b[0;34m:\u001b[0m\u001b[0;34m\u001b[0m\u001b[0m\n",
      "\u001b[0;31mAttributeError\u001b[0m: exp2 not found"
     ]
    }
   ],
   "source": [
    "np.exp2(S)"
   ]
  },
  {
   "cell_type": "code",
   "execution_count": 102,
   "metadata": {
    "ExecuteTime": {
     "end_time": "2018-06-06T19:22:39.093296Z",
     "start_time": "2018-06-06T19:22:39.082044Z"
    }
   },
   "outputs": [
    {
     "data": {
      "text/plain": [
       "(array([[ 0.03469067, -0.03141719,  0.04187849],\n",
       "        [-0.03141719, -0.05178146,  0.12887429],\n",
       "        [ 0.04187849,  0.12887429, -0.12688697]]),\n",
       " array([[-0.01482021, -0.00336181, -0.00822261],\n",
       "        [-0.01235115, -0.00280173, -0.00685271],\n",
       "        [ 0.00646326,  0.00146612,  0.00358597]]))"
      ]
     },
     "execution_count": 102,
     "metadata": {},
     "output_type": "execute_result"
    }
   ],
   "source": [
    "np.random.seed(0)\n",
    "\n",
    "sigma = 1.\n",
    "\n",
    "r1 = np.random.normal(size=(1,3))\n",
    "r2 = np.random.normal(size=(1,3))\n",
    "\n",
    "d1, d2 = np.linalg.norm(r1), np.linalg.norm(r2)\n",
    "r1_hat, r2_hat = r1/d1, r2/d2\n",
    "\n",
    "\n",
    "K1 = 1/sigma**2 * np.exp(-np.linalg.norm(r1-r2)**2/(2*sigma**2)) * (np.eye(3) - 1/sigma**2 *(r1-r2)*(r1-r2).T )\n",
    "K2 = 1 / sigma**2 * np.exp(-(d1 - d2) ** 2 / (2 * sigma ** 2)) * (1 - (d1 - d2) ** 2 / sigma ** 2) * r1_hat*r2_hat.T\n",
    "\n",
    "K1, K2\n"
   ]
  },
  {
   "cell_type": "code",
   "execution_count": 124,
   "metadata": {
    "ExecuteTime": {
     "end_time": "2018-06-06T21:14:39.525042Z",
     "start_time": "2018-06-06T21:14:39.510164Z"
    }
   },
   "outputs": [
    {
     "name": "stdout",
     "output_type": "stream",
     "text": [
      "[[ 0.          0.          0.        ]\n",
      " [ 0.          0.60653066  0.        ]\n",
      " [ 0.          0.          0.60653066]]\n",
      "[[ 0.  0.  0.]\n",
      " [ 0.  1.  0.]\n",
      " [ 0.  0.  0.]]\n"
     ]
    }
   ],
   "source": [
    "\n",
    "sigma = 1.\n",
    "\n",
    "r0 = np.array([0,0,0]).reshape(1,-1)\n",
    "\n",
    "\n",
    "np.random.seed(0)\n",
    "r1 = np.random.normal(size=(1,3))\n",
    "r2 = np.random.normal(size=(1,3))\n",
    "\n",
    "r1  = np.array([1,0,0]).reshape(1,-1)\n",
    "r2  = np.array([0,1,0]).reshape(1,-1)\n",
    "\n",
    "d1, d2 = np.linalg.norm(r1), np.linalg.norm(r2)\n",
    "r1_hat, r2_hat = r1/d1, r2/d2\n",
    "\n",
    "\n",
    "def kernel1(r1, r2):\n",
    "    return 1 / sigma**2 * np.exp(-np.linalg.norm(r1 - r2)**2 / (2 * sigma**2)) * \\\n",
    "           (np.eye(3) - 1/sigma**2 *(r1 - r2)*(r1 - r2).T )\n",
    "\n",
    "\n",
    "def kernel2(r1, r2):\n",
    "    d1, d2 = np.linalg.norm(r1), np.linalg.norm(r2)\n",
    "    r1_hat, r2_hat = r1/d1, r2/d2\n",
    "    \n",
    "    return 1 / sigma**2 * np.exp(-(d1 - d2) ** 2 / (2 * sigma ** 2)) * (1 - (d1 - d2) ** 2 / sigma ** 2) * \\\n",
    "           r1_hat*r2_hat.T\n",
    "\n",
    "\n",
    "K1, K2 = kernel1(r1,r0), kernel2(r2, r2)\n",
    "print(K1)\n",
    "print(K2)\n"
   ]
  },
  {
   "cell_type": "code",
   "execution_count": null,
   "metadata": {},
   "outputs": [],
   "source": []
  },
  {
   "cell_type": "code",
   "execution_count": null,
   "metadata": {},
   "outputs": [],
   "source": []
  }
 ],
 "metadata": {
  "kernelspec": {
   "display_name": "Python 3",
   "language": "python",
   "name": "python3"
  },
  "language_info": {
   "codemirror_mode": {
    "name": "ipython",
    "version": 3
   },
   "file_extension": ".py",
   "mimetype": "text/x-python",
   "name": "python",
   "nbconvert_exporter": "python",
   "pygments_lexer": "ipython3",
   "version": "3.6.5"
  },
  "toc": {
   "base_numbering": 1,
   "nav_menu": {},
   "number_sections": false,
   "sideBar": true,
   "skip_h1_title": false,
   "title_cell": "Table of Contents",
   "title_sidebar": "Contents",
   "toc_cell": false,
   "toc_position": {},
   "toc_section_display": true,
   "toc_window_display": false
  }
 },
 "nbformat": 4,
 "nbformat_minor": 2
}
