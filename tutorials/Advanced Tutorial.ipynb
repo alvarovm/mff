{
 "cells": [
  {
   "cell_type": "markdown",
   "metadata": {},
   "source": [
    "# Advanced Tutorial for the MFF Package <br/>\n",
    "\n",
    "In this jupyter notebook, the main functionalities of MFF will be introduced and briefly explained. <br/>\n",
    "As an example, we will train a Gaussian Process Fore Field on DFT data of molecular dynamics simulations of a Nickel 19 nanoparticle. \n",
    "Subsequently, the Gaussian process force field's accuracy will be tested and the scatter plot of errors will be shown.\n",
    "Then we will map the trained Gaussian Process onto a non-parametric force field, which will finally be used to run very fast\n",
    "molecular dynamics simulations using the ASE Python package."
   ]
  },
  {
   "cell_type": "code",
   "execution_count": 1,
   "metadata": {},
   "outputs": [
    {
     "name": "stderr",
     "output_type": "stream",
     "text": [
      "WARNING (theano.configdefaults): install mkl with `conda install mkl-service`: No module named 'mkl'\n"
     ]
    }
   ],
   "source": [
    "# Standard Imports\n",
    "import logging\n",
    "import numpy as np\n",
    "import matplotlib.pyplot as plt\n",
    "# import ASE\n",
    "from ase.io import read\n",
    "from ase.io import write\n",
    "from ase import Atoms\n",
    "# Import MFF\n",
    "from mff import utility, configurations, models, load_model\n",
    "from pathlib import Path\n",
    "\n",
    "%matplotlib notebook  \n",
    "logging.basicConfig(level=logging.ERROR)  # Verbosity selection: INFO, WARNING or ERROR"
   ]
  },
  {
   "cell_type": "markdown",
   "metadata": {},
   "source": [
    "## Extract local atomic environment data from a trajectory file\n",
    "As a first step, we must transform data coming from an ab-initio run onto data which can be used as inputs and outputs for our force (and/ior energy) prediction problem. <br/>\n",
    "To do so, we use the \"configurations\" module of MFF and save the transformed data onto an unsurprisingly named \"data.npy\" file. <br/>\n",
    "The \"data\" file will contain informations about which elements are present in the system, a list of all local atomic environments carved using the specied cutoff radius, a list of all forces pertaining to the central atoms of said atomic environments, a collecion of the energies associated to each snapshot of the trajectory file, and a list that groups local atomic enviornments by snapsht necessary for total energy training and testing.\n",
    "\n",
    "N.B.: Make sure that your trajectory xyz file has forces which are called \"forces\", and energies called \"energy\" for each snapshot, and that all units of measure are in Angstrom, eV and eV/Angstrom.\n",
    "If this is not the case, remember to specify the force naming and energy naming convention in the funcion \"extract data\" below, and to multiply all data by the appropriate conversion if the units do not match the ones above."
   ]
  },
  {
   "cell_type": "code",
   "execution_count": 2,
   "metadata": {},
   "outputs": [],
   "source": [
    "directory = Path('data/Ni_19/')             # Path to the directory that contains the trajectory file, and where all of the files will be saved\n",
    "filename = directory / 'movie.xyz'       # name of the trajectory file\n",
    "cutoff = 6.4                              # Cutoff to be used to carve local atomic environemnts, in Angstrom\n",
    "\n",
    "\n",
    "data = configurations.generate_and_save(filename, cutoff, forces_label='force', energy_label='energy')   # Generate and save the compressed \"data\" object that contains all the information\n",
    "elements, confs, forces, energies, global_confs = configurations.load_and_unpack(directory, cutoff) # Extract the information from the zipped data object which is located in the directory"
   ]
  },
  {
   "cell_type": "markdown",
   "metadata": {},
   "source": [
    "## Choose training set\n",
    "\n",
    "Here we will first set the number of training and test points we would like to use.\n",
    "The training points can be chosen at random, or using the \"grid2\" and \"grid3\" sampling methods. \n",
    "\n",
    "Such methods try to include in the training database configurations which contain atomic distances (grid2) or unseen triplets of atomic distances (grid3) not yet present in the training database.\n"
   ]
  },
  {
   "cell_type": "code",
   "execution_count": 3,
   "metadata": {},
   "outputs": [],
   "source": [
    "# Number of training points to use. NB: if training on forces AND energies, this number will\n",
    "# be the number of force training points, the number of energy training points is determined byf_e_ratio \n",
    "training_points = 10      \n",
    "\n",
    "# Number of test points to use. NB: if training on forces AND energies, this number will\n",
    "# be the number of force training points, the number of energy training points is determined byf_e_ratio \n",
    "test_points = 10\n",
    "\n",
    "# Sampling methodology used to select the training points. Options are: \"random\", \"grid2\" and \"grid3\". \n",
    "# N.B> when using \"grid2\" or \"grid3\" the effective number of points selected will slightly differ from the one indicated above.\n",
    "sampling = \"random\"\n",
    "\n",
    "# Numberof bins to use in the \"grid2\" and \"grid3\" sampling methods. If left None, this will be utomatically chosen\n",
    "# in order for the effective number of training points to match as closely as possible \"training_points\" \n",
    "nbins = None\n",
    "\n",
    "# When using force aAND energy training, the number of training points for the energy data will be training_points//f_e_ratio + 1.\n",
    "# The number of energy testing points will be, similarly, test_points//f_e_ratio + 1.\n",
    "f_e_ratio = 10\n",
    "\n",
    "# Get the training and test set for energy and force training. Capital letters refer to test set, small letters to traiing set. \n",
    "# X refer to input data (local atomic environemnts, total atomic environments), Y refer to output data (force, total energy.)\n",
    "# Letters without subscript are relative to force training/testing, letters with _e are relative to energy training/testing\n",
    "X, Y, X_e, Y_e, x, y, x_e, y_e = utility.sample_oneset(confs, forces, global_confs,\n",
    "                energies, elements, sampling, training_points, test_points, cutoff, nbins, f_e_ratio)"
   ]
  },
  {
   "cell_type": "markdown",
   "metadata": {},
   "source": [
    "## Choose the GP hyperparameters, create the GP object and train it"
   ]
  },
  {
   "cell_type": "code",
   "execution_count": 4,
   "metadata": {},
   "outputs": [
    {
     "name": "stdout",
     "output_type": "stream",
     "text": [
      "Training using 10 points on 1 cores\n",
      "Saved Gaussian process with name: data/Ni_19/models/GP_ker_TwoBodySingleSpecies_ntr_10.npy\n"
     ]
    }
   ],
   "source": [
    "# Choice of the kernel model to use. The options are: \"2b\", \"combined\", \"3b\". We suggest using \"2b\" for quick tests and \"combined\" for producing force fields.\n",
    "kernel =  \"2b\"\n",
    "\n",
    "# Choice of the kernel lengthscale parameter, in Angstroms. We suggest using values between 0.2 nand 1 Angstroms.\n",
    "sigma = 0.5\n",
    "\n",
    "# Choice of the noise  associated to the trainig data. Optimal results are usually obtained with noise values betwwe 1e-2 and 1e-4.\n",
    "noise = 0.001\n",
    "\n",
    "# Choose whether to train on force only, energies only or forces and energies\n",
    "train_mode = \"force\"\n",
    "\n",
    "# Number of cores to use in the training. The paralllelization of the code does not scale linearly with the number of cores,\n",
    "# we therefore suggest using more than one core only when producing accurate force field with the \"combined\" kernel and more than 500 training points.\n",
    "ncores = 1\n",
    "\n",
    "# Create and train the Gaussian process object\n",
    "m = utility.get_gp(directory, X, Y, elements, kernel, sigma, noise, cutoff, training_points, X_e, Y_e, train_mode, ncores)"
   ]
  },
  {
   "cell_type": "markdown",
   "metadata": {},
   "source": [
    "## Test the GP, display scatter plots of the errors and print error metrics"
   ]
  },
  {
   "cell_type": "code",
   "execution_count": 5,
   "metadata": {},
   "outputs": [
    {
     "name": "stdout",
     "output_type": "stream",
     "text": [
      "Testing the force prediction on 10 configurations\n",
      "\n",
      "RMSE: 0.2125 eV/A\n",
      "MAEC: 0.1549 eV/A\n",
      "MAEF : 0.3062 +- 0.2041 eV/A\n",
      "Relative MAEF: 0.5031 +- 0.3354\n"
     ]
    },
    {
     "data": {
      "image/png": "[encoded data removed]",
      "text/plain": [
       "<Figure size 432x288 with 2 Axes>"
      ]
     },
     "metadata": {},
     "output_type": "display_data"
    }
   ],
   "source": [
    "# Choose whether to test the GP predictions on forces only, energies only or forces and energies\n",
    "test_mode = \"force\"\n",
    "\n",
    "# Choose if you want to obtain the scatter plot of the errors incurred by the Gp\n",
    "plot = True\n",
    "\n",
    "# Get the error metrics (which are also printed on screen) calculated on the test points\n",
    "MAE_c, MAE_f, SMAE_f, M_f, RMSE_f, MAE_e, SMAE_e, RMSE_e = utility.test_gp(m, x, y, x_e, y_e, plot, test_mode)"
   ]
  },
  {
   "cell_type": "markdown",
   "metadata": {},
   "source": [
    "## Map the Gp force field onto a non-parametric classical tabulated force field"
   ]
  },
  {
   "cell_type": "code",
   "execution_count": 6,
   "metadata": {},
   "outputs": [],
   "source": [
    "# number of points to use while avaluating the tabulated force field. We reccomend using 100 points for \"2b\" kernels\n",
    "# And at least 80 points for \"3b\" kernels. Combined kernels require a specification of the number of points to use\n",
    "# for the 2-body grid and for the 3-body grid separately.\n",
    "npoints_grid = 100\n",
    "\n",
    "# Minimum  Interatomic distance for which to build a mapped potential. If the distance is not 0, \n",
    "# MD simulations where atoms become closer than this value value will cause an errorand interrupt the simulation.\n",
    "# Despite this, it is useful to use values larger than 0 to increase mapping accuracy by making the grid of tabbed values denser.\n",
    "# This is especially true for more computationally expensive grid constructions, such as the \"3b\" and \"combined\" ones.\n",
    "grid_start = 1.5\n",
    "\n",
    "# Build the mapped force field\n",
    "m.build_grid(grid_start, npoints_grid)  # Map the Gaussian process to build a MFF"
   ]
  },
  {
   "cell_type": "markdown",
   "metadata": {},
   "source": [
    "## Save the model, the trained Gaussian process and, most importantly, the mapped potential\n",
    "This function can be used also to save the trained model before mapping the potential."
   ]
  },
  {
   "cell_type": "code",
   "execution_count": 7,
   "metadata": {},
   "outputs": [
    {
     "name": "stdout",
     "output_type": "stream",
     "text": [
      "Saved Gaussian process with name: data/Ni_19/models/GP_ker_TwoBodySingleSpecies_ntr_10.npy\n"
     ]
    }
   ],
   "source": [
    "m.save(directory / \"models\")"
   ]
  },
  {
   "cell_type": "markdown",
   "metadata": {},
   "source": [
    "## Load the model, whether it contains a GP or a mapped potential"
   ]
  },
  {
   "cell_type": "code",
   "execution_count": 8,
   "metadata": {},
   "outputs": [
    {
     "name": "stdout",
     "output_type": "stream",
     "text": [
      "Loaded GP from file\n"
     ]
    }
   ],
   "source": [
    "m2 = load_model.load(\"data/Ni_19/models/MODEL_ker_TwoBodySingleSpecies_ntr_10.json\")"
   ]
  },
  {
   "cell_type": "markdown",
   "metadata": {},
   "source": [
    "## Setup an ASE Calculator to use the MFF to run simulations"
   ]
  },
  {
   "cell_type": "code",
   "execution_count": null,
   "metadata": {},
   "outputs": [],
   "source": [
    "mff_calc = calculators.TwoBodySingleSpecies(cutoff, m.grid)  # Initialize calculator module"
   ]
  },
  {
   "cell_type": "code",
   "execution_count": null,
   "metadata": {},
   "outputs": [],
   "source": []
  }
 ],
 "metadata": {
  "kernelspec": {
   "display_name": "Python 3",
   "language": "python",
   "name": "python3"
  },
  "language_info": {
   "codemirror_mode": {
    "name": "ipython",
    "version": 3
   },
   "file_extension": ".py",
   "mimetype": "text/x-python",
   "name": "python",
   "nbconvert_exporter": "python",
   "pygments_lexer": "ipython3",
   "version": "3.6.5"
  }
 },
 "nbformat": 4,
 "nbformat_minor": 2
}
