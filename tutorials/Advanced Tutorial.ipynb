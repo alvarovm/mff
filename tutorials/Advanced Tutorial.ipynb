{
 "cells": [
  {
   "cell_type": "markdown",
   "metadata": {},
   "source": [
    "# Advanced Tutorial for the MFF Package <br/>\n",
    "\n",
    "In this jupyter notebook, the main functionalities of MFF will be introduced and briefly explained. <br/>\n",
    "As an example, we will train a Gaussian Process Fore Field on DFT data of molecular dynamics simulations of a Nickel 19 nanoparticle. \n",
    "Subsequently, the Gaussian process force field's accuracy will be tested and the scatter plot of errors will be shown.\n",
    "Then we will map the trained Gaussian Process onto a non-parametric force field, which will finally be used to run very fast\n",
    "molecular dynamics simulations using the ASE Python package."
   ]
  },
  {
   "cell_type": "code",
   "execution_count": 1,
   "metadata": {},
   "outputs": [
    {
     "name": "stderr",
     "output_type": "stream",
     "text": [
      "WARNING (theano.configdefaults): install mkl with `conda install mkl-service`: No module named 'mkl'\n"
     ]
    }
   ],
   "source": [
    "# Standard Imports\n",
    "import logging\n",
    "import numpy as np\n",
    "import matplotlib.pyplot as plt\n",
    "# import ASE\n",
    "from ase.io import read\n",
    "from ase.io import write\n",
    "from ase import Atoms\n",
    "# Import MFF\n",
    "from mff import utility, configurations, models, load_model, calculators\n",
    "from pathlib import Path\n",
    "\n",
    "%matplotlib notebook  \n",
    "logging.basicConfig(level=logging.ERROR)  # Verbosity selection: INFO, WARNING or ERROR"
   ]
  },
  {
   "cell_type": "markdown",
   "metadata": {},
   "source": [
    "## Extract local atomic environment data from a trajectory file\n",
    "As a first step, we must transform data coming from an ab-initio run onto data which can be used as inputs and outputs for our force (and/ior energy) prediction problem. <br/>\n",
    "To do so, we use the \"configurations\" module of MFF and save the transformed data onto an unsurprisingly named \"data.npy\" file. <br/>\n",
    "The \"data\" file will contain informations about which elements are present in the system, a list of all local atomic environments carved using the specied cutoff radius, a list of all forces pertaining to the central atoms of said atomic environments, a collecion of the energies associated to each snapshot of the trajectory file, and a list that groups local atomic enviornments by snapsht necessary for total energy training and testing.\n",
    "\n",
    "N.B.: Make sure that your trajectory xyz file has forces which are called \"forces\", and energies called \"energy\" for each snapshot, and that all units of measure are in Angstrom, eV and eV/Angstrom.\n",
    "If this is not the case, remember to specify the force naming and energy naming convention in the funcion \"extract data\" below, and to multiply all data by the appropriate conversion if the units do not match the ones above."
   ]
  },
  {
   "cell_type": "code",
   "execution_count": 2,
   "metadata": {},
   "outputs": [],
   "source": [
    "directory = Path('data/Ni_19/')             # Path to the directory that contains the trajectory file, and where all of the files will be saved\n",
    "filename = directory / 'movie.xyz'       # name of the trajectory file\n",
    "cutoff = 6.4                              # Cutoff to be used to carve local atomic environemnts, in Angstrom\n",
    "\n",
    "\n",
    "data = configurations.generate_and_save(filename, cutoff, forces_label='force', energy_label='energy')   # Generate and save the compressed \"data\" object that contains all the information\n",
    "elements, confs, forces, energies, global_confs = configurations.load_and_unpack(directory, cutoff) # Extract the information from the zipped data object which is located in the directory"
   ]
  },
  {
   "cell_type": "markdown",
   "metadata": {},
   "source": [
    "## Choose training set\n",
    "\n",
    "Here we will first set the number of training and test points we would like to use.\n",
    "The training points can be chosen at random, or using the \"grid2\" and \"grid3\" sampling methods. \n",
    "\n",
    "Such methods try to include in the training database configurations which contain atomic distances (grid2) or unseen triplets of atomic distances (grid3) not yet present in the training database.\n"
   ]
  },
  {
   "cell_type": "code",
   "execution_count": 3,
   "metadata": {},
   "outputs": [],
   "source": [
    "# Number of training points to use. NB: if training on forces AND energies, this number will\n",
    "# be the number of force training points, the number of energy training points is determined byf_e_ratio \n",
    "training_points = 200      \n",
    "\n",
    "# Number of test points to use. NB: if training on forces AND energies, this number will\n",
    "# be the number of force training points, the number of energy training points is determined byf_e_ratio \n",
    "test_points = 100\n",
    "\n",
    "# Sampling methodology used to select the training points. Options are: \"random\", \"grid2\" and \"grid3\". \n",
    "# N.B> when using \"grid2\" or \"grid3\" the effective number of points selected will slightly differ from the one indicated above.\n",
    "sampling = \"grid2\"\n",
    "\n",
    "# Numberof bins to use in the \"grid2\" and \"grid3\" sampling methods. If left None, this will be utomatically chosen\n",
    "# in order for the effective number of training points to match as closely as possible \"training_points\" \n",
    "nbins = None\n",
    "\n",
    "# When using force aAND energy training, the number of training points for the energy data will be training_points//f_e_ratio + 1.\n",
    "# The number of energy testing points will be, similarly, test_points//f_e_ratio + 1.\n",
    "f_e_ratio = 10\n",
    "\n",
    "# Get the training and test set for energy and force training. Capital letters refer to test set, small letters to traiing set. \n",
    "# X refer to input data (local atomic environemnts, total atomic environments), Y refer to output data (force, total energy.)\n",
    "# Letters without subscript are relative to force training/testing, letters with _e are relative to energy training/testing\n",
    "X, Y, X_e, Y_e, x, y, x_e, y_e = utility.sample_oneset(confs, forces, global_confs,\n",
    "                energies, elements, sampling, training_points, test_points, cutoff, nbins, f_e_ratio)"
   ]
  },
  {
   "cell_type": "markdown",
   "metadata": {},
   "source": [
    "## Choose the GP hyperparameters, create the GP object and train it"
   ]
  },
  {
   "cell_type": "code",
   "execution_count": 4,
   "metadata": {},
   "outputs": [
    {
     "name": "stdout",
     "output_type": "stream",
     "text": [
      "Training using 200 points on 1 cores\n",
      "Saved Gaussian process with name: data/Ni_19/models/GP_ker_TwoBodySingleSpecies_ntr_200.npy\n"
     ]
    }
   ],
   "source": [
    "# Choice of the kernel model to use. The options are: \"2b\", \"combined\", \"3b\". We suggest using \"2b\" for quick tests and \"combined\" for producing force fields.\n",
    "kernel =  \"2b\"\n",
    "\n",
    "# Choice of the kernel lengthscale parameter, in Angstroms. We suggest using values between 0.2 nand 1 Angstroms.\n",
    "sigma = 0.5\n",
    "\n",
    "# Choice of the noise  associated to the trainig data. Optimal results are usually obtained with noise values betwwe 1e-2 and 1e-4.\n",
    "noise = 0.001\n",
    "\n",
    "# Choose whether to train on force only, energies only or forces and energies\n",
    "train_mode = \"force\"\n",
    "\n",
    "# Number of cores to use in the training. The paralllelization of the code does not scale linearly with the number of cores,\n",
    "# we therefore suggest using more than one core only when producing accurate force field with the \"combined\" kernel and more than 500 training points.\n",
    "ncores = 1\n",
    "\n",
    "# Create and train the Gaussian process object\n",
    "m = utility.get_gp(directory, X, Y, elements, kernel, sigma, noise, cutoff, training_points, X_e, Y_e, train_mode, ncores)"
   ]
  },
  {
   "cell_type": "markdown",
   "metadata": {},
   "source": [
    "## Test the GP, display scatter plots of the errors and print error metrics"
   ]
  },
  {
   "cell_type": "code",
   "execution_count": 5,
   "metadata": {},
   "outputs": [
    {
     "name": "stdout",
     "output_type": "stream",
     "text": [
      "Testing the force prediction on 100 configurations\n",
      "\n",
      "RMSE: 0.1298 eV/A\n",
      "MAEC: 0.1017 eV/A\n",
      "MAEF : 0.2052 +- 0.0917 eV/A\n",
      "Relative MAEF: 0.3353 +- 0.1498\n"
     ]
    },
    {
     "data": {
      "image/png": "[encoded data removed]",
      "text/plain": [
       "<Figure size 432x288 with 2 Axes>"
      ]
     },
     "metadata": {},
     "output_type": "display_data"
    }
   ],
   "source": [
    "# Choose whether to test the GP predictions on forces only, energies only or forces and energies\n",
    "test_mode = \"force\"\n",
    "\n",
    "# Choose if you want to obtain the scatter plot of the errors incurred by the Gp\n",
    "plot = True\n",
    "\n",
    "# Get the error metrics (which are also printed on screen) calculated on the test points\n",
    "MAE_c, MAE_f, SMAE_f, M_f, RMSE_f, MAE_e, SMAE_e, RMSE_e = utility.test_gp(m, x, y, x_e, y_e, plot, test_mode)"
   ]
  },
  {
   "cell_type": "markdown",
   "metadata": {},
   "source": [
    "## Map the Gp force field onto a non-parametric classical tabulated force field"
   ]
  },
  {
   "cell_type": "code",
   "execution_count": 6,
   "metadata": {},
   "outputs": [],
   "source": [
    "# number of points to use while avaluating the tabulated force field. We reccomend using 100 points for \"2b\" kernels\n",
    "# And at least 80 points for \"3b\" kernels. Combined kernels require a specification of the number of points to use\n",
    "# for the 2-body grid and for the 3-body grid separately.\n",
    "npoints_grid = 100\n",
    "\n",
    "# Minimum  Interatomic distance for which to build a mapped potential. If the distance is not 0, \n",
    "# MD simulations where atoms become closer than this value value will cause an errorand interrupt the simulation.\n",
    "# Despite this, it is useful to use values larger than 0 to increase mapping accuracy by making the grid of tabbed values denser.\n",
    "# This is especially true for more computationally expensive grid constructions, such as the \"3b\" and \"combined\" ones.\n",
    "grid_start = 1.5\n",
    "\n",
    "# Build the mapped force field\n",
    "m.build_grid(grid_start, npoints_grid)  # Map the Gaussian process to build a MFF"
   ]
  },
  {
   "cell_type": "markdown",
   "metadata": {},
   "source": [
    "## Save the model, the trained Gaussian process and, most importantly, the mapped potential\n",
    "This function can be used also to save the trained model before mapping the potential."
   ]
  },
  {
   "cell_type": "code",
   "execution_count": 7,
   "metadata": {},
   "outputs": [
    {
     "name": "stdout",
     "output_type": "stream",
     "text": [
      "Saved Gaussian process with name: data/Ni_19/models/GP_ker_TwoBodySingleSpecies_ntr_200.npy\n"
     ]
    }
   ],
   "source": [
    "m.save(directory / \"models\")"
   ]
  },
  {
   "cell_type": "markdown",
   "metadata": {},
   "source": [
    "## Load the model, whether it contains a GP or a mapped potential"
   ]
  },
  {
   "cell_type": "code",
   "execution_count": 8,
   "metadata": {},
   "outputs": [
    {
     "name": "stdout",
     "output_type": "stream",
     "text": [
      "Loaded GP from file\n"
     ]
    }
   ],
   "source": [
    "m2 = load_model.load(\"data/Ni_19/models/MODEL_ker_TwoBodySingleSpecies_ntr_10.json\")"
   ]
  },
  {
   "cell_type": "markdown",
   "metadata": {},
   "source": [
    "## Setup Simulation parameters in ASE"
   ]
  },
  {
   "cell_type": "code",
   "execution_count": 9,
   "metadata": {},
   "outputs": [],
   "source": [
    "# Additional ASE imports\n",
    "from ase.md.velocitydistribution import MaxwellBoltzmannDistribution\n",
    "from ase.md.velocitydistribution import Stationary\n",
    "from ase.md.velocitydistribution import ZeroRotation\n",
    "from ase.md.verlet import VelocityVerlet\n",
    "from ase.md.langevin import Langevin\n",
    "from ase import units\n",
    "from ase.io import extxyz\n",
    "\n",
    "# Global Variables Definition\n",
    "gamma = 0.001 #  For Langevin Dynamics\n",
    "temp = 500 # K\n",
    "dt = 1.0  # fs\n",
    "cell_length = 10.0 # Angstrom\n",
    "\n",
    "atoms = read(filename, index=0, format='extxyz')  # Read the input file and setup the initial geometry form the xyz file\n",
    "atoms.set_positions(atoms.get_positions() - 0.5*np.array([cell_length, cell_length, cell_length]))  # Center atoms in the cell\n",
    "atoms.set_cell([[cell_length, 0.0, 0.0], [0, cell_length, 0], [0, 0, cell_length]]) # Set the simulation cell if not present\n",
    "\n"
   ]
  },
  {
   "cell_type": "markdown",
   "metadata": {},
   "source": [
    "## Setup an ASE Calculator to use the MFF to run simulations"
   ]
  },
  {
   "cell_type": "code",
   "execution_count": 10,
   "metadata": {},
   "outputs": [],
   "source": [
    "mff_calc = calculators.TwoBodySingleSpecies(cutoff, m.grid)  # Initialize calculator module\n",
    "atoms.set_calculator(mff_calc) # Tell ASE how to get the forces ( AKA choose the potential)\n",
    "\n",
    "# Setup the momenta and velocities\n",
    "dyn = VelocityVerlet(atoms, dt * units.fs)  # The dynamics will be a Verlet one\n",
    "MaxwellBoltzmannDistribution(atoms, 2.0 * temp * units.kB)  # Initialize velocities according to MB distribution at double T because of equipartition theorem\n",
    "ZeroRotation(atoms)  # Stop global rotation\n",
    "Stationary(atoms)  # Stop global movement"
   ]
  },
  {
   "cell_type": "markdown",
   "metadata": {},
   "source": [
    "## Auxiliary functions for the simulation"
   ]
  },
  {
   "cell_type": "code",
   "execution_count": 11,
   "metadata": {},
   "outputs": [],
   "source": [
    "def printenergy(a=atoms):\n",
    "    \"\"\"Function to print the potential, kinetic and total energy\"\"\"\n",
    "    epot = a.get_potential_energy() / len(a)\n",
    "    ekin = a.get_kinetic_energy() / len(a)\n",
    "    print('Energy per atom: Epot = %.3feV  Ekin = %.3feV (T=%3.0fK)  '\n",
    "          'Etot = %.3feV' % (epot, ekin, ekin / (1.5 * units.kB), epot + ekin))\n",
    "    \n",
    "def savexyz(a=atoms):\n",
    "    this_traj = open(output_name, \"a\")\n",
    "    extxyz.write_extxyz(this_traj, [atoms])"
   ]
  },
  {
   "cell_type": "markdown",
   "metadata": {},
   "source": [
    "## Run the simulation"
   ]
  },
  {
   "cell_type": "code",
   "execution_count": 12,
   "metadata": {},
   "outputs": [
    {
     "name": "stdout",
     "output_type": "stream",
     "text": [
      "Energy per atom: Epot = -2.715eV  Ekin = 0.130eV (T=1004K)  Etot = -2.585eV\n",
      "Energy per atom: Epot = -2.562eV  Ekin = 0.053eV (T=410K)  Etot = -2.509eV\n",
      "Energy per atom: Epot = -2.586eV  Ekin = 0.065eV (T=505K)  Etot = -2.521eV\n",
      "Energy per atom: Epot = -2.573eV  Ekin = 0.059eV (T=456K)  Etot = -2.514eV\n",
      "Energy per atom: Epot = -2.572eV  Ekin = 0.058eV (T=450K)  Etot = -2.514eV\n",
      "Energy per atom: Epot = -2.601eV  Ekin = 0.073eV (T=561K)  Etot = -2.528eV\n",
      "Energy per atom: Epot = -2.589eV  Ekin = 0.067eV (T=517K)  Etot = -2.522eV\n",
      "Energy per atom: Epot = -2.583eV  Ekin = 0.064eV (T=494K)  Etot = -2.519eV\n",
      "Energy per atom: Epot = -2.574eV  Ekin = 0.059eV (T=459K)  Etot = -2.515eV\n",
      "Energy per atom: Epot = -2.589eV  Ekin = 0.067eV (T=517K)  Etot = -2.522eV\n",
      "Energy per atom: Epot = -2.592eV  Ekin = 0.068eV (T=528K)  Etot = -2.524eV\n",
      "Energy per atom: Epot = -2.591eV  Ekin = 0.068eV (T=524K)  Etot = -2.523eV\n",
      "Energy per atom: Epot = -2.578eV  Ekin = 0.061eV (T=474K)  Etot = -2.517eV\n",
      "Energy per atom: Epot = -2.586eV  Ekin = 0.065eV (T=503K)  Etot = -2.521eV\n",
      "Energy per atom: Epot = -2.577eV  Ekin = 0.061eV (T=469K)  Etot = -2.516eV\n",
      "Energy per atom: Epot = -2.599eV  Ekin = 0.072eV (T=556K)  Etot = -2.527eV\n",
      "Energy per atom: Epot = -2.609eV  Ekin = 0.077eV (T=594K)  Etot = -2.532eV\n",
      "Energy per atom: Epot = -2.545eV  Ekin = 0.045eV (T=347K)  Etot = -2.500eV\n",
      "Energy per atom: Epot = -2.537eV  Ekin = 0.041eV (T=314K)  Etot = -2.496eV\n",
      "Energy per atom: Epot = -2.600eV  Ekin = 0.072eV (T=559K)  Etot = -2.528eV\n",
      "Energy per atom: Epot = -2.594eV  Ekin = 0.069eV (T=534K)  Etot = -2.525eV\n",
      "Energy per atom: Epot = -2.587eV  Ekin = 0.065eV (T=507K)  Etot = -2.521eV\n",
      "Energy per atom: Epot = -2.547eV  Ekin = 0.046eV (T=355K)  Etot = -2.501eV\n",
      "Energy per atom: Epot = -2.599eV  Ekin = 0.072eV (T=554K)  Etot = -2.527eV\n",
      "Energy per atom: Epot = -2.582eV  Ekin = 0.063eV (T=491K)  Etot = -2.519eV\n",
      "Energy per atom: Epot = -2.585eV  Ekin = 0.065eV (T=499K)  Etot = -2.520eV\n",
      "Energy per atom: Epot = -2.572eV  Ekin = 0.058eV (T=450K)  Etot = -2.514eV\n",
      "Energy per atom: Epot = -2.564eV  Ekin = 0.054eV (T=421K)  Etot = -2.510eV\n",
      "Energy per atom: Epot = -2.619eV  Ekin = 0.082eV (T=632K)  Etot = -2.537eV\n",
      "Energy per atom: Epot = -2.577eV  Ekin = 0.061eV (T=470K)  Etot = -2.516eV\n",
      "Energy per atom: Epot = -2.562eV  Ekin = 0.053eV (T=412K)  Etot = -2.509eV\n",
      "Energy per atom: Epot = -2.574eV  Ekin = 0.059eV (T=460K)  Etot = -2.515eV\n",
      "Energy per atom: Epot = -2.573eV  Ekin = 0.059eV (T=454K)  Etot = -2.514eV\n",
      "Energy per atom: Epot = -2.579eV  Ekin = 0.062eV (T=477K)  Etot = -2.517eV\n",
      "Energy per atom: Epot = -2.560eV  Ekin = 0.052eV (T=403K)  Etot = -2.508eV\n",
      "Energy per atom: Epot = -2.592eV  Ekin = 0.068eV (T=528K)  Etot = -2.524eV\n",
      "Energy per atom: Epot = -2.582eV  Ekin = 0.063eV (T=491K)  Etot = -2.519eV\n",
      "Energy per atom: Epot = -2.579eV  Ekin = 0.062eV (T=477K)  Etot = -2.517eV\n",
      "Energy per atom: Epot = -2.570eV  Ekin = 0.057eV (T=443K)  Etot = -2.513eV\n",
      "Energy per atom: Epot = -2.571eV  Ekin = 0.058eV (T=447K)  Etot = -2.513eV\n",
      "Energy per atom: Epot = -2.587eV  Ekin = 0.066eV (T=509K)  Etot = -2.521eV\n",
      "Energy per atom: Epot = -2.604eV  Ekin = 0.074eV (T=573K)  Etot = -2.530eV\n",
      "Energy per atom: Epot = -2.570eV  Ekin = 0.057eV (T=444K)  Etot = -2.513eV\n",
      "Energy per atom: Epot = -2.593eV  Ekin = 0.069eV (T=534K)  Etot = -2.525eV\n",
      "Energy per atom: Epot = -2.573eV  Ekin = 0.059eV (T=454K)  Etot = -2.514eV\n",
      "Energy per atom: Epot = -2.548eV  Ekin = 0.046eV (T=357K)  Etot = -2.502eV\n",
      "Energy per atom: Epot = -2.561eV  Ekin = 0.053eV (T=407K)  Etot = -2.508eV\n",
      "Energy per atom: Epot = -2.574eV  Ekin = 0.059eV (T=457K)  Etot = -2.515eV\n",
      "Energy per atom: Epot = -2.603eV  Ekin = 0.074eV (T=569K)  Etot = -2.529eV\n",
      "Energy per atom: Epot = -2.582eV  Ekin = 0.063eV (T=491K)  Etot = -2.519eV\n",
      "Energy per atom: Epot = -2.566eV  Ekin = 0.055eV (T=428K)  Etot = -2.511eV\n",
      "Energy per atom: Epot = -2.553eV  Ekin = 0.049eV (T=378K)  Etot = -2.504eV\n",
      "Energy per atom: Epot = -2.571eV  Ekin = 0.058eV (T=447K)  Etot = -2.513eV\n",
      "Energy per atom: Epot = -2.577eV  Ekin = 0.061eV (T=471K)  Etot = -2.516eV\n",
      "Energy per atom: Epot = -2.584eV  Ekin = 0.064eV (T=497K)  Etot = -2.520eV\n",
      "Energy per atom: Epot = -2.567eV  Ekin = 0.056eV (T=431K)  Etot = -2.511eV\n",
      "Energy per atom: Epot = -2.583eV  Ekin = 0.064eV (T=494K)  Etot = -2.519eV\n",
      "Energy per atom: Epot = -2.576eV  Ekin = 0.060eV (T=466K)  Etot = -2.516eV\n",
      "Energy per atom: Epot = -2.596eV  Ekin = 0.070eV (T=544K)  Etot = -2.526eV\n",
      "Energy per atom: Epot = -2.543eV  Ekin = 0.044eV (T=339K)  Etot = -2.499eV\n",
      "Energy per atom: Epot = -2.608eV  Ekin = 0.076eV (T=590K)  Etot = -2.532eV\n",
      "Energy per atom: Epot = -2.589eV  Ekin = 0.067eV (T=518K)  Etot = -2.522eV\n",
      "Energy per atom: Epot = -2.581eV  Ekin = 0.063eV (T=485K)  Etot = -2.518eV\n",
      "Energy per atom: Epot = -2.611eV  Ekin = 0.078eV (T=602K)  Etot = -2.533eV\n",
      "Energy per atom: Epot = -2.583eV  Ekin = 0.064eV (T=495K)  Etot = -2.520eV\n",
      "Energy per atom: Epot = -2.608eV  Ekin = 0.076eV (T=590K)  Etot = -2.532eV\n",
      "Energy per atom: Epot = -2.556eV  Ekin = 0.050eV (T=388K)  Etot = -2.506eV\n",
      "Energy per atom: Epot = -2.596eV  Ekin = 0.070eV (T=544K)  Etot = -2.526eV\n",
      "Energy per atom: Epot = -2.573eV  Ekin = 0.059eV (T=454K)  Etot = -2.514eV\n",
      "Energy per atom: Epot = -2.576eV  Ekin = 0.060eV (T=465K)  Etot = -2.516eV\n",
      "Energy per atom: Epot = -2.605eV  Ekin = 0.075eV (T=577K)  Etot = -2.530eV\n",
      "Energy per atom: Epot = -2.588eV  Ekin = 0.066eV (T=512K)  Etot = -2.522eV\n",
      "Energy per atom: Epot = -2.571eV  Ekin = 0.058eV (T=448K)  Etot = -2.514eV\n",
      "Energy per atom: Epot = -2.591eV  Ekin = 0.068eV (T=523K)  Etot = -2.523eV\n",
      "Energy per atom: Epot = -2.561eV  Ekin = 0.053eV (T=409K)  Etot = -2.508eV\n",
      "Energy per atom: Epot = -2.574eV  Ekin = 0.059eV (T=460K)  Etot = -2.515eV\n",
      "Energy per atom: Epot = -2.599eV  Ekin = 0.072eV (T=555K)  Etot = -2.527eV\n",
      "Energy per atom: Epot = -2.561eV  Ekin = 0.053eV (T=407K)  Etot = -2.508eV\n",
      "Energy per atom: Epot = -2.576eV  Ekin = 0.060eV (T=465K)  Etot = -2.516eV\n",
      "Energy per atom: Epot = -2.605eV  Ekin = 0.075eV (T=580K)  Etot = -2.530eV\n",
      "Energy per atom: Epot = -2.592eV  Ekin = 0.068eV (T=529K)  Etot = -2.524eV\n",
      "Energy per atom: Epot = -2.586eV  Ekin = 0.065eV (T=505K)  Etot = -2.521eV\n",
      "Energy per atom: Epot = -2.575eV  Ekin = 0.060eV (T=462K)  Etot = -2.515eV\n",
      "Energy per atom: Epot = -2.590eV  Ekin = 0.067eV (T=519K)  Etot = -2.523eV\n",
      "Energy per atom: Epot = -2.617eV  Ekin = 0.081eV (T=623K)  Etot = -2.536eV\n",
      "Energy per atom: Epot = -2.601eV  Ekin = 0.073eV (T=564K)  Etot = -2.528eV\n",
      "Energy per atom: Epot = -2.559eV  Ekin = 0.052eV (T=399K)  Etot = -2.507eV\n",
      "Energy per atom: Epot = -2.561eV  Ekin = 0.053eV (T=408K)  Etot = -2.508eV\n",
      "Energy per atom: Epot = -2.579eV  Ekin = 0.062eV (T=476K)  Etot = -2.517eV\n",
      "Energy per atom: Epot = -2.614eV  Ekin = 0.079eV (T=612K)  Etot = -2.535eV\n",
      "Energy per atom: Epot = -2.615eV  Ekin = 0.080eV (T=617K)  Etot = -2.535eV\n",
      "Energy per atom: Epot = -2.577eV  Ekin = 0.061eV (T=471K)  Etot = -2.516eV\n",
      "Energy per atom: Epot = -2.541eV  Ekin = 0.043eV (T=332K)  Etot = -2.498eV\n",
      "Energy per atom: Epot = -2.612eV  Ekin = 0.078eV (T=605K)  Etot = -2.534eV\n",
      "Energy per atom: Epot = -2.570eV  Ekin = 0.057eV (T=444K)  Etot = -2.513eV\n",
      "Energy per atom: Epot = -2.582eV  Ekin = 0.063eV (T=491K)  Etot = -2.519eV\n",
      "Energy per atom: Epot = -2.575eV  Ekin = 0.060eV (T=464K)  Etot = -2.516eV\n",
      "Energy per atom: Epot = -2.594eV  Ekin = 0.069eV (T=535K)  Etot = -2.525eV\n",
      "Energy per atom: Epot = -2.583eV  Ekin = 0.064eV (T=493K)  Etot = -2.519eV\n",
      "Energy per atom: Epot = -2.604eV  Ekin = 0.074eV (T=576K)  Etot = -2.530eV\n",
      "Energy per atom: Epot = -2.525eV  Ekin = 0.035eV (T=268K)  Etot = -2.490eV\n"
     ]
    },
    {
     "data": {
      "text/plain": [
       "True"
      ]
     },
     "execution_count": 12,
     "metadata": {},
     "output_type": "execute_result"
    }
   ],
   "source": [
    "steps = 10000\n",
    "\n",
    "output_name = \"data/Ni_19/trajectory_mff.xyz\"  # Output name\n",
    "this_traj = open(output_name, \"w\")\n",
    "dyn.attach(savexyz, interval=100)  # Save coordinates every interval steps\n",
    "dyn.attach(printenergy, interval=100)  # Print informations every interval steps\n",
    "dyn.run(steps)  # Have fun"
   ]
  },
  {
   "cell_type": "code",
   "execution_count": null,
   "metadata": {},
   "outputs": [],
   "source": []
  }
 ],
 "metadata": {
  "kernelspec": {
   "display_name": "Python 3",
   "language": "python",
   "name": "python3"
  },
  "language_info": {
   "codemirror_mode": {
    "name": "ipython",
    "version": 3
   },
   "file_extension": ".py",
   "mimetype": "text/x-python",
   "name": "python",
   "nbconvert_exporter": "python",
   "pygments_lexer": "ipython3",
   "version": "3.6.5"
  }
 },
 "nbformat": 4,
 "nbformat_minor": 2
}
