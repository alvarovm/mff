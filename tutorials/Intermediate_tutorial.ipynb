{
 "cells": [
  {
   "cell_type": "markdown",
   "metadata": {
    "slideshow": {
     "slide_type": "slide"
    }
   },
   "source": [
    "# Advanced Tutorial for the MFF Package <br/>\n",
    "\n",
    "In this jupyter notebook, the main functionalities of MFF will be introduced and briefly explained. <br/>\n",
    "As an example, we will train a Gaussian Process Fore Field on DFT data of molecular dynamics simulations of a Nickel 19 nanoparticle. \n",
    "Subsequently, the Gaussian process force field's accuracy will be tested and the scatter plot of errors will be shown.\n",
    "Then we will map the trained Gaussian Process onto a non-parametric force field, which will finally be used to run very fast\n",
    "molecular dynamics simulations using the ASE Python package."
   ]
  },
  {
   "cell_type": "code",
   "execution_count": 1,
   "metadata": {
    "slideshow": {
     "slide_type": "slide"
    }
   },
   "outputs": [],
   "source": [
    "# Standard Imports\n",
    "import logging\n",
    "import numpy as np\n",
    "import matplotlib.pyplot as plt\n",
    "logging.basicConfig(level=logging.ERROR)  # Verbosity selection: INFO, WARNING or ERROR\n",
    "# import ASE\n",
    "from ase.io import read\n",
    "from ase.io import write\n",
    "from ase import Atoms\n",
    "# Import MFF\n",
    "from mff import utility, configurations, models, calculators\n",
    "from pathlib import Path"
   ]
  },
  {
   "cell_type": "markdown",
   "metadata": {
    "slideshow": {
     "slide_type": "slide"
    }
   },
   "source": [
    "## Extract local atomic environment data from a trajectory file\n",
    "As a first step, we must transform data coming from an ab-initio run onto data which can be used as inputs and outputs for our force (and/ior energy) prediction problem. <br/>\n",
    "To do so, we use the \"configurations\" module of MFF and save the transformed data onto an unsurprisingly named \"data.npy\" file. <br/>\n",
    "The \"data\" file will contain informations about which elements are present in the system, a list of all local atomic environments carved using the specied cutoff radius, a list of all forces pertaining to the central atoms of said atomic environments, a collecion of the energies associated to each snapshot of the trajectory file, and a list that groups local atomic enviornments by snapsht necessary for total energy training and testing.\n",
    "\n",
    "N.B.: Make sure that your trajectory xyz file has forces which are called \"forces\", and energies called \"energy\" for each snapshot, and that all units of measure are in Angstrom, eV and eV/Angstrom.\n",
    "If this is not the case, remember to specify the force naming and energy naming convention in the funcion \"extract data\" below, and to multiply all data by the appropriate conversion if the units do not match the ones above."
   ]
  },
  {
   "cell_type": "code",
   "execution_count": 2,
   "metadata": {
    "slideshow": {
     "slide_type": "slide"
    }
   },
   "outputs": [],
   "source": [
    "directory = Path('data/Ni_19/')             # Path to the directory that contains the trajectory file, and where all of the files will be saved\n",
    "filename = directory / 'movie.xyz'       # name of the trajectory file\n",
    "cutoff = 6.4                              # Cutoff to be used to carve local atomic environemnts, in Angstrom\n",
    "\n",
    "# data = configurations.generate_and_save(filename, cutoff, forces_label='force', energy_label='energy')   # Generate and save the compressed \"data\" object that contains all the information\n",
    "\n",
    "data = configurations.generate_and_save(filename, cutoff, forces_label='forces', energy_label='energy')   # Generate and save the compressed \"data\" object that contains all the information\n",
    "elements, confs, forces, energies, global_confs = configurations.load_and_unpack(directory, cutoff) # Extract the information from the zipped data object which is located in the directory"
   ]
  },
  {
   "cell_type": "markdown",
   "metadata": {
    "slideshow": {
     "slide_type": "slide"
    }
   },
   "source": [
    "## Choose training set\n",
    "\n",
    "Here we will first set the number of training and test points we would like to use.\n",
    "The training points can be chosen at random, or using the \"grid2\" and \"grid3\" sampling methods. \n",
    "\n",
    "Such methods try to include in the training database configurations which contain atomic distances (grid2) or unseen triplets of atomic distances (grid3) not yet present in the training database.\n"
   ]
  },
  {
   "cell_type": "code",
   "execution_count": 3,
   "metadata": {
    "slideshow": {
     "slide_type": "slide"
    }
   },
   "outputs": [],
   "source": [
    "# Number of training points to use. NB: if training on forces AND energies, this number will\n",
    "# be the number of force training points, the number of energy training points is determined byf_e_ratio \n",
    "training_points = 200      \n",
    "\n",
    "# Number of test points to use. NB: if training on forces AND energies, this number will\n",
    "# be the number of force training points, the number of energy training points is determined byf_e_ratio \n",
    "test_points = 100\n",
    "\n",
    "# Sampling methodology used to select the training points. Options are: \"random\", \"grid2\" and \"grid3\". \n",
    "# N.B> when using \"grid2\" or \"grid3\" the effective number of points selected will slightly differ from the one indicated above.\n",
    "sampling = \"random\"\n",
    "\n",
    "# Numberof bins to use in the \"grid2\" and \"grid3\" sampling methods. If left None, this will be utomatically chosen\n",
    "# in order for the effective number of training points to match as closely as possible \"training_points\" \n",
    "nbins = None\n",
    "\n",
    "# When using force AND energy training, the number of training points for the energy data will be training_points//f_e_ratio + 1.\n",
    "# The number of energy testing points will be, similarly, test_points//f_e_ratio + 1.\n",
    "f_e_ratio = 10\n",
    "\n",
    "# And also choose the nearest neighbour cutoff for the CNA analysis if you are using cna sampling\n",
    "cna_cut = 3.0\n",
    "\n",
    "# Get the training and test set for energy and force training. Capital letters refer to test set, small letters to traiing set. \n",
    "# X refer to input data (local atomic environemnts, total atomic environments), Y refer to output data (force, total energy.)\n",
    "# Letters without subscript are relative to force training/testing, letters with _e are relative to energy training/testing\n",
    "X, Y, X_e, Y_e, x, y, x_e, y_e = utility.sample_oneset(confs, forces, global_confs,\n",
    "                energies, elements, sampling, training_points, test_points, cutoff, nbins, f_e_ratio, filename, cna_cut)"
   ]
  },
  {
   "cell_type": "markdown",
   "metadata": {
    "slideshow": {
     "slide_type": "slide"
    }
   },
   "source": [
    "## Choose the GP hyperparameters, create the GP object and train it"
   ]
  },
  {
   "cell_type": "code",
   "execution_count": 4,
   "metadata": {},
   "outputs": [
    {
     "name": "stdout",
     "output_type": "stream",
     "text": [
      "Building Kernels\n"
     ]
    },
    {
     "name": "stderr",
     "output_type": "stream",
     "text": [
      "WARNING:theano.configdefaults:install mkl with `conda install mkl-service`: No module named 'mkl'\n"
     ]
    },
    {
     "name": "stdout",
     "output_type": "stream",
     "text": [
      "Training using 200 points on 2 cores\n",
      "Seconds for training: 7.15\n",
      "Saved Gaussian process with name: data/Ni_19/models/GP_ker_TwoBodySingleSpecies_ntr_200.npy\n"
     ]
    }
   ],
   "source": [
    "# Choice of the kernel model to use. The options are: \"2b\", \"combined\", \"3b\". We suggest using \"2b\" for quick tests and \"combined\" for producing force fields.\n",
    "kernel =  \"2b\"\n",
    "\n",
    "# Choice of the kernel lengthscale parameter, in Angstroms. We suggest using values between 0.2 nand 1 Angstroms.\n",
    "sigma = 0.4\n",
    "\n",
    "# Choice of the noise  associated to the trainig data. Optimal results are usually obtained with noise values betwwe 1e-2 and 1e-4.\n",
    "noise = 0.001\n",
    "\n",
    "# Choose whether to train on force only, energies only or forces and energies\n",
    "train_mode = \"force\"\n",
    "\n",
    "# Number of cores to use in the training. The paralllelization of the code does not scale linearly with the number of cores,\n",
    "# we therefore suggest using more than one core only when producing accurate force field with the \"combined\" kernel and more than 500 training points.\n",
    "ncores = 2\n",
    "\n",
    "# If not 0, a repulsive term is added to the potentials so that the energy cotnribution of the\n",
    "# repulsive term at distance equal to the minumim bond distance in the database is 0.01 eV.\n",
    "# Default is 1 (True)\n",
    "rep_sig = 1\n",
    "\n",
    "# Create and train the Gaussian process object\n",
    "m = utility.get_gp(directory, X, Y, elements, kernel, sigma, noise,\n",
    "                   cutoff, training_points, X_e, Y_e, train_mode, ncores, rep_sig = rep_sig)"
   ]
  },
  {
   "cell_type": "markdown",
   "metadata": {
    "slideshow": {
     "slide_type": "slide"
    }
   },
   "source": [
    "## Test the GP, display scatter plots of the errors and print error metrics"
   ]
  },
  {
   "cell_type": "code",
   "execution_count": 5,
   "metadata": {},
   "outputs": [
    {
     "name": "stdout",
     "output_type": "stream",
     "text": [
      "Testing the force prediction on 100 configurations\n",
      "\n",
      "RMSE: 0.144 eV/A\n",
      "MAEC: 0.1093 eV/A\n",
      "MAEF : 0.2208 +- 0.1159 eV/A\n",
      "Relative MAEF: 0.3489 +- 0.1831\n"
     ]
    },
    {
     "data": {
      "image/png": "[encoded data removed]",
      "text/plain": [
       "<Figure size 432x288 with 2 Axes>"
      ]
     },
     "metadata": {},
     "output_type": "display_data"
    }
   ],
   "source": [
    "# Choose whether to test the GP predictions on forces only, energies only or forces and energies\n",
    "test_mode = \"force\"\n",
    "\n",
    "# Choose if you want to obtain the scatter plot of the errors incurred by the Gp\n",
    "plot = True\n",
    "\n",
    "# Get the error metrics (which are also printed on screen) calculated on the test points\n",
    "MAE_c, MAE_f, SMAE_f, M_f, RMSE_f, MAE_e, SMAE_e, RMSE_e = utility.test_gp(m, x, y, x_e, y_e, plot, test_mode, ncores = ncores)"
   ]
  },
  {
   "cell_type": "markdown",
   "metadata": {},
   "source": [
    "### Visualize  the 2-body component of the force field  "
   ]
  },
  {
   "cell_type": "code",
   "execution_count": 6,
   "metadata": {},
   "outputs": [
    {
     "data": {
      "image/png": "[encoded data removed]",
      "text/plain": [
       "<Figure size 432x288 with 1 Axes>"
      ]
     },
     "metadata": {},
     "output_type": "display_data"
    }
   ],
   "source": [
    "distances = np.linspace(1.5, cutoff, 100)\n",
    "en = np.zeros(len(distances))\n",
    "for i, c in enumerate(distances):\n",
    "    conf = np.array([[[[c, 0, 0, elements[0], elements[0]]]]])\n",
    "    en[i] = m.predict_energy(conf, ncores=1)\n",
    "    \n",
    "plt.plot(distances, en)\n",
    "plt.plot(distances, np.zeros(len(distances)), 'k--')\n",
    "plt.ylabel('Pair Energy [eV]')\n",
    "plt.xlabel(r'Pair Distance [$\\AA$]')\n",
    "plt.show()"
   ]
  },
  {
   "cell_type": "markdown",
   "metadata": {
    "slideshow": {
     "slide_type": "slide"
    }
   },
   "source": [
    "## Map the Gp force field onto a non-parametric classical tabulated force field"
   ]
  },
  {
   "cell_type": "code",
   "execution_count": 7,
   "metadata": {},
   "outputs": [],
   "source": [
    "# number of points to use while avaluating the tabulated force field. We reccomend using 100 points for \"2b\" kernels\n",
    "# And at least 80 points for \"3b\" kernels. Combined kernels require a specification of the number of points to use\n",
    "# for the 2-body grid and for the 3-body grid separately.\n",
    "npoints_grid = 100\n",
    "\n",
    "# Minimum  Interatomic distance for which to build a mapped potential. If the distance is not 0, \n",
    "# MD simulations where atoms become closer than this value value will cause an errorand interrupt the simulation.\n",
    "# Despite this, it is useful to use values larger than 0 to increase mapping accuracy by making the grid of tabbed values denser.\n",
    "# This is especially true for more computationally expensive grid constructions, such as the \"3b\" and \"combined\" ones.\n",
    "grid_start = 1.5\n",
    "\n",
    "# Build the mapped force field\n",
    "m.build_grid(grid_start, npoints_grid, ncores = ncores)  # Map the Gaussian process to build a MFF"
   ]
  },
  {
   "cell_type": "markdown",
   "metadata": {
    "slideshow": {
     "slide_type": "slide"
    }
   },
   "source": [
    "## Save the model, the trained Gaussian process and, most importantly, the mapped potential\n",
    "This function can be used also to save the trained model before mapping the potential."
   ]
  },
  {
   "cell_type": "code",
   "execution_count": 8,
   "metadata": {},
   "outputs": [
    {
     "name": "stdout",
     "output_type": "stream",
     "text": [
      "Saved Gaussian process with name: data/Ni_19/models/GP_ker_TwoBodySingleSpecies_ntr_200.npy\n"
     ]
    }
   ],
   "source": [
    "m.save(directory / \"models\")"
   ]
  },
  {
   "cell_type": "markdown",
   "metadata": {
    "slideshow": {
     "slide_type": "slide"
    }
   },
   "source": [
    "## Load the model, whether it contains a GP or a mapped potential"
   ]
  },
  {
   "cell_type": "code",
   "execution_count": 9,
   "metadata": {},
   "outputs": [
    {
     "name": "stdout",
     "output_type": "stream",
     "text": [
      "Loading Kernels\n",
      "Loaded GP from file\n",
      "Testing the force prediction on 100 configurations\n",
      "\n",
      "RMSE: 0.144 eV/A\n",
      "MAEC: 0.1093 eV/A\n",
      "MAEF : 0.2208 +- 0.1159 eV/A\n",
      "Relative MAEF: 0.3489 +- 0.1831\n"
     ]
    },
    {
     "data": {
      "image/png": "[encoded data removed]",
      "text/plain": [
       "<Figure size 432x288 with 2 Axes>"
      ]
     },
     "metadata": {},
     "output_type": "display_data"
    }
   ],
   "source": [
    "m2 = utility.load_model(\"data/Ni_19/models/MODEL_ker_TwoBodySingleSpecies_ntr_%i.json\" %(training_points))\n",
    "# Check the model is effectively the same\n",
    "vMAE_c, MAE_f, SMAE_f, M_f, RMSE_f, MAE_e, SMAE_e, RMSE_e = utility.test_gp(m2, x, y, x_e, y_e, plot, test_mode)"
   ]
  },
  {
   "cell_type": "markdown",
   "metadata": {
    "slideshow": {
     "slide_type": "slide"
    }
   },
   "source": [
    "## Setup Simulation parameters in ASE"
   ]
  },
  {
   "cell_type": "code",
   "execution_count": 10,
   "metadata": {},
   "outputs": [],
   "source": [
    "# Additional ASE imports\n",
    "from ase.md.velocitydistribution import MaxwellBoltzmannDistribution\n",
    "from ase.md.velocitydistribution import Stationary\n",
    "from ase.md.velocitydistribution import ZeroRotation\n",
    "from ase.md.verlet import VelocityVerlet\n",
    "from ase.md.langevin import Langevin\n",
    "from ase import units\n",
    "from ase.io import extxyz\n",
    "\n",
    "# Global Variables Definition\n",
    "gamma = 0.001 #  For Langevin Dynamics\n",
    "temp = 500 # K\n",
    "dt = 1.0  # fs\n",
    "cell_length = 10.0 # Angstrom\n",
    "\n",
    "atoms = read(filename, index=0, format='extxyz')  # Read the input file and setup the initial geometry form the xyz file\n",
    "atoms.set_positions(atoms.get_positions() - 0.5*np.array([cell_length, cell_length, cell_length]))  # Center atoms in the cell\n",
    "atoms.set_cell([[cell_length, 0.0, 0.0], [0, cell_length, 0], [0, 0, cell_length]]) # Set the simulation cell if not present"
   ]
  },
  {
   "cell_type": "markdown",
   "metadata": {
    "slideshow": {
     "slide_type": "slide"
    }
   },
   "source": [
    "## Setup an ASE Calculator to use the MFF to run simulations"
   ]
  },
  {
   "cell_type": "code",
   "execution_count": 11,
   "metadata": {},
   "outputs": [],
   "source": [
    "mff_calc = calculators.TwoBodySingleSpecies(cutoff, m.grid)  # Initialize calculator module\n",
    "atoms.set_calculator(mff_calc) # Tell ASE how to get the forces ( AKA choose the potential)\n",
    "\n",
    "# Setup the momenta and velocities\n",
    "dyn = VelocityVerlet(atoms, dt * units.fs)  # The dynamics will be a Verlet one\n",
    "MaxwellBoltzmannDistribution(atoms, 2.0 * temp * units.kB)  # Initialize velocities according to MB distribution at double T because of equipartition theorem\n",
    "ZeroRotation(atoms)  # Stop global rotation\n",
    "Stationary(atoms)  # Stop global movement"
   ]
  },
  {
   "cell_type": "markdown",
   "metadata": {
    "slideshow": {
     "slide_type": "slide"
    }
   },
   "source": [
    "## Auxiliary functions for the simulation"
   ]
  },
  {
   "cell_type": "code",
   "execution_count": 12,
   "metadata": {},
   "outputs": [],
   "source": [
    "def printenergy(a=atoms):\n",
    "    \"\"\"Function to print the potential, kinetic and total energy\"\"\"\n",
    "    epot = a.get_potential_energy() / len(a)\n",
    "    ekin = a.get_kinetic_energy() / len(a)\n",
    "    print('Energy per atom: Epot = %.3feV  Ekin = %.3feV (T=%3.0fK)  '\n",
    "          'Etot = %.3feV' % (epot, ekin, ekin / (1.5 * units.kB), epot + ekin))\n",
    "    \n",
    "def savexyz(a=atoms):\n",
    "    this_traj = open(output_name, \"a\")\n",
    "    extxyz.write_extxyz(this_traj, [atoms])"
   ]
  },
  {
   "cell_type": "markdown",
   "metadata": {
    "slideshow": {
     "slide_type": "slide"
    }
   },
   "source": [
    "## Run the simulation"
   ]
  },
  {
   "cell_type": "code",
   "execution_count": 13,
   "metadata": {},
   "outputs": [
    {
     "name": "stderr",
     "output_type": "stream",
     "text": [
      "/opt/conda/lib/python3.6/site-packages/ase/io/extxyz.py:844: UserWarning: write_xyz() overwriting array \"forces\" present in atoms.arrays with stored results from calculator\n",
      "  'from calculator'.format(key))\n"
     ]
    },
    {
     "name": "stdout",
     "output_type": "stream",
     "text": [
      "Energy per atom: Epot = -2.166eV  Ekin = 0.084eV (T=653K)  Etot = -2.081eV\n",
      "Energy per atom: Epot = -2.071eV  Ekin = 0.037eV (T=288K)  Etot = -2.034eV\n",
      "Energy per atom: Epot = -2.101eV  Ekin = 0.052eV (T=402K)  Etot = -2.049eV\n",
      "Energy per atom: Epot = -2.089eV  Ekin = 0.046eV (T=357K)  Etot = -2.043eV\n",
      "Energy per atom: Epot = -2.086eV  Ekin = 0.045eV (T=346K)  Etot = -2.041eV\n",
      "Energy per atom: Epot = -2.065eV  Ekin = 0.034eV (T=264K)  Etot = -2.031eV\n",
      "Energy per atom: Epot = -2.067eV  Ekin = 0.035eV (T=272K)  Etot = -2.032eV\n",
      "Energy per atom: Epot = -2.077eV  Ekin = 0.040eV (T=309K)  Etot = -2.037eV\n",
      "Energy per atom: Epot = -2.084eV  Ekin = 0.044eV (T=340K)  Etot = -2.041eV\n",
      "Energy per atom: Epot = -2.068eV  Ekin = 0.036eV (T=276K)  Etot = -2.032eV\n",
      "Energy per atom: Epot = -2.067eV  Ekin = 0.035eV (T=273K)  Etot = -2.032eV\n"
     ]
    }
   ],
   "source": [
    "steps = 1000\n",
    "\n",
    "output_name = \"data/Ni_19/trajectory_mff.xyz\"  # Output name\n",
    "this_traj = open(output_name, \"w\")\n",
    "dyn.attach(savexyz, interval=100)  # Save coordinates every interval steps\n",
    "dyn.attach(printenergy, interval=100)  # Print informations every interval steps\n",
    "dyn.run(steps)  # Have fun\n",
    "this_traj.close()"
   ]
  }
 ],
 "metadata": {
  "kernelspec": {
   "display_name": "Python 3",
   "language": "python",
   "name": "python3"
  },
  "language_info": {
   "codemirror_mode": {
    "name": "ipython",
    "version": 3
   },
   "file_extension": ".py",
   "mimetype": "text/x-python",
   "name": "python",
   "nbconvert_exporter": "python",
   "pygments_lexer": "ipython3",
   "version": "3.6.5"
  }
 },
 "nbformat": 4,
 "nbformat_minor": 2
}
