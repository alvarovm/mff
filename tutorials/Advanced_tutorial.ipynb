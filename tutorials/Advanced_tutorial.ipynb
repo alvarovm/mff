{
 "cells": [
  {
   "cell_type": "markdown",
   "metadata": {
    "slideshow": {
     "slide_type": "slide"
    }
   },
   "source": [
    "# Advanced Tutorial for the MFF Package <br/>\n",
    "\n",
    "In this jupyter notebook, the main functionalities of MFF will be introduced and briefly explained. <br/>\n",
    "As an example, we will train a Gaussian Process Fore Field on DFT data of molecular dynamics simulations of a Nickel 19 nanoparticle. \n",
    "Subsequently, the Gaussian process force field's accuracy will be tested and the scatter plot of errors will be shown.\n",
    "Then we will map the trained Gaussian Process onto a non-parametric force field, which will finally be used to run very fast\n",
    "molecular dynamics simulations using the ASE Python package."
   ]
  },
  {
   "cell_type": "code",
   "execution_count": 1,
   "metadata": {
    "slideshow": {
     "slide_type": "slide"
    }
   },
   "outputs": [
    {
     "name": "stderr",
     "output_type": "stream",
     "text": [
      "WARNING:theano.configdefaults:install mkl with `conda install mkl-service`: No module named 'mkl'\n"
     ]
    }
   ],
   "source": [
    "# Standard Imports\n",
    "import logging\n",
    "import numpy as np\n",
    "import matplotlib.pyplot as plt\n",
    "logging.basicConfig(level=logging.ERROR)  # Verbosity selection: INFO, WARNING or ERROR\n",
    "# import ASE\n",
    "from ase.io import read\n",
    "from ase.io import write\n",
    "from ase import Atoms\n",
    "# Import MFF\n",
    "from mff import utility, configurations, models, load_model, calculators\n",
    "from pathlib import Path"
   ]
  },
  {
   "cell_type": "markdown",
   "metadata": {
    "slideshow": {
     "slide_type": "slide"
    }
   },
   "source": [
    "## Extract local atomic environment data from a trajectory file\n",
    "As a first step, we must transform data coming from an ab-initio run onto data which can be used as inputs and outputs for our force (and/ior energy) prediction problem. <br/>\n",
    "To do so, we use the \"configurations\" module of MFF and save the transformed data onto an unsurprisingly named \"data.npy\" file. <br/>\n",
    "The \"data\" file will contain informations about which elements are present in the system, a list of all local atomic environments carved using the specied cutoff radius, a list of all forces pertaining to the central atoms of said atomic environments, a collecion of the energies associated to each snapshot of the trajectory file, and a list that groups local atomic enviornments by snapsht necessary for total energy training and testing.\n",
    "\n",
    "N.B.: Make sure that your trajectory xyz file has forces which are called \"forces\", and energies called \"energy\" for each snapshot, and that all units of measure are in Angstrom, eV and eV/Angstrom.\n",
    "If this is not the case, remember to specify the force naming and energy naming convention in the funcion \"extract data\" below, and to multiply all data by the appropriate conversion if the units do not match the ones above."
   ]
  },
  {
   "cell_type": "code",
   "execution_count": 2,
   "metadata": {
    "slideshow": {
     "slide_type": "slide"
    }
   },
   "outputs": [],
   "source": [
    "directory = Path('data/Ni_19/')             # Path to the directory that contains the trajectory file, and where all of the files will be saved\n",
    "filename = directory / 'movie.xyz'       # name of the trajectory file\n",
    "cutoff = 6.4                              # Cutoff to be used to carve local atomic environemnts, in Angstrom\n",
    "\n",
    "# data = configurations.generate_and_save(filename, cutoff, forces_label='force', energy_label='energy')   # Generate and save the compressed \"data\" object that contains all the information\n",
    "elements, confs, forces, energies, global_confs = configurations.load_and_unpack(directory, cutoff) # Extract the information from the zipped data object which is located in the directory"
   ]
  },
  {
   "cell_type": "markdown",
   "metadata": {
    "slideshow": {
     "slide_type": "slide"
    }
   },
   "source": [
    "## Choose training set\n",
    "\n",
    "Here we will first set the number of training and test points we would like to use.\n",
    "The training points can be chosen at random, or using the \"grid2\" and \"grid3\" sampling methods. \n",
    "\n",
    "Such methods try to include in the training database configurations which contain atomic distances (grid2) or unseen triplets of atomic distances (grid3) not yet present in the training database.\n"
   ]
  },
  {
   "cell_type": "code",
   "execution_count": 3,
   "metadata": {
    "slideshow": {
     "slide_type": "slide"
    }
   },
   "outputs": [],
   "source": [
    "# Number of training points to use. NB: if training on forces AND energies, this number will\n",
    "# be the number of force training points, the number of energy training points is determined byf_e_ratio \n",
    "training_points = 200      \n",
    "\n",
    "# Number of test points to use. NB: if training on forces AND energies, this number will\n",
    "# be the number of force training points, the number of energy training points is determined byf_e_ratio \n",
    "test_points = 100\n",
    "\n",
    "# Sampling methodology used to select the training points. Options are: \"random\", \"grid2\" and \"grid3\". \n",
    "# N.B> when using \"grid2\" or \"grid3\" the effective number of points selected will slightly differ from the one indicated above.\n",
    "sampling = \"random\"\n",
    "\n",
    "# Numberof bins to use in the \"grid2\" and \"grid3\" sampling methods. If left None, this will be utomatically chosen\n",
    "# in order for the effective number of training points to match as closely as possible \"training_points\" \n",
    "nbins = None\n",
    "\n",
    "# When using force AND energy training, the number of training points for the energy data will be training_points//f_e_ratio + 1.\n",
    "# The number of energy testing points will be, similarly, test_points//f_e_ratio + 1.\n",
    "f_e_ratio = 10\n",
    "\n",
    "# And also choose the nearest neighbour cutoff for the CNA analysis\n",
    "cna_cut = 3.0\n",
    "\n",
    "# Get the training and test set for energy and force training. Capital letters refer to test set, small letters to traiing set. \n",
    "# X refer to input data (local atomic environemnts, total atomic environments), Y refer to output data (force, total energy.)\n",
    "# Letters without subscript are relative to force training/testing, letters with _e are relative to energy training/testing\n",
    "X, Y, X_e, Y_e, x, y, x_e, y_e = utility.sample_oneset(confs, forces, global_confs,\n",
    "                energies, elements, sampling, training_points, test_points, cutoff, nbins, f_e_ratio, filename, cna_cut)"
   ]
  },
  {
   "cell_type": "markdown",
   "metadata": {
    "slideshow": {
     "slide_type": "slide"
    }
   },
   "source": [
    "## Choose the GP hyperparameters, create the GP object and train it"
   ]
  },
  {
   "cell_type": "code",
   "execution_count": 4,
   "metadata": {},
   "outputs": [
    {
     "name": "stdout",
     "output_type": "stream",
     "text": [
      "Training using 200 points on 1 cores\n"
     ]
    },
    {
     "ename": "NameError",
     "evalue": "name 'd' is not defined",
     "output_type": "error",
     "traceback": [
      "\u001b[0;31m---------------------------------------------------------------------------\u001b[0m",
      "\u001b[0;31mFileNotFoundError\u001b[0m                         Traceback (most recent call last)",
      "\u001b[0;32m/opt/conda/lib/python3.6/site-packages/mff-0.9.0-py3.6-linux-x86_64.egg/mff/utility.py\u001b[0m in \u001b[0;36mget_gp\u001b[0;34m(train_folder, X, Y, elements_1, kernel, sigma, noise, cutoff, training_points, X_e, Y_e, train_mode, ncores, rep_sig)\u001b[0m\n\u001b[1;32m    502\u001b[0m         \u001b[0mfull_path\u001b[0m \u001b[0;34m=\u001b[0m \u001b[0mtrain_folder\u001b[0m \u001b[0;34m/\u001b[0m \u001b[0;34m\"models\"\u001b[0m \u001b[0;34m/\u001b[0m \u001b[0mgp_name\u001b[0m\u001b[0;34m\u001b[0m\u001b[0m\n\u001b[0;32m--> 503\u001b[0;31m         \u001b[0mm\u001b[0m \u001b[0;34m=\u001b[0m \u001b[0mload_model\u001b[0m\u001b[0;34m.\u001b[0m\u001b[0mload\u001b[0m\u001b[0;34m(\u001b[0m\u001b[0mfull_path\u001b[0m\u001b[0;34m)\u001b[0m\u001b[0;34m\u001b[0m\u001b[0m\n\u001b[0m\u001b[1;32m    504\u001b[0m \u001b[0;34m\u001b[0m\u001b[0m\n",
      "\u001b[0;32m/opt/conda/lib/python3.6/site-packages/mff-0.9.0-py3.6-linux-x86_64.egg/mff/load_model.py\u001b[0m in \u001b[0;36mload\u001b[0;34m(filename)\u001b[0m\n\u001b[1;32m      7\u001b[0m \u001b[0;34m\u001b[0m\u001b[0m\n\u001b[0;32m----> 8\u001b[0;31m     \u001b[0;32mwith\u001b[0m \u001b[0mopen\u001b[0m\u001b[0;34m(\u001b[0m\u001b[0mfilename\u001b[0m\u001b[0;34m)\u001b[0m \u001b[0;32mas\u001b[0m \u001b[0mjson_file\u001b[0m\u001b[0;34m:\u001b[0m\u001b[0;34m\u001b[0m\u001b[0m\n\u001b[0m\u001b[1;32m      9\u001b[0m         \u001b[0mmetadata\u001b[0m \u001b[0;34m=\u001b[0m \u001b[0mjson\u001b[0m\u001b[0;34m.\u001b[0m\u001b[0mload\u001b[0m\u001b[0;34m(\u001b[0m\u001b[0mjson_file\u001b[0m\u001b[0;34m)\u001b[0m\u001b[0;34m\u001b[0m\u001b[0m\n",
      "\u001b[0;31mFileNotFoundError\u001b[0m: [Errno 2] No such file or directory: 'data/Ni_19/models/MODEL_ker_TwoBodySingleSpecies_ntr200.json'",
      "\nDuring handling of the above exception, another exception occurred:\n",
      "\u001b[0;31mNameError\u001b[0m                                 Traceback (most recent call last)",
      "\u001b[0;32m<ipython-input-4-46816ae33252>\u001b[0m in \u001b[0;36m<module>\u001b[0;34m()\u001b[0m\n\u001b[1;32m     21\u001b[0m \u001b[0;31m# Create and train the Gaussian process object\u001b[0m\u001b[0;34m\u001b[0m\u001b[0;34m\u001b[0m\u001b[0m\n\u001b[1;32m     22\u001b[0m m = utility.get_gp(directory, X, Y, elements, kernel, sigma, noise,\n\u001b[0;32m---> 23\u001b[0;31m                    cutoff, training_points, X_e, Y_e, train_mode, ncores, rep_sig = rep_sig)\n\u001b[0m",
      "\u001b[0;32m/opt/conda/lib/python3.6/site-packages/mff-0.9.0-py3.6-linux-x86_64.egg/mff/utility.py\u001b[0m in \u001b[0;36mget_gp\u001b[0;34m(train_folder, X, Y, elements_1, kernel, sigma, noise, cutoff, training_points, X_e, Y_e, train_mode, ncores, rep_sig)\u001b[0m\n\u001b[1;32m    504\u001b[0m \u001b[0;34m\u001b[0m\u001b[0m\n\u001b[1;32m    505\u001b[0m     \u001b[0;32mexcept\u001b[0m \u001b[0mFileNotFoundError\u001b[0m\u001b[0;34m:\u001b[0m\u001b[0;34m\u001b[0m\u001b[0m\n\u001b[0;32m--> 506\u001b[0;31m         \u001b[0mm\u001b[0m \u001b[0;34m=\u001b[0m \u001b[0mtrain_right_gp\u001b[0m\u001b[0;34m(\u001b[0m\u001b[0mX\u001b[0m\u001b[0;34m,\u001b[0m \u001b[0mY\u001b[0m\u001b[0;34m,\u001b[0m \u001b[0melements_1\u001b[0m\u001b[0;34m,\u001b[0m \u001b[0mkernel\u001b[0m\u001b[0;34m,\u001b[0m \u001b[0msigma\u001b[0m\u001b[0;34m,\u001b[0m \u001b[0mnoise\u001b[0m\u001b[0;34m,\u001b[0m \u001b[0mcutoff\u001b[0m\u001b[0;34m,\u001b[0m \u001b[0mtrain_folder\u001b[0m\u001b[0;34m,\u001b[0m \u001b[0mX_e\u001b[0m\u001b[0;34m,\u001b[0m \u001b[0mY_e\u001b[0m\u001b[0;34m,\u001b[0m \u001b[0mtrain_mode\u001b[0m \u001b[0;34m=\u001b[0m \u001b[0mtrain_mode\u001b[0m\u001b[0;34m,\u001b[0m \u001b[0mncores\u001b[0m \u001b[0;34m=\u001b[0m \u001b[0mncores\u001b[0m\u001b[0;34m,\u001b[0m \u001b[0mrep_sig\u001b[0m \u001b[0;34m=\u001b[0m \u001b[0mrep_sig\u001b[0m\u001b[0;34m)\u001b[0m\u001b[0;34m\u001b[0m\u001b[0m\n\u001b[0m\u001b[1;32m    507\u001b[0m \u001b[0;34m\u001b[0m\u001b[0m\n\u001b[1;32m    508\u001b[0m     \u001b[0;32mreturn\u001b[0m \u001b[0mm\u001b[0m\u001b[0;34m\u001b[0m\u001b[0m\n",
      "\u001b[0;32m/opt/conda/lib/python3.6/site-packages/mff-0.9.0-py3.6-linux-x86_64.egg/mff/utility.py\u001b[0m in \u001b[0;36mtrain_right_gp\u001b[0;34m(X, Y, elements_1, kernel, sigma, noise, cutoff, train_folder, X_e, Y_e, train_mode, ncores, rep_sig)\u001b[0m\n\u001b[1;32m    479\u001b[0m                 \u001b[0mm\u001b[0m\u001b[0;34m.\u001b[0m\u001b[0mfit_energy\u001b[0m\u001b[0;34m(\u001b[0m\u001b[0mX_e\u001b[0m\u001b[0;34m,\u001b[0m \u001b[0mY_e\u001b[0m\u001b[0;34m,\u001b[0m \u001b[0mncores\u001b[0m \u001b[0;34m=\u001b[0m \u001b[0mncores\u001b[0m\u001b[0;34m)\u001b[0m\u001b[0;34m\u001b[0m\u001b[0m\n\u001b[1;32m    480\u001b[0m             \u001b[0;32melif\u001b[0m \u001b[0mtrain_mode\u001b[0m \u001b[0;34m==\u001b[0m \u001b[0;34m\"force_and_energy\"\u001b[0m\u001b[0;34m:\u001b[0m\u001b[0;34m\u001b[0m\u001b[0m\n\u001b[0;32m--> 481\u001b[0;31m                 \u001b[0mm\u001b[0m\u001b[0;34m.\u001b[0m\u001b[0mfit_force_and_energy\u001b[0m\u001b[0;34m(\u001b[0m\u001b[0mX\u001b[0m\u001b[0;34m,\u001b[0m \u001b[0mY\u001b[0m\u001b[0;34m,\u001b[0m \u001b[0mX_e\u001b[0m\u001b[0;34m,\u001b[0m \u001b[0mY_e\u001b[0m\u001b[0;34m,\u001b[0m \u001b[0mncores\u001b[0m \u001b[0;34m=\u001b[0m \u001b[0mncores\u001b[0m\u001b[0;34m)\u001b[0m\u001b[0;34m\u001b[0m\u001b[0m\n\u001b[0m\u001b[1;32m    482\u001b[0m             \u001b[0;32melse\u001b[0m\u001b[0;34m:\u001b[0m\u001b[0;34m\u001b[0m\u001b[0m\n\u001b[1;32m    483\u001b[0m                 \u001b[0mprint\u001b[0m\u001b[0;34m(\u001b[0m\u001b[0;34m\"Training mode not understood. Defaulting to force training.\"\u001b[0m\u001b[0;34m)\u001b[0m\u001b[0;34m\u001b[0m\u001b[0m\n",
      "\u001b[0;32m/opt/conda/lib/python3.6/site-packages/mff-0.9.0-py3.6-linux-x86_64.egg/mff/models/twobody.py\u001b[0m in \u001b[0;36mfit_force_and_energy\u001b[0;34m(self, confs, forces, glob_confs, energies, ncores)\u001b[0m\n\u001b[1;32m    112\u001b[0m             \u001b[0mself\u001b[0m\u001b[0;34m.\u001b[0m\u001b[0mrep_energies\u001b[0m \u001b[0;34m=\u001b[0m \u001b[0mutility\u001b[0m\u001b[0;34m.\u001b[0m\u001b[0mget_repulsive_energies\u001b[0m\u001b[0;34m(\u001b[0m\u001b[0mglob_confs\u001b[0m\u001b[0;34m,\u001b[0m \u001b[0mself\u001b[0m\u001b[0;34m.\u001b[0m\u001b[0mrep_sig\u001b[0m\u001b[0;34m)\u001b[0m\u001b[0;34m\u001b[0m\u001b[0m\n\u001b[1;32m    113\u001b[0m             \u001b[0menergies\u001b[0m \u001b[0;34m-=\u001b[0m \u001b[0mself\u001b[0m\u001b[0;34m.\u001b[0m\u001b[0mrep_energies\u001b[0m\u001b[0;34m\u001b[0m\u001b[0m\n\u001b[0;32m--> 114\u001b[0;31m             \u001b[0mself\u001b[0m\u001b[0;34m.\u001b[0m\u001b[0mrep_forces\u001b[0m \u001b[0;34m=\u001b[0m \u001b[0mutility\u001b[0m\u001b[0;34m.\u001b[0m\u001b[0mget_repulsive_forces\u001b[0m\u001b[0;34m(\u001b[0m\u001b[0mconfs\u001b[0m\u001b[0;34m,\u001b[0m \u001b[0mself\u001b[0m\u001b[0;34m.\u001b[0m\u001b[0mrep_sig\u001b[0m\u001b[0;34m)\u001b[0m\u001b[0;34m\u001b[0m\u001b[0m\n\u001b[0m\u001b[1;32m    115\u001b[0m             \u001b[0mforces\u001b[0m \u001b[0;34m-=\u001b[0m \u001b[0mself\u001b[0m\u001b[0;34m.\u001b[0m\u001b[0mrep_forces\u001b[0m\u001b[0;34m\u001b[0m\u001b[0m\n\u001b[1;32m    116\u001b[0m \u001b[0;34m\u001b[0m\u001b[0m\n",
      "\u001b[0;32m/opt/conda/lib/python3.6/site-packages/mff-0.9.0-py3.6-linux-x86_64.egg/mff/utility.py\u001b[0m in \u001b[0;36mget_repulsive_forces\u001b[0;34m(confs, sig)\u001b[0m\n\u001b[1;32m     45\u001b[0m     \u001b[0;32mfor\u001b[0m \u001b[0mi\u001b[0m\u001b[0;34m,\u001b[0m \u001b[0mc\u001b[0m \u001b[0;32min\u001b[0m \u001b[0menumerate\u001b[0m\u001b[0;34m(\u001b[0m\u001b[0mconfs\u001b[0m\u001b[0;34m)\u001b[0m\u001b[0;34m:\u001b[0m\u001b[0;34m\u001b[0m\u001b[0m\n\u001b[1;32m     46\u001b[0m         \u001b[0md_\u001b[0m \u001b[0;34m=\u001b[0m \u001b[0mnp\u001b[0m\u001b[0;34m.\u001b[0m\u001b[0msum\u001b[0m\u001b[0;34m(\u001b[0m\u001b[0mc\u001b[0m\u001b[0;34m[\u001b[0m\u001b[0;34m:\u001b[0m\u001b[0;34m,\u001b[0m\u001b[0;34m:\u001b[0m\u001b[0;36m3\u001b[0m\u001b[0;34m]\u001b[0m\u001b[0;34m**\u001b[0m\u001b[0;36m2\u001b[0m\u001b[0;34m,\u001b[0m \u001b[0maxis\u001b[0m \u001b[0;34m=\u001b[0m\u001b[0;36m1\u001b[0m\u001b[0;34m)\u001b[0m\u001b[0;34m**\u001b[0m\u001b[0;36m0.5\u001b[0m\u001b[0;34m\u001b[0m\u001b[0m\n\u001b[0;32m---> 47\u001b[0;31m         \u001b[0mv\u001b[0m \u001b[0;34m=\u001b[0m \u001b[0mc\u001b[0m\u001b[0;34m[\u001b[0m\u001b[0;34m:\u001b[0m\u001b[0;34m,\u001b[0m\u001b[0;34m:\u001b[0m\u001b[0;36m3\u001b[0m\u001b[0;34m]\u001b[0m\u001b[0;34m/\u001b[0m\u001b[0md\u001b[0m\u001b[0;34m[\u001b[0m\u001b[0;34m:\u001b[0m\u001b[0;34m,\u001b[0m\u001b[0;32mNone\u001b[0m\u001b[0;34m]\u001b[0m\u001b[0;34m\u001b[0m\u001b[0m\n\u001b[0m\u001b[1;32m     48\u001b[0m         \u001b[0mf\u001b[0m \u001b[0;34m=\u001b[0m \u001b[0;36m12\u001b[0m\u001b[0;34m*\u001b[0m\u001b[0;34m(\u001b[0m\u001b[0msig\u001b[0m\u001b[0;34m/\u001b[0m\u001b[0md\u001b[0m\u001b[0;34m)\u001b[0m\u001b[0;34m**\u001b[0m\u001b[0;36m12\u001b[0m\u001b[0;34m/\u001b[0m\u001b[0md_\u001b[0m\u001b[0;34m\u001b[0m\u001b[0m\n\u001b[1;32m     49\u001b[0m         \u001b[0mforces\u001b[0m\u001b[0;34m[\u001b[0m\u001b[0mi\u001b[0m\u001b[0;34m]\u001b[0m \u001b[0;34m=\u001b[0m \u001b[0mnp\u001b[0m\u001b[0;34m.\u001b[0m\u001b[0msum\u001b[0m\u001b[0;34m(\u001b[0m\u001b[0mf\u001b[0m\u001b[0;34m[\u001b[0m\u001b[0;34m:\u001b[0m\u001b[0;34m,\u001b[0m \u001b[0;32mNone\u001b[0m\u001b[0;34m]\u001b[0m\u001b[0;34m*\u001b[0m\u001b[0mv\u001b[0m\u001b[0;34m,\u001b[0m \u001b[0maxis\u001b[0m \u001b[0;34m=\u001b[0m \u001b[0;36m0\u001b[0m\u001b[0;34m)\u001b[0m\u001b[0;34m\u001b[0m\u001b[0m\n",
      "\u001b[0;31mNameError\u001b[0m: name 'd' is not defined"
     ]
    }
   ],
   "source": [
    "# Choice of the kernel model to use. The options are: \"2b\", \"combined\", \"3b\". We suggest using \"2b\" for quick tests and \"combined\" for producing force fields.\n",
    "kernel =  \"2b\"\n",
    "\n",
    "# Choice of the kernel lengthscale parameter, in Angstroms. We suggest using values between 0.2 nand 1 Angstroms.\n",
    "sigma = 0.3\n",
    "\n",
    "# Choice of the noise  associated to the trainig data. Optimal results are usually obtained with noise values betwwe 1e-2 and 1e-4.\n",
    "noise = 0.001\n",
    "\n",
    "# Choose whether to train on force only, energies only or forces and energies\n",
    "train_mode = \"force_and_energy\"\n",
    "\n",
    "# Number of cores to use in the training. The paralllelization of the code does not scale linearly with the number of cores,\n",
    "# we therefore suggest using more than one core only when producing accurate force field with the \"combined\" kernel and more than 500 training points.\n",
    "ncores = 1\n",
    "\n",
    "# If not 0, a repulsive term is added to the potentials so that the energy cotnribution of the\n",
    "# repulsive term at distance equal to the minumim bond distance in the database is 0.01 eV.\n",
    "rep_sig = 1\n",
    "\n",
    "# Create and train the Gaussian process object\n",
    "m = utility.get_gp(directory, X, Y, elements, kernel, sigma, noise,\n",
    "                   cutoff, training_points, X_e, Y_e, train_mode, ncores, rep_sig = rep_sig)"
   ]
  },
  {
   "cell_type": "markdown",
   "metadata": {
    "slideshow": {
     "slide_type": "slide"
    }
   },
   "source": [
    "## Test the GP, display scatter plots of the errors and print error metrics"
   ]
  },
  {
   "cell_type": "code",
   "execution_count": null,
   "metadata": {},
   "outputs": [],
   "source": [
    "# Choose whether to test the GP predictions on forces only, energies only or forces and energies\n",
    "test_mode = \"force\"\n",
    "\n",
    "# Choose if you want to obtain the scatter plot of the errors incurred by the Gp\n",
    "plot = True\n",
    "\n",
    "# Get the error metrics (which are also printed on screen) calculated on the test points\n",
    "MAE_c, MAE_f, SMAE_f, M_f, RMSE_f, MAE_e, SMAE_e, RMSE_e = utility.test_gp(m, x, y, x_e, y_e, plot, test_mode)"
   ]
  },
  {
   "cell_type": "code",
   "execution_count": null,
   "metadata": {},
   "outputs": [],
   "source": [
    "x = np.linspace(1.5, cutoff, 100)\n",
    "en = np.zeros(len(x))\n",
    "for i, c in enumerate(x):\n",
    "    conf = np.array([[[[c, 0, 0, elements[0], elements[0]]]]])\n",
    "    en[i] = m.predict_energy(conf)\n",
    "    \n",
    "plt.plot(x, en)\n",
    "plt.plot(x, np.zeros(len(x)), 'k--')\n",
    "plt.ylabel('Bond Energy [eV]')\n",
    "plt.xlabel(r'Bond Distance [$\\AA$]')\n",
    "plt.show()"
   ]
  },
  {
   "cell_type": "markdown",
   "metadata": {
    "slideshow": {
     "slide_type": "slide"
    }
   },
   "source": [
    "## Map the Gp force field onto a non-parametric classical tabulated force field"
   ]
  },
  {
   "cell_type": "code",
   "execution_count": 9,
   "metadata": {},
   "outputs": [],
   "source": [
    "# number of points to use while avaluating the tabulated force field. We reccomend using 100 points for \"2b\" kernels\n",
    "# And at least 80 points for \"3b\" kernels. Combined kernels require a specification of the number of points to use\n",
    "# for the 2-body grid and for the 3-body grid separately.\n",
    "npoints_grid = 100\n",
    "\n",
    "# Minimum  Interatomic distance for which to build a mapped potential. If the distance is not 0, \n",
    "# MD simulations where atoms become closer than this value value will cause an errorand interrupt the simulation.\n",
    "# Despite this, it is useful to use values larger than 0 to increase mapping accuracy by making the grid of tabbed values denser.\n",
    "# This is especially true for more computationally expensive grid constructions, such as the \"3b\" and \"combined\" ones.\n",
    "grid_start = 1.5\n",
    "\n",
    "# Build the mapped force field\n",
    "m.build_grid(grid_start, npoints_grid)  # Map the Gaussian process to build a MFF"
   ]
  },
  {
   "cell_type": "markdown",
   "metadata": {
    "slideshow": {
     "slide_type": "slide"
    }
   },
   "source": [
    "## Save the model, the trained Gaussian process and, most importantly, the mapped potential\n",
    "This function can be used also to save the trained model before mapping the potential."
   ]
  },
  {
   "cell_type": "code",
   "execution_count": 10,
   "metadata": {},
   "outputs": [
    {
     "name": "stdout",
     "output_type": "stream",
     "text": [
      "Saved Gaussian process with name: data/Ni_19/models/GP_ker_TwoBodySingleSpecies_ntr_100.npy\n"
     ]
    }
   ],
   "source": [
    "m.save(directory / \"models\")"
   ]
  },
  {
   "cell_type": "markdown",
   "metadata": {
    "slideshow": {
     "slide_type": "slide"
    }
   },
   "source": [
    "## Load the model, whether it contains a GP or a mapped potential"
   ]
  },
  {
   "cell_type": "code",
   "execution_count": 11,
   "metadata": {},
   "outputs": [
    {
     "name": "stdout",
     "output_type": "stream",
     "text": [
      "Loaded GP from file\n",
      "Testing the force prediction on 100 configurations\n",
      "\n",
      "RMSE: 0.1536 eV/A\n",
      "MAEC: 0.1178 eV/A\n",
      "MAEF : 0.2317 +- 0.1308 eV/A\n",
      "Relative MAEF: 0.3986 +- 0.2251\n"
     ]
    },
    {
     "data": {
      "image/png": "[encoded data removed]",
      "text/plain": [
       "<Figure size 432x288 with 2 Axes>"
      ]
     },
     "metadata": {},
     "output_type": "display_data"
    }
   ],
   "source": [
    "m2 = load_model.load(\"data/Ni_19/models/MODEL_ker_TwoBodySingleSpecies_ntr_100.json\")\n",
    "\n",
    "# Check the model is effectively the same\n",
    "vMAE_c, MAE_f, SMAE_f, M_f, RMSE_f, MAE_e, SMAE_e, RMSE_e = utility.test_gp(m2, x, y, x_e, y_e, plot, test_mode)"
   ]
  },
  {
   "cell_type": "markdown",
   "metadata": {
    "slideshow": {
     "slide_type": "slide"
    }
   },
   "source": [
    "## Setup Simulation parameters in ASE"
   ]
  },
  {
   "cell_type": "code",
   "execution_count": 12,
   "metadata": {},
   "outputs": [],
   "source": [
    "# Additional ASE imports\n",
    "from ase.md.velocitydistribution import MaxwellBoltzmannDistribution\n",
    "from ase.md.velocitydistribution import Stationary\n",
    "from ase.md.velocitydistribution import ZeroRotation\n",
    "from ase.md.verlet import VelocityVerlet\n",
    "from ase.md.langevin import Langevin\n",
    "from ase import units\n",
    "from ase.io import extxyz\n",
    "\n",
    "# Global Variables Definition\n",
    "gamma = 0.001 #  For Langevin Dynamics\n",
    "temp = 500 # K\n",
    "dt = 1.0  # fs\n",
    "cell_length = 10.0 # Angstrom\n",
    "\n",
    "atoms = read(filename, index=0, format='extxyz')  # Read the input file and setup the initial geometry form the xyz file\n",
    "atoms.set_positions(atoms.get_positions() - 0.5*np.array([cell_length, cell_length, cell_length]))  # Center atoms in the cell\n",
    "atoms.set_cell([[cell_length, 0.0, 0.0], [0, cell_length, 0], [0, 0, cell_length]]) # Set the simulation cell if not present"
   ]
  },
  {
   "cell_type": "markdown",
   "metadata": {
    "slideshow": {
     "slide_type": "slide"
    }
   },
   "source": [
    "## Setup an ASE Calculator to use the MFF to run simulations"
   ]
  },
  {
   "cell_type": "code",
   "execution_count": 13,
   "metadata": {},
   "outputs": [],
   "source": [
    "mff_calc = calculators.TwoBodySingleSpecies(cutoff, m.grid)  # Initialize calculator module\n",
    "atoms.set_calculator(mff_calc) # Tell ASE how to get the forces ( AKA choose the potential)\n",
    "\n",
    "# Setup the momenta and velocities\n",
    "dyn = VelocityVerlet(atoms, dt * units.fs)  # The dynamics will be a Verlet one\n",
    "MaxwellBoltzmannDistribution(atoms, 2.0 * temp * units.kB)  # Initialize velocities according to MB distribution at double T because of equipartition theorem\n",
    "ZeroRotation(atoms)  # Stop global rotation\n",
    "Stationary(atoms)  # Stop global movement"
   ]
  },
  {
   "cell_type": "markdown",
   "metadata": {
    "slideshow": {
     "slide_type": "slide"
    }
   },
   "source": [
    "## Auxiliary functions for the simulation"
   ]
  },
  {
   "cell_type": "code",
   "execution_count": 14,
   "metadata": {},
   "outputs": [],
   "source": [
    "def printenergy(a=atoms):\n",
    "    \"\"\"Function to print the potential, kinetic and total energy\"\"\"\n",
    "    epot = a.get_potential_energy() / len(a)\n",
    "    ekin = a.get_kinetic_energy() / len(a)\n",
    "    print('Energy per atom: Epot = %.3feV  Ekin = %.3feV (T=%3.0fK)  '\n",
    "          'Etot = %.3feV' % (epot, ekin, ekin / (1.5 * units.kB), epot + ekin))\n",
    "    \n",
    "def savexyz(a=atoms):\n",
    "    this_traj = open(output_name, \"a\")\n",
    "    extxyz.write_extxyz(this_traj, [atoms])"
   ]
  },
  {
   "cell_type": "markdown",
   "metadata": {
    "slideshow": {
     "slide_type": "slide"
    }
   },
   "source": [
    "## Run the simulation"
   ]
  },
  {
   "cell_type": "code",
   "execution_count": 15,
   "metadata": {},
   "outputs": [
    {
     "name": "stdout",
     "output_type": "stream",
     "text": [
      "Energy per atom: Epot = -2.787eV  Ekin = 0.138eV (T=1064K)  Etot = -2.650eV\n",
      "Energy per atom: Epot = -2.609eV  Ekin = 0.048eV (T=373K)  Etot = -2.560eV\n",
      "Energy per atom: Epot = -2.668eV  Ekin = 0.078eV (T=603K)  Etot = -2.590eV\n",
      "Energy per atom: Epot = -2.598eV  Ekin = 0.043eV (T=332K)  Etot = -2.555eV\n",
      "Energy per atom: Epot = -2.654eV  Ekin = 0.071eV (T=550K)  Etot = -2.583eV\n",
      "Energy per atom: Epot = -2.635eV  Ekin = 0.061eV (T=473K)  Etot = -2.573eV\n",
      "Energy per atom: Epot = -2.640eV  Ekin = 0.064eV (T=493K)  Etot = -2.576eV\n",
      "Energy per atom: Epot = -2.663eV  Ekin = 0.076eV (T=585K)  Etot = -2.588eV\n",
      "Energy per atom: Epot = -2.661eV  Ekin = 0.074eV (T=575K)  Etot = -2.587eV\n",
      "Energy per atom: Epot = -2.632eV  Ekin = 0.060eV (T=464K)  Etot = -2.572eV\n",
      "Energy per atom: Epot = -2.661eV  Ekin = 0.074eV (T=574K)  Etot = -2.586eV\n",
      "Energy per atom: Epot = -2.639eV  Ekin = 0.064eV (T=492K)  Etot = -2.576eV\n",
      "Energy per atom: Epot = -2.644eV  Ekin = 0.066eV (T=509K)  Etot = -2.578eV\n",
      "Energy per atom: Epot = -2.685eV  Ekin = 0.086eV (T=668K)  Etot = -2.598eV\n",
      "Energy per atom: Epot = -2.617eV  Ekin = 0.052eV (T=406K)  Etot = -2.565eV\n",
      "Energy per atom: Epot = -2.641eV  Ekin = 0.064eV (T=498K)  Etot = -2.577eV\n",
      "Energy per atom: Epot = -2.617eV  Ekin = 0.053eV (T=406K)  Etot = -2.565eV\n",
      "Energy per atom: Epot = -2.662eV  Ekin = 0.075eV (T=580K)  Etot = -2.587eV\n",
      "Energy per atom: Epot = -2.610eV  Ekin = 0.049eV (T=380K)  Etot = -2.561eV\n",
      "Energy per atom: Epot = -2.642eV  Ekin = 0.065eV (T=502K)  Etot = -2.577eV\n",
      "Energy per atom: Epot = -2.656eV  Ekin = 0.072eV (T=556K)  Etot = -2.584eV\n",
      "Energy per atom: Epot = -2.649eV  Ekin = 0.068eV (T=529K)  Etot = -2.581eV\n",
      "Energy per atom: Epot = -2.661eV  Ekin = 0.075eV (T=577K)  Etot = -2.587eV\n",
      "Energy per atom: Epot = -2.655eV  Ekin = 0.072eV (T=554K)  Etot = -2.584eV\n",
      "Energy per atom: Epot = -2.667eV  Ekin = 0.078eV (T=601K)  Etot = -2.590eV\n",
      "Energy per atom: Epot = -2.623eV  Ekin = 0.055eV (T=427K)  Etot = -2.567eV\n",
      "Energy per atom: Epot = -2.623eV  Ekin = 0.055eV (T=428K)  Etot = -2.567eV\n",
      "Energy per atom: Epot = -2.631eV  Ekin = 0.059eV (T=458K)  Etot = -2.571eV\n",
      "Energy per atom: Epot = -2.615eV  Ekin = 0.052eV (T=400K)  Etot = -2.564eV\n",
      "Energy per atom: Epot = -2.654eV  Ekin = 0.071eV (T=549K)  Etot = -2.583eV\n",
      "Energy per atom: Epot = -2.633eV  Ekin = 0.060eV (T=467K)  Etot = -2.573eV\n",
      "Energy per atom: Epot = -2.631eV  Ekin = 0.059eV (T=460K)  Etot = -2.572eV\n",
      "Energy per atom: Epot = -2.662eV  Ekin = 0.075eV (T=578K)  Etot = -2.587eV\n",
      "Energy per atom: Epot = -2.643eV  Ekin = 0.065eV (T=505K)  Etot = -2.577eV\n",
      "Energy per atom: Epot = -2.649eV  Ekin = 0.068eV (T=528K)  Etot = -2.580eV\n",
      "Energy per atom: Epot = -2.638eV  Ekin = 0.063eV (T=487K)  Etot = -2.575eV\n",
      "Energy per atom: Epot = -2.616eV  Ekin = 0.052eV (T=403K)  Etot = -2.564eV\n",
      "Energy per atom: Epot = -2.690eV  Ekin = 0.089eV (T=686K)  Etot = -2.601eV\n",
      "Energy per atom: Epot = -2.621eV  Ekin = 0.054eV (T=420K)  Etot = -2.566eV\n",
      "Energy per atom: Epot = -2.643eV  Ekin = 0.065eV (T=505K)  Etot = -2.577eV\n",
      "Energy per atom: Epot = -2.628eV  Ekin = 0.058eV (T=449K)  Etot = -2.570eV\n",
      "Energy per atom: Epot = -2.646eV  Ekin = 0.067eV (T=519K)  Etot = -2.579eV\n",
      "Energy per atom: Epot = -2.649eV  Ekin = 0.068eV (T=529K)  Etot = -2.581eV\n",
      "Energy per atom: Epot = -2.666eV  Ekin = 0.077eV (T=596K)  Etot = -2.589eV\n",
      "Energy per atom: Epot = -2.680eV  Ekin = 0.084eV (T=648K)  Etot = -2.596eV\n",
      "Energy per atom: Epot = -2.651eV  Ekin = 0.069eV (T=537K)  Etot = -2.582eV\n",
      "Energy per atom: Epot = -2.647eV  Ekin = 0.067eV (T=521K)  Etot = -2.580eV\n",
      "Energy per atom: Epot = -2.630eV  Ekin = 0.059eV (T=457K)  Etot = -2.571eV\n",
      "Energy per atom: Epot = -2.627eV  Ekin = 0.058eV (T=446K)  Etot = -2.570eV\n",
      "Energy per atom: Epot = -2.657eV  Ekin = 0.072eV (T=558K)  Etot = -2.584eV\n",
      "Energy per atom: Epot = -2.650eV  Ekin = 0.069eV (T=533K)  Etot = -2.581eV\n",
      "Energy per atom: Epot = -2.664eV  Ekin = 0.076eV (T=587K)  Etot = -2.588eV\n",
      "Energy per atom: Epot = -2.665eV  Ekin = 0.076eV (T=590K)  Etot = -2.588eV\n",
      "Energy per atom: Epot = -2.620eV  Ekin = 0.054eV (T=418K)  Etot = -2.566eV\n",
      "Energy per atom: Epot = -2.610eV  Ekin = 0.049eV (T=379K)  Etot = -2.561eV\n",
      "Energy per atom: Epot = -2.670eV  Ekin = 0.079eV (T=612K)  Etot = -2.591eV\n",
      "Energy per atom: Epot = -2.678eV  Ekin = 0.083eV (T=642K)  Etot = -2.595eV\n",
      "Energy per atom: Epot = -2.602eV  Ekin = 0.045eV (T=346K)  Etot = -2.557eV\n",
      "Energy per atom: Epot = -2.684eV  Ekin = 0.086eV (T=664K)  Etot = -2.598eV\n",
      "Energy per atom: Epot = -2.650eV  Ekin = 0.069eV (T=534K)  Etot = -2.581eV\n",
      "Energy per atom: Epot = -2.633eV  Ekin = 0.060eV (T=468K)  Etot = -2.573eV\n",
      "Energy per atom: Epot = -2.626eV  Ekin = 0.057eV (T=441K)  Etot = -2.569eV\n",
      "Energy per atom: Epot = -2.630eV  Ekin = 0.059eV (T=454K)  Etot = -2.571eV\n",
      "Energy per atom: Epot = -2.616eV  Ekin = 0.052eV (T=401K)  Etot = -2.564eV\n",
      "Energy per atom: Epot = -2.630eV  Ekin = 0.059eV (T=457K)  Etot = -2.571eV\n",
      "Energy per atom: Epot = -2.663eV  Ekin = 0.075eV (T=582K)  Etot = -2.587eV\n",
      "Energy per atom: Epot = -2.657eV  Ekin = 0.072eV (T=559K)  Etot = -2.584eV\n",
      "Energy per atom: Epot = -2.629eV  Ekin = 0.059eV (T=454K)  Etot = -2.571eV\n",
      "Energy per atom: Epot = -2.672eV  Ekin = 0.080eV (T=617K)  Etot = -2.592eV\n",
      "Energy per atom: Epot = -2.632eV  Ekin = 0.060eV (T=463K)  Etot = -2.572eV\n",
      "Energy per atom: Epot = -2.657eV  Ekin = 0.073eV (T=562K)  Etot = -2.585eV\n",
      "Energy per atom: Epot = -2.668eV  Ekin = 0.078eV (T=604K)  Etot = -2.590eV\n",
      "Energy per atom: Epot = -2.683eV  Ekin = 0.085eV (T=660K)  Etot = -2.597eV\n",
      "Energy per atom: Epot = -2.627eV  Ekin = 0.058eV (T=445K)  Etot = -2.570eV\n",
      "Energy per atom: Epot = -2.643eV  Ekin = 0.066eV (T=507K)  Etot = -2.578eV\n",
      "Energy per atom: Epot = -2.662eV  Ekin = 0.075eV (T=580K)  Etot = -2.587eV\n",
      "Energy per atom: Epot = -2.633eV  Ekin = 0.060eV (T=468K)  Etot = -2.573eV\n",
      "Energy per atom: Epot = -2.640eV  Ekin = 0.064eV (T=493K)  Etot = -2.576eV\n",
      "Energy per atom: Epot = -2.634eV  Ekin = 0.061eV (T=470K)  Etot = -2.573eV\n",
      "Energy per atom: Epot = -2.655eV  Ekin = 0.071eV (T=551K)  Etot = -2.583eV\n",
      "Energy per atom: Epot = -2.658eV  Ekin = 0.073eV (T=564K)  Etot = -2.585eV\n",
      "Energy per atom: Epot = -2.655eV  Ekin = 0.071eV (T=553K)  Etot = -2.584eV\n",
      "Energy per atom: Epot = -2.632eV  Ekin = 0.060eV (T=462K)  Etot = -2.572eV\n",
      "Energy per atom: Epot = -2.618eV  Ekin = 0.053eV (T=410K)  Etot = -2.565eV\n",
      "Energy per atom: Epot = -2.631eV  Ekin = 0.060eV (T=461K)  Etot = -2.572eV\n",
      "Energy per atom: Epot = -2.630eV  Ekin = 0.059eV (T=457K)  Etot = -2.571eV\n",
      "Energy per atom: Epot = -2.664eV  Ekin = 0.076eV (T=589K)  Etot = -2.588eV\n",
      "Energy per atom: Epot = -2.652eV  Ekin = 0.070eV (T=542K)  Etot = -2.582eV\n",
      "Energy per atom: Epot = -2.615eV  Ekin = 0.051eV (T=396K)  Etot = -2.563eV\n",
      "Energy per atom: Epot = -2.650eV  Ekin = 0.069eV (T=534K)  Etot = -2.581eV\n",
      "Energy per atom: Epot = -2.618eV  Ekin = 0.053eV (T=408K)  Etot = -2.565eV\n",
      "Energy per atom: Epot = -2.655eV  Ekin = 0.071eV (T=553K)  Etot = -2.584eV\n",
      "Energy per atom: Epot = -2.643eV  Ekin = 0.065eV (T=504K)  Etot = -2.577eV\n",
      "Energy per atom: Epot = -2.609eV  Ekin = 0.049eV (T=376K)  Etot = -2.561eV\n",
      "Energy per atom: Epot = -2.638eV  Ekin = 0.063eV (T=488K)  Etot = -2.575eV\n",
      "Energy per atom: Epot = -2.628eV  Ekin = 0.058eV (T=449K)  Etot = -2.570eV\n",
      "Energy per atom: Epot = -2.657eV  Ekin = 0.072eV (T=560K)  Etot = -2.585eV\n",
      "Energy per atom: Epot = -2.627eV  Ekin = 0.057eV (T=443K)  Etot = -2.569eV\n",
      "Energy per atom: Epot = -2.624eV  Ekin = 0.056eV (T=434K)  Etot = -2.568eV\n",
      "Energy per atom: Epot = -2.646eV  Ekin = 0.067eV (T=516K)  Etot = -2.579eV\n",
      "Energy per atom: Epot = -2.603eV  Ekin = 0.046eV (T=353K)  Etot = -2.558eV\n"
     ]
    },
    {
     "data": {
      "text/plain": [
       "True"
      ]
     },
     "execution_count": 15,
     "metadata": {},
     "output_type": "execute_result"
    }
   ],
   "source": [
    "steps = 1000\n",
    "\n",
    "output_name = \"data/Ni_19/trajectory_mff.xyz\"  # Output name\n",
    "this_traj = open(output_name, \"w\")\n",
    "dyn.attach(savexyz, interval=100)  # Save coordinates every interval steps\n",
    "dyn.attach(printenergy, interval=100)  # Print informations every interval steps\n",
    "dyn.run(steps)  # Have fun"
   ]
  },
  {
   "cell_type": "code",
   "execution_count": null,
   "metadata": {},
   "outputs": [],
   "source": []
  }
 ],
 "metadata": {
  "kernelspec": {
   "display_name": "Python 3",
   "language": "python",
   "name": "python3"
  },
  "language_info": {
   "codemirror_mode": {
    "name": "ipython",
    "version": 3
   },
   "file_extension": ".py",
   "mimetype": "text/x-python",
   "name": "python",
   "nbconvert_exporter": "python",
   "pygments_lexer": "ipython3",
   "version": "3.6.5"
  }
 },
 "nbformat": 4,
 "nbformat_minor": 2
}
