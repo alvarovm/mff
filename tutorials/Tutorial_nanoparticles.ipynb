{
 "cells": [
  {
   "cell_type": "markdown",
   "metadata": {
    "ExecuteTime": {
     "end_time": "2019-01-30T11:15:03.662655Z",
     "start_time": "2019-01-30T11:15:03.656521Z"
    }
   },
   "source": [
    "# Nomenclature\n",
    "###  \n",
    "#### Isomer, Shape, Morphology: Nanoparticle's XYZ structural geometry (ICO, DIH, DECA, etc.)\n",
    "#### Snapshot: single XYZ state of a nanoparticle taken from an MD trajectory\n",
    "#### Configuration: local atomic environment within a cutoff from a central atom\n",
    "#### Total database: set of local atomic environments and forces acting on the central atom for a set of morphologies, extracted form a set of DFT snapshots\n",
    "#### Training database: subset of the total database selected according to some criteria\n",
    "#### Test database: subset of the total database selected at random, not part of the training database\n",
    "###    \n",
    "### All distances are in Angstrom, all energies in eV, all forces in eV/A\n",
    "\n",
    "\n"
   ]
  },
  {
   "cell_type": "markdown",
   "metadata": {
    "ExecuteTime": {
     "end_time": "2019-01-29T10:38:48.864694Z",
     "start_time": "2019-01-29T10:38:48.861472Z"
    }
   },
   "source": [
    "# Imports"
   ]
  },
  {
   "cell_type": "code",
   "execution_count": 1,
   "metadata": {
    "ExecuteTime": {
     "end_time": "2019-05-07T16:05:06.622932Z",
     "start_time": "2019-05-07T16:05:04.349921Z"
    }
   },
   "outputs": [
    {
     "name": "stdout",
     "output_type": "stream",
     "text": [
      "No skbayes module found, rvm sampling cannot be used\n"
     ]
    }
   ],
   "source": [
    "# Standard Imports\n",
    "import os\n",
    "import logging\n",
    "import numpy as np\n",
    "import matplotlib.pyplot as plt\n",
    "import sys\n",
    "\n",
    "# import ASE\n",
    "from ase.io import read\n",
    "from ase import Atoms\n",
    "# Import MFF\n",
    "from mff import models\n",
    "from mff.configurations import carve_confs\n",
    "from mff import calculators\n",
    "from mff.advanced_sampling import Sampling\n",
    "\n",
    "%matplotlib notebook  \n",
    "logging.basicConfig(level=logging.ERROR)  # Verbosity selection: INFO, WARNING or ERROR"
   ]
  },
  {
   "cell_type": "markdown",
   "metadata": {
    "ExecuteTime": {
     "end_time": "2019-01-29T10:38:48.864694Z",
     "start_time": "2019-01-29T10:38:48.861472Z"
    }
   },
   "source": [
    "# Extract the  total database"
   ]
  },
  {
   "cell_type": "code",
   "execution_count": 2,
   "metadata": {
    "ExecuteTime": {
     "end_time": "2019-05-07T16:06:09.467287Z",
     "start_time": "2019-05-07T16:06:05.404492Z"
    }
   },
   "outputs": [],
   "source": [
    "directory = 'data/Ni_19/' # Path to xyz\n",
    "filename = directory + 'movie_all.xyz'\n",
    "\n",
    "\n",
    "if filename[-3:] == \"out\":\n",
    "    traj = read(filename, index=':', format='aims-output')\n",
    "elif filename[-3:] == \"xyz\":\n",
    "    traj = read(filename, index=slice(None), format='extxyz') # Get the ASE traj from xyz"
   ]
  },
  {
   "cell_type": "code",
   "execution_count": 5,
   "metadata": {
    "ExecuteTime": {
     "end_time": "2019-05-07T16:06:32.149093Z",
     "start_time": "2019-05-07T16:06:31.684868Z"
    }
   },
   "outputs": [
    {
     "name": "stdout",
     "output_type": "stream",
     "text": [
      "Number of atoms in a configuration:\n",
      "   maximum: 18\n",
      "   minimum: 12\n",
      "   average: 17.55\n"
     ]
    }
   ],
   "source": [
    "# Extract configurations, forces, energies and elements from traj. Energies  may not be present\n",
    "r_cut = 6.0  # Angstrom\n",
    "n_data = 15000  # Number of configurations to extract to form the total database\n",
    "\n",
    "if filename[-3:] == \"out\":\n",
    "    elements, confs, forces, energies = carve_confs(\n",
    "        traj, r_cut, n_data)\n",
    "elif filename[-3:] == \"xyz\":\n",
    "    elements, confs, forces, energies = carve_confs(\n",
    "        traj, r_cut, n_data,\n",
    "        forces_label='force', energy_label='energy')\n",
    "\n",
    "# Count the atoms in each configuration\n",
    "numatoms = [len(conf) for conf in confs]\n",
    "\n",
    "print('\\n'.join((\n",
    "    'Number of atoms in a configuration:',\n",
    "    '   maximum: {}'.format(np.max(numatoms)),\n",
    "    '   minimum: {}'.format(np.min(numatoms)),\n",
    "    '   average: {:.4}'.format(np.mean(numatoms))\n",
    ")))"
   ]
  },
  {
   "cell_type": "markdown",
   "metadata": {
    "ExecuteTime": {
     "end_time": "2019-01-29T10:38:48.864694Z",
     "start_time": "2019-01-29T10:38:48.861472Z"
    }
   },
   "source": [
    "### Check the histogram of distances to choose cutoff"
   ]
  },
  {
   "cell_type": "code",
   "execution_count": 6,
   "metadata": {
    "ExecuteTime": {
     "end_time": "2019-05-07T16:06:32.917742Z",
     "start_time": "2019-05-07T16:06:32.502290Z"
    }
   },
   "outputs": [
    {
     "name": "stdout",
     "output_type": "stream",
     "text": [
      "Average number of atoms in each configuration is is 17.54716202270382 += 0.6762587157506914\n"
     ]
    },
    {
     "data": {
      "image/png": "[encoded data removed]",
      "text/plain": [
       "<Figure size 432x288 with 1 Axes>"
      ]
     },
     "metadata": {},
     "output_type": "display_data"
    }
   ],
   "source": [
    "distances = []\n",
    "M_mean = 0.\n",
    "M_std = 0.\n",
    "for c in confs:\n",
    "    distances += np.linalg.norm(c[:, 0:3], axis=1).tolist()\n",
    "    M_mean += c.shape[0]\n",
    "    M_std += c.shape[0] ** 2\n",
    "\n",
    "M_mean = M_mean / len(confs)\n",
    "M_std = M_std / len(confs) - M_mean ** 2\n",
    "print('Average number of atoms in each configuration is is {} += {}'.format(M_mean, M_std))\n",
    "plt.figure()\n",
    "plt.hist(distances, 40)\n",
    "plt.xticks(np.arange(2.00, 9.0, step=1.0))\n",
    "plt.show()"
   ]
  },
  {
   "cell_type": "markdown",
   "metadata": {
    "ExecuteTime": {
     "end_time": "2019-01-29T10:38:48.864694Z",
     "start_time": "2019-01-29T10:38:48.861472Z"
    }
   },
   "source": [
    "### Save the configurations, forces, energies"
   ]
  },
  {
   "cell_type": "code",
   "execution_count": 7,
   "metadata": {
    "ExecuteTime": {
     "end_time": "2019-05-07T16:06:35.232189Z",
     "start_time": "2019-05-07T16:06:34.885066Z"
    }
   },
   "outputs": [],
   "source": [
    "np.save('{}/confs_cut={:.2f}.npy'.format(directory, r_cut), confs)\n",
    "np.save('{}/forces_cut={:.2f}.npy'.format(directory, r_cut), forces)\n",
    "np.save('{}/energies_cut={:.2f}.npy'.format(directory, r_cut), energies)"
   ]
  },
  {
   "cell_type": "markdown",
   "metadata": {
    "ExecuteTime": {
     "end_time": "2019-01-29T10:38:48.864694Z",
     "start_time": "2019-01-29T10:38:48.861472Z"
    }
   },
   "source": [
    "# Gaussian Process with the MFF package"
   ]
  },
  {
   "cell_type": "code",
   "execution_count": 17,
   "metadata": {
    "ExecuteTime": {
     "end_time": "2019-05-07T16:06:36.646881Z",
     "start_time": "2019-05-07T16:06:36.479648Z"
    }
   },
   "outputs": [],
   "source": [
    "# GP Parameters\n",
    "sigma_2b = 0.5  # Angstrom - typical value 0.2-0.6\n",
    "sigma_3b = 0.8  # Angstrom - typical value 0.4-1.0\n",
    "sigma_mb = 0.5  # Angstrom - This is used only to initialize the Sampling\n",
    "noise = 0.01  # Number   - Typical values 0.01 - 0.0001\n",
    "theta = r_cut/5.0 # Cutoff decay lengthscale in Angstrom - Typical value r_cut/5 - r_cut/10\n",
    "\n",
    "ntr = 50       # Usually 2body kernel converges around 200, 3body and combined round 500-1000\n",
    "ntest = 100\n",
    "\n",
    "# Get training configurations and forces from file\n",
    "confs = np.load(str(directory + 'confs_cut={:.2f}.npy'.format(r_cut)), allow_pickle=True)\n",
    "forces = np.load(str(directory + 'forces_cut={:.2f}.npy'.format(r_cut)), allow_pickle=True)\n",
    "energies = np.load(str(directory + 'energies_cut={:.2f}.npy'.format(r_cut)), allow_pickle=True)\n",
    "\n",
    "numatoms = len(traj[0])\n",
    "energies = np.repeat(energies, numatoms)   # To get an energy per each configuration instead of one per snapshot\n",
    "elements = list(np.sort(list(set(confs[0][:,3:].flatten().tolist()))))"
   ]
  },
  {
   "cell_type": "markdown",
   "metadata": {},
   "source": [
    "## Training and test set sampling"
   ]
  },
  {
   "cell_type": "code",
   "execution_count": 18,
   "metadata": {
    "ExecuteTime": {
     "end_time": "2019-05-07T16:06:56.114545Z",
     "start_time": "2019-05-07T16:06:38.698877Z"
    }
   },
   "outputs": [],
   "source": [
    "s = Sampling(confs, energies, forces, sigma_2b, sigma_3b, sigma_mb, noise, r_cut, theta) # Initialize Sampling module\n",
    "s.train_test_split(confs=confs, energies= energies, forces = forces, ntest = ntest)      # Separate test set\n",
    "tst_confs, tst_forces = s.x, s.y_force                                                   # Name test set"
   ]
  },
  {
   "cell_type": "markdown",
   "metadata": {},
   "source": [
    "#### Random Sampling"
   ]
  },
  {
   "cell_type": "code",
   "execution_count": 19,
   "metadata": {
    "ExecuteTime": {
     "end_time": "2019-05-07T16:06:56.129111Z",
     "start_time": "2019-05-07T16:06:56.116716Z"
    }
   },
   "outputs": [],
   "source": [
    "random_index = s.random(ntrain = ntr, return_error = False) # sample at random for training set"
   ]
  },
  {
   "cell_type": "markdown",
   "metadata": {},
   "source": [
    "#### Descriptor Space Sampling"
   ]
  },
  {
   "cell_type": "code",
   "execution_count": 22,
   "metadata": {
    "ExecuteTime": {
     "end_time": "2019-05-07T16:10:33.430149Z",
     "start_time": "2019-05-07T16:10:28.222961Z"
    }
   },
   "outputs": [
    {
     "name": "stdout",
     "output_type": "stream",
     "text": [
      "Number of training points selected:  75\n"
     ]
    }
   ],
   "source": [
    "grid_2b_index = s.grid('2b', nbins = 200, return_error = False) # sample using a distance-based histogram for training set\n",
    "print(\"Number of training points selected: \",  len(grid_2b_index))"
   ]
  },
  {
   "cell_type": "code",
   "execution_count": 21,
   "metadata": {
    "ExecuteTime": {
     "end_time": "2019-05-07T16:10:44.552954Z",
     "start_time": "2019-05-07T16:10:44.548682Z"
    }
   },
   "outputs": [],
   "source": [
    "# grid_3b_index = s.grid('3b', nbins = 20, return_error = False) # sample using a triplet-distance-based histogram for training set\n",
    "# print(\"Number of training points selected: \",  len(grid_3b_index))"
   ]
  },
  {
   "cell_type": "markdown",
   "metadata": {
    "ExecuteTime": {
     "end_time": "2019-01-29T10:38:48.864694Z",
     "start_time": "2019-01-29T10:38:48.861472Z"
    }
   },
   "source": [
    "### Choose the kernel, initialize, and train the GP"
   ]
  },
  {
   "cell_type": "code",
   "execution_count": 23,
   "metadata": {
    "ExecuteTime": {
     "end_time": "2019-05-07T16:10:55.715200Z",
     "start_time": "2019-05-07T16:10:52.045656Z"
    }
   },
   "outputs": [],
   "source": [
    "m = models.TwoBodySingleSpeciesModel(element=elements, noise=noise, sigma=sigma_2b, theta=theta, r_cut=r_cut)\n",
    "# m = models.ThreeBodySingleSpeciesModel(element=elements, noise=noise, sigma=sigma_3b, theta=r_cut/8.0, r_cut=r_cut)\n",
    "# m = models.CombinedSingleSpeciesModel(elements=elements, noise=noise, sigma_2b=sigma_2b, sigma_3b=sigma_2b, theta_3b=r_cut/8.0, r_cut=r_cut, theta_2b=r_cut/8.0)\n",
    "# m = models.ManyBodySingleSpeciesModel(element=elements, noise=noise, sigma=sigma_2b, theta=r_cut/8.0, r_cut=r_cut)"
   ]
  },
  {
   "cell_type": "code",
   "execution_count": 24,
   "metadata": {
    "ExecuteTime": {
     "end_time": "2019-05-07T16:10:55.726376Z",
     "start_time": "2019-05-07T16:10:55.721831Z"
    }
   },
   "outputs": [],
   "source": [
    "tr_confs, tr_forces = confs[grid_2b_index], forces[grid_2b_index]  # Decide what to use as a training set"
   ]
  },
  {
   "cell_type": "code",
   "execution_count": 25,
   "metadata": {
    "ExecuteTime": {
     "end_time": "2019-05-07T16:11:30.343664Z",
     "start_time": "2019-05-07T16:10:55.730053Z"
    }
   },
   "outputs": [],
   "source": [
    "m.fit(tr_confs, tr_forces)  # Fit the Gaussian Process"
   ]
  },
  {
   "cell_type": "markdown",
   "metadata": {},
   "source": [
    "### Test the GP predicting forces on atoms"
   ]
  },
  {
   "cell_type": "code",
   "execution_count": 26,
   "metadata": {
    "ExecuteTime": {
     "end_time": "2019-05-07T16:11:42.155803Z",
     "start_time": "2019-05-07T16:11:30.346423Z"
    }
   },
   "outputs": [
    {
     "name": "stdout",
     "output_type": "stream",
     "text": [
      "Testing GP\n",
      "RMSE: 0.1315\n",
      "MAEC: 0.09732\n",
      "MAEF : 0.1965 +- 0.1150\n",
      "Relative MAEF on forces: 0.3060 +- 0.1791\n"
     ]
    }
   ],
   "source": [
    "# Test the GP performance\n",
    "print('Testing GP')\n",
    "\n",
    "gp_forces= m.predict(tst_confs)   # Predict forces on test configurations\n",
    "gp_error = gp_forces - tst_forces  # Calculate error\n",
    "\n",
    "MAEC = np.mean(abs(gp_error))     # Mean average error on force components\n",
    "MAEF = np.mean(np.sqrt(np.sum(np.square(gp_error), axis=1)))  # Mean average error on force vector\n",
    "SMAEF = np.std(np.sqrt(np.sum(np.square(gp_error), axis=1)))  # Standard deviation of the average error on force vector\n",
    "MF = np.mean(np.linalg.norm(tst_forces, axis=1))  # Meean force value\n",
    "RMSE = np.sqrt(np.mean((gp_error) ** 2))  #  Root mean square error on force\n",
    "\n",
    "print('RMSE: {:.4}'.format(RMSE))\n",
    "print('MAEC: {:.4}'.format(MAEC))\n",
    "\n",
    "print('MAEF : {:.4f} +- {:.4f}'.format(MAEF, SMAEF))\n",
    "print('Relative MAEF on forces: {:.4f} +- {:.4f}'.format(MAEF / MF, SMAEF / MF))"
   ]
  },
  {
   "cell_type": "code",
   "execution_count": 27,
   "metadata": {
    "ExecuteTime": {
     "end_time": "2019-05-07T16:11:42.738082Z",
     "start_time": "2019-05-07T16:11:42.158966Z"
    }
   },
   "outputs": [
    {
     "data": {
      "image/png": "[encoded data removed]",
      "text/plain": [
       "<Figure size 432x288 with 1 Axes>"
      ]
     },
     "metadata": {},
     "output_type": "display_data"
    }
   ],
   "source": [
    "plt.figure()\n",
    "plt.scatter(tst_forces, gp_forces)\n",
    "plt.plot(tst_forces, tst_forces, 'k')\n",
    "plt.xlabel('True Force [eV/$\\AA$]')\n",
    "plt.ylabel('Predicted Force [eV/$\\AA$]')\n",
    "plt.show()"
   ]
  },
  {
   "cell_type": "markdown",
   "metadata": {},
   "source": [
    "#### Plot the 2-body potential to visualize what is the resulting force field"
   ]
  },
  {
   "cell_type": "code",
   "execution_count": 28,
   "metadata": {
    "ExecuteTime": {
     "end_time": "2019-05-07T16:12:01.725467Z",
     "start_time": "2019-05-07T16:11:42.745252Z"
    }
   },
   "outputs": [],
   "source": [
    "# Generate the potential\n",
    "n_grid = 100\n",
    "starting_distance = 1.5\n",
    "\n",
    "potential_points = np.linspace(starting_distance, r_cut, n_grid)\n",
    "\n",
    "gp_potential = np.zeros(n_grid)\n",
    "gp_force = np.zeros((n_grid, 3))\n",
    "gp_pot_uncertainty = np.zeros(n_grid)\n",
    "for i in np.arange(n_grid):\n",
    "    conf = np.asarray([[0.0, 0.0, 0.0, elements[0], elements[0]],[potential_points[i], 0.0, 0.0, elements[0], elements[0]]])\n",
    "    gp_potential[i], gp_pot_uncertainty[i] = m.predict_energy(np.reshape(conf[1], (1, 1, 5)), return_std=True)\n",
    "    gp_force[i] = m.predict(np.reshape(conf[1], (1, 1, 5)))"
   ]
  },
  {
   "cell_type": "code",
   "execution_count": 30,
   "metadata": {},
   "outputs": [
    {
     "data": {
      "image/png": "[encoded data removed]",
      "text/plain": [
       "<Figure size 432x288 with 1 Axes>"
      ]
     },
     "metadata": {},
     "output_type": "display_data"
    }
   ],
   "source": [
    "# Plot the potential\n",
    "fs = 12\n",
    "plt.figure()\n",
    "plt.plot(potential_points, gp_potential, label = 'Potential')\n",
    "plt.fill_between(potential_points, gp_potential - gp_pot_uncertainty, gp_potential + gp_pot_uncertainty,\n",
    "                 alpha=0.5, label = \"Potential's uncertainty\")\n",
    "plt.xlabel(\"Interatomic Distance [$\\AA$]\", fontsize = fs)\n",
    "plt.ylabel(\"Potential Energy [eV]\", fontsize = fs)\n",
    "plt.xticks(fontsize = fs)\n",
    "plt.yticks(fontsize = fs)\n",
    "plt.legend()\n",
    "plt.show()"
   ]
  },
  {
   "cell_type": "markdown",
   "metadata": {
    "ExecuteTime": {
     "end_time": "2019-01-29T11:00:13.563417Z",
     "start_time": "2019-01-29T11:00:13.559034Z"
    }
   },
   "source": [
    "### Learning Curve"
   ]
  },
  {
   "cell_type": "code",
   "execution_count": null,
   "metadata": {
    "ExecuteTime": {
     "end_time": "2019-05-07T16:13:21.563930Z",
     "start_time": "2019-05-07T16:12:01.730583Z"
    }
   },
   "outputs": [],
   "source": [
    "ntrs = [20, 40, 80, 160, 320]\n",
    "ntest = 50\n",
    "print('N train: {}, N test: {}'.format(ntrs, ntest))\n",
    "errors, stds = [], []\n",
    "\n",
    "for ntr in ntrs:\n",
    "    \n",
    "    # Set training and testing configurations\n",
    "    random_index = s.random(ntrain = ntr, return_error = False)\n",
    "    tr_confs, tr_forces = confs[random_index], forces[random_index]\n",
    "    print('Training GP')\n",
    "\n",
    "    m.fit(tr_confs, tr_forces)\n",
    "\n",
    "    # Test the GP performance\n",
    "    print('Testing GP')\n",
    "\n",
    "    gp_forces = m.predict(tst_confs)\n",
    "    gp_error = gp_forces - tst_forces\n",
    "\n",
    "    MAEC = np.mean(abs(gp_error))\n",
    "    MAEF = np.mean(np.sqrt(np.sum(np.square(gp_error), axis=1)))\n",
    "    SMAEF = np.std(np.sqrt(np.sum(np.square(gp_error), axis=1)))\n",
    "    RMSE = np.sqrt(np.mean((gp_error) ** 2))\n",
    "\n",
    "    MF = np.mean(np.linalg.norm(tst_forces, axis=1))\n",
    "\n",
    "    print('RMSE: {:.4}'.format(RMSE))\n",
    "    print('MAEC: {:.4}'.format(MAEC))\n",
    "    print('MAEF: {:.4f} +- {:.4f}'.format(MAEF, SMAEF))\n",
    "    print('Relative MAEF on forces: {:.4f} +- {:.4f}'.format(MAEF / MF, SMAEF / MF))\n",
    "\n",
    "    errors.append(MAEF)\n",
    "    stds.append(SMAEF)\n",
    "\n",
    "plt.figure()\n",
    "plt.errorbar(ntrs, errors, yerr=stds, elinewidth=1.0, capsize=5)\n",
    "plt.xlabel(\"Training Points\")\n",
    "plt.ylabel(\"Mean Absolute Error on Force [eV\\ $\\AA$]\")\n",
    "plt.show()"
   ]
  },
  {
   "cell_type": "markdown",
   "metadata": {
    "ExecuteTime": {
     "end_time": "2019-01-29T12:04:23.290405Z",
     "start_time": "2019-01-29T12:04:23.285712Z"
    }
   },
   "source": [
    "# Mapping"
   ]
  },
  {
   "cell_type": "code",
   "execution_count": null,
   "metadata": {
    "ExecuteTime": {
     "end_time": "2019-05-07T16:13:53.829481Z",
     "start_time": "2019-05-07T16:13:49.224249Z"
    }
   },
   "outputs": [],
   "source": [
    "mapping_ngrid_2b = 100 # Number of points used to build the spline\n",
    "grid_start = 1.5 # angstrom\n",
    "m.build_grid(grid_start, mapping_ngrid_2b)  # Map the Gaussian process to build a MFF"
   ]
  },
  {
   "cell_type": "markdown",
   "metadata": {},
   "source": [
    "### Setup Calculator Module"
   ]
  },
  {
   "cell_type": "code",
   "execution_count": null,
   "metadata": {
    "ExecuteTime": {
     "end_time": "2019-05-07T16:14:00.500868Z",
     "start_time": "2019-05-07T16:14:00.495775Z"
    }
   },
   "outputs": [],
   "source": [
    "mff_calc = calculators.TwoBodySingleSpecies(r_cut, m.grid)  # Initialize calculator module"
   ]
  },
  {
   "cell_type": "markdown",
   "metadata": {},
   "source": [
    "### Setup ASE Simulation"
   ]
  },
  {
   "cell_type": "code",
   "execution_count": null,
   "metadata": {
    "ExecuteTime": {
     "end_time": "2019-05-07T16:16:48.161296Z",
     "start_time": "2019-05-07T16:16:48.157094Z"
    }
   },
   "outputs": [],
   "source": [
    "# Additional ASE imports\n",
    "from ase.md.velocitydistribution import MaxwellBoltzmannDistribution\n",
    "from ase.md.velocitydistribution import Stationary\n",
    "from ase.md.velocitydistribution import ZeroRotation\n",
    "from ase.md.verlet import VelocityVerlet\n",
    "from ase.md.langevin import Langevin\n",
    "from ase import units\n",
    "from ase.io import extxyz\n",
    "\n",
    "# Global Variables Definition\n",
    "gamma = 0.001 #  For Langevin Dynamics\n",
    "temp = 900 # K\n",
    "dt = 1.0  # fs\n",
    "steps = 10000\n",
    "t = steps * dt * 10 ** (-3)  # time in ps\n",
    "cell_length = 10.0 # Angstrom"
   ]
  },
  {
   "cell_type": "code",
   "execution_count": null,
   "metadata": {
    "ExecuteTime": {
     "end_time": "2019-05-07T16:16:48.988252Z",
     "start_time": "2019-05-07T16:16:48.488702Z"
    }
   },
   "outputs": [],
   "source": [
    "atoms = read(filename, index=0, format='extxyz')  # Read the input file and setup the initial geometry form the xyz file\n",
    "atoms.set_positions(atoms.get_positions() - 0.5*np.array([cell_length, cell_length, cell_length]))  # Center atoms in the cell\n",
    "atoms.set_cell([[cell_length, 0.0, 0.0], [0, cell_length, 0], [0, 0, cell_length]]) # Set the simulation cell if not present"
   ]
  },
  {
   "cell_type": "code",
   "execution_count": null,
   "metadata": {
    "ExecuteTime": {
     "end_time": "2019-05-07T16:16:48.996014Z",
     "start_time": "2019-05-07T16:16:48.990131Z"
    }
   },
   "outputs": [],
   "source": [
    "atoms.set_calculator(mff_calc) # Tell ASE how to get the forces ( AKA choose the potential)"
   ]
  },
  {
   "cell_type": "code",
   "execution_count": null,
   "metadata": {
    "ExecuteTime": {
     "end_time": "2019-05-07T16:16:49.170010Z",
     "start_time": "2019-05-07T16:16:49.152894Z"
    }
   },
   "outputs": [],
   "source": [
    "# Setup the momenta and velocities\n",
    "\n",
    "dyn = VelocityVerlet(atoms, dt * units.fs)  # The dynamics will be a Verlet one\n",
    "MaxwellBoltzmannDistribution(atoms, 2.0 * temp * units.kB)  # Initialize velocities according to MB distribution at double T because of equipartition theorem\n",
    "ZeroRotation(atoms)  # Stop global rotation\n",
    "Stationary(atoms)  # Stop global movement"
   ]
  },
  {
   "cell_type": "code",
   "execution_count": null,
   "metadata": {
    "ExecuteTime": {
     "end_time": "2019-05-07T16:16:49.644888Z",
     "start_time": "2019-05-07T16:16:49.622058Z"
    }
   },
   "outputs": [],
   "source": [
    "def printenergy(a=atoms):\n",
    "    \"\"\"Function to print the potential, kinetic and total energy\"\"\"\n",
    "    epot = a.get_potential_energy() / len(a)\n",
    "    ekin = a.get_kinetic_energy() / len(a)\n",
    "    print('Energy per atom: Epot = %.3feV  Ekin = %.3feV (T=%3.0fK)  '\n",
    "          'Etot = %.3feV' % (epot, ekin, ekin / (1.5 * units.kB), epot + ekin))\n",
    "    \n",
    "def savexyz(a=atoms):\n",
    "    this_traj = open(traj_filename, \"a\")\n",
    "    extxyz.write_extxyz(this_traj, [atoms])"
   ]
  },
  {
   "cell_type": "markdown",
   "metadata": {},
   "source": [
    "### Run Simulation"
   ]
  },
  {
   "cell_type": "code",
   "execution_count": null,
   "metadata": {
    "ExecuteTime": {
     "end_time": "2019-05-07T16:17:10.962540Z",
     "start_time": "2019-05-07T16:16:50.301948Z"
    }
   },
   "outputs": [],
   "source": [
    "traj_filename = \"example.xyz\"  # Output name\n",
    "this_traj = open(traj_filename, \"w\")\n",
    "dyn.attach(savexyz, interval=100)  # Save coordinates every interval steps\n",
    "dyn.attach(printenergy, interval=100)  # Print informations every interval steps\n",
    "dyn.run(steps)  # Have fun"
   ]
  },
  {
   "cell_type": "code",
   "execution_count": null,
   "metadata": {},
   "outputs": [],
   "source": []
  }
 ],
 "metadata": {
  "kernelspec": {
   "display_name": "Python 3",
   "language": "python",
   "name": "python3"
  },
  "language_info": {
   "codemirror_mode": {
    "name": "ipython",
    "version": 3
   },
   "file_extension": ".py",
   "mimetype": "text/x-python",
   "name": "python",
   "nbconvert_exporter": "python",
   "pygments_lexer": "ipython3",
   "version": "3.6.8"
  }
 },
 "nbformat": 4,
 "nbformat_minor": 2
}
