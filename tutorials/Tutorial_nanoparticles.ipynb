{
 "cells": [
  {
   "cell_type": "markdown",
   "metadata": {
    "ExecuteTime": {
     "end_time": "2019-01-30T11:15:03.662655Z",
     "start_time": "2019-01-30T11:15:03.656521Z"
    }
   },
   "source": [
    "# Nomenclature\n",
    "###  \n",
    "#### Isomer, Shape, Morphology: Nanoparticle's XYZ structural geometry (ICO, DIH, DECA, etc.)\n",
    "#### Snapshot: single XYZ state of a nanoparticle taken from an MD trajectory\n",
    "#### Configuration: local atomic environment within a cutoff from a central atom\n",
    "#### Total database: set of local atomic environments and forces acting on the central atom for a set of morphologies, extracted form a set of DFT snapshots\n",
    "#### Training database: subset of the total database selected according to some criteria\n",
    "#### Test database: subset of the total database selected at random, not part of the training database\n",
    "###    \n",
    "### All distances are in Angstrom, all energies in eV, all forces in eV/A\n",
    "\n",
    "\n"
   ]
  },
  {
   "cell_type": "markdown",
   "metadata": {
    "ExecuteTime": {
     "end_time": "2019-01-29T10:38:48.864694Z",
     "start_time": "2019-01-29T10:38:48.861472Z"
    }
   },
   "source": [
    "# Imports"
   ]
  },
  {
   "cell_type": "code",
   "execution_count": 1,
   "metadata": {
    "ExecuteTime": {
     "end_time": "2019-05-07T16:05:06.622932Z",
     "start_time": "2019-05-07T16:05:04.349921Z"
    }
   },
   "outputs": [
    {
     "name": "stdout",
     "output_type": "stream",
     "text": [
      "No skbayes module found, rvm sampling cannot be used\n"
     ]
    }
   ],
   "source": [
    "# Standard Imports\n",
    "import os\n",
    "import logging\n",
    "import numpy as np\n",
    "import matplotlib.pyplot as plt\n",
    "import sys\n",
    "\n",
    "# import ASE\n",
    "from ase.io import read\n",
    "from ase.io import write\n",
    "from ase import Atoms\n",
    "# Import MFF\n",
    "from mff import models\n",
    "from mff.configurations import carve_confs\n",
    "from mff import calculators\n",
    "from mff.advanced_sampling import Sampling\n",
    "\n",
    "%matplotlib notebook  \n",
    "logging.basicConfig(level=logging.ERROR)  # Verbosity selection: INFO, WARNING or ERROR"
   ]
  },
  {
   "cell_type": "markdown",
   "metadata": {
    "ExecuteTime": {
     "end_time": "2019-01-29T10:38:48.864694Z",
     "start_time": "2019-01-29T10:38:48.861472Z"
    }
   },
   "source": [
    "# Extract the  total database"
   ]
  },
  {
   "cell_type": "code",
   "execution_count": 4,
   "metadata": {
    "ExecuteTime": {
     "end_time": "2019-05-07T16:06:09.467287Z",
     "start_time": "2019-05-07T16:06:05.404492Z"
    }
   },
   "outputs": [],
   "source": [
    "directory = '../test/data/Au_g_withdata/40_7/' # Path to xyz\n",
    "filename = directory + 'MD.txt'\n",
    "\n",
    "\n",
    "#if filename[-3:] == \"out\":\n",
    "if True:\n",
    "    traj = read(filename, index=':', format='aims-output')\n",
    "elif filename[-3:] == \"xyz\":\n",
    "    traj = read(filename, index=slice(None), format='extxyz') # Get the ASE traj from xyz"
   ]
  },
  {
   "cell_type": "code",
   "execution_count": 5,
   "metadata": {
    "ExecuteTime": {
     "end_time": "2019-05-07T16:06:32.149093Z",
     "start_time": "2019-05-07T16:06:31.684868Z"
    }
   },
   "outputs": [
    {
     "name": "stdout",
     "output_type": "stream",
     "text": [
      "Setting n_data = 450240\n"
     ]
    },
    {
     "ename": "RuntimeError",
     "evalue": "Atoms object has no calculator.",
     "output_type": "error",
     "traceback": [
      "\u001b[0;31m---------------------------------------------------------------------------\u001b[0m",
      "\u001b[0;31mRuntimeError\u001b[0m                              Traceback (most recent call last)",
      "\u001b[0;32m<ipython-input-5-d2d2aa118de5>\u001b[0m in \u001b[0;36m<module>\u001b[0;34m()\u001b[0m\n\u001b[1;32m      6\u001b[0m \u001b[0;32mif\u001b[0m \u001b[0;32mTrue\u001b[0m\u001b[0;34m:\u001b[0m\u001b[0;34m\u001b[0m\u001b[0;34m\u001b[0m\u001b[0m\n\u001b[1;32m      7\u001b[0m     elements, confs, forces, energies = carve_confs(\n\u001b[0;32m----> 8\u001b[0;31m         traj, r_cut, n_data)\n\u001b[0m\u001b[1;32m      9\u001b[0m \u001b[0;32melif\u001b[0m \u001b[0mfilename\u001b[0m\u001b[0;34m[\u001b[0m\u001b[0;34m-\u001b[0m\u001b[0;36m3\u001b[0m\u001b[0;34m:\u001b[0m\u001b[0;34m]\u001b[0m \u001b[0;34m==\u001b[0m \u001b[0;34m\"xyz\"\u001b[0m\u001b[0;34m:\u001b[0m\u001b[0;34m\u001b[0m\u001b[0;34m\u001b[0m\u001b[0m\n\u001b[1;32m     10\u001b[0m     elements, confs, forces, energies = carve_confs(\n",
      "\u001b[0;32m/opt/conda/lib/python3.6/site-packages/mff-0.9.0-py3.6-linux-x86_64.egg/mff/configurations.py\u001b[0m in \u001b[0;36mcarve_confs\u001b[0;34m(atoms, r_cut, n_data, forces_label, energy_label, boundaries)\u001b[0m\n\u001b[1;32m    152\u001b[0m         \u001b[0;32mif\u001b[0m \u001b[0mlen\u001b[0m\u001b[0;34m(\u001b[0m\u001b[0mthis_ind\u001b[0m\u001b[0;34m)\u001b[0m \u001b[0;34m>\u001b[0m \u001b[0;36m0\u001b[0m\u001b[0;34m:\u001b[0m\u001b[0;34m\u001b[0m\u001b[0;34m\u001b[0m\u001b[0m\n\u001b[1;32m    153\u001b[0m             \u001b[0mthis_conf\u001b[0m\u001b[0;34m,\u001b[0m \u001b[0mthis_force\u001b[0m\u001b[0;34m,\u001b[0m \u001b[0mthis_energy\u001b[0m \u001b[0;34m=\u001b[0m\u001b[0;31m \u001b[0m\u001b[0;31m\\\u001b[0m\u001b[0;34m\u001b[0m\u001b[0;34m\u001b[0m\u001b[0m\n\u001b[0;32m--> 154\u001b[0;31m                 \u001b[0mcarve_from_snapshot\u001b[0m\u001b[0;34m(\u001b[0m\u001b[0matoms\u001b[0m\u001b[0;34m[\u001b[0m\u001b[0mj\u001b[0m\u001b[0;34m]\u001b[0m\u001b[0;34m,\u001b[0m \u001b[0mthis_ind\u001b[0m\u001b[0;34m,\u001b[0m \u001b[0mr_cut\u001b[0m\u001b[0;34m,\u001b[0m \u001b[0mforces_label\u001b[0m\u001b[0;34m,\u001b[0m \u001b[0menergy_label\u001b[0m\u001b[0;34m)\u001b[0m\u001b[0;34m\u001b[0m\u001b[0;34m\u001b[0m\u001b[0m\n\u001b[0m\u001b[1;32m    155\u001b[0m             \u001b[0mconfs\u001b[0m\u001b[0;34m.\u001b[0m\u001b[0mappend\u001b[0m\u001b[0;34m(\u001b[0m\u001b[0mthis_conf\u001b[0m\u001b[0;34m)\u001b[0m\u001b[0;34m\u001b[0m\u001b[0;34m\u001b[0m\u001b[0m\n\u001b[1;32m    156\u001b[0m             \u001b[0mforces\u001b[0m\u001b[0;34m.\u001b[0m\u001b[0mappend\u001b[0m\u001b[0;34m(\u001b[0m\u001b[0mthis_force\u001b[0m\u001b[0;34m)\u001b[0m\u001b[0;34m\u001b[0m\u001b[0;34m\u001b[0m\u001b[0m\n",
      "\u001b[0;32m/opt/conda/lib/python3.6/site-packages/mff-0.9.0-py3.6-linux-x86_64.egg/mff/configurations.py\u001b[0m in \u001b[0;36mcarve_from_snapshot\u001b[0;34m(atoms, atoms_ind, r_cut, forces_label, energy_label)\u001b[0m\n\u001b[1;32m     42\u001b[0m         \u001b[0mforces\u001b[0m \u001b[0;34m=\u001b[0m \u001b[0matoms\u001b[0m\u001b[0;34m.\u001b[0m\u001b[0marrays\u001b[0m\u001b[0;34m.\u001b[0m\u001b[0mget\u001b[0m\u001b[0;34m(\u001b[0m\u001b[0mforces_label\u001b[0m\u001b[0;34m)\u001b[0m\u001b[0;34m\u001b[0m\u001b[0;34m\u001b[0m\u001b[0m\n\u001b[1;32m     43\u001b[0m     \u001b[0;32melse\u001b[0m\u001b[0;34m:\u001b[0m\u001b[0;34m\u001b[0m\u001b[0;34m\u001b[0m\u001b[0m\n\u001b[0;32m---> 44\u001b[0;31m         \u001b[0mforces\u001b[0m \u001b[0;34m=\u001b[0m \u001b[0matoms\u001b[0m\u001b[0;34m.\u001b[0m\u001b[0mget_forces\u001b[0m\u001b[0;34m(\u001b[0m\u001b[0;34m)\u001b[0m\u001b[0;34m\u001b[0m\u001b[0;34m\u001b[0m\u001b[0m\n\u001b[0m\u001b[1;32m     45\u001b[0m \u001b[0;34m\u001b[0m\u001b[0m\n\u001b[1;32m     46\u001b[0m     \u001b[0;32mif\u001b[0m \u001b[0menergy_label\u001b[0m \u001b[0;32mand\u001b[0m \u001b[0menergy_label\u001b[0m \u001b[0;34m!=\u001b[0m \u001b[0;34m'energy'\u001b[0m\u001b[0;34m:\u001b[0m\u001b[0;34m\u001b[0m\u001b[0;34m\u001b[0m\u001b[0m\n",
      "\u001b[0;32m/opt/conda/lib/python3.6/site-packages/ase/atoms.py\u001b[0m in \u001b[0;36mget_forces\u001b[0;34m(self, apply_constraint, md)\u001b[0m\n\u001b[1;32m    711\u001b[0m \u001b[0;34m\u001b[0m\u001b[0m\n\u001b[1;32m    712\u001b[0m         \u001b[0;32mif\u001b[0m \u001b[0mself\u001b[0m\u001b[0;34m.\u001b[0m\u001b[0m_calc\u001b[0m \u001b[0;32mis\u001b[0m \u001b[0;32mNone\u001b[0m\u001b[0;34m:\u001b[0m\u001b[0;34m\u001b[0m\u001b[0;34m\u001b[0m\u001b[0m\n\u001b[0;32m--> 713\u001b[0;31m             \u001b[0;32mraise\u001b[0m \u001b[0mRuntimeError\u001b[0m\u001b[0;34m(\u001b[0m\u001b[0;34m'Atoms object has no calculator.'\u001b[0m\u001b[0;34m)\u001b[0m\u001b[0;34m\u001b[0m\u001b[0;34m\u001b[0m\u001b[0m\n\u001b[0m\u001b[1;32m    714\u001b[0m         \u001b[0mforces\u001b[0m \u001b[0;34m=\u001b[0m \u001b[0mself\u001b[0m\u001b[0;34m.\u001b[0m\u001b[0m_calc\u001b[0m\u001b[0;34m.\u001b[0m\u001b[0mget_forces\u001b[0m\u001b[0;34m(\u001b[0m\u001b[0mself\u001b[0m\u001b[0;34m)\u001b[0m\u001b[0;34m\u001b[0m\u001b[0;34m\u001b[0m\u001b[0m\n\u001b[1;32m    715\u001b[0m \u001b[0;34m\u001b[0m\u001b[0m\n",
      "\u001b[0;31mRuntimeError\u001b[0m: Atoms object has no calculator."
     ]
    }
   ],
   "source": [
    "# Extract configurations, forces, energies and elements from traj. Energies  may not be present\n",
    "r_cut = 15.0  # Angstrom\n",
    "n_data = 1000000  # Number of configurations to extract to form the total database\n",
    "\n",
    "# if filename[-3:] == \"out\":\n",
    "if True:\n",
    "    elements, confs, forces, energies = carve_confs(\n",
    "        traj, r_cut, n_data)\n",
    "elif filename[-3:] == \"xyz\":\n",
    "    elements, confs, forces, energies = carve_confs(\n",
    "        traj, r_cut, n_data,\n",
    "        forces_label='force', energy_label='energy')\n",
    "\n",
    "# Count the atoms in each configuration\n",
    "numatoms = [len(conf) for conf in confs]\n",
    "\n",
    "print('\\n'.join((\n",
    "    'Number of atoms in a configuration:',\n",
    "    '   maximum: {}'.format(np.max(numatoms)),\n",
    "    '   minimum: {}'.format(np.min(numatoms)),\n",
    "    '   average: {:.4}'.format(np.mean(numatoms))\n",
    ")))\n",
    "print(len(confs), len(forces), len(energies))"
   ]
  },
  {
   "cell_type": "markdown",
   "metadata": {
    "ExecuteTime": {
     "end_time": "2019-01-29T10:38:48.864694Z",
     "start_time": "2019-01-29T10:38:48.861472Z"
    }
   },
   "source": [
    "### Check the histogram of distances to choose cutoff"
   ]
  },
  {
   "cell_type": "code",
   "execution_count": null,
   "metadata": {
    "ExecuteTime": {
     "end_time": "2019-05-07T16:06:32.917742Z",
     "start_time": "2019-05-07T16:06:32.502290Z"
    }
   },
   "outputs": [],
   "source": [
    "distances = []\n",
    "M_mean = 0.\n",
    "M_std = 0.\n",
    "for c in confs:\n",
    "    distances += np.linalg.norm(c[:, 0:3], axis=1).tolist()\n",
    "    M_mean += c.shape[0]\n",
    "    M_std += c.shape[0] ** 2\n",
    "\n",
    "M_mean = M_mean / len(confs)\n",
    "M_std = M_std / len(confs) - M_mean ** 2\n",
    "print('Average number of atoms in each configuration is is {} += {}'.format(M_mean, M_std))\n",
    "plt.figure()\n",
    "plt.hist(distances, 200)\n",
    "plt.xticks(np.arange(2.00, 15.0, step=1.0))\n",
    "plt.show()"
   ]
  },
  {
   "cell_type": "code",
   "execution_count": null,
   "metadata": {},
   "outputs": [],
   "source": [
    "write(directory + \"movie.xyz\", traj, format = 'extxyz')"
   ]
  },
  {
   "cell_type": "markdown",
   "metadata": {
    "ExecuteTime": {
     "end_time": "2019-01-29T10:38:48.864694Z",
     "start_time": "2019-01-29T10:38:48.861472Z"
    }
   },
   "source": [
    "### Save the configurations, forces, energies"
   ]
  },
  {
   "cell_type": "code",
   "execution_count": null,
   "metadata": {
    "ExecuteTime": {
     "end_time": "2019-05-07T16:06:35.232189Z",
     "start_time": "2019-05-07T16:06:34.885066Z"
    }
   },
   "outputs": [],
   "source": [
    "np.save('{}/confs_cut={:.2f}.npy'.format(directory, r_cut), confs)\n",
    "np.save('{}/forces_cut={:.2f}.npy'.format(directory, r_cut), forces)\n",
    "np.save('{}/energies_cut={:.2f}.npy'.format(directory, r_cut), energies)"
   ]
  },
  {
   "cell_type": "markdown",
   "metadata": {
    "ExecuteTime": {
     "end_time": "2019-01-29T10:38:48.864694Z",
     "start_time": "2019-01-29T10:38:48.861472Z"
    }
   },
   "source": [
    "# Gaussian Process with the MFF package"
   ]
  },
  {
   "cell_type": "code",
   "execution_count": 17,
   "metadata": {
    "ExecuteTime": {
     "end_time": "2019-05-07T16:06:36.646881Z",
     "start_time": "2019-05-07T16:06:36.479648Z"
    }
   },
   "outputs": [],
   "source": [
    "# GP Parameters\n",
    "sigma_2b = 0.5  # Angstrom - typical value 0.2-0.6\n",
    "sigma_3b = 0.8  # Angstrom - typical value 0.4-1.0\n",
    "sigma_mb = 0.5  # Angstrom - This is used only to initialize the Sampling\n",
    "noise = 0.01  # Number   - Typical values 0.01 - 0.0001\n",
    "theta = r_cut/5.0 # Cutoff decay lengthscale in Angstrom - Typical value r_cut/5 - r_cut/10\n",
    "\n",
    "ntr = 50       # Usually 2body kernel converges around 200, 3body and combined round 500-1000\n",
    "ntest = 100\n",
    "\n",
    "# Get training configurations and forces from file\n",
    "confs = np.load(str(directory + 'confs_cut={:.2f}.npy'.format(r_cut)), allow_pickle=True)\n",
    "forces = np.load(str(directory + 'forces_cut={:.2f}.npy'.format(r_cut)), allow_pickle=True)\n",
    "energies = np.load(str(directory + 'energies_cut={:.2f}.npy'.format(r_cut)), allow_pickle=True)\n",
    "\n",
    "numatoms = len(traj[0])\n",
    "energies = np.repeat(energies, numatoms)   # To get an energy per each configuration instead of one per snapshot\n",
    "elements = list(np.sort(list(set(confs[0][:,3:].flatten().tolist()))))"
   ]
  },
  {
   "cell_type": "markdown",
   "metadata": {},
   "source": [
    "## Training and test set sampling"
   ]
  },
  {
   "cell_type": "code",
   "execution_count": 18,
   "metadata": {
    "ExecuteTime": {
     "end_time": "2019-05-07T16:06:56.114545Z",
     "start_time": "2019-05-07T16:06:38.698877Z"
    }
   },
   "outputs": [],
   "source": [
    "s = Sampling(confs, energies, forces, sigma_2b, sigma_3b, sigma_mb, noise, r_cut, theta) # Initialize Sampling module\n",
    "s.train_test_split(confs=confs, energies= energies, forces = forces, ntest = ntest)      # Separate test set\n",
    "tst_confs, tst_forces = s.x, s.y_force                                                   # Name test set"
   ]
  },
  {
   "cell_type": "markdown",
   "metadata": {},
   "source": [
    "#### Random Sampling"
   ]
  },
  {
   "cell_type": "code",
   "execution_count": 19,
   "metadata": {
    "ExecuteTime": {
     "end_time": "2019-05-07T16:06:56.129111Z",
     "start_time": "2019-05-07T16:06:56.116716Z"
    }
   },
   "outputs": [],
   "source": [
    "random_index = s.random(ntrain = ntr, return_error = False) # sample at random for training set"
   ]
  },
  {
   "cell_type": "markdown",
   "metadata": {},
   "source": [
    "#### Descriptor Space Sampling"
   ]
  },
  {
   "cell_type": "code",
   "execution_count": 22,
   "metadata": {
    "ExecuteTime": {
     "end_time": "2019-05-07T16:10:33.430149Z",
     "start_time": "2019-05-07T16:10:28.222961Z"
    }
   },
   "outputs": [
    {
     "name": "stdout",
     "output_type": "stream",
     "text": [
      "Number of training points selected:  75\n"
     ]
    }
   ],
   "source": [
    "grid_2b_index = s.grid('2b', nbins = 200, return_error = False) # sample using a distance-based histogram for training set\n",
    "print(\"Number of training points selected: \",  len(grid_2b_index))"
   ]
  },
  {
   "cell_type": "code",
   "execution_count": 21,
   "metadata": {
    "ExecuteTime": {
     "end_time": "2019-05-07T16:10:44.552954Z",
     "start_time": "2019-05-07T16:10:44.548682Z"
    }
   },
   "outputs": [],
   "source": [
    "# grid_3b_index = s.grid('3b', nbins = 20, return_error = False) # sample using a triplet-distance-based histogram for training set\n",
    "# print(\"Number of training points selected: \",  len(grid_3b_index))"
   ]
  },
  {
   "cell_type": "markdown",
   "metadata": {
    "ExecuteTime": {
     "end_time": "2019-01-29T10:38:48.864694Z",
     "start_time": "2019-01-29T10:38:48.861472Z"
    }
   },
   "source": [
    "### Choose the kernel, initialize, and train the GP"
   ]
  },
  {
   "cell_type": "code",
   "execution_count": 23,
   "metadata": {
    "ExecuteTime": {
     "end_time": "2019-05-07T16:10:55.715200Z",
     "start_time": "2019-05-07T16:10:52.045656Z"
    }
   },
   "outputs": [],
   "source": [
    "m = models.TwoBodySingleSpeciesModel(element=elements, noise=noise, sigma=sigma_2b, theta=theta, r_cut=r_cut)\n",
    "# m = models.ThreeBodySingleSpeciesModel(element=elements, noise=noise, sigma=sigma_3b, theta=r_cut/8.0, r_cut=r_cut)\n",
    "# m = models.CombinedSingleSpeciesModel(elements=elements, noise=noise, sigma_2b=sigma_2b, sigma_3b=sigma_2b, theta_3b=r_cut/8.0, r_cut=r_cut, theta_2b=r_cut/8.0)\n",
    "# m = models.ManyBodySingleSpeciesModel(element=elements, noise=noise, sigma=sigma_2b, theta=r_cut/8.0, r_cut=r_cut)"
   ]
  },
  {
   "cell_type": "code",
   "execution_count": 24,
   "metadata": {
    "ExecuteTime": {
     "end_time": "2019-05-07T16:10:55.726376Z",
     "start_time": "2019-05-07T16:10:55.721831Z"
    }
   },
   "outputs": [],
   "source": [
    "tr_confs, tr_forces = confs[grid_2b_index], forces[grid_2b_index]  # Decide what to use as a training set"
   ]
  },
  {
   "cell_type": "code",
   "execution_count": 25,
   "metadata": {
    "ExecuteTime": {
     "end_time": "2019-05-07T16:11:30.343664Z",
     "start_time": "2019-05-07T16:10:55.730053Z"
    }
   },
   "outputs": [],
   "source": [
    "m.fit(tr_confs, tr_forces)  # Fit the Gaussian Process"
   ]
  },
  {
   "cell_type": "markdown",
   "metadata": {},
   "source": [
    "### Test the GP predicting forces on atoms"
   ]
  },
  {
   "cell_type": "code",
   "execution_count": 26,
   "metadata": {
    "ExecuteTime": {
     "end_time": "2019-05-07T16:11:42.155803Z",
     "start_time": "2019-05-07T16:11:30.346423Z"
    }
   },
   "outputs": [
    {
     "name": "stdout",
     "output_type": "stream",
     "text": [
      "Testing GP\n",
      "RMSE: 0.1315\n",
      "MAEC: 0.09732\n",
      "MAEF : 0.1965 +- 0.1150\n",
      "Relative MAEF on forces: 0.3060 +- 0.1791\n"
     ]
    }
   ],
   "source": [
    "# Test the GP performance\n",
    "print('Testing GP')\n",
    "\n",
    "gp_forces= m.predict(tst_confs)   # Predict forces on test configurations\n",
    "gp_error = gp_forces - tst_forces  # Calculate error\n",
    "\n",
    "MAEC = np.mean(abs(gp_error))     # Mean average error on force components\n",
    "MAEF = np.mean(np.sqrt(np.sum(np.square(gp_error), axis=1)))  # Mean average error on force vector\n",
    "SMAEF = np.std(np.sqrt(np.sum(np.square(gp_error), axis=1)))  # Standard deviation of the average error on force vector\n",
    "MF = np.mean(np.linalg.norm(tst_forces, axis=1))  # Meean force value\n",
    "RMSE = np.sqrt(np.mean((gp_error) ** 2))  #  Root mean square error on force\n",
    "\n",
    "print('RMSE: {:.4}'.format(RMSE))\n",
    "print('MAEC: {:.4}'.format(MAEC))\n",
    "\n",
    "print('MAEF : {:.4f} +- {:.4f}'.format(MAEF, SMAEF))\n",
    "print('Relative MAEF on forces: {:.4f} +- {:.4f}'.format(MAEF / MF, SMAEF / MF))"
   ]
  },
  {
   "cell_type": "code",
   "execution_count": 27,
   "metadata": {
    "ExecuteTime": {
     "end_time": "2019-05-07T16:11:42.738082Z",
     "start_time": "2019-05-07T16:11:42.158966Z"
    }
   },
   "outputs": [
    {
     "data": {
      "image/png": "[encoded data removed]",
      "text/plain": [
       "<Figure size 432x288 with 1 Axes>"
      ]
     },
     "metadata": {},
     "output_type": "display_data"
    }
   ],
   "source": [
    "plt.figure()\n",
    "plt.scatter(tst_forces, gp_forces)\n",
    "plt.plot(tst_forces, tst_forces, 'k')\n",
    "plt.xlabel('True Force [eV/$\\AA$]')\n",
    "plt.ylabel('Predicted Force [eV/$\\AA$]')\n",
    "plt.show()"
   ]
  },
  {
   "cell_type": "markdown",
   "metadata": {},
   "source": [
    "#### Plot the 2-body potential to visualize what is the resulting force field"
   ]
  },
  {
   "cell_type": "code",
   "execution_count": 28,
   "metadata": {
    "ExecuteTime": {
     "end_time": "2019-05-07T16:12:01.725467Z",
     "start_time": "2019-05-07T16:11:42.745252Z"
    }
   },
   "outputs": [],
   "source": [
    "# Generate the potential\n",
    "n_grid = 100\n",
    "starting_distance = 1.5\n",
    "\n",
    "potential_points = np.linspace(starting_distance, r_cut, n_grid)\n",
    "\n",
    "gp_potential = np.zeros(n_grid)\n",
    "gp_force = np.zeros((n_grid, 3))\n",
    "gp_pot_uncertainty = np.zeros(n_grid)\n",
    "for i in np.arange(n_grid):\n",
    "    conf = np.asarray([[0.0, 0.0, 0.0, elements[0], elements[0]],[potential_points[i], 0.0, 0.0, elements[0], elements[0]]])\n",
    "    gp_potential[i], gp_pot_uncertainty[i] = m.predict_energy(np.reshape(conf[1], (1, 1, 5)), return_std=True)\n",
    "    gp_force[i] = m.predict(np.reshape(conf[1], (1, 1, 5)))"
   ]
  },
  {
   "cell_type": "code",
   "execution_count": 30,
   "metadata": {},
   "outputs": [
    {
     "data": {
      "image/png": "[encoded data removed]",
      "text/plain": [
       "<Figure size 432x288 with 1 Axes>"
      ]
     },
     "metadata": {},
     "output_type": "display_data"
    }
   ],
   "source": [
    "# Plot the potential\n",
    "fs = 12\n",
    "plt.figure()\n",
    "plt.plot(potential_points, gp_potential, label = 'Potential')\n",
    "plt.fill_between(potential_points, gp_potential - gp_pot_uncertainty, gp_potential + gp_pot_uncertainty,\n",
    "                 alpha=0.5, label = \"Potential's uncertainty\")\n",
    "plt.xlabel(\"Interatomic Distance [$\\AA$]\", fontsize = fs)\n",
    "plt.ylabel(\"Potential Energy [eV]\", fontsize = fs)\n",
    "plt.xticks(fontsize = fs)\n",
    "plt.yticks(fontsize = fs)\n",
    "plt.legend()\n",
    "plt.show()"
   ]
  },
  {
   "cell_type": "markdown",
   "metadata": {
    "ExecuteTime": {
     "end_time": "2019-01-29T11:00:13.563417Z",
     "start_time": "2019-01-29T11:00:13.559034Z"
    }
   },
   "source": [
    "### Learning Curve"
   ]
  },
  {
   "cell_type": "code",
   "execution_count": null,
   "metadata": {
    "ExecuteTime": {
     "end_time": "2019-05-07T16:13:21.563930Z",
     "start_time": "2019-05-07T16:12:01.730583Z"
    }
   },
   "outputs": [],
   "source": [
    "ntrs = [20, 40, 80, 160, 320]\n",
    "ntest = 50\n",
    "print('N train: {}, N test: {}'.format(ntrs, ntest))\n",
    "errors, stds = [], []\n",
    "\n",
    "for ntr in ntrs:\n",
    "    \n",
    "    # Set training and testing configurations\n",
    "    random_index = s.random(ntrain = ntr, return_error = False)\n",
    "    tr_confs, tr_forces = confs[random_index], forces[random_index]\n",
    "    print('Training GP')\n",
    "\n",
    "    m.fit(tr_confs, tr_forces)\n",
    "\n",
    "    # Test the GP performance\n",
    "    print('Testing GP')\n",
    "\n",
    "    gp_forces = m.predict(tst_confs)\n",
    "    gp_error = gp_forces - tst_forces\n",
    "\n",
    "    MAEC = np.mean(abs(gp_error))\n",
    "    MAEF = np.mean(np.sqrt(np.sum(np.square(gp_error), axis=1)))\n",
    "    SMAEF = np.std(np.sqrt(np.sum(np.square(gp_error), axis=1)))\n",
    "    RMSE = np.sqrt(np.mean((gp_error) ** 2))\n",
    "\n",
    "    MF = np.mean(np.linalg.norm(tst_forces, axis=1))\n",
    "\n",
    "    print('RMSE: {:.4}'.format(RMSE))\n",
    "    print('MAEC: {:.4}'.format(MAEC))\n",
    "    print('MAEF: {:.4f} +- {:.4f}'.format(MAEF, SMAEF))\n",
    "    print('Relative MAEF on forces: {:.4f} +- {:.4f}'.format(MAEF / MF, SMAEF / MF))\n",
    "\n",
    "    errors.append(MAEF)\n",
    "    stds.append(SMAEF)\n",
    "\n",
    "plt.figure()\n",
    "plt.errorbar(ntrs, errors, yerr=stds, elinewidth=1.0, capsize=5)\n",
    "plt.xlabel(\"Training Points\")\n",
    "plt.ylabel(\"Mean Absolute Error on Force [eV\\ $\\AA$]\")\n",
    "plt.show()"
   ]
  },
  {
   "cell_type": "markdown",
   "metadata": {
    "ExecuteTime": {
     "end_time": "2019-01-29T12:04:23.290405Z",
     "start_time": "2019-01-29T12:04:23.285712Z"
    }
   },
   "source": [
    "# Mapping"
   ]
  },
  {
   "cell_type": "code",
   "execution_count": 31,
   "metadata": {
    "ExecuteTime": {
     "end_time": "2019-05-07T16:13:53.829481Z",
     "start_time": "2019-05-07T16:13:49.224249Z"
    }
   },
   "outputs": [],
   "source": [
    "mapping_ngrid_2b = 100 # Number of points used to build the spline\n",
    "grid_start = 1.5 # angstrom\n",
    "m.build_grid(grid_start, mapping_ngrid_2b)  # Map the Gaussian process to build a MFF"
   ]
  },
  {
   "cell_type": "markdown",
   "metadata": {},
   "source": [
    "### Setup Calculator Module"
   ]
  },
  {
   "cell_type": "code",
   "execution_count": 32,
   "metadata": {
    "ExecuteTime": {
     "end_time": "2019-05-07T16:14:00.500868Z",
     "start_time": "2019-05-07T16:14:00.495775Z"
    }
   },
   "outputs": [],
   "source": [
    "mff_calc = calculators.TwoBodySingleSpecies(r_cut, m.grid)  # Initialize calculator module"
   ]
  },
  {
   "cell_type": "markdown",
   "metadata": {},
   "source": [
    "### Setup ASE Simulation"
   ]
  },
  {
   "cell_type": "code",
   "execution_count": 33,
   "metadata": {
    "ExecuteTime": {
     "end_time": "2019-05-07T16:16:48.161296Z",
     "start_time": "2019-05-07T16:16:48.157094Z"
    }
   },
   "outputs": [],
   "source": [
    "# Additional ASE imports\n",
    "from ase.md.velocitydistribution import MaxwellBoltzmannDistribution\n",
    "from ase.md.velocitydistribution import Stationary\n",
    "from ase.md.velocitydistribution import ZeroRotation\n",
    "from ase.md.verlet import VelocityVerlet\n",
    "from ase.md.langevin import Langevin\n",
    "from ase import units\n",
    "from ase.io import extxyz\n",
    "\n",
    "# Global Variables Definition\n",
    "gamma = 0.001 #  For Langevin Dynamics\n",
    "temp = 900 # K\n",
    "dt = 1.0  # fs\n",
    "steps = 10000\n",
    "t = steps * dt * 10 ** (-3)  # time in ps\n",
    "cell_length = 10.0 # Angstrom"
   ]
  },
  {
   "cell_type": "code",
   "execution_count": 34,
   "metadata": {
    "ExecuteTime": {
     "end_time": "2019-05-07T16:16:48.988252Z",
     "start_time": "2019-05-07T16:16:48.488702Z"
    }
   },
   "outputs": [],
   "source": [
    "atoms = read(filename, index=0, format='extxyz')  # Read the input file and setup the initial geometry form the xyz file\n",
    "atoms.set_positions(atoms.get_positions() - 0.5*np.array([cell_length, cell_length, cell_length]))  # Center atoms in the cell\n",
    "atoms.set_cell([[cell_length, 0.0, 0.0], [0, cell_length, 0], [0, 0, cell_length]]) # Set the simulation cell if not present"
   ]
  },
  {
   "cell_type": "code",
   "execution_count": 35,
   "metadata": {
    "ExecuteTime": {
     "end_time": "2019-05-07T16:16:48.996014Z",
     "start_time": "2019-05-07T16:16:48.990131Z"
    }
   },
   "outputs": [],
   "source": [
    "atoms.set_calculator(mff_calc) # Tell ASE how to get the forces ( AKA choose the potential)"
   ]
  },
  {
   "cell_type": "code",
   "execution_count": 36,
   "metadata": {
    "ExecuteTime": {
     "end_time": "2019-05-07T16:16:49.170010Z",
     "start_time": "2019-05-07T16:16:49.152894Z"
    }
   },
   "outputs": [],
   "source": [
    "# Setup the momenta and velocities\n",
    "\n",
    "dyn = VelocityVerlet(atoms, dt * units.fs)  # The dynamics will be a Verlet one\n",
    "MaxwellBoltzmannDistribution(atoms, 2.0 * temp * units.kB)  # Initialize velocities according to MB distribution at double T because of equipartition theorem\n",
    "ZeroRotation(atoms)  # Stop global rotation\n",
    "Stationary(atoms)  # Stop global movement"
   ]
  },
  {
   "cell_type": "code",
   "execution_count": 37,
   "metadata": {
    "ExecuteTime": {
     "end_time": "2019-05-07T16:16:49.644888Z",
     "start_time": "2019-05-07T16:16:49.622058Z"
    }
   },
   "outputs": [],
   "source": [
    "def printenergy(a=atoms):\n",
    "    \"\"\"Function to print the potential, kinetic and total energy\"\"\"\n",
    "    epot = a.get_potential_energy() / len(a)\n",
    "    ekin = a.get_kinetic_energy() / len(a)\n",
    "    print('Energy per atom: Epot = %.3feV  Ekin = %.3feV (T=%3.0fK)  '\n",
    "          'Etot = %.3feV' % (epot, ekin, ekin / (1.5 * units.kB), epot + ekin))\n",
    "    \n",
    "def savexyz(a=atoms):\n",
    "    this_traj = open(traj_filename, \"a\")\n",
    "    extxyz.write_extxyz(this_traj, [atoms])"
   ]
  },
  {
   "cell_type": "markdown",
   "metadata": {},
   "source": [
    "### Run Simulation"
   ]
  },
  {
   "cell_type": "code",
   "execution_count": 38,
   "metadata": {
    "ExecuteTime": {
     "end_time": "2019-05-07T16:17:10.962540Z",
     "start_time": "2019-05-07T16:16:50.301948Z"
    }
   },
   "outputs": [
    {
     "name": "stdout",
     "output_type": "stream",
     "text": [
      "Energy per atom: Epot = -0.609eV  Ekin = 0.076eV (T=586K)  Etot = -0.534eV\n",
      "Energy per atom: Epot = -0.654eV  Ekin = 0.120eV (T=932K)  Etot = -0.534eV\n",
      "Energy per atom: Epot = -0.633eV  Ekin = 0.099eV (T=768K)  Etot = -0.534eV\n",
      "Energy per atom: Epot = -0.611eV  Ekin = 0.078eV (T=601K)  Etot = -0.534eV\n",
      "Energy per atom: Epot = -0.632eV  Ekin = 0.099eV (T=762K)  Etot = -0.534eV\n",
      "Energy per atom: Epot = -0.639eV  Ekin = 0.106eV (T=820K)  Etot = -0.534eV\n",
      "Energy per atom: Epot = -0.620eV  Ekin = 0.087eV (T=670K)  Etot = -0.534eV\n",
      "Energy per atom: Epot = -0.608eV  Ekin = 0.075eV (T=576K)  Etot = -0.534eV\n",
      "Energy per atom: Epot = -0.615eV  Ekin = 0.082eV (T=634K)  Etot = -0.534eV\n",
      "Energy per atom: Epot = -0.622eV  Ekin = 0.089eV (T=685K)  Etot = -0.534eV\n",
      "Energy per atom: Epot = -0.630eV  Ekin = 0.097eV (T=750K)  Etot = -0.534eV\n",
      "Energy per atom: Epot = -0.654eV  Ekin = 0.120eV (T=930K)  Etot = -0.534eV\n",
      "Energy per atom: Epot = -0.646eV  Ekin = 0.112eV (T=868K)  Etot = -0.534eV\n",
      "Energy per atom: Epot = -0.634eV  Ekin = 0.100eV (T=776K)  Etot = -0.534eV\n",
      "Energy per atom: Epot = -0.638eV  Ekin = 0.104eV (T=805K)  Etot = -0.534eV\n",
      "Energy per atom: Epot = -0.622eV  Ekin = 0.089eV (T=686K)  Etot = -0.534eV\n",
      "Energy per atom: Epot = -0.630eV  Ekin = 0.096eV (T=744K)  Etot = -0.534eV\n",
      "Energy per atom: Epot = -0.629eV  Ekin = 0.095eV (T=738K)  Etot = -0.534eV\n",
      "Energy per atom: Epot = -0.646eV  Ekin = 0.113eV (T=872K)  Etot = -0.534eV\n",
      "Energy per atom: Epot = -0.646eV  Ekin = 0.112eV (T=870K)  Etot = -0.534eV\n",
      "Energy per atom: Epot = -0.624eV  Ekin = 0.090eV (T=698K)  Etot = -0.534eV\n",
      "Energy per atom: Epot = -0.618eV  Ekin = 0.085eV (T=656K)  Etot = -0.534eV\n",
      "Energy per atom: Epot = -0.634eV  Ekin = 0.100eV (T=775K)  Etot = -0.534eV\n",
      "Energy per atom: Epot = -0.652eV  Ekin = 0.119eV (T=918K)  Etot = -0.534eV\n",
      "Energy per atom: Epot = -0.608eV  Ekin = 0.075eV (T=578K)  Etot = -0.534eV\n",
      "Energy per atom: Epot = -0.627eV  Ekin = 0.094eV (T=724K)  Etot = -0.534eV\n",
      "Energy per atom: Epot = -0.605eV  Ekin = 0.071eV (T=553K)  Etot = -0.534eV\n",
      "Energy per atom: Epot = -0.630eV  Ekin = 0.097eV (T=747K)  Etot = -0.534eV\n",
      "Energy per atom: Epot = -0.627eV  Ekin = 0.093eV (T=723K)  Etot = -0.534eV\n",
      "Energy per atom: Epot = -0.613eV  Ekin = 0.080eV (T=616K)  Etot = -0.534eV\n",
      "Energy per atom: Epot = -0.631eV  Ekin = 0.097eV (T=752K)  Etot = -0.534eV\n",
      "Energy per atom: Epot = -0.621eV  Ekin = 0.088eV (T=677K)  Etot = -0.534eV\n",
      "Energy per atom: Epot = -0.638eV  Ekin = 0.105eV (T=810K)  Etot = -0.534eV\n",
      "Energy per atom: Epot = -0.625eV  Ekin = 0.092eV (T=711K)  Etot = -0.534eV\n",
      "Energy per atom: Epot = -0.626eV  Ekin = 0.092eV (T=713K)  Etot = -0.534eV\n",
      "Energy per atom: Epot = -0.635eV  Ekin = 0.101eV (T=784K)  Etot = -0.534eV\n",
      "Energy per atom: Epot = -0.615eV  Ekin = 0.082eV (T=633K)  Etot = -0.534eV\n",
      "Energy per atom: Epot = -0.648eV  Ekin = 0.115eV (T=889K)  Etot = -0.534eV\n",
      "Energy per atom: Epot = -0.618eV  Ekin = 0.085eV (T=655K)  Etot = -0.534eV\n",
      "Energy per atom: Epot = -0.624eV  Ekin = 0.091eV (T=702K)  Etot = -0.534eV\n",
      "Energy per atom: Epot = -0.622eV  Ekin = 0.088eV (T=681K)  Etot = -0.534eV\n",
      "Energy per atom: Epot = -0.613eV  Ekin = 0.079eV (T=612K)  Etot = -0.534eV\n",
      "Energy per atom: Epot = -0.617eV  Ekin = 0.084eV (T=647K)  Etot = -0.534eV\n",
      "Energy per atom: Epot = -0.618eV  Ekin = 0.084eV (T=653K)  Etot = -0.534eV\n",
      "Energy per atom: Epot = -0.634eV  Ekin = 0.101eV (T=781K)  Etot = -0.534eV\n",
      "Energy per atom: Epot = -0.616eV  Ekin = 0.083eV (T=640K)  Etot = -0.534eV\n",
      "Energy per atom: Epot = -0.614eV  Ekin = 0.081eV (T=624K)  Etot = -0.534eV\n",
      "Energy per atom: Epot = -0.642eV  Ekin = 0.108eV (T=838K)  Etot = -0.534eV\n",
      "Energy per atom: Epot = -0.608eV  Ekin = 0.074eV (T=576K)  Etot = -0.534eV\n",
      "Energy per atom: Epot = -0.622eV  Ekin = 0.088eV (T=684K)  Etot = -0.534eV\n",
      "Energy per atom: Epot = -0.627eV  Ekin = 0.094eV (T=725K)  Etot = -0.534eV\n",
      "Energy per atom: Epot = -0.637eV  Ekin = 0.103eV (T=798K)  Etot = -0.534eV\n",
      "Energy per atom: Epot = -0.629eV  Ekin = 0.096eV (T=740K)  Etot = -0.534eV\n",
      "Energy per atom: Epot = -0.623eV  Ekin = 0.089eV (T=689K)  Etot = -0.534eV\n",
      "Energy per atom: Epot = -0.624eV  Ekin = 0.090eV (T=700K)  Etot = -0.534eV\n",
      "Energy per atom: Epot = -0.621eV  Ekin = 0.088eV (T=677K)  Etot = -0.534eV\n",
      "Energy per atom: Epot = -0.613eV  Ekin = 0.080eV (T=616K)  Etot = -0.534eV\n",
      "Energy per atom: Epot = -0.625eV  Ekin = 0.092eV (T=709K)  Etot = -0.534eV\n",
      "Energy per atom: Epot = -0.647eV  Ekin = 0.114eV (T=879K)  Etot = -0.534eV\n",
      "Energy per atom: Epot = -0.641eV  Ekin = 0.107eV (T=828K)  Etot = -0.534eV\n",
      "Energy per atom: Epot = -0.618eV  Ekin = 0.084eV (T=651K)  Etot = -0.534eV\n",
      "Energy per atom: Epot = -0.632eV  Ekin = 0.098eV (T=759K)  Etot = -0.534eV\n",
      "Energy per atom: Epot = -0.618eV  Ekin = 0.085eV (T=656K)  Etot = -0.534eV\n",
      "Energy per atom: Epot = -0.627eV  Ekin = 0.093eV (T=723K)  Etot = -0.534eV\n",
      "Energy per atom: Epot = -0.635eV  Ekin = 0.102eV (T=788K)  Etot = -0.534eV\n",
      "Energy per atom: Epot = -0.610eV  Ekin = 0.076eV (T=589K)  Etot = -0.534eV\n",
      "Energy per atom: Epot = -0.629eV  Ekin = 0.095eV (T=735K)  Etot = -0.534eV\n",
      "Energy per atom: Epot = -0.625eV  Ekin = 0.092eV (T=709K)  Etot = -0.534eV\n",
      "Energy per atom: Epot = -0.633eV  Ekin = 0.100eV (T=773K)  Etot = -0.534eV\n",
      "Energy per atom: Epot = -0.616eV  Ekin = 0.083eV (T=639K)  Etot = -0.534eV\n",
      "Energy per atom: Epot = -0.619eV  Ekin = 0.085eV (T=659K)  Etot = -0.534eV\n",
      "Energy per atom: Epot = -0.612eV  Ekin = 0.078eV (T=606K)  Etot = -0.534eV\n",
      "Energy per atom: Epot = -0.617eV  Ekin = 0.083eV (T=645K)  Etot = -0.534eV\n",
      "Energy per atom: Epot = -0.609eV  Ekin = 0.075eV (T=581K)  Etot = -0.534eV\n",
      "Energy per atom: Epot = -0.612eV  Ekin = 0.079eV (T=610K)  Etot = -0.534eV\n",
      "Energy per atom: Epot = -0.623eV  Ekin = 0.089eV (T=690K)  Etot = -0.534eV\n",
      "Energy per atom: Epot = -0.628eV  Ekin = 0.094eV (T=731K)  Etot = -0.534eV\n",
      "Energy per atom: Epot = -0.620eV  Ekin = 0.087eV (T=671K)  Etot = -0.534eV\n",
      "Energy per atom: Epot = -0.608eV  Ekin = 0.075eV (T=578K)  Etot = -0.534eV\n",
      "Energy per atom: Epot = -0.591eV  Ekin = 0.058eV (T=448K)  Etot = -0.534eV\n",
      "Energy per atom: Epot = -0.611eV  Ekin = 0.077eV (T=599K)  Etot = -0.534eV\n",
      "Energy per atom: Epot = -0.606eV  Ekin = 0.072eV (T=560K)  Etot = -0.534eV\n",
      "Energy per atom: Epot = -0.610eV  Ekin = 0.076eV (T=588K)  Etot = -0.534eV\n",
      "Energy per atom: Epot = -0.606eV  Ekin = 0.073eV (T=561K)  Etot = -0.534eV\n",
      "Energy per atom: Epot = -0.606eV  Ekin = 0.072eV (T=560K)  Etot = -0.534eV\n",
      "Energy per atom: Epot = -0.611eV  Ekin = 0.077eV (T=596K)  Etot = -0.534eV\n",
      "Energy per atom: Epot = -0.623eV  Ekin = 0.089eV (T=689K)  Etot = -0.534eV\n",
      "Energy per atom: Epot = -0.588eV  Ekin = 0.055eV (T=424K)  Etot = -0.534eV\n",
      "Energy per atom: Epot = -0.604eV  Ekin = 0.070eV (T=542K)  Etot = -0.534eV\n",
      "Energy per atom: Epot = -0.574eV  Ekin = 0.041eV (T=316K)  Etot = -0.534eV\n",
      "Energy per atom: Epot = -0.609eV  Ekin = 0.075eV (T=580K)  Etot = -0.534eV\n",
      "Energy per atom: Epot = -0.604eV  Ekin = 0.070eV (T=542K)  Etot = -0.534eV\n",
      "Energy per atom: Epot = -0.612eV  Ekin = 0.078eV (T=604K)  Etot = -0.534eV\n",
      "Energy per atom: Epot = -0.624eV  Ekin = 0.091eV (T=703K)  Etot = -0.534eV\n",
      "Energy per atom: Epot = -0.619eV  Ekin = 0.086eV (T=664K)  Etot = -0.534eV\n",
      "Energy per atom: Epot = -0.627eV  Ekin = 0.093eV (T=721K)  Etot = -0.534eV\n",
      "Energy per atom: Epot = -0.607eV  Ekin = 0.073eV (T=565K)  Etot = -0.534eV\n",
      "Energy per atom: Epot = -0.638eV  Ekin = 0.105eV (T=810K)  Etot = -0.534eV\n",
      "Energy per atom: Epot = -0.612eV  Ekin = 0.079eV (T=610K)  Etot = -0.534eV\n",
      "Energy per atom: Epot = -0.622eV  Ekin = 0.089eV (T=688K)  Etot = -0.534eV\n"
     ]
    }
   ],
   "source": [
    "traj_filename = \"example.xyz\"  # Output name\n",
    "this_traj = open(traj_filename, \"w\")\n",
    "dyn.attach(savexyz, interval=100)  # Save coordinates every interval steps\n",
    "dyn.attach(printenergy, interval=100)  # Print informations every interval steps\n",
    "dyn.run(steps)  # Have fun"
   ]
  },
  {
   "cell_type": "code",
   "execution_count": null,
   "metadata": {},
   "outputs": [],
   "source": []
  }
 ],
 "metadata": {
  "kernelspec": {
   "display_name": "Python 3",
   "language": "python",
   "name": "python3"
  },
  "language_info": {
   "codemirror_mode": {
    "name": "ipython",
    "version": 3
   },
   "file_extension": ".py",
   "mimetype": "text/x-python",
   "name": "python",
   "nbconvert_exporter": "python",
   "pygments_lexer": "ipython3",
   "version": "3.6.8"
  }
 },
 "nbformat": 4,
 "nbformat_minor": 2
}
