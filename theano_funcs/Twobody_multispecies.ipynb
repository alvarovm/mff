{
 "cells": [
  {
   "cell_type": "markdown",
   "metadata": {
    "hideCode": false,
    "hidePrompt": false
   },
   "source": [
    "# Pairwise conservative kernel for multiple species"
   ]
  },
  {
   "cell_type": "code",
   "execution_count": 45,
   "metadata": {
    "hideCode": false,
    "hidePrompt": false
   },
   "outputs": [],
   "source": [
    "# import libraries\n",
    "import theano\n",
    "import theano.tensor as T\n",
    "import theano.typed_list as Tl\n",
    "from theano import function\n",
    "from theano.compile.io import In\n",
    "import numpy as np\n",
    "import datetime"
   ]
  },
  {
   "cell_type": "code",
   "execution_count": 68,
   "metadata": {},
   "outputs": [],
   "source": [
    "# remove the safety check to gain extra performance\n",
    "theano.config.optimizer = 'o4'"
   ]
  },
  {
   "cell_type": "markdown",
   "metadata": {
    "hideCode": false,
    "hidePrompt": false
   },
   "source": [
    "### Definitions"
   ]
  },
  {
   "cell_type": "markdown",
   "metadata": {
    "hideCode": false,
    "hidePrompt": false
   },
   "source": [
    "Define the position of the atoms relative to the centrla one, and their chemical species, by a matrix of dimension Mx5"
   ]
  },
  {
   "cell_type": "code",
   "execution_count": 3,
   "metadata": {
    "hideCode": false,
    "hidePrompt": false
   },
   "outputs": [],
   "source": [
    "# positions of central atoms\n",
    "r1, r2 = T.dvectors('r1d','r2d') \n",
    "# positions of neighbours \n",
    "rho1, rho2 = T.dmatrices('rho1','rho2') \n",
    "# lengthscale hyperparameter\n",
    "sig = T.dscalar('sig')\n",
    "# cutoff hyperparameters\n",
    "theta = T.dscalar('theta')\n",
    "rc = T.dscalar('rc')\n",
    "\n",
    "# positions of neighbours without chemical species (3D space assumed)\n",
    "rho1s = rho1[:, 0:3]\n",
    "rho2s = rho2[:, 0:3]\n",
    "alpha_1 = rho1[:, 3:4].flatten()\n",
    "alpha_2 = rho2[:, 3:4].flatten()\n",
    "alpha_j = rho1[:, 4:5].flatten()\n",
    "alpha_m = rho2[:, 4:5].flatten()\n"
   ]
  },
  {
   "cell_type": "markdown",
   "metadata": {
    "hideCode": false,
    "hidePrompt": false
   },
   "source": [
    "Calculate the relative distance to the central vector"
   ]
  },
  {
   "cell_type": "code",
   "execution_count": 4,
   "metadata": {
    "hideCode": false,
    "hidePrompt": false
   },
   "outputs": [],
   "source": [
    "# first configuration\n",
    "r1j = T.sqrt(T.sum((rho1s[:, :]-r1[None,:])**2, axis = 1))\n",
    "# second configuration\n",
    "r2m = T.sqrt(T.sum((rho2s[:, :]-r2[None,:])**2, axis = 1))\n"
   ]
  },
  {
   "cell_type": "markdown",
   "metadata": {
    "hideCode": false,
    "hidePrompt": false
   },
   "source": [
    "Calculate the mask given by the chemical species"
   ]
  },
  {
   "cell_type": "code",
   "execution_count": 5,
   "metadata": {
    "hideCode": false,
    "hidePrompt": false,
    "scrolled": true
   },
   "outputs": [
    {
     "data": {
      "text/plain": [
       "1.0"
      ]
     },
     "execution_count": 5,
     "metadata": {},
     "output_type": "execute_result"
    }
   ],
   "source": [
    "# numerical kronecker\n",
    "def delta_alpha2(a1j, a2m):\n",
    "    d = np.exp(-(a1j - a2m)**2/(2*(1e-5)**2))\n",
    "    return d\n",
    "\n",
    "delta_alpha2(100, 100)"
   ]
  },
  {
   "cell_type": "code",
   "execution_count": 6,
   "metadata": {
    "hideCode": false,
    "hidePrompt": false
   },
   "outputs": [],
   "source": [
    "delta_alphas12 = delta_alpha2(alpha_1[:, None] , alpha_2[None, :])\n",
    "delta_alphasjm = delta_alpha2(alpha_j[:, None] , alpha_m[None, :])\n",
    "delta_alphas1m = delta_alpha2(alpha_1[:, None] , alpha_m[None, :])\n",
    "delta_alphasj2 = delta_alpha2(alpha_j[:, None] , alpha_2[None, :])"
   ]
  },
  {
   "cell_type": "markdown",
   "metadata": {
    "hideCode": false,
    "hidePrompt": false
   },
   "source": [
    "### Cutoff function"
   ]
  },
  {
   "cell_type": "code",
   "execution_count": 7,
   "metadata": {
    "hideCode": false,
    "hidePrompt": false
   },
   "outputs": [],
   "source": [
    "k_ij = (T.exp(-(r1j[:, None] - r2m[None,:])**2/sig) * (delta_alphas12 * delta_alphasjm + delta_alphas1m * delta_alphasj2))\n",
    "k_ij = k_ij*(T.exp(-theta/(rc-r1j[:, None]))*T.exp(-theta/(rc-r2m[None,:])))/(T.exp(-theta/(rc-r1j[:, None]))*T.exp(-theta/(rc-r2m[None,:])))\n",
    "\n",
    "# kernel\n",
    "k = T.sum(k_ij)   \n",
    "\n",
    "# energy energy kernel\n",
    "k_ee_fun = function([r1, r2, rho1, rho2, sig, theta, rc], k, allow_input_downcast = True)\n",
    "\n",
    "# energy force kernel\n",
    "k_ef = T.grad(k, r2)\n",
    "k_ef_fun = function([r1, r2, rho1, rho2, sig, theta, rc], k_ef, allow_input_downcast = True)\n",
    "\n",
    "# force force kernel\n",
    "k_ff = T.grad(k, r1)\n",
    "k_ff_der, updates = theano.scan(lambda j, k_ff, r2 : T.grad(k_ff[j], r2), \n",
    "                                sequences = T.arange(k_ff.shape[0]), non_sequences = [k_ff, r2])\n",
    "\n",
    "k_ff_fun = function([r1, r2, rho1, rho2, sig, theta, rc], k_ff_der, allow_input_downcast = True)\n"
   ]
  },
  {
   "cell_type": "markdown",
   "metadata": {
    "hideCode": false,
    "hidePrompt": false
   },
   "source": [
    "## Construction of kernels over lists of configurations"
   ]
  },
  {
   "cell_type": "markdown",
   "metadata": {
    "hideCode": false,
    "hidePrompt": false
   },
   "source": [
    "#### A simple example of a double for loop in Theano"
   ]
  },
  {
   "cell_type": "code",
   "execution_count": 8,
   "metadata": {
    "hideCode": false,
    "hidePrompt": false,
    "scrolled": true
   },
   "outputs": [
    {
     "data": {
      "text/plain": [
       "array([[1., 3., 2.],\n",
       "       [2., 6., 4.]])"
      ]
     },
     "execution_count": 8,
     "metadata": {},
     "output_type": "execute_result"
    }
   ],
   "source": [
    "# simple for loop \n",
    "\n",
    "a = T.scalar('a')\n",
    "b = T.scalar('b')\n",
    "prod = a*b\n",
    "p_fun = function([a, b], prod)\n",
    "\n",
    "list1, list2 = Tl.TypedListType(T.dscalar)('list1'), Tl.TypedListType(T.dscalar)('list2')\n",
    "len1, len2 = Tl.length(list1), Tl.length(list2)\n",
    "range1, range2 = T.arange(len1, dtype='int64'), T.arange(len2, dtype='int64')\n",
    "mat = T.dmatrix('mat')\n",
    "\n",
    "def fun2(j, e1, list2):\n",
    "    return e1*list2[j]\n",
    "\n",
    "def loop_over_list2(i, range2, list1, list2):\n",
    "    \n",
    "    e1 = list1[i]\n",
    "    result_, updates_ = theano.scan(fn=fun2,\n",
    "                              outputs_info = None,\n",
    "                              non_sequences=[e1, list2],\n",
    "                              sequences=[range2])\n",
    "    return result_\n",
    "\n",
    "result, updates = theano.scan(fn=loop_over_list2,\n",
    "                              outputs_info = None,\n",
    "                              non_sequences=[range2, list1, list2],\n",
    "                              sequences=[range1])\n",
    "\n",
    "f = theano.function(inputs=[list1, list2], outputs=result)\n",
    "\n",
    "f([1, 2],[1, 3, 2])\n"
   ]
  },
  {
   "cell_type": "markdown",
   "metadata": {
    "hideCode": false,
    "hidePrompt": false
   },
   "source": [
    "### Define a symbolic \"kernel\" object and its derivative"
   ]
  },
  {
   "cell_type": "code",
   "execution_count": 9,
   "metadata": {
    "hideCode": false,
    "hidePrompt": false
   },
   "outputs": [],
   "source": [
    "def kernel_ee_(r1, r2, rho1, rho2, sig, theta, rc):\n",
    "    rho1s = rho1[:, 0:3]\n",
    "    rho2s = rho2[:, 0:3]\n",
    "    alpha_1 = rho1[:, 3:4].flatten()\n",
    "    alpha_2 = rho2[:, 3:4].flatten()\n",
    "    alpha_j = rho1[:, 4:5].flatten()\n",
    "    alpha_m = rho2[:, 4:5].flatten()\n",
    "    r1j = T.sqrt(T.sum((rho1s[:, :]-r1[None,:])**2, axis = 1))\n",
    "    r2m = T.sqrt(T.sum((rho2s[:, :]-r2[None,:])**2, axis = 1))\n",
    "    delta_alphas12 = delta_alpha2(alpha_1[:, None] , alpha_2[None, :])\n",
    "    delta_alphasjm = delta_alpha2(alpha_j[:, None] , alpha_m[None, :])\n",
    "    delta_alphas1m = delta_alpha2(alpha_1[:, None] , alpha_m[None, :])\n",
    "    delta_alphasj2 = delta_alpha2(alpha_j[:, None] , alpha_2[None, :])\n",
    "    k_ij = (T.exp(-(r1j[:, None] - r2m[None,:])**2/sig) * (delta_alphas12 * delta_alphasjm + delta_alphas1m * delta_alphasj2)\n",
    "    *T.exp(-theta/(rc-r1j[:, None]))*T.exp(-theta/(rc-r2m[None,:])))\n",
    "    k = T.sum(k_ij) \n",
    "    return k\n",
    "\n",
    "def kernel_ef_(r1, r2, rho1, rho2, sig, theta, rc):\n",
    "    k = kernel_ee_(r1, r2, rho1, rho2, sig, theta, rc)\n",
    "    k_ef = T.grad(k, r2)\n",
    "\n",
    "    return k_ef\n",
    "\n",
    "\n",
    "def kernel_ff_(r1, r2, rho1, rho2, sig, theta, rc):\n",
    "    k = kernel_ee_(r1, r2, rho1, rho2, sig, theta, rc)\n",
    "    k_ff_der = T.grad(k, r1)\n",
    "    k_ff, updates = theano.scan(lambda j, k_ff, r2 : T.grad(k_ff_der[j], r2), \n",
    "                                sequences = T.arange(k_ff_der.shape[0]), non_sequences = [k_ff_der, r2])\n",
    "\n",
    "    return k_ff"
   ]
  },
  {
   "cell_type": "markdown",
   "metadata": {
    "hideCode": false,
    "hidePrompt": false
   },
   "source": [
    "### Define symbolic functions that loop over elements of a list"
   ]
  },
  {
   "cell_type": "code",
   "execution_count": 10,
   "metadata": {
    "hideCode": false,
    "hidePrompt": false
   },
   "outputs": [],
   "source": [
    "def fun_ee(j, e1, list2, r1, r2, sig, theta, rc):\n",
    "    return kernel_ee_(r1, r2, e1, list2[j], sig, theta, rc)\n",
    "\n",
    "def fun_ff(j, e1, list2, r1, r2, sig, theta, rc):\n",
    "    return kernel_ff_(r1, r2, e1, list2[j], sig, theta, rc)\n",
    "\n",
    "def fun_ef(j, e1, list2, r1, r2, sig, theta, rc):\n",
    "    return kernel_ef_(r1, r2, e1, list2[j], sig, theta, rc)\n",
    "\n",
    "\n",
    "def loop_over_list_ee(i, range2, list1, list2, r1, r2, sig, theta, rc):\n",
    "    e1 = list1[i]\n",
    "    result_, updates_ = theano.scan(fn=fun_ee,\n",
    "                              outputs_info = None,\n",
    "                              non_sequences=[e1, list2, r1, r2,  sig, theta, rc],\n",
    "                              sequences=[range2])\n",
    "    return result_\n",
    "\n",
    "def loop_over_list_ef(i, range2, list1, list2, r1, r2, sig, theta, rc):\n",
    "    e1 = list1[i]\n",
    "    result_, updates_ = theano.scan(fn=fun_ef,\n",
    "                              outputs_info = None,\n",
    "                              non_sequences=[e1, list2, r1, r2, sig, theta, rc],\n",
    "                              sequences=[range2])\n",
    "    return result_\n",
    "\n",
    "\n",
    "def loop_over_list_ff(i, range2, list1, list2, r1, r2, sig, theta, rc):\n",
    "    e1 = list1[i]\n",
    "    result_, updates_ = theano.scan(fn=fun_ff,\n",
    "                              outputs_info = None,\n",
    "                              non_sequences=[e1, list2, r1, r2, sig, theta, rc],\n",
    "                              sequences=[range2])\n",
    "    return result_"
   ]
  },
  {
   "cell_type": "markdown",
   "metadata": {
    "hideCode": false,
    "hidePrompt": false
   },
   "source": [
    "### Define two list of configurations and the final functions"
   ]
  },
  {
   "cell_type": "code",
   "execution_count": 63,
   "metadata": {
    "hideCode": false,
    "hidePrompt": false
   },
   "outputs": [],
   "source": [
    "# define lists of configurations to loop over (lists of matrices)\n",
    "\n",
    "rho1l = Tl.TypedListType(T.dmatrix)('rho1l')\n",
    "rho2l = Tl.TypedListType(T.dmatrix)('rho2l')\n",
    "\n",
    "l1, l2 = Tl.length(rho1l), Tl.length(rho2l)\n",
    "range1, range2 = T.arange(l1, dtype='int64'), T.arange(l2, dtype='int64')\n"
   ]
  },
  {
   "cell_type": "code",
   "execution_count": 64,
   "metadata": {
    "hideCode": false,
    "hidePrompt": false
   },
   "outputs": [],
   "source": [
    "# lengths of the two lists\n",
    "\n",
    "result, updates = theano.scan(fn=loop_over_list_ee,\n",
    "                              outputs_info = None,\n",
    "                              non_sequences=[range2, rho1l, rho2l, r1, r2, sig, theta, rc],\n",
    "                              sequences=[range1])\n",
    "\n",
    "k_ee_func_for = function(inputs=[r1, r2, rho1l, rho2l,  sig, theta, rc], outputs=result,  allow_input_downcast = True)\n"
   ]
  },
  {
   "cell_type": "code",
   "execution_count": 65,
   "metadata": {
    "hideCode": false,
    "hidePrompt": false,
    "scrolled": true
   },
   "outputs": [],
   "source": [
    "\n",
    "result, updates = theano.scan(fn=loop_over_list_ef,\n",
    "                              outputs_info = None,\n",
    "                              non_sequences=[range2, rho1l, rho2l, r1, r2, sig, theta, rc],\n",
    "                              sequences=[range1])\n",
    "\n",
    "k_ef_func_for = function(inputs=[r1, r2, rho1l, rho2l,  sig, theta, rc], outputs=result,  allow_input_downcast = True)\n"
   ]
  },
  {
   "cell_type": "code",
   "execution_count": 66,
   "metadata": {
    "hideCode": false,
    "hidePrompt": false
   },
   "outputs": [],
   "source": [
    "\n",
    "result, updates = theano.scan(fn=loop_over_list_ff,\n",
    "                              outputs_info = None,\n",
    "                              non_sequences=[range2, rho1l, rho2l, r1, r2, sig, theta, rc],\n",
    "                              sequences=[range1])\n",
    "\n",
    "k_ff_func_for = function(inputs=[r1, r2, rho1l, rho2l, sig, theta, rc]\n",
    "                         , outputs=result,allow_input_downcast = True)"
   ]
  },
  {
   "cell_type": "markdown",
   "metadata": {
    "hideCode": false,
    "hidePrompt": false
   },
   "source": [
    "### Saving the kernels"
   ]
  },
  {
   "cell_type": "code",
   "execution_count": 15,
   "metadata": {},
   "outputs": [],
   "source": [
    "from six.moves import cPickle\n",
    "import sys\n",
    "\n",
    "sys.setrecursionlimit(3000)\n",
    "# local kernels (over two configurations)\n",
    "f = open('2B_ms_ee.save', 'wb')\n",
    "cPickle.dump(k_ee_fun, f, protocol=cPickle.HIGHEST_PROTOCOL)\n",
    "f.close()\n",
    "\n",
    "f = open('2B_ms_ef.save', 'wb')\n",
    "cPickle.dump(k_ef_fun, f, protocol=cPickle.HIGHEST_PROTOCOL)\n",
    "f.close()\n",
    "\n",
    "f = open('2B_ms_ff.save', 'wb')\n",
    "cPickle.dump(k_ff_fun, f, protocol=cPickle.HIGHEST_PROTOCOL)\n",
    "f.close()\n",
    "\n",
    "# global kernels (over two lists configurations)\n",
    "f = open('2B_ms_for_ee.save', 'wb')\n",
    "cPickle.dump(k_ee_func_for, f, protocol=cPickle.HIGHEST_PROTOCOL)\n",
    "f.close()\n",
    "\n",
    "f = open('2B_ms_for_ef.save', 'wb')\n",
    "cPickle.dump(k_ef_func_for, f, protocol=cPickle.HIGHEST_PROTOCOL)\n",
    "f.close()\n",
    "\n",
    "f = open('2B_ms_for_ff.save', 'wb')\n",
    "cPickle.dump(k_ff_func_for, f, protocol=cPickle.HIGHEST_PROTOCOL)\n",
    "f.close()"
   ]
  },
  {
   "cell_type": "markdown",
   "metadata": {
    "hideCode": false,
    "hidePrompt": false
   },
   "source": [
    "## Tests"
   ]
  },
  {
   "cell_type": "markdown",
   "metadata": {
    "hideCode": false,
    "hidePrompt": false
   },
   "source": [
    "Test on a single configuration"
   ]
  },
  {
   "cell_type": "code",
   "execution_count": 55,
   "metadata": {
    "hideCode": false,
    "hidePrompt": false
   },
   "outputs": [
    {
     "name": "stdout",
     "output_type": "stream",
     "text": [
      "(3, 5) (3, 5)\n"
     ]
    }
   ],
   "source": [
    "rho1n = np.array([[1, 2, 3, 1, 3],\n",
    "                  [1, 2, 4, 1, 4],\n",
    "                  [1, 2, 1, 1, 1]])\n",
    "\n",
    "rho2n = np.array([[1.2, 2.1, 3.3, 1, 3],\n",
    "                  [1.7, 2.1, 4.6, 1, 4],\n",
    "                  [1.2, 2.1, 1.2, 1, 1]])\n",
    "\n",
    "print(rho1n.shape , rho2n.shape)"
   ]
  },
  {
   "cell_type": "code",
   "execution_count": 56,
   "metadata": {
    "hideCode": false,
    "hidePrompt": false
   },
   "outputs": [],
   "source": [
    "mat = k_ff_fun(np.array([0,0,0]), np.array([0,0,0]), rho1n, rho2n, 100., 1., 1.)\n",
    "matT = k_ff_fun(np.array([0,0,0]), np.array([0,0,0]),rho2n, rho1n, 100., 1., 1.)\n"
   ]
  },
  {
   "cell_type": "code",
   "execution_count": 57,
   "metadata": {
    "hideCode": false,
    "hidePrompt": false
   },
   "outputs": [
    {
     "name": "stdout",
     "output_type": "stream",
     "text": [
      "[[0.0102 0.0171 0.0152]\n",
      " [0.0203 0.0342 0.0305]\n",
      " [0.0174 0.0276 0.0349]]\n",
      "[[ True  True  True]\n",
      " [ True  True  True]\n",
      " [ True  True  True]]\n"
     ]
    }
   ],
   "source": [
    "print(mat)\n",
    "print(np.isclose(mat,matT.T))"
   ]
  },
  {
   "cell_type": "markdown",
   "metadata": {
    "hideCode": false,
    "hidePrompt": false
   },
   "source": [
    "Tests on random configurations"
   ]
  },
  {
   "cell_type": "code",
   "execution_count": 19,
   "metadata": {
    "hideCode": false,
    "hidePrompt": false
   },
   "outputs": [],
   "source": [
    "np.set_printoptions(precision=4)"
   ]
  },
  {
   "cell_type": "code",
   "execution_count": 20,
   "metadata": {},
   "outputs": [],
   "source": [
    "# create random configurations\n",
    "\n",
    "n1 = 100\n",
    "n2 = 100\n",
    "d = 3 # this can't be changed\n",
    "nn = 12\n",
    "confs1 = (np.random.rand(n1, nn, d+2)-0.5)*100\n",
    "confs2 = (np.random.rand(n2, nn, d+2)-0.5)*100\n",
    "\n",
    "confs1[:, :, 3:5] = 1.\n",
    "confs2[:, :, 3:5] = 1."
   ]
  },
  {
   "cell_type": "code",
   "execution_count": 69,
   "metadata": {
    "hideCode": false,
    "hidePrompt": false
   },
   "outputs": [
    {
     "data": {
      "text/plain": [
       "2.959865"
      ]
     },
     "execution_count": 69,
     "metadata": {},
     "output_type": "execute_result"
    }
   ],
   "source": [
    "\n",
    "ti_python = datetime.datetime.now()\n",
    "gram = np.zeros((n1*d,n2*d))\n",
    "for i in np.arange(n1):\n",
    "    for j in np.arange(n2):\n",
    "        gram[d*i:d*(i+1),d*j:d*(j+1)] = k_ff_fun(np.zeros(d),np.zeros(d), confs1[i],confs2[j], 10000., 1., 1000.)\n",
    "\n",
    "tf_python = datetime.datetime.now()\n",
    "(tf_python-ti_python).total_seconds()\n"
   ]
  },
  {
   "cell_type": "code",
   "execution_count": 70,
   "metadata": {},
   "outputs": [
    {
     "data": {
      "text/plain": [
       "1.961846"
      ]
     },
     "execution_count": 70,
     "metadata": {},
     "output_type": "execute_result"
    }
   ],
   "source": [
    "ti_theano = datetime.datetime.now()\n",
    "gram_for = k_ff_func_for(np.zeros(d),np.zeros(d), confs1, confs2,  10000., 1., 1000.)\n",
    "gram_for = np.reshape(gram_for.swapaxes(1, 2), (gram_for.shape[0]*gram_for.shape[2], gram_for.shape[1]*gram_for.shape[2]))\n",
    "tf_theano = datetime.datetime.now()\n",
    "(tf_theano-ti_theano).total_seconds()"
   ]
  },
  {
   "cell_type": "code",
   "execution_count": 24,
   "metadata": {
    "scrolled": true
   },
   "outputs": [
    {
     "name": "stdout",
     "output_type": "stream",
     "text": [
      "False\n"
     ]
    }
   ],
   "source": [
    "print(np.allclose(gram_for,gram))"
   ]
  },
  {
   "cell_type": "code",
   "execution_count": 25,
   "metadata": {
    "hideCode": false,
    "hidePrompt": false
   },
   "outputs": [
    {
     "name": "stdout",
     "output_type": "stream",
     "text": [
      "-0.2638034918792374\n",
      "0.2508958892008753\n"
     ]
    },
    {
     "data": {
      "text/plain": [
       "<Figure size 640x480 with 1 Axes>"
      ]
     },
     "metadata": {},
     "output_type": "display_data"
    }
   ],
   "source": [
    "import matplotlib.pyplot as plt\n",
    "eigs, eigvecs = np.linalg.eigh(gram)\n",
    "print(np.min(eigs))\n",
    "print(np.max(eigs))\n",
    "plt.hist(eigs[:], 40)\n",
    "plt.show()"
   ]
  },
  {
   "cell_type": "code",
   "execution_count": null,
   "metadata": {
    "hideCode": false,
    "hidePrompt": false
   },
   "outputs": [],
   "source": [
    "print(theano.config.optimizer)\n",
    "print(theano.config.linker)\n",
    "print(theano.config.mode)"
   ]
  },
  {
   "cell_type": "code",
   "execution_count": null,
   "metadata": {},
   "outputs": [],
   "source": []
  }
 ],
 "metadata": {
  "hide_code_all_hidden": false,
  "kernelspec": {
   "display_name": "Python 3",
   "language": "python",
   "name": "python3"
  },
  "language_info": {
   "codemirror_mode": {
    "name": "ipython",
    "version": 3
   },
   "file_extension": ".py",
   "mimetype": "text/x-python",
   "name": "python",
   "nbconvert_exporter": "python",
   "pygments_lexer": "ipython3",
   "version": "3.6.4"
  }
 },
 "nbformat": 4,
 "nbformat_minor": 2
}
