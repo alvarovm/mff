{
 "cells": [
  {
   "cell_type": "markdown",
   "metadata": {
    "hideCode": false,
    "hidePrompt": false
   },
   "source": [
    "# Pairwise conservative kernel for multiple species"
   ]
  },
  {
   "cell_type": "code",
   "execution_count": 1,
   "metadata": {
    "hideCode": false,
    "hidePrompt": false
   },
   "outputs": [],
   "source": [
    "# import libraries\n",
    "import theano\n",
    "import theano.tensor as T\n",
    "from theano import function\n",
    "import numpy as np\n",
    "import datetime"
   ]
  },
  {
   "cell_type": "markdown",
   "metadata": {
    "hideCode": false,
    "hidePrompt": false
   },
   "source": [
    "## Step by step kernel construction"
   ]
  },
  {
   "cell_type": "markdown",
   "metadata": {
    "hideCode": false,
    "hidePrompt": false
   },
   "source": [
    "### Definitions"
   ]
  },
  {
   "cell_type": "markdown",
   "metadata": {
    "hideCode": false,
    "hidePrompt": false
   },
   "source": [
    "Define the position of the atoms relative to the centrla one, and their chemical species, by a matrix of dimension Mx5"
   ]
  },
  {
   "cell_type": "code",
   "execution_count": 2,
   "metadata": {
    "hideCode": false,
    "hidePrompt": false
   },
   "outputs": [],
   "source": [
    "# positions of central atoms\n",
    "r1, r2 = T.dvectors('r1d','r2d') \n",
    "# positions of neighbours \n",
    "rho1, rho2 = T.dmatrices('rho1','rho2') \n",
    "# hyperparameter\n",
    "sig = T.dscalar('sig') \n",
    "\n",
    "# positions of neighbours without chemical species\n",
    "\n",
    "rho1s = rho1[:, 0:3]\n",
    "rho2s = rho2[:, 0:3]\n",
    "\n",
    "alpha_1 = rho1[:, 3:4].flatten()\n",
    "alpha_2 = rho2[:, 3:4].flatten()\n",
    "alpha_j = rho1[:, 4:5].flatten()\n",
    "alpha_m = rho2[:, 4:5].flatten()\n"
   ]
  },
  {
   "cell_type": "markdown",
   "metadata": {
    "hideCode": false,
    "hidePrompt": false
   },
   "source": [
    "Calculate the relative distance to the central vector"
   ]
  },
  {
   "cell_type": "code",
   "execution_count": 3,
   "metadata": {
    "hideCode": false,
    "hidePrompt": false
   },
   "outputs": [],
   "source": [
    "# first configuration\n",
    "r1j = T.sqrt(T.sum((rho1s[:, :]-r1[None,:])**2, axis = 1))\n",
    "# second configuration\n",
    "r2m = T.sqrt(T.sum((rho2s[:, :]-r2[None,:])**2, axis = 1))\n"
   ]
  },
  {
   "cell_type": "markdown",
   "metadata": {
    "hideCode": false,
    "hidePrompt": false
   },
   "source": [
    "Calculate the mask given by the chemical species"
   ]
  },
  {
   "cell_type": "code",
   "execution_count": 4,
   "metadata": {
    "hideCode": false,
    "hidePrompt": false,
    "scrolled": true
   },
   "outputs": [
    {
     "data": {
      "text/plain": [
       "1.0"
      ]
     },
     "execution_count": 4,
     "metadata": {},
     "output_type": "execute_result"
    }
   ],
   "source": [
    "# numerical kronecker\n",
    "def delta_alpha2(a1j, a2m):\n",
    "    \n",
    "    d = np.exp(-(a1j - a2m)**2/(2*(1e-5)**2))\n",
    "    #d = np.exp((a1j[0] - a2m[0])**2/(2*(1e-7)**2))\n",
    "    #dp = np.exp((a1j[1] - a2m[1])**2/(2*(1e-7)**2))\n",
    "    \n",
    "    return d\n",
    "\n",
    "delta_alpha2(100, 100)"
   ]
  },
  {
   "cell_type": "code",
   "execution_count": 5,
   "metadata": {
    "hideCode": false,
    "hidePrompt": false
   },
   "outputs": [],
   "source": [
    "delta_alphas12 = delta_alpha2(alpha_1[:, None] , alpha_2[None, :])\n",
    "delta_alphasjm = delta_alpha2(alpha_j[:, None] , alpha_m[None, :])\n",
    "delta_alphas1m = delta_alpha2(alpha_1[:, None] , alpha_m[None, :])\n",
    "delta_alphasj2 = delta_alpha2(alpha_j[:, None] , alpha_2[None, :])"
   ]
  },
  {
   "cell_type": "markdown",
   "metadata": {
    "hideCode": false,
    "hidePrompt": false
   },
   "source": [
    "### Cutoff function"
   ]
  },
  {
   "cell_type": "code",
   "execution_count": 6,
   "metadata": {
    "hideCode": false,
    "hidePrompt": false
   },
   "outputs": [],
   "source": [
    "theta = T.dscalar('theta')\n",
    "rc = T.dscalar('rc')\n"
   ]
  },
  {
   "cell_type": "code",
   "execution_count": 11,
   "metadata": {},
   "outputs": [
    {
     "data": {
      "text/plain": [
       "'cpu'"
      ]
     },
     "execution_count": 11,
     "metadata": {},
     "output_type": "execute_result"
    }
   ],
   "source": [
    "theano.config.device"
   ]
  },
  {
   "cell_type": "code",
   "execution_count": 13,
   "metadata": {
    "hideCode": false,
    "hidePrompt": false
   },
   "outputs": [
    {
     "name": "stderr",
     "output_type": "stream",
     "text": [
      "ERROR (theano.gof.opt): Optimization failure due to: constant_folding\n",
      "ERROR (theano.gof.opt): node: InplaceDimShuffle{x,x}(TensorConstant{2})\n",
      "ERROR (theano.gof.opt): TRACEBACK:\n",
      "ERROR (theano.gof.opt): Traceback (most recent call last):\n",
      "  File \"/Users/aldoglielmo/anaconda/lib/python3.6/site-packages/theano/gof/opt.py\", line 2019, in process_node\n",
      "    replacements = lopt.transform(node)\n",
      "  File \"/Users/aldoglielmo/anaconda/lib/python3.6/site-packages/theano/tensor/opt.py\", line 6507, in constant_folding\n",
      "    no_recycling=[], impl=impl)\n",
      "  File \"/Users/aldoglielmo/anaconda/lib/python3.6/site-packages/theano/gof/op.py\", line 955, in make_thunk\n",
      "    no_recycling)\n",
      "  File \"/Users/aldoglielmo/anaconda/lib/python3.6/site-packages/theano/gof/op.py\", line 858, in make_c_thunk\n",
      "    output_storage=node_output_storage)\n",
      "  File \"/Users/aldoglielmo/anaconda/lib/python3.6/site-packages/theano/gof/cc.py\", line 1217, in make_thunk\n",
      "    keep_lock=keep_lock)\n",
      "  File \"/Users/aldoglielmo/anaconda/lib/python3.6/site-packages/theano/gof/cc.py\", line 1157, in __compile__\n",
      "    keep_lock=keep_lock)\n",
      "  File \"/Users/aldoglielmo/anaconda/lib/python3.6/site-packages/theano/gof/cc.py\", line 1620, in cthunk_factory\n",
      "    key=key, lnk=self, keep_lock=keep_lock)\n",
      "  File \"/Users/aldoglielmo/anaconda/lib/python3.6/site-packages/theano/gof/cmodule.py\", line 1174, in module_from_key\n",
      "    module = lnk.compile_cmodule(location)\n",
      "  File \"/Users/aldoglielmo/anaconda/lib/python3.6/site-packages/theano/gof/cc.py\", line 1523, in compile_cmodule\n",
      "    preargs=preargs)\n",
      "  File \"/Users/aldoglielmo/anaconda/lib/python3.6/site-packages/theano/gof/cmodule.py\", line 2362, in compile_str\n",
      "    (status, compile_stderr.replace('\\n', '. ')))\n",
      "Exception: (\"Compilation failed (return status=1): In file included from /Users/aldoglielmo/.theano/compiledir_Darwin-17.4.0-x86_64-i386-64bit-i386-3.6.0-64/tmp_mxjzq8a/mod.cpp:1:. In file included from /Users/aldoglielmo/anaconda/include/python3.6m/Python.h:25:. /Users/aldoglielmo/anaconda/bin/../include/c++/v1/stdio.h:108:15: fatal error: 'stdio.h' file not found. #include_next <stdio.h>.               ^~~~~~~~~. 1 error generated.. \", '[InplaceDimShuffle{x,x}(TensorConstant{2})]')\n",
      "\n"
     ]
    },
    {
     "name": "stdout",
     "output_type": "stream",
     "text": [
      "\n",
      "You can find the C code in this temporary file: /var/folders/hr/4m44n3ss4fjfbzgdtznkl4q00000gn/T/theano_compilation_error_7z856od5\n"
     ]
    },
    {
     "name": "stderr",
     "output_type": "stream",
     "text": [
      "ERROR (theano.gof.opt): Optimization failure due to: constant_folding\n",
      "ERROR (theano.gof.opt): node: InplaceDimShuffle{x,x}(TensorConstant{-1.0})\n",
      "ERROR (theano.gof.opt): TRACEBACK:\n",
      "ERROR (theano.gof.opt): Traceback (most recent call last):\n",
      "  File \"/Users/aldoglielmo/anaconda/lib/python3.6/site-packages/theano/gof/opt.py\", line 2019, in process_node\n",
      "    replacements = lopt.transform(node)\n",
      "  File \"/Users/aldoglielmo/anaconda/lib/python3.6/site-packages/theano/tensor/opt.py\", line 6507, in constant_folding\n",
      "    no_recycling=[], impl=impl)\n",
      "  File \"/Users/aldoglielmo/anaconda/lib/python3.6/site-packages/theano/gof/op.py\", line 955, in make_thunk\n",
      "    no_recycling)\n",
      "  File \"/Users/aldoglielmo/anaconda/lib/python3.6/site-packages/theano/gof/op.py\", line 858, in make_c_thunk\n",
      "    output_storage=node_output_storage)\n",
      "  File \"/Users/aldoglielmo/anaconda/lib/python3.6/site-packages/theano/gof/cc.py\", line 1217, in make_thunk\n",
      "    keep_lock=keep_lock)\n",
      "  File \"/Users/aldoglielmo/anaconda/lib/python3.6/site-packages/theano/gof/cc.py\", line 1157, in __compile__\n",
      "    keep_lock=keep_lock)\n",
      "  File \"/Users/aldoglielmo/anaconda/lib/python3.6/site-packages/theano/gof/cc.py\", line 1620, in cthunk_factory\n",
      "    key=key, lnk=self, keep_lock=keep_lock)\n",
      "  File \"/Users/aldoglielmo/anaconda/lib/python3.6/site-packages/theano/gof/cmodule.py\", line 1174, in module_from_key\n",
      "    module = lnk.compile_cmodule(location)\n",
      "  File \"/Users/aldoglielmo/anaconda/lib/python3.6/site-packages/theano/gof/cc.py\", line 1523, in compile_cmodule\n",
      "    preargs=preargs)\n",
      "  File \"/Users/aldoglielmo/anaconda/lib/python3.6/site-packages/theano/gof/cmodule.py\", line 2362, in compile_str\n",
      "    (status, compile_stderr.replace('\\n', '. ')))\n",
      "Exception: (\"Compilation failed (return status=1): In file included from /Users/aldoglielmo/.theano/compiledir_Darwin-17.4.0-x86_64-i386-64bit-i386-3.6.0-64/tmp1rx1pm16/mod.cpp:1:. In file included from /Users/aldoglielmo/anaconda/include/python3.6m/Python.h:25:. /Users/aldoglielmo/anaconda/bin/../include/c++/v1/stdio.h:108:15: fatal error: 'stdio.h' file not found. #include_next <stdio.h>.               ^~~~~~~~~. 1 error generated.. \", '[InplaceDimShuffle{x,x}(TensorConstant{-1.0})]')\n",
      "\n"
     ]
    },
    {
     "name": "stdout",
     "output_type": "stream",
     "text": [
      "\n",
      "You can find the C code in this temporary file: /var/folders/hr/4m44n3ss4fjfbzgdtznkl4q00000gn/T/theano_compilation_error_g4oc2ovi\n"
     ]
    },
    {
     "name": "stderr",
     "output_type": "stream",
     "text": [
      "ERROR (theano.gof.opt): Optimization failure due to: constant_folding\n",
      "ERROR (theano.gof.opt): node: InplaceDimShuffle{x,x}(TensorConstant{4999999999.999999})\n",
      "ERROR (theano.gof.opt): TRACEBACK:\n",
      "ERROR (theano.gof.opt): Traceback (most recent call last):\n",
      "  File \"/Users/aldoglielmo/anaconda/lib/python3.6/site-packages/theano/gof/opt.py\", line 2019, in process_node\n",
      "    replacements = lopt.transform(node)\n",
      "  File \"/Users/aldoglielmo/anaconda/lib/python3.6/site-packages/theano/tensor/opt.py\", line 6507, in constant_folding\n",
      "    no_recycling=[], impl=impl)\n",
      "  File \"/Users/aldoglielmo/anaconda/lib/python3.6/site-packages/theano/gof/op.py\", line 955, in make_thunk\n",
      "    no_recycling)\n",
      "  File \"/Users/aldoglielmo/anaconda/lib/python3.6/site-packages/theano/gof/op.py\", line 858, in make_c_thunk\n",
      "    output_storage=node_output_storage)\n",
      "  File \"/Users/aldoglielmo/anaconda/lib/python3.6/site-packages/theano/gof/cc.py\", line 1217, in make_thunk\n",
      "    keep_lock=keep_lock)\n",
      "  File \"/Users/aldoglielmo/anaconda/lib/python3.6/site-packages/theano/gof/cc.py\", line 1157, in __compile__\n",
      "    keep_lock=keep_lock)\n",
      "  File \"/Users/aldoglielmo/anaconda/lib/python3.6/site-packages/theano/gof/cc.py\", line 1620, in cthunk_factory\n",
      "    key=key, lnk=self, keep_lock=keep_lock)\n",
      "  File \"/Users/aldoglielmo/anaconda/lib/python3.6/site-packages/theano/gof/cmodule.py\", line 1174, in module_from_key\n",
      "    module = lnk.compile_cmodule(location)\n",
      "  File \"/Users/aldoglielmo/anaconda/lib/python3.6/site-packages/theano/gof/cc.py\", line 1523, in compile_cmodule\n",
      "    preargs=preargs)\n",
      "  File \"/Users/aldoglielmo/anaconda/lib/python3.6/site-packages/theano/gof/cmodule.py\", line 2362, in compile_str\n",
      "    (status, compile_stderr.replace('\\n', '. ')))\n",
      "Exception: (\"Compilation failed (return status=1): In file included from /Users/aldoglielmo/.theano/compiledir_Darwin-17.4.0-x86_64-i386-64bit-i386-3.6.0-64/tmp2598y8kc/mod.cpp:1:. In file included from /Users/aldoglielmo/anaconda/include/python3.6m/Python.h:25:. /Users/aldoglielmo/anaconda/bin/../include/c++/v1/stdio.h:108:15: fatal error: 'stdio.h' file not found. #include_next <stdio.h>.               ^~~~~~~~~. 1 error generated.. \", '[InplaceDimShuffle{x,x}(TensorConstant{4999999999.999999})]')\n",
      "\n"
     ]
    },
    {
     "name": "stdout",
     "output_type": "stream",
     "text": [
      "\n",
      "You can find the C code in this temporary file: /var/folders/hr/4m44n3ss4fjfbzgdtznkl4q00000gn/T/theano_compilation_error_xxsd_xj9\n"
     ]
    },
    {
     "name": "stderr",
     "output_type": "stream",
     "text": [
      "ERROR (theano.gof.opt): Optimization failure due to: constant_folding\n",
      "ERROR (theano.gof.opt): node: InplaceDimShuffle{x,x}(TensorConstant{2})\n",
      "ERROR (theano.gof.opt): TRACEBACK:\n",
      "ERROR (theano.gof.opt): Traceback (most recent call last):\n",
      "  File \"/Users/aldoglielmo/anaconda/lib/python3.6/site-packages/theano/gof/opt.py\", line 2019, in process_node\n",
      "    replacements = lopt.transform(node)\n",
      "  File \"/Users/aldoglielmo/anaconda/lib/python3.6/site-packages/theano/tensor/opt.py\", line 6507, in constant_folding\n",
      "    no_recycling=[], impl=impl)\n",
      "  File \"/Users/aldoglielmo/anaconda/lib/python3.6/site-packages/theano/gof/op.py\", line 955, in make_thunk\n",
      "    no_recycling)\n",
      "  File \"/Users/aldoglielmo/anaconda/lib/python3.6/site-packages/theano/gof/op.py\", line 858, in make_c_thunk\n",
      "    output_storage=node_output_storage)\n",
      "  File \"/Users/aldoglielmo/anaconda/lib/python3.6/site-packages/theano/gof/cc.py\", line 1217, in make_thunk\n",
      "    keep_lock=keep_lock)\n",
      "  File \"/Users/aldoglielmo/anaconda/lib/python3.6/site-packages/theano/gof/cc.py\", line 1157, in __compile__\n",
      "    keep_lock=keep_lock)\n",
      "  File \"/Users/aldoglielmo/anaconda/lib/python3.6/site-packages/theano/gof/cc.py\", line 1620, in cthunk_factory\n",
      "    key=key, lnk=self, keep_lock=keep_lock)\n",
      "  File \"/Users/aldoglielmo/anaconda/lib/python3.6/site-packages/theano/gof/cmodule.py\", line 1174, in module_from_key\n",
      "    module = lnk.compile_cmodule(location)\n",
      "  File \"/Users/aldoglielmo/anaconda/lib/python3.6/site-packages/theano/gof/cc.py\", line 1523, in compile_cmodule\n",
      "    preargs=preargs)\n",
      "  File \"/Users/aldoglielmo/anaconda/lib/python3.6/site-packages/theano/gof/cmodule.py\", line 2362, in compile_str\n",
      "    (status, compile_stderr.replace('\\n', '. ')))\n",
      "Exception: (\"Compilation failed (return status=1): In file included from /Users/aldoglielmo/.theano/compiledir_Darwin-17.4.0-x86_64-i386-64bit-i386-3.6.0-64/tmp240kvyey/mod.cpp:1:. In file included from /Users/aldoglielmo/anaconda/include/python3.6m/Python.h:25:. /Users/aldoglielmo/anaconda/bin/../include/c++/v1/stdio.h:108:15: fatal error: 'stdio.h' file not found. #include_next <stdio.h>.               ^~~~~~~~~. 1 error generated.. \", '[InplaceDimShuffle{x,x}(TensorConstant{2})]')\n",
      "\n"
     ]
    },
    {
     "name": "stdout",
     "output_type": "stream",
     "text": [
      "\n",
      "You can find the C code in this temporary file: /var/folders/hr/4m44n3ss4fjfbzgdtznkl4q00000gn/T/theano_compilation_error_wlu1hhsz\n"
     ]
    },
    {
     "name": "stderr",
     "output_type": "stream",
     "text": [
      "ERROR (theano.gof.opt): Optimization failure due to: constant_folding\n",
      "ERROR (theano.gof.opt): node: InplaceDimShuffle{x,x}(TensorConstant{-4999999999.999999})\n",
      "ERROR (theano.gof.opt): TRACEBACK:\n",
      "ERROR (theano.gof.opt): Traceback (most recent call last):\n",
      "  File \"/Users/aldoglielmo/anaconda/lib/python3.6/site-packages/theano/gof/opt.py\", line 2019, in process_node\n",
      "    replacements = lopt.transform(node)\n",
      "  File \"/Users/aldoglielmo/anaconda/lib/python3.6/site-packages/theano/tensor/opt.py\", line 6507, in constant_folding\n",
      "    no_recycling=[], impl=impl)\n",
      "  File \"/Users/aldoglielmo/anaconda/lib/python3.6/site-packages/theano/gof/op.py\", line 955, in make_thunk\n",
      "    no_recycling)\n",
      "  File \"/Users/aldoglielmo/anaconda/lib/python3.6/site-packages/theano/gof/op.py\", line 858, in make_c_thunk\n",
      "    output_storage=node_output_storage)\n",
      "  File \"/Users/aldoglielmo/anaconda/lib/python3.6/site-packages/theano/gof/cc.py\", line 1217, in make_thunk\n",
      "    keep_lock=keep_lock)\n",
      "  File \"/Users/aldoglielmo/anaconda/lib/python3.6/site-packages/theano/gof/cc.py\", line 1157, in __compile__\n",
      "    keep_lock=keep_lock)\n",
      "  File \"/Users/aldoglielmo/anaconda/lib/python3.6/site-packages/theano/gof/cc.py\", line 1620, in cthunk_factory\n",
      "    key=key, lnk=self, keep_lock=keep_lock)\n",
      "  File \"/Users/aldoglielmo/anaconda/lib/python3.6/site-packages/theano/gof/cmodule.py\", line 1174, in module_from_key\n",
      "    module = lnk.compile_cmodule(location)\n",
      "  File \"/Users/aldoglielmo/anaconda/lib/python3.6/site-packages/theano/gof/cc.py\", line 1523, in compile_cmodule\n",
      "    preargs=preargs)\n",
      "  File \"/Users/aldoglielmo/anaconda/lib/python3.6/site-packages/theano/gof/cmodule.py\", line 2362, in compile_str\n",
      "    (status, compile_stderr.replace('\\n', '. ')))\n",
      "Exception: (\"Compilation failed (return status=1): In file included from /Users/aldoglielmo/.theano/compiledir_Darwin-17.4.0-x86_64-i386-64bit-i386-3.6.0-64/tmp58ezqtlx/mod.cpp:1:. In file included from /Users/aldoglielmo/anaconda/include/python3.6m/Python.h:25:. /Users/aldoglielmo/anaconda/bin/../include/c++/v1/stdio.h:108:15: fatal error: 'stdio.h' file not found. #include_next <stdio.h>.               ^~~~~~~~~. 1 error generated.. \", '[InplaceDimShuffle{x,x}(TensorConstant{-4999999999.999999})]')\n",
      "\n"
     ]
    },
    {
     "name": "stdout",
     "output_type": "stream",
     "text": [
      "\n",
      "You can find the C code in this temporary file: /var/folders/hr/4m44n3ss4fjfbzgdtznkl4q00000gn/T/theano_compilation_error_znrlf2fo\n"
     ]
    },
    {
     "name": "stderr",
     "output_type": "stream",
     "text": [
      "ERROR (theano.gof.opt): Optimization failure due to: constant_folding\n",
      "ERROR (theano.gof.opt): node: InplaceDimShuffle{x,x}(TensorConstant{-1.0})\n",
      "ERROR (theano.gof.opt): TRACEBACK:\n",
      "ERROR (theano.gof.opt): Traceback (most recent call last):\n",
      "  File \"/Users/aldoglielmo/anaconda/lib/python3.6/site-packages/theano/gof/opt.py\", line 2019, in process_node\n",
      "    replacements = lopt.transform(node)\n",
      "  File \"/Users/aldoglielmo/anaconda/lib/python3.6/site-packages/theano/tensor/opt.py\", line 6507, in constant_folding\n",
      "    no_recycling=[], impl=impl)\n",
      "  File \"/Users/aldoglielmo/anaconda/lib/python3.6/site-packages/theano/gof/op.py\", line 955, in make_thunk\n",
      "    no_recycling)\n",
      "  File \"/Users/aldoglielmo/anaconda/lib/python3.6/site-packages/theano/gof/op.py\", line 858, in make_c_thunk\n",
      "    output_storage=node_output_storage)\n",
      "  File \"/Users/aldoglielmo/anaconda/lib/python3.6/site-packages/theano/gof/cc.py\", line 1217, in make_thunk\n",
      "    keep_lock=keep_lock)\n",
      "  File \"/Users/aldoglielmo/anaconda/lib/python3.6/site-packages/theano/gof/cc.py\", line 1157, in __compile__\n",
      "    keep_lock=keep_lock)\n",
      "  File \"/Users/aldoglielmo/anaconda/lib/python3.6/site-packages/theano/gof/cc.py\", line 1620, in cthunk_factory\n",
      "    key=key, lnk=self, keep_lock=keep_lock)\n",
      "  File \"/Users/aldoglielmo/anaconda/lib/python3.6/site-packages/theano/gof/cmodule.py\", line 1174, in module_from_key\n",
      "    module = lnk.compile_cmodule(location)\n",
      "  File \"/Users/aldoglielmo/anaconda/lib/python3.6/site-packages/theano/gof/cc.py\", line 1523, in compile_cmodule\n",
      "    preargs=preargs)\n",
      "  File \"/Users/aldoglielmo/anaconda/lib/python3.6/site-packages/theano/gof/cmodule.py\", line 2362, in compile_str\n",
      "    (status, compile_stderr.replace('\\n', '. ')))\n",
      "Exception: (\"Compilation failed (return status=1): In file included from /Users/aldoglielmo/.theano/compiledir_Darwin-17.4.0-x86_64-i386-64bit-i386-3.6.0-64/tmpa4v5a3d9/mod.cpp:1:. In file included from /Users/aldoglielmo/anaconda/include/python3.6m/Python.h:25:. /Users/aldoglielmo/anaconda/bin/../include/c++/v1/stdio.h:108:15: fatal error: 'stdio.h' file not found. #include_next <stdio.h>.               ^~~~~~~~~. 1 error generated.. \", '[InplaceDimShuffle{x,x}(TensorConstant{-1.0})]')\n",
      "\n"
     ]
    },
    {
     "name": "stdout",
     "output_type": "stream",
     "text": [
      "\n",
      "You can find the C code in this temporary file: /var/folders/hr/4m44n3ss4fjfbzgdtznkl4q00000gn/T/theano_compilation_error_sk6m58zt\n"
     ]
    },
    {
     "name": "stderr",
     "output_type": "stream",
     "text": [
      "ERROR (theano.gof.opt): Optimization failure due to: constant_folding\n",
      "ERROR (theano.gof.opt): node: InplaceDimShuffle{x,x}(TensorConstant{2})\n",
      "ERROR (theano.gof.opt): TRACEBACK:\n",
      "ERROR (theano.gof.opt): Traceback (most recent call last):\n",
      "  File \"/Users/aldoglielmo/anaconda/lib/python3.6/site-packages/theano/gof/opt.py\", line 2019, in process_node\n",
      "    replacements = lopt.transform(node)\n",
      "  File \"/Users/aldoglielmo/anaconda/lib/python3.6/site-packages/theano/tensor/opt.py\", line 6507, in constant_folding\n",
      "    no_recycling=[], impl=impl)\n",
      "  File \"/Users/aldoglielmo/anaconda/lib/python3.6/site-packages/theano/gof/op.py\", line 955, in make_thunk\n",
      "    no_recycling)\n",
      "  File \"/Users/aldoglielmo/anaconda/lib/python3.6/site-packages/theano/gof/op.py\", line 858, in make_c_thunk\n",
      "    output_storage=node_output_storage)\n",
      "  File \"/Users/aldoglielmo/anaconda/lib/python3.6/site-packages/theano/gof/cc.py\", line 1217, in make_thunk\n",
      "    keep_lock=keep_lock)\n",
      "  File \"/Users/aldoglielmo/anaconda/lib/python3.6/site-packages/theano/gof/cc.py\", line 1157, in __compile__\n",
      "    keep_lock=keep_lock)\n",
      "  File \"/Users/aldoglielmo/anaconda/lib/python3.6/site-packages/theano/gof/cc.py\", line 1620, in cthunk_factory\n",
      "    key=key, lnk=self, keep_lock=keep_lock)\n",
      "  File \"/Users/aldoglielmo/anaconda/lib/python3.6/site-packages/theano/gof/cmodule.py\", line 1174, in module_from_key\n",
      "    module = lnk.compile_cmodule(location)\n",
      "  File \"/Users/aldoglielmo/anaconda/lib/python3.6/site-packages/theano/gof/cc.py\", line 1523, in compile_cmodule\n",
      "    preargs=preargs)\n",
      "  File \"/Users/aldoglielmo/anaconda/lib/python3.6/site-packages/theano/gof/cmodule.py\", line 2362, in compile_str\n",
      "    (status, compile_stderr.replace('\\n', '. ')))\n",
      "Exception: (\"Compilation failed (return status=1): In file included from /Users/aldoglielmo/.theano/compiledir_Darwin-17.4.0-x86_64-i386-64bit-i386-3.6.0-64/tmpnfq159_0/mod.cpp:1:. In file included from /Users/aldoglielmo/anaconda/include/python3.6m/Python.h:25:. /Users/aldoglielmo/anaconda/bin/../include/c++/v1/stdio.h:108:15: fatal error: 'stdio.h' file not found. #include_next <stdio.h>.               ^~~~~~~~~. 1 error generated.. \", '[InplaceDimShuffle{x,x}(TensorConstant{2})]')\n",
      "\n"
     ]
    },
    {
     "name": "stdout",
     "output_type": "stream",
     "text": [
      "\n",
      "You can find the C code in this temporary file: /var/folders/hr/4m44n3ss4fjfbzgdtznkl4q00000gn/T/theano_compilation_error_qy_gv_uo\n"
     ]
    },
    {
     "name": "stderr",
     "output_type": "stream",
     "text": [
      "ERROR (theano.gof.opt): Optimization failure due to: constant_folding\n",
      "ERROR (theano.gof.opt): node: InplaceDimShuffle{x,x}(TensorConstant{-4999999999.999999})\n",
      "ERROR (theano.gof.opt): TRACEBACK:\n",
      "ERROR (theano.gof.opt): Traceback (most recent call last):\n",
      "  File \"/Users/aldoglielmo/anaconda/lib/python3.6/site-packages/theano/gof/opt.py\", line 2019, in process_node\n",
      "    replacements = lopt.transform(node)\n",
      "  File \"/Users/aldoglielmo/anaconda/lib/python3.6/site-packages/theano/tensor/opt.py\", line 6507, in constant_folding\n",
      "    no_recycling=[], impl=impl)\n",
      "  File \"/Users/aldoglielmo/anaconda/lib/python3.6/site-packages/theano/gof/op.py\", line 955, in make_thunk\n",
      "    no_recycling)\n",
      "  File \"/Users/aldoglielmo/anaconda/lib/python3.6/site-packages/theano/gof/op.py\", line 858, in make_c_thunk\n",
      "    output_storage=node_output_storage)\n",
      "  File \"/Users/aldoglielmo/anaconda/lib/python3.6/site-packages/theano/gof/cc.py\", line 1217, in make_thunk\n",
      "    keep_lock=keep_lock)\n",
      "  File \"/Users/aldoglielmo/anaconda/lib/python3.6/site-packages/theano/gof/cc.py\", line 1157, in __compile__\n",
      "    keep_lock=keep_lock)\n",
      "  File \"/Users/aldoglielmo/anaconda/lib/python3.6/site-packages/theano/gof/cc.py\", line 1620, in cthunk_factory\n",
      "    key=key, lnk=self, keep_lock=keep_lock)\n",
      "  File \"/Users/aldoglielmo/anaconda/lib/python3.6/site-packages/theano/gof/cmodule.py\", line 1174, in module_from_key\n",
      "    module = lnk.compile_cmodule(location)\n",
      "  File \"/Users/aldoglielmo/anaconda/lib/python3.6/site-packages/theano/gof/cc.py\", line 1523, in compile_cmodule\n",
      "    preargs=preargs)\n",
      "  File \"/Users/aldoglielmo/anaconda/lib/python3.6/site-packages/theano/gof/cmodule.py\", line 2362, in compile_str\n",
      "    (status, compile_stderr.replace('\\n', '. ')))\n",
      "Exception: (\"Compilation failed (return status=1): In file included from /Users/aldoglielmo/.theano/compiledir_Darwin-17.4.0-x86_64-i386-64bit-i386-3.6.0-64/tmp3g7evzua/mod.cpp:1:. In file included from /Users/aldoglielmo/anaconda/include/python3.6m/Python.h:25:. /Users/aldoglielmo/anaconda/bin/../include/c++/v1/stdio.h:108:15: fatal error: 'stdio.h' file not found. #include_next <stdio.h>.               ^~~~~~~~~. 1 error generated.. \", '[InplaceDimShuffle{x,x}(TensorConstant{-4999999999.999999})]')\n",
      "\n"
     ]
    },
    {
     "name": "stdout",
     "output_type": "stream",
     "text": [
      "\n",
      "You can find the C code in this temporary file: /var/folders/hr/4m44n3ss4fjfbzgdtznkl4q00000gn/T/theano_compilation_error_gxy6vn3_\n"
     ]
    },
    {
     "name": "stderr",
     "output_type": "stream",
     "text": [
      "ERROR (theano.gof.opt): Optimization failure due to: constant_folding\n",
      "ERROR (theano.gof.opt): node: InplaceDimShuffle{x,x}(TensorConstant{-1.0})\n",
      "ERROR (theano.gof.opt): TRACEBACK:\n",
      "ERROR (theano.gof.opt): Traceback (most recent call last):\n",
      "  File \"/Users/aldoglielmo/anaconda/lib/python3.6/site-packages/theano/gof/opt.py\", line 2019, in process_node\n",
      "    replacements = lopt.transform(node)\n",
      "  File \"/Users/aldoglielmo/anaconda/lib/python3.6/site-packages/theano/tensor/opt.py\", line 6507, in constant_folding\n",
      "    no_recycling=[], impl=impl)\n",
      "  File \"/Users/aldoglielmo/anaconda/lib/python3.6/site-packages/theano/gof/op.py\", line 955, in make_thunk\n",
      "    no_recycling)\n",
      "  File \"/Users/aldoglielmo/anaconda/lib/python3.6/site-packages/theano/gof/op.py\", line 858, in make_c_thunk\n",
      "    output_storage=node_output_storage)\n",
      "  File \"/Users/aldoglielmo/anaconda/lib/python3.6/site-packages/theano/gof/cc.py\", line 1217, in make_thunk\n",
      "    keep_lock=keep_lock)\n",
      "  File \"/Users/aldoglielmo/anaconda/lib/python3.6/site-packages/theano/gof/cc.py\", line 1157, in __compile__\n",
      "    keep_lock=keep_lock)\n",
      "  File \"/Users/aldoglielmo/anaconda/lib/python3.6/site-packages/theano/gof/cc.py\", line 1620, in cthunk_factory\n",
      "    key=key, lnk=self, keep_lock=keep_lock)\n",
      "  File \"/Users/aldoglielmo/anaconda/lib/python3.6/site-packages/theano/gof/cmodule.py\", line 1174, in module_from_key\n",
      "    module = lnk.compile_cmodule(location)\n",
      "  File \"/Users/aldoglielmo/anaconda/lib/python3.6/site-packages/theano/gof/cc.py\", line 1523, in compile_cmodule\n",
      "    preargs=preargs)\n",
      "  File \"/Users/aldoglielmo/anaconda/lib/python3.6/site-packages/theano/gof/cmodule.py\", line 2362, in compile_str\n",
      "    (status, compile_stderr.replace('\\n', '. ')))\n",
      "Exception: (\"Compilation failed (return status=1): In file included from /Users/aldoglielmo/.theano/compiledir_Darwin-17.4.0-x86_64-i386-64bit-i386-3.6.0-64/tmp4118ndgw/mod.cpp:1:. In file included from /Users/aldoglielmo/anaconda/include/python3.6m/Python.h:25:. /Users/aldoglielmo/anaconda/bin/../include/c++/v1/stdio.h:108:15: fatal error: 'stdio.h' file not found. #include_next <stdio.h>.               ^~~~~~~~~. 1 error generated.. \", '[InplaceDimShuffle{x,x}(TensorConstant{-1.0})]')\n",
      "\n"
     ]
    },
    {
     "name": "stdout",
     "output_type": "stream",
     "text": [
      "\n",
      "You can find the C code in this temporary file: /var/folders/hr/4m44n3ss4fjfbzgdtznkl4q00000gn/T/theano_compilation_error_yv5rrblf\n"
     ]
    },
    {
     "name": "stderr",
     "output_type": "stream",
     "text": [
      "ERROR (theano.gof.opt): Optimization failure due to: constant_folding\n",
      "ERROR (theano.gof.opt): node: InplaceDimShuffle{x,x}(TensorConstant{2})\n",
      "ERROR (theano.gof.opt): TRACEBACK:\n",
      "ERROR (theano.gof.opt): Traceback (most recent call last):\n",
      "  File \"/Users/aldoglielmo/anaconda/lib/python3.6/site-packages/theano/gof/opt.py\", line 2019, in process_node\n",
      "    replacements = lopt.transform(node)\n",
      "  File \"/Users/aldoglielmo/anaconda/lib/python3.6/site-packages/theano/tensor/opt.py\", line 6507, in constant_folding\n",
      "    no_recycling=[], impl=impl)\n",
      "  File \"/Users/aldoglielmo/anaconda/lib/python3.6/site-packages/theano/gof/op.py\", line 955, in make_thunk\n",
      "    no_recycling)\n",
      "  File \"/Users/aldoglielmo/anaconda/lib/python3.6/site-packages/theano/gof/op.py\", line 858, in make_c_thunk\n",
      "    output_storage=node_output_storage)\n",
      "  File \"/Users/aldoglielmo/anaconda/lib/python3.6/site-packages/theano/gof/cc.py\", line 1217, in make_thunk\n",
      "    keep_lock=keep_lock)\n",
      "  File \"/Users/aldoglielmo/anaconda/lib/python3.6/site-packages/theano/gof/cc.py\", line 1157, in __compile__\n",
      "    keep_lock=keep_lock)\n",
      "  File \"/Users/aldoglielmo/anaconda/lib/python3.6/site-packages/theano/gof/cc.py\", line 1620, in cthunk_factory\n",
      "    key=key, lnk=self, keep_lock=keep_lock)\n",
      "  File \"/Users/aldoglielmo/anaconda/lib/python3.6/site-packages/theano/gof/cmodule.py\", line 1174, in module_from_key\n",
      "    module = lnk.compile_cmodule(location)\n",
      "  File \"/Users/aldoglielmo/anaconda/lib/python3.6/site-packages/theano/gof/cc.py\", line 1523, in compile_cmodule\n",
      "    preargs=preargs)\n",
      "  File \"/Users/aldoglielmo/anaconda/lib/python3.6/site-packages/theano/gof/cmodule.py\", line 2362, in compile_str\n",
      "    (status, compile_stderr.replace('\\n', '. ')))\n",
      "Exception: (\"Compilation failed (return status=1): In file included from /Users/aldoglielmo/.theano/compiledir_Darwin-17.4.0-x86_64-i386-64bit-i386-3.6.0-64/tmp6c1z9ymi/mod.cpp:1:. In file included from /Users/aldoglielmo/anaconda/include/python3.6m/Python.h:25:. /Users/aldoglielmo/anaconda/bin/../include/c++/v1/stdio.h:108:15: fatal error: 'stdio.h' file not found. #include_next <stdio.h>.               ^~~~~~~~~. 1 error generated.. \", '[InplaceDimShuffle{x,x}(TensorConstant{2})]')\n",
      "\n"
     ]
    },
    {
     "name": "stdout",
     "output_type": "stream",
     "text": [
      "\n",
      "You can find the C code in this temporary file: /var/folders/hr/4m44n3ss4fjfbzgdtznkl4q00000gn/T/theano_compilation_error_8wql_foi\n"
     ]
    },
    {
     "name": "stderr",
     "output_type": "stream",
     "text": [
      "ERROR (theano.gof.opt): Optimization failure due to: constant_folding\n",
      "ERROR (theano.gof.opt): node: InplaceDimShuffle{x,x}(TensorConstant{-4999999999.999999})\n",
      "ERROR (theano.gof.opt): TRACEBACK:\n",
      "ERROR (theano.gof.opt): Traceback (most recent call last):\n",
      "  File \"/Users/aldoglielmo/anaconda/lib/python3.6/site-packages/theano/gof/opt.py\", line 2019, in process_node\n",
      "    replacements = lopt.transform(node)\n",
      "  File \"/Users/aldoglielmo/anaconda/lib/python3.6/site-packages/theano/tensor/opt.py\", line 6507, in constant_folding\n",
      "    no_recycling=[], impl=impl)\n",
      "  File \"/Users/aldoglielmo/anaconda/lib/python3.6/site-packages/theano/gof/op.py\", line 955, in make_thunk\n",
      "    no_recycling)\n",
      "  File \"/Users/aldoglielmo/anaconda/lib/python3.6/site-packages/theano/gof/op.py\", line 858, in make_c_thunk\n",
      "    output_storage=node_output_storage)\n",
      "  File \"/Users/aldoglielmo/anaconda/lib/python3.6/site-packages/theano/gof/cc.py\", line 1217, in make_thunk\n",
      "    keep_lock=keep_lock)\n",
      "  File \"/Users/aldoglielmo/anaconda/lib/python3.6/site-packages/theano/gof/cc.py\", line 1157, in __compile__\n",
      "    keep_lock=keep_lock)\n",
      "  File \"/Users/aldoglielmo/anaconda/lib/python3.6/site-packages/theano/gof/cc.py\", line 1620, in cthunk_factory\n",
      "    key=key, lnk=self, keep_lock=keep_lock)\n",
      "  File \"/Users/aldoglielmo/anaconda/lib/python3.6/site-packages/theano/gof/cmodule.py\", line 1174, in module_from_key\n",
      "    module = lnk.compile_cmodule(location)\n",
      "  File \"/Users/aldoglielmo/anaconda/lib/python3.6/site-packages/theano/gof/cc.py\", line 1523, in compile_cmodule\n",
      "    preargs=preargs)\n",
      "  File \"/Users/aldoglielmo/anaconda/lib/python3.6/site-packages/theano/gof/cmodule.py\", line 2362, in compile_str\n",
      "    (status, compile_stderr.replace('\\n', '. ')))\n",
      "Exception: (\"Compilation failed (return status=1): In file included from /Users/aldoglielmo/.theano/compiledir_Darwin-17.4.0-x86_64-i386-64bit-i386-3.6.0-64/tmp1v97jqx1/mod.cpp:1:. In file included from /Users/aldoglielmo/anaconda/include/python3.6m/Python.h:25:. /Users/aldoglielmo/anaconda/bin/../include/c++/v1/stdio.h:108:15: fatal error: 'stdio.h' file not found. #include_next <stdio.h>.               ^~~~~~~~~. 1 error generated.. \", '[InplaceDimShuffle{x,x}(TensorConstant{-4999999999.999999})]')\n",
      "\n"
     ]
    },
    {
     "name": "stdout",
     "output_type": "stream",
     "text": [
      "\n",
      "You can find the C code in this temporary file: /var/folders/hr/4m44n3ss4fjfbzgdtznkl4q00000gn/T/theano_compilation_error_g3ggl7ly\n"
     ]
    },
    {
     "name": "stderr",
     "output_type": "stream",
     "text": [
      "ERROR (theano.gof.opt): Optimization failure due to: constant_folding\n",
      "ERROR (theano.gof.opt): node: InplaceDimShuffle{x,x}(TensorConstant{-1.0})\n",
      "ERROR (theano.gof.opt): TRACEBACK:\n",
      "ERROR (theano.gof.opt): Traceback (most recent call last):\n",
      "  File \"/Users/aldoglielmo/anaconda/lib/python3.6/site-packages/theano/gof/opt.py\", line 2019, in process_node\n",
      "    replacements = lopt.transform(node)\n",
      "  File \"/Users/aldoglielmo/anaconda/lib/python3.6/site-packages/theano/tensor/opt.py\", line 6507, in constant_folding\n",
      "    no_recycling=[], impl=impl)\n",
      "  File \"/Users/aldoglielmo/anaconda/lib/python3.6/site-packages/theano/gof/op.py\", line 955, in make_thunk\n",
      "    no_recycling)\n",
      "  File \"/Users/aldoglielmo/anaconda/lib/python3.6/site-packages/theano/gof/op.py\", line 858, in make_c_thunk\n",
      "    output_storage=node_output_storage)\n",
      "  File \"/Users/aldoglielmo/anaconda/lib/python3.6/site-packages/theano/gof/cc.py\", line 1217, in make_thunk\n",
      "    keep_lock=keep_lock)\n",
      "  File \"/Users/aldoglielmo/anaconda/lib/python3.6/site-packages/theano/gof/cc.py\", line 1157, in __compile__\n",
      "    keep_lock=keep_lock)\n",
      "  File \"/Users/aldoglielmo/anaconda/lib/python3.6/site-packages/theano/gof/cc.py\", line 1620, in cthunk_factory\n",
      "    key=key, lnk=self, keep_lock=keep_lock)\n",
      "  File \"/Users/aldoglielmo/anaconda/lib/python3.6/site-packages/theano/gof/cmodule.py\", line 1174, in module_from_key\n",
      "    module = lnk.compile_cmodule(location)\n",
      "  File \"/Users/aldoglielmo/anaconda/lib/python3.6/site-packages/theano/gof/cc.py\", line 1523, in compile_cmodule\n",
      "    preargs=preargs)\n",
      "  File \"/Users/aldoglielmo/anaconda/lib/python3.6/site-packages/theano/gof/cmodule.py\", line 2362, in compile_str\n",
      "    (status, compile_stderr.replace('\\n', '. ')))\n",
      "Exception: (\"Compilation failed (return status=1): In file included from /Users/aldoglielmo/.theano/compiledir_Darwin-17.4.0-x86_64-i386-64bit-i386-3.6.0-64/tmpe22nxg8l/mod.cpp:1:. In file included from /Users/aldoglielmo/anaconda/include/python3.6m/Python.h:25:. /Users/aldoglielmo/anaconda/bin/../include/c++/v1/stdio.h:108:15: fatal error: 'stdio.h' file not found. #include_next <stdio.h>.               ^~~~~~~~~. 1 error generated.. \", '[InplaceDimShuffle{x,x}(TensorConstant{-1.0})]')\n",
      "\n"
     ]
    },
    {
     "name": "stdout",
     "output_type": "stream",
     "text": [
      "\n",
      "You can find the C code in this temporary file: /var/folders/hr/4m44n3ss4fjfbzgdtznkl4q00000gn/T/theano_compilation_error_f3exwsum\n"
     ]
    },
    {
     "name": "stderr",
     "output_type": "stream",
     "text": [
      "ERROR (theano.gof.opt): Optimization failure due to: constant_folding\n",
      "ERROR (theano.gof.opt): node: InplaceDimShuffle{x,x}(TensorConstant{2})\n",
      "ERROR (theano.gof.opt): TRACEBACK:\n",
      "ERROR (theano.gof.opt): Traceback (most recent call last):\n",
      "  File \"/Users/aldoglielmo/anaconda/lib/python3.6/site-packages/theano/gof/opt.py\", line 2019, in process_node\n",
      "    replacements = lopt.transform(node)\n",
      "  File \"/Users/aldoglielmo/anaconda/lib/python3.6/site-packages/theano/tensor/opt.py\", line 6507, in constant_folding\n",
      "    no_recycling=[], impl=impl)\n",
      "  File \"/Users/aldoglielmo/anaconda/lib/python3.6/site-packages/theano/gof/op.py\", line 955, in make_thunk\n",
      "    no_recycling)\n",
      "  File \"/Users/aldoglielmo/anaconda/lib/python3.6/site-packages/theano/gof/op.py\", line 858, in make_c_thunk\n",
      "    output_storage=node_output_storage)\n",
      "  File \"/Users/aldoglielmo/anaconda/lib/python3.6/site-packages/theano/gof/cc.py\", line 1217, in make_thunk\n",
      "    keep_lock=keep_lock)\n",
      "  File \"/Users/aldoglielmo/anaconda/lib/python3.6/site-packages/theano/gof/cc.py\", line 1157, in __compile__\n",
      "    keep_lock=keep_lock)\n",
      "  File \"/Users/aldoglielmo/anaconda/lib/python3.6/site-packages/theano/gof/cc.py\", line 1620, in cthunk_factory\n",
      "    key=key, lnk=self, keep_lock=keep_lock)\n",
      "  File \"/Users/aldoglielmo/anaconda/lib/python3.6/site-packages/theano/gof/cmodule.py\", line 1174, in module_from_key\n",
      "    module = lnk.compile_cmodule(location)\n",
      "  File \"/Users/aldoglielmo/anaconda/lib/python3.6/site-packages/theano/gof/cc.py\", line 1523, in compile_cmodule\n",
      "    preargs=preargs)\n",
      "  File \"/Users/aldoglielmo/anaconda/lib/python3.6/site-packages/theano/gof/cmodule.py\", line 2362, in compile_str\n",
      "    (status, compile_stderr.replace('\\n', '. ')))\n",
      "Exception: (\"Compilation failed (return status=1): In file included from /Users/aldoglielmo/.theano/compiledir_Darwin-17.4.0-x86_64-i386-64bit-i386-3.6.0-64/tmpc025_6qn/mod.cpp:1:. In file included from /Users/aldoglielmo/anaconda/include/python3.6m/Python.h:25:. /Users/aldoglielmo/anaconda/bin/../include/c++/v1/stdio.h:108:15: fatal error: 'stdio.h' file not found. #include_next <stdio.h>.               ^~~~~~~~~. 1 error generated.. \", '[InplaceDimShuffle{x,x}(TensorConstant{2})]')\n",
      "\n"
     ]
    },
    {
     "name": "stdout",
     "output_type": "stream",
     "text": [
      "\n",
      "You can find the C code in this temporary file: /var/folders/hr/4m44n3ss4fjfbzgdtznkl4q00000gn/T/theano_compilation_error_5s5c05hg\n"
     ]
    },
    {
     "name": "stderr",
     "output_type": "stream",
     "text": [
      "ERROR (theano.gof.opt): Optimization failure due to: constant_folding\n",
      "ERROR (theano.gof.opt): node: InplaceDimShuffle{x,x}(TensorConstant{-4999999999.999999})\n",
      "ERROR (theano.gof.opt): TRACEBACK:\n",
      "ERROR (theano.gof.opt): Traceback (most recent call last):\n",
      "  File \"/Users/aldoglielmo/anaconda/lib/python3.6/site-packages/theano/gof/opt.py\", line 2019, in process_node\n",
      "    replacements = lopt.transform(node)\n",
      "  File \"/Users/aldoglielmo/anaconda/lib/python3.6/site-packages/theano/tensor/opt.py\", line 6507, in constant_folding\n",
      "    no_recycling=[], impl=impl)\n",
      "  File \"/Users/aldoglielmo/anaconda/lib/python3.6/site-packages/theano/gof/op.py\", line 955, in make_thunk\n",
      "    no_recycling)\n",
      "  File \"/Users/aldoglielmo/anaconda/lib/python3.6/site-packages/theano/gof/op.py\", line 858, in make_c_thunk\n",
      "    output_storage=node_output_storage)\n",
      "  File \"/Users/aldoglielmo/anaconda/lib/python3.6/site-packages/theano/gof/cc.py\", line 1217, in make_thunk\n",
      "    keep_lock=keep_lock)\n",
      "  File \"/Users/aldoglielmo/anaconda/lib/python3.6/site-packages/theano/gof/cc.py\", line 1157, in __compile__\n",
      "    keep_lock=keep_lock)\n",
      "  File \"/Users/aldoglielmo/anaconda/lib/python3.6/site-packages/theano/gof/cc.py\", line 1620, in cthunk_factory\n",
      "    key=key, lnk=self, keep_lock=keep_lock)\n",
      "  File \"/Users/aldoglielmo/anaconda/lib/python3.6/site-packages/theano/gof/cmodule.py\", line 1174, in module_from_key\n",
      "    module = lnk.compile_cmodule(location)\n",
      "  File \"/Users/aldoglielmo/anaconda/lib/python3.6/site-packages/theano/gof/cc.py\", line 1523, in compile_cmodule\n",
      "    preargs=preargs)\n",
      "  File \"/Users/aldoglielmo/anaconda/lib/python3.6/site-packages/theano/gof/cmodule.py\", line 2362, in compile_str\n",
      "    (status, compile_stderr.replace('\\n', '. ')))\n",
      "Exception: (\"Compilation failed (return status=1): In file included from /Users/aldoglielmo/.theano/compiledir_Darwin-17.4.0-x86_64-i386-64bit-i386-3.6.0-64/tmpxwntyav1/mod.cpp:1:. In file included from /Users/aldoglielmo/anaconda/include/python3.6m/Python.h:25:. /Users/aldoglielmo/anaconda/bin/../include/c++/v1/stdio.h:108:15: fatal error: 'stdio.h' file not found. #include_next <stdio.h>.               ^~~~~~~~~. 1 error generated.. \", '[InplaceDimShuffle{x,x}(TensorConstant{-4999999999.999999})]')\n",
      "\n"
     ]
    },
    {
     "name": "stdout",
     "output_type": "stream",
     "text": [
      "\n",
      "You can find the C code in this temporary file: /var/folders/hr/4m44n3ss4fjfbzgdtznkl4q00000gn/T/theano_compilation_error_e4hwhjzg\n"
     ]
    },
    {
     "name": "stderr",
     "output_type": "stream",
     "text": [
      "ERROR (theano.gof.opt): Optimization failure due to: constant_folding\n",
      "ERROR (theano.gof.opt): node: InplaceDimShuffle{x,x}(TensorConstant{-1.0})\n",
      "ERROR (theano.gof.opt): TRACEBACK:\n",
      "ERROR (theano.gof.opt): Traceback (most recent call last):\n",
      "  File \"/Users/aldoglielmo/anaconda/lib/python3.6/site-packages/theano/gof/opt.py\", line 2019, in process_node\n",
      "    replacements = lopt.transform(node)\n",
      "  File \"/Users/aldoglielmo/anaconda/lib/python3.6/site-packages/theano/tensor/opt.py\", line 6507, in constant_folding\n",
      "    no_recycling=[], impl=impl)\n",
      "  File \"/Users/aldoglielmo/anaconda/lib/python3.6/site-packages/theano/gof/op.py\", line 955, in make_thunk\n",
      "    no_recycling)\n",
      "  File \"/Users/aldoglielmo/anaconda/lib/python3.6/site-packages/theano/gof/op.py\", line 858, in make_c_thunk\n",
      "    output_storage=node_output_storage)\n",
      "  File \"/Users/aldoglielmo/anaconda/lib/python3.6/site-packages/theano/gof/cc.py\", line 1217, in make_thunk\n",
      "    keep_lock=keep_lock)\n",
      "  File \"/Users/aldoglielmo/anaconda/lib/python3.6/site-packages/theano/gof/cc.py\", line 1157, in __compile__\n",
      "    keep_lock=keep_lock)\n",
      "  File \"/Users/aldoglielmo/anaconda/lib/python3.6/site-packages/theano/gof/cc.py\", line 1620, in cthunk_factory\n",
      "    key=key, lnk=self, keep_lock=keep_lock)\n",
      "  File \"/Users/aldoglielmo/anaconda/lib/python3.6/site-packages/theano/gof/cmodule.py\", line 1174, in module_from_key\n",
      "    module = lnk.compile_cmodule(location)\n",
      "  File \"/Users/aldoglielmo/anaconda/lib/python3.6/site-packages/theano/gof/cc.py\", line 1523, in compile_cmodule\n",
      "    preargs=preargs)\n",
      "  File \"/Users/aldoglielmo/anaconda/lib/python3.6/site-packages/theano/gof/cmodule.py\", line 2362, in compile_str\n",
      "    (status, compile_stderr.replace('\\n', '. ')))\n",
      "Exception: (\"Compilation failed (return status=1): In file included from /Users/aldoglielmo/.theano/compiledir_Darwin-17.4.0-x86_64-i386-64bit-i386-3.6.0-64/tmpbdjo2fp8/mod.cpp:1:. In file included from /Users/aldoglielmo/anaconda/include/python3.6m/Python.h:25:. /Users/aldoglielmo/anaconda/bin/../include/c++/v1/stdio.h:108:15: fatal error: 'stdio.h' file not found. #include_next <stdio.h>.               ^~~~~~~~~. 1 error generated.. \", '[InplaceDimShuffle{x,x}(TensorConstant{-1.0})]')\n",
      "\n",
      "INFO (theano.gof.compilelock): Refreshing lock /Users/aldoglielmo/.theano/compiledir_Darwin-17.4.0-x86_64-i386-64bit-i386-3.6.0-64/lock_dir/lock\n"
     ]
    },
    {
     "name": "stdout",
     "output_type": "stream",
     "text": [
      "\n",
      "You can find the C code in this temporary file: /var/folders/hr/4m44n3ss4fjfbzgdtznkl4q00000gn/T/theano_compilation_error_gpzvrqb4\n"
     ]
    },
    {
     "name": "stderr",
     "output_type": "stream",
     "text": [
      "ERROR (theano.gof.opt): Optimization failure due to: constant_folding\n",
      "ERROR (theano.gof.opt): node: InplaceDimShuffle{x,x}(TensorConstant{2})\n",
      "ERROR (theano.gof.opt): TRACEBACK:\n",
      "ERROR (theano.gof.opt): Traceback (most recent call last):\n",
      "  File \"/Users/aldoglielmo/anaconda/lib/python3.6/site-packages/theano/gof/opt.py\", line 2019, in process_node\n",
      "    replacements = lopt.transform(node)\n",
      "  File \"/Users/aldoglielmo/anaconda/lib/python3.6/site-packages/theano/tensor/opt.py\", line 6507, in constant_folding\n",
      "    no_recycling=[], impl=impl)\n",
      "  File \"/Users/aldoglielmo/anaconda/lib/python3.6/site-packages/theano/gof/op.py\", line 955, in make_thunk\n",
      "    no_recycling)\n",
      "  File \"/Users/aldoglielmo/anaconda/lib/python3.6/site-packages/theano/gof/op.py\", line 858, in make_c_thunk\n",
      "    output_storage=node_output_storage)\n",
      "  File \"/Users/aldoglielmo/anaconda/lib/python3.6/site-packages/theano/gof/cc.py\", line 1217, in make_thunk\n",
      "    keep_lock=keep_lock)\n",
      "  File \"/Users/aldoglielmo/anaconda/lib/python3.6/site-packages/theano/gof/cc.py\", line 1157, in __compile__\n",
      "    keep_lock=keep_lock)\n",
      "  File \"/Users/aldoglielmo/anaconda/lib/python3.6/site-packages/theano/gof/cc.py\", line 1620, in cthunk_factory\n",
      "    key=key, lnk=self, keep_lock=keep_lock)\n",
      "  File \"/Users/aldoglielmo/anaconda/lib/python3.6/site-packages/theano/gof/cmodule.py\", line 1174, in module_from_key\n",
      "    module = lnk.compile_cmodule(location)\n",
      "  File \"/Users/aldoglielmo/anaconda/lib/python3.6/site-packages/theano/gof/cc.py\", line 1523, in compile_cmodule\n",
      "    preargs=preargs)\n",
      "  File \"/Users/aldoglielmo/anaconda/lib/python3.6/site-packages/theano/gof/cmodule.py\", line 2362, in compile_str\n",
      "    (status, compile_stderr.replace('\\n', '. ')))\n",
      "Exception: (\"Compilation failed (return status=1): In file included from /Users/aldoglielmo/.theano/compiledir_Darwin-17.4.0-x86_64-i386-64bit-i386-3.6.0-64/tmp2gcl4luf/mod.cpp:1:. In file included from /Users/aldoglielmo/anaconda/include/python3.6m/Python.h:25:. /Users/aldoglielmo/anaconda/bin/../include/c++/v1/stdio.h:108:15: fatal error: 'stdio.h' file not found. #include_next <stdio.h>.               ^~~~~~~~~. 1 error generated.. \", '[InplaceDimShuffle{x,x}(TensorConstant{2})]')\n",
      "\n"
     ]
    },
    {
     "name": "stdout",
     "output_type": "stream",
     "text": [
      "\n",
      "You can find the C code in this temporary file: /var/folders/hr/4m44n3ss4fjfbzgdtznkl4q00000gn/T/theano_compilation_error_z3r4dxwo\n"
     ]
    },
    {
     "name": "stderr",
     "output_type": "stream",
     "text": [
      "ERROR (theano.gof.opt): Optimization failure due to: constant_folding\n",
      "ERROR (theano.gof.opt): node: InplaceDimShuffle{x,x}(TensorConstant{-4999999999.999999})\n",
      "ERROR (theano.gof.opt): TRACEBACK:\n",
      "ERROR (theano.gof.opt): Traceback (most recent call last):\n",
      "  File \"/Users/aldoglielmo/anaconda/lib/python3.6/site-packages/theano/gof/opt.py\", line 2019, in process_node\n",
      "    replacements = lopt.transform(node)\n",
      "  File \"/Users/aldoglielmo/anaconda/lib/python3.6/site-packages/theano/tensor/opt.py\", line 6507, in constant_folding\n",
      "    no_recycling=[], impl=impl)\n",
      "  File \"/Users/aldoglielmo/anaconda/lib/python3.6/site-packages/theano/gof/op.py\", line 955, in make_thunk\n",
      "    no_recycling)\n",
      "  File \"/Users/aldoglielmo/anaconda/lib/python3.6/site-packages/theano/gof/op.py\", line 858, in make_c_thunk\n",
      "    output_storage=node_output_storage)\n",
      "  File \"/Users/aldoglielmo/anaconda/lib/python3.6/site-packages/theano/gof/cc.py\", line 1217, in make_thunk\n",
      "    keep_lock=keep_lock)\n",
      "  File \"/Users/aldoglielmo/anaconda/lib/python3.6/site-packages/theano/gof/cc.py\", line 1157, in __compile__\n",
      "    keep_lock=keep_lock)\n",
      "  File \"/Users/aldoglielmo/anaconda/lib/python3.6/site-packages/theano/gof/cc.py\", line 1620, in cthunk_factory\n",
      "    key=key, lnk=self, keep_lock=keep_lock)\n",
      "  File \"/Users/aldoglielmo/anaconda/lib/python3.6/site-packages/theano/gof/cmodule.py\", line 1174, in module_from_key\n",
      "    module = lnk.compile_cmodule(location)\n",
      "  File \"/Users/aldoglielmo/anaconda/lib/python3.6/site-packages/theano/gof/cc.py\", line 1523, in compile_cmodule\n",
      "    preargs=preargs)\n",
      "  File \"/Users/aldoglielmo/anaconda/lib/python3.6/site-packages/theano/gof/cmodule.py\", line 2362, in compile_str\n",
      "    (status, compile_stderr.replace('\\n', '. ')))\n",
      "Exception: (\"Compilation failed (return status=1): In file included from /Users/aldoglielmo/.theano/compiledir_Darwin-17.4.0-x86_64-i386-64bit-i386-3.6.0-64/tmpzbgry8h_/mod.cpp:1:. In file included from /Users/aldoglielmo/anaconda/include/python3.6m/Python.h:25:. /Users/aldoglielmo/anaconda/bin/../include/c++/v1/stdio.h:108:15: fatal error: 'stdio.h' file not found. #include_next <stdio.h>.               ^~~~~~~~~. 1 error generated.. \", '[InplaceDimShuffle{x,x}(TensorConstant{-4999999999.999999})]')\n",
      "\n"
     ]
    },
    {
     "name": "stdout",
     "output_type": "stream",
     "text": [
      "\n",
      "You can find the C code in this temporary file: /var/folders/hr/4m44n3ss4fjfbzgdtznkl4q00000gn/T/theano_compilation_error_6uc1n1f7\n"
     ]
    },
    {
     "name": "stderr",
     "output_type": "stream",
     "text": [
      "ERROR (theano.gof.opt): Optimization failure due to: constant_folding\n",
      "ERROR (theano.gof.opt): node: InplaceDimShuffle{x,x}(TensorConstant{-1.0})\n",
      "ERROR (theano.gof.opt): TRACEBACK:\n",
      "ERROR (theano.gof.opt): Traceback (most recent call last):\n",
      "  File \"/Users/aldoglielmo/anaconda/lib/python3.6/site-packages/theano/gof/opt.py\", line 2019, in process_node\n",
      "    replacements = lopt.transform(node)\n",
      "  File \"/Users/aldoglielmo/anaconda/lib/python3.6/site-packages/theano/tensor/opt.py\", line 6507, in constant_folding\n",
      "    no_recycling=[], impl=impl)\n",
      "  File \"/Users/aldoglielmo/anaconda/lib/python3.6/site-packages/theano/gof/op.py\", line 955, in make_thunk\n",
      "    no_recycling)\n",
      "  File \"/Users/aldoglielmo/anaconda/lib/python3.6/site-packages/theano/gof/op.py\", line 858, in make_c_thunk\n",
      "    output_storage=node_output_storage)\n",
      "  File \"/Users/aldoglielmo/anaconda/lib/python3.6/site-packages/theano/gof/cc.py\", line 1217, in make_thunk\n",
      "    keep_lock=keep_lock)\n",
      "  File \"/Users/aldoglielmo/anaconda/lib/python3.6/site-packages/theano/gof/cc.py\", line 1157, in __compile__\n",
      "    keep_lock=keep_lock)\n",
      "  File \"/Users/aldoglielmo/anaconda/lib/python3.6/site-packages/theano/gof/cc.py\", line 1620, in cthunk_factory\n",
      "    key=key, lnk=self, keep_lock=keep_lock)\n",
      "  File \"/Users/aldoglielmo/anaconda/lib/python3.6/site-packages/theano/gof/cmodule.py\", line 1174, in module_from_key\n",
      "    module = lnk.compile_cmodule(location)\n",
      "  File \"/Users/aldoglielmo/anaconda/lib/python3.6/site-packages/theano/gof/cc.py\", line 1523, in compile_cmodule\n",
      "    preargs=preargs)\n",
      "  File \"/Users/aldoglielmo/anaconda/lib/python3.6/site-packages/theano/gof/cmodule.py\", line 2362, in compile_str\n",
      "    (status, compile_stderr.replace('\\n', '. ')))\n",
      "Exception: (\"Compilation failed (return status=1): In file included from /Users/aldoglielmo/.theano/compiledir_Darwin-17.4.0-x86_64-i386-64bit-i386-3.6.0-64/tmpb7w3z0bs/mod.cpp:1:. In file included from /Users/aldoglielmo/anaconda/include/python3.6m/Python.h:25:. /Users/aldoglielmo/anaconda/bin/../include/c++/v1/stdio.h:108:15: fatal error: 'stdio.h' file not found. #include_next <stdio.h>.               ^~~~~~~~~. 1 error generated.. \", '[InplaceDimShuffle{x,x}(TensorConstant{-1.0})]')\n",
      "\n"
     ]
    },
    {
     "name": "stdout",
     "output_type": "stream",
     "text": [
      "\n",
      "You can find the C code in this temporary file: /var/folders/hr/4m44n3ss4fjfbzgdtznkl4q00000gn/T/theano_compilation_error_9sttwvhw\n"
     ]
    },
    {
     "name": "stderr",
     "output_type": "stream",
     "text": [
      "ERROR (theano.gof.opt): Optimization failure due to: constant_folding\n",
      "ERROR (theano.gof.opt): node: InplaceDimShuffle{x,x}(TensorConstant{2})\n",
      "ERROR (theano.gof.opt): TRACEBACK:\n",
      "ERROR (theano.gof.opt): Traceback (most recent call last):\n",
      "  File \"/Users/aldoglielmo/anaconda/lib/python3.6/site-packages/theano/gof/opt.py\", line 2019, in process_node\n",
      "    replacements = lopt.transform(node)\n",
      "  File \"/Users/aldoglielmo/anaconda/lib/python3.6/site-packages/theano/tensor/opt.py\", line 6507, in constant_folding\n",
      "    no_recycling=[], impl=impl)\n",
      "  File \"/Users/aldoglielmo/anaconda/lib/python3.6/site-packages/theano/gof/op.py\", line 955, in make_thunk\n",
      "    no_recycling)\n",
      "  File \"/Users/aldoglielmo/anaconda/lib/python3.6/site-packages/theano/gof/op.py\", line 858, in make_c_thunk\n",
      "    output_storage=node_output_storage)\n",
      "  File \"/Users/aldoglielmo/anaconda/lib/python3.6/site-packages/theano/gof/cc.py\", line 1217, in make_thunk\n",
      "    keep_lock=keep_lock)\n",
      "  File \"/Users/aldoglielmo/anaconda/lib/python3.6/site-packages/theano/gof/cc.py\", line 1157, in __compile__\n",
      "    keep_lock=keep_lock)\n",
      "  File \"/Users/aldoglielmo/anaconda/lib/python3.6/site-packages/theano/gof/cc.py\", line 1620, in cthunk_factory\n",
      "    key=key, lnk=self, keep_lock=keep_lock)\n",
      "  File \"/Users/aldoglielmo/anaconda/lib/python3.6/site-packages/theano/gof/cmodule.py\", line 1174, in module_from_key\n",
      "    module = lnk.compile_cmodule(location)\n",
      "  File \"/Users/aldoglielmo/anaconda/lib/python3.6/site-packages/theano/gof/cc.py\", line 1523, in compile_cmodule\n",
      "    preargs=preargs)\n",
      "  File \"/Users/aldoglielmo/anaconda/lib/python3.6/site-packages/theano/gof/cmodule.py\", line 2362, in compile_str\n",
      "    (status, compile_stderr.replace('\\n', '. ')))\n",
      "Exception: (\"Compilation failed (return status=1): In file included from /Users/aldoglielmo/.theano/compiledir_Darwin-17.4.0-x86_64-i386-64bit-i386-3.6.0-64/tmpgz877cwo/mod.cpp:1:. In file included from /Users/aldoglielmo/anaconda/include/python3.6m/Python.h:25:. /Users/aldoglielmo/anaconda/bin/../include/c++/v1/stdio.h:108:15: fatal error: 'stdio.h' file not found. #include_next <stdio.h>.               ^~~~~~~~~. 1 error generated.. \", '[InplaceDimShuffle{x,x}(TensorConstant{2})]')\n",
      "\n"
     ]
    },
    {
     "name": "stdout",
     "output_type": "stream",
     "text": [
      "\n",
      "You can find the C code in this temporary file: /var/folders/hr/4m44n3ss4fjfbzgdtznkl4q00000gn/T/theano_compilation_error_qy__vsb4\n"
     ]
    },
    {
     "name": "stderr",
     "output_type": "stream",
     "text": [
      "ERROR (theano.gof.opt): Optimization failure due to: constant_folding\n",
      "ERROR (theano.gof.opt): node: InplaceDimShuffle{x,x}(TensorConstant{-4999999999.999999})\n",
      "ERROR (theano.gof.opt): TRACEBACK:\n",
      "ERROR (theano.gof.opt): Traceback (most recent call last):\n",
      "  File \"/Users/aldoglielmo/anaconda/lib/python3.6/site-packages/theano/gof/opt.py\", line 2019, in process_node\n",
      "    replacements = lopt.transform(node)\n",
      "  File \"/Users/aldoglielmo/anaconda/lib/python3.6/site-packages/theano/tensor/opt.py\", line 6507, in constant_folding\n",
      "    no_recycling=[], impl=impl)\n",
      "  File \"/Users/aldoglielmo/anaconda/lib/python3.6/site-packages/theano/gof/op.py\", line 955, in make_thunk\n",
      "    no_recycling)\n",
      "  File \"/Users/aldoglielmo/anaconda/lib/python3.6/site-packages/theano/gof/op.py\", line 858, in make_c_thunk\n",
      "    output_storage=node_output_storage)\n",
      "  File \"/Users/aldoglielmo/anaconda/lib/python3.6/site-packages/theano/gof/cc.py\", line 1217, in make_thunk\n",
      "    keep_lock=keep_lock)\n",
      "  File \"/Users/aldoglielmo/anaconda/lib/python3.6/site-packages/theano/gof/cc.py\", line 1157, in __compile__\n",
      "    keep_lock=keep_lock)\n",
      "  File \"/Users/aldoglielmo/anaconda/lib/python3.6/site-packages/theano/gof/cc.py\", line 1620, in cthunk_factory\n",
      "    key=key, lnk=self, keep_lock=keep_lock)\n",
      "  File \"/Users/aldoglielmo/anaconda/lib/python3.6/site-packages/theano/gof/cmodule.py\", line 1174, in module_from_key\n",
      "    module = lnk.compile_cmodule(location)\n",
      "  File \"/Users/aldoglielmo/anaconda/lib/python3.6/site-packages/theano/gof/cc.py\", line 1523, in compile_cmodule\n",
      "    preargs=preargs)\n",
      "  File \"/Users/aldoglielmo/anaconda/lib/python3.6/site-packages/theano/gof/cmodule.py\", line 2362, in compile_str\n",
      "    (status, compile_stderr.replace('\\n', '. ')))\n",
      "Exception: (\"Compilation failed (return status=1): In file included from /Users/aldoglielmo/.theano/compiledir_Darwin-17.4.0-x86_64-i386-64bit-i386-3.6.0-64/tmpku0iilan/mod.cpp:1:. In file included from /Users/aldoglielmo/anaconda/include/python3.6m/Python.h:25:. /Users/aldoglielmo/anaconda/bin/../include/c++/v1/stdio.h:108:15: fatal error: 'stdio.h' file not found. #include_next <stdio.h>.               ^~~~~~~~~. 1 error generated.. \", '[InplaceDimShuffle{x,x}(TensorConstant{-4999999999.999999})]')\n",
      "\n"
     ]
    },
    {
     "name": "stdout",
     "output_type": "stream",
     "text": [
      "\n",
      "You can find the C code in this temporary file: /var/folders/hr/4m44n3ss4fjfbzgdtznkl4q00000gn/T/theano_compilation_error_tiur1k0_\n"
     ]
    },
    {
     "name": "stderr",
     "output_type": "stream",
     "text": [
      "ERROR (theano.gof.opt): Optimization failure due to: constant_folding\n",
      "ERROR (theano.gof.opt): node: InplaceDimShuffle{x,x}(TensorConstant{-1.0})\n",
      "ERROR (theano.gof.opt): TRACEBACK:\n",
      "ERROR (theano.gof.opt): Traceback (most recent call last):\n",
      "  File \"/Users/aldoglielmo/anaconda/lib/python3.6/site-packages/theano/gof/opt.py\", line 2019, in process_node\n",
      "    replacements = lopt.transform(node)\n",
      "  File \"/Users/aldoglielmo/anaconda/lib/python3.6/site-packages/theano/tensor/opt.py\", line 6507, in constant_folding\n",
      "    no_recycling=[], impl=impl)\n",
      "  File \"/Users/aldoglielmo/anaconda/lib/python3.6/site-packages/theano/gof/op.py\", line 955, in make_thunk\n",
      "    no_recycling)\n",
      "  File \"/Users/aldoglielmo/anaconda/lib/python3.6/site-packages/theano/gof/op.py\", line 858, in make_c_thunk\n",
      "    output_storage=node_output_storage)\n",
      "  File \"/Users/aldoglielmo/anaconda/lib/python3.6/site-packages/theano/gof/cc.py\", line 1217, in make_thunk\n",
      "    keep_lock=keep_lock)\n",
      "  File \"/Users/aldoglielmo/anaconda/lib/python3.6/site-packages/theano/gof/cc.py\", line 1157, in __compile__\n",
      "    keep_lock=keep_lock)\n",
      "  File \"/Users/aldoglielmo/anaconda/lib/python3.6/site-packages/theano/gof/cc.py\", line 1620, in cthunk_factory\n",
      "    key=key, lnk=self, keep_lock=keep_lock)\n",
      "  File \"/Users/aldoglielmo/anaconda/lib/python3.6/site-packages/theano/gof/cmodule.py\", line 1174, in module_from_key\n",
      "    module = lnk.compile_cmodule(location)\n",
      "  File \"/Users/aldoglielmo/anaconda/lib/python3.6/site-packages/theano/gof/cc.py\", line 1523, in compile_cmodule\n",
      "    preargs=preargs)\n",
      "  File \"/Users/aldoglielmo/anaconda/lib/python3.6/site-packages/theano/gof/cmodule.py\", line 2362, in compile_str\n",
      "    (status, compile_stderr.replace('\\n', '. ')))\n",
      "Exception: (\"Compilation failed (return status=1): In file included from /Users/aldoglielmo/.theano/compiledir_Darwin-17.4.0-x86_64-i386-64bit-i386-3.6.0-64/tmpcwovcmef/mod.cpp:1:. In file included from /Users/aldoglielmo/anaconda/include/python3.6m/Python.h:25:. /Users/aldoglielmo/anaconda/bin/../include/c++/v1/stdio.h:108:15: fatal error: 'stdio.h' file not found. #include_next <stdio.h>.               ^~~~~~~~~. 1 error generated.. \", '[InplaceDimShuffle{x,x}(TensorConstant{-1.0})]')\n",
      "\n"
     ]
    },
    {
     "name": "stdout",
     "output_type": "stream",
     "text": [
      "\n",
      "You can find the C code in this temporary file: /var/folders/hr/4m44n3ss4fjfbzgdtznkl4q00000gn/T/theano_compilation_error_4gezhii3\n",
      "\n",
      "You can find the C code in this temporary file: /var/folders/hr/4m44n3ss4fjfbzgdtznkl4q00000gn/T/theano_compilation_error_ffgk2gha\n"
     ]
    },
    {
     "ename": "Exception",
     "evalue": "('The following error happened while compiling the node', Subtensor{::, int64:int64:}(rho2, Constant{4}, Constant{5}), '\\n', \"Compilation failed (return status=1): In file included from /Users/aldoglielmo/.theano/compiledir_Darwin-17.4.0-x86_64-i386-64bit-i386-3.6.0-64/tmpizob9b3e/mod.cpp:1:. In file included from /Users/aldoglielmo/anaconda/include/python3.6m/Python.h:25:. /Users/aldoglielmo/anaconda/bin/../include/c++/v1/stdio.h:108:15: fatal error: 'stdio.h' file not found. #include_next <stdio.h>.               ^~~~~~~~~. 1 error generated.. \", '[Subtensor{::, int64:int64:}(rho2, Constant{4}, Constant{5})]')",
     "output_type": "error",
     "traceback": [
      "\u001b[0;31m---------------------------------------------------------------------------\u001b[0m",
      "\u001b[0;31mException\u001b[0m                                 Traceback (most recent call last)",
      "\u001b[0;32m<ipython-input-13-4c3297c41710>\u001b[0m in \u001b[0;36m<module>\u001b[0;34m()\u001b[0m\n\u001b[1;32m      5\u001b[0m \u001b[0;34m\u001b[0m\u001b[0m\n\u001b[1;32m      6\u001b[0m \u001b[0;31m# energy energy kernel\u001b[0m\u001b[0;34m\u001b[0m\u001b[0;34m\u001b[0m\u001b[0m\n\u001b[0;32m----> 7\u001b[0;31m \u001b[0mk_ee_fun\u001b[0m \u001b[0;34m=\u001b[0m \u001b[0mfunction\u001b[0m\u001b[0;34m(\u001b[0m\u001b[0;34m[\u001b[0m\u001b[0mr1\u001b[0m\u001b[0;34m,\u001b[0m \u001b[0mr2\u001b[0m\u001b[0;34m,\u001b[0m \u001b[0mrho1\u001b[0m\u001b[0;34m,\u001b[0m \u001b[0mrho2\u001b[0m\u001b[0;34m,\u001b[0m \u001b[0msig\u001b[0m\u001b[0;34m,\u001b[0m \u001b[0mtheta\u001b[0m\u001b[0;34m,\u001b[0m \u001b[0mrc\u001b[0m\u001b[0;34m]\u001b[0m\u001b[0;34m,\u001b[0m \u001b[0mk\u001b[0m\u001b[0;34m)\u001b[0m\u001b[0;34m\u001b[0m\u001b[0m\n\u001b[0m\u001b[1;32m      8\u001b[0m \u001b[0;34m\u001b[0m\u001b[0m\n\u001b[1;32m      9\u001b[0m \u001b[0;31m# energy force kernel\u001b[0m\u001b[0;34m\u001b[0m\u001b[0;34m\u001b[0m\u001b[0m\n",
      "\u001b[0;32m/Users/aldoglielmo/anaconda/lib/python3.6/site-packages/theano/compile/function.py\u001b[0m in \u001b[0;36mfunction\u001b[0;34m(inputs, outputs, mode, updates, givens, no_default_updates, accept_inplace, name, rebuild_strict, allow_input_downcast, profile, on_unused_input)\u001b[0m\n\u001b[1;32m    315\u001b[0m                    \u001b[0mon_unused_input\u001b[0m\u001b[0;34m=\u001b[0m\u001b[0mon_unused_input\u001b[0m\u001b[0;34m,\u001b[0m\u001b[0;34m\u001b[0m\u001b[0m\n\u001b[1;32m    316\u001b[0m                    \u001b[0mprofile\u001b[0m\u001b[0;34m=\u001b[0m\u001b[0mprofile\u001b[0m\u001b[0;34m,\u001b[0m\u001b[0;34m\u001b[0m\u001b[0m\n\u001b[0;32m--> 317\u001b[0;31m                    output_keys=output_keys)\n\u001b[0m\u001b[1;32m    318\u001b[0m     \u001b[0;32mreturn\u001b[0m \u001b[0mfn\u001b[0m\u001b[0;34m\u001b[0m\u001b[0m\n",
      "\u001b[0;32m/Users/aldoglielmo/anaconda/lib/python3.6/site-packages/theano/compile/pfunc.py\u001b[0m in \u001b[0;36mpfunc\u001b[0;34m(params, outputs, mode, updates, givens, no_default_updates, accept_inplace, name, rebuild_strict, allow_input_downcast, profile, on_unused_input, output_keys)\u001b[0m\n\u001b[1;32m    484\u001b[0m                          \u001b[0maccept_inplace\u001b[0m\u001b[0;34m=\u001b[0m\u001b[0maccept_inplace\u001b[0m\u001b[0;34m,\u001b[0m \u001b[0mname\u001b[0m\u001b[0;34m=\u001b[0m\u001b[0mname\u001b[0m\u001b[0;34m,\u001b[0m\u001b[0;34m\u001b[0m\u001b[0m\n\u001b[1;32m    485\u001b[0m                          \u001b[0mprofile\u001b[0m\u001b[0;34m=\u001b[0m\u001b[0mprofile\u001b[0m\u001b[0;34m,\u001b[0m \u001b[0mon_unused_input\u001b[0m\u001b[0;34m=\u001b[0m\u001b[0mon_unused_input\u001b[0m\u001b[0;34m,\u001b[0m\u001b[0;34m\u001b[0m\u001b[0m\n\u001b[0;32m--> 486\u001b[0;31m                          output_keys=output_keys)\n\u001b[0m\u001b[1;32m    487\u001b[0m \u001b[0;34m\u001b[0m\u001b[0m\n\u001b[1;32m    488\u001b[0m \u001b[0;34m\u001b[0m\u001b[0m\n",
      "\u001b[0;32m/Users/aldoglielmo/anaconda/lib/python3.6/site-packages/theano/compile/function_module.py\u001b[0m in \u001b[0;36morig_function\u001b[0;34m(inputs, outputs, mode, accept_inplace, name, profile, on_unused_input, output_keys)\u001b[0m\n\u001b[1;32m   1839\u001b[0m                   name=name)\n\u001b[1;32m   1840\u001b[0m         \u001b[0;32mwith\u001b[0m \u001b[0mtheano\u001b[0m\u001b[0;34m.\u001b[0m\u001b[0mchange_flags\u001b[0m\u001b[0;34m(\u001b[0m\u001b[0mcompute_test_value\u001b[0m\u001b[0;34m=\u001b[0m\u001b[0;34m\"off\"\u001b[0m\u001b[0;34m)\u001b[0m\u001b[0;34m:\u001b[0m\u001b[0;34m\u001b[0m\u001b[0m\n\u001b[0;32m-> 1841\u001b[0;31m             \u001b[0mfn\u001b[0m \u001b[0;34m=\u001b[0m \u001b[0mm\u001b[0m\u001b[0;34m.\u001b[0m\u001b[0mcreate\u001b[0m\u001b[0;34m(\u001b[0m\u001b[0mdefaults\u001b[0m\u001b[0;34m)\u001b[0m\u001b[0;34m\u001b[0m\u001b[0m\n\u001b[0m\u001b[1;32m   1842\u001b[0m     \u001b[0;32mfinally\u001b[0m\u001b[0;34m:\u001b[0m\u001b[0;34m\u001b[0m\u001b[0m\n\u001b[1;32m   1843\u001b[0m         \u001b[0mt2\u001b[0m \u001b[0;34m=\u001b[0m \u001b[0mtime\u001b[0m\u001b[0;34m.\u001b[0m\u001b[0mtime\u001b[0m\u001b[0;34m(\u001b[0m\u001b[0;34m)\u001b[0m\u001b[0;34m\u001b[0m\u001b[0m\n",
      "\u001b[0;32m/Users/aldoglielmo/anaconda/lib/python3.6/site-packages/theano/compile/function_module.py\u001b[0m in \u001b[0;36mcreate\u001b[0;34m(self, input_storage, trustme, storage_map)\u001b[0m\n\u001b[1;32m   1713\u001b[0m             \u001b[0mtheano\u001b[0m\u001b[0;34m.\u001b[0m\u001b[0mconfig\u001b[0m\u001b[0;34m.\u001b[0m\u001b[0mtraceback\u001b[0m\u001b[0;34m.\u001b[0m\u001b[0mlimit\u001b[0m \u001b[0;34m=\u001b[0m \u001b[0mtheano\u001b[0m\u001b[0;34m.\u001b[0m\u001b[0mconfig\u001b[0m\u001b[0;34m.\u001b[0m\u001b[0mtraceback\u001b[0m\u001b[0;34m.\u001b[0m\u001b[0mcompile_limit\u001b[0m\u001b[0;34m\u001b[0m\u001b[0m\n\u001b[1;32m   1714\u001b[0m             _fn, _i, _o = self.linker.make_thunk(\n\u001b[0;32m-> 1715\u001b[0;31m                 input_storage=input_storage_lists, storage_map=storage_map)\n\u001b[0m\u001b[1;32m   1716\u001b[0m         \u001b[0;32mfinally\u001b[0m\u001b[0;34m:\u001b[0m\u001b[0;34m\u001b[0m\u001b[0m\n\u001b[1;32m   1717\u001b[0m             \u001b[0mtheano\u001b[0m\u001b[0;34m.\u001b[0m\u001b[0mconfig\u001b[0m\u001b[0;34m.\u001b[0m\u001b[0mtraceback\u001b[0m\u001b[0;34m.\u001b[0m\u001b[0mlimit\u001b[0m \u001b[0;34m=\u001b[0m \u001b[0mlimit_orig\u001b[0m\u001b[0;34m\u001b[0m\u001b[0m\n",
      "\u001b[0;32m/Users/aldoglielmo/anaconda/lib/python3.6/site-packages/theano/gof/link.py\u001b[0m in \u001b[0;36mmake_thunk\u001b[0;34m(self, input_storage, output_storage, storage_map)\u001b[0m\n\u001b[1;32m    697\u001b[0m         return self.make_all(input_storage=input_storage,\n\u001b[1;32m    698\u001b[0m                              \u001b[0moutput_storage\u001b[0m\u001b[0;34m=\u001b[0m\u001b[0moutput_storage\u001b[0m\u001b[0;34m,\u001b[0m\u001b[0;34m\u001b[0m\u001b[0m\n\u001b[0;32m--> 699\u001b[0;31m                              storage_map=storage_map)[:3]\n\u001b[0m\u001b[1;32m    700\u001b[0m \u001b[0;34m\u001b[0m\u001b[0m\n\u001b[1;32m    701\u001b[0m     \u001b[0;32mdef\u001b[0m \u001b[0mmake_all\u001b[0m\u001b[0;34m(\u001b[0m\u001b[0mself\u001b[0m\u001b[0;34m,\u001b[0m \u001b[0minput_storage\u001b[0m\u001b[0;34m,\u001b[0m \u001b[0moutput_storage\u001b[0m\u001b[0;34m)\u001b[0m\u001b[0;34m:\u001b[0m\u001b[0;34m\u001b[0m\u001b[0m\n",
      "\u001b[0;32m/Users/aldoglielmo/anaconda/lib/python3.6/site-packages/theano/gof/vm.py\u001b[0m in \u001b[0;36mmake_all\u001b[0;34m(self, profiler, input_storage, output_storage, storage_map)\u001b[0m\n\u001b[1;32m   1082\u001b[0m                                                  \u001b[0mcompute_map\u001b[0m\u001b[0;34m,\u001b[0m\u001b[0;34m\u001b[0m\u001b[0m\n\u001b[1;32m   1083\u001b[0m                                                  \u001b[0;34m[\u001b[0m\u001b[0;34m]\u001b[0m\u001b[0;34m,\u001b[0m\u001b[0;34m\u001b[0m\u001b[0m\n\u001b[0;32m-> 1084\u001b[0;31m                                                  impl=impl))\n\u001b[0m\u001b[1;32m   1085\u001b[0m                 \u001b[0mlinker_make_thunk_time\u001b[0m\u001b[0;34m[\u001b[0m\u001b[0mnode\u001b[0m\u001b[0;34m]\u001b[0m \u001b[0;34m=\u001b[0m \u001b[0mtime\u001b[0m\u001b[0;34m.\u001b[0m\u001b[0mtime\u001b[0m\u001b[0;34m(\u001b[0m\u001b[0;34m)\u001b[0m \u001b[0;34m-\u001b[0m \u001b[0mthunk_start\u001b[0m\u001b[0;34m\u001b[0m\u001b[0m\n\u001b[1;32m   1086\u001b[0m                 \u001b[0;32mif\u001b[0m \u001b[0;32mnot\u001b[0m \u001b[0mhasattr\u001b[0m\u001b[0;34m(\u001b[0m\u001b[0mthunks\u001b[0m\u001b[0;34m[\u001b[0m\u001b[0;34m-\u001b[0m\u001b[0;36m1\u001b[0m\u001b[0;34m]\u001b[0m\u001b[0;34m,\u001b[0m \u001b[0;34m'lazy'\u001b[0m\u001b[0;34m)\u001b[0m\u001b[0;34m:\u001b[0m\u001b[0;34m\u001b[0m\u001b[0m\n",
      "\u001b[0;32m/Users/aldoglielmo/anaconda/lib/python3.6/site-packages/theano/gof/op.py\u001b[0m in \u001b[0;36mmake_thunk\u001b[0;34m(self, node, storage_map, compute_map, no_recycling, impl)\u001b[0m\n\u001b[1;32m    953\u001b[0m             \u001b[0;32mtry\u001b[0m\u001b[0;34m:\u001b[0m\u001b[0;34m\u001b[0m\u001b[0m\n\u001b[1;32m    954\u001b[0m                 return self.make_c_thunk(node, storage_map, compute_map,\n\u001b[0;32m--> 955\u001b[0;31m                                          no_recycling)\n\u001b[0m\u001b[1;32m    956\u001b[0m             \u001b[0;32mexcept\u001b[0m \u001b[0;34m(\u001b[0m\u001b[0mNotImplementedError\u001b[0m\u001b[0;34m,\u001b[0m \u001b[0mutils\u001b[0m\u001b[0;34m.\u001b[0m\u001b[0mMethodNotDefined\u001b[0m\u001b[0;34m)\u001b[0m\u001b[0;34m:\u001b[0m\u001b[0;34m\u001b[0m\u001b[0m\n\u001b[1;32m    957\u001b[0m                 \u001b[0;31m# We requested the c code, so don't catch the error.\u001b[0m\u001b[0;34m\u001b[0m\u001b[0;34m\u001b[0m\u001b[0m\n",
      "\u001b[0;32m/Users/aldoglielmo/anaconda/lib/python3.6/site-packages/theano/gof/op.py\u001b[0m in \u001b[0;36mmake_c_thunk\u001b[0;34m(self, node, storage_map, compute_map, no_recycling)\u001b[0m\n\u001b[1;32m    856\u001b[0m         \u001b[0m_logger\u001b[0m\u001b[0;34m.\u001b[0m\u001b[0mdebug\u001b[0m\u001b[0;34m(\u001b[0m\u001b[0;34m'Trying CLinker.make_thunk'\u001b[0m\u001b[0;34m)\u001b[0m\u001b[0;34m\u001b[0m\u001b[0m\n\u001b[1;32m    857\u001b[0m         outputs = cl.make_thunk(input_storage=node_input_storage,\n\u001b[0;32m--> 858\u001b[0;31m                                 output_storage=node_output_storage)\n\u001b[0m\u001b[1;32m    859\u001b[0m         \u001b[0mthunk\u001b[0m\u001b[0;34m,\u001b[0m \u001b[0mnode_input_filters\u001b[0m\u001b[0;34m,\u001b[0m \u001b[0mnode_output_filters\u001b[0m \u001b[0;34m=\u001b[0m \u001b[0moutputs\u001b[0m\u001b[0;34m\u001b[0m\u001b[0m\n\u001b[1;32m    860\u001b[0m \u001b[0;34m\u001b[0m\u001b[0m\n",
      "\u001b[0;32m/Users/aldoglielmo/anaconda/lib/python3.6/site-packages/theano/gof/cc.py\u001b[0m in \u001b[0;36mmake_thunk\u001b[0;34m(self, input_storage, output_storage, storage_map, keep_lock)\u001b[0m\n\u001b[1;32m   1215\u001b[0m         cthunk, module, in_storage, out_storage, error_storage = self.__compile__(\n\u001b[1;32m   1216\u001b[0m             \u001b[0minput_storage\u001b[0m\u001b[0;34m,\u001b[0m \u001b[0moutput_storage\u001b[0m\u001b[0;34m,\u001b[0m \u001b[0mstorage_map\u001b[0m\u001b[0;34m,\u001b[0m\u001b[0;34m\u001b[0m\u001b[0m\n\u001b[0;32m-> 1217\u001b[0;31m             keep_lock=keep_lock)\n\u001b[0m\u001b[1;32m   1218\u001b[0m \u001b[0;34m\u001b[0m\u001b[0m\n\u001b[1;32m   1219\u001b[0m         \u001b[0mres\u001b[0m \u001b[0;34m=\u001b[0m \u001b[0m_CThunk\u001b[0m\u001b[0;34m(\u001b[0m\u001b[0mcthunk\u001b[0m\u001b[0;34m,\u001b[0m \u001b[0minit_tasks\u001b[0m\u001b[0;34m,\u001b[0m \u001b[0mtasks\u001b[0m\u001b[0;34m,\u001b[0m \u001b[0merror_storage\u001b[0m\u001b[0;34m,\u001b[0m \u001b[0mmodule\u001b[0m\u001b[0;34m)\u001b[0m\u001b[0;34m\u001b[0m\u001b[0m\n",
      "\u001b[0;32m/Users/aldoglielmo/anaconda/lib/python3.6/site-packages/theano/gof/cc.py\u001b[0m in \u001b[0;36m__compile__\u001b[0;34m(self, input_storage, output_storage, storage_map, keep_lock)\u001b[0m\n\u001b[1;32m   1155\u001b[0m                                             \u001b[0moutput_storage\u001b[0m\u001b[0;34m,\u001b[0m\u001b[0;34m\u001b[0m\u001b[0m\n\u001b[1;32m   1156\u001b[0m                                             \u001b[0mstorage_map\u001b[0m\u001b[0;34m,\u001b[0m\u001b[0;34m\u001b[0m\u001b[0m\n\u001b[0;32m-> 1157\u001b[0;31m                                             keep_lock=keep_lock)\n\u001b[0m\u001b[1;32m   1158\u001b[0m         return (thunk,\n\u001b[1;32m   1159\u001b[0m                 \u001b[0mmodule\u001b[0m\u001b[0;34m,\u001b[0m\u001b[0;34m\u001b[0m\u001b[0m\n",
      "\u001b[0;32m/Users/aldoglielmo/anaconda/lib/python3.6/site-packages/theano/gof/cc.py\u001b[0m in \u001b[0;36mcthunk_factory\u001b[0;34m(self, error_storage, in_storage, out_storage, storage_map, keep_lock)\u001b[0m\n\u001b[1;32m   1618\u001b[0m                 \u001b[0mnode\u001b[0m\u001b[0;34m.\u001b[0m\u001b[0mop\u001b[0m\u001b[0;34m.\u001b[0m\u001b[0mprepare_node\u001b[0m\u001b[0;34m(\u001b[0m\u001b[0mnode\u001b[0m\u001b[0;34m,\u001b[0m \u001b[0mstorage_map\u001b[0m\u001b[0;34m,\u001b[0m \u001b[0;32mNone\u001b[0m\u001b[0;34m,\u001b[0m \u001b[0;34m'c'\u001b[0m\u001b[0;34m)\u001b[0m\u001b[0;34m\u001b[0m\u001b[0m\n\u001b[1;32m   1619\u001b[0m             module = get_module_cache().module_from_key(\n\u001b[0;32m-> 1620\u001b[0;31m                 key=key, lnk=self, keep_lock=keep_lock)\n\u001b[0m\u001b[1;32m   1621\u001b[0m \u001b[0;34m\u001b[0m\u001b[0m\n\u001b[1;32m   1622\u001b[0m         \u001b[0mvars\u001b[0m \u001b[0;34m=\u001b[0m \u001b[0mself\u001b[0m\u001b[0;34m.\u001b[0m\u001b[0minputs\u001b[0m \u001b[0;34m+\u001b[0m \u001b[0mself\u001b[0m\u001b[0;34m.\u001b[0m\u001b[0moutputs\u001b[0m \u001b[0;34m+\u001b[0m \u001b[0mself\u001b[0m\u001b[0;34m.\u001b[0m\u001b[0morphans\u001b[0m\u001b[0;34m\u001b[0m\u001b[0m\n",
      "\u001b[0;32m/Users/aldoglielmo/anaconda/lib/python3.6/site-packages/theano/gof/cmodule.py\u001b[0m in \u001b[0;36mmodule_from_key\u001b[0;34m(self, key, lnk, keep_lock)\u001b[0m\n\u001b[1;32m   1172\u001b[0m             \u001b[0;32mtry\u001b[0m\u001b[0;34m:\u001b[0m\u001b[0;34m\u001b[0m\u001b[0m\n\u001b[1;32m   1173\u001b[0m                 \u001b[0mlocation\u001b[0m \u001b[0;34m=\u001b[0m \u001b[0mdlimport_workdir\u001b[0m\u001b[0;34m(\u001b[0m\u001b[0mself\u001b[0m\u001b[0;34m.\u001b[0m\u001b[0mdirname\u001b[0m\u001b[0;34m)\u001b[0m\u001b[0;34m\u001b[0m\u001b[0m\n\u001b[0;32m-> 1174\u001b[0;31m                 \u001b[0mmodule\u001b[0m \u001b[0;34m=\u001b[0m \u001b[0mlnk\u001b[0m\u001b[0;34m.\u001b[0m\u001b[0mcompile_cmodule\u001b[0m\u001b[0;34m(\u001b[0m\u001b[0mlocation\u001b[0m\u001b[0;34m)\u001b[0m\u001b[0;34m\u001b[0m\u001b[0m\n\u001b[0m\u001b[1;32m   1175\u001b[0m                 \u001b[0mname\u001b[0m \u001b[0;34m=\u001b[0m \u001b[0mmodule\u001b[0m\u001b[0;34m.\u001b[0m\u001b[0m__file__\u001b[0m\u001b[0;34m\u001b[0m\u001b[0m\n\u001b[1;32m   1176\u001b[0m                 \u001b[0;32massert\u001b[0m \u001b[0mname\u001b[0m\u001b[0;34m.\u001b[0m\u001b[0mstartswith\u001b[0m\u001b[0;34m(\u001b[0m\u001b[0mlocation\u001b[0m\u001b[0;34m)\u001b[0m\u001b[0;34m\u001b[0m\u001b[0m\n",
      "\u001b[0;32m/Users/aldoglielmo/anaconda/lib/python3.6/site-packages/theano/gof/cc.py\u001b[0m in \u001b[0;36mcompile_cmodule\u001b[0;34m(self, location)\u001b[0m\n\u001b[1;32m   1521\u001b[0m                 \u001b[0mlib_dirs\u001b[0m\u001b[0;34m=\u001b[0m\u001b[0mself\u001b[0m\u001b[0;34m.\u001b[0m\u001b[0mlib_dirs\u001b[0m\u001b[0;34m(\u001b[0m\u001b[0;34m)\u001b[0m\u001b[0;34m,\u001b[0m\u001b[0;34m\u001b[0m\u001b[0m\n\u001b[1;32m   1522\u001b[0m                 \u001b[0mlibs\u001b[0m\u001b[0;34m=\u001b[0m\u001b[0mlibs\u001b[0m\u001b[0;34m,\u001b[0m\u001b[0;34m\u001b[0m\u001b[0m\n\u001b[0;32m-> 1523\u001b[0;31m                 preargs=preargs)\n\u001b[0m\u001b[1;32m   1524\u001b[0m         \u001b[0;32mexcept\u001b[0m \u001b[0mException\u001b[0m \u001b[0;32mas\u001b[0m \u001b[0me\u001b[0m\u001b[0;34m:\u001b[0m\u001b[0;34m\u001b[0m\u001b[0m\n\u001b[1;32m   1525\u001b[0m             \u001b[0me\u001b[0m\u001b[0;34m.\u001b[0m\u001b[0margs\u001b[0m \u001b[0;34m+=\u001b[0m \u001b[0;34m(\u001b[0m\u001b[0mstr\u001b[0m\u001b[0;34m(\u001b[0m\u001b[0mself\u001b[0m\u001b[0;34m.\u001b[0m\u001b[0mfgraph\u001b[0m\u001b[0;34m)\u001b[0m\u001b[0;34m,\u001b[0m\u001b[0;34m)\u001b[0m\u001b[0;34m\u001b[0m\u001b[0m\n",
      "\u001b[0;32m/Users/aldoglielmo/anaconda/lib/python3.6/site-packages/theano/gof/cmodule.py\u001b[0m in \u001b[0;36mcompile_str\u001b[0;34m(module_name, src_code, location, include_dirs, lib_dirs, libs, preargs, py_module, hide_symbols)\u001b[0m\n\u001b[1;32m   2360\u001b[0m             \u001b[0;31m# difficult to read.\u001b[0m\u001b[0;34m\u001b[0m\u001b[0;34m\u001b[0m\u001b[0m\n\u001b[1;32m   2361\u001b[0m             raise Exception('Compilation failed (return status=%s): %s' %\n\u001b[0;32m-> 2362\u001b[0;31m                             (status, compile_stderr.replace('\\n', '. ')))\n\u001b[0m\u001b[1;32m   2363\u001b[0m         \u001b[0;32melif\u001b[0m \u001b[0mconfig\u001b[0m\u001b[0;34m.\u001b[0m\u001b[0mcmodule\u001b[0m\u001b[0;34m.\u001b[0m\u001b[0mcompilation_warning\u001b[0m \u001b[0;32mand\u001b[0m \u001b[0mcompile_stderr\u001b[0m\u001b[0;34m:\u001b[0m\u001b[0;34m\u001b[0m\u001b[0m\n\u001b[1;32m   2364\u001b[0m             \u001b[0;31m# Print errors just below the command line.\u001b[0m\u001b[0;34m\u001b[0m\u001b[0;34m\u001b[0m\u001b[0m\n",
      "\u001b[0;31mException\u001b[0m: ('The following error happened while compiling the node', Subtensor{::, int64:int64:}(rho2, Constant{4}, Constant{5}), '\\n', \"Compilation failed (return status=1): In file included from /Users/aldoglielmo/.theano/compiledir_Darwin-17.4.0-x86_64-i386-64bit-i386-3.6.0-64/tmpizob9b3e/mod.cpp:1:. In file included from /Users/aldoglielmo/anaconda/include/python3.6m/Python.h:25:. /Users/aldoglielmo/anaconda/bin/../include/c++/v1/stdio.h:108:15: fatal error: 'stdio.h' file not found. #include_next <stdio.h>.               ^~~~~~~~~. 1 error generated.. \", '[Subtensor{::, int64:int64:}(rho2, Constant{4}, Constant{5})]')"
     ]
    }
   ],
   "source": [
    "k_ij = (T.exp(-(r1j[:, None] - r2m[None,:])**2/sig) * (delta_alphas12 * delta_alphasjm + delta_alphas1m * delta_alphasj2))\n",
    "k_ij = k_ij*(T.exp(-theta/(rc-r1j[:, None]))*T.exp(-theta/(rc-r2m[None,:])))/(T.exp(-theta/(rc-r1j[:, None]))*T.exp(-theta/(rc-r2m[None,:])))\n",
    "# kernel\n",
    "k = T.sum(k_ij)   \n",
    "\n",
    "# energy energy kernel\n",
    "k_ee_fun = function([r1, r2, rho1, rho2, sig, theta, rc], k)\n",
    "\n",
    "# energy force kernel\n",
    "k_ef = T.grad(k, r2)\n",
    "k_ef_fun = function([r1, r2, rho1, rho2, sig, theta, rc], k_ef)\n",
    "\n",
    "# force force kernel\n",
    "k_ff = T.grad(k, r1)\n",
    "k_ff_der, updates = theano.scan(lambda j, k_ff, r2 : T.grad(k_ff[j], r2), \n",
    "                                sequences = T.arange(k_ff.shape[0]), non_sequences = [k_ff, r2])\n",
    "\n",
    "k_ff_fun = function([r1, r2, rho1, rho2, sig, theta, rc], k_ff_der, on_unused_input='ignore')\n"
   ]
  },
  {
   "cell_type": "markdown",
   "metadata": {
    "hideCode": false,
    "hidePrompt": false
   },
   "source": [
    "### Saving the kernels"
   ]
  },
  {
   "cell_type": "code",
   "execution_count": 14,
   "metadata": {
    "hideCode": false,
    "hidePrompt": false
   },
   "outputs": [
    {
     "ename": "NameError",
     "evalue": "name 'k_ee_fun' is not defined",
     "output_type": "error",
     "traceback": [
      "\u001b[0;31m---------------------------------------------------------------------------\u001b[0m",
      "\u001b[0;31mNameError\u001b[0m                                 Traceback (most recent call last)",
      "\u001b[0;32m<ipython-input-14-b44e5eb7240e>\u001b[0m in \u001b[0;36m<module>\u001b[0;34m()\u001b[0m\n\u001b[1;32m      5\u001b[0m \u001b[0;34m\u001b[0m\u001b[0m\n\u001b[1;32m      6\u001b[0m \u001b[0mf\u001b[0m \u001b[0;34m=\u001b[0m \u001b[0mopen\u001b[0m\u001b[0;34m(\u001b[0m\u001b[0;34m'2B_ee.save'\u001b[0m\u001b[0;34m,\u001b[0m \u001b[0;34m'wb'\u001b[0m\u001b[0;34m)\u001b[0m\u001b[0;34m\u001b[0m\u001b[0m\n\u001b[0;32m----> 7\u001b[0;31m \u001b[0mcPickle\u001b[0m\u001b[0;34m.\u001b[0m\u001b[0mdump\u001b[0m\u001b[0;34m(\u001b[0m\u001b[0mk_ee_fun\u001b[0m\u001b[0;34m,\u001b[0m \u001b[0mf\u001b[0m\u001b[0;34m,\u001b[0m \u001b[0mprotocol\u001b[0m\u001b[0;34m=\u001b[0m\u001b[0mcPickle\u001b[0m\u001b[0;34m.\u001b[0m\u001b[0mHIGHEST_PROTOCOL\u001b[0m\u001b[0;34m)\u001b[0m\u001b[0;34m\u001b[0m\u001b[0m\n\u001b[0m\u001b[1;32m      8\u001b[0m \u001b[0mf\u001b[0m\u001b[0;34m.\u001b[0m\u001b[0mclose\u001b[0m\u001b[0;34m(\u001b[0m\u001b[0;34m)\u001b[0m\u001b[0;34m\u001b[0m\u001b[0m\n\u001b[1;32m      9\u001b[0m \u001b[0;34m\u001b[0m\u001b[0m\n",
      "\u001b[0;31mNameError\u001b[0m: name 'k_ee_fun' is not defined"
     ]
    }
   ],
   "source": [
    "from six.moves import cPickle\n",
    "import sys\n",
    "\n",
    "sys.setrecursionlimit(3000)\n",
    "\n",
    "f = open('2B_ee.save', 'wb')\n",
    "cPickle.dump(k_ee_fun, f, protocol=cPickle.HIGHEST_PROTOCOL)\n",
    "f.close()\n",
    "\n",
    "f = open('2B_ef.save', 'wb')\n",
    "cPickle.dump(k_ef_fun, f, protocol=cPickle.HIGHEST_PROTOCOL)\n",
    "f.close()\n",
    "\n",
    "f = open('2B_ff.save', 'wb')\n",
    "cPickle.dump(k_ff_fun, f, protocol=cPickle.HIGHEST_PROTOCOL)\n",
    "f.close()"
   ]
  },
  {
   "cell_type": "markdown",
   "metadata": {
    "hideCode": false,
    "hidePrompt": false
   },
   "source": [
    "## Construction of kernels over lists of configurations"
   ]
  },
  {
   "cell_type": "code",
   "execution_count": 15,
   "metadata": {
    "hideCode": false,
    "hidePrompt": false
   },
   "outputs": [],
   "source": [
    "import theano.typed_list as Tl"
   ]
  },
  {
   "cell_type": "markdown",
   "metadata": {
    "hideCode": false,
    "hidePrompt": false
   },
   "source": [
    "#### A simple example of a double for loop in Theano"
   ]
  },
  {
   "cell_type": "code",
   "execution_count": 22,
   "metadata": {
    "hideCode": false,
    "hidePrompt": false,
    "scrolled": true
   },
   "outputs": [
    {
     "name": "stdout",
     "output_type": "stream",
     "text": [
      "\n",
      "You can find the C code in this temporary file: /var/folders/hr/4m44n3ss4fjfbzgdtznkl4q00000gn/T/theano_compilation_error__7xajtmr\n"
     ]
    },
    {
     "ename": "Exception",
     "evalue": "('The following error happened while compiling the node', Elemwise{mul,no_inplace}(a, b), '\\n', \"Compilation failed (return status=1): In file included from /Users/aldoglielmo/.theano/compiledir_Darwin-17.4.0-x86_64-i386-64bit-i386-3.6.0-64/tmp5ye_1d9i/mod.cpp:1:. In file included from /Users/aldoglielmo/anaconda/include/python3.6m/Python.h:25:. /Users/aldoglielmo/anaconda/bin/../include/c++/v1/stdio.h:108:15: fatal error: 'stdio.h' file not found. #include_next <stdio.h>.               ^~~~~~~~~. 1 error generated.. \", '[Elemwise{mul,no_inplace}(a, b)]')",
     "output_type": "error",
     "traceback": [
      "\u001b[0;31m---------------------------------------------------------------------------\u001b[0m",
      "\u001b[0;31mException\u001b[0m                                 Traceback (most recent call last)",
      "\u001b[0;32m<ipython-input-22-6b7e66236063>\u001b[0m in \u001b[0;36m<module>\u001b[0;34m()\u001b[0m\n\u001b[1;32m      4\u001b[0m \u001b[0mb\u001b[0m \u001b[0;34m=\u001b[0m \u001b[0mT\u001b[0m\u001b[0;34m.\u001b[0m\u001b[0mscalar\u001b[0m\u001b[0;34m(\u001b[0m\u001b[0;34m'b'\u001b[0m\u001b[0;34m)\u001b[0m\u001b[0;34m\u001b[0m\u001b[0m\n\u001b[1;32m      5\u001b[0m \u001b[0mprod\u001b[0m \u001b[0;34m=\u001b[0m \u001b[0ma\u001b[0m\u001b[0;34m*\u001b[0m\u001b[0mb\u001b[0m\u001b[0;34m\u001b[0m\u001b[0m\n\u001b[0;32m----> 6\u001b[0;31m \u001b[0mp_fun\u001b[0m \u001b[0;34m=\u001b[0m \u001b[0mfunction\u001b[0m\u001b[0;34m(\u001b[0m\u001b[0;34m[\u001b[0m\u001b[0ma\u001b[0m\u001b[0;34m,\u001b[0m \u001b[0mb\u001b[0m\u001b[0;34m]\u001b[0m\u001b[0;34m,\u001b[0m \u001b[0mprod\u001b[0m\u001b[0;34m)\u001b[0m\u001b[0;34m\u001b[0m\u001b[0m\n\u001b[0m\u001b[1;32m      7\u001b[0m \u001b[0;34m\u001b[0m\u001b[0m\n\u001b[1;32m      8\u001b[0m \u001b[0mlist1\u001b[0m\u001b[0;34m,\u001b[0m \u001b[0mlist2\u001b[0m \u001b[0;34m=\u001b[0m \u001b[0mTl\u001b[0m\u001b[0;34m.\u001b[0m\u001b[0mTypedListType\u001b[0m\u001b[0;34m(\u001b[0m\u001b[0mT\u001b[0m\u001b[0;34m.\u001b[0m\u001b[0mdscalar\u001b[0m\u001b[0;34m)\u001b[0m\u001b[0;34m(\u001b[0m\u001b[0;34m'list1'\u001b[0m\u001b[0;34m)\u001b[0m\u001b[0;34m,\u001b[0m \u001b[0mTl\u001b[0m\u001b[0;34m.\u001b[0m\u001b[0mTypedListType\u001b[0m\u001b[0;34m(\u001b[0m\u001b[0mT\u001b[0m\u001b[0;34m.\u001b[0m\u001b[0mdscalar\u001b[0m\u001b[0;34m)\u001b[0m\u001b[0;34m(\u001b[0m\u001b[0;34m'list2'\u001b[0m\u001b[0;34m)\u001b[0m\u001b[0;34m\u001b[0m\u001b[0m\n",
      "\u001b[0;32m/Users/aldoglielmo/anaconda/lib/python3.6/site-packages/theano/compile/function.py\u001b[0m in \u001b[0;36mfunction\u001b[0;34m(inputs, outputs, mode, updates, givens, no_default_updates, accept_inplace, name, rebuild_strict, allow_input_downcast, profile, on_unused_input)\u001b[0m\n\u001b[1;32m    315\u001b[0m                    \u001b[0mon_unused_input\u001b[0m\u001b[0;34m=\u001b[0m\u001b[0mon_unused_input\u001b[0m\u001b[0;34m,\u001b[0m\u001b[0;34m\u001b[0m\u001b[0m\n\u001b[1;32m    316\u001b[0m                    \u001b[0mprofile\u001b[0m\u001b[0;34m=\u001b[0m\u001b[0mprofile\u001b[0m\u001b[0;34m,\u001b[0m\u001b[0;34m\u001b[0m\u001b[0m\n\u001b[0;32m--> 317\u001b[0;31m                    output_keys=output_keys)\n\u001b[0m\u001b[1;32m    318\u001b[0m     \u001b[0;32mreturn\u001b[0m \u001b[0mfn\u001b[0m\u001b[0;34m\u001b[0m\u001b[0m\n",
      "\u001b[0;32m/Users/aldoglielmo/anaconda/lib/python3.6/site-packages/theano/compile/pfunc.py\u001b[0m in \u001b[0;36mpfunc\u001b[0;34m(params, outputs, mode, updates, givens, no_default_updates, accept_inplace, name, rebuild_strict, allow_input_downcast, profile, on_unused_input, output_keys)\u001b[0m\n\u001b[1;32m    484\u001b[0m                          \u001b[0maccept_inplace\u001b[0m\u001b[0;34m=\u001b[0m\u001b[0maccept_inplace\u001b[0m\u001b[0;34m,\u001b[0m \u001b[0mname\u001b[0m\u001b[0;34m=\u001b[0m\u001b[0mname\u001b[0m\u001b[0;34m,\u001b[0m\u001b[0;34m\u001b[0m\u001b[0m\n\u001b[1;32m    485\u001b[0m                          \u001b[0mprofile\u001b[0m\u001b[0;34m=\u001b[0m\u001b[0mprofile\u001b[0m\u001b[0;34m,\u001b[0m \u001b[0mon_unused_input\u001b[0m\u001b[0;34m=\u001b[0m\u001b[0mon_unused_input\u001b[0m\u001b[0;34m,\u001b[0m\u001b[0;34m\u001b[0m\u001b[0m\n\u001b[0;32m--> 486\u001b[0;31m                          output_keys=output_keys)\n\u001b[0m\u001b[1;32m    487\u001b[0m \u001b[0;34m\u001b[0m\u001b[0m\n\u001b[1;32m    488\u001b[0m \u001b[0;34m\u001b[0m\u001b[0m\n",
      "\u001b[0;32m/Users/aldoglielmo/anaconda/lib/python3.6/site-packages/theano/compile/function_module.py\u001b[0m in \u001b[0;36morig_function\u001b[0;34m(inputs, outputs, mode, accept_inplace, name, profile, on_unused_input, output_keys)\u001b[0m\n\u001b[1;32m   1839\u001b[0m                   name=name)\n\u001b[1;32m   1840\u001b[0m         \u001b[0;32mwith\u001b[0m \u001b[0mtheano\u001b[0m\u001b[0;34m.\u001b[0m\u001b[0mchange_flags\u001b[0m\u001b[0;34m(\u001b[0m\u001b[0mcompute_test_value\u001b[0m\u001b[0;34m=\u001b[0m\u001b[0;34m\"off\"\u001b[0m\u001b[0;34m)\u001b[0m\u001b[0;34m:\u001b[0m\u001b[0;34m\u001b[0m\u001b[0m\n\u001b[0;32m-> 1841\u001b[0;31m             \u001b[0mfn\u001b[0m \u001b[0;34m=\u001b[0m \u001b[0mm\u001b[0m\u001b[0;34m.\u001b[0m\u001b[0mcreate\u001b[0m\u001b[0;34m(\u001b[0m\u001b[0mdefaults\u001b[0m\u001b[0;34m)\u001b[0m\u001b[0;34m\u001b[0m\u001b[0m\n\u001b[0m\u001b[1;32m   1842\u001b[0m     \u001b[0;32mfinally\u001b[0m\u001b[0;34m:\u001b[0m\u001b[0;34m\u001b[0m\u001b[0m\n\u001b[1;32m   1843\u001b[0m         \u001b[0mt2\u001b[0m \u001b[0;34m=\u001b[0m \u001b[0mtime\u001b[0m\u001b[0;34m.\u001b[0m\u001b[0mtime\u001b[0m\u001b[0;34m(\u001b[0m\u001b[0;34m)\u001b[0m\u001b[0;34m\u001b[0m\u001b[0m\n",
      "\u001b[0;32m/Users/aldoglielmo/anaconda/lib/python3.6/site-packages/theano/compile/function_module.py\u001b[0m in \u001b[0;36mcreate\u001b[0;34m(self, input_storage, trustme, storage_map)\u001b[0m\n\u001b[1;32m   1713\u001b[0m             \u001b[0mtheano\u001b[0m\u001b[0;34m.\u001b[0m\u001b[0mconfig\u001b[0m\u001b[0;34m.\u001b[0m\u001b[0mtraceback\u001b[0m\u001b[0;34m.\u001b[0m\u001b[0mlimit\u001b[0m \u001b[0;34m=\u001b[0m \u001b[0mtheano\u001b[0m\u001b[0;34m.\u001b[0m\u001b[0mconfig\u001b[0m\u001b[0;34m.\u001b[0m\u001b[0mtraceback\u001b[0m\u001b[0;34m.\u001b[0m\u001b[0mcompile_limit\u001b[0m\u001b[0;34m\u001b[0m\u001b[0m\n\u001b[1;32m   1714\u001b[0m             _fn, _i, _o = self.linker.make_thunk(\n\u001b[0;32m-> 1715\u001b[0;31m                 input_storage=input_storage_lists, storage_map=storage_map)\n\u001b[0m\u001b[1;32m   1716\u001b[0m         \u001b[0;32mfinally\u001b[0m\u001b[0;34m:\u001b[0m\u001b[0;34m\u001b[0m\u001b[0m\n\u001b[1;32m   1717\u001b[0m             \u001b[0mtheano\u001b[0m\u001b[0;34m.\u001b[0m\u001b[0mconfig\u001b[0m\u001b[0;34m.\u001b[0m\u001b[0mtraceback\u001b[0m\u001b[0;34m.\u001b[0m\u001b[0mlimit\u001b[0m \u001b[0;34m=\u001b[0m \u001b[0mlimit_orig\u001b[0m\u001b[0;34m\u001b[0m\u001b[0m\n",
      "\u001b[0;32m/Users/aldoglielmo/anaconda/lib/python3.6/site-packages/theano/gof/link.py\u001b[0m in \u001b[0;36mmake_thunk\u001b[0;34m(self, input_storage, output_storage, storage_map)\u001b[0m\n\u001b[1;32m    697\u001b[0m         return self.make_all(input_storage=input_storage,\n\u001b[1;32m    698\u001b[0m                              \u001b[0moutput_storage\u001b[0m\u001b[0;34m=\u001b[0m\u001b[0moutput_storage\u001b[0m\u001b[0;34m,\u001b[0m\u001b[0;34m\u001b[0m\u001b[0m\n\u001b[0;32m--> 699\u001b[0;31m                              storage_map=storage_map)[:3]\n\u001b[0m\u001b[1;32m    700\u001b[0m \u001b[0;34m\u001b[0m\u001b[0m\n\u001b[1;32m    701\u001b[0m     \u001b[0;32mdef\u001b[0m \u001b[0mmake_all\u001b[0m\u001b[0;34m(\u001b[0m\u001b[0mself\u001b[0m\u001b[0;34m,\u001b[0m \u001b[0minput_storage\u001b[0m\u001b[0;34m,\u001b[0m \u001b[0moutput_storage\u001b[0m\u001b[0;34m)\u001b[0m\u001b[0;34m:\u001b[0m\u001b[0;34m\u001b[0m\u001b[0m\n",
      "\u001b[0;32m/Users/aldoglielmo/anaconda/lib/python3.6/site-packages/theano/gof/vm.py\u001b[0m in \u001b[0;36mmake_all\u001b[0;34m(self, profiler, input_storage, output_storage, storage_map)\u001b[0m\n\u001b[1;32m   1082\u001b[0m                                                  \u001b[0mcompute_map\u001b[0m\u001b[0;34m,\u001b[0m\u001b[0;34m\u001b[0m\u001b[0m\n\u001b[1;32m   1083\u001b[0m                                                  \u001b[0;34m[\u001b[0m\u001b[0;34m]\u001b[0m\u001b[0;34m,\u001b[0m\u001b[0;34m\u001b[0m\u001b[0m\n\u001b[0;32m-> 1084\u001b[0;31m                                                  impl=impl))\n\u001b[0m\u001b[1;32m   1085\u001b[0m                 \u001b[0mlinker_make_thunk_time\u001b[0m\u001b[0;34m[\u001b[0m\u001b[0mnode\u001b[0m\u001b[0;34m]\u001b[0m \u001b[0;34m=\u001b[0m \u001b[0mtime\u001b[0m\u001b[0;34m.\u001b[0m\u001b[0mtime\u001b[0m\u001b[0;34m(\u001b[0m\u001b[0;34m)\u001b[0m \u001b[0;34m-\u001b[0m \u001b[0mthunk_start\u001b[0m\u001b[0;34m\u001b[0m\u001b[0m\n\u001b[1;32m   1086\u001b[0m                 \u001b[0;32mif\u001b[0m \u001b[0;32mnot\u001b[0m \u001b[0mhasattr\u001b[0m\u001b[0;34m(\u001b[0m\u001b[0mthunks\u001b[0m\u001b[0;34m[\u001b[0m\u001b[0;34m-\u001b[0m\u001b[0;36m1\u001b[0m\u001b[0;34m]\u001b[0m\u001b[0;34m,\u001b[0m \u001b[0;34m'lazy'\u001b[0m\u001b[0;34m)\u001b[0m\u001b[0;34m:\u001b[0m\u001b[0;34m\u001b[0m\u001b[0m\n",
      "\u001b[0;32m/Users/aldoglielmo/anaconda/lib/python3.6/site-packages/theano/gof/op.py\u001b[0m in \u001b[0;36mmake_thunk\u001b[0;34m(self, node, storage_map, compute_map, no_recycling, impl)\u001b[0m\n\u001b[1;32m    953\u001b[0m             \u001b[0;32mtry\u001b[0m\u001b[0;34m:\u001b[0m\u001b[0;34m\u001b[0m\u001b[0m\n\u001b[1;32m    954\u001b[0m                 return self.make_c_thunk(node, storage_map, compute_map,\n\u001b[0;32m--> 955\u001b[0;31m                                          no_recycling)\n\u001b[0m\u001b[1;32m    956\u001b[0m             \u001b[0;32mexcept\u001b[0m \u001b[0;34m(\u001b[0m\u001b[0mNotImplementedError\u001b[0m\u001b[0;34m,\u001b[0m \u001b[0mutils\u001b[0m\u001b[0;34m.\u001b[0m\u001b[0mMethodNotDefined\u001b[0m\u001b[0;34m)\u001b[0m\u001b[0;34m:\u001b[0m\u001b[0;34m\u001b[0m\u001b[0m\n\u001b[1;32m    957\u001b[0m                 \u001b[0;31m# We requested the c code, so don't catch the error.\u001b[0m\u001b[0;34m\u001b[0m\u001b[0;34m\u001b[0m\u001b[0m\n",
      "\u001b[0;32m/Users/aldoglielmo/anaconda/lib/python3.6/site-packages/theano/gof/op.py\u001b[0m in \u001b[0;36mmake_c_thunk\u001b[0;34m(self, node, storage_map, compute_map, no_recycling)\u001b[0m\n\u001b[1;32m    856\u001b[0m         \u001b[0m_logger\u001b[0m\u001b[0;34m.\u001b[0m\u001b[0mdebug\u001b[0m\u001b[0;34m(\u001b[0m\u001b[0;34m'Trying CLinker.make_thunk'\u001b[0m\u001b[0;34m)\u001b[0m\u001b[0;34m\u001b[0m\u001b[0m\n\u001b[1;32m    857\u001b[0m         outputs = cl.make_thunk(input_storage=node_input_storage,\n\u001b[0;32m--> 858\u001b[0;31m                                 output_storage=node_output_storage)\n\u001b[0m\u001b[1;32m    859\u001b[0m         \u001b[0mthunk\u001b[0m\u001b[0;34m,\u001b[0m \u001b[0mnode_input_filters\u001b[0m\u001b[0;34m,\u001b[0m \u001b[0mnode_output_filters\u001b[0m \u001b[0;34m=\u001b[0m \u001b[0moutputs\u001b[0m\u001b[0;34m\u001b[0m\u001b[0m\n\u001b[1;32m    860\u001b[0m \u001b[0;34m\u001b[0m\u001b[0m\n",
      "\u001b[0;32m/Users/aldoglielmo/anaconda/lib/python3.6/site-packages/theano/gof/cc.py\u001b[0m in \u001b[0;36mmake_thunk\u001b[0;34m(self, input_storage, output_storage, storage_map, keep_lock)\u001b[0m\n\u001b[1;32m   1215\u001b[0m         cthunk, module, in_storage, out_storage, error_storage = self.__compile__(\n\u001b[1;32m   1216\u001b[0m             \u001b[0minput_storage\u001b[0m\u001b[0;34m,\u001b[0m \u001b[0moutput_storage\u001b[0m\u001b[0;34m,\u001b[0m \u001b[0mstorage_map\u001b[0m\u001b[0;34m,\u001b[0m\u001b[0;34m\u001b[0m\u001b[0m\n\u001b[0;32m-> 1217\u001b[0;31m             keep_lock=keep_lock)\n\u001b[0m\u001b[1;32m   1218\u001b[0m \u001b[0;34m\u001b[0m\u001b[0m\n\u001b[1;32m   1219\u001b[0m         \u001b[0mres\u001b[0m \u001b[0;34m=\u001b[0m \u001b[0m_CThunk\u001b[0m\u001b[0;34m(\u001b[0m\u001b[0mcthunk\u001b[0m\u001b[0;34m,\u001b[0m \u001b[0minit_tasks\u001b[0m\u001b[0;34m,\u001b[0m \u001b[0mtasks\u001b[0m\u001b[0;34m,\u001b[0m \u001b[0merror_storage\u001b[0m\u001b[0;34m,\u001b[0m \u001b[0mmodule\u001b[0m\u001b[0;34m)\u001b[0m\u001b[0;34m\u001b[0m\u001b[0m\n",
      "\u001b[0;32m/Users/aldoglielmo/anaconda/lib/python3.6/site-packages/theano/gof/cc.py\u001b[0m in \u001b[0;36m__compile__\u001b[0;34m(self, input_storage, output_storage, storage_map, keep_lock)\u001b[0m\n\u001b[1;32m   1155\u001b[0m                                             \u001b[0moutput_storage\u001b[0m\u001b[0;34m,\u001b[0m\u001b[0;34m\u001b[0m\u001b[0m\n\u001b[1;32m   1156\u001b[0m                                             \u001b[0mstorage_map\u001b[0m\u001b[0;34m,\u001b[0m\u001b[0;34m\u001b[0m\u001b[0m\n\u001b[0;32m-> 1157\u001b[0;31m                                             keep_lock=keep_lock)\n\u001b[0m\u001b[1;32m   1158\u001b[0m         return (thunk,\n\u001b[1;32m   1159\u001b[0m                 \u001b[0mmodule\u001b[0m\u001b[0;34m,\u001b[0m\u001b[0;34m\u001b[0m\u001b[0m\n",
      "\u001b[0;32m/Users/aldoglielmo/anaconda/lib/python3.6/site-packages/theano/gof/cc.py\u001b[0m in \u001b[0;36mcthunk_factory\u001b[0;34m(self, error_storage, in_storage, out_storage, storage_map, keep_lock)\u001b[0m\n\u001b[1;32m   1618\u001b[0m                 \u001b[0mnode\u001b[0m\u001b[0;34m.\u001b[0m\u001b[0mop\u001b[0m\u001b[0;34m.\u001b[0m\u001b[0mprepare_node\u001b[0m\u001b[0;34m(\u001b[0m\u001b[0mnode\u001b[0m\u001b[0;34m,\u001b[0m \u001b[0mstorage_map\u001b[0m\u001b[0;34m,\u001b[0m \u001b[0;32mNone\u001b[0m\u001b[0;34m,\u001b[0m \u001b[0;34m'c'\u001b[0m\u001b[0;34m)\u001b[0m\u001b[0;34m\u001b[0m\u001b[0m\n\u001b[1;32m   1619\u001b[0m             module = get_module_cache().module_from_key(\n\u001b[0;32m-> 1620\u001b[0;31m                 key=key, lnk=self, keep_lock=keep_lock)\n\u001b[0m\u001b[1;32m   1621\u001b[0m \u001b[0;34m\u001b[0m\u001b[0m\n\u001b[1;32m   1622\u001b[0m         \u001b[0mvars\u001b[0m \u001b[0;34m=\u001b[0m \u001b[0mself\u001b[0m\u001b[0;34m.\u001b[0m\u001b[0minputs\u001b[0m \u001b[0;34m+\u001b[0m \u001b[0mself\u001b[0m\u001b[0;34m.\u001b[0m\u001b[0moutputs\u001b[0m \u001b[0;34m+\u001b[0m \u001b[0mself\u001b[0m\u001b[0;34m.\u001b[0m\u001b[0morphans\u001b[0m\u001b[0;34m\u001b[0m\u001b[0m\n",
      "\u001b[0;32m/Users/aldoglielmo/anaconda/lib/python3.6/site-packages/theano/gof/cmodule.py\u001b[0m in \u001b[0;36mmodule_from_key\u001b[0;34m(self, key, lnk, keep_lock)\u001b[0m\n\u001b[1;32m   1172\u001b[0m             \u001b[0;32mtry\u001b[0m\u001b[0;34m:\u001b[0m\u001b[0;34m\u001b[0m\u001b[0m\n\u001b[1;32m   1173\u001b[0m                 \u001b[0mlocation\u001b[0m \u001b[0;34m=\u001b[0m \u001b[0mdlimport_workdir\u001b[0m\u001b[0;34m(\u001b[0m\u001b[0mself\u001b[0m\u001b[0;34m.\u001b[0m\u001b[0mdirname\u001b[0m\u001b[0;34m)\u001b[0m\u001b[0;34m\u001b[0m\u001b[0m\n\u001b[0;32m-> 1174\u001b[0;31m                 \u001b[0mmodule\u001b[0m \u001b[0;34m=\u001b[0m \u001b[0mlnk\u001b[0m\u001b[0;34m.\u001b[0m\u001b[0mcompile_cmodule\u001b[0m\u001b[0;34m(\u001b[0m\u001b[0mlocation\u001b[0m\u001b[0;34m)\u001b[0m\u001b[0;34m\u001b[0m\u001b[0m\n\u001b[0m\u001b[1;32m   1175\u001b[0m                 \u001b[0mname\u001b[0m \u001b[0;34m=\u001b[0m \u001b[0mmodule\u001b[0m\u001b[0;34m.\u001b[0m\u001b[0m__file__\u001b[0m\u001b[0;34m\u001b[0m\u001b[0m\n\u001b[1;32m   1176\u001b[0m                 \u001b[0;32massert\u001b[0m \u001b[0mname\u001b[0m\u001b[0;34m.\u001b[0m\u001b[0mstartswith\u001b[0m\u001b[0;34m(\u001b[0m\u001b[0mlocation\u001b[0m\u001b[0;34m)\u001b[0m\u001b[0;34m\u001b[0m\u001b[0m\n",
      "\u001b[0;32m/Users/aldoglielmo/anaconda/lib/python3.6/site-packages/theano/gof/cc.py\u001b[0m in \u001b[0;36mcompile_cmodule\u001b[0;34m(self, location)\u001b[0m\n\u001b[1;32m   1521\u001b[0m                 \u001b[0mlib_dirs\u001b[0m\u001b[0;34m=\u001b[0m\u001b[0mself\u001b[0m\u001b[0;34m.\u001b[0m\u001b[0mlib_dirs\u001b[0m\u001b[0;34m(\u001b[0m\u001b[0;34m)\u001b[0m\u001b[0;34m,\u001b[0m\u001b[0;34m\u001b[0m\u001b[0m\n\u001b[1;32m   1522\u001b[0m                 \u001b[0mlibs\u001b[0m\u001b[0;34m=\u001b[0m\u001b[0mlibs\u001b[0m\u001b[0;34m,\u001b[0m\u001b[0;34m\u001b[0m\u001b[0m\n\u001b[0;32m-> 1523\u001b[0;31m                 preargs=preargs)\n\u001b[0m\u001b[1;32m   1524\u001b[0m         \u001b[0;32mexcept\u001b[0m \u001b[0mException\u001b[0m \u001b[0;32mas\u001b[0m \u001b[0me\u001b[0m\u001b[0;34m:\u001b[0m\u001b[0;34m\u001b[0m\u001b[0m\n\u001b[1;32m   1525\u001b[0m             \u001b[0me\u001b[0m\u001b[0;34m.\u001b[0m\u001b[0margs\u001b[0m \u001b[0;34m+=\u001b[0m \u001b[0;34m(\u001b[0m\u001b[0mstr\u001b[0m\u001b[0;34m(\u001b[0m\u001b[0mself\u001b[0m\u001b[0;34m.\u001b[0m\u001b[0mfgraph\u001b[0m\u001b[0;34m)\u001b[0m\u001b[0;34m,\u001b[0m\u001b[0;34m)\u001b[0m\u001b[0;34m\u001b[0m\u001b[0m\n",
      "\u001b[0;32m/Users/aldoglielmo/anaconda/lib/python3.6/site-packages/theano/gof/cmodule.py\u001b[0m in \u001b[0;36mcompile_str\u001b[0;34m(module_name, src_code, location, include_dirs, lib_dirs, libs, preargs, py_module, hide_symbols)\u001b[0m\n\u001b[1;32m   2360\u001b[0m             \u001b[0;31m# difficult to read.\u001b[0m\u001b[0;34m\u001b[0m\u001b[0;34m\u001b[0m\u001b[0m\n\u001b[1;32m   2361\u001b[0m             raise Exception('Compilation failed (return status=%s): %s' %\n\u001b[0;32m-> 2362\u001b[0;31m                             (status, compile_stderr.replace('\\n', '. ')))\n\u001b[0m\u001b[1;32m   2363\u001b[0m         \u001b[0;32melif\u001b[0m \u001b[0mconfig\u001b[0m\u001b[0;34m.\u001b[0m\u001b[0mcmodule\u001b[0m\u001b[0;34m.\u001b[0m\u001b[0mcompilation_warning\u001b[0m \u001b[0;32mand\u001b[0m \u001b[0mcompile_stderr\u001b[0m\u001b[0;34m:\u001b[0m\u001b[0;34m\u001b[0m\u001b[0m\n\u001b[1;32m   2364\u001b[0m             \u001b[0;31m# Print errors just below the command line.\u001b[0m\u001b[0;34m\u001b[0m\u001b[0;34m\u001b[0m\u001b[0m\n",
      "\u001b[0;31mException\u001b[0m: ('The following error happened while compiling the node', Elemwise{mul,no_inplace}(a, b), '\\n', \"Compilation failed (return status=1): In file included from /Users/aldoglielmo/.theano/compiledir_Darwin-17.4.0-x86_64-i386-64bit-i386-3.6.0-64/tmp5ye_1d9i/mod.cpp:1:. In file included from /Users/aldoglielmo/anaconda/include/python3.6m/Python.h:25:. /Users/aldoglielmo/anaconda/bin/../include/c++/v1/stdio.h:108:15: fatal error: 'stdio.h' file not found. #include_next <stdio.h>.               ^~~~~~~~~. 1 error generated.. \", '[Elemwise{mul,no_inplace}(a, b)]')"
     ]
    }
   ],
   "source": [
    "# simple for loop \n",
    "\n",
    "a = T.scalar('a')\n",
    "b = T.scalar('b')\n",
    "prod = a*b\n",
    "p_fun = function([a, b], prod)\n",
    "\n",
    "list1, list2 = Tl.TypedListType(T.dscalar)('list1'), Tl.TypedListType(T.dscalar)('list2')\n",
    "len1, len2 = Tl.length(list1), Tl.length(list2)\n",
    "range1, range2 = T.arange(len1, dtype='int64'), T.arange(len2, dtype='int64')\n",
    "mat = T.dmatrix('mat')\n",
    "\n",
    "def fun2(j, e1, list2):\n",
    "    \n",
    "    return e1*list2[j]\n",
    "    #return p_fun(e1,list2[j]) # THIS DOES NOT WORK!\n",
    "\n",
    "def loop_over_list2(i, range2, list1, list2):\n",
    "    \n",
    "    e1 = list1[i]\n",
    "    result_, updates_ = theano.scan(fn=fun2,\n",
    "                              outputs_info = None,\n",
    "                              non_sequences=[e1, list2],\n",
    "                              sequences=[range2])\n",
    "    return result_\n",
    "\n",
    "result, updates = theano.scan(fn=loop_over_list2,\n",
    "                              outputs_info = None,\n",
    "                              non_sequences=[range2, list1, list2],\n",
    "                              sequences=[range1])\n",
    "\n",
    "f = theano.function(inputs=[list1, list2], outputs=result)\n",
    "\n",
    "f([1, 2],[1, 3, 2])\n"
   ]
  },
  {
   "cell_type": "markdown",
   "metadata": {
    "hideCode": false,
    "hidePrompt": false
   },
   "source": [
    "### Define a symbolid \"kernel\" object and its derivative"
   ]
  },
  {
   "cell_type": "code",
   "execution_count": null,
   "metadata": {
    "hideCode": false,
    "hidePrompt": false
   },
   "outputs": [],
   "source": [
    "def kernel_ee_(r1, r2, rho1, rho2, sig, theta, rc):\n",
    "    rho1s = rho1[:, 0:3]\n",
    "    rho2s = rho2[:, 0:3]\n",
    "    alpha_1 = rho1[:, 3:4].flatten()\n",
    "    alpha_2 = rho2[:, 3:4].flatten()\n",
    "    alpha_j = rho1[:, 4:5].flatten()\n",
    "    alpha_m = rho2[:, 4:5].flatten()\n",
    "    r1j = T.sqrt(T.sum((rho1s[:, :]-r1[None,:])**2, axis = 1))\n",
    "    r2m = T.sqrt(T.sum((rho2s[:, :]-r2[None,:])**2, axis = 1))\n",
    "    delta_alphas12 = delta_alpha2(alpha_1[:, None] , alpha_2[None, :])\n",
    "    delta_alphasjm = delta_alpha2(alpha_j[:, None] , alpha_m[None, :])\n",
    "    delta_alphas1m = delta_alpha2(alpha_1[:, None] , alpha_m[None, :])\n",
    "    delta_alphasj2 = delta_alpha2(alpha_j[:, None] , alpha_2[None, :])\n",
    "    k_ij = (T.exp(-(r1j[:, None] - r2m[None,:])**2/sig) * (delta_alphas12 * delta_alphasjm + delta_alphas1m * delta_alphasj2)\n",
    "    *T.exp(-theta/(rc-r1j[:, None]))*T.exp(-theta/(rc-r2m[None,:])))\n",
    "    k = T.sum(k_ij) \n",
    "    return k\n",
    "\n",
    "def kernel_ef_(r1, r2, rho1, rho2, sig, theta, rc):\n",
    "    k = kernel_ee_(r1, r2, rho1, rho2, sig, theta, rc)\n",
    "    k_ef = T.grad(k, r2)\n",
    "\n",
    "    return k_ef\n",
    "\n",
    "\n",
    "def kernel_ff_(r1, r2, rho1, rho2, sig, theta, rc):\n",
    "    k = kernel_ee_(r1, r2, rho1, rho2, sig, theta, rc)\n",
    "    k_ff_der = T.grad(k, r1)\n",
    "    k_ff, updates = theano.scan(lambda j, k_ff, r2 : T.grad(k_ff_der[j], r2), \n",
    "                                sequences = T.arange(k_ff_der.shape[0]), non_sequences = [k_ff_der, r2])\n",
    "\n",
    "    return k_ff"
   ]
  },
  {
   "cell_type": "markdown",
   "metadata": {
    "hideCode": false,
    "hidePrompt": false
   },
   "source": [
    "### Define symbolic functions that loop over elements of a list"
   ]
  },
  {
   "cell_type": "code",
   "execution_count": null,
   "metadata": {
    "hideCode": false,
    "hidePrompt": false
   },
   "outputs": [],
   "source": [
    "def fun_ee(j, e1, list2, r1, r2, sig, theta, rc):\n",
    "    return kernel_ee_(r1, r2, e1, list2[j], sig, theta, rc)\n",
    "\n",
    "def fun_ff(j, e1, list2, r1, r2, sig, theta, rc):\n",
    "    return kernel_ff_(r1, r2, e1, list2[j], sig, theta, rc)\n",
    "\n",
    "def fun_ef(j, e1, list2, r1, r2, sig, theta, rc):\n",
    "    return kernel_ef_(r1, r2, e1, list2[j], sig, theta, rc)\n",
    "\n",
    "\n",
    "def loop_over_list_ee(i, range2, list1, list2, r1, r2, sig, theta, rc):\n",
    "    e1 = list1[i]\n",
    "    result_, updates_ = theano.scan(fn=fun_ee,\n",
    "                              outputs_info = None,\n",
    "                              non_sequences=[e1, list2, r1, r2,  sig, theta, rc],\n",
    "                              sequences=[range2])\n",
    "    return result_\n",
    "\n",
    "def loop_over_list_ef(i, range2, list1, list2, r1, r2, sig, theta, rc):\n",
    "    e1 = list1[i]\n",
    "    result_, updates_ = theano.scan(fn=fun_ef,\n",
    "                              outputs_info = None,\n",
    "                              non_sequences=[e1, list2, r1, r2, sig, theta, rc],\n",
    "                              sequences=[range2])\n",
    "    return result_\n",
    "\n",
    "\n",
    "def loop_over_list_ff(i, range2, list1, list2, r1, r2, sig, theta, rc):\n",
    "    e1 = list1[i]\n",
    "    result_, updates_ = theano.scan(fn=fun_ff,\n",
    "                              outputs_info = None,\n",
    "                              non_sequences=[e1, list2, r1, r2, sig, theta, rc],\n",
    "                              sequences=[range2])\n",
    "    return result_"
   ]
  },
  {
   "cell_type": "markdown",
   "metadata": {
    "hideCode": false,
    "hidePrompt": false
   },
   "source": [
    "### Define two list of configurations and the final functions"
   ]
  },
  {
   "cell_type": "code",
   "execution_count": null,
   "metadata": {
    "hideCode": false,
    "hidePrompt": false
   },
   "outputs": [],
   "source": [
    "# define lists of configurations to loop over (lists of matrices)\n",
    "\n",
    "rho1l = Tl.TypedListType(T.dmatrix)('rho1l')\n",
    "rho2l = Tl.TypedListType(T.dmatrix)('rho2l')\n",
    "\n",
    "l1, l2 = Tl.length(rho1l), Tl.length(rho2l)\n",
    "range1, range2 = T.arange(l1, dtype='int64'), T.arange(l2, dtype='int64')\n"
   ]
  },
  {
   "cell_type": "code",
   "execution_count": null,
   "metadata": {},
   "outputs": [],
   "source": [
    "theano.config.openmp = False"
   ]
  },
  {
   "cell_type": "code",
   "execution_count": null,
   "metadata": {
    "hideCode": false,
    "hidePrompt": false
   },
   "outputs": [],
   "source": [
    "# lengths of the two lists\n",
    "\n",
    "result, updates = theano.scan(fn=loop_over_list_ee,\n",
    "                              outputs_info = None,\n",
    "                              non_sequences=[range2, rho1l, rho2l, r1, r2, sig, theta, rc],\n",
    "                              sequences=[range1])\n",
    "\n",
    "k_ee_func_for = function(inputs=[rho1l, rho2l, r1, r2, sig, theta, rc], outputs=result)\n"
   ]
  },
  {
   "cell_type": "code",
   "execution_count": null,
   "metadata": {
    "hideCode": false,
    "hidePrompt": false,
    "scrolled": true
   },
   "outputs": [],
   "source": [
    "\n",
    "result, updates = theano.scan(fn=loop_over_list_ef,\n",
    "                              outputs_info = None,\n",
    "                              non_sequences=[range2, rho1l, rho2l, r1, r2, sig, theta, rc],\n",
    "                              sequences=[range1])\n",
    "\n",
    "k_ef_func_for = function(inputs=[rho1l, rho2l, r1, r2, sig, theta, rc], outputs=result)\n"
   ]
  },
  {
   "cell_type": "code",
   "execution_count": null,
   "metadata": {
    "hideCode": false,
    "hidePrompt": false
   },
   "outputs": [],
   "source": [
    "\n",
    "result, updates = theano.scan(fn=loop_over_list_ff,\n",
    "                              outputs_info = None,\n",
    "                              non_sequences=[range2, rho1l, rho2l, r1, r2, sig, theta, rc],\n",
    "                              sequences=[range1])\n",
    "\n",
    "k_ff_func_for = function(inputs=[rho1l, rho2l, r1, r2, sig, theta, rc], outputs=result)"
   ]
  },
  {
   "cell_type": "code",
   "execution_count": null,
   "metadata": {
    "hideCode": false,
    "hidePrompt": false
   },
   "outputs": [],
   "source": []
  },
  {
   "cell_type": "markdown",
   "metadata": {
    "hideCode": false,
    "hidePrompt": false
   },
   "source": [
    "## Tests"
   ]
  },
  {
   "cell_type": "markdown",
   "metadata": {
    "hideCode": false,
    "hidePrompt": false
   },
   "source": [
    "Test on a single configuration"
   ]
  },
  {
   "cell_type": "code",
   "execution_count": null,
   "metadata": {
    "hideCode": false,
    "hidePrompt": false
   },
   "outputs": [],
   "source": [
    "rho1n = np.array([[1, 2, 3, 1, 3],\n",
    "                  [1, 2, 4, 1, 4],\n",
    "                  [1, 2, 1, 1, 1]])\n",
    "\n",
    "rho2n = np.array([[1.2, 2.1, 3.3, 1, 3],\n",
    "                  [1.7, 2.1, 4.6, 1, 4],\n",
    "                  [1.2, 2.1, 1.2, 1, 1]])\n",
    "\n",
    "print(rho1n.shape , rho2n.shape)"
   ]
  },
  {
   "cell_type": "code",
   "execution_count": null,
   "metadata": {
    "hideCode": false,
    "hidePrompt": false
   },
   "outputs": [],
   "source": [
    "mat = k_ff_fun(np.array([0,0,0]), np.array([0,0,0]), rho1n, rho2n, 100., 1., 1.)\n",
    "matT = k_ff_fun(np.array([0,0,0]), np.array([0,0,0]),rho2n, rho1n, 100., 1., 1.)\n"
   ]
  },
  {
   "cell_type": "code",
   "execution_count": null,
   "metadata": {
    "hideCode": false,
    "hidePrompt": false
   },
   "outputs": [],
   "source": [
    "print(mat)\n",
    "print(np.isclose(mat,matT.T))"
   ]
  },
  {
   "cell_type": "markdown",
   "metadata": {
    "hideCode": false,
    "hidePrompt": false
   },
   "source": [
    "Tests on random configurations"
   ]
  },
  {
   "cell_type": "code",
   "execution_count": null,
   "metadata": {
    "hideCode": false,
    "hidePrompt": false
   },
   "outputs": [],
   "source": [
    "np.set_printoptions(precision=4)"
   ]
  },
  {
   "cell_type": "code",
   "execution_count": null,
   "metadata": {},
   "outputs": [],
   "source": [
    "# create random configurations\n",
    "\n",
    "n1 = 3\n",
    "n2 = 3\n",
    "d = 3 # this can't be changed\n",
    "nn = 12\n",
    "confs1 = (np.random.rand(n1, nn, d+2)-0.5)*100\n",
    "confs2 = (np.random.rand(n2, nn, d+2)-0.5)*100\n",
    "\n",
    "confs1[:, :, 3:5] = 1.\n",
    "confs2[:, :, 3:5] = 1."
   ]
  },
  {
   "cell_type": "code",
   "execution_count": null,
   "metadata": {
    "hideCode": false,
    "hidePrompt": false
   },
   "outputs": [],
   "source": [
    "\n",
    "ti_python = datetime.datetime.now()\n",
    "gram = np.zeros((n1*d,n2*d))\n",
    "for i in np.arange(n1):\n",
    "    for j in np.arange(n2):\n",
    "        gram[d*i:d*(i+1),d*j:d*(j+1)] = k_ff_fun(np.zeros(d),np.zeros(d), confs1[i],confs2[j], 10000., 1., 1000.)\n",
    "\n",
    "tf_python = datetime.datetime.now()\n",
    "(tf_python-ti_python).total_seconds()\n"
   ]
  },
  {
   "cell_type": "code",
   "execution_count": null,
   "metadata": {},
   "outputs": [],
   "source": [
    "\n",
    "ti_theano = datetime.datetime.now()\n",
    "gram_for = k_ff_func_for(confs1, confs2, np.zeros(3),np.zeros(3),  10000., 1., 1000.)\n",
    "gram_for = np.reshape(gram_for.swapaxes(1, 2), (gram_for.shape[0]*gram_for.shape[2], gram_for.shape[1]*gram_for.shape[2]))\n",
    "tf_theano = datetime.datetime.now()\n",
    "(tf_theano-ti_theano).total_seconds()"
   ]
  },
  {
   "cell_type": "code",
   "execution_count": null,
   "metadata": {
    "scrolled": true
   },
   "outputs": [],
   "source": [
    "print(np.allclose(gram_for,gram))"
   ]
  },
  {
   "cell_type": "code",
   "execution_count": null,
   "metadata": {
    "hideCode": false,
    "hidePrompt": false
   },
   "outputs": [],
   "source": [
    "import matplotlib.pyplot as plt\n",
    "eigs, eigvecs = np.linalg.eigh(gram)\n",
    "print(np.min(eigs))\n",
    "print(np.max(eigs))\n",
    "plt.hist(eigs[:], 40)\n",
    "plt.show()"
   ]
  },
  {
   "cell_type": "code",
   "execution_count": null,
   "metadata": {
    "hideCode": false,
    "hidePrompt": false
   },
   "outputs": [],
   "source": []
  },
  {
   "cell_type": "code",
   "execution_count": null,
   "metadata": {
    "hideCode": false,
    "hidePrompt": false
   },
   "outputs": [],
   "source": []
  }
 ],
 "metadata": {
  "hide_code_all_hidden": false,
  "kernelspec": {
   "display_name": "Python 3",
   "language": "python",
   "name": "python3"
  },
  "language_info": {
   "codemirror_mode": {
    "name": "ipython",
    "version": 3
   },
   "file_extension": ".py",
   "mimetype": "text/x-python",
   "name": "python",
   "nbconvert_exporter": "python",
   "pygments_lexer": "ipython3",
   "version": "3.6.0"
  }
 },
 "nbformat": 4,
 "nbformat_minor": 2
}
