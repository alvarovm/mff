{
 "cells": [
  {
   "cell_type": "markdown",
   "metadata": {},
   "source": [
    "# Pairwise conservative kernel for two chemical species"
   ]
  },
  {
   "cell_type": "code",
   "execution_count": 9,
   "metadata": {
    "collapsed": true
   },
   "outputs": [],
   "source": [
    "# import libraries\n",
    "import theano\n",
    "import theano.tensor as T\n",
    "from theano import function\n",
    "import numpy as np"
   ]
  },
  {
   "cell_type": "markdown",
   "metadata": {},
   "source": [
    "### Definitions"
   ]
  },
  {
   "cell_type": "markdown",
   "metadata": {},
   "source": [
    "Define the position of the atoms relative to the centrla one, and their chemical species, by a matrix of dimension Mx5"
   ]
  },
  {
   "cell_type": "code",
   "execution_count": 10,
   "metadata": {
    "collapsed": true
   },
   "outputs": [],
   "source": [
    "# positions of central atoms\n",
    "r1, r2 = T.dvectors('r1d','r2d') \n",
    "\n",
    "# positions of neighbours \n",
    "rho1, rho2 = T.dmatrices('rho1','rho2') \n",
    "\n",
    "# hyperparameter\n",
    "sig = T.dscalar('sig') "
   ]
  },
  {
   "cell_type": "code",
   "execution_count": 11,
   "metadata": {
    "collapsed": true
   },
   "outputs": [],
   "source": [
    "# positions of neighbours without chemical species\n",
    "\n",
    "rho1s = rho1[:, 0:3]\n",
    "rho2s = rho2[:, 0:3]\n",
    "\n",
    "\n",
    "alpha_1 = rho1[:, 3:4].flatten()\n",
    "alpha_2 = rho2[:, 3:4].flatten()\n",
    "alpha_j = rho1[:, 4:5].flatten()\n",
    "alpha_m = rho2[:, 4:5].flatten()"
   ]
  },
  {
   "cell_type": "markdown",
   "metadata": {},
   "source": [
    "Calculate the relative distance to the central vector"
   ]
  },
  {
   "cell_type": "code",
   "execution_count": 12,
   "metadata": {
    "collapsed": true
   },
   "outputs": [],
   "source": [
    "# first configuration\n",
    "r1j = T.sqrt(T.sum((rho1s[:, :]-r1[None,:])**2, axis = 1))\n",
    "\n",
    "# second configuration\n",
    "r2m = T.sqrt(T.sum((rho2s[:, :]-r2[None,:])**2, axis = 1))\n"
   ]
  },
  {
   "cell_type": "markdown",
   "metadata": {},
   "source": [
    "Calculate the mask given by the chemical species"
   ]
  },
  {
   "cell_type": "code",
   "execution_count": 13,
   "metadata": {
    "collapsed": true
   },
   "outputs": [],
   "source": [
    "def delta_alpha(a1j, a2m):\n",
    "    d = (a1j == a2m)\n",
    "    dn =  float(d == 'true')\n",
    "    return dn"
   ]
  },
  {
   "cell_type": "code",
   "execution_count": 14,
   "metadata": {
    "collapsed": true
   },
   "outputs": [],
   "source": [
    "# !!! THIS IS NOT AN EXACT KRONECKER SYMBOL !!!\n",
    "\n",
    "def delta_alpha2(a1j, a2m):\n",
    "    \n",
    "    d = np.exp(-(a1j - a2m)**2/(2*(1e-5)**2))\n",
    "    #d = np.exp((a1j[0] - a2m[0])**2/(2*(1e-7)**2))\n",
    "    #dp = np.exp((a1j[1] - a2m[1])**2/(2*(1e-7)**2))\n",
    "    \n",
    "    return d"
   ]
  },
  {
   "cell_type": "code",
   "execution_count": 15,
   "metadata": {
    "collapsed": false
   },
   "outputs": [
    {
     "data": {
      "text/plain": [
       "1.0"
      ]
     },
     "execution_count": 15,
     "metadata": {},
     "output_type": "execute_result"
    }
   ],
   "source": [
    "delta_alpha2(100, 100)"
   ]
  },
  {
   "cell_type": "code",
   "execution_count": 16,
   "metadata": {
    "collapsed": true
   },
   "outputs": [],
   "source": [
    "delta_alphas12 = delta_alpha2(alpha_1[:, None] , alpha_2[None, :])\n",
    "delta_alphasjm = delta_alpha2(alpha_j[:, None] , alpha_m[None, :])"
   ]
  },
  {
   "cell_type": "code",
   "execution_count": 17,
   "metadata": {
    "collapsed": true
   },
   "outputs": [],
   "source": [
    "delta_alphas1m = delta_alpha2(alpha_1[:, None] , alpha_m[None, :])\n",
    "delta_alphasj2 = delta_alpha2(alpha_j[:, None] , alpha_2[None, :])"
   ]
  },
  {
   "cell_type": "markdown",
   "metadata": {},
   "source": [
    "### Kernel"
   ]
  },
  {
   "cell_type": "markdown",
   "metadata": {},
   "source": [
    "Build the kernel"
   ]
  },
  {
   "cell_type": "code",
   "execution_count": 18,
   "metadata": {
    "collapsed": true
   },
   "outputs": [],
   "source": [
    "# kernel\n",
    "k = T.sum(T.exp(-(r1j[:, None] - r2m[None,:])**2/sig) * (delta_alphas12 * delta_alphasjm + delta_alphas1m * delta_alphasj2))    \n",
    "\n"
   ]
  },
  {
   "cell_type": "code",
   "execution_count": 19,
   "metadata": {
    "collapsed": true
   },
   "outputs": [],
   "source": [
    "# energy energy kernel\n",
    "kfun = function([r1, r2, rho1, rho2, sig], k)"
   ]
  },
  {
   "cell_type": "markdown",
   "metadata": {},
   "source": [
    "Take single and doble derivatives"
   ]
  },
  {
   "cell_type": "code",
   "execution_count": 21,
   "metadata": {
    "collapsed": false
   },
   "outputs": [],
   "source": [
    "# energy force kernel\n",
    "G2b_ms = T.grad(k, r2)\n",
    "\n",
    "G2b_ms_fun = function([r1, r2, rho1, rho2, sig], G2b_ms)"
   ]
  },
  {
   "cell_type": "code",
   "execution_count": 22,
   "metadata": {
    "collapsed": true
   },
   "outputs": [],
   "source": [
    "# force force kernel\n",
    "gr1 = T.grad(k, r1)\n",
    "\n",
    "H2b_ms, updates = theano.scan(lambda j, gr1, r2 : T.grad(gr1[j], r2), sequences = T.arange(gr1.shape[0]), non_sequences = [gr1, r2])\n",
    "H2b_ms_fun = function([r1, r2, rho1, rho2, sig], H2b_ms)"
   ]
  },
  {
   "cell_type": "markdown",
   "metadata": {},
   "source": [
    "Saving the kernels"
   ]
  },
  {
   "cell_type": "code",
   "execution_count": 23,
   "metadata": {
    "collapsed": true
   },
   "outputs": [],
   "source": [
    "from six.moves import cPickle\n",
    "import sys\n",
    "\n",
    "sys.setrecursionlimit(3000)\n",
    "\n",
    "f = open('S2b_ms.save', 'wb')\n",
    "cPickle.dump(kfun, f, protocol=cPickle.HIGHEST_PROTOCOL)\n",
    "f.close()\n",
    "\n",
    "f = open('G2b_ms.save', 'wb')\n",
    "cPickle.dump(G2b_ms_fun, f, protocol=cPickle.HIGHEST_PROTOCOL)\n",
    "f.close()\n",
    "f = open('H2b_ms.save', 'wb')\n",
    "cPickle.dump(H2b_ms_fun, f, protocol=cPickle.HIGHEST_PROTOCOL)\n",
    "f.close()"
   ]
  },
  {
   "cell_type": "markdown",
   "metadata": {},
   "source": [
    "### Tests"
   ]
  },
  {
   "cell_type": "markdown",
   "metadata": {},
   "source": [
    "Test on a single configuration"
   ]
  },
  {
   "cell_type": "code",
   "execution_count": 14,
   "metadata": {
    "collapsed": false
   },
   "outputs": [
    {
     "name": "stdout",
     "output_type": "stream",
     "text": [
      "((3, 5), (3, 5))\n"
     ]
    }
   ],
   "source": [
    "rho1n = np.array([[1, 2, 3, 1, 3],\n",
    "                  [1, 2, 4, 1, 4],\n",
    "                  [1, 2, 1, 1, 1]])\n",
    "\n",
    "rho2n = np.array([[1.2, 2.1, 3.3, 1, 3],\n",
    "                  [1.7, 2.1, 4.6, 1, 4],\n",
    "                  [1.2, 2.1, 1.2, 1, 1]])\n",
    "\n",
    "print(rho1n.shape , rho2n.shape)"
   ]
  },
  {
   "cell_type": "code",
   "execution_count": 15,
   "metadata": {
    "collapsed": true
   },
   "outputs": [],
   "source": [
    "mat = H2b_2cs_fun(np.array([0,0,0]), np.array([0,0,0]), rho1n, rho2n, 100.)\n",
    "matT = H2b_2cs_fun(np.array([0,0,0]), np.array([0,0,0]),rho2n, rho1n, 100.)\n"
   ]
  },
  {
   "cell_type": "code",
   "execution_count": 16,
   "metadata": {
    "collapsed": false
   },
   "outputs": [
    {
     "name": "stdout",
     "output_type": "stream",
     "text": [
      "[[0.01017333 0.01709959 0.01523917]\n",
      " [0.02034665 0.03419917 0.03047834]\n",
      " [0.01739906 0.02763341 0.03492898]]\n",
      "[[ True  True  True]\n",
      " [ True  True  True]\n",
      " [ True  True  True]]\n"
     ]
    }
   ],
   "source": [
    "print(mat)\n",
    "print(np.isclose(mat,matT.T))"
   ]
  },
  {
   "cell_type": "code",
   "execution_count": 17,
   "metadata": {
    "collapsed": false
   },
   "outputs": [
    {
     "data": {
      "text/plain": [
       "array([-0.00158353,  0.00742697,  0.07345804])"
      ]
     },
     "execution_count": 17,
     "metadata": {},
     "output_type": "execute_result"
    }
   ],
   "source": [
    "np.linalg.eigvalsh(mat)"
   ]
  },
  {
   "cell_type": "markdown",
   "metadata": {},
   "source": [
    "Tests on random configurations"
   ]
  },
  {
   "cell_type": "code",
   "execution_count": 18,
   "metadata": {
    "collapsed": true
   },
   "outputs": [],
   "source": [
    "n = 100\n",
    "d = 3\n",
    "nn = 2\n",
    "confs = (np.random.rand(n, nn, d+2)-0.5)*100\n",
    "\n",
    "#cov_sim_fun(np.zeros(d),np.zeros(d),confs[i],confs[j], 1.)\n",
    "#Hfun2(np.zeros(d),confs[i],np.zeros(d),confs[j], 1.)\n",
    "\n",
    "\n",
    "gram = np.zeros((n*d,n*d))\n",
    "for i in np.arange(n):\n",
    "    for j in np.arange(n):\n",
    "        gram[d*i:d*(i+1),d*j:d*(j+1)] = H2b_2cs_fun(np.zeros(d),np.zeros(d), confs[i],confs[j], 10000.)\n"
   ]
  },
  {
   "cell_type": "code",
   "execution_count": 19,
   "metadata": {
    "collapsed": false
   },
   "outputs": [
    {
     "name": "stdout",
     "output_type": "stream",
     "text": [
      "[[ 2.25288343e-04 -1.78826026e-05 -1.12649203e-04 ...  0.00000000e+00\n",
      "   0.00000000e+00  0.00000000e+00]\n",
      " [-1.78826026e-05  7.24988311e-05 -4.81680831e-05 ...  0.00000000e+00\n",
      "   0.00000000e+00  0.00000000e+00]\n",
      " [-1.12649203e-04 -4.81680831e-05  1.02212826e-04 ...  0.00000000e+00\n",
      "   0.00000000e+00  0.00000000e+00]\n",
      " ...\n",
      " [ 0.00000000e+00  0.00000000e+00  0.00000000e+00 ...  2.02241580e-04\n",
      "   4.39806690e-05  5.33738051e-06]\n",
      " [ 0.00000000e+00  0.00000000e+00  0.00000000e+00 ...  4.39806690e-05\n",
      "   1.30341811e-05 -2.41470528e-05]\n",
      " [ 0.00000000e+00  0.00000000e+00  0.00000000e+00 ...  5.33738051e-06\n",
      "  -2.41470528e-05  1.84724239e-04]]\n"
     ]
    }
   ],
   "source": [
    "print(gram)"
   ]
  },
  {
   "cell_type": "code",
   "execution_count": 20,
   "metadata": {
    "collapsed": false
   },
   "outputs": [
    {
     "data": {
      "text/plain": [
       "True"
      ]
     },
     "execution_count": 20,
     "metadata": {},
     "output_type": "execute_result"
    }
   ],
   "source": [
    "np.isclose(gram, gram.T).all()"
   ]
  },
  {
   "cell_type": "code",
   "execution_count": 21,
   "metadata": {
    "collapsed": false
   },
   "outputs": [
    {
     "name": "stdout",
     "output_type": "stream",
     "text": [
      "-1.0164395367051604e-19\n",
      "0.0003986856785115176\n"
     ]
    },
    {
     "data": {
      "image/png": "[encoded data removed]",
      "text/plain": [
       "<matplotlib.figure.Figure at 0x1c0df905d0>"
      ]
     },
     "metadata": {},
     "output_type": "display_data"
    }
   ],
   "source": [
    "import matplotlib.pyplot as plt\n",
    "eigs, eigvecs = np.linalg.eigh(gram)\n",
    "print(np.min(eigs))\n",
    "print(np.max(eigs))\n",
    "plt.hist(eigs[:], 40)\n",
    "plt.show()"
   ]
  },
  {
   "cell_type": "code",
   "execution_count": null,
   "metadata": {
    "collapsed": true
   },
   "outputs": [],
   "source": []
  },
  {
   "cell_type": "code",
   "execution_count": null,
   "metadata": {
    "collapsed": true
   },
   "outputs": [],
   "source": []
  },
  {
   "cell_type": "code",
   "execution_count": null,
   "metadata": {
    "collapsed": true
   },
   "outputs": [],
   "source": []
  },
  {
   "cell_type": "code",
   "execution_count": null,
   "metadata": {
    "collapsed": true
   },
   "outputs": [],
   "source": []
  }
 ],
 "metadata": {
  "kernelspec": {
   "display_name": "Python 2",
   "language": "python",
   "name": "python2"
  },
  "language_info": {
   "codemirror_mode": {
    "name": "ipython",
    "version": 2
   },
   "file_extension": ".py",
   "mimetype": "text/x-python",
   "name": "python",
   "nbconvert_exporter": "python",
   "pygments_lexer": "ipython2",
   "version": "2.7.13"
  }
 },
 "nbformat": 4,
 "nbformat_minor": 2
}
