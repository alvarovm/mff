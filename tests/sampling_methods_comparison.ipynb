{
 "cells": [
  {
   "cell_type": "code",
   "execution_count": 17,
   "metadata": {
    "ExecuteTime": {
     "end_time": "2018-11-27T14:56:47.793160Z",
     "start_time": "2018-11-27T14:56:47.634252Z"
    }
   },
   "outputs": [
    {
     "name": "stdout",
     "output_type": "stream",
     "text": [
      "The autoreload extension is already loaded. To reload it, use:\n",
      "  %reload_ext autoreload\n"
     ]
    }
   ],
   "source": [
    "import numpy as np\n",
    "import sys\n",
    "import os\n",
    "import pymf\n",
    "import time\n",
    "os.environ[\"MKL_THREADING_LAYER\"] = \"GNU\"\n",
    "sys.path.insert(0, '../mff/')\n",
    "from advanced_sampling import Sampling\n",
    "%load_ext autoreload\n",
    "%autoreload 2"
   ]
  },
  {
   "cell_type": "code",
   "execution_count": 18,
   "metadata": {
    "ExecuteTime": {
     "end_time": "2018-11-27T14:56:57.489527Z",
     "start_time": "2018-11-27T14:56:48.284063Z"
    }
   },
   "outputs": [
    {
     "name": "stdout",
     "output_type": "stream",
     "text": [
      "75240\n",
      "[1439 2083 3862 ... 2052  551 3778]\n"
     ]
    }
   ],
   "source": [
    "directory = \"data/Ni_19_energies\"\n",
    "confs = np.load(directory+\"/confs_cut=8.50.npy\")\n",
    "forces = np.load(directory+\"/forces_cut=8.50.npy\")\n",
    "energies = np.load(directory+\"/energies_cut=8.50.npy\")\n",
    "sigma_2b = 0.05\n",
    "sigma_3b = 0.1\n",
    "sigma_mb = 0.2\n",
    "theta, r_cut = .5, 8.5\n",
    "noise = 0.001\n",
    "ntr = 3\n",
    "ntest = 3\n",
    "batch = 500\n",
    "\n",
    "print(len(forces))\n",
    "s = Sampling(confs, energies, forces, sigma_2b, sigma_3b, sigma_mb, noise, r_cut, theta)\n",
    "s.clean_dataset()\n",
    "s.train_test_split(confs=s.reduced_confs, energies= s.reduced_energies, forces = s.reduced_forces, ntr = ntr, ntest = ntest)\n",
    "\n",
    "myd = {}"
   ]
  },
  {
   "cell_type": "code",
   "execution_count": 3,
   "metadata": {
    "ExecuteTime": {
     "end_time": "2018-11-27T14:43:46.125032Z",
     "start_time": "2018-11-27T14:43:46.044791Z"
    }
   },
   "outputs": [],
   "source": [
    "myd['directory'] = directory\n",
    "myd['sigma_2b'] = sigma_2b\n",
    "myd['sigma_3b'] = sigma_3b\n",
    "myd['sigma_mb'] = sigma_mb\n",
    "myd['theta'] = theta\n",
    "myd['r_cut'] = r_cut\n",
    "myd['noise'] = noise\n",
    "myd['ntr'] = ntr\n",
    "myd['ntest'] = ntest\n",
    "\n",
    "for i in ['2b', '3b']:\n",
    "    myd[i] = {}\n",
    "    myd[i]['ivm_f_var'] = {}\n",
    "    myd[i]['ivm_e_var'] = {}\n",
    "    myd[i]['ivm_f_err'] = {}\n",
    "    myd[i]['ivm_e_err'] = {}\n",
    "    myd[i]['grid'] = {}\n",
    "    myd[i]['rvm'] = {}\n",
    "    myd[i]['random'] = {}\n",
    "    myd[i]['cur'] = {}\n"
   ]
  },
  {
   "cell_type": "code",
   "execution_count": 5,
   "metadata": {
    "ExecuteTime": {
     "end_time": "2018-11-27T14:48:39.800333Z",
     "start_time": "2018-11-27T14:44:00.039058Z"
    }
   },
   "outputs": [],
   "source": [
    "# 2 BODY\n",
    "myd['2b']['ivm_f_var']['e_MAE'], myd['2b']['ivm_f_var']['e_STD'], myd['2b']['ivm_f_var']['e_RMSE'], myd['2b']['ivm_f_var']['index'], myd['2b']['ivm_f_var']['time'] = s.ivm_f('2b', ntrain = ntr, batchsize = batch)\n",
    "myd['2b']['ivm_e_var']['e_MAE'], myd['2b']['ivm_e_var']['e_STD'], myd['2b']['ivm_e_var']['e_RMSE'], myd['2b']['ivm_e_var']['index'], myd['2b']['ivm_f_var']['time'] = s.ivm_e('2b', ntrain = ntr, batchsize = batch, use_pred_error = False)\n",
    "myd['2b']['ivm_f_err']['e_MAE'], myd['2b']['ivm_f_err']['e_STD'], myd['2b']['ivm_f_err']['e_RMSE'], myd['2b']['ivm_f_err']['index'], myd['2b']['ivm_f_err']['time'] = s.ivm_f('2b', ntrain = ntr, batchsize = batch)\n",
    "myd['2b']['ivm_e_err']['e_MAE'], myd['2b']['ivm_e_err']['e_STD'], myd['2b']['ivm_e_err']['e_RMSE'], myd['2b']['ivm_e_err']['index'], myd['2b']['ivm_e_err']['time'] = s.ivm_e('2b', ntrain = ntr, batchsize = batch, use_pred_error = False)\n",
    "myd['2b']['grid']['e_MAE'], myd['2b']['grid']['e_STD'], myd['2b']['grid']['e_RMSE'], myd['2b']['grid']['index'], myd['2b']['grid']['time'] = s.grid('2b', nbins = 100)\n",
    "myd['2b']['rvm']['e_MAE'], myd['2b']['rvm']['e_STD'], myd['2b']['rvm']['e_RMSE'], myd['2b']['rvm']['index'], myd['2b']['rvm']['time'] = s.rvm('2b', batchsize = batch)\n",
    "myd['2b']['random']['e_MAE'], myd['2b']['random']['e_STD'], myd['2b']['random']['e_RMSE'], myd['2b']['random']['index'], myd['2b']['random']['time'] = s.random('2b', ntrain = ntr)\n",
    "myd['2b']['cur']['e_MAE'], myd['2b']['cur']['e_STD'], myd['2b']['cur']['e_RMSE'], myd['2b']['cur']['index'], myd['2b']['cur']['time'] = s.cur('2b', ntrain = ntr, batchsize = batch)\n"
   ]
  },
  {
   "cell_type": "code",
   "execution_count": 6,
   "metadata": {
    "ExecuteTime": {
     "end_time": "2018-11-27T14:49:01.470197Z",
     "start_time": "2018-11-27T14:48:39.811460Z"
    }
   },
   "outputs": [
    {
     "name": "stdout",
     "output_type": "stream",
     "text": [
      "MAEF: 0.5410 SMAEF: 0.1323 RMSE: 0.3216\n",
      "MAEF: 0.6585 SMAEF: 0.1600 RMSE: 0.3913\n",
      "MAEF: 0.5764 SMAEF: 0.2548 RMSE: 0.3638\n",
      "MAEF: 0.5296 SMAEF: 0.1216 RMSE: 0.3137\n",
      "MAEF: 0.2260 SMAEF: 0.1043 RMSE: 0.1437\n",
      "MAEF: 0.8124 SMAEF: 0.4060 RMSE: 0.5244\n",
      "MAEF: 0.5366 SMAEF: 0.1756 RMSE: 0.3260\n",
      "MAEF: 1.3051 SMAEF: 0.2561 RMSE: 0.7679\n"
     ]
    }
   ],
   "source": [
    "for i in myd['2b'].keys():\n",
    "    myd['2b'][i]['f_MAE'], myd['2b'][i]['f_STD'], myd['2b'][i]['f_RMSE'] = s.test_forces(myd['2b'][i]['index'], '2b')"
   ]
  },
  {
   "cell_type": "code",
   "execution_count": 9,
   "metadata": {
    "ExecuteTime": {
     "end_time": "2018-11-26T14:22:34.985215Z",
     "start_time": "2018-11-26T14:21:41.532097Z"
    }
   },
   "outputs": [],
   "source": [
    "# 3 BODY\n",
    "myd['3b']['ivm_f_var']['e_MAE'], myd['3b']['ivm_f_var']['e_STD'], myd['3b']['ivm_f_var']['e_RMSE'], myd['3b']['ivm_f_var']['index'], myd['3b']['ivm_f_var']['time'] = s.ivm_f('3b', ntrain = ntr, batchsize = batch)\n",
    "myd['3b']['ivm_e_var']['e_MAE'], myd['3b']['ivm_e_var']['e_STD'], myd['3b']['ivm_e_var']['e_RMSE'], myd['3b']['ivm_e_var']['index'], myd['3b']['ivm_f_var']['time'] = s.ivm_e('3b', ntrain = ntr, batchsize = batch, use_pred_error = False)\n",
    "myd['3b']['ivm_f_err']['e_MAE'], myd['3b']['ivm_f_err']['e_STD'], myd['3b']['ivm_f_err']['e_RMSE'], myd['3b']['ivm_f_err']['index'], myd['3b']['ivm_f_err']['time'] = s.ivm_f('3b', ntrain = ntr, batchsize = batch)\n",
    "myd['3b']['ivm_e_err']['e_MAE'], myd['3b']['ivm_e_err']['e_STD'], myd['3b']['ivm_e_err']['e_RMSE'], myd['3b']['ivm_e_err']['index'], myd['3b']['ivm_e_err']['time'] = s.ivm_e('3b', ntrain = ntr, batchsize = batch, use_pred_error = False)\n",
    "myd['3b']['grid']['e_MAE'], myd['3b']['grid']['e_STD'], myd['3b']['grid']['e_RMSE'], myd['3b']['grid']['index'], myd['3b']['grid']['time'] = s.grid('3b', nbins = 100)\n",
    "myd['3b']['rvm']['e_MAE'], myd['3b']['rvm']['e_STD'], myd['3b']['rvm']['e_RMSE'], myd['3b']['rvm']['index'], myd['3b']['rvm']['time'] = s.rvm('3b', batchsize = batch)\n",
    "myd['3b']['random']['e_MAE'], myd['3b']['random']['e_STD'], myd['3b']['random']['e_RMSE'], myd['3b']['random']['index'], myd['3b']['random']['time'] = s.random('3b', ntrain = ntr)\n",
    "myd['3b']['cur']['e_MAE'], myd['3b']['cur']['e_STD'], myd['3b']['cur']['e_RMSE'], myd['3b']['cur']['index'], myd['3b']['cur']['time'] = s.cur('3b', ntrain = ntr, batchsize = batch)\n"
   ]
  },
  {
   "cell_type": "code",
   "execution_count": 10,
   "metadata": {
    "ExecuteTime": {
     "end_time": "2018-11-26T14:23:40.159653Z",
     "start_time": "2018-11-26T14:22:34.989985Z"
    }
   },
   "outputs": [
    {
     "name": "stdout",
     "output_type": "stream",
     "text": [
      "MAEF: 0.8481 SMAEF: 0.5996 RMSE: 0.5997\n",
      "MAEF: 0.8481 SMAEF: 0.5996 RMSE: 0.5997\n",
      "MAEF: 0.8537 SMAEF: 0.4225 RMSE: 0.5500\n",
      "MAEF: 0.8752 SMAEF: 0.4415 RMSE: 0.5660\n",
      "MAEF: 0.8481 SMAEF: 0.5996 RMSE: 0.5997\n",
      "MAEF: 0.7758 SMAEF: 0.3908 RMSE: 0.5015\n",
      "MAEF: 0.8481 SMAEF: 0.5996 RMSE: 0.5997\n",
      "MAEF: 0.8537 SMAEF: 0.4225 RMSE: 0.5500\n"
     ]
    }
   ],
   "source": [
    "for i in myd['3b'].keys():\n",
    "    myd['3b'][i]['f_MAE'], myd['3b'][i]['f_STD'], myd['3b'][i]['f_RMSE'] = s.test_forces(myd['3b'][i]['index'], '3b')"
   ]
  },
  {
   "cell_type": "code",
   "execution_count": 16,
   "metadata": {
    "ExecuteTime": {
     "end_time": "2018-11-27T14:55:41.076050Z",
     "start_time": "2018-11-27T14:55:41.003979Z"
    }
   },
   "outputs": [],
   "source": [
    "class NumpyEncoder(json.JSONEncoder):\n",
    "    def default(self, obj):\n",
    "        if isinstance(obj, np.ndarray):\n",
    "            return obj.tolist()\n",
    "        if isinstance(obj, np.int64): return int(obj)  \n",
    "        return json.JSONEncoder.default(self, obj)\n",
    "    \n",
    "\n",
    "import json\n",
    "with open(directory + \"/sampling_%i_ntr.json\" %(ntr), \"w\") as write_file:\n",
    "    json.dump(myd, write_file, indent=4, cls=NumpyEncoder)"
   ]
  },
  {
   "cell_type": "code",
   "execution_count": null,
   "metadata": {},
   "outputs": [],
   "source": []
  }
 ],
 "metadata": {
  "kernelspec": {
   "display_name": "Python 3",
   "language": "python",
   "name": "python3"
  },
  "language_info": {
   "codemirror_mode": {
    "name": "ipython",
    "version": 3
   },
   "file_extension": ".py",
   "mimetype": "text/x-python",
   "name": "python",
   "nbconvert_exporter": "python",
   "pygments_lexer": "ipython3",
   "version": "3.6.3"
  },
  "latex_envs": {
   "LaTeX_envs_menu_present": true,
   "autoclose": false,
   "autocomplete": true,
   "bibliofile": "biblio.bib",
   "cite_by": "apalike",
   "current_citInitial": 1,
   "eqLabelWithNumbers": true,
   "eqNumInitial": 1,
   "hotkeys": {
    "equation": "Ctrl-E",
    "itemize": "Ctrl-I"
   },
   "labels_anchors": false,
   "latex_user_defs": false,
   "report_style_numbering": false,
   "user_envs_cfg": false
  }
 },
 "nbformat": 4,
 "nbformat_minor": 2
}
