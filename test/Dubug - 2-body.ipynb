{
 "cells": [
  {
   "cell_type": "code",
   "execution_count": 36,
   "metadata": {
    "ExecuteTime": {
     "end_time": "2018-07-26T09:49:19.091770Z",
     "start_time": "2018-07-26T09:49:19.026866Z"
    }
   },
   "outputs": [
    {
     "name": "stdout",
     "output_type": "stream",
     "text": [
      "The autoreload extension is already loaded. To reload it, use:\n",
      "  %reload_ext autoreload\n"
     ]
    }
   ],
   "source": [
    "import sys\n",
    "sys.path.append('..')\n",
    "%matplotlib inline\n",
    "%load_ext autoreload\n",
    "%autoreload 2\n",
    "import os\n",
    "import logging\n",
    "from pathlib import Path\n",
    "\n",
    "import numpy as np\n",
    "import matplotlib.pyplot as plt\n",
    "\n",
    "from ase import Atoms\n",
    "from ase.io import read\n",
    "\n",
    "from m_ff.configurations import carve_confs\n",
    "from m_ff.models import TwoBodySingleSpeciesModel, ThreeBodySingleSpeciesModel, CombinedSingleSpeciesModel\n",
    "\n",
    "logging.basicConfig(level=logging.INFO)"
   ]
  },
  {
   "cell_type": "markdown",
   "metadata": {
    "ExecuteTime": {
     "end_time": "2018-06-12T11:07:25.784152Z",
     "start_time": "2018-06-12T11:07:25.751100Z"
    }
   },
   "source": [
    "## Parameters"
   ]
  },
  {
   "cell_type": "code",
   "execution_count": 91,
   "metadata": {
    "ExecuteTime": {
     "end_time": "2018-07-26T09:58:54.396819Z",
     "start_time": "2018-07-26T09:58:54.317027Z"
    }
   },
   "outputs": [],
   "source": [
    "# Parameters\n",
    "directory = Path('data/BIP_300/')\n",
    "r_cut = 8.4 # 8.4 to get the sensible energy files for BIP_300\n",
    "sigma_2b = 0.2\n",
    "sigma_3b = 1.2\n",
    "noise = 0.003\n",
    "\n",
    "# GP Parameters\n",
    "ntr = 50\n",
    "ntest = 50\n",
    "\n",
    "# mapping\n",
    "grid_start = 1.5\n",
    "num_2b = 200\n",
    "num_3b = 100\n"
   ]
  },
  {
   "cell_type": "markdown",
   "metadata": {},
   "source": [
    "## Configurations"
   ]
  },
  {
   "cell_type": "code",
   "execution_count": 92,
   "metadata": {
    "ExecuteTime": {
     "end_time": "2018-07-26T09:58:55.222491Z",
     "start_time": "2018-07-26T09:58:55.071494Z"
    }
   },
   "outputs": [],
   "source": [
    "# Get configurations and forces from file\n",
    "elementslist = [28]\n",
    "confs = np.load(directory / 'confs_cut={:.2f}.npy'.format(r_cut))\n",
    "forces = np.load(directory / 'forces_cut={:.2f}.npy'.format(r_cut))\n",
    "energies = np.load(directory / 'energies_cut={:.2f}.npy'.format(r_cut))\n",
    "numconfs = len(forces)\n",
    "ind = np.arange(numconfs)\n",
    "ind_tot = np.random.choice(ind, size=ntr + ntest, replace=False)\n",
    "\n",
    "energies = np.repeat(energies, 19)\n",
    "energies = energies - np.mean(energies)\n",
    "# Separate into random testing and training dataset\n",
    "# tr_confs, tr_forces, tr_energies = confs[ind_tot[:ntr]], forces[ind_tot[:ntr]], energies[ind_tot[:ntr]]\n",
    "# tst_confs, tst_forces, tst_energies = confs[ind_tot[ntr:]], forces[ind_tot[ntr:]], energies[ind_tot[ntr:]]\n",
    "\n",
    "# # Use fixed training and testing dataset\n",
    "tr_confs, tr_forces, tr_energies = confs[0::20][:ntr], forces[0::20][:ntr],  energies[0::20][:ntr]\n",
    "tst_confs, tst_forces, tst_energies = confs[0::20][-ntest - 1:-1], forces[0::20][-ntest - 1:-1], energies[0::20][-ntest - 1:-1]"
   ]
  },
  {
   "cell_type": "markdown",
   "metadata": {},
   "source": [
    "## GP"
   ]
  },
  {
   "cell_type": "code",
   "execution_count": 93,
   "metadata": {
    "ExecuteTime": {
     "end_time": "2018-07-26T09:58:59.252364Z",
     "start_time": "2018-07-26T09:58:56.102315Z"
    }
   },
   "outputs": [
    {
     "name": "stderr",
     "output_type": "stream",
     "text": [
      "INFO:m_ff.kernels.twobody:Started compilation of theano two body single species kernels\n",
      "INFO:m_ff.kernels.twobody:Ended compilation of theano two body single species kernels\n"
     ]
    }
   ],
   "source": [
    "# model_c = CombinedSingleSpeciesModel(elementslist[0], r_cut, sigma_2b, sigma_3b, r_cut / 10.0, r_cut / 10.0, noise)\n",
    "# model_c = ThreeBodySingleSpeciesModel(elementslist[0], r_cut, sigma_3b, r_cut / 10.0, noise)\n",
    "model_c = TwoBodySingleSpeciesModel(elementslist[0], r_cut, sigma_2b, r_cut / 10.0, noise)"
   ]
  },
  {
   "cell_type": "code",
   "execution_count": 94,
   "metadata": {
    "ExecuteTime": {
     "end_time": "2018-07-26T09:59:03.013881Z",
     "start_time": "2018-07-26T09:58:59.460236Z"
    }
   },
   "outputs": [],
   "source": [
    "# model_c.fit(tr_confs, tr_forces)\n",
    "# model_c.fit_energy(tr_confs, tr_energies)\n",
    "model_c.fit_force_and_energy(tr_confs, tr_forces, tr_energies)"
   ]
  },
  {
   "cell_type": "code",
   "execution_count": 95,
   "metadata": {
    "ExecuteTime": {
     "end_time": "2018-07-26T09:59:07.384343Z",
     "start_time": "2018-07-26T09:59:04.022000Z"
    }
   },
   "outputs": [
    {
     "name": "stdout",
     "output_type": "stream",
     "text": [
      "Testing GP\n",
      "MAEF on forces:  0.2527 +- 0.2041\n",
      "MAE on energies: 0.0939 +- 0.0650\n"
     ]
    }
   ],
   "source": [
    "# Test the GP performance\n",
    "print('Testing GP')\n",
    "\n",
    "gp_forces = np.zeros((ntest, 3))\n",
    "gp_energies = np.zeros(ntest)\n",
    "\n",
    "for i in np.arange(ntest):\n",
    "    gp_forces[i, :] = model_c.predict(np.reshape(tst_confs[i], (1, len(tst_confs[i]), 5)))\n",
    "    gp_energies[i] = model_c.predict_energy(np.reshape(tst_confs[i], (1, len(tst_confs[i]), 5)))\n",
    "                \n",
    "force_error = gp_forces - tst_forces\n",
    "energy_error = gp_energies - tst_energies\n",
    "\n",
    "MAEF = np.mean(np.sqrt(np.sum(np.square(force_error), axis=1)))\n",
    "SMAEF = np.std(np.sqrt(np.sum(np.square(force_error), axis=1)))\n",
    "\n",
    "MAE = np.mean(np.abs(energy_error))\n",
    "SMAE = np.std(np.abs(energy_error))\n",
    "\n",
    "MF = np.mean(np.linalg.norm(tst_forces, axis=1))\n",
    "\n",
    "print('MAEF on forces:  {:.4f} +- {:.4f}'.format(MAEF, SMAEF))\n",
    "print('MAE on energies: {:.4f} +- {:.4f}'.format(MAE, SMAE))"
   ]
  },
  {
   "cell_type": "code",
   "execution_count": 96,
   "metadata": {
    "ExecuteTime": {
     "end_time": "2018-07-26T09:59:07.906255Z",
     "start_time": "2018-07-26T09:59:07.400648Z"
    }
   },
   "outputs": [
    {
     "data": {
      "image/png": "[encoded data removed]",
      "text/plain": [
       "<Figure size 432x288 with 1 Axes>"
      ]
     },
     "metadata": {},
     "output_type": "display_data"
    }
   ],
   "source": [
    "plt.scatter(tst_forces, gp_forces)\n",
    "plt.plot(tst_forces, tst_forces, 'k-')\n",
    "plt.show()"
   ]
  },
  {
   "cell_type": "code",
   "execution_count": 97,
   "metadata": {
    "ExecuteTime": {
     "end_time": "2018-07-26T09:59:11.763793Z",
     "start_time": "2018-07-26T09:59:11.379859Z"
    }
   },
   "outputs": [
    {
     "data": {
      "image/png": "[encoded data removed]",
      "text/plain": [
       "<Figure size 432x288 with 1 Axes>"
      ]
     },
     "metadata": {},
     "output_type": "display_data"
    }
   ],
   "source": [
    "plt.scatter(tst_energies, gp_energies)\n",
    "plt.plot(tst_energies, tst_energies, 'k-')\n",
    "plt.show()"
   ]
  },
  {
   "cell_type": "code",
   "execution_count": 98,
   "metadata": {
    "ExecuteTime": {
     "end_time": "2018-07-26T09:59:12.417013Z",
     "start_time": "2018-07-26T09:59:12.376766Z"
    }
   },
   "outputs": [
    {
     "ename": "AttributeError",
     "evalue": "'TwoBodySingleSpeciesModel' object has no attribute 'gp_2b'",
     "output_type": "error",
     "traceback": [
      "\u001b[0;31m---------------------------------------------------------------------------\u001b[0m",
      "\u001b[0;31mAttributeError\u001b[0m                            Traceback (most recent call last)",
      "\u001b[0;32m<ipython-input-98-21eaad5e3e7e>\u001b[0m in \u001b[0;36m<module>\u001b[0;34m()\u001b[0m\n\u001b[0;32m----> 1\u001b[0;31m \u001b[0mplt\u001b[0m\u001b[0;34m.\u001b[0m\u001b[0mmatshow\u001b[0m\u001b[0;34m(\u001b[0m\u001b[0mnp\u001b[0m\u001b[0;34m.\u001b[0m\u001b[0mabs\u001b[0m\u001b[0;34m(\u001b[0m\u001b[0mmodel_c\u001b[0m\u001b[0;34m.\u001b[0m\u001b[0mgp_2b\u001b[0m\u001b[0;34m.\u001b[0m\u001b[0mK\u001b[0m\u001b[0;34m)\u001b[0m\u001b[0;34m)\u001b[0m\u001b[0;34m\u001b[0m\u001b[0m\n\u001b[0m\u001b[1;32m      2\u001b[0m \u001b[0;31m# diag = np.diag(model_c.gp.energy_K)\u001b[0m\u001b[0;34m\u001b[0m\u001b[0;34m\u001b[0m\u001b[0m\n\u001b[1;32m      3\u001b[0m \u001b[0;31m# distance = np.sqrt(diag[:,None]+ diag[None,:] - 2*model_c.gp.energy_K)\u001b[0m\u001b[0;34m\u001b[0m\u001b[0;34m\u001b[0m\u001b[0m\n\u001b[1;32m      4\u001b[0m \u001b[0;31m# plt.matshow(distance)\u001b[0m\u001b[0;34m\u001b[0m\u001b[0;34m\u001b[0m\u001b[0m\n\u001b[1;32m      5\u001b[0m \u001b[0;34m\u001b[0m\u001b[0m\n",
      "\u001b[0;31mAttributeError\u001b[0m: 'TwoBodySingleSpeciesModel' object has no attribute 'gp_2b'"
     ]
    }
   ],
   "source": [
    "plt.matshow(np.abs(model_c.gp_2b.K))\n",
    "# diag = np.diag(model_c.gp.energy_K)\n",
    "# distance = np.sqrt(diag[:,None]+ diag[None,:] - 2*model_c.gp.energy_K)\n",
    "# plt.matshow(distance)\n",
    "\n",
    "plt.colorbar()\n",
    "plt.show()"
   ]
  },
  {
   "cell_type": "code",
   "execution_count": null,
   "metadata": {
    "ExecuteTime": {
     "end_time": "2018-07-26T09:50:37.937477Z",
     "start_time": "2018-07-26T09:50:34.584Z"
    }
   },
   "outputs": [],
   "source": [
    "# plt.matshow(abs(model_c.gp.L_))\n",
    "diag = np.diag(model_c.gp_3b.K)\n",
    "distance = np.sqrt(diag[:,None]+ diag[None,:] - 2*model_c.gp_3b.K)\n",
    "plt.matshow(distance)\n",
    "\n",
    "plt.colorbar()\n",
    "plt.show()"
   ]
  },
  {
   "cell_type": "markdown",
   "metadata": {},
   "source": [
    "## Mapping"
   ]
  },
  {
   "cell_type": "code",
   "execution_count": 99,
   "metadata": {
    "ExecuteTime": {
     "end_time": "2018-07-26T09:59:19.275836Z",
     "start_time": "2018-07-26T09:59:15.524879Z"
    }
   },
   "outputs": [],
   "source": [
    "# model_c.build_grid(grid_start, num_2b, num_3b)\n",
    "model_c.build_grid(grid_start, num_2b)"
   ]
  },
  {
   "cell_type": "markdown",
   "metadata": {},
   "source": [
    "## Test Mapping on GP"
   ]
  },
  {
   "cell_type": "code",
   "execution_count": 166,
   "metadata": {
    "ExecuteTime": {
     "end_time": "2018-07-26T10:13:56.577024Z",
     "start_time": "2018-07-26T10:13:54.696083Z"
    }
   },
   "outputs": [
    {
     "name": "stderr",
     "output_type": "stream",
     "text": [
      "INFO:m_ff.calculators:numbers is in system_changes\n",
      "INFO:m_ff.calculators:initialize\n"
     ]
    },
    {
     "name": "stdout",
     "output_type": "stream",
     "text": [
      "MAEF on forces: 0.0250 +- 0.0073\n"
     ]
    }
   ],
   "source": [
    "from m_ff.calculators import TwoBodySingleSpecies, ThreeBodySingleSpecies, CombinedSingleSpecies\n",
    "\n",
    "# calc = ThreeBodySingleSpecies(r_cut, model_c.grid[(elementslist[0], elementslist[0], elementslist[0])])\n",
    "calc = TwoBodySingleSpecies(r_cut, model_c.grid[(elementslist[0], elementslist[0])], rep_alpha = 1.4)\n",
    "# calc = CombinedSingleSpecies(r_cut, model_c.grid[(elementslist[0], elementslist[0])], model_c.grid[(elementslist[0], elementslist[0], elementslist[0])], \\\n",
    "#                              rep_alpha = 0.0)\n",
    "\n",
    "map_forces = np.zeros((ntest,3))\n",
    "map_energies = np.zeros(ntest)\n",
    "gp_energies = np.zeros(ntest)\n",
    "for i in np.arange(ntest):\n",
    "    numatoms = len(tst_confs[i][:,:3])+1\n",
    "#     atoms = Atoms('Ni19', positions = np.vstack(([0.0, 0.0, 0.0], tst_confs[i][:,:3])), cell = 21.0*np.eye(3), pbc = [0, 0, 0] )\n",
    "    atoms = Atoms('Ni%i' %(numatoms), positions = np.vstack(([0.0, 0.0, 0.0], tst_confs[i][:,:3])), cell = 21.0*np.eye(3), pbc = [0, 0, 0] )\n",
    "    atoms.set_calculator(calc)\n",
    "    map_forces[i] = atoms.get_forces()[0]\n",
    "    map_energies[i] = atoms.get_potential_energy(0)\n",
    "    gp_energies[i] = model_c.predict_energy(np.reshape(tst_confs[i], (1, len(tst_confs[i]), 5)))\n",
    "\n",
    "map_error = gp_forces - map_forces  \n",
    "energy_error = gp_energies - map_energies\n",
    "MAEF = np.mean(np.sqrt(np.sum(np.square(map_error), axis=1)))\n",
    "SMAEF = np.std(np.sqrt(np.sum(np.square(map_error), axis=1)))\n",
    "\n",
    "MF = np.mean(np.linalg.norm(tst_forces, axis=1))\n",
    "# print(np.mean(np.sqrt(np.mean(np.square(map_forces), axis = 1))))\n",
    "print('MAEF on forces: {:.4f} +- {:.4f}'.format(MAEF, SMAEF))\n",
    "#     print('Relative MAEF on forces: {:.4f} +- {:.4f}'.format(MAEF / MF, SMAEF / MF))"
   ]
  },
  {
   "cell_type": "code",
   "execution_count": null,
   "metadata": {
    "ExecuteTime": {
     "end_time": "2018-07-26T09:25:59.222680Z",
     "start_time": "2018-07-26T09:25:59.185086Z"
    }
   },
   "outputs": [],
   "source": []
  },
  {
   "cell_type": "code",
   "execution_count": 167,
   "metadata": {
    "ExecuteTime": {
     "end_time": "2018-07-26T10:13:58.884185Z",
     "start_time": "2018-07-26T10:13:56.603365Z"
    }
   },
   "outputs": [
    {
     "name": "stderr",
     "output_type": "stream",
     "text": [
      "INFO:m_ff.calculators:numbers is in system_changes\n",
      "INFO:m_ff.calculators:initialize\n"
     ]
    },
    {
     "name": "stdout",
     "output_type": "stream",
     "text": [
      "[-0.59473985 -0.59473985  0.        ] [[2.92390599 2.92390599 0.        ]]\n",
      "[-0.59473985  3.56692117  0.        ] [[2.92390599 5.07818232 0.        ]]\n",
      "[-0.59473985  3.75738047  0.        ] [[2.92390599 4.44420495 0.        ]]\n",
      "[-0.59473985 -1.04102805  0.        ] [[ 2.92390599 -0.71645566  0.        ]]\n",
      "[-0.59473985 -5.80235347  0.        ] [[ 2.92390599 -5.64026764  0.        ]]\n",
      "[ 3.56692117 -0.59473985  0.        ] [[5.07818232 2.92390599 0.        ]]\n",
      "[3.56692117 3.56692117 0.        ] [[5.07818232 5.07818232 0.        ]]\n",
      "[3.56692117 3.75738047 0.        ] [[5.07818232 4.44420495 0.        ]]\n",
      "[ 3.56692117 -1.04102805  0.        ] [[ 5.07818232 -0.71645566  0.        ]]\n",
      "[ 3.56692117 -5.80235347  0.        ] [[ 5.07818232 -5.64026764  0.        ]]\n",
      "[ 3.75738047 -0.59473985  0.        ] [[4.44420495 2.92390599 0.        ]]\n",
      "[3.75738047 3.56692117 0.        ] [[4.44420495 5.07818232 0.        ]]\n",
      "[3.75738047 3.75738047 0.        ] [[4.44420495 4.44420495 0.        ]]\n",
      "[ 3.75738047 -1.04102805  0.        ] [[ 4.44420495 -0.71645566  0.        ]]\n",
      "[ 3.75738047 -5.80235347  0.        ] [[ 4.44420495 -5.64026764  0.        ]]\n",
      "[-1.04102805 -0.59473985  0.        ] [[-0.71645566  2.92390599  0.        ]]\n",
      "[-1.04102805  3.56692117  0.        ] [[-0.71645566  5.07818232  0.        ]]\n",
      "[-1.04102805  3.75738047  0.        ] [[-0.71645566  4.44420495  0.        ]]\n",
      "[-1.04102805 -1.04102805  0.        ] [[-0.71645566 -0.71645566  0.        ]]\n",
      "[-1.04102805 -5.80235347  0.        ] [[-0.71645566 -5.64026764  0.        ]]\n",
      "[-5.80235347 -0.59473985  0.        ] [[-5.64026764  2.92390599  0.        ]]\n",
      "[-5.80235347  3.56692117  0.        ] [[-5.64026764  5.07818232  0.        ]]\n",
      "[-5.80235347  3.75738047  0.        ] [[-5.64026764  4.44420495  0.        ]]\n",
      "[-5.80235347 -1.04102805  0.        ] [[-5.64026764 -0.71645566  0.        ]]\n",
      "[-5.80235347 -5.80235347  0.        ] [[-5.64026764 -5.64026764  0.        ]]\n",
      "MAEF on forces: 2.0329 +- 1.4053\n"
     ]
    }
   ],
   "source": [
    "from m_ff.calculators import TwoBodySingleSpecies, ThreeBodySingleSpecies, CombinedSingleSpecies\n",
    "\n",
    "# calc = CombinedSingleSpecies(r_cut, model_c.grid[(elementslist[0], elementslist[0])], model_c.grid[(elementslist[0], elementslist[0], elementslist[0])], \\\n",
    "#                              rep_alpha = 0.0)\n",
    "# calc = ThreeBodySingleSpecies(r_cut, model_c.grid[(elementslist[0], elementslist[0], elementslist[0])])\n",
    "# calc = TwoBodySingleSpecies(r_cut, model_c.grid[(elementslist[0], elementslist[0])], rep_alpha = 1.3)\n",
    "\n",
    "reps = 5\n",
    "map_error = np.zeros((reps**2, 3))\n",
    "for i in np.arange(reps):\n",
    "    for j in np.arange(reps):\n",
    "        for k in np.arange(1):\n",
    "            for l in np.arange(1):\n",
    "                conf = np.asarray([[0.0, 0.0, 0.0, 28, 28],[1.5+i*0.1, 0.0, 0.0, 28, 28], [0.0, 1.5+j*0.1, 0.0, 28, 28]])\n",
    "                atoms = Atoms('Ni3', positions = conf[:,:3], cell = 21.0*np.eye(3), pbc = [0, 0, 0] )\n",
    "                atoms.set_calculator(calc)\n",
    "                map_forces = atoms.get_forces()\n",
    "                small_gp_forces = model_c.predict(np.reshape(conf[1:], (1,2,5)))\n",
    "                print(map_forces[0], small_gp_forces)\n",
    "#                 print(atoms.get_potential_energy(0), model_c.predict_energy(np.reshape(conf[1:], (1,2,5))))\n",
    "                map_error[i*reps+j]= small_gp_forces - map_forces[0]\n",
    "\n",
    "    #             MAEF = np.mean(np.sqrt(np.sum(np.square(map_error), axis=1)))\n",
    "    #             SMAEF = np.std(np.sqrt(np.sum(np.square(map_error), axis=1)))\n",
    "\n",
    "    #             MF = np.mean(np.linalg.norm(tst_forces, axis=1))\n",
    "            #     print(small_gp_forces)\n",
    "            #     print(map_forces[0])\n",
    "    #             print('MAEF on forces: {:.4f} +- {:.4f}'.format(MAEF, SMAEF))\n",
    "            #     print('Relative MAEF on forces: {:.4f} +- {:.4f}'.format(MAEF / MF, SMAEF / MF))\n",
    "MAEF = np.mean(np.sqrt(np.sum(np.square(map_error), axis=1)))\n",
    "SMAEF = np.std(np.sqrt(np.sum(np.square(map_error), axis=1)))  \n",
    "print('MAEF on forces: {:.4f} +- {:.4f}'.format(MAEF, SMAEF))"
   ]
  },
  {
   "cell_type": "code",
   "execution_count": 168,
   "metadata": {
    "ExecuteTime": {
     "end_time": "2018-07-26T10:14:16.965461Z",
     "start_time": "2018-07-26T10:13:58.890562Z"
    }
   },
   "outputs": [
    {
     "name": "stderr",
     "output_type": "stream",
     "text": [
      "INFO:m_ff.calculators:numbers is in system_changes\n",
      "INFO:m_ff.calculators:initialize\n"
     ]
    }
   ],
   "source": [
    "from m_ff.calculators import TwoBodySingleSpecies, ThreeBodySingleSpecies, CombinedSingleSpecies\n",
    "# calc = CombinedSingleSpecies(r_cut, model_c.grid[(elementslist[0], elementslist[0])], model_c.grid[(elementslist[0], elementslist[0], elementslist[0])], \\\n",
    "#                              rep_alpha = 1.5)\n",
    "# calc = ThreeBodySingleSpecies(r_cut, model_c.grid[(elementslist[0], elementslist[0], elementslist[0])])\n",
    "\n",
    "npoints_grid = 200\n",
    "potential = np.zeros(npoints_grid)\n",
    "force = np.zeros(npoints_grid)\n",
    "gp_potential = np.zeros(npoints_grid)\n",
    "gp_force = np.zeros((npoints_grid, 3))\n",
    "for i in np.arange(npoints_grid):\n",
    "    conf = np.asarray([[0.0, 0.0, 0.0, 28, 28],[1.5+i*(7/npoints_grid), 0.0, 0.0, 28, 28]])\n",
    "    atoms = Atoms('Ni2', positions = conf[:,:3], cell = 21.0*np.eye(3), pbc = [0, 0, 0] )\n",
    "    atoms.set_calculator(calc)\n",
    "    potential[i] = atoms.get_potential_energy()\n",
    "    force[i] = atoms.get_forces()[0][0]\n",
    "    gp_potential[i] = model_c.predict_energy(np.reshape(conf[1], (1, 1, 5)))\n",
    "    gp_force[i] = model_c.predict(np.reshape(conf[1], (1, 1, 5)))"
   ]
  },
  {
   "cell_type": "code",
   "execution_count": 169,
   "metadata": {
    "ExecuteTime": {
     "end_time": "2018-07-26T10:14:17.510974Z",
     "start_time": "2018-07-26T10:14:16.978682Z"
    }
   },
   "outputs": [
    {
     "data": {
      "image/png": "[encoded data removed]",
      "text/plain": [
       "<Figure size 432x288 with 1 Axes>"
      ]
     },
     "metadata": {},
     "output_type": "display_data"
    }
   ],
   "source": [
    "plt.plot(np.linspace(1.5, 8.5, npoints_grid), potential)\n",
    "plt.plot(np.linspace(1.5, 8.5, npoints_grid), force)\n",
    "plt.plot(np.linspace(1.5, 8.5, npoints_grid), gp_potential)\n",
    "plt.plot(np.linspace(1.5, 8.5, npoints_grid), gp_force[:,0], 'r')\n",
    "plt.show()"
   ]
  },
  {
   "cell_type": "markdown",
   "metadata": {},
   "source": [
    "## Test mapping on traj"
   ]
  },
  {
   "cell_type": "code",
   "execution_count": 171,
   "metadata": {
    "ExecuteTime": {
     "end_time": "2018-07-26T10:15:47.043875Z",
     "start_time": "2018-07-26T10:15:46.916856Z"
    }
   },
   "outputs": [],
   "source": [
    "from m_ff.calculators import TwoBodySingleSpecies, ThreeBodySingleSpecies, CombinedSingleSpecies\n",
    "# calc = CombinedSingleSpecies(r_cut, model_c.grid[(28, 28)], model_c.grid[(28, 28, 28)], rep_alpha = 1.2)\n",
    "# calc = TwoBodySingleSpecies(r_cut, model_c.grid[(elementslist[0], elementslist[0])], rep_alpha = 0.0)\n",
    "# calc = ThreeBodySingleSpecies(r_cut, model_c.grid[(elementslist[0], elementslist[0], elementslist[0])])\n",
    "\n",
    "filename = directory / 'movie.xyz'\n",
    "traj = read(str(filename), index=slice(0, 10))\n",
    "# for atoms in traj:\n",
    "#     atoms.set_cell(21.0*np.identity(3))\n",
    "#     atoms.set_calculator(calc)\n",
    "\n",
    "#     #rms_mean, rms_std = rmse(atoms.arrays['force'], atoms.get_forces())\n",
    "#     #print('MAEF on forces: {:.4f} +- {:.4f}'.format(rms_mean, rms_std))\n",
    "#     print(atoms.get_forces())\n"
   ]
  },
  {
   "cell_type": "markdown",
   "metadata": {},
   "source": [
    "## Run simple dynamics"
   ]
  },
  {
   "cell_type": "code",
   "execution_count": 172,
   "metadata": {
    "ExecuteTime": {
     "end_time": "2018-07-26T10:15:47.856841Z",
     "start_time": "2018-07-26T10:15:47.821132Z"
    }
   },
   "outputs": [],
   "source": [
    "# Global Variables Definition\n",
    "gamma = 0.001\n",
    "temp = 200 #K\n",
    "dt = 1.0  # fs\n",
    "steps = 10000\n",
    "t = steps * dt * 10 ** (-3)  # time in ps"
   ]
  },
  {
   "cell_type": "code",
   "execution_count": 173,
   "metadata": {
    "ExecuteTime": {
     "end_time": "2018-07-26T10:15:48.252400Z",
     "start_time": "2018-07-26T10:15:48.199695Z"
    }
   },
   "outputs": [],
   "source": [
    "atoms = traj[1]\n",
    "atoms.set_positions(traj[1].get_positions())\n",
    "atoms.set_pbc(False)\n",
    "atoms.set_cell([(21, 0, 0), (0, 21, 0), (0, 0, 21)])\n",
    "atoms.set_calculator(calc)"
   ]
  },
  {
   "cell_type": "code",
   "execution_count": 174,
   "metadata": {
    "ExecuteTime": {
     "end_time": "2018-07-26T10:15:48.735334Z",
     "start_time": "2018-07-26T10:15:48.685846Z"
    }
   },
   "outputs": [],
   "source": [
    "# from ase.build import bulk, stack\n",
    "# atoms = bulk('Fe', 'bcc', a=2.856, cubic=True)\n",
    "# atoms = stack(atoms, atoms, axis=0)\n",
    "# atoms = stack(atoms, atoms, axis=1)\n",
    "# atoms = stack(atoms, atoms, axis=2)\n",
    "# atoms = stack(atoms, atoms, axis=0)\n",
    "# atoms = stack(atoms, atoms, axis=1)\n",
    "# atoms = stack(atoms, atoms, axis=2)\n",
    "\n",
    "# del atoms[0]\n",
    "# atoms.set_calculator(calc)\n",
    "# len(atoms)"
   ]
  },
  {
   "cell_type": "code",
   "execution_count": 175,
   "metadata": {
    "ExecuteTime": {
     "end_time": "2018-07-26T10:15:49.280800Z",
     "start_time": "2018-07-26T10:15:49.213200Z"
    }
   },
   "outputs": [],
   "source": [
    "from ase.md.velocitydistribution import MaxwellBoltzmannDistribution\n",
    "from ase.md.velocitydistribution import Stationary\n",
    "from ase.md.velocitydistribution import ZeroRotation\n",
    "from ase.md.verlet import VelocityVerlet\n",
    "from ase.md.langevin import Langevin\n",
    "from ase import units\n",
    "\n",
    "Stationary(atoms)\n",
    "ZeroRotation(atoms)\n",
    "dyn = VelocityVerlet(atoms, dt * units.fs)\n",
    "MaxwellBoltzmannDistribution(atoms, 2.0 * temp * units.kB)"
   ]
  },
  {
   "cell_type": "code",
   "execution_count": 176,
   "metadata": {
    "ExecuteTime": {
     "end_time": "2018-07-26T10:15:49.816436Z",
     "start_time": "2018-07-26T10:15:49.766131Z"
    }
   },
   "outputs": [],
   "source": [
    "def printenergy(a=atoms):\n",
    "    \"\"\"Function to print the potential, kinetic and total energy\"\"\"\n",
    "    epot = a.get_potential_energy() / len(a)\n",
    "    ekin = a.get_kinetic_energy() / len(a)\n",
    "    print('Energy per atom: Epot = %.3feV  Ekin = %.3feV (T=%3.0fK)  '\n",
    "          'Etot = %.3feV' % (epot, ekin, ekin / (1.5 * units.kB), epot + ekin))\n",
    "    \n",
    "def savexyz(a=atoms):\n",
    "    this_traj = open(traj_filename, \"a\")\n",
    "    extxyz.write_extxyz(this_traj, [atoms])\n",
    "    \n",
    "def printforces(a=atoms):\n",
    "    forces = a.get_forces()\n",
    "    print(forces)"
   ]
  },
  {
   "cell_type": "code",
   "execution_count": 177,
   "metadata": {
    "ExecuteTime": {
     "end_time": "2018-07-26T10:15:50.329708Z",
     "start_time": "2018-07-26T10:15:50.229793Z"
    }
   },
   "outputs": [],
   "source": [
    "import scipy as sp\n",
    "pos = atoms.get_positions()\n",
    "dist = np.reshape(sp.spatial.distance.cdist(pos, pos), len(pos)**2)\n",
    "from ase.io import extxyz\n",
    "traj_filename = \"example.xyz\""
   ]
  },
  {
   "cell_type": "code",
   "execution_count": 178,
   "metadata": {
    "ExecuteTime": {
     "end_time": "2018-07-26T10:16:39.802765Z",
     "start_time": "2018-07-26T10:15:51.346177Z"
    }
   },
   "outputs": [
    {
     "name": "stderr",
     "output_type": "stream",
     "text": [
      "INFO:m_ff.calculators:numbers is in system_changes\n",
      "INFO:m_ff.calculators:initialize\n"
     ]
    },
    {
     "name": "stdout",
     "output_type": "stream",
     "text": [
      "Energy per atom: Epot = -0.015eV  Ekin = 0.041eV (T=319K)  Etot = 0.026eV\n",
      "Energy per atom: Epot = -0.003eV  Ekin = 0.029eV (T=227K)  Etot = 0.027eV\n",
      "Energy per atom: Epot = 0.007eV  Ekin = 0.020eV (T=151K)  Etot = 0.027eV\n",
      "Energy per atom: Epot = 0.010eV  Ekin = 0.017eV (T=131K)  Etot = 0.027eV\n",
      "Energy per atom: Epot = 0.007eV  Ekin = 0.020eV (T=154K)  Etot = 0.026eV\n",
      "Energy per atom: Epot = 0.003eV  Ekin = 0.023eV (T=181K)  Etot = 0.026eV\n",
      "Energy per atom: Epot = 0.002eV  Ekin = 0.024eV (T=189K)  Etot = 0.026eV\n",
      "Energy per atom: Epot = 0.005eV  Ekin = 0.021eV (T=165K)  Etot = 0.026eV\n",
      "Energy per atom: Epot = 0.011eV  Ekin = 0.015eV (T=117K)  Etot = 0.026eV\n",
      "Energy per atom: Epot = 0.012eV  Ekin = 0.014eV (T=109K)  Etot = 0.026eV\n",
      "Energy per atom: Epot = 0.005eV  Ekin = 0.021eV (T=160K)  Etot = 0.026eV\n",
      "Energy per atom: Epot = -0.002eV  Ekin = 0.028eV (T=219K)  Etot = 0.026eV\n",
      "Energy per atom: Epot = -0.007eV  Ekin = 0.033eV (T=253K)  Etot = 0.026eV\n",
      "Energy per atom: Epot = -0.009eV  Ekin = 0.035eV (T=270K)  Etot = 0.026eV\n",
      "Energy per atom: Epot = -0.009eV  Ekin = 0.035eV (T=270K)  Etot = 0.026eV\n",
      "Energy per atom: Epot = -0.006eV  Ekin = 0.032eV (T=248K)  Etot = 0.026eV\n",
      "Energy per atom: Epot = -0.001eV  Ekin = 0.028eV (T=213K)  Etot = 0.027eV\n",
      "Energy per atom: Epot = 0.002eV  Ekin = 0.025eV (T=193K)  Etot = 0.027eV\n",
      "Energy per atom: Epot = 0.001eV  Ekin = 0.026eV (T=202K)  Etot = 0.027eV\n",
      "Energy per atom: Epot = -0.001eV  Ekin = 0.028eV (T=217K)  Etot = 0.027eV\n",
      "Energy per atom: Epot = -0.001eV  Ekin = 0.027eV (T=211K)  Etot = 0.027eV\n",
      "Energy per atom: Epot = 0.003eV  Ekin = 0.024eV (T=182K)  Etot = 0.026eV\n",
      "Energy per atom: Epot = 0.006eV  Ekin = 0.020eV (T=156K)  Etot = 0.026eV\n",
      "Energy per atom: Epot = 0.005eV  Ekin = 0.021eV (T=160K)  Etot = 0.026eV\n",
      "Energy per atom: Epot = 0.002eV  Ekin = 0.024eV (T=187K)  Etot = 0.026eV\n",
      "Energy per atom: Epot = -0.002eV  Ekin = 0.027eV (T=212K)  Etot = 0.026eV\n",
      "Energy per atom: Epot = -0.003eV  Ekin = 0.029eV (T=222K)  Etot = 0.026eV\n",
      "Energy per atom: Epot = -0.000eV  Ekin = 0.026eV (T=201K)  Etot = 0.026eV\n",
      "Energy per atom: Epot = 0.004eV  Ekin = 0.022eV (T=170K)  Etot = 0.026eV\n",
      "Energy per atom: Epot = 0.003eV  Ekin = 0.023eV (T=181K)  Etot = 0.026eV\n",
      "Energy per atom: Epot = -0.002eV  Ekin = 0.028eV (T=220K)  Etot = 0.026eV\n",
      "Energy per atom: Epot = -0.003eV  Ekin = 0.029eV (T=225K)  Etot = 0.026eV\n",
      "Energy per atom: Epot = -0.000eV  Ekin = 0.026eV (T=205K)  Etot = 0.026eV\n",
      "Energy per atom: Epot = 0.001eV  Ekin = 0.025eV (T=193K)  Etot = 0.026eV\n",
      "Energy per atom: Epot = 0.002eV  Ekin = 0.025eV (T=191K)  Etot = 0.026eV\n",
      "Energy per atom: Epot = 0.002eV  Ekin = 0.024eV (T=188K)  Etot = 0.026eV\n",
      "Energy per atom: Epot = 0.002eV  Ekin = 0.024eV (T=186K)  Etot = 0.026eV\n",
      "Energy per atom: Epot = 0.002eV  Ekin = 0.024eV (T=188K)  Etot = 0.026eV\n",
      "Energy per atom: Epot = 0.002eV  Ekin = 0.025eV (T=192K)  Etot = 0.026eV\n",
      "Energy per atom: Epot = 0.001eV  Ekin = 0.025eV (T=194K)  Etot = 0.026eV\n",
      "Energy per atom: Epot = 0.001eV  Ekin = 0.025eV (T=192K)  Etot = 0.026eV\n",
      "Energy per atom: Epot = 0.001eV  Ekin = 0.025eV (T=191K)  Etot = 0.026eV\n",
      "Energy per atom: Epot = 0.000eV  Ekin = 0.026eV (T=201K)  Etot = 0.026eV\n",
      "Energy per atom: Epot = -0.002eV  Ekin = 0.028eV (T=214K)  Etot = 0.026eV\n",
      "Energy per atom: Epot = -0.002eV  Ekin = 0.028eV (T=215K)  Etot = 0.026eV\n",
      "Energy per atom: Epot = -0.001eV  Ekin = 0.027eV (T=211K)  Etot = 0.026eV\n",
      "Energy per atom: Epot = -0.002eV  Ekin = 0.028eV (T=216K)  Etot = 0.026eV\n",
      "Energy per atom: Epot = -0.004eV  Ekin = 0.030eV (T=233K)  Etot = 0.026eV\n",
      "Energy per atom: Epot = -0.006eV  Ekin = 0.032eV (T=248K)  Etot = 0.026eV\n",
      "Energy per atom: Epot = -0.004eV  Ekin = 0.030eV (T=235K)  Etot = 0.026eV\n",
      "Energy per atom: Epot = 0.002eV  Ekin = 0.025eV (T=190K)  Etot = 0.026eV\n",
      "Energy per atom: Epot = 0.008eV  Ekin = 0.018eV (T=140K)  Etot = 0.026eV\n",
      "Energy per atom: Epot = 0.011eV  Ekin = 0.015eV (T=117K)  Etot = 0.026eV\n",
      "Energy per atom: Epot = 0.009eV  Ekin = 0.017eV (T=130K)  Etot = 0.026eV\n",
      "Energy per atom: Epot = 0.004eV  Ekin = 0.022eV (T=169K)  Etot = 0.026eV\n",
      "Energy per atom: Epot = -0.002eV  Ekin = 0.027eV (T=212K)  Etot = 0.026eV\n",
      "Energy per atom: Epot = -0.005eV  Ekin = 0.031eV (T=241K)  Etot = 0.026eV\n",
      "Energy per atom: Epot = -0.006eV  Ekin = 0.032eV (T=246K)  Etot = 0.026eV\n",
      "Energy per atom: Epot = -0.005eV  Ekin = 0.031eV (T=240K)  Etot = 0.026eV\n",
      "Energy per atom: Epot = -0.004eV  Ekin = 0.029eV (T=228K)  Etot = 0.026eV\n",
      "Energy per atom: Epot = -0.000eV  Ekin = 0.026eV (T=205K)  Etot = 0.026eV\n",
      "Energy per atom: Epot = 0.003eV  Ekin = 0.023eV (T=181K)  Etot = 0.026eV\n",
      "Energy per atom: Epot = 0.005eV  Ekin = 0.022eV (T=166K)  Etot = 0.026eV\n",
      "Energy per atom: Epot = 0.006eV  Ekin = 0.020eV (T=158K)  Etot = 0.026eV\n",
      "Energy per atom: Epot = 0.007eV  Ekin = 0.020eV (T=154K)  Etot = 0.027eV\n",
      "Energy per atom: Epot = 0.006eV  Ekin = 0.021eV (T=162K)  Etot = 0.027eV\n",
      "Energy per atom: Epot = 0.002eV  Ekin = 0.024eV (T=187K)  Etot = 0.026eV\n",
      "Energy per atom: Epot = -0.002eV  Ekin = 0.028eV (T=218K)  Etot = 0.026eV\n",
      "Energy per atom: Epot = -0.004eV  Ekin = 0.030eV (T=235K)  Etot = 0.026eV\n",
      "Energy per atom: Epot = -0.003eV  Ekin = 0.029eV (T=227K)  Etot = 0.026eV\n",
      "Energy per atom: Epot = -0.000eV  Ekin = 0.026eV (T=204K)  Etot = 0.026eV\n",
      "Energy per atom: Epot = 0.001eV  Ekin = 0.025eV (T=193K)  Etot = 0.026eV\n",
      "Energy per atom: Epot = -0.001eV  Ekin = 0.027eV (T=207K)  Etot = 0.026eV\n",
      "Energy per atom: Epot = -0.003eV  Ekin = 0.029eV (T=221K)  Etot = 0.026eV\n",
      "Energy per atom: Epot = -0.002eV  Ekin = 0.028eV (T=213K)  Etot = 0.026eV\n",
      "Energy per atom: Epot = 0.002eV  Ekin = 0.024eV (T=189K)  Etot = 0.026eV\n",
      "Energy per atom: Epot = 0.006eV  Ekin = 0.020eV (T=156K)  Etot = 0.026eV\n",
      "Energy per atom: Epot = 0.009eV  Ekin = 0.017eV (T=132K)  Etot = 0.026eV\n",
      "Energy per atom: Epot = 0.010eV  Ekin = 0.016eV (T=127K)  Etot = 0.026eV\n",
      "Energy per atom: Epot = 0.008eV  Ekin = 0.019eV (T=146K)  Etot = 0.026eV\n",
      "Energy per atom: Epot = 0.003eV  Ekin = 0.024eV (T=184K)  Etot = 0.026eV\n",
      "Energy per atom: Epot = -0.004eV  Ekin = 0.030eV (T=231K)  Etot = 0.026eV\n",
      "Energy per atom: Epot = -0.008eV  Ekin = 0.034eV (T=261K)  Etot = 0.026eV\n",
      "Energy per atom: Epot = -0.007eV  Ekin = 0.033eV (T=257K)  Etot = 0.026eV\n",
      "Energy per atom: Epot = -0.004eV  Ekin = 0.030eV (T=235K)  Etot = 0.026eV\n",
      "Energy per atom: Epot = -0.001eV  Ekin = 0.027eV (T=211K)  Etot = 0.026eV\n",
      "Energy per atom: Epot = 0.003eV  Ekin = 0.023eV (T=182K)  Etot = 0.026eV\n",
      "Energy per atom: Epot = 0.005eV  Ekin = 0.022eV (T=167K)  Etot = 0.026eV\n",
      "Energy per atom: Epot = 0.002eV  Ekin = 0.024eV (T=186K)  Etot = 0.026eV\n",
      "Energy per atom: Epot = -0.002eV  Ekin = 0.029eV (T=221K)  Etot = 0.026eV\n",
      "Energy per atom: Epot = -0.005eV  Ekin = 0.031eV (T=238K)  Etot = 0.026eV\n",
      "Energy per atom: Epot = -0.003eV  Ekin = 0.029eV (T=224K)  Etot = 0.026eV\n",
      "Energy per atom: Epot = 0.001eV  Ekin = 0.025eV (T=194K)  Etot = 0.026eV\n",
      "Energy per atom: Epot = 0.005eV  Ekin = 0.021eV (T=163K)  Etot = 0.026eV\n",
      "Energy per atom: Epot = 0.008eV  Ekin = 0.018eV (T=140K)  Etot = 0.026eV\n",
      "Energy per atom: Epot = 0.007eV  Ekin = 0.019eV (T=145K)  Etot = 0.026eV\n",
      "Energy per atom: Epot = 0.002eV  Ekin = 0.024eV (T=185K)  Etot = 0.026eV\n",
      "Energy per atom: Epot = -0.003eV  Ekin = 0.029eV (T=222K)  Etot = 0.026eV\n",
      "Energy per atom: Epot = -0.002eV  Ekin = 0.028eV (T=216K)  Etot = 0.026eV\n",
      "Energy per atom: Epot = 0.003eV  Ekin = 0.023eV (T=179K)  Etot = 0.026eV\n",
      "Energy per atom: Epot = 0.005eV  Ekin = 0.021eV (T=164K)  Etot = 0.026eV\n",
      "Energy per atom: Epot = 0.002eV  Ekin = 0.024eV (T=189K)  Etot = 0.026eV\n",
      "Energy per atom: Epot = -0.004eV  Ekin = 0.030eV (T=230K)  Etot = 0.026eV\n",
      "Energy per atom: Epot = -0.007eV  Ekin = 0.033eV (T=254K)  Etot = 0.026eV\n",
      "Energy per atom: Epot = -0.007eV  Ekin = 0.033eV (T=253K)  Etot = 0.026eV\n",
      "Energy per atom: Epot = -0.005eV  Ekin = 0.031eV (T=239K)  Etot = 0.026eV\n",
      "Energy per atom: Epot = -0.002eV  Ekin = 0.027eV (T=213K)  Etot = 0.026eV\n",
      "Energy per atom: Epot = 0.003eV  Ekin = 0.023eV (T=176K)  Etot = 0.026eV\n",
      "Energy per atom: Epot = 0.006eV  Ekin = 0.020eV (T=153K)  Etot = 0.026eV\n",
      "Energy per atom: Epot = 0.007eV  Ekin = 0.019eV (T=150K)  Etot = 0.026eV\n",
      "Energy per atom: Epot = 0.006eV  Ekin = 0.020eV (T=157K)  Etot = 0.026eV\n",
      "Energy per atom: Epot = 0.004eV  Ekin = 0.022eV (T=171K)  Etot = 0.026eV\n",
      "Energy per atom: Epot = 0.002eV  Ekin = 0.024eV (T=187K)  Etot = 0.026eV\n"
     ]
    },
    {
     "name": "stdout",
     "output_type": "stream",
     "text": [
      "Energy per atom: Epot = -0.001eV  Ekin = 0.026eV (T=204K)  Etot = 0.026eV\n",
      "Energy per atom: Epot = -0.003eV  Ekin = 0.028eV (T=220K)  Etot = 0.026eV\n",
      "Energy per atom: Epot = -0.005eV  Ekin = 0.030eV (T=234K)  Etot = 0.026eV\n",
      "Energy per atom: Epot = -0.005eV  Ekin = 0.031eV (T=240K)  Etot = 0.026eV\n",
      "Energy per atom: Epot = -0.004eV  Ekin = 0.030eV (T=229K)  Etot = 0.026eV\n",
      "Energy per atom: Epot = -0.001eV  Ekin = 0.027eV (T=207K)  Etot = 0.026eV\n",
      "Energy per atom: Epot = 0.002eV  Ekin = 0.025eV (T=190K)  Etot = 0.026eV\n",
      "Energy per atom: Epot = 0.002eV  Ekin = 0.024eV (T=185K)  Etot = 0.026eV\n",
      "Energy per atom: Epot = 0.002eV  Ekin = 0.024eV (T=188K)  Etot = 0.026eV\n",
      "Energy per atom: Epot = 0.002eV  Ekin = 0.025eV (T=190K)  Etot = 0.026eV\n",
      "Energy per atom: Epot = 0.003eV  Ekin = 0.023eV (T=180K)  Etot = 0.026eV\n",
      "Energy per atom: Epot = 0.006eV  Ekin = 0.020eV (T=153K)  Etot = 0.026eV\n",
      "Energy per atom: Epot = 0.008eV  Ekin = 0.018eV (T=135K)  Etot = 0.026eV\n",
      "Energy per atom: Epot = 0.007eV  Ekin = 0.019eV (T=147K)  Etot = 0.026eV\n",
      "Energy per atom: Epot = 0.004eV  Ekin = 0.021eV (T=166K)  Etot = 0.026eV\n",
      "Energy per atom: Epot = 0.003eV  Ekin = 0.023eV (T=178K)  Etot = 0.026eV\n",
      "Energy per atom: Epot = 0.001eV  Ekin = 0.025eV (T=192K)  Etot = 0.026eV\n",
      "Energy per atom: Epot = -0.001eV  Ekin = 0.027eV (T=209K)  Etot = 0.026eV\n",
      "Energy per atom: Epot = -0.003eV  Ekin = 0.029eV (T=223K)  Etot = 0.026eV\n",
      "Energy per atom: Epot = -0.004eV  Ekin = 0.030eV (T=231K)  Etot = 0.026eV\n",
      "Energy per atom: Epot = -0.003eV  Ekin = 0.029eV (T=226K)  Etot = 0.026eV\n",
      "Energy per atom: Epot = -0.001eV  Ekin = 0.027eV (T=213K)  Etot = 0.026eV\n",
      "Energy per atom: Epot = 0.000eV  Ekin = 0.026eV (T=200K)  Etot = 0.026eV\n",
      "Energy per atom: Epot = 0.002eV  Ekin = 0.025eV (T=191K)  Etot = 0.026eV\n",
      "Energy per atom: Epot = 0.003eV  Ekin = 0.024eV (T=184K)  Etot = 0.027eV\n",
      "Energy per atom: Epot = 0.003eV  Ekin = 0.023eV (T=181K)  Etot = 0.027eV\n",
      "Energy per atom: Epot = 0.004eV  Ekin = 0.023eV (T=178K)  Etot = 0.027eV\n",
      "Energy per atom: Epot = 0.003eV  Ekin = 0.023eV (T=181K)  Etot = 0.026eV\n",
      "Energy per atom: Epot = 0.001eV  Ekin = 0.025eV (T=193K)  Etot = 0.026eV\n",
      "Energy per atom: Epot = -0.001eV  Ekin = 0.027eV (T=211K)  Etot = 0.026eV\n",
      "Energy per atom: Epot = -0.003eV  Ekin = 0.029eV (T=224K)  Etot = 0.026eV\n",
      "Energy per atom: Epot = -0.005eV  Ekin = 0.030eV (T=233K)  Etot = 0.026eV\n",
      "Energy per atom: Epot = -0.005eV  Ekin = 0.031eV (T=238K)  Etot = 0.026eV\n",
      "Energy per atom: Epot = -0.003eV  Ekin = 0.029eV (T=225K)  Etot = 0.026eV\n",
      "Energy per atom: Epot = -0.001eV  Ekin = 0.026eV (T=204K)  Etot = 0.026eV\n",
      "Energy per atom: Epot = -0.000eV  Ekin = 0.026eV (T=202K)  Etot = 0.026eV\n",
      "Energy per atom: Epot = -0.001eV  Ekin = 0.027eV (T=212K)  Etot = 0.026eV\n",
      "Energy per atom: Epot = -0.000eV  Ekin = 0.026eV (T=204K)  Etot = 0.026eV\n",
      "Energy per atom: Epot = 0.003eV  Ekin = 0.023eV (T=178K)  Etot = 0.026eV\n",
      "Energy per atom: Epot = 0.006eV  Ekin = 0.020eV (T=155K)  Etot = 0.026eV\n",
      "Energy per atom: Epot = 0.007eV  Ekin = 0.019eV (T=148K)  Etot = 0.026eV\n",
      "Energy per atom: Epot = 0.006eV  Ekin = 0.020eV (T=154K)  Etot = 0.026eV\n",
      "Energy per atom: Epot = 0.006eV  Ekin = 0.020eV (T=157K)  Etot = 0.026eV\n",
      "Energy per atom: Epot = 0.006eV  Ekin = 0.020eV (T=157K)  Etot = 0.026eV\n",
      "Energy per atom: Epot = 0.004eV  Ekin = 0.022eV (T=169K)  Etot = 0.026eV\n",
      "Energy per atom: Epot = 0.000eV  Ekin = 0.025eV (T=197K)  Etot = 0.026eV\n",
      "Energy per atom: Epot = -0.004eV  Ekin = 0.029eV (T=227K)  Etot = 0.026eV\n",
      "Energy per atom: Epot = -0.006eV  Ekin = 0.032eV (T=248K)  Etot = 0.026eV\n",
      "Energy per atom: Epot = -0.007eV  Ekin = 0.033eV (T=255K)  Etot = 0.026eV\n",
      "Energy per atom: Epot = -0.006eV  Ekin = 0.032eV (T=247K)  Etot = 0.026eV\n",
      "Energy per atom: Epot = -0.003eV  Ekin = 0.030eV (T=230K)  Etot = 0.026eV\n",
      "Energy per atom: Epot = -0.001eV  Ekin = 0.027eV (T=211K)  Etot = 0.026eV\n",
      "Energy per atom: Epot = 0.001eV  Ekin = 0.025eV (T=196K)  Etot = 0.026eV\n",
      "Energy per atom: Epot = 0.002eV  Ekin = 0.024eV (T=185K)  Etot = 0.026eV\n",
      "Energy per atom: Epot = 0.004eV  Ekin = 0.022eV (T=173K)  Etot = 0.026eV\n",
      "Energy per atom: Epot = 0.006eV  Ekin = 0.021eV (T=161K)  Etot = 0.026eV\n",
      "Energy per atom: Epot = 0.006eV  Ekin = 0.021eV (T=160K)  Etot = 0.026eV\n",
      "Energy per atom: Epot = 0.003eV  Ekin = 0.023eV (T=178K)  Etot = 0.026eV\n",
      "Energy per atom: Epot = -0.000eV  Ekin = 0.026eV (T=202K)  Etot = 0.026eV\n",
      "Energy per atom: Epot = -0.002eV  Ekin = 0.027eV (T=211K)  Etot = 0.026eV\n",
      "Energy per atom: Epot = -0.001eV  Ekin = 0.027eV (T=207K)  Etot = 0.026eV\n",
      "Energy per atom: Epot = -0.002eV  Ekin = 0.027eV (T=211K)  Etot = 0.025eV\n",
      "Energy per atom: Epot = -0.003eV  Ekin = 0.029eV (T=223K)  Etot = 0.025eV\n",
      "Energy per atom: Epot = -0.004eV  Ekin = 0.029eV (T=225K)  Etot = 0.025eV\n",
      "Energy per atom: Epot = -0.002eV  Ekin = 0.027eV (T=211K)  Etot = 0.025eV\n",
      "Energy per atom: Epot = -0.000eV  Ekin = 0.026eV (T=200K)  Etot = 0.026eV\n",
      "Energy per atom: Epot = 0.001eV  Ekin = 0.025eV (T=196K)  Etot = 0.026eV\n",
      "Energy per atom: Epot = 0.003eV  Ekin = 0.023eV (T=182K)  Etot = 0.026eV\n",
      "Energy per atom: Epot = 0.006eV  Ekin = 0.020eV (T=154K)  Etot = 0.026eV\n",
      "Energy per atom: Epot = 0.009eV  Ekin = 0.018eV (T=137K)  Etot = 0.026eV\n",
      "Energy per atom: Epot = 0.008eV  Ekin = 0.019eV (T=145K)  Etot = 0.026eV\n",
      "Energy per atom: Epot = 0.004eV  Ekin = 0.022eV (T=173K)  Etot = 0.026eV\n",
      "Energy per atom: Epot = -0.001eV  Ekin = 0.027eV (T=212K)  Etot = 0.026eV\n",
      "Energy per atom: Epot = -0.005eV  Ekin = 0.031eV (T=240K)  Etot = 0.026eV\n",
      "Energy per atom: Epot = -0.005eV  Ekin = 0.030eV (T=235K)  Etot = 0.026eV\n",
      "Energy per atom: Epot = -0.001eV  Ekin = 0.026eV (T=202K)  Etot = 0.026eV\n",
      "Energy per atom: Epot = 0.002eV  Ekin = 0.023eV (T=180K)  Etot = 0.025eV\n",
      "Energy per atom: Epot = 0.001eV  Ekin = 0.024eV (T=189K)  Etot = 0.026eV\n",
      "Energy per atom: Epot = -0.001eV  Ekin = 0.027eV (T=210K)  Etot = 0.026eV\n",
      "Energy per atom: Epot = -0.002eV  Ekin = 0.028eV (T=217K)  Etot = 0.026eV\n",
      "Energy per atom: Epot = -0.001eV  Ekin = 0.027eV (T=209K)  Etot = 0.026eV\n",
      "Energy per atom: Epot = 0.001eV  Ekin = 0.025eV (T=193K)  Etot = 0.026eV\n",
      "Energy per atom: Epot = 0.004eV  Ekin = 0.022eV (T=172K)  Etot = 0.026eV\n",
      "Energy per atom: Epot = 0.007eV  Ekin = 0.020eV (T=152K)  Etot = 0.026eV\n",
      "Energy per atom: Epot = 0.007eV  Ekin = 0.019eV (T=148K)  Etot = 0.027eV\n",
      "Energy per atom: Epot = 0.005eV  Ekin = 0.022eV (T=168K)  Etot = 0.027eV\n",
      "Energy per atom: Epot = 0.000eV  Ekin = 0.026eV (T=204K)  Etot = 0.026eV\n",
      "Energy per atom: Epot = -0.004eV  Ekin = 0.030eV (T=236K)  Etot = 0.026eV\n",
      "Energy per atom: Epot = -0.005eV  Ekin = 0.032eV (T=244K)  Etot = 0.026eV\n",
      "Energy per atom: Epot = -0.004eV  Ekin = 0.030eV (T=229K)  Etot = 0.026eV\n",
      "Energy per atom: Epot = -0.000eV  Ekin = 0.026eV (T=204K)  Etot = 0.026eV\n",
      "Energy per atom: Epot = 0.003eV  Ekin = 0.023eV (T=178K)  Etot = 0.026eV\n",
      "Energy per atom: Epot = 0.003eV  Ekin = 0.023eV (T=177K)  Etot = 0.026eV\n",
      "Energy per atom: Epot = -0.001eV  Ekin = 0.027eV (T=206K)  Etot = 0.026eV\n",
      "Energy per atom: Epot = -0.004eV  Ekin = 0.029eV (T=227K)  Etot = 0.026eV\n",
      "Energy per atom: Epot = -0.003eV  Ekin = 0.029eV (T=225K)  Etot = 0.026eV\n",
      "Energy per atom: Epot = -0.000eV  Ekin = 0.026eV (T=201K)  Etot = 0.026eV\n",
      "Energy per atom: Epot = 0.005eV  Ekin = 0.022eV (T=167K)  Etot = 0.026eV\n",
      "Energy per atom: Epot = 0.008eV  Ekin = 0.018eV (T=143K)  Etot = 0.026eV\n",
      "Energy per atom: Epot = 0.008eV  Ekin = 0.019eV (T=144K)  Etot = 0.027eV\n",
      "Energy per atom: Epot = 0.005eV  Ekin = 0.022eV (T=168K)  Etot = 0.027eV\n",
      "Energy per atom: Epot = 0.001eV  Ekin = 0.026eV (T=199K)  Etot = 0.027eV\n",
      "Energy per atom: Epot = -0.002eV  Ekin = 0.029eV (T=223K)  Etot = 0.027eV\n",
      "Energy per atom: Epot = -0.004eV  Ekin = 0.030eV (T=235K)  Etot = 0.026eV\n",
      "Energy per atom: Epot = -0.004eV  Ekin = 0.030eV (T=230K)  Etot = 0.026eV\n",
      "Energy per atom: Epot = -0.002eV  Ekin = 0.028eV (T=217K)  Etot = 0.026eV\n",
      "Energy per atom: Epot = -0.002eV  Ekin = 0.028eV (T=219K)  Etot = 0.026eV\n",
      "Energy per atom: Epot = -0.004eV  Ekin = 0.030eV (T=232K)  Etot = 0.026eV\n",
      "Energy per atom: Epot = -0.003eV  Ekin = 0.029eV (T=227K)  Etot = 0.026eV\n",
      "Energy per atom: Epot = 0.001eV  Ekin = 0.025eV (T=196K)  Etot = 0.026eV\n",
      "Energy per atom: Epot = 0.005eV  Ekin = 0.022eV (T=167K)  Etot = 0.026eV\n",
      "Energy per atom: Epot = 0.006eV  Ekin = 0.021eV (T=159K)  Etot = 0.026eV\n",
      "Energy per atom: Epot = 0.004eV  Ekin = 0.022eV (T=170K)  Etot = 0.026eV\n",
      "Energy per atom: Epot = 0.002eV  Ekin = 0.025eV (T=191K)  Etot = 0.026eV\n"
     ]
    },
    {
     "name": "stdout",
     "output_type": "stream",
     "text": [
      "Energy per atom: Epot = 0.000eV  Ekin = 0.026eV (T=201K)  Etot = 0.026eV\n",
      "Energy per atom: Epot = 0.001eV  Ekin = 0.025eV (T=195K)  Etot = 0.026eV\n",
      "Energy per atom: Epot = 0.001eV  Ekin = 0.025eV (T=195K)  Etot = 0.026eV\n",
      "Energy per atom: Epot = -0.001eV  Ekin = 0.027eV (T=206K)  Etot = 0.026eV\n",
      "Energy per atom: Epot = -0.002eV  Ekin = 0.028eV (T=215K)  Etot = 0.026eV\n",
      "Energy per atom: Epot = -0.003eV  Ekin = 0.029eV (T=221K)  Etot = 0.026eV\n",
      "Energy per atom: Epot = -0.004eV  Ekin = 0.030eV (T=229K)  Etot = 0.026eV\n",
      "Energy per atom: Epot = -0.004eV  Ekin = 0.030eV (T=229K)  Etot = 0.026eV\n",
      "Energy per atom: Epot = -0.003eV  Ekin = 0.029eV (T=224K)  Etot = 0.026eV\n",
      "Energy per atom: Epot = -0.002eV  Ekin = 0.028eV (T=217K)  Etot = 0.026eV\n",
      "Energy per atom: Epot = -0.000eV  Ekin = 0.026eV (T=202K)  Etot = 0.026eV\n",
      "Energy per atom: Epot = 0.001eV  Ekin = 0.025eV (T=193K)  Etot = 0.026eV\n",
      "Energy per atom: Epot = 0.000eV  Ekin = 0.026eV (T=199K)  Etot = 0.026eV\n",
      "Energy per atom: Epot = 0.000eV  Ekin = 0.026eV (T=201K)  Etot = 0.026eV\n",
      "Energy per atom: Epot = 0.003eV  Ekin = 0.024eV (T=183K)  Etot = 0.026eV\n",
      "Energy per atom: Epot = 0.005eV  Ekin = 0.021eV (T=164K)  Etot = 0.026eV\n",
      "Energy per atom: Epot = 0.004eV  Ekin = 0.022eV (T=172K)  Etot = 0.026eV\n",
      "Energy per atom: Epot = -0.001eV  Ekin = 0.027eV (T=213K)  Etot = 0.026eV\n",
      "Energy per atom: Epot = -0.006eV  Ekin = 0.032eV (T=247K)  Etot = 0.026eV\n",
      "Energy per atom: Epot = -0.005eV  Ekin = 0.031eV (T=243K)  Etot = 0.026eV\n",
      "Energy per atom: Epot = -0.003eV  Ekin = 0.029eV (T=222K)  Etot = 0.026eV\n",
      "Energy per atom: Epot = -0.001eV  Ekin = 0.027eV (T=207K)  Etot = 0.026eV\n",
      "Energy per atom: Epot = 0.002eV  Ekin = 0.024eV (T=188K)  Etot = 0.026eV\n",
      "Energy per atom: Epot = 0.005eV  Ekin = 0.021eV (T=165K)  Etot = 0.026eV\n",
      "Energy per atom: Epot = 0.006eV  Ekin = 0.020eV (T=153K)  Etot = 0.026eV\n",
      "Energy per atom: Epot = 0.005eV  Ekin = 0.021eV (T=160K)  Etot = 0.026eV\n",
      "Energy per atom: Epot = 0.003eV  Ekin = 0.023eV (T=180K)  Etot = 0.026eV\n",
      "Energy per atom: Epot = 0.000eV  Ekin = 0.026eV (T=198K)  Etot = 0.026eV\n",
      "Energy per atom: Epot = -0.001eV  Ekin = 0.027eV (T=207K)  Etot = 0.026eV\n",
      "Energy per atom: Epot = -0.001eV  Ekin = 0.027eV (T=205K)  Etot = 0.026eV\n",
      "Energy per atom: Epot = -0.000eV  Ekin = 0.026eV (T=200K)  Etot = 0.026eV\n",
      "Energy per atom: Epot = -0.000eV  Ekin = 0.026eV (T=201K)  Etot = 0.026eV\n",
      "Energy per atom: Epot = -0.001eV  Ekin = 0.026eV (T=205K)  Etot = 0.026eV\n",
      "Energy per atom: Epot = -0.002eV  Ekin = 0.028eV (T=214K)  Etot = 0.026eV\n",
      "Energy per atom: Epot = -0.005eV  Ekin = 0.030eV (T=233K)  Etot = 0.026eV\n",
      "Energy per atom: Epot = -0.006eV  Ekin = 0.031eV (T=242K)  Etot = 0.026eV\n",
      "Energy per atom: Epot = -0.003eV  Ekin = 0.028eV (T=219K)  Etot = 0.026eV\n",
      "Energy per atom: Epot = 0.003eV  Ekin = 0.023eV (T=176K)  Etot = 0.026eV\n",
      "Energy per atom: Epot = 0.008eV  Ekin = 0.018eV (T=140K)  Etot = 0.026eV\n",
      "Energy per atom: Epot = 0.009eV  Ekin = 0.017eV (T=132K)  Etot = 0.026eV\n",
      "Energy per atom: Epot = 0.006eV  Ekin = 0.020eV (T=157K)  Etot = 0.026eV\n",
      "Energy per atom: Epot = 0.002eV  Ekin = 0.024eV (T=188K)  Etot = 0.026eV\n",
      "Energy per atom: Epot = -0.000eV  Ekin = 0.026eV (T=204K)  Etot = 0.026eV\n",
      "Energy per atom: Epot = -0.000eV  Ekin = 0.026eV (T=202K)  Etot = 0.026eV\n",
      "Energy per atom: Epot = 0.000eV  Ekin = 0.025eV (T=196K)  Etot = 0.026eV\n",
      "Energy per atom: Epot = -0.000eV  Ekin = 0.026eV (T=200K)  Etot = 0.026eV\n",
      "Energy per atom: Epot = -0.002eV  Ekin = 0.028eV (T=216K)  Etot = 0.026eV\n",
      "Energy per atom: Epot = -0.004eV  Ekin = 0.030eV (T=229K)  Etot = 0.026eV\n",
      "Energy per atom: Epot = -0.004eV  Ekin = 0.030eV (T=231K)  Etot = 0.026eV\n",
      "Energy per atom: Epot = -0.004eV  Ekin = 0.029eV (T=227K)  Etot = 0.026eV\n",
      "Energy per atom: Epot = -0.002eV  Ekin = 0.028eV (T=217K)  Etot = 0.026eV\n",
      "Energy per atom: Epot = 0.001eV  Ekin = 0.025eV (T=193K)  Etot = 0.026eV\n",
      "Energy per atom: Epot = 0.006eV  Ekin = 0.020eV (T=158K)  Etot = 0.026eV\n",
      "Energy per atom: Epot = 0.009eV  Ekin = 0.017eV (T=130K)  Etot = 0.026eV\n",
      "Energy per atom: Epot = 0.010eV  Ekin = 0.017eV (T=128K)  Etot = 0.026eV\n",
      "Energy per atom: Epot = 0.005eV  Ekin = 0.021eV (T=163K)  Etot = 0.026eV\n",
      "Energy per atom: Epot = -0.002eV  Ekin = 0.028eV (T=217K)  Etot = 0.026eV\n",
      "Energy per atom: Epot = -0.007eV  Ekin = 0.033eV (T=256K)  Etot = 0.026eV\n",
      "Energy per atom: Epot = -0.007eV  Ekin = 0.033eV (T=258K)  Etot = 0.026eV\n",
      "Energy per atom: Epot = -0.005eV  Ekin = 0.031eV (T=237K)  Etot = 0.026eV\n",
      "Energy per atom: Epot = -0.001eV  Ekin = 0.027eV (T=211K)  Etot = 0.026eV\n",
      "Energy per atom: Epot = 0.002eV  Ekin = 0.024eV (T=189K)  Etot = 0.026eV\n",
      "Energy per atom: Epot = 0.003eV  Ekin = 0.023eV (T=179K)  Etot = 0.026eV\n",
      "Energy per atom: Epot = 0.002eV  Ekin = 0.024eV (T=182K)  Etot = 0.026eV\n",
      "Energy per atom: Epot = 0.002eV  Ekin = 0.023eV (T=181K)  Etot = 0.026eV\n",
      "Energy per atom: Epot = 0.004eV  Ekin = 0.022eV (T=172K)  Etot = 0.026eV\n",
      "Energy per atom: Epot = 0.003eV  Ekin = 0.023eV (T=176K)  Etot = 0.026eV\n",
      "Energy per atom: Epot = 0.001eV  Ekin = 0.025eV (T=190K)  Etot = 0.026eV\n",
      "Energy per atom: Epot = 0.001eV  Ekin = 0.025eV (T=191K)  Etot = 0.026eV\n",
      "Energy per atom: Epot = 0.003eV  Ekin = 0.023eV (T=177K)  Etot = 0.026eV\n",
      "Energy per atom: Epot = 0.004eV  Ekin = 0.022eV (T=170K)  Etot = 0.026eV\n",
      "Energy per atom: Epot = 0.002eV  Ekin = 0.023eV (T=181K)  Etot = 0.026eV\n",
      "Energy per atom: Epot = -0.000eV  Ekin = 0.026eV (T=201K)  Etot = 0.026eV\n",
      "Energy per atom: Epot = -0.001eV  Ekin = 0.027eV (T=206K)  Etot = 0.026eV\n",
      "Energy per atom: Epot = -0.000eV  Ekin = 0.026eV (T=201K)  Etot = 0.026eV\n",
      "Energy per atom: Epot = -0.001eV  Ekin = 0.026eV (T=204K)  Etot = 0.026eV\n",
      "Energy per atom: Epot = -0.001eV  Ekin = 0.027eV (T=209K)  Etot = 0.026eV\n",
      "Energy per atom: Epot = 0.001eV  Ekin = 0.025eV (T=193K)  Etot = 0.026eV\n",
      "Energy per atom: Epot = 0.003eV  Ekin = 0.023eV (T=180K)  Etot = 0.026eV\n",
      "Energy per atom: Epot = 0.001eV  Ekin = 0.025eV (T=193K)  Etot = 0.026eV\n",
      "Energy per atom: Epot = -0.002eV  Ekin = 0.028eV (T=218K)  Etot = 0.026eV\n",
      "Energy per atom: Epot = -0.004eV  Ekin = 0.030eV (T=233K)  Etot = 0.026eV\n",
      "Energy per atom: Epot = -0.003eV  Ekin = 0.030eV (T=228K)  Etot = 0.026eV\n",
      "Energy per atom: Epot = -0.001eV  Ekin = 0.027eV (T=210K)  Etot = 0.026eV\n",
      "Energy per atom: Epot = 0.002eV  Ekin = 0.024eV (T=188K)  Etot = 0.026eV\n",
      "Energy per atom: Epot = 0.003eV  Ekin = 0.023eV (T=178K)  Etot = 0.026eV\n",
      "Energy per atom: Epot = 0.002eV  Ekin = 0.024eV (T=186K)  Etot = 0.026eV\n",
      "Energy per atom: Epot = -0.000eV  Ekin = 0.026eV (T=204K)  Etot = 0.026eV\n",
      "Energy per atom: Epot = -0.003eV  Ekin = 0.028eV (T=220K)  Etot = 0.026eV\n",
      "Energy per atom: Epot = -0.003eV  Ekin = 0.029eV (T=226K)  Etot = 0.026eV\n",
      "Energy per atom: Epot = -0.002eV  Ekin = 0.028eV (T=214K)  Etot = 0.026eV\n",
      "Energy per atom: Epot = 0.002eV  Ekin = 0.024eV (T=187K)  Etot = 0.026eV\n",
      "Energy per atom: Epot = 0.005eV  Ekin = 0.021eV (T=163K)  Etot = 0.026eV\n",
      "Energy per atom: Epot = 0.006eV  Ekin = 0.020eV (T=158K)  Etot = 0.026eV\n",
      "Energy per atom: Epot = 0.004eV  Ekin = 0.023eV (T=175K)  Etot = 0.026eV\n",
      "Energy per atom: Epot = 0.000eV  Ekin = 0.026eV (T=203K)  Etot = 0.026eV\n",
      "Energy per atom: Epot = -0.003eV  Ekin = 0.029eV (T=223K)  Etot = 0.026eV\n",
      "Energy per atom: Epot = -0.003eV  Ekin = 0.029eV (T=226K)  Etot = 0.026eV\n",
      "Energy per atom: Epot = -0.003eV  Ekin = 0.029eV (T=224K)  Etot = 0.026eV\n",
      "Energy per atom: Epot = -0.004eV  Ekin = 0.030eV (T=230K)  Etot = 0.026eV\n",
      "Energy per atom: Epot = -0.004eV  Ekin = 0.030eV (T=231K)  Etot = 0.026eV\n",
      "Energy per atom: Epot = -0.002eV  Ekin = 0.028eV (T=220K)  Etot = 0.026eV\n",
      "Energy per atom: Epot = -0.000eV  Ekin = 0.026eV (T=203K)  Etot = 0.026eV\n",
      "Energy per atom: Epot = 0.001eV  Ekin = 0.025eV (T=190K)  Etot = 0.026eV\n",
      "Energy per atom: Epot = 0.002eV  Ekin = 0.024eV (T=182K)  Etot = 0.026eV\n",
      "Energy per atom: Epot = 0.003eV  Ekin = 0.022eV (T=174K)  Etot = 0.026eV\n",
      "Energy per atom: Epot = 0.004eV  Ekin = 0.021eV (T=165K)  Etot = 0.026eV\n",
      "Energy per atom: Epot = 0.005eV  Ekin = 0.021eV (T=163K)  Etot = 0.026eV\n",
      "Energy per atom: Epot = 0.004eV  Ekin = 0.022eV (T=169K)  Etot = 0.026eV\n",
      "Energy per atom: Epot = 0.002eV  Ekin = 0.024eV (T=185K)  Etot = 0.026eV\n",
      "Energy per atom: Epot = 0.000eV  Ekin = 0.026eV (T=200K)  Etot = 0.026eV\n",
      "Energy per atom: Epot = -0.001eV  Ekin = 0.027eV (T=211K)  Etot = 0.026eV\n"
     ]
    },
    {
     "name": "stdout",
     "output_type": "stream",
     "text": [
      "Energy per atom: Epot = -0.003eV  Ekin = 0.029eV (T=227K)  Etot = 0.026eV\n",
      "Energy per atom: Epot = -0.005eV  Ekin = 0.030eV (T=236K)  Etot = 0.026eV\n",
      "Energy per atom: Epot = -0.003eV  Ekin = 0.029eV (T=226K)  Etot = 0.026eV\n",
      "Energy per atom: Epot = -0.001eV  Ekin = 0.027eV (T=206K)  Etot = 0.026eV\n",
      "Energy per atom: Epot = 0.002eV  Ekin = 0.024eV (T=186K)  Etot = 0.026eV\n",
      "Energy per atom: Epot = 0.003eV  Ekin = 0.023eV (T=175K)  Etot = 0.026eV\n",
      "Energy per atom: Epot = 0.003eV  Ekin = 0.023eV (T=176K)  Etot = 0.026eV\n",
      "Energy per atom: Epot = 0.002eV  Ekin = 0.024eV (T=187K)  Etot = 0.026eV\n",
      "Energy per atom: Epot = 0.001eV  Ekin = 0.025eV (T=193K)  Etot = 0.026eV\n",
      "Energy per atom: Epot = 0.002eV  Ekin = 0.023eV (T=181K)  Etot = 0.025eV\n",
      "Energy per atom: Epot = 0.004eV  Ekin = 0.021eV (T=165K)  Etot = 0.025eV\n",
      "Energy per atom: Epot = 0.005eV  Ekin = 0.021eV (T=162K)  Etot = 0.025eV\n",
      "Energy per atom: Epot = 0.004eV  Ekin = 0.021eV (T=164K)  Etot = 0.026eV\n",
      "Energy per atom: Epot = 0.003eV  Ekin = 0.022eV (T=173K)  Etot = 0.026eV\n",
      "Energy per atom: Epot = 0.001eV  Ekin = 0.025eV (T=194K)  Etot = 0.026eV\n",
      "Energy per atom: Epot = -0.002eV  Ekin = 0.028eV (T=216K)  Etot = 0.026eV\n",
      "Energy per atom: Epot = -0.003eV  Ekin = 0.029eV (T=226K)  Etot = 0.026eV\n",
      "Energy per atom: Epot = -0.003eV  Ekin = 0.029eV (T=221K)  Etot = 0.026eV\n",
      "Energy per atom: Epot = 0.000eV  Ekin = 0.026eV (T=199K)  Etot = 0.026eV\n",
      "Energy per atom: Epot = 0.004eV  Ekin = 0.022eV (T=171K)  Etot = 0.026eV\n",
      "Energy per atom: Epot = 0.006eV  Ekin = 0.020eV (T=156K)  Etot = 0.026eV\n",
      "Energy per atom: Epot = 0.005eV  Ekin = 0.021eV (T=162K)  Etot = 0.026eV\n",
      "Energy per atom: Epot = 0.003eV  Ekin = 0.023eV (T=180K)  Etot = 0.026eV\n",
      "Energy per atom: Epot = 0.001eV  Ekin = 0.026eV (T=198K)  Etot = 0.026eV\n",
      "Energy per atom: Epot = -0.001eV  Ekin = 0.027eV (T=210K)  Etot = 0.026eV\n",
      "Energy per atom: Epot = -0.002eV  Ekin = 0.028eV (T=215K)  Etot = 0.026eV\n",
      "Energy per atom: Epot = -0.002eV  Ekin = 0.028eV (T=213K)  Etot = 0.026eV\n",
      "Energy per atom: Epot = -0.001eV  Ekin = 0.027eV (T=205K)  Etot = 0.026eV\n",
      "Energy per atom: Epot = 0.001eV  Ekin = 0.025eV (T=194K)  Etot = 0.026eV\n",
      "Energy per atom: Epot = 0.002eV  Ekin = 0.024eV (T=185K)  Etot = 0.026eV\n",
      "Energy per atom: Epot = 0.002eV  Ekin = 0.024eV (T=186K)  Etot = 0.026eV\n",
      "Energy per atom: Epot = 0.001eV  Ekin = 0.025eV (T=194K)  Etot = 0.026eV\n",
      "Energy per atom: Epot = -0.000eV  Ekin = 0.026eV (T=202K)  Etot = 0.026eV\n",
      "Energy per atom: Epot = -0.000eV  Ekin = 0.026eV (T=201K)  Etot = 0.026eV\n",
      "Energy per atom: Epot = 0.001eV  Ekin = 0.025eV (T=194K)  Etot = 0.026eV\n",
      "Energy per atom: Epot = 0.001eV  Ekin = 0.025eV (T=195K)  Etot = 0.026eV\n",
      "Energy per atom: Epot = 0.000eV  Ekin = 0.026eV (T=203K)  Etot = 0.026eV\n",
      "Energy per atom: Epot = -0.000eV  Ekin = 0.026eV (T=205K)  Etot = 0.026eV\n",
      "Energy per atom: Epot = -0.000eV  Ekin = 0.027eV (T=206K)  Etot = 0.026eV\n",
      "Energy per atom: Epot = -0.001eV  Ekin = 0.027eV (T=209K)  Etot = 0.026eV\n",
      "Energy per atom: Epot = -0.000eV  Ekin = 0.026eV (T=205K)  Etot = 0.026eV\n",
      "Energy per atom: Epot = 0.001eV  Ekin = 0.025eV (T=195K)  Etot = 0.026eV\n",
      "Energy per atom: Epot = 0.001eV  Ekin = 0.025eV (T=192K)  Etot = 0.026eV\n",
      "Energy per atom: Epot = -0.000eV  Ekin = 0.026eV (T=203K)  Etot = 0.026eV\n",
      "Energy per atom: Epot = -0.003eV  Ekin = 0.028eV (T=220K)  Etot = 0.026eV\n",
      "Energy per atom: Epot = -0.004eV  Ekin = 0.030eV (T=229K)  Etot = 0.026eV\n",
      "Energy per atom: Epot = -0.003eV  Ekin = 0.029eV (T=221K)  Etot = 0.025eV\n",
      "Energy per atom: Epot = -0.001eV  Ekin = 0.026eV (T=201K)  Etot = 0.025eV\n",
      "Energy per atom: Epot = 0.002eV  Ekin = 0.023eV (T=179K)  Etot = 0.026eV\n",
      "Energy per atom: Epot = 0.005eV  Ekin = 0.020eV (T=158K)  Etot = 0.026eV\n",
      "Energy per atom: Epot = 0.008eV  Ekin = 0.018eV (T=142K)  Etot = 0.026eV\n",
      "Energy per atom: Epot = 0.008eV  Ekin = 0.018eV (T=139K)  Etot = 0.026eV\n",
      "Energy per atom: Epot = 0.007eV  Ekin = 0.019eV (T=150K)  Etot = 0.026eV\n",
      "Energy per atom: Epot = 0.005eV  Ekin = 0.021eV (T=162K)  Etot = 0.026eV\n",
      "Energy per atom: Epot = 0.004eV  Ekin = 0.022eV (T=172K)  Etot = 0.026eV\n",
      "Energy per atom: Epot = 0.002eV  Ekin = 0.024eV (T=187K)  Etot = 0.026eV\n",
      "Energy per atom: Epot = -0.001eV  Ekin = 0.027eV (T=207K)  Etot = 0.026eV\n",
      "Energy per atom: Epot = -0.003eV  Ekin = 0.029eV (T=223K)  Etot = 0.026eV\n",
      "Energy per atom: Epot = -0.004eV  Ekin = 0.030eV (T=235K)  Etot = 0.026eV\n",
      "Energy per atom: Epot = -0.005eV  Ekin = 0.031eV (T=238K)  Etot = 0.026eV\n",
      "Energy per atom: Epot = -0.002eV  Ekin = 0.028eV (T=218K)  Etot = 0.026eV\n",
      "Energy per atom: Epot = -0.000eV  Ekin = 0.026eV (T=203K)  Etot = 0.026eV\n",
      "Energy per atom: Epot = -0.001eV  Ekin = 0.027eV (T=208K)  Etot = 0.026eV\n",
      "Energy per atom: Epot = -0.001eV  Ekin = 0.027eV (T=209K)  Etot = 0.026eV\n",
      "Energy per atom: Epot = 0.000eV  Ekin = 0.025eV (T=197K)  Etot = 0.026eV\n",
      "Energy per atom: Epot = 0.002eV  Ekin = 0.024eV (T=187K)  Etot = 0.026eV\n",
      "Energy per atom: Epot = 0.003eV  Ekin = 0.023eV (T=178K)  Etot = 0.026eV\n",
      "Energy per atom: Epot = 0.005eV  Ekin = 0.021eV (T=164K)  Etot = 0.026eV\n",
      "Energy per atom: Epot = 0.007eV  Ekin = 0.020eV (T=151K)  Etot = 0.026eV\n",
      "Energy per atom: Epot = 0.007eV  Ekin = 0.020eV (T=151K)  Etot = 0.026eV\n",
      "Energy per atom: Epot = 0.004eV  Ekin = 0.022eV (T=174K)  Etot = 0.026eV\n",
      "Energy per atom: Epot = -0.000eV  Ekin = 0.026eV (T=205K)  Etot = 0.026eV\n",
      "Energy per atom: Epot = -0.003eV  Ekin = 0.029eV (T=227K)  Etot = 0.026eV\n",
      "Energy per atom: Epot = -0.005eV  Ekin = 0.031eV (T=242K)  Etot = 0.026eV\n",
      "Energy per atom: Epot = -0.006eV  Ekin = 0.032eV (T=245K)  Etot = 0.026eV\n",
      "Energy per atom: Epot = -0.003eV  Ekin = 0.029eV (T=224K)  Etot = 0.026eV\n",
      "Energy per atom: Epot = -0.000eV  Ekin = 0.026eV (T=204K)  Etot = 0.026eV\n",
      "Energy per atom: Epot = -0.001eV  Ekin = 0.027eV (T=208K)  Etot = 0.026eV\n",
      "Energy per atom: Epot = -0.003eV  Ekin = 0.029eV (T=222K)  Etot = 0.026eV\n",
      "Energy per atom: Epot = -0.002eV  Ekin = 0.028eV (T=220K)  Etot = 0.026eV\n",
      "Energy per atom: Epot = 0.000eV  Ekin = 0.026eV (T=200K)  Etot = 0.026eV\n",
      "Energy per atom: Epot = 0.003eV  Ekin = 0.023eV (T=176K)  Etot = 0.026eV\n",
      "Energy per atom: Epot = 0.005eV  Ekin = 0.022eV (T=167K)  Etot = 0.026eV\n",
      "Energy per atom: Epot = 0.002eV  Ekin = 0.024eV (T=187K)  Etot = 0.026eV\n",
      "Energy per atom: Epot = -0.002eV  Ekin = 0.028eV (T=220K)  Etot = 0.026eV\n",
      "Energy per atom: Epot = -0.003eV  Ekin = 0.029eV (T=224K)  Etot = 0.026eV\n",
      "Energy per atom: Epot = 0.001eV  Ekin = 0.025eV (T=193K)  Etot = 0.026eV\n",
      "Energy per atom: Epot = 0.005eV  Ekin = 0.021eV (T=162K)  Etot = 0.026eV\n",
      "Energy per atom: Epot = 0.005eV  Ekin = 0.021eV (T=162K)  Etot = 0.026eV\n",
      "Energy per atom: Epot = 0.001eV  Ekin = 0.025eV (T=196K)  Etot = 0.026eV\n",
      "Energy per atom: Epot = -0.004eV  Ekin = 0.030eV (T=232K)  Etot = 0.026eV\n",
      "Energy per atom: Epot = -0.005eV  Ekin = 0.031eV (T=238K)  Etot = 0.026eV\n",
      "Energy per atom: Epot = -0.003eV  Ekin = 0.029eV (T=221K)  Etot = 0.026eV\n",
      "Energy per atom: Epot = -0.000eV  Ekin = 0.026eV (T=204K)  Etot = 0.026eV\n",
      "Energy per atom: Epot = 0.001eV  Ekin = 0.025eV (T=193K)  Etot = 0.026eV\n",
      "Energy per atom: Epot = 0.002eV  Ekin = 0.024eV (T=188K)  Etot = 0.026eV\n",
      "Energy per atom: Epot = 0.002eV  Ekin = 0.024eV (T=188K)  Etot = 0.026eV\n",
      "Energy per atom: Epot = 0.002eV  Ekin = 0.024eV (T=186K)  Etot = 0.026eV\n",
      "Energy per atom: Epot = 0.003eV  Ekin = 0.023eV (T=180K)  Etot = 0.026eV\n",
      "Energy per atom: Epot = 0.004eV  Ekin = 0.022eV (T=174K)  Etot = 0.026eV\n",
      "Energy per atom: Epot = 0.004eV  Ekin = 0.022eV (T=174K)  Etot = 0.026eV\n",
      "Energy per atom: Epot = 0.002eV  Ekin = 0.024eV (T=186K)  Etot = 0.026eV\n",
      "Energy per atom: Epot = -0.001eV  Ekin = 0.026eV (T=205K)  Etot = 0.026eV\n",
      "Energy per atom: Epot = -0.002eV  Ekin = 0.028eV (T=213K)  Etot = 0.026eV\n",
      "Energy per atom: Epot = -0.002eV  Ekin = 0.028eV (T=215K)  Etot = 0.026eV\n",
      "Energy per atom: Epot = -0.002eV  Ekin = 0.028eV (T=216K)  Etot = 0.026eV\n",
      "Energy per atom: Epot = -0.001eV  Ekin = 0.027eV (T=207K)  Etot = 0.026eV\n",
      "Energy per atom: Epot = 0.001eV  Ekin = 0.025eV (T=191K)  Etot = 0.026eV\n",
      "Energy per atom: Epot = 0.002eV  Ekin = 0.024eV (T=186K)  Etot = 0.026eV\n",
      "Energy per atom: Epot = 0.001eV  Ekin = 0.025eV (T=192K)  Etot = 0.026eV\n",
      "Energy per atom: Epot = 0.001eV  Ekin = 0.025eV (T=197K)  Etot = 0.026eV\n",
      "Energy per atom: Epot = 0.001eV  Ekin = 0.025eV (T=196K)  Etot = 0.026eV\n",
      "Energy per atom: Epot = 0.001eV  Ekin = 0.025eV (T=192K)  Etot = 0.026eV\n",
      "Energy per atom: Epot = 0.001eV  Ekin = 0.025eV (T=196K)  Etot = 0.026eV\n"
     ]
    },
    {
     "name": "stdout",
     "output_type": "stream",
     "text": [
      "Energy per atom: Epot = -0.001eV  Ekin = 0.028eV (T=213K)  Etot = 0.026eV\n",
      "Energy per atom: Epot = -0.004eV  Ekin = 0.030eV (T=229K)  Etot = 0.026eV\n",
      "Energy per atom: Epot = -0.004eV  Ekin = 0.030eV (T=231K)  Etot = 0.026eV\n",
      "Energy per atom: Epot = -0.002eV  Ekin = 0.028eV (T=216K)  Etot = 0.026eV\n",
      "Energy per atom: Epot = 0.002eV  Ekin = 0.024eV (T=186K)  Etot = 0.026eV\n",
      "Energy per atom: Epot = 0.006eV  Ekin = 0.020eV (T=157K)  Etot = 0.026eV\n",
      "Energy per atom: Epot = 0.007eV  Ekin = 0.020eV (T=151K)  Etot = 0.026eV\n",
      "Energy per atom: Epot = 0.003eV  Ekin = 0.023eV (T=178K)  Etot = 0.026eV\n",
      "Energy per atom: Epot = -0.003eV  Ekin = 0.029eV (T=223K)  Etot = 0.026eV\n",
      "Energy per atom: Epot = -0.008eV  Ekin = 0.034eV (T=262K)  Etot = 0.026eV\n",
      "Energy per atom: Epot = -0.009eV  Ekin = 0.035eV (T=271K)  Etot = 0.026eV\n",
      "Energy per atom: Epot = -0.005eV  Ekin = 0.031eV (T=241K)  Etot = 0.026eV\n",
      "Energy per atom: Epot = 0.001eV  Ekin = 0.025eV (T=190K)  Etot = 0.026eV\n",
      "Energy per atom: Epot = 0.007eV  Ekin = 0.019eV (T=151K)  Etot = 0.026eV\n",
      "Energy per atom: Epot = 0.008eV  Ekin = 0.018eV (T=139K)  Etot = 0.026eV\n",
      "Energy per atom: Epot = 0.007eV  Ekin = 0.019eV (T=151K)  Etot = 0.026eV\n",
      "Energy per atom: Epot = 0.004eV  Ekin = 0.023eV (T=174K)  Etot = 0.026eV\n",
      "Energy per atom: Epot = 0.000eV  Ekin = 0.026eV (T=200K)  Etot = 0.026eV\n",
      "Energy per atom: Epot = -0.002eV  Ekin = 0.028eV (T=220K)  Etot = 0.026eV\n",
      "Energy per atom: Epot = -0.004eV  Ekin = 0.030eV (T=232K)  Etot = 0.026eV\n",
      "Energy per atom: Epot = -0.005eV  Ekin = 0.031eV (T=240K)  Etot = 0.026eV\n",
      "Energy per atom: Epot = -0.006eV  Ekin = 0.032eV (T=247K)  Etot = 0.026eV\n",
      "Energy per atom: Epot = -0.005eV  Ekin = 0.031eV (T=240K)  Etot = 0.026eV\n",
      "Energy per atom: Epot = -0.002eV  Ekin = 0.028eV (T=215K)  Etot = 0.026eV\n",
      "Energy per atom: Epot = 0.002eV  Ekin = 0.024eV (T=187K)  Etot = 0.026eV\n",
      "Energy per atom: Epot = 0.004eV  Ekin = 0.022eV (T=171K)  Etot = 0.026eV\n",
      "Energy per atom: Epot = 0.003eV  Ekin = 0.023eV (T=174K)  Etot = 0.026eV\n",
      "Energy per atom: Epot = 0.001eV  Ekin = 0.025eV (T=191K)  Etot = 0.026eV\n",
      "Energy per atom: Epot = -0.001eV  Ekin = 0.027eV (T=206K)  Etot = 0.026eV\n",
      "Energy per atom: Epot = -0.000eV  Ekin = 0.026eV (T=204K)  Etot = 0.026eV\n",
      "Energy per atom: Epot = 0.001eV  Ekin = 0.025eV (T=190K)  Etot = 0.026eV\n",
      "Energy per atom: Epot = 0.003eV  Ekin = 0.023eV (T=180K)  Etot = 0.026eV\n",
      "Energy per atom: Epot = 0.003eV  Ekin = 0.023eV (T=181K)  Etot = 0.026eV\n",
      "Energy per atom: Epot = 0.001eV  Ekin = 0.025eV (T=192K)  Etot = 0.026eV\n",
      "Energy per atom: Epot = -0.001eV  Ekin = 0.027eV (T=206K)  Etot = 0.026eV\n",
      "Energy per atom: Epot = -0.002eV  Ekin = 0.028eV (T=216K)  Etot = 0.026eV\n",
      "Energy per atom: Epot = -0.002eV  Ekin = 0.028eV (T=216K)  Etot = 0.026eV\n",
      "Energy per atom: Epot = 0.000eV  Ekin = 0.026eV (T=198K)  Etot = 0.026eV\n",
      "Energy per atom: Epot = 0.004eV  Ekin = 0.022eV (T=169K)  Etot = 0.026eV\n",
      "Energy per atom: Epot = 0.004eV  Ekin = 0.022eV (T=167K)  Etot = 0.026eV\n",
      "Energy per atom: Epot = 0.001eV  Ekin = 0.025eV (T=192K)  Etot = 0.026eV\n",
      "Energy per atom: Epot = -0.002eV  Ekin = 0.027eV (T=210K)  Etot = 0.026eV\n",
      "Energy per atom: Epot = -0.002eV  Ekin = 0.027eV (T=212K)  Etot = 0.026eV\n",
      "Energy per atom: Epot = -0.001eV  Ekin = 0.027eV (T=207K)  Etot = 0.026eV\n",
      "Energy per atom: Epot = 0.000eV  Ekin = 0.026eV (T=198K)  Etot = 0.026eV\n",
      "Energy per atom: Epot = 0.001eV  Ekin = 0.025eV (T=191K)  Etot = 0.026eV\n",
      "Energy per atom: Epot = 0.002eV  Ekin = 0.025eV (T=190K)  Etot = 0.026eV\n",
      "Energy per atom: Epot = 0.000eV  Ekin = 0.026eV (T=199K)  Etot = 0.026eV\n",
      "Energy per atom: Epot = -0.001eV  Ekin = 0.028eV (T=214K)  Etot = 0.026eV\n",
      "Energy per atom: Epot = -0.002eV  Ekin = 0.029eV (T=224K)  Etot = 0.027eV\n",
      "Energy per atom: Epot = -0.001eV  Ekin = 0.028eV (T=216K)  Etot = 0.027eV\n",
      "Energy per atom: Epot = 0.001eV  Ekin = 0.025eV (T=195K)  Etot = 0.027eV\n",
      "Energy per atom: Epot = 0.003eV  Ekin = 0.023eV (T=181K)  Etot = 0.027eV\n",
      "Energy per atom: Epot = 0.003eV  Ekin = 0.024eV (T=183K)  Etot = 0.027eV\n",
      "Energy per atom: Epot = 0.001eV  Ekin = 0.025eV (T=195K)  Etot = 0.027eV\n",
      "Energy per atom: Epot = 0.000eV  Ekin = 0.026eV (T=202K)  Etot = 0.026eV\n",
      "Energy per atom: Epot = 0.000eV  Ekin = 0.026eV (T=200K)  Etot = 0.026eV\n",
      "Energy per atom: Epot = 0.001eV  Ekin = 0.025eV (T=192K)  Etot = 0.026eV\n",
      "Energy per atom: Epot = 0.003eV  Ekin = 0.023eV (T=180K)  Etot = 0.026eV\n",
      "Energy per atom: Epot = 0.004eV  Ekin = 0.022eV (T=170K)  Etot = 0.026eV\n",
      "Energy per atom: Epot = 0.004eV  Ekin = 0.022eV (T=172K)  Etot = 0.026eV\n",
      "Energy per atom: Epot = 0.001eV  Ekin = 0.025eV (T=190K)  Etot = 0.026eV\n",
      "Energy per atom: Epot = -0.002eV  Ekin = 0.028eV (T=216K)  Etot = 0.026eV\n",
      "Energy per atom: Epot = -0.003eV  Ekin = 0.029eV (T=223K)  Etot = 0.026eV\n",
      "Energy per atom: Epot = -0.001eV  Ekin = 0.027eV (T=205K)  Etot = 0.026eV\n",
      "Energy per atom: Epot = 0.000eV  Ekin = 0.026eV (T=201K)  Etot = 0.026eV\n",
      "Energy per atom: Epot = -0.002eV  Ekin = 0.028eV (T=220K)  Etot = 0.026eV\n",
      "Energy per atom: Epot = -0.003eV  Ekin = 0.029eV (T=227K)  Etot = 0.026eV\n",
      "Energy per atom: Epot = -0.002eV  Ekin = 0.028eV (T=218K)  Etot = 0.026eV\n",
      "Energy per atom: Epot = 0.001eV  Ekin = 0.026eV (T=198K)  Etot = 0.027eV\n",
      "Energy per atom: Epot = 0.005eV  Ekin = 0.022eV (T=167K)  Etot = 0.027eV\n",
      "Energy per atom: Epot = 0.008eV  Ekin = 0.019eV (T=146K)  Etot = 0.026eV\n",
      "Energy per atom: Epot = 0.006eV  Ekin = 0.021eV (T=159K)  Etot = 0.026eV\n",
      "Energy per atom: Epot = 0.000eV  Ekin = 0.026eV (T=198K)  Etot = 0.026eV\n",
      "Energy per atom: Epot = -0.003eV  Ekin = 0.029eV (T=225K)  Etot = 0.026eV\n",
      "Energy per atom: Epot = -0.004eV  Ekin = 0.030eV (T=231K)  Etot = 0.026eV\n",
      "Energy per atom: Epot = -0.004eV  Ekin = 0.030eV (T=229K)  Etot = 0.026eV\n",
      "Energy per atom: Epot = -0.001eV  Ekin = 0.027eV (T=208K)  Etot = 0.026eV\n",
      "Energy per atom: Epot = 0.003eV  Ekin = 0.023eV (T=175K)  Etot = 0.026eV\n",
      "Energy per atom: Epot = 0.005eV  Ekin = 0.021eV (T=161K)  Etot = 0.026eV\n",
      "Energy per atom: Epot = 0.004eV  Ekin = 0.023eV (T=174K)  Etot = 0.026eV\n",
      "Energy per atom: Epot = -0.000eV  Ekin = 0.027eV (T=206K)  Etot = 0.026eV\n",
      "Energy per atom: Epot = -0.004eV  Ekin = 0.031eV (T=237K)  Etot = 0.027eV\n",
      "Energy per atom: Epot = -0.005eV  Ekin = 0.031eV (T=243K)  Etot = 0.027eV\n",
      "Energy per atom: Epot = -0.002eV  Ekin = 0.029eV (T=221K)  Etot = 0.027eV\n",
      "Energy per atom: Epot = 0.002eV  Ekin = 0.025eV (T=194K)  Etot = 0.027eV\n",
      "Energy per atom: Epot = 0.002eV  Ekin = 0.024eV (T=188K)  Etot = 0.027eV\n",
      "Energy per atom: Epot = 0.000eV  Ekin = 0.026eV (T=204K)  Etot = 0.026eV\n",
      "Energy per atom: Epot = -0.002eV  Ekin = 0.028eV (T=218K)  Etot = 0.026eV\n",
      "Energy per atom: Epot = -0.001eV  Ekin = 0.027eV (T=210K)  Etot = 0.026eV\n",
      "Energy per atom: Epot = 0.002eV  Ekin = 0.023eV (T=181K)  Etot = 0.026eV\n",
      "Energy per atom: Epot = 0.006eV  Ekin = 0.020eV (T=153K)  Etot = 0.026eV\n",
      "Energy per atom: Epot = 0.006eV  Ekin = 0.019eV (T=148K)  Etot = 0.026eV\n",
      "Energy per atom: Epot = 0.003eV  Ekin = 0.022eV (T=172K)  Etot = 0.025eV\n",
      "Energy per atom: Epot = -0.001eV  Ekin = 0.026eV (T=204K)  Etot = 0.025eV\n",
      "Energy per atom: Epot = -0.004eV  Ekin = 0.029eV (T=224K)  Etot = 0.025eV\n",
      "Energy per atom: Epot = -0.005eV  Ekin = 0.030eV (T=231K)  Etot = 0.025eV\n",
      "Energy per atom: Epot = -0.004eV  Ekin = 0.030eV (T=231K)  Etot = 0.026eV\n",
      "Energy per atom: Epot = -0.002eV  Ekin = 0.028eV (T=214K)  Etot = 0.026eV\n",
      "Energy per atom: Epot = 0.003eV  Ekin = 0.023eV (T=180K)  Etot = 0.026eV\n",
      "Energy per atom: Epot = 0.007eV  Ekin = 0.020eV (T=154K)  Etot = 0.026eV\n",
      "Energy per atom: Epot = 0.006eV  Ekin = 0.020eV (T=156K)  Etot = 0.026eV\n",
      "Energy per atom: Epot = 0.003eV  Ekin = 0.023eV (T=179K)  Etot = 0.026eV\n",
      "Energy per atom: Epot = -0.000eV  Ekin = 0.026eV (T=205K)  Etot = 0.026eV\n",
      "Energy per atom: Epot = -0.002eV  Ekin = 0.028eV (T=220K)  Etot = 0.026eV\n",
      "Energy per atom: Epot = -0.003eV  Ekin = 0.029eV (T=222K)  Etot = 0.026eV\n",
      "Energy per atom: Epot = -0.002eV  Ekin = 0.027eV (T=211K)  Etot = 0.026eV\n",
      "Energy per atom: Epot = 0.001eV  Ekin = 0.025eV (T=192K)  Etot = 0.026eV\n",
      "Energy per atom: Epot = 0.003eV  Ekin = 0.023eV (T=175K)  Etot = 0.026eV\n",
      "Energy per atom: Epot = 0.004eV  Ekin = 0.022eV (T=170K)  Etot = 0.026eV\n",
      "Energy per atom: Epot = 0.003eV  Ekin = 0.023eV (T=178K)  Etot = 0.026eV\n",
      "Energy per atom: Epot = 0.000eV  Ekin = 0.026eV (T=197K)  Etot = 0.026eV\n",
      "Energy per atom: Epot = -0.002eV  Ekin = 0.028eV (T=218K)  Etot = 0.026eV\n",
      "Energy per atom: Epot = -0.003eV  Ekin = 0.029eV (T=227K)  Etot = 0.026eV\n",
      "Energy per atom: Epot = -0.002eV  Ekin = 0.028eV (T=218K)  Etot = 0.026eV\n"
     ]
    },
    {
     "name": "stdout",
     "output_type": "stream",
     "text": [
      "Energy per atom: Epot = 0.001eV  Ekin = 0.026eV (T=199K)  Etot = 0.026eV\n",
      "Energy per atom: Epot = 0.004eV  Ekin = 0.023eV (T=174K)  Etot = 0.026eV\n",
      "Energy per atom: Epot = 0.006eV  Ekin = 0.020eV (T=157K)  Etot = 0.026eV\n",
      "Energy per atom: Epot = 0.004eV  Ekin = 0.023eV (T=174K)  Etot = 0.026eV\n",
      "Energy per atom: Epot = -0.002eV  Ekin = 0.029eV (T=222K)  Etot = 0.026eV\n",
      "Energy per atom: Epot = -0.007eV  Ekin = 0.033eV (T=257K)  Etot = 0.026eV\n",
      "Energy per atom: Epot = -0.007eV  Ekin = 0.034eV (T=259K)  Etot = 0.026eV\n",
      "Energy per atom: Epot = -0.005eV  Ekin = 0.031eV (T=241K)  Etot = 0.026eV\n",
      "Energy per atom: Epot = -0.002eV  Ekin = 0.028eV (T=216K)  Etot = 0.026eV\n",
      "Energy per atom: Epot = 0.000eV  Ekin = 0.025eV (T=197K)  Etot = 0.026eV\n",
      "Energy per atom: Epot = 0.001eV  Ekin = 0.025eV (T=190K)  Etot = 0.026eV\n",
      "Energy per atom: Epot = 0.001eV  Ekin = 0.025eV (T=190K)  Etot = 0.026eV\n",
      "Energy per atom: Epot = 0.002eV  Ekin = 0.024eV (T=183K)  Etot = 0.025eV\n",
      "Energy per atom: Epot = 0.005eV  Ekin = 0.021eV (T=160K)  Etot = 0.025eV\n",
      "Energy per atom: Epot = 0.007eV  Ekin = 0.018eV (T=141K)  Etot = 0.025eV\n",
      "Energy per atom: Epot = 0.006eV  Ekin = 0.019eV (T=149K)  Etot = 0.026eV\n",
      "Energy per atom: Epot = 0.004eV  Ekin = 0.022eV (T=170K)  Etot = 0.026eV\n",
      "Energy per atom: Epot = 0.003eV  Ekin = 0.023eV (T=177K)  Etot = 0.026eV\n",
      "Energy per atom: Epot = 0.002eV  Ekin = 0.024eV (T=182K)  Etot = 0.026eV\n",
      "Energy per atom: Epot = -0.000eV  Ekin = 0.026eV (T=203K)  Etot = 0.026eV\n",
      "Energy per atom: Epot = -0.004eV  Ekin = 0.030eV (T=232K)  Etot = 0.026eV\n",
      "Energy per atom: Epot = -0.006eV  Ekin = 0.032eV (T=247K)  Etot = 0.026eV\n",
      "Energy per atom: Epot = -0.004eV  Ekin = 0.030eV (T=232K)  Etot = 0.026eV\n",
      "Energy per atom: Epot = 0.000eV  Ekin = 0.026eV (T=200K)  Etot = 0.026eV\n",
      "Energy per atom: Epot = 0.003eV  Ekin = 0.023eV (T=182K)  Etot = 0.026eV\n",
      "Energy per atom: Epot = 0.002eV  Ekin = 0.025eV (T=191K)  Etot = 0.026eV\n",
      "Energy per atom: Epot = -0.001eV  Ekin = 0.027eV (T=212K)  Etot = 0.026eV\n",
      "Energy per atom: Epot = -0.003eV  Ekin = 0.029eV (T=222K)  Etot = 0.026eV\n",
      "Energy per atom: Epot = -0.001eV  Ekin = 0.027eV (T=211K)  Etot = 0.026eV\n",
      "Energy per atom: Epot = 0.001eV  Ekin = 0.024eV (T=189K)  Etot = 0.026eV\n",
      "Energy per atom: Epot = 0.004eV  Ekin = 0.022eV (T=170K)  Etot = 0.026eV\n",
      "Energy per atom: Epot = 0.005eV  Ekin = 0.021eV (T=162K)  Etot = 0.026eV\n",
      "Energy per atom: Epot = 0.004eV  Ekin = 0.021eV (T=164K)  Etot = 0.026eV\n",
      "Energy per atom: Epot = 0.003eV  Ekin = 0.022eV (T=174K)  Etot = 0.026eV\n",
      "Energy per atom: Epot = 0.001eV  Ekin = 0.024eV (T=188K)  Etot = 0.026eV\n",
      "Energy per atom: Epot = 0.000eV  Ekin = 0.026eV (T=197K)  Etot = 0.026eV\n",
      "Energy per atom: Epot = -0.000eV  Ekin = 0.026eV (T=202K)  Etot = 0.026eV\n",
      "Energy per atom: Epot = -0.001eV  Ekin = 0.027eV (T=209K)  Etot = 0.026eV\n",
      "Energy per atom: Epot = -0.002eV  Ekin = 0.029eV (T=224K)  Etot = 0.027eV\n",
      "Energy per atom: Epot = -0.005eV  Ekin = 0.031eV (T=242K)  Etot = 0.027eV\n",
      "Energy per atom: Epot = -0.005eV  Ekin = 0.032eV (T=246K)  Etot = 0.027eV\n",
      "Energy per atom: Epot = -0.003eV  Ekin = 0.029eV (T=224K)  Etot = 0.026eV\n",
      "Energy per atom: Epot = 0.001eV  Ekin = 0.025eV (T=194K)  Etot = 0.026eV\n",
      "Energy per atom: Epot = 0.003eV  Ekin = 0.023eV (T=181K)  Etot = 0.026eV\n",
      "Energy per atom: Epot = 0.001eV  Ekin = 0.025eV (T=191K)  Etot = 0.026eV\n",
      "Energy per atom: Epot = -0.001eV  Ekin = 0.026eV (T=204K)  Etot = 0.026eV\n",
      "Energy per atom: Epot = -0.001eV  Ekin = 0.027eV (T=207K)  Etot = 0.026eV\n",
      "Energy per atom: Epot = 0.000eV  Ekin = 0.025eV (T=196K)  Etot = 0.025eV\n",
      "Energy per atom: Epot = 0.003eV  Ekin = 0.023eV (T=176K)  Etot = 0.025eV\n",
      "Energy per atom: Epot = 0.006eV  Ekin = 0.020eV (T=153K)  Etot = 0.025eV\n",
      "Energy per atom: Epot = 0.007eV  Ekin = 0.019eV (T=146K)  Etot = 0.025eV\n",
      "Energy per atom: Epot = 0.003eV  Ekin = 0.022eV (T=171K)  Etot = 0.026eV\n",
      "Energy per atom: Epot = -0.001eV  Ekin = 0.027eV (T=210K)  Etot = 0.026eV\n",
      "Energy per atom: Epot = -0.003eV  Ekin = 0.029eV (T=226K)  Etot = 0.026eV\n",
      "Energy per atom: Epot = -0.002eV  Ekin = 0.028eV (T=217K)  Etot = 0.026eV\n",
      "Energy per atom: Epot = -0.001eV  Ekin = 0.027eV (T=212K)  Etot = 0.026eV\n",
      "Energy per atom: Epot = -0.001eV  Ekin = 0.028eV (T=215K)  Etot = 0.027eV\n",
      "Energy per atom: Epot = -0.001eV  Ekin = 0.028eV (T=214K)  Etot = 0.027eV\n",
      "Energy per atom: Epot = 0.000eV  Ekin = 0.026eV (T=204K)  Etot = 0.027eV\n",
      "Energy per atom: Epot = 0.001eV  Ekin = 0.025eV (T=196K)  Etot = 0.027eV\n",
      "Energy per atom: Epot = -0.001eV  Ekin = 0.027eV (T=208K)  Etot = 0.026eV\n",
      "Energy per atom: Epot = -0.003eV  Ekin = 0.029eV (T=227K)  Etot = 0.026eV\n",
      "Energy per atom: Epot = -0.004eV  Ekin = 0.030eV (T=229K)  Etot = 0.026eV\n",
      "Energy per atom: Epot = -0.002eV  Ekin = 0.028eV (T=214K)  Etot = 0.026eV\n",
      "Energy per atom: Epot = 0.000eV  Ekin = 0.025eV (T=194K)  Etot = 0.025eV\n",
      "Energy per atom: Epot = 0.002eV  Ekin = 0.023eV (T=180K)  Etot = 0.025eV\n",
      "Energy per atom: Epot = 0.003eV  Ekin = 0.022eV (T=172K)  Etot = 0.025eV\n",
      "Energy per atom: Epot = 0.004eV  Ekin = 0.021eV (T=160K)  Etot = 0.025eV\n",
      "Energy per atom: Epot = 0.006eV  Ekin = 0.019eV (T=147K)  Etot = 0.025eV\n",
      "Energy per atom: Epot = 0.006eV  Ekin = 0.019eV (T=149K)  Etot = 0.025eV\n",
      "Energy per atom: Epot = 0.004eV  Ekin = 0.021eV (T=164K)  Etot = 0.025eV\n",
      "Energy per atom: Epot = 0.002eV  Ekin = 0.024eV (T=185K)  Etot = 0.026eV\n",
      "Energy per atom: Epot = -0.001eV  Ekin = 0.027eV (T=212K)  Etot = 0.026eV\n",
      "Energy per atom: Epot = -0.005eV  Ekin = 0.031eV (T=237K)  Etot = 0.026eV\n",
      "Energy per atom: Epot = -0.005eV  Ekin = 0.032eV (T=244K)  Etot = 0.026eV\n",
      "Energy per atom: Epot = -0.003eV  Ekin = 0.029eV (T=226K)  Etot = 0.026eV\n",
      "Energy per atom: Epot = 0.000eV  Ekin = 0.026eV (T=203K)  Etot = 0.026eV\n",
      "Energy per atom: Epot = 0.001eV  Ekin = 0.025eV (T=192K)  Etot = 0.026eV\n",
      "Energy per atom: Epot = 0.002eV  Ekin = 0.024eV (T=188K)  Etot = 0.026eV\n",
      "Energy per atom: Epot = 0.002eV  Ekin = 0.023eV (T=182K)  Etot = 0.026eV\n",
      "Energy per atom: Epot = 0.003eV  Ekin = 0.023eV (T=178K)  Etot = 0.026eV\n",
      "Energy per atom: Epot = 0.003eV  Ekin = 0.023eV (T=175K)  Etot = 0.026eV\n",
      "Energy per atom: Epot = 0.004eV  Ekin = 0.021eV (T=164K)  Etot = 0.025eV\n",
      "Energy per atom: Epot = 0.007eV  Ekin = 0.019eV (T=145K)  Etot = 0.025eV\n",
      "Energy per atom: Epot = 0.009eV  Ekin = 0.017eV (T=131K)  Etot = 0.025eV\n",
      "Energy per atom: Epot = 0.008eV  Ekin = 0.018eV (T=136K)  Etot = 0.026eV\n",
      "Energy per atom: Epot = 0.005eV  Ekin = 0.021eV (T=162K)  Etot = 0.026eV\n",
      "Energy per atom: Epot = 0.001eV  Ekin = 0.025eV (T=192K)  Etot = 0.026eV\n",
      "Energy per atom: Epot = -0.000eV  Ekin = 0.026eV (T=201K)  Etot = 0.026eV\n",
      "Energy per atom: Epot = 0.000eV  Ekin = 0.026eV (T=201K)  Etot = 0.026eV\n",
      "Energy per atom: Epot = -0.002eV  Ekin = 0.028eV (T=216K)  Etot = 0.026eV\n",
      "Energy per atom: Epot = -0.005eV  Ekin = 0.031eV (T=241K)  Etot = 0.026eV\n",
      "Energy per atom: Epot = -0.007eV  Ekin = 0.033eV (T=256K)  Etot = 0.026eV\n",
      "Energy per atom: Epot = -0.006eV  Ekin = 0.033eV (T=254K)  Etot = 0.026eV\n",
      "Energy per atom: Epot = -0.004eV  Ekin = 0.030eV (T=235K)  Etot = 0.026eV\n",
      "Energy per atom: Epot = -0.001eV  Ekin = 0.027eV (T=210K)  Etot = 0.026eV\n",
      "Energy per atom: Epot = 0.001eV  Ekin = 0.025eV (T=191K)  Etot = 0.026eV\n",
      "Energy per atom: Epot = 0.003eV  Ekin = 0.023eV (T=178K)  Etot = 0.026eV\n",
      "Energy per atom: Epot = 0.004eV  Ekin = 0.022eV (T=172K)  Etot = 0.026eV\n",
      "Energy per atom: Epot = 0.004eV  Ekin = 0.022eV (T=172K)  Etot = 0.026eV\n",
      "Energy per atom: Epot = 0.004eV  Ekin = 0.022eV (T=171K)  Etot = 0.026eV\n",
      "Energy per atom: Epot = 0.004eV  Ekin = 0.021eV (T=166K)  Etot = 0.026eV\n",
      "Energy per atom: Epot = 0.005eV  Ekin = 0.021eV (T=165K)  Etot = 0.026eV\n",
      "Energy per atom: Epot = 0.004eV  Ekin = 0.022eV (T=171K)  Etot = 0.026eV\n",
      "Energy per atom: Epot = 0.003eV  Ekin = 0.023eV (T=180K)  Etot = 0.026eV\n",
      "Energy per atom: Epot = 0.002eV  Ekin = 0.024eV (T=187K)  Etot = 0.026eV\n",
      "Energy per atom: Epot = 0.001eV  Ekin = 0.025eV (T=192K)  Etot = 0.026eV\n",
      "Energy per atom: Epot = 0.001eV  Ekin = 0.026eV (T=198K)  Etot = 0.026eV\n",
      "Energy per atom: Epot = -0.000eV  Ekin = 0.026eV (T=204K)  Etot = 0.026eV\n",
      "Energy per atom: Epot = -0.000eV  Ekin = 0.027eV (T=206K)  Etot = 0.026eV\n",
      "Energy per atom: Epot = -0.000eV  Ekin = 0.026eV (T=205K)  Etot = 0.026eV\n",
      "Energy per atom: Epot = 0.001eV  Ekin = 0.025eV (T=192K)  Etot = 0.026eV\n",
      "Energy per atom: Epot = 0.003eV  Ekin = 0.023eV (T=178K)  Etot = 0.026eV\n",
      "Energy per atom: Epot = 0.002eV  Ekin = 0.024eV (T=185K)  Etot = 0.026eV\n",
      "Energy per atom: Epot = 0.001eV  Ekin = 0.025eV (T=196K)  Etot = 0.026eV\n"
     ]
    },
    {
     "name": "stdout",
     "output_type": "stream",
     "text": [
      "Energy per atom: Epot = -0.001eV  Ekin = 0.026eV (T=204K)  Etot = 0.026eV\n",
      "Energy per atom: Epot = -0.002eV  Ekin = 0.028eV (T=219K)  Etot = 0.026eV\n",
      "Energy per atom: Epot = -0.003eV  Ekin = 0.029eV (T=228K)  Etot = 0.026eV\n",
      "Energy per atom: Epot = -0.002eV  Ekin = 0.028eV (T=214K)  Etot = 0.026eV\n",
      "Energy per atom: Epot = 0.000eV  Ekin = 0.026eV (T=203K)  Etot = 0.026eV\n",
      "Energy per atom: Epot = 0.001eV  Ekin = 0.026eV (T=199K)  Etot = 0.026eV\n",
      "Energy per atom: Epot = 0.001eV  Ekin = 0.025eV (T=194K)  Etot = 0.026eV\n",
      "Energy per atom: Epot = 0.003eV  Ekin = 0.024eV (T=184K)  Etot = 0.026eV\n",
      "Energy per atom: Epot = 0.004eV  Ekin = 0.023eV (T=176K)  Etot = 0.026eV\n",
      "Energy per atom: Epot = 0.004eV  Ekin = 0.023eV (T=175K)  Etot = 0.026eV\n",
      "Energy per atom: Epot = 0.004eV  Ekin = 0.022eV (T=173K)  Etot = 0.026eV\n",
      "Energy per atom: Epot = 0.005eV  Ekin = 0.021eV (T=163K)  Etot = 0.026eV\n",
      "Energy per atom: Epot = 0.006eV  Ekin = 0.020eV (T=154K)  Etot = 0.026eV\n",
      "Energy per atom: Epot = 0.005eV  Ekin = 0.021eV (T=165K)  Etot = 0.026eV\n",
      "Energy per atom: Epot = 0.001eV  Ekin = 0.025eV (T=191K)  Etot = 0.026eV\n",
      "Energy per atom: Epot = -0.001eV  Ekin = 0.027eV (T=208K)  Etot = 0.026eV\n",
      "Energy per atom: Epot = -0.002eV  Ekin = 0.028eV (T=216K)  Etot = 0.026eV\n",
      "Energy per atom: Epot = -0.003eV  Ekin = 0.029eV (T=225K)  Etot = 0.026eV\n",
      "Energy per atom: Epot = -0.004eV  Ekin = 0.030eV (T=234K)  Etot = 0.026eV\n",
      "Energy per atom: Epot = -0.004eV  Ekin = 0.030eV (T=232K)  Etot = 0.026eV\n",
      "Energy per atom: Epot = -0.002eV  Ekin = 0.028eV (T=216K)  Etot = 0.026eV\n",
      "Energy per atom: Epot = 0.000eV  Ekin = 0.026eV (T=201K)  Etot = 0.026eV\n",
      "Energy per atom: Epot = 0.002eV  Ekin = 0.024eV (T=189K)  Etot = 0.026eV\n",
      "Energy per atom: Epot = 0.003eV  Ekin = 0.023eV (T=175K)  Etot = 0.026eV\n",
      "Energy per atom: Epot = 0.005eV  Ekin = 0.021eV (T=163K)  Etot = 0.026eV\n",
      "Energy per atom: Epot = 0.005eV  Ekin = 0.021eV (T=159K)  Etot = 0.026eV\n",
      "Energy per atom: Epot = 0.005eV  Ekin = 0.021eV (T=164K)  Etot = 0.026eV\n",
      "Energy per atom: Epot = 0.004eV  Ekin = 0.022eV (T=173K)  Etot = 0.026eV\n",
      "Energy per atom: Epot = 0.002eV  Ekin = 0.024eV (T=183K)  Etot = 0.026eV\n",
      "Energy per atom: Epot = 0.001eV  Ekin = 0.024eV (T=189K)  Etot = 0.026eV\n",
      "Energy per atom: Epot = 0.001eV  Ekin = 0.025eV (T=190K)  Etot = 0.026eV\n",
      "Energy per atom: Epot = 0.002eV  Ekin = 0.024eV (T=187K)  Etot = 0.026eV\n",
      "Energy per atom: Epot = 0.000eV  Ekin = 0.026eV (T=198K)  Etot = 0.026eV\n",
      "Energy per atom: Epot = -0.001eV  Ekin = 0.027eV (T=210K)  Etot = 0.026eV\n",
      "Energy per atom: Epot = 0.000eV  Ekin = 0.026eV (T=198K)  Etot = 0.026eV\n",
      "Energy per atom: Epot = 0.002eV  Ekin = 0.024eV (T=186K)  Etot = 0.026eV\n",
      "Energy per atom: Epot = 0.001eV  Ekin = 0.025eV (T=192K)  Etot = 0.026eV\n",
      "Energy per atom: Epot = 0.000eV  Ekin = 0.026eV (T=199K)  Etot = 0.026eV\n",
      "Energy per atom: Epot = 0.000eV  Ekin = 0.026eV (T=201K)  Etot = 0.026eV\n",
      "Energy per atom: Epot = -0.001eV  Ekin = 0.027eV (T=210K)  Etot = 0.026eV\n",
      "Energy per atom: Epot = -0.003eV  Ekin = 0.029eV (T=223K)  Etot = 0.026eV\n",
      "Energy per atom: Epot = -0.003eV  Ekin = 0.029eV (T=225K)  Etot = 0.026eV\n",
      "Energy per atom: Epot = -0.002eV  Ekin = 0.028eV (T=218K)  Etot = 0.026eV\n",
      "Energy per atom: Epot = -0.001eV  Ekin = 0.027eV (T=210K)  Etot = 0.026eV\n",
      "Energy per atom: Epot = -0.000eV  Ekin = 0.027eV (T=205K)  Etot = 0.026eV\n",
      "Energy per atom: Epot = -0.000eV  Ekin = 0.026eV (T=204K)  Etot = 0.026eV\n",
      "Energy per atom: Epot = 0.001eV  Ekin = 0.025eV (T=196K)  Etot = 0.026eV\n",
      "Energy per atom: Epot = 0.003eV  Ekin = 0.023eV (T=180K)  Etot = 0.026eV\n",
      "Energy per atom: Epot = 0.005eV  Ekin = 0.022eV (T=168K)  Etot = 0.026eV\n",
      "Energy per atom: Epot = 0.004eV  Ekin = 0.022eV (T=170K)  Etot = 0.026eV\n",
      "Energy per atom: Epot = 0.002eV  Ekin = 0.024eV (T=185K)  Etot = 0.026eV\n",
      "Energy per atom: Epot = -0.000eV  Ekin = 0.026eV (T=204K)  Etot = 0.026eV\n",
      "Energy per atom: Epot = -0.001eV  Ekin = 0.027eV (T=212K)  Etot = 0.026eV\n",
      "Energy per atom: Epot = -0.001eV  Ekin = 0.027eV (T=209K)  Etot = 0.026eV\n",
      "Energy per atom: Epot = -0.001eV  Ekin = 0.027eV (T=211K)  Etot = 0.026eV\n",
      "Energy per atom: Epot = -0.000eV  Ekin = 0.026eV (T=202K)  Etot = 0.026eV\n",
      "Energy per atom: Epot = 0.002eV  Ekin = 0.024eV (T=188K)  Etot = 0.026eV\n",
      "Energy per atom: Epot = 0.002eV  Ekin = 0.024eV (T=187K)  Etot = 0.026eV\n",
      "Energy per atom: Epot = 0.002eV  Ekin = 0.025eV (T=194K)  Etot = 0.027eV\n",
      "Energy per atom: Epot = 0.002eV  Ekin = 0.025eV (T=194K)  Etot = 0.027eV\n",
      "Energy per atom: Epot = 0.001eV  Ekin = 0.026eV (T=198K)  Etot = 0.027eV\n",
      "Energy per atom: Epot = 0.001eV  Ekin = 0.026eV (T=201K)  Etot = 0.027eV\n",
      "Energy per atom: Epot = 0.000eV  Ekin = 0.026eV (T=203K)  Etot = 0.026eV\n",
      "Energy per atom: Epot = -0.000eV  Ekin = 0.027eV (T=206K)  Etot = 0.026eV\n",
      "Energy per atom: Epot = -0.001eV  Ekin = 0.027eV (T=210K)  Etot = 0.026eV\n",
      "Energy per atom: Epot = -0.002eV  Ekin = 0.028eV (T=216K)  Etot = 0.026eV\n",
      "Energy per atom: Epot = -0.002eV  Ekin = 0.028eV (T=216K)  Etot = 0.026eV\n",
      "Energy per atom: Epot = -0.001eV  Ekin = 0.026eV (T=203K)  Etot = 0.025eV\n",
      "Energy per atom: Epot = 0.002eV  Ekin = 0.023eV (T=180K)  Etot = 0.025eV\n",
      "Energy per atom: Epot = 0.005eV  Ekin = 0.021eV (T=161K)  Etot = 0.025eV\n",
      "Energy per atom: Epot = 0.006eV  Ekin = 0.019eV (T=149K)  Etot = 0.026eV\n",
      "Energy per atom: Epot = 0.008eV  Ekin = 0.018eV (T=140K)  Etot = 0.026eV\n",
      "Energy per atom: Epot = 0.007eV  Ekin = 0.019eV (T=145K)  Etot = 0.026eV\n",
      "Energy per atom: Epot = 0.004eV  Ekin = 0.022eV (T=174K)  Etot = 0.026eV\n",
      "Energy per atom: Epot = -0.002eV  Ekin = 0.028eV (T=220K)  Etot = 0.026eV\n",
      "Energy per atom: Epot = -0.007eV  Ekin = 0.033eV (T=254K)  Etot = 0.026eV\n",
      "Energy per atom: Epot = -0.006eV  Ekin = 0.033eV (T=252K)  Etot = 0.026eV\n",
      "Energy per atom: Epot = -0.003eV  Ekin = 0.029eV (T=224K)  Etot = 0.026eV\n",
      "Energy per atom: Epot = 0.001eV  Ekin = 0.025eV (T=194K)  Etot = 0.027eV\n",
      "Energy per atom: Epot = 0.004eV  Ekin = 0.023eV (T=178K)  Etot = 0.027eV\n",
      "Energy per atom: Epot = 0.003eV  Ekin = 0.023eV (T=179K)  Etot = 0.027eV\n",
      "Energy per atom: Epot = 0.002eV  Ekin = 0.025eV (T=191K)  Etot = 0.027eV\n",
      "Energy per atom: Epot = -0.000eV  Ekin = 0.026eV (T=204K)  Etot = 0.026eV\n",
      "Energy per atom: Epot = -0.001eV  Ekin = 0.027eV (T=209K)  Etot = 0.026eV\n",
      "Energy per atom: Epot = -0.000eV  Ekin = 0.026eV (T=203K)  Etot = 0.026eV\n",
      "Energy per atom: Epot = 0.001eV  Ekin = 0.025eV (T=193K)  Etot = 0.026eV\n",
      "Energy per atom: Epot = 0.001eV  Ekin = 0.025eV (T=193K)  Etot = 0.026eV\n",
      "Energy per atom: Epot = -0.001eV  Ekin = 0.027eV (T=207K)  Etot = 0.025eV\n",
      "Energy per atom: Epot = -0.002eV  Ekin = 0.028eV (T=215K)  Etot = 0.026eV\n",
      "Energy per atom: Epot = -0.000eV  Ekin = 0.026eV (T=200K)  Etot = 0.026eV\n",
      "Energy per atom: Epot = 0.004eV  Ekin = 0.022eV (T=173K)  Etot = 0.026eV\n",
      "Energy per atom: Epot = 0.005eV  Ekin = 0.021eV (T=166K)  Etot = 0.026eV\n",
      "Energy per atom: Epot = 0.002eV  Ekin = 0.024eV (T=188K)  Etot = 0.026eV\n",
      "Energy per atom: Epot = -0.002eV  Ekin = 0.028eV (T=220K)  Etot = 0.026eV\n",
      "Energy per atom: Epot = -0.004eV  Ekin = 0.030eV (T=231K)  Etot = 0.026eV\n",
      "Energy per atom: Epot = -0.002eV  Ekin = 0.028eV (T=217K)  Etot = 0.026eV\n",
      "Energy per atom: Epot = 0.001eV  Ekin = 0.026eV (T=199K)  Etot = 0.026eV\n",
      "Energy per atom: Epot = 0.002eV  Ekin = 0.025eV (T=191K)  Etot = 0.026eV\n",
      "Energy per atom: Epot = 0.001eV  Ekin = 0.025eV (T=196K)  Etot = 0.026eV\n",
      "Energy per atom: Epot = -0.001eV  Ekin = 0.027eV (T=210K)  Etot = 0.026eV\n",
      "Energy per atom: Epot = -0.002eV  Ekin = 0.028eV (T=218K)  Etot = 0.026eV\n",
      "Energy per atom: Epot = -0.001eV  Ekin = 0.027eV (T=208K)  Etot = 0.026eV\n",
      "Energy per atom: Epot = 0.002eV  Ekin = 0.024eV (T=185K)  Etot = 0.026eV\n",
      "Energy per atom: Epot = 0.005eV  Ekin = 0.021eV (T=161K)  Etot = 0.026eV\n",
      "Energy per atom: Epot = 0.007eV  Ekin = 0.019eV (T=148K)  Etot = 0.026eV\n",
      "Energy per atom: Epot = 0.006eV  Ekin = 0.020eV (T=153K)  Etot = 0.026eV\n",
      "Energy per atom: Epot = 0.004eV  Ekin = 0.022eV (T=168K)  Etot = 0.026eV\n",
      "Energy per atom: Epot = 0.002eV  Ekin = 0.024eV (T=186K)  Etot = 0.026eV\n",
      "Energy per atom: Epot = -0.001eV  Ekin = 0.026eV (T=205K)  Etot = 0.026eV\n",
      "Energy per atom: Epot = -0.002eV  Ekin = 0.028eV (T=218K)  Etot = 0.026eV\n",
      "Energy per atom: Epot = -0.003eV  Ekin = 0.029eV (T=224K)  Etot = 0.026eV\n",
      "Energy per atom: Epot = -0.003eV  Ekin = 0.029eV (T=225K)  Etot = 0.026eV\n"
     ]
    },
    {
     "name": "stdout",
     "output_type": "stream",
     "text": [
      "Energy per atom: Epot = -0.002eV  Ekin = 0.029eV (T=221K)  Etot = 0.026eV\n",
      "Energy per atom: Epot = -0.001eV  Ekin = 0.028eV (T=214K)  Etot = 0.026eV\n",
      "Energy per atom: Epot = 0.000eV  Ekin = 0.026eV (T=203K)  Etot = 0.026eV\n",
      "Energy per atom: Epot = 0.001eV  Ekin = 0.025eV (T=196K)  Etot = 0.026eV\n",
      "Energy per atom: Epot = 0.001eV  Ekin = 0.025eV (T=196K)  Etot = 0.026eV\n",
      "Energy per atom: Epot = 0.001eV  Ekin = 0.025eV (T=194K)  Etot = 0.026eV\n",
      "Energy per atom: Epot = 0.001eV  Ekin = 0.025eV (T=192K)  Etot = 0.026eV\n",
      "Energy per atom: Epot = 0.000eV  Ekin = 0.026eV (T=200K)  Etot = 0.026eV\n",
      "Energy per atom: Epot = -0.001eV  Ekin = 0.027eV (T=210K)  Etot = 0.026eV\n",
      "Energy per atom: Epot = -0.002eV  Ekin = 0.027eV (T=213K)  Etot = 0.026eV\n",
      "Energy per atom: Epot = -0.001eV  Ekin = 0.027eV (T=205K)  Etot = 0.026eV\n",
      "Energy per atom: Epot = 0.001eV  Ekin = 0.025eV (T=191K)  Etot = 0.026eV\n",
      "Energy per atom: Epot = 0.003eV  Ekin = 0.023eV (T=176K)  Etot = 0.026eV\n",
      "Energy per atom: Epot = 0.004eV  Ekin = 0.022eV (T=171K)  Etot = 0.026eV\n",
      "Energy per atom: Epot = 0.002eV  Ekin = 0.024eV (T=185K)  Etot = 0.026eV\n",
      "Energy per atom: Epot = -0.000eV  Ekin = 0.026eV (T=205K)  Etot = 0.026eV\n",
      "Energy per atom: Epot = -0.001eV  Ekin = 0.027eV (T=210K)  Etot = 0.026eV\n",
      "Energy per atom: Epot = 0.000eV  Ekin = 0.026eV (T=202K)  Etot = 0.026eV\n",
      "Energy per atom: Epot = 0.001eV  Ekin = 0.025eV (T=194K)  Etot = 0.026eV\n",
      "Energy per atom: Epot = 0.001eV  Ekin = 0.025eV (T=192K)  Etot = 0.026eV\n",
      "Energy per atom: Epot = 0.001eV  Ekin = 0.025eV (T=195K)  Etot = 0.026eV\n",
      "Energy per atom: Epot = -0.000eV  Ekin = 0.026eV (T=203K)  Etot = 0.026eV\n",
      "Energy per atom: Epot = -0.002eV  Ekin = 0.028eV (T=218K)  Etot = 0.026eV\n",
      "Energy per atom: Epot = -0.004eV  Ekin = 0.030eV (T=231K)  Etot = 0.026eV\n",
      "Energy per atom: Epot = -0.004eV  Ekin = 0.029eV (T=226K)  Etot = 0.026eV\n",
      "Energy per atom: Epot = -0.001eV  Ekin = 0.026eV (T=203K)  Etot = 0.026eV\n",
      "Energy per atom: Epot = 0.003eV  Ekin = 0.023eV (T=178K)  Etot = 0.026eV\n",
      "Energy per atom: Epot = 0.004eV  Ekin = 0.022eV (T=168K)  Etot = 0.026eV\n",
      "Energy per atom: Epot = 0.003eV  Ekin = 0.023eV (T=175K)  Etot = 0.026eV\n",
      "Energy per atom: Epot = 0.001eV  Ekin = 0.025eV (T=191K)  Etot = 0.026eV\n",
      "Energy per atom: Epot = -0.000eV  Ekin = 0.026eV (T=204K)  Etot = 0.026eV\n",
      "Energy per atom: Epot = -0.001eV  Ekin = 0.027eV (T=211K)  Etot = 0.026eV\n",
      "Energy per atom: Epot = -0.001eV  Ekin = 0.027eV (T=208K)  Etot = 0.026eV\n",
      "Energy per atom: Epot = 0.001eV  Ekin = 0.025eV (T=195K)  Etot = 0.026eV\n",
      "Energy per atom: Epot = 0.002eV  Ekin = 0.024eV (T=185K)  Etot = 0.026eV\n",
      "Energy per atom: Epot = 0.002eV  Ekin = 0.025eV (T=190K)  Etot = 0.026eV\n",
      "Energy per atom: Epot = -0.001eV  Ekin = 0.027eV (T=207K)  Etot = 0.026eV\n",
      "Energy per atom: Epot = -0.003eV  Ekin = 0.029eV (T=223K)  Etot = 0.026eV\n",
      "Energy per atom: Epot = -0.003eV  Ekin = 0.029eV (T=226K)  Etot = 0.026eV\n",
      "Energy per atom: Epot = -0.002eV  Ekin = 0.028eV (T=215K)  Etot = 0.026eV\n",
      "Energy per atom: Epot = 0.001eV  Ekin = 0.025eV (T=197K)  Etot = 0.026eV\n",
      "Energy per atom: Epot = 0.003eV  Ekin = 0.023eV (T=180K)  Etot = 0.026eV\n",
      "Energy per atom: Epot = 0.003eV  Ekin = 0.023eV (T=176K)  Etot = 0.026eV\n",
      "Energy per atom: Epot = 0.002eV  Ekin = 0.024eV (T=189K)  Etot = 0.026eV\n",
      "Energy per atom: Epot = -0.001eV  Ekin = 0.027eV (T=206K)  Etot = 0.026eV\n",
      "Energy per atom: Epot = -0.002eV  Ekin = 0.028eV (T=213K)  Etot = 0.026eV\n",
      "Energy per atom: Epot = -0.001eV  Ekin = 0.027eV (T=205K)  Etot = 0.026eV\n",
      "Energy per atom: Epot = 0.002eV  Ekin = 0.024eV (T=188K)  Etot = 0.026eV\n",
      "Energy per atom: Epot = 0.004eV  Ekin = 0.022eV (T=173K)  Etot = 0.026eV\n",
      "Energy per atom: Epot = 0.004eV  Ekin = 0.022eV (T=173K)  Etot = 0.026eV\n",
      "Energy per atom: Epot = 0.002eV  Ekin = 0.024eV (T=187K)  Etot = 0.026eV\n",
      "Energy per atom: Epot = 0.000eV  Ekin = 0.026eV (T=200K)  Etot = 0.026eV\n",
      "Energy per atom: Epot = -0.001eV  Ekin = 0.027eV (T=207K)  Etot = 0.026eV\n",
      "Energy per atom: Epot = -0.001eV  Ekin = 0.027eV (T=212K)  Etot = 0.026eV\n",
      "Energy per atom: Epot = -0.002eV  Ekin = 0.028eV (T=214K)  Etot = 0.026eV\n",
      "Energy per atom: Epot = -0.001eV  Ekin = 0.028eV (T=213K)  Etot = 0.026eV\n",
      "Energy per atom: Epot = -0.001eV  Ekin = 0.027eV (T=206K)  Etot = 0.026eV\n",
      "Energy per atom: Epot = 0.000eV  Ekin = 0.026eV (T=200K)  Etot = 0.026eV\n",
      "Energy per atom: Epot = -0.000eV  Ekin = 0.026eV (T=205K)  Etot = 0.026eV\n",
      "Energy per atom: Epot = -0.001eV  Ekin = 0.027eV (T=206K)  Etot = 0.026eV\n",
      "Energy per atom: Epot = 0.001eV  Ekin = 0.025eV (T=192K)  Etot = 0.026eV\n",
      "Energy per atom: Epot = 0.003eV  Ekin = 0.023eV (T=175K)  Etot = 0.026eV\n",
      "Energy per atom: Epot = 0.004eV  Ekin = 0.022eV (T=172K)  Etot = 0.026eV\n",
      "Energy per atom: Epot = 0.002eV  Ekin = 0.024eV (T=187K)  Etot = 0.026eV\n",
      "Energy per atom: Epot = -0.002eV  Ekin = 0.027eV (T=213K)  Etot = 0.026eV\n",
      "Energy per atom: Epot = -0.004eV  Ekin = 0.030eV (T=231K)  Etot = 0.026eV\n",
      "Energy per atom: Epot = -0.004eV  Ekin = 0.029eV (T=228K)  Etot = 0.026eV\n",
      "Energy per atom: Epot = -0.000eV  Ekin = 0.026eV (T=205K)  Etot = 0.026eV\n",
      "Energy per atom: Epot = 0.003eV  Ekin = 0.023eV (T=181K)  Etot = 0.026eV\n",
      "Energy per atom: Epot = 0.004eV  Ekin = 0.023eV (T=175K)  Etot = 0.026eV\n",
      "Energy per atom: Epot = 0.002eV  Ekin = 0.024eV (T=189K)  Etot = 0.026eV\n",
      "Energy per atom: Epot = 0.000eV  Ekin = 0.026eV (T=202K)  Etot = 0.026eV\n",
      "Energy per atom: Epot = 0.000eV  Ekin = 0.026eV (T=201K)  Etot = 0.026eV\n",
      "Energy per atom: Epot = 0.001eV  Ekin = 0.025eV (T=195K)  Etot = 0.026eV\n",
      "Energy per atom: Epot = 0.001eV  Ekin = 0.025eV (T=193K)  Etot = 0.026eV\n",
      "Energy per atom: Epot = 0.001eV  Ekin = 0.024eV (T=189K)  Etot = 0.026eV\n",
      "Energy per atom: Epot = 0.002eV  Ekin = 0.023eV (T=181K)  Etot = 0.026eV\n",
      "Energy per atom: Epot = 0.002eV  Ekin = 0.023eV (T=181K)  Etot = 0.026eV\n",
      "Energy per atom: Epot = 0.001eV  Ekin = 0.024eV (T=188K)  Etot = 0.026eV\n",
      "Energy per atom: Epot = 0.001eV  Ekin = 0.025eV (T=195K)  Etot = 0.026eV\n",
      "Energy per atom: Epot = 0.001eV  Ekin = 0.025eV (T=194K)  Etot = 0.026eV\n",
      "Energy per atom: Epot = 0.002eV  Ekin = 0.024eV (T=183K)  Etot = 0.026eV\n",
      "Energy per atom: Epot = 0.004eV  Ekin = 0.022eV (T=173K)  Etot = 0.026eV\n",
      "Energy per atom: Epot = 0.003eV  Ekin = 0.023eV (T=182K)  Etot = 0.026eV\n",
      "Energy per atom: Epot = -0.001eV  Ekin = 0.027eV (T=212K)  Etot = 0.026eV\n",
      "Energy per atom: Epot = -0.005eV  Ekin = 0.031eV (T=243K)  Etot = 0.026eV\n",
      "Energy per atom: Epot = -0.006eV  Ekin = 0.032eV (T=246K)  Etot = 0.026eV\n",
      "Energy per atom: Epot = -0.002eV  Ekin = 0.029eV (T=221K)  Etot = 0.026eV\n",
      "Energy per atom: Epot = 0.000eV  Ekin = 0.026eV (T=200K)  Etot = 0.026eV\n",
      "Energy per atom: Epot = 0.000eV  Ekin = 0.026eV (T=200K)  Etot = 0.026eV\n",
      "Energy per atom: Epot = -0.002eV  Ekin = 0.028eV (T=214K)  Etot = 0.026eV\n",
      "Energy per atom: Epot = -0.003eV  Ekin = 0.028eV (T=220K)  Etot = 0.026eV\n",
      "Energy per atom: Epot = -0.000eV  Ekin = 0.026eV (T=203K)  Etot = 0.026eV\n",
      "Energy per atom: Epot = 0.005eV  Ekin = 0.021eV (T=164K)  Etot = 0.026eV\n",
      "Energy per atom: Epot = 0.009eV  Ekin = 0.017eV (T=128K)  Etot = 0.026eV\n",
      "Energy per atom: Epot = 0.010eV  Ekin = 0.015eV (T=120K)  Etot = 0.026eV\n",
      "Energy per atom: Epot = 0.007eV  Ekin = 0.019eV (T=146K)  Etot = 0.026eV\n",
      "Energy per atom: Epot = 0.002eV  Ekin = 0.024eV (T=183K)  Etot = 0.026eV\n",
      "Energy per atom: Epot = -0.002eV  Ekin = 0.028eV (T=215K)  Etot = 0.026eV\n",
      "Energy per atom: Epot = -0.005eV  Ekin = 0.031eV (T=237K)  Etot = 0.026eV\n",
      "Energy per atom: Epot = -0.006eV  Ekin = 0.032eV (T=247K)  Etot = 0.026eV\n",
      "Energy per atom: Epot = -0.005eV  Ekin = 0.031eV (T=242K)  Etot = 0.026eV\n",
      "Energy per atom: Epot = -0.003eV  Ekin = 0.029eV (T=226K)  Etot = 0.026eV\n",
      "Energy per atom: Epot = -0.000eV  Ekin = 0.027eV (T=206K)  Etot = 0.026eV\n",
      "Energy per atom: Epot = 0.001eV  Ekin = 0.025eV (T=193K)  Etot = 0.026eV\n",
      "Energy per atom: Epot = 0.002eV  Ekin = 0.025eV (T=190K)  Etot = 0.026eV\n",
      "Energy per atom: Epot = 0.002eV  Ekin = 0.024eV (T=188K)  Etot = 0.026eV\n",
      "Energy per atom: Epot = 0.004eV  Ekin = 0.022eV (T=170K)  Etot = 0.026eV\n",
      "Energy per atom: Epot = 0.008eV  Ekin = 0.019eV (T=146K)  Etot = 0.026eV\n",
      "Energy per atom: Epot = 0.008eV  Ekin = 0.018eV (T=142K)  Etot = 0.026eV\n",
      "Energy per atom: Epot = 0.005eV  Ekin = 0.021eV (T=165K)  Etot = 0.026eV\n",
      "Energy per atom: Epot = 0.001eV  Ekin = 0.025eV (T=194K)  Etot = 0.026eV\n",
      "Energy per atom: Epot = -0.001eV  Ekin = 0.026eV (T=204K)  Etot = 0.026eV\n",
      "Energy per atom: Epot = 0.000eV  Ekin = 0.025eV (T=194K)  Etot = 0.025eV\n",
      "Energy per atom: Epot = 0.001eV  Ekin = 0.025eV (T=192K)  Etot = 0.025eV\n"
     ]
    },
    {
     "name": "stdout",
     "output_type": "stream",
     "text": [
      "Energy per atom: Epot = -0.001eV  Ekin = 0.027eV (T=207K)  Etot = 0.025eV\n",
      "Energy per atom: Epot = -0.003eV  Ekin = 0.029eV (T=223K)  Etot = 0.026eV\n",
      "Energy per atom: Epot = -0.005eV  Ekin = 0.030eV (T=234K)  Etot = 0.026eV\n",
      "Energy per atom: Epot = -0.005eV  Ekin = 0.031eV (T=237K)  Etot = 0.026eV\n",
      "Energy per atom: Epot = -0.003eV  Ekin = 0.030eV (T=228K)  Etot = 0.026eV\n",
      "Energy per atom: Epot = -0.000eV  Ekin = 0.027eV (T=206K)  Etot = 0.026eV\n",
      "Energy per atom: Epot = 0.005eV  Ekin = 0.022eV (T=169K)  Etot = 0.027eV\n",
      "Energy per atom: Epot = 0.009eV  Ekin = 0.018eV (T=138K)  Etot = 0.027eV\n",
      "Energy per atom: Epot = 0.008eV  Ekin = 0.018eV (T=142K)  Etot = 0.027eV\n",
      "Energy per atom: Epot = 0.003eV  Ekin = 0.024eV (T=182K)  Etot = 0.027eV\n",
      "Energy per atom: Epot = -0.003eV  Ekin = 0.029eV (T=226K)  Etot = 0.026eV\n",
      "Energy per atom: Epot = -0.007eV  Ekin = 0.033eV (T=253K)  Etot = 0.026eV\n",
      "Energy per atom: Epot = -0.007eV  Ekin = 0.032eV (T=251K)  Etot = 0.026eV\n",
      "Energy per atom: Epot = -0.002eV  Ekin = 0.028eV (T=215K)  Etot = 0.026eV\n",
      "Energy per atom: Epot = 0.003eV  Ekin = 0.023eV (T=176K)  Etot = 0.026eV\n",
      "Energy per atom: Epot = 0.005eV  Ekin = 0.021eV (T=163K)  Etot = 0.026eV\n",
      "Energy per atom: Epot = 0.003eV  Ekin = 0.023eV (T=177K)  Etot = 0.026eV\n",
      "Energy per atom: Epot = -0.001eV  Ekin = 0.026eV (T=202K)  Etot = 0.026eV\n",
      "Energy per atom: Epot = -0.002eV  Ekin = 0.028eV (T=215K)  Etot = 0.026eV\n",
      "Energy per atom: Epot = 0.001eV  Ekin = 0.025eV (T=196K)  Etot = 0.026eV\n",
      "Energy per atom: Epot = 0.005eV  Ekin = 0.021eV (T=160K)  Etot = 0.026eV\n",
      "Energy per atom: Epot = 0.008eV  Ekin = 0.018eV (T=139K)  Etot = 0.026eV\n",
      "Energy per atom: Epot = 0.007eV  Ekin = 0.019eV (T=149K)  Etot = 0.026eV\n",
      "Energy per atom: Epot = 0.002eV  Ekin = 0.024eV (T=188K)  Etot = 0.026eV\n",
      "Energy per atom: Epot = -0.004eV  Ekin = 0.030eV (T=232K)  Etot = 0.026eV\n",
      "Energy per atom: Epot = -0.007eV  Ekin = 0.033eV (T=254K)  Etot = 0.026eV\n",
      "Energy per atom: Epot = -0.005eV  Ekin = 0.031eV (T=243K)  Etot = 0.026eV\n",
      "Energy per atom: Epot = -0.001eV  Ekin = 0.027eV (T=210K)  Etot = 0.026eV\n",
      "Energy per atom: Epot = 0.003eV  Ekin = 0.023eV (T=179K)  Etot = 0.026eV\n",
      "Energy per atom: Epot = 0.004eV  Ekin = 0.022eV (T=170K)  Etot = 0.026eV\n",
      "Energy per atom: Epot = 0.002eV  Ekin = 0.024eV (T=182K)  Etot = 0.026eV\n",
      "Energy per atom: Epot = 0.000eV  Ekin = 0.026eV (T=199K)  Etot = 0.026eV\n",
      "Energy per atom: Epot = -0.000eV  Ekin = 0.026eV (T=202K)  Etot = 0.026eV\n",
      "Energy per atom: Epot = 0.000eV  Ekin = 0.025eV (T=196K)  Etot = 0.026eV\n",
      "Energy per atom: Epot = 0.002eV  Ekin = 0.024eV (T=187K)  Etot = 0.026eV\n",
      "Energy per atom: Epot = 0.002eV  Ekin = 0.024eV (T=183K)  Etot = 0.026eV\n",
      "Energy per atom: Epot = 0.002eV  Ekin = 0.024eV (T=188K)  Etot = 0.026eV\n",
      "Energy per atom: Epot = 0.001eV  Ekin = 0.025eV (T=197K)  Etot = 0.026eV\n",
      "Energy per atom: Epot = 0.001eV  Ekin = 0.025eV (T=195K)  Etot = 0.026eV\n",
      "Energy per atom: Epot = 0.003eV  Ekin = 0.023eV (T=182K)  Etot = 0.026eV\n",
      "Energy per atom: Epot = 0.004eV  Ekin = 0.022eV (T=168K)  Etot = 0.026eV\n",
      "Energy per atom: Epot = 0.004eV  Ekin = 0.022eV (T=170K)  Etot = 0.026eV\n",
      "Energy per atom: Epot = 0.001eV  Ekin = 0.025eV (T=195K)  Etot = 0.026eV\n",
      "Energy per atom: Epot = -0.003eV  Ekin = 0.030eV (T=229K)  Etot = 0.026eV\n",
      "Energy per atom: Epot = -0.005eV  Ekin = 0.032eV (T=245K)  Etot = 0.026eV\n",
      "Energy per atom: Epot = -0.004eV  Ekin = 0.030eV (T=234K)  Etot = 0.026eV\n",
      "Energy per atom: Epot = -0.001eV  Ekin = 0.027eV (T=210K)  Etot = 0.026eV\n",
      "Energy per atom: Epot = 0.002eV  Ekin = 0.024eV (T=186K)  Etot = 0.026eV\n",
      "Energy per atom: Epot = 0.003eV  Ekin = 0.023eV (T=177K)  Etot = 0.026eV\n",
      "Energy per atom: Epot = 0.002eV  Ekin = 0.024eV (T=184K)  Etot = 0.026eV\n",
      "Energy per atom: Epot = 0.001eV  Ekin = 0.025eV (T=190K)  Etot = 0.026eV\n",
      "Energy per atom: Epot = 0.001eV  Ekin = 0.025eV (T=190K)  Etot = 0.026eV\n",
      "Energy per atom: Epot = 0.001eV  Ekin = 0.025eV (T=194K)  Etot = 0.026eV\n",
      "Energy per atom: Epot = 0.001eV  Ekin = 0.025eV (T=195K)  Etot = 0.026eV\n",
      "Energy per atom: Epot = 0.002eV  Ekin = 0.024eV (T=185K)  Etot = 0.026eV\n",
      "Energy per atom: Epot = 0.003eV  Ekin = 0.023eV (T=174K)  Etot = 0.026eV\n",
      "Energy per atom: Epot = 0.004eV  Ekin = 0.022eV (T=172K)  Etot = 0.026eV\n",
      "Energy per atom: Epot = 0.003eV  Ekin = 0.023eV (T=181K)  Etot = 0.026eV\n",
      "Energy per atom: Epot = -0.000eV  Ekin = 0.026eV (T=203K)  Etot = 0.026eV\n",
      "Energy per atom: Epot = -0.003eV  Ekin = 0.028eV (T=220K)  Etot = 0.026eV\n",
      "Energy per atom: Epot = -0.002eV  Ekin = 0.028eV (T=214K)  Etot = 0.026eV\n",
      "Energy per atom: Epot = -0.001eV  Ekin = 0.026eV (T=202K)  Etot = 0.026eV\n",
      "Energy per atom: Epot = 0.000eV  Ekin = 0.026eV (T=198K)  Etot = 0.026eV\n",
      "Energy per atom: Epot = 0.001eV  Ekin = 0.025eV (T=193K)  Etot = 0.026eV\n",
      "Energy per atom: Epot = 0.002eV  Ekin = 0.024eV (T=183K)  Etot = 0.026eV\n",
      "Energy per atom: Epot = 0.003eV  Ekin = 0.023eV (T=179K)  Etot = 0.026eV\n",
      "Energy per atom: Epot = 0.002eV  Ekin = 0.024eV (T=183K)  Etot = 0.026eV\n",
      "Energy per atom: Epot = 0.002eV  Ekin = 0.024eV (T=189K)  Etot = 0.026eV\n",
      "Energy per atom: Epot = 0.001eV  Ekin = 0.025eV (T=195K)  Etot = 0.026eV\n",
      "Energy per atom: Epot = -0.000eV  Ekin = 0.026eV (T=203K)  Etot = 0.026eV\n",
      "Energy per atom: Epot = -0.002eV  Ekin = 0.028eV (T=214K)  Etot = 0.026eV\n",
      "Energy per atom: Epot = -0.003eV  Ekin = 0.029eV (T=228K)  Etot = 0.026eV\n",
      "Energy per atom: Epot = -0.004eV  Ekin = 0.030eV (T=232K)  Etot = 0.026eV\n",
      "Energy per atom: Epot = -0.002eV  Ekin = 0.028eV (T=215K)  Etot = 0.026eV\n",
      "Energy per atom: Epot = 0.001eV  Ekin = 0.025eV (T=193K)  Etot = 0.026eV\n",
      "Energy per atom: Epot = 0.002eV  Ekin = 0.024eV (T=185K)  Etot = 0.026eV\n",
      "Energy per atom: Epot = 0.001eV  Ekin = 0.025eV (T=193K)  Etot = 0.026eV\n",
      "Energy per atom: Epot = -0.000eV  Ekin = 0.026eV (T=204K)  Etot = 0.026eV\n",
      "Energy per atom: Epot = -0.000eV  Ekin = 0.027eV (T=206K)  Etot = 0.026eV\n",
      "Energy per atom: Epot = 0.001eV  Ekin = 0.026eV (T=198K)  Etot = 0.026eV\n",
      "Energy per atom: Epot = 0.002eV  Ekin = 0.024eV (T=186K)  Etot = 0.026eV\n",
      "Energy per atom: Epot = 0.003eV  Ekin = 0.023eV (T=176K)  Etot = 0.026eV\n",
      "Energy per atom: Epot = 0.003eV  Ekin = 0.023eV (T=178K)  Etot = 0.026eV\n",
      "Energy per atom: Epot = 0.001eV  Ekin = 0.025eV (T=193K)  Etot = 0.026eV\n",
      "Energy per atom: Epot = -0.001eV  Ekin = 0.027eV (T=208K)  Etot = 0.026eV\n",
      "Energy per atom: Epot = -0.001eV  Ekin = 0.027eV (T=208K)  Etot = 0.026eV\n",
      "Energy per atom: Epot = 0.001eV  Ekin = 0.025eV (T=195K)  Etot = 0.026eV\n",
      "Energy per atom: Epot = 0.001eV  Ekin = 0.024eV (T=189K)  Etot = 0.026eV\n",
      "Energy per atom: Epot = 0.000eV  Ekin = 0.025eV (T=197K)  Etot = 0.026eV\n",
      "Energy per atom: Epot = -0.001eV  Ekin = 0.027eV (T=209K)  Etot = 0.026eV\n"
     ]
    }
   ],
   "source": [
    "# this_traj = open(traj_filename, \"w\")\n",
    "# dyn.attach(savexyz, interval=50)\n",
    "dyn.attach(printenergy, interval=10)\n",
    "dyn.run(10000)"
   ]
  },
  {
   "cell_type": "code",
   "execution_count": null,
   "metadata": {
    "ExecuteTime": {
     "end_time": "2018-07-25T14:40:42.534006Z",
     "start_time": "2018-07-25T14:40:18.429Z"
    }
   },
   "outputs": [],
   "source": [
    "a = np.linspace(1.0, 2.0, 21)\n",
    "b = (1.2/a)**12\n",
    "plt.plot(a,b)\n",
    "plt.show()"
   ]
  },
  {
   "cell_type": "code",
   "execution_count": 26,
   "metadata": {
    "ExecuteTime": {
     "end_time": "2018-07-06T14:50:54.508465Z",
     "start_time": "2018-07-06T14:50:54.451313Z"
    }
   },
   "outputs": [],
   "source": [
    "from ase.calculators.eam import EAM\n",
    "\n",
    "from ase.build import bulk\n",
    "\n",
    "# test to generate an EAM potential file using a simplified\n",
    "# approximation to the Mishin potential Al99.eam.alloy data\n",
    "\n",
    "from scipy.interpolate import InterpolatedUnivariateSpline as spline\n",
    "\n",
    "cutoff = 10.0\n",
    "\n",
    "n = 21\n",
    "rs = np.arange(0, n) * (cutoff / n)\n",
    "rhos = np.arange(0, 2, 2. / n)\n",
    "\n",
    "# generated from\n",
    "# mishin = EAM(potential='../potentials/Al99.eam.alloy')\n",
    "# m_density = mishin.electron_density[0](rs)\n",
    "# m_embedded = mishin.embedded_energy[0](rhos)\n",
    "# m_phi = mishin.phi[0,0](rs)\n",
    "\n",
    "m_density = np.array([2.78589606e-01, 2.02694937e-01, 1.45334053e-01,\n",
    "                      1.06069912e-01, 8.42517168e-02, 7.65140344e-02,\n",
    "                      7.76263116e-02, 8.23214224e-02, 8.53322309e-02,\n",
    "                      8.13915861e-02, 6.59095390e-02, 4.28915711e-02,\n",
    "                      2.27910928e-02, 1.13713167e-02, 6.05020311e-03,\n",
    "                      3.65836583e-03, 2.60587564e-03, 2.06750708e-03,\n",
    "                      1.48749693e-03, 7.40019174e-04, 6.21225205e-05])\n",
    "\n",
    "m_embedded = np.array([1.04222211e-10, -1.04142633e+00, -1.60359806e+00,\n",
    "                       -1.89287637e+00, -2.09490167e+00, -2.26456628e+00,\n",
    "                       -2.40590322e+00, -2.52245359e+00, -2.61385603e+00,\n",
    "                       -2.67744693e+00, -2.71053295e+00, -2.71110418e+00,\n",
    "                       -2.69287013e+00, -2.68464527e+00, -2.69204083e+00,\n",
    "                       -2.68976209e+00, -2.66001244e+00, -2.60122024e+00,\n",
    "                       -2.51338548e+00, -2.39650817e+00, -2.25058831e+00])\n",
    "\n",
    "m_phi = np.array([6.27032242e+01, 3.49638589e+01, 1.79007014e+01,\n",
    "                  8.69001383e+00, 4.51545250e+00, 2.83260884e+00,\n",
    "                  1.93216616e+00, 1.06795515e+00, 3.37740836e-01,\n",
    "                  1.61087890e-02, -6.20816372e-02, -6.51314297e-02,\n",
    "                  -5.35210341e-02, -5.20950200e-02, -5.51709524e-02,\n",
    "                  -4.89093894e-02, -3.28051688e-02, -1.13738785e-02,\n",
    "                  2.33833655e-03, 4.19132033e-03, 1.68600692e-04])\n",
    "\n",
    "m_densityf = spline(rs, m_density)\n",
    "m_embeddedf = spline(rhos, m_embedded)\n",
    "m_phif = spline(rs, m_phi)\n",
    "\n",
    "mishin_approx = EAM(elements=['Ni'], embedded_energy=np.array([m_embeddedf]),\n",
    "                    electron_density=np.array([m_densityf]),\n",
    "                    phi=np.array([[m_phif]]), cutoff=cutoff, form='alloy',\n",
    "                    # the following terms are only required to write out a file\n",
    "                    Z=[13], nr=n, nrho=n, dr=cutoff / n, drho=2. / n,\n",
    "                    lattice=['fcc'], mass=[58.692], a=[2.58])\n",
    "\n",
    "atoms.set_calculator(mishin_approx)"
   ]
  },
  {
   "cell_type": "code",
   "execution_count": 32,
   "metadata": {
    "ExecuteTime": {
     "end_time": "2018-07-06T14:55:17.550916Z",
     "start_time": "2018-07-06T14:55:17.468699Z"
    }
   },
   "outputs": [],
   "source": [
    "from ase.calculators import morse\n",
    "pot = morse.MorsePotential\n",
    "atoms.set_calculator(pot)\n"
   ]
  },
  {
   "cell_type": "code",
   "execution_count": 33,
   "metadata": {
    "ExecuteTime": {
     "end_time": "2018-07-06T14:55:19.007919Z",
     "start_time": "2018-07-06T14:55:18.964016Z"
    }
   },
   "outputs": [
    {
     "ename": "AttributeError",
     "evalue": "'Atoms' object has no attribute 'get_property'",
     "output_type": "error",
     "traceback": [
      "\u001b[0;31m---------------------------------------------------------------------------\u001b[0m",
      "\u001b[0;31mAttributeError\u001b[0m                            Traceback (most recent call last)",
      "\u001b[0;32m<ipython-input-33-7d8292301e1e>\u001b[0m in \u001b[0;36m<module>\u001b[0;34m()\u001b[0m\n\u001b[0;32m----> 1\u001b[0;31m \u001b[0mdyn\u001b[0m\u001b[0;34m.\u001b[0m\u001b[0mrun\u001b[0m\u001b[0;34m(\u001b[0m\u001b[0;36m1000\u001b[0m\u001b[0;34m)\u001b[0m\u001b[0;34m\u001b[0m\u001b[0m\n\u001b[0m",
      "\u001b[0;32m/opt/conda/lib/python3.6/site-packages/ase/md/md.py\u001b[0m in \u001b[0;36mrun\u001b[0;34m(self, steps)\u001b[0m\n\u001b[1;32m     31\u001b[0m     \u001b[0;32mdef\u001b[0m \u001b[0mrun\u001b[0m\u001b[0;34m(\u001b[0m\u001b[0mself\u001b[0m\u001b[0;34m,\u001b[0m \u001b[0msteps\u001b[0m\u001b[0;34m=\u001b[0m\u001b[0;36m50\u001b[0m\u001b[0;34m)\u001b[0m\u001b[0;34m:\u001b[0m\u001b[0;34m\u001b[0m\u001b[0m\n\u001b[1;32m     32\u001b[0m         \u001b[0;34m\"\"\"Integrate equation of motion.\"\"\"\u001b[0m\u001b[0;34m\u001b[0m\u001b[0m\n\u001b[0;32m---> 33\u001b[0;31m         \u001b[0mf\u001b[0m \u001b[0;34m=\u001b[0m \u001b[0mself\u001b[0m\u001b[0;34m.\u001b[0m\u001b[0matoms\u001b[0m\u001b[0;34m.\u001b[0m\u001b[0mget_forces\u001b[0m\u001b[0;34m(\u001b[0m\u001b[0mmd\u001b[0m\u001b[0;34m=\u001b[0m\u001b[0;32mTrue\u001b[0m\u001b[0;34m)\u001b[0m\u001b[0;34m\u001b[0m\u001b[0m\n\u001b[0m\u001b[1;32m     34\u001b[0m \u001b[0;34m\u001b[0m\u001b[0m\n\u001b[1;32m     35\u001b[0m         \u001b[0;32mif\u001b[0m \u001b[0;32mnot\u001b[0m \u001b[0mself\u001b[0m\u001b[0;34m.\u001b[0m\u001b[0matoms\u001b[0m\u001b[0;34m.\u001b[0m\u001b[0mhas\u001b[0m\u001b[0;34m(\u001b[0m\u001b[0;34m'momenta'\u001b[0m\u001b[0;34m)\u001b[0m\u001b[0;34m:\u001b[0m\u001b[0;34m\u001b[0m\u001b[0m\n",
      "\u001b[0;32m/opt/conda/lib/python3.6/site-packages/ase/atoms.py\u001b[0m in \u001b[0;36mget_forces\u001b[0;34m(self, apply_constraint, md)\u001b[0m\n\u001b[1;32m    733\u001b[0m         \u001b[0;32mif\u001b[0m \u001b[0mself\u001b[0m\u001b[0;34m.\u001b[0m\u001b[0m_calc\u001b[0m \u001b[0;32mis\u001b[0m \u001b[0;32mNone\u001b[0m\u001b[0;34m:\u001b[0m\u001b[0;34m\u001b[0m\u001b[0m\n\u001b[1;32m    734\u001b[0m             \u001b[0;32mraise\u001b[0m \u001b[0mRuntimeError\u001b[0m\u001b[0;34m(\u001b[0m\u001b[0;34m'Atoms object has no calculator.'\u001b[0m\u001b[0;34m)\u001b[0m\u001b[0;34m\u001b[0m\u001b[0m\n\u001b[0;32m--> 735\u001b[0;31m         \u001b[0mforces\u001b[0m \u001b[0;34m=\u001b[0m \u001b[0mself\u001b[0m\u001b[0;34m.\u001b[0m\u001b[0m_calc\u001b[0m\u001b[0;34m.\u001b[0m\u001b[0mget_forces\u001b[0m\u001b[0;34m(\u001b[0m\u001b[0mself\u001b[0m\u001b[0;34m)\u001b[0m\u001b[0;34m\u001b[0m\u001b[0m\n\u001b[0m\u001b[1;32m    736\u001b[0m \u001b[0;34m\u001b[0m\u001b[0m\n\u001b[1;32m    737\u001b[0m         \u001b[0;32mif\u001b[0m \u001b[0mapply_constraint\u001b[0m\u001b[0;34m:\u001b[0m\u001b[0;34m\u001b[0m\u001b[0m\n",
      "\u001b[0;32m/opt/conda/lib/python3.6/site-packages/ase/calculators/calculator.py\u001b[0m in \u001b[0;36mget_forces\u001b[0;34m(self, atoms)\u001b[0m\n\u001b[1;32m    458\u001b[0m \u001b[0;34m\u001b[0m\u001b[0m\n\u001b[1;32m    459\u001b[0m     \u001b[0;32mdef\u001b[0m \u001b[0mget_forces\u001b[0m\u001b[0;34m(\u001b[0m\u001b[0mself\u001b[0m\u001b[0;34m,\u001b[0m \u001b[0matoms\u001b[0m\u001b[0;34m=\u001b[0m\u001b[0;32mNone\u001b[0m\u001b[0;34m)\u001b[0m\u001b[0;34m:\u001b[0m\u001b[0;34m\u001b[0m\u001b[0m\n\u001b[0;32m--> 460\u001b[0;31m         \u001b[0;32mreturn\u001b[0m \u001b[0mself\u001b[0m\u001b[0;34m.\u001b[0m\u001b[0mget_property\u001b[0m\u001b[0;34m(\u001b[0m\u001b[0;34m'forces'\u001b[0m\u001b[0;34m,\u001b[0m \u001b[0matoms\u001b[0m\u001b[0;34m)\u001b[0m\u001b[0;34m\u001b[0m\u001b[0m\n\u001b[0m\u001b[1;32m    461\u001b[0m \u001b[0;34m\u001b[0m\u001b[0m\n\u001b[1;32m    462\u001b[0m     \u001b[0;32mdef\u001b[0m \u001b[0mget_stress\u001b[0m\u001b[0;34m(\u001b[0m\u001b[0mself\u001b[0m\u001b[0;34m,\u001b[0m \u001b[0matoms\u001b[0m\u001b[0;34m=\u001b[0m\u001b[0;32mNone\u001b[0m\u001b[0;34m)\u001b[0m\u001b[0;34m:\u001b[0m\u001b[0;34m\u001b[0m\u001b[0m\n",
      "\u001b[0;31mAttributeError\u001b[0m: 'Atoms' object has no attribute 'get_property'"
     ]
    }
   ],
   "source": [
    "dyn.run(1000)"
   ]
  },
  {
   "cell_type": "markdown",
   "metadata": {
    "ExecuteTime": {
     "end_time": "2018-06-12T13:36:59.251733Z",
     "start_time": "2018-06-12T13:36:59.212677Z"
    }
   },
   "source": [
    "## Pairwise potential test"
   ]
  },
  {
   "cell_type": "code",
   "execution_count": 3,
   "metadata": {
    "ExecuteTime": {
     "end_time": "2018-07-04T11:27:46.699253Z",
     "start_time": "2018-07-04T11:27:46.685924Z"
    }
   },
   "outputs": [
    {
     "ename": "NameError",
     "evalue": "name 'TwoBodySingleSpeciesModel' is not defined",
     "output_type": "error",
     "traceback": [
      "\u001b[0;31m---------------------------------------------------------------------------\u001b[0m",
      "\u001b[0;31mNameError\u001b[0m                                 Traceback (most recent call last)",
      "\u001b[0;32m<ipython-input-3-0434e725845b>\u001b[0m in \u001b[0;36m<module>\u001b[0;34m()\u001b[0m\n\u001b[0;32m----> 1\u001b[0;31m \u001b[0mmodel_2b\u001b[0m \u001b[0;34m=\u001b[0m \u001b[0mTwoBodySingleSpeciesModel\u001b[0m\u001b[0;34m(\u001b[0m\u001b[0melementslist\u001b[0m\u001b[0;34m[\u001b[0m\u001b[0;36m0\u001b[0m\u001b[0;34m]\u001b[0m\u001b[0;34m,\u001b[0m \u001b[0mr_cut\u001b[0m\u001b[0;34m,\u001b[0m \u001b[0msigma_2b\u001b[0m\u001b[0;34m,\u001b[0m \u001b[0mr_cut\u001b[0m \u001b[0;34m/\u001b[0m \u001b[0;36m10.0\u001b[0m\u001b[0;34m,\u001b[0m \u001b[0mnoise\u001b[0m\u001b[0;34m)\u001b[0m\u001b[0;34m\u001b[0m\u001b[0m\n\u001b[0m\u001b[1;32m      2\u001b[0m \u001b[0mmodel_2b\u001b[0m\u001b[0;34m.\u001b[0m\u001b[0mfit\u001b[0m\u001b[0;34m(\u001b[0m\u001b[0mtr_confs\u001b[0m\u001b[0;34m,\u001b[0m \u001b[0mtr_forces\u001b[0m\u001b[0;34m)\u001b[0m\u001b[0;34m\u001b[0m\u001b[0m\n",
      "\u001b[0;31mNameError\u001b[0m: name 'TwoBodySingleSpeciesModel' is not defined"
     ]
    }
   ],
   "source": [
    "model_2b = TwoBodySingleSpeciesModel(elementslist[0], r_cut, sigma_2b, r_cut / 10.0, noise)\n",
    "model_2b.fit(tr_confs, tr_forces)"
   ]
  },
  {
   "cell_type": "code",
   "execution_count": 51,
   "metadata": {
    "ExecuteTime": {
     "end_time": "2018-06-12T13:37:45.118417Z",
     "start_time": "2018-06-12T13:37:44.734274Z"
    }
   },
   "outputs": [
    {
     "name": "stdout",
     "output_type": "stream",
     "text": [
      "Testing GP\n",
      "MAEF on forces: 0.1404 +- 0.0750\n",
      "Relative MAEF on forces: 0.1943 +- 0.1038\n"
     ]
    }
   ],
   "source": [
    "# Test the GP performance\n",
    "print('Testing GP')\n",
    "\n",
    "gp_forces = np.zeros((ntest, 3))\n",
    "gp_error = np.zeros((ntest, 3))\n",
    "\n",
    "for i in np.arange(ntest):\n",
    "    gp_forces[i, :] = model_2b.predict(np.reshape(tst_confs[i], (1, len(tst_confs[i]), 5)))\n",
    "    gp_error[i, :] = gp_forces[i, :] - tst_forces[i, :]\n",
    "\n",
    "MAEF = np.mean(np.sqrt(np.sum(np.square(gp_error), axis=1)))\n",
    "SMAEF = np.std(np.sqrt(np.sum(np.square(gp_error), axis=1)))\n",
    "\n",
    "MF = np.mean(np.linalg.norm(tst_forces, axis=1))\n",
    "\n",
    "print('MAEF on forces: {:.4f} +- {:.4f}'.format(MAEF, SMAEF))\n",
    "print('Relative MAEF on forces: {:.4f} +- {:.4f}'.format(MAEF / MF, SMAEF / MF))"
   ]
  },
  {
   "cell_type": "code",
   "execution_count": 52,
   "metadata": {
    "ExecuteTime": {
     "end_time": "2018-06-12T13:37:59.509524Z",
     "start_time": "2018-06-12T13:37:53.163224Z"
    }
   },
   "outputs": [],
   "source": [
    "grid_2b = model_2b.build_grid(grid_start, num_2b)\n"
   ]
  },
  {
   "cell_type": "code",
   "execution_count": 53,
   "metadata": {
    "ExecuteTime": {
     "end_time": "2018-06-12T13:38:23.622171Z",
     "start_time": "2018-06-12T13:38:23.580599Z"
    }
   },
   "outputs": [],
   "source": [
    "calc = TwoBodySingleSpecies(r_cut, grid_c_2b)\n",
    "atoms.set_calculator(calc)"
   ]
  },
  {
   "cell_type": "code",
   "execution_count": 54,
   "metadata": {
    "ExecuteTime": {
     "end_time": "2018-06-12T13:38:31.748710Z",
     "start_time": "2018-06-12T13:38:30.541773Z"
    }
   },
   "outputs": [
    {
     "name": "stderr",
     "output_type": "stream",
     "text": [
      "INFO:m_ff.calculators:numbers is in system_changes\n",
      "INFO:m_ff.calculators:initialize\n"
     ]
    }
   ],
   "source": [
    "dyn.run(steps)"
   ]
  },
  {
   "cell_type": "code",
   "execution_count": 17,
   "metadata": {
    "ExecuteTime": {
     "end_time": "2018-06-29T16:39:35.603807Z",
     "start_time": "2018-06-29T16:39:35.504228Z"
    }
   },
   "outputs": [
    {
     "data": {
      "text/plain": [
       "array([1.58381760e-02, 8.13802083e-05, 1.93337110e-06, 1.06288200e-07,\n",
       "       9.93410746e-09, 1.33912337e-09, 2.36007214e-10])"
      ]
     },
     "execution_count": 17,
     "metadata": {},
     "output_type": "execute_result"
    }
   ],
   "source": [
    "dist = 2+np.arange(7)\n",
    "norm = np.ones((7,3))\n"
   ]
  },
  {
   "cell_type": "code",
   "execution_count": 18,
   "metadata": {
    "ExecuteTime": {
     "end_time": "2018-06-29T16:39:44.284927Z",
     "start_time": "2018-06-29T16:39:44.247703Z"
    }
   },
   "outputs": [
    {
     "data": {
      "text/plain": [
       "array([1.58381760e-02, 8.13802083e-05, 1.93337110e-06, 1.06288200e-07,\n",
       "       9.93410746e-09, 1.33912337e-09, 2.36007214e-10])"
      ]
     },
     "execution_count": 18,
     "metadata": {},
     "output_type": "execute_result"
    }
   ],
   "source": [
    "np.power(1.5/dist, 12)/dist"
   ]
  },
  {
   "cell_type": "code",
   "execution_count": null,
   "metadata": {},
   "outputs": [],
   "source": []
  }
 ],
 "metadata": {
  "kernelspec": {
   "display_name": "Python 3",
   "language": "python",
   "name": "python3"
  },
  "language_info": {
   "codemirror_mode": {
    "name": "ipython",
    "version": 3
   },
   "file_extension": ".py",
   "mimetype": "text/x-python",
   "name": "python",
   "nbconvert_exporter": "python",
   "pygments_lexer": "ipython3",
   "version": "3.6.5"
  }
 },
 "nbformat": 4,
 "nbformat_minor": 2
}
