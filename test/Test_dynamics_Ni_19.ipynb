{
 "cells": [
  {
   "cell_type": "code",
   "execution_count": 1,
   "metadata": {
    "ExecuteTime": {
     "end_time": "2018-07-24T14:31:38.115865Z",
     "start_time": "2018-07-24T14:31:35.377766Z"
    }
   },
   "outputs": [],
   "source": [
    "import sys\n",
    "sys.path.append('..')\n",
    "%matplotlib inline\n",
    "%load_ext autoreload\n",
    "%autoreload 2\n",
    "import os\n",
    "import logging\n",
    "from pathlib import Path\n",
    "\n",
    "import numpy as np\n",
    "import matplotlib.pyplot as plt\n",
    "\n",
    "from ase import Atoms\n",
    "from ase.io import read\n",
    "\n",
    "from m_ff.configurations import carve_confs\n",
    "from m_ff.models import TwoBodySingleSpeciesModel, ThreeBodySingleSpeciesModel, CombinedSingleSpeciesModel\n",
    "\n",
    "logging.basicConfig(level=logging.INFO)"
   ]
  },
  {
   "cell_type": "markdown",
   "metadata": {
    "ExecuteTime": {
     "end_time": "2018-06-12T11:07:25.784152Z",
     "start_time": "2018-06-12T11:07:25.751100Z"
    }
   },
   "source": [
    "## Parameters"
   ]
  },
  {
   "cell_type": "code",
   "execution_count": 9,
   "metadata": {
    "ExecuteTime": {
     "end_time": "2018-07-24T14:34:15.162907Z",
     "start_time": "2018-07-24T14:34:15.130620Z"
    }
   },
   "outputs": [],
   "source": [
    "# Parameters\n",
    "directory = Path('data/Fe_vac/')\n",
    "r_cut = 4.45\n",
    "sigma_2b = 0.2\n",
    "sigma_3b = 1.2\n",
    "noise = 0.003\n",
    "\n",
    "# GP Parameters\n",
    "ntr = 10\n",
    "ntest = 30\n",
    "\n",
    "# mapping\n",
    "grid_start = 1.5\n",
    "num_2b = 200\n",
    "num_3b = 30\n"
   ]
  },
  {
   "cell_type": "markdown",
   "metadata": {},
   "source": [
    "## Configurations"
   ]
  },
  {
   "cell_type": "code",
   "execution_count": 4,
   "metadata": {
    "ExecuteTime": {
     "end_time": "2018-07-24T14:31:51.351129Z",
     "start_time": "2018-07-24T14:31:51.305666Z"
    }
   },
   "outputs": [],
   "source": [
    "# Get configurations and forces from file\n",
    "elementslist = [26]\n",
    "confs = np.load(directory / 'confs_cut={:.2f}.npy'.format(r_cut))\n",
    "forces = np.load(directory / 'forces_cut={:.2f}.npy'.format(r_cut))\n",
    "numconfs = len(forces)\n",
    "ind = np.arange(numconfs)\n",
    "ind_tot = np.random.choice(ind, size=ntr + ntest, replace=False)\n",
    "\n",
    "# Separate into random testing and training dataset\n",
    "# tr_confs, tr_forces = confs[ind[:ntr]], forces[ind[:ntr]]\n",
    "# tst_confs, tst_forces = confs[ind[ntr:]], forces[ind[ntr:]]\n",
    "\n",
    "# Use fixed training and testing dataset\n",
    "tr_confs, tr_forces = confs[:ntr], forces[:ntr]\n",
    "tst_confs, tst_forces = confs[-ntest - 1:-1], forces[-ntest - 1:-1]"
   ]
  },
  {
   "cell_type": "markdown",
   "metadata": {},
   "source": [
    "## GP"
   ]
  },
  {
   "cell_type": "code",
   "execution_count": 5,
   "metadata": {
    "ExecuteTime": {
     "end_time": "2018-07-24T14:32:12.319421Z",
     "start_time": "2018-07-24T14:31:52.113106Z"
    }
   },
   "outputs": [
    {
     "name": "stderr",
     "output_type": "stream",
     "text": [
      "INFO:m_ff.kernels.twobody:Started compilation of theano two body single species kernels\n",
      "INFO:m_ff.kernels.twobody:Ended compilation of theano two body single species kernels\n",
      "INFO:m_ff.kernels.threebodykernel:Started compilation of theano three body kernels\n",
      "INFO:m_ff.kernels.threebodykernel:Ended compilation of theano three body kernels\n"
     ]
    }
   ],
   "source": [
    "model_c = CombinedSingleSpeciesModel(elementslist[0], r_cut, sigma_2b, sigma_3b, r_cut / 10.0, r_cut / 10.0, noise)\n",
    "# model_c = ThreeBodySingleSpeciesModel(elementslist[0], r_cut, sigma_3b, r_cut / 10.0, noise)\n",
    "# model_c = TwoBodySingleSpeciesModel(elementslist[0], r_cut, sigma_2b, r_cut / 10.0, noise)"
   ]
  },
  {
   "cell_type": "code",
   "execution_count": 6,
   "metadata": {
    "ExecuteTime": {
     "end_time": "2018-07-24T14:32:45.445205Z",
     "start_time": "2018-07-24T14:32:12.321666Z"
    }
   },
   "outputs": [],
   "source": [
    "model_c.fit(tr_confs, tr_forces)"
   ]
  },
  {
   "cell_type": "code",
   "execution_count": 7,
   "metadata": {
    "ExecuteTime": {
     "end_time": "2018-07-24T14:34:14.887287Z",
     "start_time": "2018-07-24T14:32:45.448175Z"
    }
   },
   "outputs": [
    {
     "name": "stdout",
     "output_type": "stream",
     "text": [
      "Testing GP\n",
      "MAEF on forces: 0.2896 +- 0.1295\n",
      "Relative MAEF on forces: 0.3361 +- 0.1502\n"
     ]
    }
   ],
   "source": [
    "# Test the GP performance\n",
    "print('Testing GP')\n",
    "\n",
    "gp_forces = np.zeros((ntest, 3))\n",
    "gp_error = np.zeros((ntest, 3))\n",
    "\n",
    "for i in np.arange(ntest):\n",
    "    gp_forces[i, :] = model_c.predict(np.reshape(tst_confs[i], (1, len(tst_confs[i]), 5)))\n",
    "    gp_error[i, :] = gp_forces[i, :] - tst_forces[i, :]\n",
    "\n",
    "MAEF = np.mean(np.sqrt(np.sum(np.square(gp_error), axis=1)))\n",
    "SMAEF = np.std(np.sqrt(np.sum(np.square(gp_error), axis=1)))\n",
    "\n",
    "MF = np.mean(np.linalg.norm(tst_forces, axis=1))\n",
    "\n",
    "print('MAEF on forces: {:.4f} +- {:.4f}'.format(MAEF, SMAEF))\n",
    "print('Relative MAEF on forces: {:.4f} +- {:.4f}'.format(MAEF / MF, SMAEF / MF))"
   ]
  },
  {
   "cell_type": "code",
   "execution_count": 8,
   "metadata": {
    "ExecuteTime": {
     "end_time": "2018-07-24T14:34:15.127734Z",
     "start_time": "2018-07-24T14:34:14.890769Z"
    }
   },
   "outputs": [
    {
     "data": {
      "image/png": "[encoded data removed]",
      "text/plain": [
       "<Figure size 432x288 with 1 Axes>"
      ]
     },
     "metadata": {},
     "output_type": "display_data"
    }
   ],
   "source": [
    "plt.scatter(tst_forces, gp_forces)\n",
    "plt.plot(tst_forces, tst_forces, 'k-')\n",
    "plt.show()"
   ]
  },
  {
   "cell_type": "markdown",
   "metadata": {},
   "source": [
    "## Mapping"
   ]
  },
  {
   "cell_type": "code",
   "execution_count": 10,
   "metadata": {
    "ExecuteTime": {
     "end_time": "2018-07-24T14:37:10.211599Z",
     "start_time": "2018-07-24T14:37:10.176980Z"
    }
   },
   "outputs": [],
   "source": [
    "def rmse(x1, x2):\n",
    "    rms = np.sqrt(np.sum(np.square(x1 - x2), axis=1))\n",
    "    return np.mean(rms), np.std(rms)"
   ]
  },
  {
   "cell_type": "code",
   "execution_count": 11,
   "metadata": {
    "ExecuteTime": {
     "end_time": "2018-07-24T14:37:50.892765Z",
     "start_time": "2018-07-24T14:37:10.539560Z"
    }
   },
   "outputs": [],
   "source": [
    "model_c.build_grid(grid_start, num_2b, num_3b)\n",
    "# model_c.build_grid(grid_start, num_3b)"
   ]
  },
  {
   "cell_type": "markdown",
   "metadata": {},
   "source": [
    "## Test Mapping on GP"
   ]
  },
  {
   "cell_type": "code",
   "execution_count": 69,
   "metadata": {
    "ExecuteTime": {
     "end_time": "2018-07-24T15:24:12.485713Z",
     "start_time": "2018-07-24T15:23:49.034971Z"
    }
   },
   "outputs": [
    {
     "name": "stderr",
     "output_type": "stream",
     "text": [
      "INFO:m_ff.calculators:numbers is in system_changes\n",
      "INFO:m_ff.calculators:initialize\n",
      "INFO:m_ff.calculators:numbers is in system_changes\n",
      "INFO:m_ff.calculators:initialize\n",
      "INFO:m_ff.calculators:numbers is in system_changes\n",
      "INFO:m_ff.calculators:initialize\n",
      "INFO:m_ff.calculators:numbers is in system_changes\n",
      "INFO:m_ff.calculators:initialize\n",
      "INFO:m_ff.calculators:numbers is in system_changes\n",
      "INFO:m_ff.calculators:initialize\n",
      "INFO:m_ff.calculators:numbers is in system_changes\n",
      "INFO:m_ff.calculators:initialize\n",
      "INFO:m_ff.calculators:numbers is in system_changes\n",
      "INFO:m_ff.calculators:initialize\n",
      "INFO:m_ff.calculators:numbers is in system_changes\n",
      "INFO:m_ff.calculators:initialize\n",
      "INFO:m_ff.calculators:numbers is in system_changes\n",
      "INFO:m_ff.calculators:initialize\n",
      "INFO:m_ff.calculators:numbers is in system_changes\n",
      "INFO:m_ff.calculators:initialize\n",
      "INFO:m_ff.calculators:numbers is in system_changes\n",
      "INFO:m_ff.calculators:initialize\n",
      "INFO:m_ff.calculators:numbers is in system_changes\n",
      "INFO:m_ff.calculators:initialize\n",
      "INFO:m_ff.calculators:numbers is in system_changes\n",
      "INFO:m_ff.calculators:initialize\n",
      "INFO:m_ff.calculators:numbers is in system_changes\n",
      "INFO:m_ff.calculators:initialize\n",
      "INFO:m_ff.calculators:numbers is in system_changes\n",
      "INFO:m_ff.calculators:initialize\n",
      "INFO:m_ff.calculators:numbers is in system_changes\n",
      "INFO:m_ff.calculators:initialize\n",
      "INFO:m_ff.calculators:numbers is in system_changes\n",
      "INFO:m_ff.calculators:initialize\n",
      "INFO:m_ff.calculators:numbers is in system_changes\n",
      "INFO:m_ff.calculators:initialize\n",
      "INFO:m_ff.calculators:numbers is in system_changes\n",
      "INFO:m_ff.calculators:initialize\n"
     ]
    },
    {
     "name": "stdout",
     "output_type": "stream",
     "text": [
      "MAEF on forces: 0.8668 +- 0.3970\n"
     ]
    }
   ],
   "source": [
    "from m_ff.calculators import TwoBodySingleSpecies, ThreeBodySingleSpecies, CombinedSingleSpecies\n",
    "\n",
    "calc = ThreeBodySingleSpecies(r_cut, model_c.grid[(elementslist[0], elementslist[0], elementslist[0])])\n",
    "# calc = TwoBodySingleSpecies(r_cut, model_c.grid[(elementslist[0], elementslist[0])], rep_alpha = 0.0)\n",
    "# calc = CombinedSingleSpecies(r_cut, model_c.grid[(elementslist[0], elementslist[0])], model_c.grid[(elementslist[0], elementslist[0], elementslist[0])], \\\n",
    "#                              rep_alpha = 0.0)\n",
    "\n",
    "map_forces = np.zeros((ntest,3))\n",
    "map_energies = np.zeros(ntest)\n",
    "gp_energies = np.zeros(ntest)\n",
    "for i in np.arange(ntest):\n",
    "    numatoms = len(tst_confs[i][:,:3])+1\n",
    "#     atoms = Atoms('Ni19', positions = np.vstack(([0.0, 0.0, 0.0], tst_confs[i][:,:3])), cell = 21.0*np.eye(3), pbc = [0, 0, 0] )\n",
    "    atoms = Atoms('Fe%i' %(numatoms), positions = np.vstack(([0.0, 0.0, 0.0], tst_confs[i][:,:3])), cell = 21.0*np.eye(3), pbc = [0, 0, 0] )\n",
    "    atoms.set_calculator(calc)\n",
    "    map_forces[i] = atoms.get_forces()[0]\n",
    "    map_energies[i] = atoms.get_potential_energy(0)\n",
    "    gp_energies[i] = model_c.predict_energy(np.reshape(tst_confs[i], (1, len(tst_confs[i]), 5)))\n",
    "\n",
    "map_error = gp_forces - map_forces  \n",
    "energy_error = gp_energies - map_energies\n",
    "MAEF = np.mean(np.sqrt(np.sum(np.square(map_error), axis=1)))\n",
    "SMAEF = np.std(np.sqrt(np.sum(np.square(map_error), axis=1)))\n",
    "\n",
    "MF = np.mean(np.linalg.norm(tst_forces, axis=1))\n",
    "# print(np.mean(np.sqrt(np.mean(np.square(map_forces), axis = 1))))\n",
    "print('MAEF on forces: {:.4f} +- {:.4f}'.format(MAEF, SMAEF))\n",
    "#     print('Relative MAEF on forces: {:.4f} +- {:.4f}'.format(MAEF / MF, SMAEF / MF))"
   ]
  },
  {
   "cell_type": "code",
   "execution_count": 70,
   "metadata": {
    "ExecuteTime": {
     "end_time": "2018-07-24T15:24:13.541370Z",
     "start_time": "2018-07-24T15:24:12.488336Z"
    }
   },
   "outputs": [
    {
     "name": "stderr",
     "output_type": "stream",
     "text": [
      "INFO:m_ff.calculators:numbers is in system_changes\n",
      "INFO:m_ff.calculators:initialize\n"
     ]
    },
    {
     "name": "stdout",
     "output_type": "stream",
     "text": [
      "[-0.10096877 -0.10096877  0.        ] [[-0.08268517 -0.08268517  0.        ]]\n",
      "[-0.08133484 -0.03658603  0.        ] [[-0.06448497 -0.03796861  0.        ]]\n",
      "[-0.05840507  0.10804262  0.        ] [[-0.04306212  0.10716907  0.        ]]\n",
      "[-0.03311658  0.31161337  0.        ] [[-0.01930206  0.31075338  0.        ]]\n",
      "[-0.00669554  0.37219617  0.        ] [[0.00567503 0.37144189 0.        ]]\n",
      "[-0.03658603 -0.08133484  0.        ] [[-0.03796861 -0.06448497  0.        ]]\n",
      "[-0.01451223 -0.01451223  0.        ] [[-0.01577851 -0.01577851  0.        ]]\n",
      "[0.01048726 0.13337052 0.        ] [[0.0093583  0.13257314 0.        ]]\n",
      "[0.0373142  0.33913372 0.        ] [[0.0363264  0.33833532 0.        ]]\n",
      "[0.064656   0.40067777 0.        ] [[0.06382108 0.39997835 0.        ]]\n",
      "[ 0.10804262 -0.05840507  0.        ] [[ 0.10716907 -0.04306212  0.        ]]\n",
      "[0.13337052 0.01048726 0.        ] [[0.13257314 0.0093583  0.        ]]\n",
      "[0.16113963 0.16113963 0.        ] [[0.16041829 0.16041829 0.        ]]\n",
      "[0.19003828 0.36839431 0.        ] [[0.18941239 0.36767525 0.        ]]\n",
      "[0.21865625 0.43010351 0.        ] [[0.21813571 0.42948101 0.        ]]\n",
      "[ 0.31161337 -0.03311658  0.        ] [[ 0.31075338 -0.01930206  0.        ]]\n",
      "[0.33913372 0.0373142  0.        ] [[0.33833532 0.0363264  0.        ]]\n",
      "[0.36839431 0.19003828 0.        ] [[0.36767525 0.18941239 0.        ]]\n",
      "[0.39799853 0.39799853 0.        ] [[0.39737073 0.39737073 0.        ]]\n",
      "[0.42650982 0.45906917 0.        ] [[0.42596407 0.45851117 0.        ]]\n",
      "[ 0.37219617 -0.00669554  0.        ] [[0.37144189 0.00567503 0.        ]]\n",
      "[0.40067777 0.064656   0.        ] [[0.39997835 0.06382108 0.        ]]\n",
      "[0.43010351 0.21865625 0.        ] [[0.42948101 0.21813571 0.        ]]\n",
      "[0.45906917 0.42650982 0.        ] [[0.45851117 0.42596407 0.        ]]\n",
      "[0.48614065 0.48614065 0.        ] [[0.48565132 0.48565132 0.        ]]\n",
      "MAEF on forces: 0.0064 +- 0.0075\n"
     ]
    }
   ],
   "source": [
    "from m_ff.calculators import TwoBodySingleSpecies, ThreeBodySingleSpecies, CombinedSingleSpecies\n",
    "\n",
    "calc = CombinedSingleSpecies(r_cut, model_c.grid[(elementslist[0], elementslist[0])], model_c.grid[(elementslist[0], elementslist[0], elementslist[0])], \\\n",
    "                             rep_alpha = 0.0)\n",
    "# calc = ThreeBodySingleSpecies(r_cut, model_c.grid[(elementslist[0], elementslist[0], elementslist[0])])\n",
    "# calc = TwoBodySingleSpecies(r_cut, model_c.grid[(elementslist[0], elementslist[0])], rep_alpha = 0.0)\n",
    "\n",
    "reps = 5\n",
    "map_error = np.zeros((reps**2, 3))\n",
    "for i in np.arange(reps):\n",
    "    for j in np.arange(reps):\n",
    "        for k in np.arange(1):\n",
    "            for l in np.arange(1):\n",
    "                conf = np.asarray([[0.0, 0.0, 0.0, 26, 26],[1.5+i*0.1, 0.0, 0.0, 26, 26], [0.0, 1.5+j*0.1, 0.0, 26, 26]])\n",
    "                atoms = Atoms('Fe3', positions = conf[:,:3], cell = 21.0*np.eye(3), pbc = [0, 0, 0] )\n",
    "                atoms.set_calculator(calc)\n",
    "                map_forces = atoms.get_forces()\n",
    "                small_gp_forces = model_c.predict(np.reshape(conf[1:], (1,2,5)))\n",
    "                print(map_forces[0], small_gp_forces)\n",
    "#                 print(atoms.get_potential_energy(0), model_c.predict_energy(np.reshape(conf[1:], (1,2,5))))\n",
    "                map_error[i*reps+j]= small_gp_forces - map_forces[0]\n",
    "\n",
    "    #             MAEF = np.mean(np.sqrt(np.sum(np.square(map_error), axis=1)))\n",
    "    #             SMAEF = np.std(np.sqrt(np.sum(np.square(map_error), axis=1)))\n",
    "\n",
    "    #             MF = np.mean(np.linalg.norm(tst_forces, axis=1))\n",
    "            #     print(small_gp_forces)\n",
    "            #     print(map_forces[0])\n",
    "    #             print('MAEF on forces: {:.4f} +- {:.4f}'.format(MAEF, SMAEF))\n",
    "            #     print('Relative MAEF on forces: {:.4f} +- {:.4f}'.format(MAEF / MF, SMAEF / MF))\n",
    "MAEF = np.mean(np.sqrt(np.sum(np.square(map_error), axis=1)))\n",
    "SMAEF = np.std(np.sqrt(np.sum(np.square(map_error), axis=1)))  \n",
    "print('MAEF on forces: {:.4f} +- {:.4f}'.format(MAEF, SMAEF))"
   ]
  },
  {
   "cell_type": "code",
   "execution_count": 71,
   "metadata": {
    "ExecuteTime": {
     "end_time": "2018-07-24T15:24:13.597247Z",
     "start_time": "2018-07-24T15:24:13.546271Z"
    }
   },
   "outputs": [
    {
     "name": "stdout",
     "output_type": "stream",
     "text": [
      "0.025856926275797436\n",
      "[[ 0.01828361  0.01828361  0.        ]\n",
      " [ 0.01684987 -0.00138258  0.        ]\n",
      " [ 0.01534295 -0.00087355  0.        ]\n",
      " [ 0.01381452 -0.00085998  0.        ]\n",
      " [ 0.01237057 -0.00075428  0.        ]\n",
      " [-0.00138258  0.01684987  0.        ]\n",
      " [-0.00126628 -0.00126628  0.        ]\n",
      " [-0.00112896 -0.00079739  0.        ]\n",
      " [-0.0009878  -0.0007984   0.        ]\n",
      " [-0.00083492 -0.00069941  0.        ]\n",
      " [-0.00087355  0.01534295  0.        ]\n",
      " [-0.00079739 -0.00112896  0.        ]\n",
      " [-0.00072134 -0.00072134  0.        ]\n",
      " [-0.00062589 -0.00071906  0.        ]\n",
      " [-0.00052054 -0.0006225   0.        ]\n",
      " [-0.00085998  0.01381452  0.        ]\n",
      " [-0.0007984  -0.0009878   0.        ]\n",
      " [-0.00071906 -0.00062589  0.        ]\n",
      " [-0.00062779 -0.00062779  0.        ]\n",
      " [-0.00054575 -0.00055799  0.        ]\n",
      " [-0.00075428  0.01237057  0.        ]\n",
      " [-0.00069941 -0.00083492  0.        ]\n",
      " [-0.0006225  -0.00052054  0.        ]\n",
      " [-0.00055799 -0.00054575  0.        ]\n",
      " [-0.00048932 -0.00048932  0.        ]]\n"
     ]
    }
   ],
   "source": [
    "print(max(np.sqrt(np.sum(np.square(map_error), axis=1))))\n",
    "print(map_error)"
   ]
  },
  {
   "cell_type": "code",
   "execution_count": 72,
   "metadata": {
    "ExecuteTime": {
     "end_time": "2018-07-24T15:24:15.064465Z",
     "start_time": "2018-07-24T15:24:13.602237Z"
    }
   },
   "outputs": [
    {
     "name": "stderr",
     "output_type": "stream",
     "text": [
      "INFO:m_ff.calculators:numbers is in system_changes\n",
      "INFO:m_ff.calculators:initialize\n"
     ]
    }
   ],
   "source": [
    "from m_ff.calculators import TwoBodySingleSpecies, ThreeBodySingleSpecies, CombinedSingleSpecies\n",
    "calc = CombinedSingleSpecies(r_cut, model_c.grid[(elementslist[0], elementslist[0])], model_c.grid[(elementslist[0], elementslist[0], elementslist[0])], \\\n",
    "                             rep_alpha = 1.5)\n",
    "# calc = ThreeBodySingleSpecies(r_cut, model_c.grid[(elementslist[0], elementslist[0], elementslist[0])])\n",
    "\n",
    "potential = np.zeros(50)\n",
    "force = np.zeros(50)\n",
    "gp_potential = np.zeros(50)\n",
    "gp_force = np.zeros((50, 3))\n",
    "for i in np.arange(50):\n",
    "    conf = np.asarray([[0.0, 0.0, 0.0, 26, 26],[1.5+i*0.05, 0.0, 0.0, 26, 26]])\n",
    "    atoms = Atoms('Fe2', positions = conf[:,:3], cell = 21.0*np.eye(3), pbc = [0, 0, 0] )\n",
    "    atoms.set_calculator(calc)\n",
    "    potential[i] = atoms.get_potential_energy()\n",
    "    force[i] = atoms.get_forces()[0][0]\n",
    "    gp_potential[i] = model_c.predict_energy(np.reshape(conf[1], (1, 1, 5)))\n",
    "    gp_force[i] = model_c.predict(np.reshape(conf[1], (1, 1, 5)))"
   ]
  },
  {
   "cell_type": "code",
   "execution_count": 73,
   "metadata": {
    "ExecuteTime": {
     "end_time": "2018-07-24T15:24:15.390534Z",
     "start_time": "2018-07-24T15:24:15.067378Z"
    }
   },
   "outputs": [
    {
     "data": {
      "image/png": "[encoded data removed]",
      "text/plain": [
       "<Figure size 432x288 with 1 Axes>"
      ]
     },
     "metadata": {},
     "output_type": "display_data"
    }
   ],
   "source": [
    "plt.plot(np.linspace(1.5, 4.5, 50), potential)\n",
    "plt.plot(np.linspace(1.5, 4.5, 50), force)\n",
    "plt.plot(np.linspace(1.5, 4.5, 50), gp_potential)\n",
    "plt.plot(np.linspace(1.5, 4.5, 50), gp_force[:,0], 'r')\n",
    "plt.show()"
   ]
  },
  {
   "cell_type": "markdown",
   "metadata": {},
   "source": [
    "## Test mapping on traj"
   ]
  },
  {
   "cell_type": "code",
   "execution_count": 74,
   "metadata": {
    "ExecuteTime": {
     "end_time": "2018-07-24T15:24:15.476220Z",
     "start_time": "2018-07-24T15:24:15.395714Z"
    }
   },
   "outputs": [],
   "source": [
    "from m_ff.calculators import TwoBodySingleSpecies, ThreeBodySingleSpecies, CombinedSingleSpecies\n",
    "# calc = CombinedSingleSpecies(r_cut, model_c.grid[(28, 28)], model_c.grid[(28, 28, 28)], rep_alpha = 1.2)\n",
    "# calc = TwoBodySingleSpecies(r_cut, model_c.grid[(elementslist[0], elementslist[0])], rep_alpha = 0.0)\n",
    "# calc = ThreeBodySingleSpecies(r_cut, model_c.grid[(elementslist[0], elementslist[0], elementslist[0])])\n",
    "\n",
    "filename = directory / 'movie.xyz'\n",
    "traj = read(str(filename), index=slice(0, 10))\n",
    "# for atoms in traj:\n",
    "#     atoms.set_cell(21.0*np.identity(3))\n",
    "#     atoms.set_calculator(calc)\n",
    "\n",
    "#     #rms_mean, rms_std = rmse(atoms.arrays['force'], atoms.get_forces())\n",
    "#     #print('MAEF on forces: {:.4f} +- {:.4f}'.format(rms_mean, rms_std))\n",
    "#     print(atoms.get_forces())\n"
   ]
  },
  {
   "cell_type": "markdown",
   "metadata": {},
   "source": [
    "## Run simple dynamics"
   ]
  },
  {
   "cell_type": "code",
   "execution_count": 75,
   "metadata": {
    "ExecuteTime": {
     "end_time": "2018-07-24T15:24:15.514124Z",
     "start_time": "2018-07-24T15:24:15.479094Z"
    }
   },
   "outputs": [],
   "source": [
    "# Global Variables Definition\n",
    "gamma = 0.001\n",
    "temp = 200 #K\n",
    "dt = 1.0  # fs\n",
    "steps = 10000\n",
    "t = steps * dt * 10 ** (-3)  # time in ps"
   ]
  },
  {
   "cell_type": "code",
   "execution_count": 76,
   "metadata": {
    "ExecuteTime": {
     "end_time": "2018-07-24T15:24:15.564286Z",
     "start_time": "2018-07-24T15:24:15.525268Z"
    }
   },
   "outputs": [],
   "source": [
    "atoms = traj[1]\n",
    "atoms.set_positions(traj[1].get_positions())\n",
    "atoms.set_pbc(False)\n",
    "atoms.set_cell([(21, 0, 0), (0, 21, 0), (0, 0, 21)])\n",
    "atoms.set_calculator(calc)"
   ]
  },
  {
   "cell_type": "code",
   "execution_count": 77,
   "metadata": {
    "ExecuteTime": {
     "end_time": "2018-07-24T15:24:15.610964Z",
     "start_time": "2018-07-24T15:24:15.567389Z"
    }
   },
   "outputs": [
    {
     "data": {
      "text/plain": [
       "127"
      ]
     },
     "execution_count": 77,
     "metadata": {},
     "output_type": "execute_result"
    }
   ],
   "source": [
    "from ase.build import bulk, stack\n",
    "atoms = bulk('Fe', 'bcc', a=2.856, cubic=True)\n",
    "atoms = stack(atoms, atoms, axis=0)\n",
    "atoms = stack(atoms, atoms, axis=1)\n",
    "atoms = stack(atoms, atoms, axis=2)\n",
    "atoms = stack(atoms, atoms, axis=0)\n",
    "atoms = stack(atoms, atoms, axis=1)\n",
    "atoms = stack(atoms, atoms, axis=2)\n",
    "\n",
    "del atoms[0]\n",
    "atoms.set_calculator(calc)\n",
    "len(atoms)"
   ]
  },
  {
   "cell_type": "code",
   "execution_count": 59,
   "metadata": {
    "ExecuteTime": {
     "end_time": "2018-07-24T15:07:04.482190Z",
     "start_time": "2018-07-24T15:07:04.442126Z"
    }
   },
   "outputs": [],
   "source": [
    "from ase.md.velocitydistribution import MaxwellBoltzmannDistribution\n",
    "from ase.md.velocitydistribution import Stationary\n",
    "from ase.md.velocitydistribution import ZeroRotation\n",
    "from ase.md.verlet import VelocityVerlet\n",
    "from ase.md.langevin import Langevin\n",
    "from ase import units\n",
    "\n",
    "Stationary(atoms)\n",
    "ZeroRotation(atoms)\n",
    "dyn = VelocityVerlet(atoms, dt * units.fs)\n",
    "MaxwellBoltzmannDistribution(atoms, 2.0 * temp * units.kB)"
   ]
  },
  {
   "cell_type": "code",
   "execution_count": 60,
   "metadata": {
    "ExecuteTime": {
     "end_time": "2018-07-24T15:07:04.629849Z",
     "start_time": "2018-07-24T15:07:04.602839Z"
    }
   },
   "outputs": [],
   "source": [
    "def printenergy(a=atoms):\n",
    "    \"\"\"Function to print the potential, kinetic and total energy\"\"\"\n",
    "    epot = a.get_potential_energy() / len(a)\n",
    "    ekin = a.get_kinetic_energy() / len(a)\n",
    "    print('Energy per atom: Epot = %.3feV  Ekin = %.3feV (T=%3.0fK)  '\n",
    "          'Etot = %.3feV' % (epot, ekin, ekin / (1.5 * units.kB), epot + ekin))\n",
    "    \n",
    "def savexyz(a=atoms):\n",
    "    this_traj = open(traj_filename, \"a\")\n",
    "    extxyz.write_extxyz(this_traj, [atoms])\n",
    "    \n",
    "def printforces(a=atoms):\n",
    "    forces = a.get_forces()\n",
    "    print(forces)"
   ]
  },
  {
   "cell_type": "code",
   "execution_count": 61,
   "metadata": {
    "ExecuteTime": {
     "end_time": "2018-07-24T15:07:04.799751Z",
     "start_time": "2018-07-24T15:07:04.772282Z"
    }
   },
   "outputs": [],
   "source": [
    "import scipy as sp\n",
    "pos = atoms.get_positions()\n",
    "dist = np.reshape(sp.spatial.distance.cdist(pos, pos), len(pos)**2)\n",
    "from ase.io import extxyz\n",
    "traj_filename = \"example.xyz\""
   ]
  },
  {
   "cell_type": "code",
   "execution_count": 62,
   "metadata": {
    "ExecuteTime": {
     "end_time": "2018-07-24T15:07:51.986767Z",
     "start_time": "2018-07-24T15:07:05.294660Z"
    }
   },
   "outputs": [
    {
     "name": "stderr",
     "output_type": "stream",
     "text": [
      "INFO:m_ff.calculators:numbers is in system_changes\n",
      "INFO:m_ff.calculators:initialize\n"
     ]
    },
    {
     "name": "stdout",
     "output_type": "stream",
     "text": [
      "Energy per atom: Epot = 0.917eV  Ekin = 0.054eV (T=420K)  Etot = 0.971eV\n",
      "Energy per atom: Epot = 0.902eV  Ekin = 0.038eV (T=296K)  Etot = 0.941eV\n",
      "Energy per atom: Epot = 0.888eV  Ekin = 0.023eV (T=177K)  Etot = 0.910eV\n",
      "Energy per atom: Epot = 0.884eV  Ekin = 0.019eV (T=149K)  Etot = 0.903eV\n",
      "Energy per atom: Epot = 0.892eV  Ekin = 0.027eV (T=212K)  Etot = 0.919eV\n",
      "Energy per atom: Epot = 0.901eV  Ekin = 0.037eV (T=286K)  Etot = 0.938eV\n",
      "Energy per atom: Epot = 0.905eV  Ekin = 0.042eV (T=323K)  Etot = 0.947eV\n",
      "Energy per atom: Epot = 0.907eV  Ekin = 0.044eV (T=338K)  Etot = 0.951eV\n"
     ]
    },
    {
     "ename": "KeyboardInterrupt",
     "evalue": "",
     "output_type": "error",
     "traceback": [
      "\u001b[0;31m---------------------------------------------------------------------------\u001b[0m",
      "\u001b[0;31mKeyboardInterrupt\u001b[0m                         Traceback (most recent call last)",
      "\u001b[0;32m<ipython-input-62-d3d84dbaf5e1>\u001b[0m in \u001b[0;36m<module>\u001b[0;34m()\u001b[0m\n\u001b[1;32m      2\u001b[0m \u001b[0;31m# dyn.attach(savexyz, interval=50)\u001b[0m\u001b[0;34m\u001b[0m\u001b[0;34m\u001b[0m\u001b[0m\n\u001b[1;32m      3\u001b[0m \u001b[0mdyn\u001b[0m\u001b[0;34m.\u001b[0m\u001b[0mattach\u001b[0m\u001b[0;34m(\u001b[0m\u001b[0mprintenergy\u001b[0m\u001b[0;34m,\u001b[0m \u001b[0minterval\u001b[0m\u001b[0;34m=\u001b[0m\u001b[0;36m10\u001b[0m\u001b[0;34m)\u001b[0m\u001b[0;34m\u001b[0m\u001b[0m\n\u001b[0;32m----> 4\u001b[0;31m \u001b[0mdyn\u001b[0m\u001b[0;34m.\u001b[0m\u001b[0mrun\u001b[0m\u001b[0;34m(\u001b[0m\u001b[0;36m1000\u001b[0m\u001b[0;34m)\u001b[0m\u001b[0;34m\u001b[0m\u001b[0m\n\u001b[0m",
      "\u001b[0;32m/opt/conda/lib/python3.6/site-packages/ase/md/md.py\u001b[0m in \u001b[0;36mrun\u001b[0;34m(self, steps)\u001b[0m\n\u001b[1;32m     37\u001b[0m \u001b[0;34m\u001b[0m\u001b[0m\n\u001b[1;32m     38\u001b[0m         \u001b[0;32mfor\u001b[0m \u001b[0mstep\u001b[0m \u001b[0;32min\u001b[0m \u001b[0mrange\u001b[0m\u001b[0;34m(\u001b[0m\u001b[0msteps\u001b[0m\u001b[0;34m)\u001b[0m\u001b[0;34m:\u001b[0m\u001b[0;34m\u001b[0m\u001b[0m\n\u001b[0;32m---> 39\u001b[0;31m             \u001b[0mf\u001b[0m \u001b[0;34m=\u001b[0m \u001b[0mself\u001b[0m\u001b[0;34m.\u001b[0m\u001b[0mstep\u001b[0m\u001b[0;34m(\u001b[0m\u001b[0mf\u001b[0m\u001b[0;34m)\u001b[0m\u001b[0;34m\u001b[0m\u001b[0m\n\u001b[0m\u001b[1;32m     40\u001b[0m             \u001b[0mself\u001b[0m\u001b[0;34m.\u001b[0m\u001b[0mnsteps\u001b[0m \u001b[0;34m+=\u001b[0m \u001b[0;36m1\u001b[0m\u001b[0;34m\u001b[0m\u001b[0m\n\u001b[1;32m     41\u001b[0m             \u001b[0mself\u001b[0m\u001b[0;34m.\u001b[0m\u001b[0mcall_observers\u001b[0m\u001b[0;34m(\u001b[0m\u001b[0;34m)\u001b[0m\u001b[0;34m\u001b[0m\u001b[0m\n",
      "\u001b[0;32m/opt/conda/lib/python3.6/site-packages/ase/md/verlet.py\u001b[0m in \u001b[0;36mstep\u001b[0;34m(self, f)\u001b[0m\n\u001b[1;32m     28\u001b[0m         \u001b[0mself\u001b[0m\u001b[0;34m.\u001b[0m\u001b[0matoms\u001b[0m\u001b[0;34m.\u001b[0m\u001b[0mset_momenta\u001b[0m\u001b[0;34m(\u001b[0m\u001b[0mp\u001b[0m\u001b[0;34m,\u001b[0m \u001b[0mapply_constraint\u001b[0m\u001b[0;34m=\u001b[0m\u001b[0;32mFalse\u001b[0m\u001b[0;34m)\u001b[0m\u001b[0;34m\u001b[0m\u001b[0m\n\u001b[1;32m     29\u001b[0m \u001b[0;34m\u001b[0m\u001b[0m\n\u001b[0;32m---> 30\u001b[0;31m         \u001b[0mf\u001b[0m \u001b[0;34m=\u001b[0m \u001b[0mself\u001b[0m\u001b[0;34m.\u001b[0m\u001b[0matoms\u001b[0m\u001b[0;34m.\u001b[0m\u001b[0mget_forces\u001b[0m\u001b[0;34m(\u001b[0m\u001b[0mmd\u001b[0m\u001b[0;34m=\u001b[0m\u001b[0;32mTrue\u001b[0m\u001b[0;34m)\u001b[0m\u001b[0;34m\u001b[0m\u001b[0m\n\u001b[0m\u001b[1;32m     31\u001b[0m \u001b[0;34m\u001b[0m\u001b[0m\n\u001b[1;32m     32\u001b[0m         \u001b[0;31m# Second part of RATTLE will be done here:\u001b[0m\u001b[0;34m\u001b[0m\u001b[0;34m\u001b[0m\u001b[0m\n",
      "\u001b[0;32m/opt/conda/lib/python3.6/site-packages/ase/atoms.py\u001b[0m in \u001b[0;36mget_forces\u001b[0;34m(self, apply_constraint, md)\u001b[0m\n\u001b[1;32m    733\u001b[0m         \u001b[0;32mif\u001b[0m \u001b[0mself\u001b[0m\u001b[0;34m.\u001b[0m\u001b[0m_calc\u001b[0m \u001b[0;32mis\u001b[0m \u001b[0;32mNone\u001b[0m\u001b[0;34m:\u001b[0m\u001b[0;34m\u001b[0m\u001b[0m\n\u001b[1;32m    734\u001b[0m             \u001b[0;32mraise\u001b[0m \u001b[0mRuntimeError\u001b[0m\u001b[0;34m(\u001b[0m\u001b[0;34m'Atoms object has no calculator.'\u001b[0m\u001b[0;34m)\u001b[0m\u001b[0;34m\u001b[0m\u001b[0m\n\u001b[0;32m--> 735\u001b[0;31m         \u001b[0mforces\u001b[0m \u001b[0;34m=\u001b[0m \u001b[0mself\u001b[0m\u001b[0;34m.\u001b[0m\u001b[0m_calc\u001b[0m\u001b[0;34m.\u001b[0m\u001b[0mget_forces\u001b[0m\u001b[0;34m(\u001b[0m\u001b[0mself\u001b[0m\u001b[0;34m)\u001b[0m\u001b[0;34m\u001b[0m\u001b[0m\n\u001b[0m\u001b[1;32m    736\u001b[0m \u001b[0;34m\u001b[0m\u001b[0m\n\u001b[1;32m    737\u001b[0m         \u001b[0;32mif\u001b[0m \u001b[0mapply_constraint\u001b[0m\u001b[0;34m:\u001b[0m\u001b[0;34m\u001b[0m\u001b[0m\n",
      "\u001b[0;32m/opt/conda/lib/python3.6/site-packages/ase/calculators/calculator.py\u001b[0m in \u001b[0;36mget_forces\u001b[0;34m(self, atoms)\u001b[0m\n\u001b[1;32m    458\u001b[0m \u001b[0;34m\u001b[0m\u001b[0m\n\u001b[1;32m    459\u001b[0m     \u001b[0;32mdef\u001b[0m \u001b[0mget_forces\u001b[0m\u001b[0;34m(\u001b[0m\u001b[0mself\u001b[0m\u001b[0;34m,\u001b[0m \u001b[0matoms\u001b[0m\u001b[0;34m=\u001b[0m\u001b[0;32mNone\u001b[0m\u001b[0;34m)\u001b[0m\u001b[0;34m:\u001b[0m\u001b[0;34m\u001b[0m\u001b[0m\n\u001b[0;32m--> 460\u001b[0;31m         \u001b[0;32mreturn\u001b[0m \u001b[0mself\u001b[0m\u001b[0;34m.\u001b[0m\u001b[0mget_property\u001b[0m\u001b[0;34m(\u001b[0m\u001b[0;34m'forces'\u001b[0m\u001b[0;34m,\u001b[0m \u001b[0matoms\u001b[0m\u001b[0;34m)\u001b[0m\u001b[0;34m\u001b[0m\u001b[0m\n\u001b[0m\u001b[1;32m    461\u001b[0m \u001b[0;34m\u001b[0m\u001b[0m\n\u001b[1;32m    462\u001b[0m     \u001b[0;32mdef\u001b[0m \u001b[0mget_stress\u001b[0m\u001b[0;34m(\u001b[0m\u001b[0mself\u001b[0m\u001b[0;34m,\u001b[0m \u001b[0matoms\u001b[0m\u001b[0;34m=\u001b[0m\u001b[0;32mNone\u001b[0m\u001b[0;34m)\u001b[0m\u001b[0;34m:\u001b[0m\u001b[0;34m\u001b[0m\u001b[0m\n",
      "\u001b[0;32m/opt/conda/lib/python3.6/site-packages/ase/calculators/calculator.py\u001b[0m in \u001b[0;36mget_property\u001b[0;34m(self, name, atoms, allow_calculation)\u001b[0m\n\u001b[1;32m    491\u001b[0m             \u001b[0;32mif\u001b[0m \u001b[0;32mnot\u001b[0m \u001b[0mallow_calculation\u001b[0m\u001b[0;34m:\u001b[0m\u001b[0;34m\u001b[0m\u001b[0m\n\u001b[1;32m    492\u001b[0m                 \u001b[0;32mreturn\u001b[0m \u001b[0;32mNone\u001b[0m\u001b[0;34m\u001b[0m\u001b[0m\n\u001b[0;32m--> 493\u001b[0;31m             \u001b[0mself\u001b[0m\u001b[0;34m.\u001b[0m\u001b[0mcalculate\u001b[0m\u001b[0;34m(\u001b[0m\u001b[0matoms\u001b[0m\u001b[0;34m,\u001b[0m \u001b[0;34m[\u001b[0m\u001b[0mname\u001b[0m\u001b[0;34m]\u001b[0m\u001b[0;34m,\u001b[0m \u001b[0msystem_changes\u001b[0m\u001b[0;34m)\u001b[0m\u001b[0;34m\u001b[0m\u001b[0m\n\u001b[0m\u001b[1;32m    494\u001b[0m \u001b[0;34m\u001b[0m\u001b[0m\n\u001b[1;32m    495\u001b[0m         \u001b[0;32mif\u001b[0m \u001b[0mname\u001b[0m \u001b[0;34m==\u001b[0m \u001b[0;34m'magmom'\u001b[0m \u001b[0;32mand\u001b[0m \u001b[0;34m'magmom'\u001b[0m \u001b[0;32mnot\u001b[0m \u001b[0;32min\u001b[0m \u001b[0mself\u001b[0m\u001b[0;34m.\u001b[0m\u001b[0mresults\u001b[0m\u001b[0;34m:\u001b[0m\u001b[0;34m\u001b[0m\u001b[0m\n",
      "\u001b[0;32m~/work/M-FF/m_ff/calculators.py\u001b[0m in \u001b[0;36mcalculate\u001b[0;34m(self, atoms, properties, system_changes)\u001b[0m\n\u001b[1;32m     97\u001b[0m         \"\"\"\n\u001b[1;32m     98\u001b[0m \u001b[0;34m\u001b[0m\u001b[0m\n\u001b[0;32m---> 99\u001b[0;31m         \u001b[0msuper\u001b[0m\u001b[0;34m(\u001b[0m\u001b[0;34m)\u001b[0m\u001b[0;34m.\u001b[0m\u001b[0mcalculate\u001b[0m\u001b[0;34m(\u001b[0m\u001b[0matoms\u001b[0m\u001b[0;34m,\u001b[0m \u001b[0mproperties\u001b[0m\u001b[0;34m,\u001b[0m \u001b[0msystem_changes\u001b[0m\u001b[0;34m)\u001b[0m\u001b[0;34m\u001b[0m\u001b[0m\n\u001b[0m\u001b[1;32m    100\u001b[0m \u001b[0;34m\u001b[0m\u001b[0m\n\u001b[1;32m    101\u001b[0m         \u001b[0mforces\u001b[0m \u001b[0;34m=\u001b[0m \u001b[0mnp\u001b[0m\u001b[0;34m.\u001b[0m\u001b[0mzeros\u001b[0m\u001b[0;34m(\u001b[0m\u001b[0;34m(\u001b[0m\u001b[0mlen\u001b[0m\u001b[0;34m(\u001b[0m\u001b[0mself\u001b[0m\u001b[0;34m.\u001b[0m\u001b[0matoms\u001b[0m\u001b[0;34m)\u001b[0m\u001b[0;34m,\u001b[0m \u001b[0;36m3\u001b[0m\u001b[0;34m)\u001b[0m\u001b[0;34m)\u001b[0m\u001b[0;34m\u001b[0m\u001b[0m\n",
      "\u001b[0;32m~/work/M-FF/m_ff/calculators.py\u001b[0m in \u001b[0;36mcalculate\u001b[0;34m(self, atoms, properties, system_changes)\u001b[0m\n\u001b[1;32m    156\u001b[0m             \u001b[0mforces\u001b[0m\u001b[0;34m[\u001b[0m\u001b[0mi\u001b[0m\u001b[0;34m]\u001b[0m \u001b[0;34m+=\u001b[0m \u001b[0;34m-\u001b[0m \u001b[0mpositions\u001b[0m\u001b[0;34m[\u001b[0m\u001b[0;34m(\u001b[0m\u001b[0mi\u001b[0m\u001b[0;34m,\u001b[0m \u001b[0mj\u001b[0m\u001b[0;34m)\u001b[0m\u001b[0;34m]\u001b[0m \u001b[0;34m*\u001b[0m \u001b[0mdE_ij\u001b[0m \u001b[0;34m-\u001b[0m \u001b[0mpositions\u001b[0m\u001b[0;34m[\u001b[0m\u001b[0;34m(\u001b[0m\u001b[0mi\u001b[0m\u001b[0;34m,\u001b[0m \u001b[0mk\u001b[0m\u001b[0;34m)\u001b[0m\u001b[0;34m]\u001b[0m \u001b[0;34m*\u001b[0m \u001b[0mdE_ki\u001b[0m\u001b[0;34m\u001b[0m\u001b[0m\n\u001b[1;32m    157\u001b[0m             \u001b[0mforces\u001b[0m\u001b[0;34m[\u001b[0m\u001b[0mj\u001b[0m\u001b[0;34m]\u001b[0m \u001b[0;34m+=\u001b[0m \u001b[0;34m-\u001b[0m \u001b[0mpositions\u001b[0m\u001b[0;34m[\u001b[0m\u001b[0;34m(\u001b[0m\u001b[0mj\u001b[0m\u001b[0;34m,\u001b[0m \u001b[0mk\u001b[0m\u001b[0;34m)\u001b[0m\u001b[0;34m]\u001b[0m \u001b[0;34m*\u001b[0m \u001b[0mdE_jk\u001b[0m \u001b[0;34m-\u001b[0m \u001b[0mpositions\u001b[0m\u001b[0;34m[\u001b[0m\u001b[0;34m(\u001b[0m\u001b[0mj\u001b[0m\u001b[0;34m,\u001b[0m \u001b[0mi\u001b[0m\u001b[0;34m)\u001b[0m\u001b[0;34m]\u001b[0m \u001b[0;34m*\u001b[0m \u001b[0mdE_ij\u001b[0m\u001b[0;34m\u001b[0m\u001b[0m\n\u001b[0;32m--> 158\u001b[0;31m             \u001b[0mforces\u001b[0m\u001b[0;34m[\u001b[0m\u001b[0mk\u001b[0m\u001b[0;34m]\u001b[0m \u001b[0;34m+=\u001b[0m \u001b[0;34m-\u001b[0m \u001b[0mpositions\u001b[0m\u001b[0;34m[\u001b[0m\u001b[0;34m(\u001b[0m\u001b[0mk\u001b[0m\u001b[0;34m,\u001b[0m \u001b[0mi\u001b[0m\u001b[0;34m)\u001b[0m\u001b[0;34m]\u001b[0m \u001b[0;34m*\u001b[0m \u001b[0mdE_ki\u001b[0m \u001b[0;34m-\u001b[0m \u001b[0mpositions\u001b[0m\u001b[0;34m[\u001b[0m\u001b[0;34m(\u001b[0m\u001b[0mk\u001b[0m\u001b[0;34m,\u001b[0m \u001b[0mj\u001b[0m\u001b[0;34m)\u001b[0m\u001b[0;34m]\u001b[0m \u001b[0;34m*\u001b[0m \u001b[0mdE_jk\u001b[0m\u001b[0;34m\u001b[0m\u001b[0m\n\u001b[0m\u001b[1;32m    159\u001b[0m \u001b[0;34m\u001b[0m\u001b[0m\n\u001b[1;32m    160\u001b[0m             \u001b[0mpotential_energies\u001b[0m\u001b[0;34m[\u001b[0m\u001b[0;34m[\u001b[0m\u001b[0mi\u001b[0m\u001b[0;34m,\u001b[0m \u001b[0mj\u001b[0m\u001b[0;34m,\u001b[0m \u001b[0mk\u001b[0m\u001b[0;34m]\u001b[0m\u001b[0;34m]\u001b[0m \u001b[0;34m+=\u001b[0m \u001b[0menergy\u001b[0m\u001b[0;34m/\u001b[0m\u001b[0;36m3.0\u001b[0m\u001b[0;34m\u001b[0m\u001b[0m\n",
      "\u001b[0;31mKeyboardInterrupt\u001b[0m: "
     ]
    }
   ],
   "source": [
    "# this_traj = open(traj_filename, \"w\")\n",
    "# dyn.attach(savexyz, interval=50)\n",
    "dyn.attach(printenergy, interval=10)\n",
    "dyn.run(1000)"
   ]
  },
  {
   "cell_type": "code",
   "execution_count": null,
   "metadata": {
    "ExecuteTime": {
     "end_time": "2018-07-24T14:47:30.563736Z",
     "start_time": "2018-07-24T14:46:16.847Z"
    }
   },
   "outputs": [],
   "source": [
    "from ase.calculators.eam import EAM\n",
    "\n",
    "from ase.build import bulk\n",
    "\n",
    "# test to generate an EAM potential file using a simplified\n",
    "# approximation to the Mishin potential Al99.eam.alloy data\n",
    "\n",
    "from scipy.interpolate import InterpolatedUnivariateSpline as spline\n",
    "\n",
    "cutoff = 10.0\n",
    "\n",
    "n = 21\n",
    "rs = np.arange(0, n) * (cutoff / n)\n",
    "rhos = np.arange(0, 2, 2. / n)\n",
    "\n",
    "# generated from\n",
    "# mishin = EAM(potential='../potentials/Al99.eam.alloy')\n",
    "# m_density = mishin.electron_density[0](rs)\n",
    "# m_embedded = mishin.embedded_energy[0](rhos)\n",
    "# m_phi = mishin.phi[0,0](rs)\n",
    "\n",
    "m_density = np.array([2.78589606e-01, 2.02694937e-01, 1.45334053e-01,\n",
    "                      1.06069912e-01, 8.42517168e-02, 7.65140344e-02,\n",
    "                      7.76263116e-02, 8.23214224e-02, 8.53322309e-02,\n",
    "                      8.13915861e-02, 6.59095390e-02, 4.28915711e-02,\n",
    "                      2.27910928e-02, 1.13713167e-02, 6.05020311e-03,\n",
    "                      3.65836583e-03, 2.60587564e-03, 2.06750708e-03,\n",
    "                      1.48749693e-03, 7.40019174e-04, 6.21225205e-05])\n",
    "\n",
    "m_embedded = np.array([1.04222211e-10, -1.04142633e+00, -1.60359806e+00,\n",
    "                       -1.89287637e+00, -2.09490167e+00, -2.26456628e+00,\n",
    "                       -2.40590322e+00, -2.52245359e+00, -2.61385603e+00,\n",
    "                       -2.67744693e+00, -2.71053295e+00, -2.71110418e+00,\n",
    "                       -2.69287013e+00, -2.68464527e+00, -2.69204083e+00,\n",
    "                       -2.68976209e+00, -2.66001244e+00, -2.60122024e+00,\n",
    "                       -2.51338548e+00, -2.39650817e+00, -2.25058831e+00])\n",
    "\n",
    "m_phi = np.array([6.27032242e+01, 3.49638589e+01, 1.79007014e+01,\n",
    "                  8.69001383e+00, 4.51545250e+00, 2.83260884e+00,\n",
    "                  1.93216616e+00, 1.06795515e+00, 3.37740836e-01,\n",
    "                  1.61087890e-02, -6.20816372e-02, -6.51314297e-02,\n",
    "                  -5.35210341e-02, -5.20950200e-02, -5.51709524e-02,\n",
    "                  -4.89093894e-02, -3.28051688e-02, -1.13738785e-02,\n",
    "                  2.33833655e-03, 4.19132033e-03, 1.68600692e-04])\n",
    "\n",
    "m_densityf = spline(rs, m_density)\n",
    "m_embeddedf = spline(rhos, m_embedded)\n",
    "m_phif = spline(rs, m_phi)\n",
    "\n",
    "mishin_approx = EAM(elements=['Ni'], embedded_energy=np.array([m_embeddedf]),\n",
    "                    electron_density=np.array([m_densityf]),\n",
    "                    phi=np.array([[m_phif]]), cutoff=cutoff, form='alloy',\n",
    "                    # the following terms are only required to write out a file\n",
    "                    Z=[13], nr=n, nrho=n, dr=cutoff / n, drho=2. / n,\n",
    "                    lattice=['fcc'], mass=[58.692], a=[2.58])\n",
    "\n",
    "atoms.set_calculator(mishin_approx)"
   ]
  },
  {
   "cell_type": "code",
   "execution_count": 32,
   "metadata": {
    "ExecuteTime": {
     "end_time": "2018-07-06T14:55:17.550916Z",
     "start_time": "2018-07-06T14:55:17.468699Z"
    }
   },
   "outputs": [],
   "source": [
    "from ase.calculators import morse\n",
    "pot = morse.MorsePotential\n",
    "atoms.set_calculator(pot)\n"
   ]
  },
  {
   "cell_type": "code",
   "execution_count": 33,
   "metadata": {
    "ExecuteTime": {
     "end_time": "2018-07-06T14:55:19.007919Z",
     "start_time": "2018-07-06T14:55:18.964016Z"
    }
   },
   "outputs": [
    {
     "ename": "AttributeError",
     "evalue": "'Atoms' object has no attribute 'get_property'",
     "output_type": "error",
     "traceback": [
      "\u001b[0;31m---------------------------------------------------------------------------\u001b[0m",
      "\u001b[0;31mAttributeError\u001b[0m                            Traceback (most recent call last)",
      "\u001b[0;32m<ipython-input-33-7d8292301e1e>\u001b[0m in \u001b[0;36m<module>\u001b[0;34m()\u001b[0m\n\u001b[0;32m----> 1\u001b[0;31m \u001b[0mdyn\u001b[0m\u001b[0;34m.\u001b[0m\u001b[0mrun\u001b[0m\u001b[0;34m(\u001b[0m\u001b[0;36m1000\u001b[0m\u001b[0;34m)\u001b[0m\u001b[0;34m\u001b[0m\u001b[0m\n\u001b[0m",
      "\u001b[0;32m/opt/conda/lib/python3.6/site-packages/ase/md/md.py\u001b[0m in \u001b[0;36mrun\u001b[0;34m(self, steps)\u001b[0m\n\u001b[1;32m     31\u001b[0m     \u001b[0;32mdef\u001b[0m \u001b[0mrun\u001b[0m\u001b[0;34m(\u001b[0m\u001b[0mself\u001b[0m\u001b[0;34m,\u001b[0m \u001b[0msteps\u001b[0m\u001b[0;34m=\u001b[0m\u001b[0;36m50\u001b[0m\u001b[0;34m)\u001b[0m\u001b[0;34m:\u001b[0m\u001b[0;34m\u001b[0m\u001b[0m\n\u001b[1;32m     32\u001b[0m         \u001b[0;34m\"\"\"Integrate equation of motion.\"\"\"\u001b[0m\u001b[0;34m\u001b[0m\u001b[0m\n\u001b[0;32m---> 33\u001b[0;31m         \u001b[0mf\u001b[0m \u001b[0;34m=\u001b[0m \u001b[0mself\u001b[0m\u001b[0;34m.\u001b[0m\u001b[0matoms\u001b[0m\u001b[0;34m.\u001b[0m\u001b[0mget_forces\u001b[0m\u001b[0;34m(\u001b[0m\u001b[0mmd\u001b[0m\u001b[0;34m=\u001b[0m\u001b[0;32mTrue\u001b[0m\u001b[0;34m)\u001b[0m\u001b[0;34m\u001b[0m\u001b[0m\n\u001b[0m\u001b[1;32m     34\u001b[0m \u001b[0;34m\u001b[0m\u001b[0m\n\u001b[1;32m     35\u001b[0m         \u001b[0;32mif\u001b[0m \u001b[0;32mnot\u001b[0m \u001b[0mself\u001b[0m\u001b[0;34m.\u001b[0m\u001b[0matoms\u001b[0m\u001b[0;34m.\u001b[0m\u001b[0mhas\u001b[0m\u001b[0;34m(\u001b[0m\u001b[0;34m'momenta'\u001b[0m\u001b[0;34m)\u001b[0m\u001b[0;34m:\u001b[0m\u001b[0;34m\u001b[0m\u001b[0m\n",
      "\u001b[0;32m/opt/conda/lib/python3.6/site-packages/ase/atoms.py\u001b[0m in \u001b[0;36mget_forces\u001b[0;34m(self, apply_constraint, md)\u001b[0m\n\u001b[1;32m    733\u001b[0m         \u001b[0;32mif\u001b[0m \u001b[0mself\u001b[0m\u001b[0;34m.\u001b[0m\u001b[0m_calc\u001b[0m \u001b[0;32mis\u001b[0m \u001b[0;32mNone\u001b[0m\u001b[0;34m:\u001b[0m\u001b[0;34m\u001b[0m\u001b[0m\n\u001b[1;32m    734\u001b[0m             \u001b[0;32mraise\u001b[0m \u001b[0mRuntimeError\u001b[0m\u001b[0;34m(\u001b[0m\u001b[0;34m'Atoms object has no calculator.'\u001b[0m\u001b[0;34m)\u001b[0m\u001b[0;34m\u001b[0m\u001b[0m\n\u001b[0;32m--> 735\u001b[0;31m         \u001b[0mforces\u001b[0m \u001b[0;34m=\u001b[0m \u001b[0mself\u001b[0m\u001b[0;34m.\u001b[0m\u001b[0m_calc\u001b[0m\u001b[0;34m.\u001b[0m\u001b[0mget_forces\u001b[0m\u001b[0;34m(\u001b[0m\u001b[0mself\u001b[0m\u001b[0;34m)\u001b[0m\u001b[0;34m\u001b[0m\u001b[0m\n\u001b[0m\u001b[1;32m    736\u001b[0m \u001b[0;34m\u001b[0m\u001b[0m\n\u001b[1;32m    737\u001b[0m         \u001b[0;32mif\u001b[0m \u001b[0mapply_constraint\u001b[0m\u001b[0;34m:\u001b[0m\u001b[0;34m\u001b[0m\u001b[0m\n",
      "\u001b[0;32m/opt/conda/lib/python3.6/site-packages/ase/calculators/calculator.py\u001b[0m in \u001b[0;36mget_forces\u001b[0;34m(self, atoms)\u001b[0m\n\u001b[1;32m    458\u001b[0m \u001b[0;34m\u001b[0m\u001b[0m\n\u001b[1;32m    459\u001b[0m     \u001b[0;32mdef\u001b[0m \u001b[0mget_forces\u001b[0m\u001b[0;34m(\u001b[0m\u001b[0mself\u001b[0m\u001b[0;34m,\u001b[0m \u001b[0matoms\u001b[0m\u001b[0;34m=\u001b[0m\u001b[0;32mNone\u001b[0m\u001b[0;34m)\u001b[0m\u001b[0;34m:\u001b[0m\u001b[0;34m\u001b[0m\u001b[0m\n\u001b[0;32m--> 460\u001b[0;31m         \u001b[0;32mreturn\u001b[0m \u001b[0mself\u001b[0m\u001b[0;34m.\u001b[0m\u001b[0mget_property\u001b[0m\u001b[0;34m(\u001b[0m\u001b[0;34m'forces'\u001b[0m\u001b[0;34m,\u001b[0m \u001b[0matoms\u001b[0m\u001b[0;34m)\u001b[0m\u001b[0;34m\u001b[0m\u001b[0m\n\u001b[0m\u001b[1;32m    461\u001b[0m \u001b[0;34m\u001b[0m\u001b[0m\n\u001b[1;32m    462\u001b[0m     \u001b[0;32mdef\u001b[0m \u001b[0mget_stress\u001b[0m\u001b[0;34m(\u001b[0m\u001b[0mself\u001b[0m\u001b[0;34m,\u001b[0m \u001b[0matoms\u001b[0m\u001b[0;34m=\u001b[0m\u001b[0;32mNone\u001b[0m\u001b[0;34m)\u001b[0m\u001b[0;34m:\u001b[0m\u001b[0;34m\u001b[0m\u001b[0m\n",
      "\u001b[0;31mAttributeError\u001b[0m: 'Atoms' object has no attribute 'get_property'"
     ]
    }
   ],
   "source": [
    "dyn.run(1000)"
   ]
  },
  {
   "cell_type": "markdown",
   "metadata": {
    "ExecuteTime": {
     "end_time": "2018-06-12T13:36:59.251733Z",
     "start_time": "2018-06-12T13:36:59.212677Z"
    }
   },
   "source": [
    "## Pairwise potential test"
   ]
  },
  {
   "cell_type": "code",
   "execution_count": 3,
   "metadata": {
    "ExecuteTime": {
     "end_time": "2018-07-04T11:27:46.699253Z",
     "start_time": "2018-07-04T11:27:46.685924Z"
    }
   },
   "outputs": [
    {
     "ename": "NameError",
     "evalue": "name 'TwoBodySingleSpeciesModel' is not defined",
     "output_type": "error",
     "traceback": [
      "\u001b[0;31m---------------------------------------------------------------------------\u001b[0m",
      "\u001b[0;31mNameError\u001b[0m                                 Traceback (most recent call last)",
      "\u001b[0;32m<ipython-input-3-0434e725845b>\u001b[0m in \u001b[0;36m<module>\u001b[0;34m()\u001b[0m\n\u001b[0;32m----> 1\u001b[0;31m \u001b[0mmodel_2b\u001b[0m \u001b[0;34m=\u001b[0m \u001b[0mTwoBodySingleSpeciesModel\u001b[0m\u001b[0;34m(\u001b[0m\u001b[0melementslist\u001b[0m\u001b[0;34m[\u001b[0m\u001b[0;36m0\u001b[0m\u001b[0;34m]\u001b[0m\u001b[0;34m,\u001b[0m \u001b[0mr_cut\u001b[0m\u001b[0;34m,\u001b[0m \u001b[0msigma_2b\u001b[0m\u001b[0;34m,\u001b[0m \u001b[0mr_cut\u001b[0m \u001b[0;34m/\u001b[0m \u001b[0;36m10.0\u001b[0m\u001b[0;34m,\u001b[0m \u001b[0mnoise\u001b[0m\u001b[0;34m)\u001b[0m\u001b[0;34m\u001b[0m\u001b[0m\n\u001b[0m\u001b[1;32m      2\u001b[0m \u001b[0mmodel_2b\u001b[0m\u001b[0;34m.\u001b[0m\u001b[0mfit\u001b[0m\u001b[0;34m(\u001b[0m\u001b[0mtr_confs\u001b[0m\u001b[0;34m,\u001b[0m \u001b[0mtr_forces\u001b[0m\u001b[0;34m)\u001b[0m\u001b[0;34m\u001b[0m\u001b[0m\n",
      "\u001b[0;31mNameError\u001b[0m: name 'TwoBodySingleSpeciesModel' is not defined"
     ]
    }
   ],
   "source": [
    "model_2b = TwoBodySingleSpeciesModel(elementslist[0], r_cut, sigma_2b, r_cut / 10.0, noise)\n",
    "model_2b.fit(tr_confs, tr_forces)"
   ]
  },
  {
   "cell_type": "code",
   "execution_count": 51,
   "metadata": {
    "ExecuteTime": {
     "end_time": "2018-06-12T13:37:45.118417Z",
     "start_time": "2018-06-12T13:37:44.734274Z"
    }
   },
   "outputs": [
    {
     "name": "stdout",
     "output_type": "stream",
     "text": [
      "Testing GP\n",
      "MAEF on forces: 0.1404 +- 0.0750\n",
      "Relative MAEF on forces: 0.1943 +- 0.1038\n"
     ]
    }
   ],
   "source": [
    "# Test the GP performance\n",
    "print('Testing GP')\n",
    "\n",
    "gp_forces = np.zeros((ntest, 3))\n",
    "gp_error = np.zeros((ntest, 3))\n",
    "\n",
    "for i in np.arange(ntest):\n",
    "    gp_forces[i, :] = model_2b.predict(np.reshape(tst_confs[i], (1, len(tst_confs[i]), 5)))\n",
    "    gp_error[i, :] = gp_forces[i, :] - tst_forces[i, :]\n",
    "\n",
    "MAEF = np.mean(np.sqrt(np.sum(np.square(gp_error), axis=1)))\n",
    "SMAEF = np.std(np.sqrt(np.sum(np.square(gp_error), axis=1)))\n",
    "\n",
    "MF = np.mean(np.linalg.norm(tst_forces, axis=1))\n",
    "\n",
    "print('MAEF on forces: {:.4f} +- {:.4f}'.format(MAEF, SMAEF))\n",
    "print('Relative MAEF on forces: {:.4f} +- {:.4f}'.format(MAEF / MF, SMAEF / MF))"
   ]
  },
  {
   "cell_type": "code",
   "execution_count": 52,
   "metadata": {
    "ExecuteTime": {
     "end_time": "2018-06-12T13:37:59.509524Z",
     "start_time": "2018-06-12T13:37:53.163224Z"
    }
   },
   "outputs": [],
   "source": [
    "grid_2b = model_2b.build_grid(grid_start, num_2b)\n"
   ]
  },
  {
   "cell_type": "code",
   "execution_count": 53,
   "metadata": {
    "ExecuteTime": {
     "end_time": "2018-06-12T13:38:23.622171Z",
     "start_time": "2018-06-12T13:38:23.580599Z"
    }
   },
   "outputs": [],
   "source": [
    "calc = TwoBodySingleSpecies(r_cut, grid_c_2b)\n",
    "atoms.set_calculator(calc)"
   ]
  },
  {
   "cell_type": "code",
   "execution_count": 54,
   "metadata": {
    "ExecuteTime": {
     "end_time": "2018-06-12T13:38:31.748710Z",
     "start_time": "2018-06-12T13:38:30.541773Z"
    }
   },
   "outputs": [
    {
     "name": "stderr",
     "output_type": "stream",
     "text": [
      "INFO:m_ff.calculators:numbers is in system_changes\n",
      "INFO:m_ff.calculators:initialize\n"
     ]
    }
   ],
   "source": [
    "dyn.run(steps)"
   ]
  },
  {
   "cell_type": "code",
   "execution_count": 17,
   "metadata": {
    "ExecuteTime": {
     "end_time": "2018-06-29T16:39:35.603807Z",
     "start_time": "2018-06-29T16:39:35.504228Z"
    }
   },
   "outputs": [
    {
     "data": {
      "text/plain": [
       "array([1.58381760e-02, 8.13802083e-05, 1.93337110e-06, 1.06288200e-07,\n",
       "       9.93410746e-09, 1.33912337e-09, 2.36007214e-10])"
      ]
     },
     "execution_count": 17,
     "metadata": {},
     "output_type": "execute_result"
    }
   ],
   "source": [
    "dist = 2+np.arange(7)\n",
    "norm = np.ones((7,3))\n"
   ]
  },
  {
   "cell_type": "code",
   "execution_count": 18,
   "metadata": {
    "ExecuteTime": {
     "end_time": "2018-06-29T16:39:44.284927Z",
     "start_time": "2018-06-29T16:39:44.247703Z"
    }
   },
   "outputs": [
    {
     "data": {
      "text/plain": [
       "array([1.58381760e-02, 8.13802083e-05, 1.93337110e-06, 1.06288200e-07,\n",
       "       9.93410746e-09, 1.33912337e-09, 2.36007214e-10])"
      ]
     },
     "execution_count": 18,
     "metadata": {},
     "output_type": "execute_result"
    }
   ],
   "source": [
    "np.power(1.5/dist, 12)/dist"
   ]
  },
  {
   "cell_type": "code",
   "execution_count": null,
   "metadata": {},
   "outputs": [],
   "source": []
  }
 ],
 "metadata": {
  "kernelspec": {
   "display_name": "Python 3",
   "language": "python",
   "name": "python3"
  },
  "language_info": {
   "codemirror_mode": {
    "name": "ipython",
    "version": 3
   },
   "file_extension": ".py",
   "mimetype": "text/x-python",
   "name": "python",
   "nbconvert_exporter": "python",
   "pygments_lexer": "ipython3",
   "version": "3.6.5"
  }
 },
 "nbformat": 4,
 "nbformat_minor": 2
}
