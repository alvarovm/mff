{
 "cells": [
  {
   "cell_type": "code",
   "execution_count": null,
   "metadata": {
    "ExecuteTime": {
     "end_time": "2018-07-26T11:07:50.895944Z",
     "start_time": "2018-07-26T11:03:54.801Z"
    }
   },
   "outputs": [],
   "source": [
    "import sys\n",
    "sys.path.append('..')\n",
    "%matplotlib inline\n",
    "%load_ext autoreload\n",
    "%autoreload 2\n",
    "import os\n",
    "import logging\n",
    "from pathlib import Path\n",
    "\n",
    "import numpy as np\n",
    "import matplotlib.pyplot as plt\n",
    "\n",
    "from ase import Atoms\n",
    "from ase.io import read\n",
    "\n",
    "from m_ff.configurations import carve_confs\n",
    "from m_ff.models import TwoBodySingleSpeciesModel, ThreeBodySingleSpeciesModel, CombinedSingleSpeciesModel\n",
    "\n",
    "logging.basicConfig(level=logging.INFO)"
   ]
  },
  {
   "cell_type": "markdown",
   "metadata": {
    "ExecuteTime": {
     "end_time": "2018-06-12T11:07:25.784152Z",
     "start_time": "2018-06-12T11:07:25.751100Z"
    }
   },
   "source": [
    "## Parameters"
   ]
  },
  {
   "cell_type": "code",
   "execution_count": 147,
   "metadata": {
    "ExecuteTime": {
     "end_time": "2018-07-26T11:11:50.579753Z",
     "start_time": "2018-07-26T11:11:50.547680Z"
    }
   },
   "outputs": [],
   "source": [
    "# Parameters\n",
    "directory = Path('data/BIP_300/')\n",
    "r_cut = 8.4 # 8.4 to get the sensible energy files for BIP_300\n",
    "sigma_2b = 0.6\n",
    "sigma_3b = 1.0\n",
    "noise = 0.0001\n",
    "\n",
    "# GP Parameters\n",
    "ntr = 10\n",
    "ntest = 50\n",
    "\n",
    "# mapping\n",
    "grid_start = 1.5\n",
    "num_2b = 200\n",
    "num_3b = 100\n"
   ]
  },
  {
   "cell_type": "markdown",
   "metadata": {},
   "source": [
    "## Configurations"
   ]
  },
  {
   "cell_type": "code",
   "execution_count": 148,
   "metadata": {
    "ExecuteTime": {
     "end_time": "2018-07-26T11:11:51.104271Z",
     "start_time": "2018-07-26T11:11:50.978992Z"
    }
   },
   "outputs": [],
   "source": [
    "# Get configurations and forces from file\n",
    "elementslist = [28]\n",
    "confs = np.load(directory / 'confs_cut={:.2f}.npy'.format(r_cut))\n",
    "forces = np.load(directory / 'forces_cut={:.2f}.npy'.format(r_cut))\n",
    "energies = np.load(directory / 'energies_cut={:.2f}.npy'.format(r_cut))\n",
    "numconfs = len(forces)\n",
    "ind = np.arange(numconfs)\n",
    "ind_tot = np.random.choice(ind, size=ntr + ntest, replace=False)\n",
    "\n",
    "energies = np.repeat(energies, 19)\n",
    "energies = energies - np.mean(energies)\n",
    "# Separate into random testing and training dataset\n",
    "# tr_confs, tr_forces, tr_energies = confs[ind_tot[:ntr]], forces[ind_tot[:ntr]], energies[ind_tot[:ntr]]\n",
    "# tst_confs, tst_forces, tst_energies = confs[ind_tot[ntr:]], forces[ind_tot[ntr:]], energies[ind_tot[ntr:]]\n",
    "\n",
    "# # Use fixed training and testing dataset\n",
    "tr_confs, tr_forces, tr_energies = confs[0::20][:ntr], forces[0::20][:ntr],  energies[0::20][:ntr]\n",
    "tst_confs, tst_forces, tst_energies = confs[0::20][-ntest - 1:-1], forces[0::20][-ntest - 1:-1], energies[0::20][-ntest - 1:-1]"
   ]
  },
  {
   "cell_type": "markdown",
   "metadata": {},
   "source": [
    "## GP"
   ]
  },
  {
   "cell_type": "code",
   "execution_count": 149,
   "metadata": {
    "ExecuteTime": {
     "end_time": "2018-07-26T11:12:04.167144Z",
     "start_time": "2018-07-26T11:11:51.407795Z"
    }
   },
   "outputs": [
    {
     "name": "stderr",
     "output_type": "stream",
     "text": [
      "INFO:m_ff.kernels.twobody:Started compilation of theano two body single species kernels\n",
      "INFO:m_ff.kernels.twobody:Ended compilation of theano two body single species kernels\n",
      "INFO:m_ff.kernels.threebodykernel:Started compilation of theano three body kernels\n",
      "INFO:m_ff.kernels.threebodykernel:Ended compilation of theano three body kernels\n"
     ]
    }
   ],
   "source": [
    "model_c = CombinedSingleSpeciesModel(elementslist[0], r_cut, sigma_2b, sigma_3b, r_cut / 10.0, r_cut / 10.0, noise)\n",
    "# model_c = ThreeBodySingleSpeciesModel(elementslist[0], r_cut, sigma_3b, r_cut / 10.0, noise)\n",
    "# model_c = TwoBodySingleSpeciesModel(elementslist[0], r_cut, sigma_2b, r_cut / 10.0, noise)"
   ]
  },
  {
   "cell_type": "code",
   "execution_count": 150,
   "metadata": {
    "ExecuteTime": {
     "end_time": "2018-07-26T11:12:04.659158Z",
     "start_time": "2018-07-26T11:12:04.169914Z"
    }
   },
   "outputs": [],
   "source": [
    "# model_c.fit(tr_confs, tr_forces)\n",
    "model_c.fit_energy(tr_confs, tr_energies)\n",
    "# model_c.fit_force_and_energy(tr_confs, tr_forces, tr_energies)"
   ]
  },
  {
   "cell_type": "code",
   "execution_count": 154,
   "metadata": {
    "ExecuteTime": {
     "end_time": "2018-07-26T11:14:56.751348Z",
     "start_time": "2018-07-26T11:14:42.995904Z"
    }
   },
   "outputs": [
    {
     "name": "stdout",
     "output_type": "stream",
     "text": [
      "Testing GP\n",
      "MAEF on forces:  132.7622 +- 77.0937\n",
      "MAE on energies: 0.2346 +- 0.0833\n"
     ]
    }
   ],
   "source": [
    "# Test the GP performance\n",
    "print('Testing GP')\n",
    "\n",
    "gp_forces = np.zeros((ntest, 3))\n",
    "gp_energies = np.zeros(ntest)\n",
    "\n",
    "for i in np.arange(ntest):\n",
    "    gp_forces[i, :] = model_c.predict(np.reshape(tst_confs[i], (1, len(tst_confs[i]), 5)))\n",
    "    gp_energies[i] = model_c.predict_energy(np.reshape(tst_confs[i], (1, len(tst_confs[i]), 5)))\n",
    "                \n",
    "force_error = gp_forces - tst_forces\n",
    "energy_error = gp_energies - tst_energies\n",
    "\n",
    "MAEF = np.mean(np.sqrt(np.sum(np.square(force_error), axis=1)))\n",
    "SMAEF = np.std(np.sqrt(np.sum(np.square(force_error), axis=1)))\n",
    "\n",
    "MAE = np.mean(np.abs(energy_error))\n",
    "SMAE = np.std(np.abs(energy_error))\n",
    "\n",
    "MF = np.mean(np.linalg.norm(tst_forces, axis=1))\n",
    "\n",
    "print('MAEF on forces:  {:.4f} +- {:.4f}'.format(MAEF, SMAEF))\n",
    "print('MAE on energies: {:.4f} +- {:.4f}'.format(MAE, SMAE))"
   ]
  },
  {
   "cell_type": "code",
   "execution_count": 155,
   "metadata": {
    "ExecuteTime": {
     "end_time": "2018-07-26T11:14:56.952506Z",
     "start_time": "2018-07-26T11:14:56.755478Z"
    }
   },
   "outputs": [
    {
     "data": {
      "image/png": "[encoded data removed]",
      "text/plain": [
       "<Figure size 432x288 with 1 Axes>"
      ]
     },
     "metadata": {},
     "output_type": "display_data"
    }
   ],
   "source": [
    "plt.scatter(tst_forces, gp_forces)\n",
    "plt.plot(tst_forces, tst_forces, 'k-')\n",
    "plt.show()"
   ]
  },
  {
   "cell_type": "code",
   "execution_count": 156,
   "metadata": {
    "ExecuteTime": {
     "end_time": "2018-07-26T11:14:57.184058Z",
     "start_time": "2018-07-26T11:14:56.959744Z"
    }
   },
   "outputs": [
    {
     "data": {
      "image/png": "[encoded data removed]",
      "text/plain": [
       "<Figure size 432x288 with 1 Axes>"
      ]
     },
     "metadata": {},
     "output_type": "display_data"
    }
   ],
   "source": [
    "plt.scatter(tst_energies, gp_energies)\n",
    "plt.plot(tst_energies, tst_energies, 'k-')\n",
    "plt.show()"
   ]
  },
  {
   "cell_type": "code",
   "execution_count": 157,
   "metadata": {
    "ExecuteTime": {
     "end_time": "2018-07-26T11:15:08.340010Z",
     "start_time": "2018-07-26T11:15:08.240448Z"
    }
   },
   "outputs": [
    {
     "ename": "TypeError",
     "evalue": "bad operand type for abs(): 'NoneType'",
     "output_type": "error",
     "traceback": [
      "\u001b[0;31m---------------------------------------------------------------------------\u001b[0m",
      "\u001b[0;31mTypeError\u001b[0m                                 Traceback (most recent call last)",
      "\u001b[0;32m<ipython-input-157-21eaad5e3e7e>\u001b[0m in \u001b[0;36m<module>\u001b[0;34m()\u001b[0m\n\u001b[0;32m----> 1\u001b[0;31m \u001b[0mplt\u001b[0m\u001b[0;34m.\u001b[0m\u001b[0mmatshow\u001b[0m\u001b[0;34m(\u001b[0m\u001b[0mnp\u001b[0m\u001b[0;34m.\u001b[0m\u001b[0mabs\u001b[0m\u001b[0;34m(\u001b[0m\u001b[0mmodel_c\u001b[0m\u001b[0;34m.\u001b[0m\u001b[0mgp_2b\u001b[0m\u001b[0;34m.\u001b[0m\u001b[0mK\u001b[0m\u001b[0;34m)\u001b[0m\u001b[0;34m)\u001b[0m\u001b[0;34m\u001b[0m\u001b[0m\n\u001b[0m\u001b[1;32m      2\u001b[0m \u001b[0;31m# diag = np.diag(model_c.gp.energy_K)\u001b[0m\u001b[0;34m\u001b[0m\u001b[0;34m\u001b[0m\u001b[0m\n\u001b[1;32m      3\u001b[0m \u001b[0;31m# distance = np.sqrt(diag[:,None]+ diag[None,:] - 2*model_c.gp.energy_K)\u001b[0m\u001b[0;34m\u001b[0m\u001b[0;34m\u001b[0m\u001b[0m\n\u001b[1;32m      4\u001b[0m \u001b[0;31m# plt.matshow(distance)\u001b[0m\u001b[0;34m\u001b[0m\u001b[0;34m\u001b[0m\u001b[0m\n\u001b[1;32m      5\u001b[0m \u001b[0;34m\u001b[0m\u001b[0m\n",
      "\u001b[0;31mTypeError\u001b[0m: bad operand type for abs(): 'NoneType'"
     ]
    }
   ],
   "source": [
    "plt.matshow(np.abs(model_c.gp_2b.K))\n",
    "# diag = np.diag(model_c.gp.energy_K)\n",
    "# distance = np.sqrt(diag[:,None]+ diag[None,:] - 2*model_c.gp.energy_K)\n",
    "# plt.matshow(distance)\n",
    "\n",
    "plt.colorbar()\n",
    "plt.show()"
   ]
  },
  {
   "cell_type": "code",
   "execution_count": 87,
   "metadata": {
    "ExecuteTime": {
     "end_time": "2018-07-26T10:27:25.370956Z",
     "start_time": "2018-07-26T10:27:24.857165Z"
    }
   },
   "outputs": [
    {
     "data": {
      "image/png": "[encoded data removed]",
      "text/plain": [
       "<Figure size 288x288 with 2 Axes>"
      ]
     },
     "metadata": {},
     "output_type": "display_data"
    }
   ],
   "source": [
    "# plt.matshow(abs(model_c.gp.L_))\n",
    "diag = np.diag(model_c.gp_3b.K)\n",
    "distance = np.sqrt(diag[:,None]+ diag[None,:] - 2*model_c.gp_3b.K)\n",
    "plt.matshow(distance)\n",
    "\n",
    "plt.colorbar()\n",
    "plt.show()"
   ]
  },
  {
   "cell_type": "markdown",
   "metadata": {},
   "source": [
    "## Mapping"
   ]
  },
  {
   "cell_type": "code",
   "execution_count": 158,
   "metadata": {
    "ExecuteTime": {
     "end_time": "2018-07-26T11:22:37.354365Z",
     "start_time": "2018-07-26T11:15:13.567206Z"
    }
   },
   "outputs": [],
   "source": [
    "model_c.build_grid(grid_start, num_2b, num_3b)\n",
    "# model_c.build_grid(grid_start, num_3b)"
   ]
  },
  {
   "cell_type": "markdown",
   "metadata": {},
   "source": [
    "## Test Mapping on GP"
   ]
  },
  {
   "cell_type": "code",
   "execution_count": 159,
   "metadata": {
    "ExecuteTime": {
     "end_time": "2018-07-26T11:22:50.936596Z",
     "start_time": "2018-07-26T11:22:42.639575Z"
    }
   },
   "outputs": [
    {
     "name": "stderr",
     "output_type": "stream",
     "text": [
      "INFO:m_ff.calculators:numbers is in system_changes\n",
      "INFO:m_ff.calculators:initialize\n"
     ]
    },
    {
     "name": "stdout",
     "output_type": "stream",
     "text": [
      "MAEF on forces: 132.7333 +- 77.1043\n"
     ]
    }
   ],
   "source": [
    "from m_ff.calculators import TwoBodySingleSpecies, ThreeBodySingleSpecies, CombinedSingleSpecies\n",
    "\n",
    "# calc = ThreeBodySingleSpecies(r_cut, model_c.grid[(elementslist[0], elementslist[0], elementslist[0])])\n",
    "# calc = TwoBodySingleSpecies(r_cut, model_c.grid[(elementslist[0], elementslist[0])], rep_alpha = 0.0)\n",
    "calc = CombinedSingleSpecies(r_cut, model_c.grid[(elementslist[0], elementslist[0])], model_c.grid[(elementslist[0], elementslist[0], elementslist[0])], \\\n",
    "                             rep_alpha = 1.5)\n",
    "\n",
    "map_forces = np.zeros((ntest,3))\n",
    "map_energies = np.zeros(ntest)\n",
    "gp_energies = np.zeros(ntest)\n",
    "for i in np.arange(ntest):\n",
    "    numatoms = len(tst_confs[i][:,:3])+1\n",
    "#     atoms = Atoms('Ni19', positions = np.vstack(([0.0, 0.0, 0.0], tst_confs[i][:,:3])), cell = 21.0*np.eye(3), pbc = [0, 0, 0] )\n",
    "    atoms = Atoms('Ni%i' %(numatoms), positions = np.vstack(([0.0, 0.0, 0.0], tst_confs[i][:,:3])), cell = 21.0*np.eye(3), pbc = [0, 0, 0] )\n",
    "    atoms.set_calculator(calc)\n",
    "    map_forces[i] = atoms.get_forces()[0]\n",
    "    map_energies[i] = atoms.get_potential_energy(0)\n",
    "    gp_energies[i] = model_c.predict_energy(np.reshape(tst_confs[i], (1, len(tst_confs[i]), 5)))\n",
    "\n",
    "map_error = gp_forces - map_forces  \n",
    "energy_error = gp_energies - map_energies\n",
    "MAEF = np.mean(np.sqrt(np.sum(np.square(map_error), axis=1)))\n",
    "SMAEF = np.std(np.sqrt(np.sum(np.square(map_error), axis=1)))\n",
    "\n",
    "MF = np.mean(np.linalg.norm(tst_forces, axis=1))\n",
    "# print(np.mean(np.sqrt(np.mean(np.square(map_forces), axis = 1))))\n",
    "print('MAEF on forces: {:.4f} +- {:.4f}'.format(MAEF, SMAEF))\n",
    "#     print('Relative MAEF on forces: {:.4f} +- {:.4f}'.format(MAEF / MF, SMAEF / MF))"
   ]
  },
  {
   "cell_type": "code",
   "execution_count": 160,
   "metadata": {
    "ExecuteTime": {
     "end_time": "2018-07-26T12:08:23.396250Z",
     "start_time": "2018-07-26T12:08:22.947241Z"
    }
   },
   "outputs": [
    {
     "name": "stderr",
     "output_type": "stream",
     "text": [
      "INFO:m_ff.calculators:numbers is in system_changes\n",
      "INFO:m_ff.calculators:initialize\n"
     ]
    },
    {
     "name": "stdout",
     "output_type": "stream",
     "text": [
      "[-7.98935116 -7.98935116  0.        ] [[-16.89761694  41.32270449  36.7418239 ]]\n",
      "[-7.98935268 -0.17224217  0.        ] [[-21.84140864  46.24236207  41.54070986]]\n",
      "[-7.98934788e+00 -6.58244301e-03  0.00000000e+00] [[-19.56739241  33.0847267   30.70030651]]\n",
      "[-7.98934095 -0.25947443  0.        ] [[-11.19041917  18.20866625  18.02821339]]\n",
      "[-7.98933973 -0.07890489  0.        ] [[-7.77506051 24.69048709 23.37903779]]\n",
      "[-0.17224217 -7.98935268  0.        ] [[-21.84140864  46.24236207  41.54070986]]\n",
      "[-0.17223328 -0.17223328  0.        ] [[-26.78515937  51.16189731  46.33938213]]\n",
      "[-0.17221728 -0.00657079  0.        ] [[-24.51075529  38.00393011  35.4983984 ]]\n",
      "[-0.17220868 -0.25947161  0.        ] [[-16.13341626  23.12767316  22.82587594]]\n",
      "[-0.17221362 -0.07890657  0.        ] [[-12.71789996  29.60947273  28.17654908]]\n",
      "[-6.58244301e-03 -7.98934788e+00  0.00000000e+00] [[-19.56739241  33.0847267   30.70030651]]\n",
      "[-0.00657079 -0.17221728  0.        ] [[-24.51075529  38.00393011  35.4983984 ]]\n",
      "[-0.00655867 -0.00655867  0.        ] [[-22.23597329  24.84569898  24.65691773]]\n",
      "[-0.00655896 -0.25947084  0.        ] [[-13.85852648   9.96939128  11.98426606]]\n",
      "[-0.00657124 -0.07890676  0.        ] [[-10.44302133  16.45110459  17.3348832 ]]\n",
      "[-0.25947443 -7.98934095  0.        ] [[-11.19041917  18.20866625  18.02821339]]\n",
      "[-0.25947161 -0.17220868  0.        ] [[-16.13341626  23.12767316  22.82587594]]\n",
      "[-0.25947084 -0.00655896  0.        ] [[-13.85852648   9.96939128  11.98426606]]\n",
      "[-0.25947727 -0.25947727  0.        ] [[-5.48117565 -4.90697467 -0.68836039]]\n",
      "[-0.25949064 -0.07890999  0.        ] [[-2.06560725  1.57435865  4.66197071]]\n",
      "[-0.07890489 -7.98933973  0.        ] [[-7.77506051 24.69048709 23.37903779]]\n",
      "[-0.07890657 -0.17221362  0.        ] [[-12.71789996  29.60947273  28.17654908]]\n",
      "[-0.07890676 -0.00657124  0.        ] [[-10.44302133  16.45110459  17.3348832 ]]\n",
      "[-0.07890999 -0.25949064  0.        ] [[-2.06560725  1.57435865  4.66197071]]\n",
      "[-0.07892154 -0.07892154  0.        ] [[ 1.35032832  8.05497288 10.01160015]]\n",
      "MAEF on forces: 37.8866 +- 19.6480\n"
     ]
    }
   ],
   "source": [
    "from m_ff.calculators import TwoBodySingleSpecies, ThreeBodySingleSpecies, CombinedSingleSpecies\n",
    "\n",
    "# calc = CombinedSingleSpecies(r_cut, model_c.grid[(elementslist[0], elementslist[0])], model_c.grid[(elementslist[0], elementslist[0], elementslist[0])], \\\n",
    "#                              rep_alpha = 0.0)\n",
    "# calc = ThreeBodySingleSpecies(r_cut, model_c.grid[(elementslist[0], elementslist[0], elementslist[0])])\n",
    "# calc = TwoBodySingleSpecies(r_cut, model_c.grid[(elementslist[0], elementslist[0])], rep_alpha = 1.3)\n",
    "\n",
    "reps = 5\n",
    "map_error = np.zeros((reps**2, 3))\n",
    "for i in np.arange(reps):\n",
    "    for j in np.arange(reps):\n",
    "        for k in np.arange(1):\n",
    "            for l in np.arange(1):\n",
    "                conf = np.asarray([[0.0, 0.0, 0.0, 28, 28],[1.5+i*0.4, 0.0, 0.0, 28, 28], [0.0, 1.5+j*0.4, 0.0, 28, 28]])\n",
    "                atoms = Atoms('Ni3', positions = conf[:,:3], cell = 21.0*np.eye(3), pbc = [0, 0, 0] )\n",
    "                atoms.set_calculator(calc)\n",
    "                map_forces = atoms.get_forces()\n",
    "                small_gp_forces = model_c.predict(np.reshape(conf[1:], (1,2,5)))\n",
    "                print(map_forces[0], small_gp_forces)\n",
    "#                 print(atoms.get_potential_energy(0), model_c.predict_energy(np.reshape(conf[1:], (1,2,5))))\n",
    "                map_error[i*reps+j]= small_gp_forces - map_forces[0]\n",
    "\n",
    "    #             MAEF = np.mean(np.sqrt(np.sum(np.square(map_error), axis=1)))\n",
    "    #             SMAEF = np.std(np.sqrt(np.sum(np.square(map_error), axis=1)))\n",
    "\n",
    "    #             MF = np.mean(np.linalg.norm(tst_forces, axis=1))\n",
    "            #     print(small_gp_forces)\n",
    "            #     print(map_forces[0])\n",
    "    #             print('MAEF on forces: {:.4f} +- {:.4f}'.format(MAEF, SMAEF))\n",
    "            #     print('Relative MAEF on forces: {:.4f} +- {:.4f}'.format(MAEF / MF, SMAEF / MF))\n",
    "MAEF = np.mean(np.sqrt(np.sum(np.square(map_error), axis=1)))\n",
    "SMAEF = np.std(np.sqrt(np.sum(np.square(map_error), axis=1)))  \n",
    "print('MAEF on forces: {:.4f} +- {:.4f}'.format(MAEF, SMAEF))"
   ]
  },
  {
   "cell_type": "code",
   "execution_count": 161,
   "metadata": {
    "ExecuteTime": {
     "end_time": "2018-07-26T12:08:26.729489Z",
     "start_time": "2018-07-26T12:08:26.085105Z"
    }
   },
   "outputs": [
    {
     "name": "stderr",
     "output_type": "stream",
     "text": [
      "INFO:m_ff.calculators:numbers is in system_changes\n",
      "INFO:m_ff.calculators:initialize\n"
     ]
    }
   ],
   "source": [
    "from m_ff.calculators import TwoBodySingleSpecies, ThreeBodySingleSpecies, CombinedSingleSpecies\n",
    "# calc = CombinedSingleSpecies(r_cut, model_c.grid[(elementslist[0], elementslist[0])], model_c.grid[(elementslist[0], elementslist[0], elementslist[0])], \\\n",
    "#                              rep_alpha = 1.5)\n",
    "# calc = ThreeBodySingleSpecies(r_cut, model_c.grid[(elementslist[0], elementslist[0], elementslist[0])])\n",
    "\n",
    "potential = np.zeros(50)\n",
    "force = np.zeros(50)\n",
    "gp_potential = np.zeros(50)\n",
    "gp_force = np.zeros((50, 3))\n",
    "for i in np.arange(50):\n",
    "    conf = np.asarray([[0.0, 0.0, 0.0, 28, 28],[1.5+i*0.05, 0.0, 0.0, 28, 28]])\n",
    "    atoms = Atoms('Ni2', positions = conf[:,:3], cell = 21.0*np.eye(3), pbc = [0, 0, 0] )\n",
    "    atoms.set_calculator(calc)\n",
    "    potential[i] = atoms.get_potential_energy()\n",
    "    force[i] = atoms.get_forces()[0][0]\n",
    "    gp_potential[i] = model_c.predict_energy(np.reshape(conf[1], (1, 1, 5)))\n",
    "    gp_force[i] = model_c.predict(np.reshape(conf[1], (1, 1, 5)))"
   ]
  },
  {
   "cell_type": "code",
   "execution_count": 162,
   "metadata": {
    "ExecuteTime": {
     "end_time": "2018-07-26T12:08:29.137899Z",
     "start_time": "2018-07-26T12:08:28.928693Z"
    }
   },
   "outputs": [
    {
     "data": {
      "image/png": "[encoded data removed]",
      "text/plain": [
       "<Figure size 432x288 with 1 Axes>"
      ]
     },
     "metadata": {},
     "output_type": "display_data"
    }
   ],
   "source": [
    "plt.plot(np.linspace(1.5, 4.5, 50), potential)\n",
    "plt.plot(np.linspace(1.5, 4.5, 50), force)\n",
    "plt.plot(np.linspace(1.5, 4.5, 50), gp_potential)\n",
    "plt.plot(np.linspace(1.5, 4.5, 50), gp_force[:,0], 'r')\n",
    "plt.show()"
   ]
  },
  {
   "cell_type": "markdown",
   "metadata": {},
   "source": [
    "## Test mapping on traj"
   ]
  },
  {
   "cell_type": "code",
   "execution_count": 163,
   "metadata": {
    "ExecuteTime": {
     "end_time": "2018-07-26T12:08:53.754527Z",
     "start_time": "2018-07-26T12:08:53.695095Z"
    }
   },
   "outputs": [],
   "source": [
    "from m_ff.calculators import TwoBodySingleSpecies, ThreeBodySingleSpecies, CombinedSingleSpecies\n",
    "# calc = CombinedSingleSpecies(r_cut, model_c.grid[(28, 28)], model_c.grid[(28, 28, 28)], rep_alpha = 1.2)\n",
    "# calc = TwoBodySingleSpecies(r_cut, model_c.grid[(elementslist[0], elementslist[0])], rep_alpha = 0.0)\n",
    "# calc = ThreeBodySingleSpecies(r_cut, model_c.grid[(elementslist[0], elementslist[0], elementslist[0])])\n",
    "\n",
    "filename = directory / 'movie.xyz'\n",
    "traj = read(str(filename), index=slice(0, 10))\n",
    "# for atoms in traj:\n",
    "#     atoms.set_cell(21.0*np.identity(3))\n",
    "#     atoms.set_calculator(calc)\n",
    "\n",
    "#     #rms_mean, rms_std = rmse(atoms.arrays['force'], atoms.get_forces())\n",
    "#     #print('MAEF on forces: {:.4f} +- {:.4f}'.format(rms_mean, rms_std))\n",
    "#     print(atoms.get_forces())\n"
   ]
  },
  {
   "cell_type": "markdown",
   "metadata": {},
   "source": [
    "## Run simple dynamics"
   ]
  },
  {
   "cell_type": "code",
   "execution_count": 164,
   "metadata": {
    "ExecuteTime": {
     "end_time": "2018-07-26T12:08:54.574612Z",
     "start_time": "2018-07-26T12:08:54.553621Z"
    }
   },
   "outputs": [],
   "source": [
    "# Global Variables Definition\n",
    "gamma = 0.001\n",
    "temp = 200 #K\n",
    "dt = 1.0  # fs\n",
    "steps = 10000\n",
    "t = steps * dt * 10 ** (-3)  # time in ps"
   ]
  },
  {
   "cell_type": "code",
   "execution_count": 165,
   "metadata": {
    "ExecuteTime": {
     "end_time": "2018-07-26T12:08:54.958586Z",
     "start_time": "2018-07-26T12:08:54.924318Z"
    }
   },
   "outputs": [],
   "source": [
    "atoms = traj[1]\n",
    "atoms.set_positions(traj[1].get_positions())\n",
    "atoms.set_pbc(False)\n",
    "atoms.set_cell([(21, 0, 0), (0, 21, 0), (0, 0, 21)])\n",
    "atoms.set_calculator(calc)"
   ]
  },
  {
   "cell_type": "code",
   "execution_count": 166,
   "metadata": {
    "ExecuteTime": {
     "end_time": "2018-07-26T12:08:55.414415Z",
     "start_time": "2018-07-26T12:08:55.391596Z"
    }
   },
   "outputs": [],
   "source": [
    "# from ase.build import bulk, stack\n",
    "# atoms = bulk('Fe', 'bcc', a=2.856, cubic=True)\n",
    "# atoms = stack(atoms, atoms, axis=0)\n",
    "# atoms = stack(atoms, atoms, axis=1)\n",
    "# atoms = stack(atoms, atoms, axis=2)\n",
    "# atoms = stack(atoms, atoms, axis=0)\n",
    "# atoms = stack(atoms, atoms, axis=1)\n",
    "# atoms = stack(atoms, atoms, axis=2)\n",
    "\n",
    "# del atoms[0]\n",
    "# atoms.set_calculator(calc)\n",
    "# len(atoms)"
   ]
  },
  {
   "cell_type": "code",
   "execution_count": 167,
   "metadata": {
    "ExecuteTime": {
     "end_time": "2018-07-26T12:08:56.100003Z",
     "start_time": "2018-07-26T12:08:56.062353Z"
    }
   },
   "outputs": [],
   "source": [
    "from ase.md.velocitydistribution import MaxwellBoltzmannDistribution\n",
    "from ase.md.velocitydistribution import Stationary\n",
    "from ase.md.velocitydistribution import ZeroRotation\n",
    "from ase.md.verlet import VelocityVerlet\n",
    "from ase.md.langevin import Langevin\n",
    "from ase import units\n",
    "\n",
    "Stationary(atoms)\n",
    "ZeroRotation(atoms)\n",
    "dyn = VelocityVerlet(atoms, dt * units.fs)\n",
    "MaxwellBoltzmannDistribution(atoms, 2.0 * temp * units.kB)"
   ]
  },
  {
   "cell_type": "code",
   "execution_count": 168,
   "metadata": {
    "ExecuteTime": {
     "end_time": "2018-07-26T12:08:56.508594Z",
     "start_time": "2018-07-26T12:08:56.482121Z"
    }
   },
   "outputs": [],
   "source": [
    "def printenergy(a=atoms):\n",
    "    \"\"\"Function to print the potential, kinetic and total energy\"\"\"\n",
    "    epot = a.get_potential_energy() / len(a)\n",
    "    ekin = a.get_kinetic_energy() / len(a)\n",
    "    print('Energy per atom: Epot = %.3feV  Ekin = %.3feV (T=%3.0fK)  '\n",
    "          'Etot = %.3feV' % (epot, ekin, ekin / (1.5 * units.kB), epot + ekin))\n",
    "    \n",
    "def savexyz(a=atoms):\n",
    "    this_traj = open(traj_filename, \"a\")\n",
    "    extxyz.write_extxyz(this_traj, [atoms])\n",
    "    \n",
    "def printforces(a=atoms):\n",
    "    forces = a.get_forces()\n",
    "    print(forces)"
   ]
  },
  {
   "cell_type": "code",
   "execution_count": 169,
   "metadata": {
    "ExecuteTime": {
     "end_time": "2018-07-26T12:08:56.956243Z",
     "start_time": "2018-07-26T12:08:56.933040Z"
    }
   },
   "outputs": [],
   "source": [
    "import scipy as sp\n",
    "pos = atoms.get_positions()\n",
    "dist = np.reshape(sp.spatial.distance.cdist(pos, pos), len(pos)**2)\n",
    "from ase.io import extxyz\n",
    "traj_filename = \"example.xyz\""
   ]
  },
  {
   "cell_type": "code",
   "execution_count": 170,
   "metadata": {
    "ExecuteTime": {
     "end_time": "2018-07-26T12:12:02.891526Z",
     "start_time": "2018-07-26T12:08:57.549553Z"
    }
   },
   "outputs": [
    {
     "name": "stderr",
     "output_type": "stream",
     "text": [
      "INFO:m_ff.calculators:numbers is in system_changes\n",
      "INFO:m_ff.calculators:initialize\n"
     ]
    },
    {
     "name": "stdout",
     "output_type": "stream",
     "text": [
      "Energy per atom: Epot = -0.045eV  Ekin = 0.046eV (T=359K)  Etot = 0.001eV\n",
      "Energy per atom: Epot = -0.056eV  Ekin = 0.058eV (T=450K)  Etot = 0.002eV\n",
      "Energy per atom: Epot = -0.074eV  Ekin = 0.079eV (T=607K)  Etot = 0.004eV\n",
      "Energy per atom: Epot = -0.097eV  Ekin = 0.105eV (T=816K)  Etot = 0.008eV\n",
      "Energy per atom: Epot = -0.118eV  Ekin = 0.134eV (T=1035K)  Etot = 0.016eV\n",
      "Energy per atom: Epot = -0.122eV  Ekin = 0.155eV (T=1197K)  Etot = 0.032eV\n",
      "Energy per atom: Epot = -0.093eV  Ekin = 0.158eV (T=1219K)  Etot = 0.065eV\n",
      "Energy per atom: Epot = -0.031eV  Ekin = 0.143eV (T=1108K)  Etot = 0.112eV\n",
      "Energy per atom: Epot = 0.015eV  Ekin = 0.135eV (T=1046K)  Etot = 0.150eV\n",
      "Energy per atom: Epot = 0.031eV  Ekin = 0.139eV (T=1073K)  Etot = 0.169eV\n",
      "Energy per atom: Epot = 0.033eV  Ekin = 0.144eV (T=1111K)  Etot = 0.177eV\n",
      "Energy per atom: Epot = 0.031eV  Ekin = 0.146eV (T=1128K)  Etot = 0.177eV\n",
      "Energy per atom: Epot = 0.022eV  Ekin = 0.149eV (T=1149K)  Etot = 0.170eV\n",
      "Energy per atom: Epot = 0.004eV  Ekin = 0.154eV (T=1190K)  Etot = 0.158eV\n",
      "Energy per atom: Epot = -0.026eV  Ekin = 0.164eV (T=1267K)  Etot = 0.138eV\n",
      "Energy per atom: Epot = -0.059eV  Ekin = 0.175eV (T=1350K)  Etot = 0.115eV\n",
      "Energy per atom: Epot = -0.089eV  Ekin = 0.183eV (T=1413K)  Etot = 0.094eV\n",
      "Energy per atom: Epot = -0.114eV  Ekin = 0.188eV (T=1456K)  Etot = 0.074eV\n",
      "Energy per atom: Epot = -0.132eV  Ekin = 0.190eV (T=1469K)  Etot = 0.058eV\n",
      "Energy per atom: Epot = -0.142eV  Ekin = 0.188eV (T=1452K)  Etot = 0.046eV\n",
      "Energy per atom: Epot = -0.147eV  Ekin = 0.184eV (T=1421K)  Etot = 0.037eV\n",
      "Energy per atom: Epot = -0.151eV  Ekin = 0.181eV (T=1404K)  Etot = 0.030eV\n",
      "Energy per atom: Epot = -0.159eV  Ekin = 0.185eV (T=1432K)  Etot = 0.026eV\n",
      "Energy per atom: Epot = -0.172eV  Ekin = 0.196eV (T=1514K)  Etot = 0.023eV\n",
      "Energy per atom: Epot = -0.187eV  Ekin = 0.210eV (T=1628K)  Etot = 0.024eV\n",
      "Energy per atom: Epot = -0.200eV  Ekin = 0.227eV (T=1753K)  Etot = 0.027eV\n",
      "Energy per atom: Epot = -0.210eV  Ekin = 0.242eV (T=1874K)  Etot = 0.032eV\n",
      "Energy per atom: Epot = -0.217eV  Ekin = 0.256eV (T=1981K)  Etot = 0.039eV\n",
      "Energy per atom: Epot = -0.226eV  Ekin = 0.271eV (T=2094K)  Etot = 0.044eV\n",
      "Energy per atom: Epot = -0.247eV  Ekin = 0.291eV (T=2251K)  Etot = 0.044eV\n",
      "Energy per atom: Epot = -0.276eV  Ekin = 0.314eV (T=2432K)  Etot = 0.038eV\n",
      "Energy per atom: Epot = -0.301eV  Ekin = 0.332eV (T=2568K)  Etot = 0.031eV\n",
      "Energy per atom: Epot = -0.309eV  Ekin = 0.335eV (T=2590K)  Etot = 0.025eV\n",
      "Energy per atom: Epot = -0.300eV  Ekin = 0.325eV (T=2517K)  Etot = 0.025eV\n",
      "Energy per atom: Epot = -0.288eV  Ekin = 0.315eV (T=2433K)  Etot = 0.026eV\n",
      "Energy per atom: Epot = -0.283eV  Ekin = 0.307eV (T=2372K)  Etot = 0.024eV\n",
      "Energy per atom: Epot = -0.276eV  Ekin = 0.297eV (T=2298K)  Etot = 0.021eV\n",
      "Energy per atom: Epot = -0.267eV  Ekin = 0.285eV (T=2209K)  Etot = 0.018eV\n",
      "Energy per atom: Epot = -0.254eV  Ekin = 0.271eV (T=2098K)  Etot = 0.018eV\n",
      "Energy per atom: Epot = -0.237eV  Ekin = 0.255eV (T=1973K)  Etot = 0.018eV\n",
      "Energy per atom: Epot = -0.232eV  Ekin = 0.246eV (T=1902K)  Etot = 0.013eV\n",
      "Energy per atom: Epot = -0.242eV  Ekin = 0.247eV (T=1913K)  Etot = 0.006eV\n",
      "Energy per atom: Epot = -0.255eV  Ekin = 0.254eV (T=1969K)  Etot = -0.001eV\n",
      "Energy per atom: Epot = -0.267eV  Ekin = 0.263eV (T=2038K)  Etot = -0.004eV\n",
      "Energy per atom: Epot = -0.279eV  Ekin = 0.273eV (T=2115K)  Etot = -0.006eV\n",
      "Energy per atom: Epot = -0.291eV  Ekin = 0.285eV (T=2203K)  Etot = -0.007eV\n",
      "Energy per atom: Epot = -0.304eV  Ekin = 0.297eV (T=2301K)  Etot = -0.007eV\n",
      "Energy per atom: Epot = -0.316eV  Ekin = 0.309eV (T=2393K)  Etot = -0.007eV\n",
      "Energy per atom: Epot = -0.324eV  Ekin = 0.318eV (T=2456K)  Etot = -0.007eV\n",
      "Energy per atom: Epot = -0.328eV  Ekin = 0.321eV (T=2483K)  Etot = -0.007eV\n",
      "Energy per atom: Epot = -0.329eV  Ekin = 0.322eV (T=2490K)  Etot = -0.007eV\n",
      "Energy per atom: Epot = -0.331eV  Ekin = 0.324eV (T=2506K)  Etot = -0.007eV\n",
      "Energy per atom: Epot = -0.338eV  Ekin = 0.330eV (T=2552K)  Etot = -0.008eV\n",
      "Energy per atom: Epot = -0.347eV  Ekin = 0.339eV (T=2619K)  Etot = -0.008eV\n",
      "Energy per atom: Epot = -0.354eV  Ekin = 0.345eV (T=2669K)  Etot = -0.009eV\n",
      "Energy per atom: Epot = -0.354eV  Ekin = 0.344eV (T=2665K)  Etot = -0.010eV\n",
      "Energy per atom: Epot = -0.347eV  Ekin = 0.337eV (T=2607K)  Etot = -0.010eV\n",
      "Energy per atom: Epot = -0.338eV  Ekin = 0.327eV (T=2532K)  Etot = -0.010eV\n",
      "Energy per atom: Epot = -0.331eV  Ekin = 0.321eV (T=2480K)  Etot = -0.011eV\n",
      "Energy per atom: Epot = -0.330eV  Ekin = 0.319eV (T=2469K)  Etot = -0.011eV\n",
      "Energy per atom: Epot = -0.334eV  Ekin = 0.324eV (T=2503K)  Etot = -0.011eV\n",
      "Energy per atom: Epot = -0.344eV  Ekin = 0.333eV (T=2578K)  Etot = -0.011eV\n",
      "Energy per atom: Epot = -0.356eV  Ekin = 0.346eV (T=2675K)  Etot = -0.011eV\n",
      "Energy per atom: Epot = -0.368eV  Ekin = 0.357eV (T=2762K)  Etot = -0.011eV\n",
      "Energy per atom: Epot = -0.373eV  Ekin = 0.363eV (T=2805K)  Etot = -0.011eV\n",
      "Energy per atom: Epot = -0.372eV  Ekin = 0.361eV (T=2793K)  Etot = -0.011eV\n",
      "Energy per atom: Epot = -0.367eV  Ekin = 0.356eV (T=2755K)  Etot = -0.011eV\n",
      "Energy per atom: Epot = -0.364eV  Ekin = 0.353eV (T=2730K)  Etot = -0.011eV\n",
      "Energy per atom: Epot = -0.364eV  Ekin = 0.353eV (T=2730K)  Etot = -0.011eV\n",
      "Energy per atom: Epot = -0.364eV  Ekin = 0.353eV (T=2730K)  Etot = -0.011eV\n",
      "Energy per atom: Epot = -0.359eV  Ekin = 0.348eV (T=2693K)  Etot = -0.011eV\n",
      "Energy per atom: Epot = -0.348eV  Ekin = 0.337eV (T=2603K)  Etot = -0.011eV\n",
      "Energy per atom: Epot = -0.332eV  Ekin = 0.321eV (T=2481K)  Etot = -0.011eV\n",
      "Energy per atom: Epot = -0.317eV  Ekin = 0.306eV (T=2367K)  Etot = -0.011eV\n",
      "Energy per atom: Epot = -0.307eV  Ekin = 0.296eV (T=2294K)  Etot = -0.011eV\n",
      "Energy per atom: Epot = -0.304eV  Ekin = 0.293eV (T=2267K)  Etot = -0.011eV\n",
      "Energy per atom: Epot = -0.304eV  Ekin = 0.294eV (T=2275K)  Etot = -0.010eV\n",
      "Energy per atom: Epot = -0.307eV  Ekin = 0.297eV (T=2298K)  Etot = -0.010eV\n",
      "Energy per atom: Epot = -0.308eV  Ekin = 0.300eV (T=2318K)  Etot = -0.008eV\n",
      "Energy per atom: Epot = -0.305eV  Ekin = 0.299eV (T=2313K)  Etot = -0.006eV\n",
      "Energy per atom: Epot = -0.297eV  Ekin = 0.294eV (T=2273K)  Etot = -0.003eV\n",
      "Energy per atom: Epot = -0.286eV  Ekin = 0.286eV (T=2211K)  Etot = -0.000eV\n",
      "Energy per atom: Epot = -0.280eV  Ekin = 0.280eV (T=2167K)  Etot = 0.000eV\n",
      "Energy per atom: Epot = -0.281eV  Ekin = 0.278eV (T=2152K)  Etot = -0.003eV\n",
      "Energy per atom: Epot = -0.282eV  Ekin = 0.276eV (T=2136K)  Etot = -0.006eV\n",
      "Energy per atom: Epot = -0.281eV  Ekin = 0.272eV (T=2107K)  Etot = -0.009eV\n",
      "Energy per atom: Epot = -0.278eV  Ekin = 0.268eV (T=2071K)  Etot = -0.010eV\n",
      "Energy per atom: Epot = -0.274eV  Ekin = 0.264eV (T=2040K)  Etot = -0.010eV\n",
      "Energy per atom: Epot = -0.270eV  Ekin = 0.259eV (T=2006K)  Etot = -0.011eV\n",
      "Energy per atom: Epot = -0.264eV  Ekin = 0.253eV (T=1958K)  Etot = -0.011eV\n",
      "Energy per atom: Epot = -0.256eV  Ekin = 0.245eV (T=1895K)  Etot = -0.011eV\n",
      "Energy per atom: Epot = -0.247eV  Ekin = 0.236eV (T=1827K)  Etot = -0.011eV\n",
      "Energy per atom: Epot = -0.240eV  Ekin = 0.229eV (T=1770K)  Etot = -0.011eV\n",
      "Energy per atom: Epot = -0.235eV  Ekin = 0.224eV (T=1736K)  Etot = -0.011eV\n",
      "Energy per atom: Epot = -0.234eV  Ekin = 0.223eV (T=1728K)  Etot = -0.011eV\n",
      "Energy per atom: Epot = -0.235eV  Ekin = 0.225eV (T=1738K)  Etot = -0.010eV\n",
      "Energy per atom: Epot = -0.237eV  Ekin = 0.227eV (T=1757K)  Etot = -0.010eV\n",
      "Energy per atom: Epot = -0.239eV  Ekin = 0.230eV (T=1776K)  Etot = -0.009eV\n",
      "Energy per atom: Epot = -0.240eV  Ekin = 0.231eV (T=1791K)  Etot = -0.009eV\n",
      "Energy per atom: Epot = -0.240eV  Ekin = 0.232eV (T=1795K)  Etot = -0.008eV\n",
      "Energy per atom: Epot = -0.237eV  Ekin = 0.231eV (T=1789K)  Etot = -0.006eV\n",
      "Energy per atom: Epot = -0.233eV  Ekin = 0.230eV (T=1776K)  Etot = -0.003eV\n",
      "Energy per atom: Epot = -0.229eV  Ekin = 0.228eV (T=1764K)  Etot = -0.001eV\n",
      "Energy per atom: Epot = -0.228eV  Ekin = 0.228eV (T=1768K)  Etot = 0.001eV\n",
      "Energy per atom: Epot = -0.232eV  Ekin = 0.232eV (T=1793K)  Etot = -0.000eV\n",
      "Energy per atom: Epot = -0.240eV  Ekin = 0.237eV (T=1833K)  Etot = -0.003eV\n",
      "Energy per atom: Epot = -0.248eV  Ekin = 0.242eV (T=1871K)  Etot = -0.006eV\n",
      "Energy per atom: Epot = -0.252eV  Ekin = 0.244eV (T=1890K)  Etot = -0.008eV\n",
      "Energy per atom: Epot = -0.251eV  Ekin = 0.242eV (T=1876K)  Etot = -0.009eV\n",
      "Energy per atom: Epot = -0.246eV  Ekin = 0.236eV (T=1827K)  Etot = -0.010eV\n"
     ]
    },
    {
     "name": "stdout",
     "output_type": "stream",
     "text": [
      "Energy per atom: Epot = -0.237eV  Ekin = 0.227eV (T=1757K)  Etot = -0.010eV\n",
      "Energy per atom: Epot = -0.228eV  Ekin = 0.218eV (T=1686K)  Etot = -0.010eV\n",
      "Energy per atom: Epot = -0.221eV  Ekin = 0.210eV (T=1626K)  Etot = -0.010eV\n",
      "Energy per atom: Epot = -0.215eV  Ekin = 0.204eV (T=1580K)  Etot = -0.011eV\n",
      "Energy per atom: Epot = -0.210eV  Ekin = 0.200eV (T=1544K)  Etot = -0.011eV\n",
      "Energy per atom: Epot = -0.207eV  Ekin = 0.196eV (T=1519K)  Etot = -0.011eV\n",
      "Energy per atom: Epot = -0.206eV  Ekin = 0.195eV (T=1507K)  Etot = -0.011eV\n",
      "Energy per atom: Epot = -0.206eV  Ekin = 0.196eV (T=1513K)  Etot = -0.011eV\n",
      "Energy per atom: Epot = -0.209eV  Ekin = 0.198eV (T=1534K)  Etot = -0.011eV\n",
      "Energy per atom: Epot = -0.213eV  Ekin = 0.203eV (T=1567K)  Etot = -0.011eV\n",
      "Energy per atom: Epot = -0.218eV  Ekin = 0.208eV (T=1606K)  Etot = -0.011eV\n",
      "Energy per atom: Epot = -0.224eV  Ekin = 0.213eV (T=1649K)  Etot = -0.011eV\n",
      "Energy per atom: Epot = -0.229eV  Ekin = 0.219eV (T=1692K)  Etot = -0.011eV\n",
      "Energy per atom: Epot = -0.235eV  Ekin = 0.224eV (T=1733K)  Etot = -0.011eV\n",
      "Energy per atom: Epot = -0.240eV  Ekin = 0.229eV (T=1773K)  Etot = -0.011eV\n",
      "Energy per atom: Epot = -0.244eV  Ekin = 0.233eV (T=1803K)  Etot = -0.011eV\n",
      "Energy per atom: Epot = -0.244eV  Ekin = 0.233eV (T=1804K)  Etot = -0.011eV\n",
      "Energy per atom: Epot = -0.240eV  Ekin = 0.229eV (T=1769K)  Etot = -0.011eV\n",
      "Energy per atom: Epot = -0.232eV  Ekin = 0.221eV (T=1713K)  Etot = -0.011eV\n",
      "Energy per atom: Epot = -0.226eV  Ekin = 0.215eV (T=1664K)  Etot = -0.011eV\n",
      "Energy per atom: Epot = -0.222eV  Ekin = 0.211eV (T=1631K)  Etot = -0.011eV\n",
      "Energy per atom: Epot = -0.218eV  Ekin = 0.208eV (T=1606K)  Etot = -0.011eV\n",
      "Energy per atom: Epot = -0.215eV  Ekin = 0.204eV (T=1581K)  Etot = -0.011eV\n",
      "Energy per atom: Epot = -0.213eV  Ekin = 0.202eV (T=1564K)  Etot = -0.011eV\n",
      "Energy per atom: Epot = -0.213eV  Ekin = 0.202eV (T=1565K)  Etot = -0.011eV\n",
      "Energy per atom: Epot = -0.214eV  Ekin = 0.204eV (T=1577K)  Etot = -0.011eV\n",
      "Energy per atom: Epot = -0.216eV  Ekin = 0.205eV (T=1588K)  Etot = -0.010eV\n",
      "Energy per atom: Epot = -0.217eV  Ekin = 0.207eV (T=1598K)  Etot = -0.010eV\n",
      "Energy per atom: Epot = -0.219eV  Ekin = 0.209eV (T=1620K)  Etot = -0.010eV\n",
      "Energy per atom: Epot = -0.223eV  Ekin = 0.214eV (T=1657K)  Etot = -0.009eV\n",
      "Energy per atom: Epot = -0.226eV  Ekin = 0.218eV (T=1684K)  Etot = -0.008eV\n",
      "Energy per atom: Epot = -0.223eV  Ekin = 0.216eV (T=1675K)  Etot = -0.007eV\n",
      "Energy per atom: Epot = -0.214eV  Ekin = 0.211eV (T=1629K)  Etot = -0.004eV\n",
      "Energy per atom: Epot = -0.204eV  Ekin = 0.204eV (T=1575K)  Etot = 0.000eV\n",
      "Energy per atom: Epot = -0.197eV  Ekin = 0.199eV (T=1540K)  Etot = 0.002eV\n",
      "Energy per atom: Epot = -0.197eV  Ekin = 0.198eV (T=1532K)  Etot = 0.001eV\n",
      "Energy per atom: Epot = -0.200eV  Ekin = 0.198eV (T=1532K)  Etot = -0.002eV\n",
      "Energy per atom: Epot = -0.203eV  Ekin = 0.197eV (T=1527K)  Etot = -0.006eV\n",
      "Energy per atom: Epot = -0.205eV  Ekin = 0.197eV (T=1524K)  Etot = -0.008eV\n",
      "Energy per atom: Epot = -0.206eV  Ekin = 0.197eV (T=1527K)  Etot = -0.009eV\n",
      "Energy per atom: Epot = -0.208eV  Ekin = 0.199eV (T=1537K)  Etot = -0.009eV\n",
      "Energy per atom: Epot = -0.210eV  Ekin = 0.200eV (T=1550K)  Etot = -0.010eV\n",
      "Energy per atom: Epot = -0.213eV  Ekin = 0.203eV (T=1567K)  Etot = -0.010eV\n",
      "Energy per atom: Epot = -0.215eV  Ekin = 0.205eV (T=1587K)  Etot = -0.010eV\n",
      "Energy per atom: Epot = -0.218eV  Ekin = 0.208eV (T=1608K)  Etot = -0.010eV\n",
      "Energy per atom: Epot = -0.220eV  Ekin = 0.210eV (T=1623K)  Etot = -0.010eV\n",
      "Energy per atom: Epot = -0.221eV  Ekin = 0.210eV (T=1626K)  Etot = -0.010eV\n",
      "Energy per atom: Epot = -0.219eV  Ekin = 0.208eV (T=1611K)  Etot = -0.010eV\n",
      "Energy per atom: Epot = -0.215eV  Ekin = 0.205eV (T=1584K)  Etot = -0.010eV\n",
      "Energy per atom: Epot = -0.211eV  Ekin = 0.201eV (T=1553K)  Etot = -0.010eV\n",
      "Energy per atom: Epot = -0.208eV  Ekin = 0.198eV (T=1528K)  Etot = -0.010eV\n",
      "Energy per atom: Epot = -0.206eV  Ekin = 0.196eV (T=1512K)  Etot = -0.010eV\n",
      "Energy per atom: Epot = -0.205eV  Ekin = 0.195eV (T=1505K)  Etot = -0.010eV\n",
      "Energy per atom: Epot = -0.205eV  Ekin = 0.194eV (T=1503K)  Etot = -0.010eV\n",
      "Energy per atom: Epot = -0.205eV  Ekin = 0.194eV (T=1504K)  Etot = -0.010eV\n",
      "Energy per atom: Epot = -0.205eV  Ekin = 0.195eV (T=1510K)  Etot = -0.010eV\n",
      "Energy per atom: Epot = -0.206eV  Ekin = 0.196eV (T=1520K)  Etot = -0.010eV\n",
      "Energy per atom: Epot = -0.207eV  Ekin = 0.198eV (T=1532K)  Etot = -0.009eV\n",
      "Energy per atom: Epot = -0.208eV  Ekin = 0.199eV (T=1540K)  Etot = -0.009eV\n",
      "Energy per atom: Epot = -0.208eV  Ekin = 0.199eV (T=1540K)  Etot = -0.009eV\n",
      "Energy per atom: Epot = -0.206eV  Ekin = 0.198eV (T=1531K)  Etot = -0.008eV\n",
      "Energy per atom: Epot = -0.203eV  Ekin = 0.196eV (T=1516K)  Etot = -0.007eV\n",
      "Energy per atom: Epot = -0.200eV  Ekin = 0.194eV (T=1501K)  Etot = -0.006eV\n",
      "Energy per atom: Epot = -0.198eV  Ekin = 0.192eV (T=1489K)  Etot = -0.006eV\n",
      "Energy per atom: Epot = -0.197eV  Ekin = 0.192eV (T=1484K)  Etot = -0.005eV\n",
      "Energy per atom: Epot = -0.198eV  Ekin = 0.192eV (T=1488K)  Etot = -0.005eV\n",
      "Energy per atom: Epot = -0.200eV  Ekin = 0.194eV (T=1501K)  Etot = -0.006eV\n",
      "Energy per atom: Epot = -0.203eV  Ekin = 0.197eV (T=1524K)  Etot = -0.006eV\n",
      "Energy per atom: Epot = -0.208eV  Ekin = 0.201eV (T=1552K)  Etot = -0.007eV\n",
      "Energy per atom: Epot = -0.212eV  Ekin = 0.204eV (T=1582K)  Etot = -0.008eV\n",
      "Energy per atom: Epot = -0.216eV  Ekin = 0.208eV (T=1610K)  Etot = -0.008eV\n",
      "Energy per atom: Epot = -0.220eV  Ekin = 0.211eV (T=1634K)  Etot = -0.009eV\n",
      "Energy per atom: Epot = -0.222eV  Ekin = 0.213eV (T=1646K)  Etot = -0.009eV\n",
      "Energy per atom: Epot = -0.221eV  Ekin = 0.212eV (T=1642K)  Etot = -0.009eV\n",
      "Energy per atom: Epot = -0.219eV  Ekin = 0.210eV (T=1624K)  Etot = -0.009eV\n",
      "Energy per atom: Epot = -0.217eV  Ekin = 0.207eV (T=1604K)  Etot = -0.009eV\n",
      "Energy per atom: Epot = -0.216eV  Ekin = 0.207eV (T=1598K)  Etot = -0.010eV\n",
      "Energy per atom: Epot = -0.218eV  Ekin = 0.208eV (T=1608K)  Etot = -0.010eV\n",
      "Energy per atom: Epot = -0.220eV  Ekin = 0.210eV (T=1624K)  Etot = -0.010eV\n",
      "Energy per atom: Epot = -0.221eV  Ekin = 0.211eV (T=1632K)  Etot = -0.010eV\n",
      "Energy per atom: Epot = -0.220eV  Ekin = 0.210eV (T=1624K)  Etot = -0.010eV\n",
      "Energy per atom: Epot = -0.217eV  Ekin = 0.207eV (T=1603K)  Etot = -0.010eV\n",
      "Energy per atom: Epot = -0.214eV  Ekin = 0.204eV (T=1582K)  Etot = -0.010eV\n",
      "Energy per atom: Epot = -0.212eV  Ekin = 0.203eV (T=1569K)  Etot = -0.010eV\n",
      "Energy per atom: Epot = -0.212eV  Ekin = 0.203eV (T=1570K)  Etot = -0.009eV\n",
      "Energy per atom: Epot = -0.215eV  Ekin = 0.205eV (T=1590K)  Etot = -0.009eV\n",
      "Energy per atom: Epot = -0.221eV  Ekin = 0.212eV (T=1636K)  Etot = -0.009eV\n",
      "Energy per atom: Epot = -0.230eV  Ekin = 0.221eV (T=1711K)  Etot = -0.009eV\n",
      "Energy per atom: Epot = -0.241eV  Ekin = 0.232eV (T=1798K)  Etot = -0.008eV\n",
      "Energy per atom: Epot = -0.249eV  Ekin = 0.241eV (T=1866K)  Etot = -0.008eV\n",
      "Energy per atom: Epot = -0.252eV  Ekin = 0.245eV (T=1893K)  Etot = -0.008eV\n",
      "Energy per atom: Epot = -0.251eV  Ekin = 0.244eV (T=1886K)  Etot = -0.007eV\n",
      "Energy per atom: Epot = -0.249eV  Ekin = 0.242eV (T=1871K)  Etot = -0.007eV\n",
      "Energy per atom: Epot = -0.248eV  Ekin = 0.241eV (T=1864K)  Etot = -0.007eV\n",
      "Energy per atom: Epot = -0.248eV  Ekin = 0.241eV (T=1868K)  Etot = -0.007eV\n",
      "Energy per atom: Epot = -0.249eV  Ekin = 0.243eV (T=1876K)  Etot = -0.007eV\n",
      "Energy per atom: Epot = -0.250eV  Ekin = 0.243eV (T=1879K)  Etot = -0.007eV\n",
      "Energy per atom: Epot = -0.248eV  Ekin = 0.242eV (T=1869K)  Etot = -0.007eV\n",
      "Energy per atom: Epot = -0.245eV  Ekin = 0.238eV (T=1845K)  Etot = -0.006eV\n",
      "Energy per atom: Epot = -0.240eV  Ekin = 0.234eV (T=1813K)  Etot = -0.006eV\n",
      "Energy per atom: Epot = -0.236eV  Ekin = 0.230eV (T=1783K)  Etot = -0.006eV\n",
      "Energy per atom: Epot = -0.232eV  Ekin = 0.227eV (T=1759K)  Etot = -0.005eV\n",
      "Energy per atom: Epot = -0.228eV  Ekin = 0.225eV (T=1743K)  Etot = -0.003eV\n",
      "Energy per atom: Epot = -0.225eV  Ekin = 0.224eV (T=1732K)  Etot = -0.001eV\n",
      "Energy per atom: Epot = -0.222eV  Ekin = 0.224eV (T=1730K)  Etot = 0.001eV\n",
      "Energy per atom: Epot = -0.224eV  Ekin = 0.225eV (T=1741K)  Etot = 0.001eV\n",
      "Energy per atom: Epot = -0.227eV  Ekin = 0.227eV (T=1757K)  Etot = -0.000eV\n",
      "Energy per atom: Epot = -0.230eV  Ekin = 0.228eV (T=1763K)  Etot = -0.002eV\n"
     ]
    },
    {
     "name": "stdout",
     "output_type": "stream",
     "text": [
      "Energy per atom: Epot = -0.230eV  Ekin = 0.227eV (T=1755K)  Etot = -0.004eV\n",
      "Energy per atom: Epot = -0.230eV  Ekin = 0.225eV (T=1742K)  Etot = -0.004eV\n",
      "Energy per atom: Epot = -0.229eV  Ekin = 0.224eV (T=1733K)  Etot = -0.005eV\n",
      "Energy per atom: Epot = -0.229eV  Ekin = 0.224eV (T=1732K)  Etot = -0.006eV\n",
      "Energy per atom: Epot = -0.231eV  Ekin = 0.225eV (T=1738K)  Etot = -0.006eV\n",
      "Energy per atom: Epot = -0.233eV  Ekin = 0.226eV (T=1747K)  Etot = -0.007eV\n",
      "Energy per atom: Epot = -0.235eV  Ekin = 0.227eV (T=1757K)  Etot = -0.007eV\n",
      "Energy per atom: Epot = -0.236eV  Ekin = 0.228eV (T=1765K)  Etot = -0.008eV\n",
      "Energy per atom: Epot = -0.236eV  Ekin = 0.228eV (T=1766K)  Etot = -0.008eV\n",
      "Energy per atom: Epot = -0.235eV  Ekin = 0.227eV (T=1753K)  Etot = -0.008eV\n",
      "Energy per atom: Epot = -0.232eV  Ekin = 0.223eV (T=1729K)  Etot = -0.008eV\n",
      "Energy per atom: Epot = -0.229eV  Ekin = 0.221eV (T=1707K)  Etot = -0.009eV\n",
      "Energy per atom: Epot = -0.228eV  Ekin = 0.219eV (T=1698K)  Etot = -0.009eV\n",
      "Energy per atom: Epot = -0.229eV  Ekin = 0.220eV (T=1704K)  Etot = -0.009eV\n",
      "Energy per atom: Epot = -0.231eV  Ekin = 0.222eV (T=1716K)  Etot = -0.009eV\n",
      "Energy per atom: Epot = -0.231eV  Ekin = 0.222eV (T=1716K)  Etot = -0.009eV\n",
      "Energy per atom: Epot = -0.227eV  Ekin = 0.218eV (T=1687K)  Etot = -0.009eV\n",
      "Energy per atom: Epot = -0.220eV  Ekin = 0.211eV (T=1631K)  Etot = -0.009eV\n",
      "Energy per atom: Epot = -0.212eV  Ekin = 0.203eV (T=1568K)  Etot = -0.009eV\n",
      "Energy per atom: Epot = -0.205eV  Ekin = 0.195eV (T=1512K)  Etot = -0.009eV\n",
      "Energy per atom: Epot = -0.199eV  Ekin = 0.190eV (T=1466K)  Etot = -0.009eV\n",
      "Energy per atom: Epot = -0.195eV  Ekin = 0.186eV (T=1437K)  Etot = -0.010eV\n",
      "Energy per atom: Epot = -0.194eV  Ekin = 0.184eV (T=1425K)  Etot = -0.010eV\n",
      "Energy per atom: Epot = -0.194eV  Ekin = 0.184eV (T=1424K)  Etot = -0.010eV\n",
      "Energy per atom: Epot = -0.194eV  Ekin = 0.184eV (T=1423K)  Etot = -0.010eV\n",
      "Energy per atom: Epot = -0.194eV  Ekin = 0.184eV (T=1423K)  Etot = -0.010eV\n",
      "Energy per atom: Epot = -0.194eV  Ekin = 0.184eV (T=1426K)  Etot = -0.010eV\n",
      "Energy per atom: Epot = -0.195eV  Ekin = 0.186eV (T=1435K)  Etot = -0.010eV\n",
      "Energy per atom: Epot = -0.197eV  Ekin = 0.187eV (T=1450K)  Etot = -0.009eV\n",
      "Energy per atom: Epot = -0.198eV  Ekin = 0.190eV (T=1466K)  Etot = -0.009eV\n",
      "Energy per atom: Epot = -0.197eV  Ekin = 0.191eV (T=1476K)  Etot = -0.006eV\n",
      "Energy per atom: Epot = -0.191eV  Ekin = 0.189eV (T=1464K)  Etot = -0.001eV\n",
      "Energy per atom: Epot = -0.177eV  Ekin = 0.184eV (T=1424K)  Etot = 0.007eV\n",
      "Energy per atom: Epot = -0.172eV  Ekin = 0.184eV (T=1421K)  Etot = 0.011eV\n",
      "Energy per atom: Epot = -0.190eV  Ekin = 0.194eV (T=1501K)  Etot = 0.004eV\n",
      "Energy per atom: Epot = -0.205eV  Ekin = 0.202eV (T=1566K)  Etot = -0.002eV\n",
      "Energy per atom: Epot = -0.210eV  Ekin = 0.204eV (T=1580K)  Etot = -0.005eV\n",
      "Energy per atom: Epot = -0.209eV  Ekin = 0.202eV (T=1565K)  Etot = -0.007eV\n",
      "Energy per atom: Epot = -0.207eV  Ekin = 0.200eV (T=1544K)  Etot = -0.007eV\n",
      "Energy per atom: Epot = -0.205eV  Ekin = 0.197eV (T=1527K)  Etot = -0.008eV\n",
      "Energy per atom: Epot = -0.204eV  Ekin = 0.196eV (T=1517K)  Etot = -0.008eV\n",
      "Energy per atom: Epot = -0.203eV  Ekin = 0.195eV (T=1509K)  Etot = -0.008eV\n",
      "Energy per atom: Epot = -0.202eV  Ekin = 0.193eV (T=1497K)  Etot = -0.009eV\n",
      "Energy per atom: Epot = -0.200eV  Ekin = 0.191eV (T=1478K)  Etot = -0.009eV\n",
      "Energy per atom: Epot = -0.197eV  Ekin = 0.188eV (T=1453K)  Etot = -0.009eV\n",
      "Energy per atom: Epot = -0.194eV  Ekin = 0.184eV (T=1423K)  Etot = -0.010eV\n",
      "Energy per atom: Epot = -0.190eV  Ekin = 0.180eV (T=1394K)  Etot = -0.010eV\n",
      "Energy per atom: Epot = -0.187eV  Ekin = 0.177eV (T=1368K)  Etot = -0.010eV\n",
      "Energy per atom: Epot = -0.184eV  Ekin = 0.174eV (T=1347K)  Etot = -0.010eV\n",
      "Energy per atom: Epot = -0.182eV  Ekin = 0.172eV (T=1330K)  Etot = -0.010eV\n",
      "Energy per atom: Epot = -0.180eV  Ekin = 0.170eV (T=1313K)  Etot = -0.010eV\n",
      "Energy per atom: Epot = -0.177eV  Ekin = 0.167eV (T=1293K)  Etot = -0.010eV\n",
      "Energy per atom: Epot = -0.175eV  Ekin = 0.165eV (T=1273K)  Etot = -0.010eV\n",
      "Energy per atom: Epot = -0.173eV  Ekin = 0.162eV (T=1256K)  Etot = -0.010eV\n",
      "Energy per atom: Epot = -0.171eV  Ekin = 0.161eV (T=1249K)  Etot = -0.010eV\n",
      "Energy per atom: Epot = -0.172eV  Ekin = 0.162eV (T=1255K)  Etot = -0.010eV\n",
      "Energy per atom: Epot = -0.174eV  Ekin = 0.165eV (T=1276K)  Etot = -0.009eV\n",
      "Energy per atom: Epot = -0.176eV  Ekin = 0.169eV (T=1305K)  Etot = -0.008eV\n",
      "Energy per atom: Epot = -0.178eV  Ekin = 0.172eV (T=1334K)  Etot = -0.006eV\n",
      "Energy per atom: Epot = -0.178eV  Ekin = 0.175eV (T=1354K)  Etot = -0.003eV\n",
      "Energy per atom: Epot = -0.178eV  Ekin = 0.177eV (T=1370K)  Etot = -0.001eV\n",
      "Energy per atom: Epot = -0.182eV  Ekin = 0.181eV (T=1397K)  Etot = -0.001eV\n",
      "Energy per atom: Epot = -0.189eV  Ekin = 0.185eV (T=1431K)  Etot = -0.004eV\n",
      "Energy per atom: Epot = -0.195eV  Ekin = 0.189eV (T=1461K)  Etot = -0.006eV\n",
      "Energy per atom: Epot = -0.200eV  Ekin = 0.192eV (T=1485K)  Etot = -0.008eV\n",
      "Energy per atom: Epot = -0.203eV  Ekin = 0.195eV (T=1508K)  Etot = -0.008eV\n",
      "Energy per atom: Epot = -0.207eV  Ekin = 0.199eV (T=1536K)  Etot = -0.009eV\n",
      "Energy per atom: Epot = -0.212eV  Ekin = 0.203eV (T=1570K)  Etot = -0.009eV\n",
      "Energy per atom: Epot = -0.216eV  Ekin = 0.207eV (T=1603K)  Etot = -0.009eV\n",
      "Energy per atom: Epot = -0.219eV  Ekin = 0.210eV (T=1626K)  Etot = -0.009eV\n",
      "Energy per atom: Epot = -0.220eV  Ekin = 0.212eV (T=1637K)  Etot = -0.008eV\n",
      "Energy per atom: Epot = -0.220eV  Ekin = 0.212eV (T=1639K)  Etot = -0.008eV\n",
      "Energy per atom: Epot = -0.220eV  Ekin = 0.212eV (T=1643K)  Etot = -0.007eV\n",
      "Energy per atom: Epot = -0.221eV  Ekin = 0.214eV (T=1659K)  Etot = -0.007eV\n",
      "Energy per atom: Epot = -0.225eV  Ekin = 0.218eV (T=1690K)  Etot = -0.006eV\n",
      "Energy per atom: Epot = -0.229eV  Ekin = 0.223eV (T=1727K)  Etot = -0.006eV\n",
      "Energy per atom: Epot = -0.233eV  Ekin = 0.227eV (T=1752K)  Etot = -0.006eV\n",
      "Energy per atom: Epot = -0.234eV  Ekin = 0.227eV (T=1755K)  Etot = -0.007eV\n",
      "Energy per atom: Epot = -0.233eV  Ekin = 0.225eV (T=1740K)  Etot = -0.008eV\n",
      "Energy per atom: Epot = -0.231eV  Ekin = 0.222eV (T=1720K)  Etot = -0.008eV\n",
      "Energy per atom: Epot = -0.229eV  Ekin = 0.220eV (T=1703K)  Etot = -0.009eV\n",
      "Energy per atom: Epot = -0.227eV  Ekin = 0.218eV (T=1688K)  Etot = -0.009eV\n",
      "Energy per atom: Epot = -0.225eV  Ekin = 0.216eV (T=1670K)  Etot = -0.010eV\n",
      "Energy per atom: Epot = -0.223eV  Ekin = 0.213eV (T=1647K)  Etot = -0.010eV\n",
      "Energy per atom: Epot = -0.219eV  Ekin = 0.209eV (T=1618K)  Etot = -0.010eV\n",
      "Energy per atom: Epot = -0.215eV  Ekin = 0.205eV (T=1587K)  Etot = -0.010eV\n",
      "Energy per atom: Epot = -0.211eV  Ekin = 0.201eV (T=1554K)  Etot = -0.010eV\n",
      "Energy per atom: Epot = -0.206eV  Ekin = 0.196eV (T=1520K)  Etot = -0.010eV\n",
      "Energy per atom: Epot = -0.202eV  Ekin = 0.193eV (T=1491K)  Etot = -0.009eV\n",
      "Energy per atom: Epot = -0.200eV  Ekin = 0.191eV (T=1475K)  Etot = -0.009eV\n",
      "Energy per atom: Epot = -0.199eV  Ekin = 0.191eV (T=1477K)  Etot = -0.008eV\n",
      "Energy per atom: Epot = -0.201eV  Ekin = 0.193eV (T=1495K)  Etot = -0.008eV\n",
      "Energy per atom: Epot = -0.204eV  Ekin = 0.197eV (T=1525K)  Etot = -0.007eV\n",
      "Energy per atom: Epot = -0.208eV  Ekin = 0.201eV (T=1558K)  Etot = -0.006eV\n",
      "Energy per atom: Epot = -0.211eV  Ekin = 0.206eV (T=1591K)  Etot = -0.006eV\n",
      "Energy per atom: Epot = -0.215eV  Ekin = 0.209eV (T=1620K)  Etot = -0.006eV\n",
      "Energy per atom: Epot = -0.218eV  Ekin = 0.212eV (T=1641K)  Etot = -0.006eV\n",
      "Energy per atom: Epot = -0.220eV  Ekin = 0.214eV (T=1652K)  Etot = -0.006eV\n",
      "Energy per atom: Epot = -0.221eV  Ekin = 0.214eV (T=1655K)  Etot = -0.007eV\n",
      "Energy per atom: Epot = -0.221eV  Ekin = 0.214eV (T=1652K)  Etot = -0.008eV\n",
      "Energy per atom: Epot = -0.221eV  Ekin = 0.213eV (T=1645K)  Etot = -0.008eV\n",
      "Energy per atom: Epot = -0.220eV  Ekin = 0.211eV (T=1634K)  Etot = -0.009eV\n",
      "Energy per atom: Epot = -0.219eV  Ekin = 0.209eV (T=1621K)  Etot = -0.009eV\n",
      "Energy per atom: Epot = -0.217eV  Ekin = 0.208eV (T=1606K)  Etot = -0.010eV\n",
      "Energy per atom: Epot = -0.216eV  Ekin = 0.206eV (T=1592K)  Etot = -0.010eV\n",
      "Energy per atom: Epot = -0.214eV  Ekin = 0.204eV (T=1581K)  Etot = -0.010eV\n",
      "Energy per atom: Epot = -0.213eV  Ekin = 0.204eV (T=1575K)  Etot = -0.010eV\n",
      "Energy per atom: Epot = -0.214eV  Ekin = 0.204eV (T=1576K)  Etot = -0.010eV\n"
     ]
    },
    {
     "name": "stdout",
     "output_type": "stream",
     "text": [
      "Energy per atom: Epot = -0.214eV  Ekin = 0.205eV (T=1585K)  Etot = -0.009eV\n",
      "Energy per atom: Epot = -0.215eV  Ekin = 0.206eV (T=1597K)  Etot = -0.009eV\n",
      "Energy per atom: Epot = -0.215eV  Ekin = 0.208eV (T=1605K)  Etot = -0.008eV\n",
      "Energy per atom: Epot = -0.212eV  Ekin = 0.207eV (T=1601K)  Etot = -0.005eV\n",
      "Energy per atom: Epot = -0.204eV  Ekin = 0.203eV (T=1572K)  Etot = -0.000eV\n",
      "Energy per atom: Epot = -0.192eV  Ekin = 0.197eV (T=1527K)  Etot = 0.005eV\n",
      "Energy per atom: Epot = -0.185eV  Ekin = 0.193eV (T=1496K)  Etot = 0.008eV\n",
      "Energy per atom: Epot = -0.186eV  Ekin = 0.192eV (T=1488K)  Etot = 0.006eV\n",
      "Energy per atom: Epot = -0.186eV  Ekin = 0.190eV (T=1471K)  Etot = 0.005eV\n",
      "Energy per atom: Epot = -0.183eV  Ekin = 0.186eV (T=1443K)  Etot = 0.004eV\n",
      "Energy per atom: Epot = -0.182eV  Ekin = 0.184eV (T=1420K)  Etot = 0.002eV\n",
      "Energy per atom: Epot = -0.184eV  Ekin = 0.183eV (T=1413K)  Etot = -0.001eV\n",
      "Energy per atom: Epot = -0.188eV  Ekin = 0.183eV (T=1419K)  Etot = -0.004eV\n",
      "Energy per atom: Epot = -0.192eV  Ekin = 0.186eV (T=1437K)  Etot = -0.006eV\n",
      "Energy per atom: Epot = -0.197eV  Ekin = 0.189eV (T=1463K)  Etot = -0.008eV\n",
      "Energy per atom: Epot = -0.202eV  Ekin = 0.193eV (T=1493K)  Etot = -0.009eV\n",
      "Energy per atom: Epot = -0.207eV  Ekin = 0.197eV (T=1523K)  Etot = -0.010eV\n",
      "Energy per atom: Epot = -0.210eV  Ekin = 0.200eV (T=1548K)  Etot = -0.010eV\n",
      "Energy per atom: Epot = -0.213eV  Ekin = 0.202eV (T=1565K)  Etot = -0.010eV\n",
      "Energy per atom: Epot = -0.214eV  Ekin = 0.204eV (T=1578K)  Etot = -0.010eV\n",
      "Energy per atom: Epot = -0.216eV  Ekin = 0.206eV (T=1594K)  Etot = -0.010eV\n",
      "Energy per atom: Epot = -0.219eV  Ekin = 0.209eV (T=1618K)  Etot = -0.010eV\n",
      "Energy per atom: Epot = -0.222eV  Ekin = 0.213eV (T=1647K)  Etot = -0.009eV\n",
      "Energy per atom: Epot = -0.223eV  Ekin = 0.215eV (T=1665K)  Etot = -0.008eV\n",
      "Energy per atom: Epot = -0.220eV  Ekin = 0.214eV (T=1655K)  Etot = -0.006eV\n",
      "Energy per atom: Epot = -0.214eV  Ekin = 0.209eV (T=1616K)  Etot = -0.005eV\n",
      "Energy per atom: Epot = -0.207eV  Ekin = 0.202eV (T=1565K)  Etot = -0.005eV\n",
      "Energy per atom: Epot = -0.202eV  Ekin = 0.197eV (T=1521K)  Etot = -0.005eV\n",
      "Energy per atom: Epot = -0.200eV  Ekin = 0.193eV (T=1496K)  Etot = -0.006eV\n",
      "Energy per atom: Epot = -0.200eV  Ekin = 0.193eV (T=1490K)  Etot = -0.008eV\n",
      "Energy per atom: Epot = -0.202eV  Ekin = 0.194eV (T=1497K)  Etot = -0.009eV\n",
      "Energy per atom: Epot = -0.204eV  Ekin = 0.195eV (T=1508K)  Etot = -0.009eV\n",
      "Energy per atom: Epot = -0.205eV  Ekin = 0.195eV (T=1509K)  Etot = -0.010eV\n",
      "Energy per atom: Epot = -0.203eV  Ekin = 0.193eV (T=1495K)  Etot = -0.010eV\n",
      "Energy per atom: Epot = -0.200eV  Ekin = 0.190eV (T=1469K)  Etot = -0.010eV\n",
      "Energy per atom: Epot = -0.197eV  Ekin = 0.187eV (T=1444K)  Etot = -0.010eV\n",
      "Energy per atom: Epot = -0.195eV  Ekin = 0.185eV (T=1430K)  Etot = -0.010eV\n",
      "Energy per atom: Epot = -0.196eV  Ekin = 0.185eV (T=1435K)  Etot = -0.011eV\n",
      "Energy per atom: Epot = -0.199eV  Ekin = 0.188eV (T=1458K)  Etot = -0.011eV\n",
      "Energy per atom: Epot = -0.203eV  Ekin = 0.193eV (T=1490K)  Etot = -0.011eV\n",
      "Energy per atom: Epot = -0.207eV  Ekin = 0.196eV (T=1516K)  Etot = -0.011eV\n",
      "Energy per atom: Epot = -0.208eV  Ekin = 0.197eV (T=1527K)  Etot = -0.011eV\n",
      "Energy per atom: Epot = -0.207eV  Ekin = 0.196eV (T=1518K)  Etot = -0.011eV\n",
      "Energy per atom: Epot = -0.204eV  Ekin = 0.193eV (T=1493K)  Etot = -0.011eV\n",
      "Energy per atom: Epot = -0.200eV  Ekin = 0.189eV (T=1463K)  Etot = -0.010eV\n",
      "Energy per atom: Epot = -0.196eV  Ekin = 0.186eV (T=1435K)  Etot = -0.010eV\n",
      "Energy per atom: Epot = -0.193eV  Ekin = 0.183eV (T=1413K)  Etot = -0.010eV\n",
      "Energy per atom: Epot = -0.190eV  Ekin = 0.180eV (T=1395K)  Etot = -0.010eV\n",
      "Energy per atom: Epot = -0.188eV  Ekin = 0.178eV (T=1380K)  Etot = -0.010eV\n",
      "Energy per atom: Epot = -0.187eV  Ekin = 0.177eV (T=1371K)  Etot = -0.010eV\n",
      "Energy per atom: Epot = -0.186eV  Ekin = 0.177eV (T=1371K)  Etot = -0.009eV\n",
      "Energy per atom: Epot = -0.188eV  Ekin = 0.179eV (T=1385K)  Etot = -0.009eV\n",
      "Energy per atom: Epot = -0.191eV  Ekin = 0.183eV (T=1416K)  Etot = -0.008eV\n",
      "Energy per atom: Epot = -0.197eV  Ekin = 0.189eV (T=1461K)  Etot = -0.008eV\n",
      "Energy per atom: Epot = -0.203eV  Ekin = 0.196eV (T=1513K)  Etot = -0.008eV\n",
      "Energy per atom: Epot = -0.211eV  Ekin = 0.203eV (T=1570K)  Etot = -0.008eV\n",
      "Energy per atom: Epot = -0.219eV  Ekin = 0.211eV (T=1632K)  Etot = -0.008eV\n",
      "Energy per atom: Epot = -0.227eV  Ekin = 0.219eV (T=1696K)  Etot = -0.008eV\n",
      "Energy per atom: Epot = -0.235eV  Ekin = 0.227eV (T=1758K)  Etot = -0.008eV\n",
      "Energy per atom: Epot = -0.242eV  Ekin = 0.234eV (T=1809K)  Etot = -0.009eV\n",
      "Energy per atom: Epot = -0.247eV  Ekin = 0.238eV (T=1845K)  Etot = -0.009eV\n",
      "Energy per atom: Epot = -0.250eV  Ekin = 0.241eV (T=1864K)  Etot = -0.009eV\n",
      "Energy per atom: Epot = -0.251eV  Ekin = 0.242eV (T=1874K)  Etot = -0.009eV\n",
      "Energy per atom: Epot = -0.252eV  Ekin = 0.243eV (T=1881K)  Etot = -0.009eV\n",
      "Energy per atom: Epot = -0.252eV  Ekin = 0.243eV (T=1881K)  Etot = -0.009eV\n",
      "Energy per atom: Epot = -0.250eV  Ekin = 0.241eV (T=1866K)  Etot = -0.009eV\n",
      "Energy per atom: Epot = -0.246eV  Ekin = 0.237eV (T=1834K)  Etot = -0.009eV\n",
      "Energy per atom: Epot = -0.241eV  Ekin = 0.232eV (T=1796K)  Etot = -0.009eV\n",
      "Energy per atom: Epot = -0.237eV  Ekin = 0.228eV (T=1767K)  Etot = -0.009eV\n",
      "Energy per atom: Epot = -0.235eV  Ekin = 0.227eV (T=1756K)  Etot = -0.008eV\n",
      "Energy per atom: Epot = -0.236eV  Ekin = 0.228eV (T=1761K)  Etot = -0.008eV\n",
      "Energy per atom: Epot = -0.237eV  Ekin = 0.229eV (T=1772K)  Etot = -0.008eV\n",
      "Energy per atom: Epot = -0.239eV  Ekin = 0.230eV (T=1782K)  Etot = -0.008eV\n",
      "Energy per atom: Epot = -0.239eV  Ekin = 0.231eV (T=1788K)  Etot = -0.008eV\n",
      "Energy per atom: Epot = -0.241eV  Ekin = 0.232eV (T=1794K)  Etot = -0.009eV\n",
      "Energy per atom: Epot = -0.243eV  Ekin = 0.234eV (T=1808K)  Etot = -0.009eV\n",
      "Energy per atom: Epot = -0.246eV  Ekin = 0.237eV (T=1834K)  Etot = -0.009eV\n",
      "Energy per atom: Epot = -0.251eV  Ekin = 0.241eV (T=1868K)  Etot = -0.010eV\n",
      "Energy per atom: Epot = -0.256eV  Ekin = 0.246eV (T=1904K)  Etot = -0.010eV\n",
      "Energy per atom: Epot = -0.260eV  Ekin = 0.250eV (T=1934K)  Etot = -0.010eV\n",
      "Energy per atom: Epot = -0.262eV  Ekin = 0.253eV (T=1954K)  Etot = -0.010eV\n",
      "Energy per atom: Epot = -0.264eV  Ekin = 0.254eV (T=1962K)  Etot = -0.010eV\n",
      "Energy per atom: Epot = -0.263eV  Ekin = 0.253eV (T=1960K)  Etot = -0.010eV\n",
      "Energy per atom: Epot = -0.261eV  Ekin = 0.251eV (T=1943K)  Etot = -0.010eV\n",
      "Energy per atom: Epot = -0.256eV  Ekin = 0.246eV (T=1906K)  Etot = -0.010eV\n",
      "Energy per atom: Epot = -0.249eV  Ekin = 0.239eV (T=1851K)  Etot = -0.010eV\n",
      "Energy per atom: Epot = -0.242eV  Ekin = 0.232eV (T=1794K)  Etot = -0.010eV\n",
      "Energy per atom: Epot = -0.237eV  Ekin = 0.227eV (T=1756K)  Etot = -0.010eV\n",
      "Energy per atom: Epot = -0.235eV  Ekin = 0.225eV (T=1744K)  Etot = -0.010eV\n",
      "Energy per atom: Epot = -0.236eV  Ekin = 0.226eV (T=1748K)  Etot = -0.010eV\n",
      "Energy per atom: Epot = -0.236eV  Ekin = 0.227eV (T=1753K)  Etot = -0.009eV\n",
      "Energy per atom: Epot = -0.236eV  Ekin = 0.226eV (T=1751K)  Etot = -0.009eV\n",
      "Energy per atom: Epot = -0.234eV  Ekin = 0.225eV (T=1742K)  Etot = -0.009eV\n",
      "Energy per atom: Epot = -0.233eV  Ekin = 0.224eV (T=1732K)  Etot = -0.009eV\n",
      "Energy per atom: Epot = -0.231eV  Ekin = 0.223eV (T=1725K)  Etot = -0.008eV\n",
      "Energy per atom: Epot = -0.231eV  Ekin = 0.223eV (T=1724K)  Etot = -0.008eV\n",
      "Energy per atom: Epot = -0.231eV  Ekin = 0.224eV (T=1731K)  Etot = -0.008eV\n",
      "Energy per atom: Epot = -0.233eV  Ekin = 0.226eV (T=1749K)  Etot = -0.007eV\n",
      "Energy per atom: Epot = -0.237eV  Ekin = 0.230eV (T=1778K)  Etot = -0.007eV\n",
      "Energy per atom: Epot = -0.242eV  Ekin = 0.235eV (T=1819K)  Etot = -0.007eV\n",
      "Energy per atom: Epot = -0.249eV  Ekin = 0.242eV (T=1872K)  Etot = -0.007eV\n",
      "Energy per atom: Epot = -0.256eV  Ekin = 0.249eV (T=1926K)  Etot = -0.007eV\n",
      "Energy per atom: Epot = -0.262eV  Ekin = 0.254eV (T=1967K)  Etot = -0.007eV\n",
      "Energy per atom: Epot = -0.263eV  Ekin = 0.256eV (T=1980K)  Etot = -0.007eV\n",
      "Energy per atom: Epot = -0.260eV  Ekin = 0.254eV (T=1963K)  Etot = -0.007eV\n",
      "Energy per atom: Epot = -0.254eV  Ekin = 0.249eV (T=1923K)  Etot = -0.006eV\n",
      "Energy per atom: Epot = -0.246eV  Ekin = 0.242eV (T=1873K)  Etot = -0.004eV\n",
      "Energy per atom: Epot = -0.239eV  Ekin = 0.235eV (T=1819K)  Etot = -0.004eV\n"
     ]
    },
    {
     "name": "stdout",
     "output_type": "stream",
     "text": [
      "Energy per atom: Epot = -0.232eV  Ekin = 0.228eV (T=1766K)  Etot = -0.003eV\n",
      "Energy per atom: Epot = -0.225eV  Ekin = 0.221eV (T=1709K)  Etot = -0.004eV\n",
      "Energy per atom: Epot = -0.218eV  Ekin = 0.213eV (T=1645K)  Etot = -0.006eV\n",
      "Energy per atom: Epot = -0.211eV  Ekin = 0.204eV (T=1580K)  Etot = -0.007eV\n",
      "Energy per atom: Epot = -0.205eV  Ekin = 0.198eV (T=1529K)  Etot = -0.008eV\n",
      "Energy per atom: Epot = -0.202eV  Ekin = 0.194eV (T=1499K)  Etot = -0.008eV\n",
      "Energy per atom: Epot = -0.202eV  Ekin = 0.193eV (T=1492K)  Etot = -0.009eV\n",
      "Energy per atom: Epot = -0.203eV  Ekin = 0.194eV (T=1500K)  Etot = -0.009eV\n",
      "Energy per atom: Epot = -0.205eV  Ekin = 0.196eV (T=1515K)  Etot = -0.009eV\n",
      "Energy per atom: Epot = -0.207eV  Ekin = 0.199eV (T=1539K)  Etot = -0.009eV\n",
      "Energy per atom: Epot = -0.211eV  Ekin = 0.203eV (T=1571K)  Etot = -0.008eV\n",
      "Energy per atom: Epot = -0.216eV  Ekin = 0.208eV (T=1610K)  Etot = -0.008eV\n",
      "Energy per atom: Epot = -0.221eV  Ekin = 0.213eV (T=1647K)  Etot = -0.008eV\n",
      "Energy per atom: Epot = -0.224eV  Ekin = 0.216eV (T=1668K)  Etot = -0.008eV\n",
      "Energy per atom: Epot = -0.223eV  Ekin = 0.215eV (T=1665K)  Etot = -0.008eV\n",
      "Energy per atom: Epot = -0.221eV  Ekin = 0.213eV (T=1646K)  Etot = -0.008eV\n",
      "Energy per atom: Epot = -0.219eV  Ekin = 0.211eV (T=1630K)  Etot = -0.008eV\n",
      "Energy per atom: Epot = -0.218eV  Ekin = 0.210eV (T=1628K)  Etot = -0.008eV\n",
      "Energy per atom: Epot = -0.219eV  Ekin = 0.212eV (T=1637K)  Etot = -0.007eV\n",
      "Energy per atom: Epot = -0.218eV  Ekin = 0.212eV (T=1640K)  Etot = -0.006eV\n",
      "Energy per atom: Epot = -0.213eV  Ekin = 0.210eV (T=1621K)  Etot = -0.003eV\n",
      "Energy per atom: Epot = -0.204eV  Ekin = 0.204eV (T=1579K)  Etot = -0.000eV\n",
      "Energy per atom: Epot = -0.196eV  Ekin = 0.198eV (T=1533K)  Etot = 0.002eV\n",
      "Energy per atom: Epot = -0.191eV  Ekin = 0.194eV (T=1498K)  Etot = 0.003eV\n",
      "Energy per atom: Epot = -0.186eV  Ekin = 0.190eV (T=1470K)  Etot = 0.004eV\n",
      "Energy per atom: Epot = -0.182eV  Ekin = 0.186eV (T=1441K)  Etot = 0.005eV\n",
      "Energy per atom: Epot = -0.180eV  Ekin = 0.184eV (T=1423K)  Etot = 0.004eV\n",
      "Energy per atom: Epot = -0.183eV  Ekin = 0.184eV (T=1422K)  Etot = 0.001eV\n",
      "Energy per atom: Epot = -0.187eV  Ekin = 0.184eV (T=1424K)  Etot = -0.003eV\n",
      "Energy per atom: Epot = -0.189eV  Ekin = 0.184eV (T=1420K)  Etot = -0.005eV\n",
      "Energy per atom: Epot = -0.190eV  Ekin = 0.183eV (T=1416K)  Etot = -0.007eV\n",
      "Energy per atom: Epot = -0.191eV  Ekin = 0.184eV (T=1422K)  Etot = -0.007eV\n",
      "Energy per atom: Epot = -0.194eV  Ekin = 0.186eV (T=1442K)  Etot = -0.008eV\n",
      "Energy per atom: Epot = -0.198eV  Ekin = 0.190eV (T=1472K)  Etot = -0.008eV\n",
      "Energy per atom: Epot = -0.203eV  Ekin = 0.195eV (T=1506K)  Etot = -0.008eV\n",
      "Energy per atom: Epot = -0.207eV  Ekin = 0.198eV (T=1535K)  Etot = -0.008eV\n",
      "Energy per atom: Epot = -0.209eV  Ekin = 0.201eV (T=1554K)  Etot = -0.008eV\n",
      "Energy per atom: Epot = -0.211eV  Ekin = 0.203eV (T=1569K)  Etot = -0.008eV\n",
      "Energy per atom: Epot = -0.213eV  Ekin = 0.205eV (T=1586K)  Etot = -0.008eV\n",
      "Energy per atom: Epot = -0.216eV  Ekin = 0.208eV (T=1608K)  Etot = -0.008eV\n",
      "Energy per atom: Epot = -0.219eV  Ekin = 0.211eV (T=1634K)  Etot = -0.008eV\n",
      "Energy per atom: Epot = -0.222eV  Ekin = 0.214eV (T=1656K)  Etot = -0.008eV\n",
      "Energy per atom: Epot = -0.224eV  Ekin = 0.216eV (T=1668K)  Etot = -0.008eV\n",
      "Energy per atom: Epot = -0.224eV  Ekin = 0.215eV (T=1666K)  Etot = -0.008eV\n",
      "Energy per atom: Epot = -0.222eV  Ekin = 0.214eV (T=1654K)  Etot = -0.008eV\n",
      "Energy per atom: Epot = -0.220eV  Ekin = 0.212eV (T=1637K)  Etot = -0.008eV\n",
      "Energy per atom: Epot = -0.218eV  Ekin = 0.210eV (T=1621K)  Etot = -0.008eV\n",
      "Energy per atom: Epot = -0.215eV  Ekin = 0.208eV (T=1606K)  Etot = -0.007eV\n",
      "Energy per atom: Epot = -0.211eV  Ekin = 0.205eV (T=1584K)  Etot = -0.006eV\n",
      "Energy per atom: Epot = -0.203eV  Ekin = 0.200eV (T=1548K)  Etot = -0.003eV\n",
      "Energy per atom: Epot = -0.192eV  Ekin = 0.193eV (T=1494K)  Etot = 0.001eV\n",
      "Energy per atom: Epot = -0.182eV  Ekin = 0.186eV (T=1440K)  Etot = 0.004eV\n",
      "Energy per atom: Epot = -0.178eV  Ekin = 0.182eV (T=1410K)  Etot = 0.004eV\n",
      "Energy per atom: Epot = -0.179eV  Ekin = 0.181eV (T=1398K)  Etot = 0.002eV\n",
      "Energy per atom: Epot = -0.180eV  Ekin = 0.179eV (T=1383K)  Etot = -0.001eV\n",
      "Energy per atom: Epot = -0.179eV  Ekin = 0.176eV (T=1361K)  Etot = -0.003eV\n",
      "Energy per atom: Epot = -0.177eV  Ekin = 0.173eV (T=1336K)  Etot = -0.004eV\n",
      "Energy per atom: Epot = -0.176eV  Ekin = 0.170eV (T=1313K)  Etot = -0.006eV\n",
      "Energy per atom: Epot = -0.174eV  Ekin = 0.167eV (T=1295K)  Etot = -0.007eV\n",
      "Energy per atom: Epot = -0.173eV  Ekin = 0.166eV (T=1283K)  Etot = -0.007eV\n",
      "Energy per atom: Epot = -0.173eV  Ekin = 0.165eV (T=1278K)  Etot = -0.008eV\n",
      "Energy per atom: Epot = -0.173eV  Ekin = 0.165eV (T=1278K)  Etot = -0.008eV\n",
      "Energy per atom: Epot = -0.174eV  Ekin = 0.166eV (T=1283K)  Etot = -0.008eV\n",
      "Energy per atom: Epot = -0.174eV  Ekin = 0.167eV (T=1290K)  Etot = -0.007eV\n",
      "Energy per atom: Epot = -0.174eV  Ekin = 0.168eV (T=1298K)  Etot = -0.007eV\n",
      "Energy per atom: Epot = -0.174eV  Ekin = 0.169eV (T=1306K)  Etot = -0.006eV\n",
      "Energy per atom: Epot = -0.175eV  Ekin = 0.170eV (T=1319K)  Etot = -0.004eV\n",
      "Energy per atom: Epot = -0.177eV  Ekin = 0.173eV (T=1338K)  Etot = -0.004eV\n",
      "Energy per atom: Epot = -0.180eV  Ekin = 0.177eV (T=1367K)  Etot = -0.003eV\n",
      "Energy per atom: Epot = -0.184eV  Ekin = 0.181eV (T=1398K)  Etot = -0.003eV\n",
      "Energy per atom: Epot = -0.186eV  Ekin = 0.184eV (T=1421K)  Etot = -0.003eV\n",
      "Energy per atom: Epot = -0.186eV  Ekin = 0.185eV (T=1428K)  Etot = -0.002eV\n",
      "Energy per atom: Epot = -0.184eV  Ekin = 0.184eV (T=1426K)  Etot = -0.000eV\n",
      "Energy per atom: Epot = -0.185eV  Ekin = 0.185eV (T=1432K)  Etot = -0.000eV\n",
      "Energy per atom: Epot = -0.191eV  Ekin = 0.188eV (T=1456K)  Etot = -0.003eV\n",
      "Energy per atom: Epot = -0.198eV  Ekin = 0.192eV (T=1485K)  Etot = -0.006eV\n",
      "Energy per atom: Epot = -0.203eV  Ekin = 0.195eV (T=1512K)  Etot = -0.008eV\n",
      "Energy per atom: Epot = -0.208eV  Ekin = 0.199eV (T=1537K)  Etot = -0.009eV\n",
      "Energy per atom: Epot = -0.212eV  Ekin = 0.202eV (T=1562K)  Etot = -0.010eV\n",
      "Energy per atom: Epot = -0.215eV  Ekin = 0.205eV (T=1585K)  Etot = -0.011eV\n",
      "Energy per atom: Epot = -0.218eV  Ekin = 0.207eV (T=1602K)  Etot = -0.011eV\n",
      "Energy per atom: Epot = -0.219eV  Ekin = 0.208eV (T=1612K)  Etot = -0.011eV\n",
      "Energy per atom: Epot = -0.221eV  Ekin = 0.210eV (T=1621K)  Etot = -0.011eV\n",
      "Energy per atom: Epot = -0.222eV  Ekin = 0.211eV (T=1635K)  Etot = -0.011eV\n",
      "Energy per atom: Epot = -0.224eV  Ekin = 0.213eV (T=1648K)  Etot = -0.011eV\n",
      "Energy per atom: Epot = -0.224eV  Ekin = 0.213eV (T=1649K)  Etot = -0.011eV\n",
      "Energy per atom: Epot = -0.222eV  Ekin = 0.211eV (T=1629K)  Etot = -0.011eV\n",
      "Energy per atom: Epot = -0.217eV  Ekin = 0.206eV (T=1593K)  Etot = -0.011eV\n",
      "Energy per atom: Epot = -0.212eV  Ekin = 0.201eV (T=1556K)  Etot = -0.011eV\n",
      "Energy per atom: Epot = -0.209eV  Ekin = 0.198eV (T=1528K)  Etot = -0.011eV\n",
      "Energy per atom: Epot = -0.206eV  Ekin = 0.195eV (T=1507K)  Etot = -0.011eV\n",
      "Energy per atom: Epot = -0.203eV  Ekin = 0.192eV (T=1485K)  Etot = -0.011eV\n",
      "Energy per atom: Epot = -0.200eV  Ekin = 0.189eV (T=1459K)  Etot = -0.011eV\n",
      "Energy per atom: Epot = -0.197eV  Ekin = 0.186eV (T=1439K)  Etot = -0.011eV\n",
      "Energy per atom: Epot = -0.196eV  Ekin = 0.185eV (T=1430K)  Etot = -0.011eV\n",
      "Energy per atom: Epot = -0.196eV  Ekin = 0.185eV (T=1428K)  Etot = -0.011eV\n",
      "Energy per atom: Epot = -0.195eV  Ekin = 0.184eV (T=1422K)  Etot = -0.011eV\n",
      "Energy per atom: Epot = -0.193eV  Ekin = 0.182eV (T=1406K)  Etot = -0.011eV\n",
      "Energy per atom: Epot = -0.190eV  Ekin = 0.179eV (T=1387K)  Etot = -0.011eV\n",
      "Energy per atom: Epot = -0.188eV  Ekin = 0.177eV (T=1370K)  Etot = -0.011eV\n",
      "Energy per atom: Epot = -0.186eV  Ekin = 0.175eV (T=1356K)  Etot = -0.011eV\n",
      "Energy per atom: Epot = -0.184eV  Ekin = 0.173eV (T=1338K)  Etot = -0.011eV\n",
      "Energy per atom: Epot = -0.181eV  Ekin = 0.170eV (T=1316K)  Etot = -0.011eV\n",
      "Energy per atom: Epot = -0.178eV  Ekin = 0.167eV (T=1292K)  Etot = -0.011eV\n",
      "Energy per atom: Epot = -0.175eV  Ekin = 0.164eV (T=1271K)  Etot = -0.011eV\n",
      "Energy per atom: Epot = -0.173eV  Ekin = 0.162eV (T=1255K)  Etot = -0.011eV\n",
      "Energy per atom: Epot = -0.172eV  Ekin = 0.161eV (T=1246K)  Etot = -0.011eV\n",
      "Energy per atom: Epot = -0.172eV  Ekin = 0.161eV (T=1244K)  Etot = -0.011eV\n"
     ]
    },
    {
     "name": "stdout",
     "output_type": "stream",
     "text": [
      "Energy per atom: Epot = -0.173eV  Ekin = 0.162eV (T=1251K)  Etot = -0.011eV\n",
      "Energy per atom: Epot = -0.175eV  Ekin = 0.164eV (T=1266K)  Etot = -0.011eV\n",
      "Energy per atom: Epot = -0.178eV  Ekin = 0.167eV (T=1289K)  Etot = -0.011eV\n",
      "Energy per atom: Epot = -0.182eV  Ekin = 0.171eV (T=1321K)  Etot = -0.011eV\n",
      "Energy per atom: Epot = -0.187eV  Ekin = 0.176eV (T=1360K)  Etot = -0.011eV\n",
      "Energy per atom: Epot = -0.192eV  Ekin = 0.181eV (T=1403K)  Etot = -0.011eV\n",
      "Energy per atom: Epot = -0.198eV  Ekin = 0.187eV (T=1444K)  Etot = -0.011eV\n",
      "Energy per atom: Epot = -0.202eV  Ekin = 0.191eV (T=1477K)  Etot = -0.011eV\n",
      "Energy per atom: Epot = -0.205eV  Ekin = 0.194eV (T=1498K)  Etot = -0.011eV\n",
      "Energy per atom: Epot = -0.206eV  Ekin = 0.195eV (T=1510K)  Etot = -0.011eV\n",
      "Energy per atom: Epot = -0.208eV  Ekin = 0.197eV (T=1524K)  Etot = -0.011eV\n",
      "Energy per atom: Epot = -0.211eV  Ekin = 0.200eV (T=1547K)  Etot = -0.011eV\n",
      "Energy per atom: Epot = -0.215eV  Ekin = 0.204eV (T=1581K)  Etot = -0.011eV\n",
      "Energy per atom: Epot = -0.220eV  Ekin = 0.209eV (T=1617K)  Etot = -0.011eV\n",
      "Energy per atom: Epot = -0.224eV  Ekin = 0.212eV (T=1643K)  Etot = -0.011eV\n",
      "Energy per atom: Epot = -0.225eV  Ekin = 0.214eV (T=1652K)  Etot = -0.011eV\n",
      "Energy per atom: Epot = -0.224eV  Ekin = 0.213eV (T=1645K)  Etot = -0.011eV\n",
      "Energy per atom: Epot = -0.222eV  Ekin = 0.210eV (T=1628K)  Etot = -0.011eV\n",
      "Energy per atom: Epot = -0.220eV  Ekin = 0.208eV (T=1613K)  Etot = -0.011eV\n",
      "Energy per atom: Epot = -0.218eV  Ekin = 0.207eV (T=1603K)  Etot = -0.011eV\n",
      "Energy per atom: Epot = -0.218eV  Ekin = 0.207eV (T=1599K)  Etot = -0.011eV\n",
      "Energy per atom: Epot = -0.217eV  Ekin = 0.206eV (T=1595K)  Etot = -0.011eV\n",
      "Energy per atom: Epot = -0.215eV  Ekin = 0.205eV (T=1583K)  Etot = -0.011eV\n",
      "Energy per atom: Epot = -0.212eV  Ekin = 0.201eV (T=1557K)  Etot = -0.011eV\n",
      "Energy per atom: Epot = -0.207eV  Ekin = 0.197eV (T=1521K)  Etot = -0.010eV\n",
      "Energy per atom: Epot = -0.202eV  Ekin = 0.192eV (T=1483K)  Etot = -0.010eV\n",
      "Energy per atom: Epot = -0.198eV  Ekin = 0.188eV (T=1454K)  Etot = -0.010eV\n",
      "Energy per atom: Epot = -0.196eV  Ekin = 0.186eV (T=1441K)  Etot = -0.010eV\n",
      "Energy per atom: Epot = -0.196eV  Ekin = 0.187eV (T=1445K)  Etot = -0.009eV\n",
      "Energy per atom: Epot = -0.198eV  Ekin = 0.189eV (T=1464K)  Etot = -0.009eV\n",
      "Energy per atom: Epot = -0.201eV  Ekin = 0.193eV (T=1490K)  Etot = -0.008eV\n",
      "Energy per atom: Epot = -0.203eV  Ekin = 0.195eV (T=1509K)  Etot = -0.008eV\n",
      "Energy per atom: Epot = -0.203eV  Ekin = 0.196eV (T=1513K)  Etot = -0.007eV\n",
      "Energy per atom: Epot = -0.201eV  Ekin = 0.194eV (T=1501K)  Etot = -0.007eV\n",
      "Energy per atom: Epot = -0.199eV  Ekin = 0.192eV (T=1486K)  Etot = -0.007eV\n",
      "Energy per atom: Epot = -0.199eV  Ekin = 0.191eV (T=1480K)  Etot = -0.008eV\n",
      "Energy per atom: Epot = -0.201eV  Ekin = 0.193eV (T=1491K)  Etot = -0.008eV\n",
      "Energy per atom: Epot = -0.205eV  Ekin = 0.196eV (T=1519K)  Etot = -0.009eV\n",
      "Energy per atom: Epot = -0.211eV  Ekin = 0.202eV (T=1562K)  Etot = -0.009eV\n",
      "Energy per atom: Epot = -0.218eV  Ekin = 0.209eV (T=1615K)  Etot = -0.010eV\n",
      "Energy per atom: Epot = -0.226eV  Ekin = 0.216eV (T=1672K)  Etot = -0.010eV\n",
      "Energy per atom: Epot = -0.234eV  Ekin = 0.223eV (T=1728K)  Etot = -0.010eV\n",
      "Energy per atom: Epot = -0.241eV  Ekin = 0.230eV (T=1782K)  Etot = -0.011eV\n",
      "Energy per atom: Epot = -0.248eV  Ekin = 0.237eV (T=1834K)  Etot = -0.011eV\n",
      "Energy per atom: Epot = -0.254eV  Ekin = 0.243eV (T=1879K)  Etot = -0.011eV\n",
      "Energy per atom: Epot = -0.257eV  Ekin = 0.247eV (T=1907K)  Etot = -0.011eV\n",
      "Energy per atom: Epot = -0.259eV  Ekin = 0.248eV (T=1915K)  Etot = -0.011eV\n",
      "Energy per atom: Epot = -0.258eV  Ekin = 0.247eV (T=1907K)  Etot = -0.011eV\n",
      "Energy per atom: Epot = -0.256eV  Ekin = 0.245eV (T=1896K)  Etot = -0.011eV\n",
      "Energy per atom: Epot = -0.255eV  Ekin = 0.244eV (T=1889K)  Etot = -0.011eV\n",
      "Energy per atom: Epot = -0.255eV  Ekin = 0.244eV (T=1889K)  Etot = -0.011eV\n",
      "Energy per atom: Epot = -0.255eV  Ekin = 0.244eV (T=1887K)  Etot = -0.011eV\n",
      "Energy per atom: Epot = -0.253eV  Ekin = 0.243eV (T=1877K)  Etot = -0.010eV\n",
      "Energy per atom: Epot = -0.249eV  Ekin = 0.240eV (T=1854K)  Etot = -0.010eV\n",
      "Energy per atom: Epot = -0.244eV  Ekin = 0.235eV (T=1821K)  Etot = -0.008eV\n",
      "Energy per atom: Epot = -0.235eV  Ekin = 0.229eV (T=1774K)  Etot = -0.006eV\n",
      "Energy per atom: Epot = -0.223eV  Ekin = 0.221eV (T=1713K)  Etot = -0.002eV\n",
      "Energy per atom: Epot = -0.212eV  Ekin = 0.214eV (T=1654K)  Etot = 0.002eV\n",
      "Energy per atom: Epot = -0.209eV  Ekin = 0.210eV (T=1627K)  Etot = 0.001eV\n",
      "Energy per atom: Epot = -0.213eV  Ekin = 0.210eV (T=1622K)  Etot = -0.003eV\n",
      "Energy per atom: Epot = -0.214eV  Ekin = 0.207eV (T=1600K)  Etot = -0.007eV\n",
      "Energy per atom: Epot = -0.210eV  Ekin = 0.201eV (T=1557K)  Etot = -0.009eV\n",
      "Energy per atom: Epot = -0.205eV  Ekin = 0.195eV (T=1506K)  Etot = -0.010eV\n",
      "Energy per atom: Epot = -0.200eV  Ekin = 0.189eV (T=1463K)  Etot = -0.011eV\n",
      "Energy per atom: Epot = -0.196eV  Ekin = 0.186eV (T=1436K)  Etot = -0.011eV\n",
      "Energy per atom: Epot = -0.196eV  Ekin = 0.185eV (T=1429K)  Etot = -0.011eV\n",
      "Energy per atom: Epot = -0.197eV  Ekin = 0.186eV (T=1437K)  Etot = -0.011eV\n",
      "Energy per atom: Epot = -0.199eV  Ekin = 0.188eV (T=1452K)  Etot = -0.011eV\n",
      "Energy per atom: Epot = -0.200eV  Ekin = 0.189eV (T=1463K)  Etot = -0.011eV\n",
      "Energy per atom: Epot = -0.200eV  Ekin = 0.189eV (T=1465K)  Etot = -0.011eV\n",
      "Energy per atom: Epot = -0.200eV  Ekin = 0.189eV (T=1462K)  Etot = -0.011eV\n",
      "Energy per atom: Epot = -0.200eV  Ekin = 0.189eV (T=1460K)  Etot = -0.011eV\n",
      "Energy per atom: Epot = -0.200eV  Ekin = 0.189eV (T=1466K)  Etot = -0.011eV\n",
      "Energy per atom: Epot = -0.202eV  Ekin = 0.192eV (T=1483K)  Etot = -0.011eV\n",
      "Energy per atom: Epot = -0.206eV  Ekin = 0.195eV (T=1512K)  Etot = -0.011eV\n",
      "Energy per atom: Epot = -0.210eV  Ekin = 0.200eV (T=1547K)  Etot = -0.010eV\n",
      "Energy per atom: Epot = -0.214eV  Ekin = 0.204eV (T=1579K)  Etot = -0.010eV\n",
      "Energy per atom: Epot = -0.216eV  Ekin = 0.207eV (T=1601K)  Etot = -0.009eV\n",
      "Energy per atom: Epot = -0.213eV  Ekin = 0.207eV (T=1602K)  Etot = -0.006eV\n",
      "Energy per atom: Epot = -0.203eV  Ekin = 0.203eV (T=1571K)  Etot = -0.000eV\n",
      "Energy per atom: Epot = -0.190eV  Ekin = 0.197eV (T=1522K)  Etot = 0.007eV\n",
      "Energy per atom: Epot = -0.192eV  Ekin = 0.198eV (T=1528K)  Etot = 0.006eV\n",
      "Energy per atom: Epot = -0.206eV  Ekin = 0.204eV (T=1581K)  Etot = -0.002eV\n",
      "Energy per atom: Epot = -0.215eV  Ekin = 0.208eV (T=1608K)  Etot = -0.007eV\n",
      "Energy per atom: Epot = -0.216eV  Ekin = 0.207eV (T=1599K)  Etot = -0.009eV\n",
      "Energy per atom: Epot = -0.213eV  Ekin = 0.203eV (T=1569K)  Etot = -0.010eV\n",
      "Energy per atom: Epot = -0.208eV  Ekin = 0.198eV (T=1530K)  Etot = -0.011eV\n",
      "Energy per atom: Epot = -0.203eV  Ekin = 0.192eV (T=1489K)  Etot = -0.011eV\n",
      "Energy per atom: Epot = -0.198eV  Ekin = 0.188eV (T=1452K)  Etot = -0.011eV\n",
      "Energy per atom: Epot = -0.195eV  Ekin = 0.184eV (T=1422K)  Etot = -0.011eV\n",
      "Energy per atom: Epot = -0.192eV  Ekin = 0.181eV (T=1402K)  Etot = -0.011eV\n",
      "Energy per atom: Epot = -0.190eV  Ekin = 0.180eV (T=1390K)  Etot = -0.011eV\n",
      "Energy per atom: Epot = -0.189eV  Ekin = 0.179eV (T=1382K)  Etot = -0.011eV\n",
      "Energy per atom: Epot = -0.189eV  Ekin = 0.178eV (T=1376K)  Etot = -0.011eV\n",
      "Energy per atom: Epot = -0.188eV  Ekin = 0.177eV (T=1373K)  Etot = -0.011eV\n",
      "Energy per atom: Epot = -0.188eV  Ekin = 0.177eV (T=1372K)  Etot = -0.011eV\n",
      "Energy per atom: Epot = -0.188eV  Ekin = 0.178eV (T=1374K)  Etot = -0.011eV\n",
      "Energy per atom: Epot = -0.189eV  Ekin = 0.179eV (T=1381K)  Etot = -0.011eV\n",
      "Energy per atom: Epot = -0.191eV  Ekin = 0.180eV (T=1395K)  Etot = -0.011eV\n",
      "Energy per atom: Epot = -0.194eV  Ekin = 0.183eV (T=1416K)  Etot = -0.011eV\n",
      "Energy per atom: Epot = -0.197eV  Ekin = 0.186eV (T=1439K)  Etot = -0.011eV\n",
      "Energy per atom: Epot = -0.200eV  Ekin = 0.189eV (T=1462K)  Etot = -0.011eV\n",
      "Energy per atom: Epot = -0.203eV  Ekin = 0.192eV (T=1484K)  Etot = -0.011eV\n",
      "Energy per atom: Epot = -0.206eV  Ekin = 0.195eV (T=1508K)  Etot = -0.011eV\n",
      "Energy per atom: Epot = -0.210eV  Ekin = 0.199eV (T=1536K)  Etot = -0.011eV\n",
      "Energy per atom: Epot = -0.214eV  Ekin = 0.203eV (T=1572K)  Etot = -0.011eV\n",
      "Energy per atom: Epot = -0.219eV  Ekin = 0.208eV (T=1609K)  Etot = -0.011eV\n",
      "Energy per atom: Epot = -0.223eV  Ekin = 0.212eV (T=1640K)  Etot = -0.011eV\n"
     ]
    },
    {
     "name": "stdout",
     "output_type": "stream",
     "text": [
      "Energy per atom: Epot = -0.226eV  Ekin = 0.214eV (T=1659K)  Etot = -0.011eV\n",
      "Energy per atom: Epot = -0.227eV  Ekin = 0.216eV (T=1671K)  Etot = -0.011eV\n",
      "Energy per atom: Epot = -0.229eV  Ekin = 0.218eV (T=1683K)  Etot = -0.011eV\n",
      "Energy per atom: Epot = -0.230eV  Ekin = 0.219eV (T=1697K)  Etot = -0.011eV\n",
      "Energy per atom: Epot = -0.232eV  Ekin = 0.221eV (T=1709K)  Etot = -0.011eV\n",
      "Energy per atom: Epot = -0.231eV  Ekin = 0.220eV (T=1705K)  Etot = -0.011eV\n",
      "Energy per atom: Epot = -0.228eV  Ekin = 0.217eV (T=1677K)  Etot = -0.011eV\n",
      "Energy per atom: Epot = -0.221eV  Ekin = 0.210eV (T=1623K)  Etot = -0.011eV\n",
      "Energy per atom: Epot = -0.212eV  Ekin = 0.201eV (T=1557K)  Etot = -0.011eV\n",
      "Energy per atom: Epot = -0.204eV  Ekin = 0.194eV (T=1498K)  Etot = -0.011eV\n",
      "Energy per atom: Epot = -0.199eV  Ekin = 0.188eV (T=1457K)  Etot = -0.011eV\n",
      "Energy per atom: Epot = -0.196eV  Ekin = 0.186eV (T=1436K)  Etot = -0.010eV\n",
      "Energy per atom: Epot = -0.195eV  Ekin = 0.185eV (T=1429K)  Etot = -0.010eV\n",
      "Energy per atom: Epot = -0.195eV  Ekin = 0.185eV (T=1432K)  Etot = -0.010eV\n",
      "Energy per atom: Epot = -0.195eV  Ekin = 0.186eV (T=1439K)  Etot = -0.009eV\n",
      "Energy per atom: Epot = -0.195eV  Ekin = 0.187eV (T=1448K)  Etot = -0.008eV\n",
      "Energy per atom: Epot = -0.195eV  Ekin = 0.188eV (T=1455K)  Etot = -0.007eV\n",
      "Energy per atom: Epot = -0.193eV  Ekin = 0.189eV (T=1459K)  Etot = -0.005eV\n",
      "Energy per atom: Epot = -0.191eV  Ekin = 0.188eV (T=1458K)  Etot = -0.002eV\n",
      "Energy per atom: Epot = -0.188eV  Ekin = 0.188eV (T=1454K)  Etot = 0.000eV\n",
      "Energy per atom: Epot = -0.187eV  Ekin = 0.188eV (T=1453K)  Etot = 0.001eV\n",
      "Energy per atom: Epot = -0.189eV  Ekin = 0.189eV (T=1459K)  Etot = 0.000eV\n",
      "Energy per atom: Epot = -0.192eV  Ekin = 0.189eV (T=1465K)  Etot = -0.003eV\n",
      "Energy per atom: Epot = -0.194eV  Ekin = 0.189eV (T=1460K)  Etot = -0.005eV\n",
      "Energy per atom: Epot = -0.194eV  Ekin = 0.187eV (T=1447K)  Etot = -0.007eV\n",
      "Energy per atom: Epot = -0.193eV  Ekin = 0.185eV (T=1431K)  Etot = -0.008eV\n",
      "Energy per atom: Epot = -0.193eV  Ekin = 0.184eV (T=1421K)  Etot = -0.009eV\n",
      "Energy per atom: Epot = -0.193eV  Ekin = 0.183eV (T=1419K)  Etot = -0.009eV\n",
      "Energy per atom: Epot = -0.195eV  Ekin = 0.185eV (T=1429K)  Etot = -0.010eV\n",
      "Energy per atom: Epot = -0.198eV  Ekin = 0.188eV (T=1451K)  Etot = -0.010eV\n",
      "Energy per atom: Epot = -0.202eV  Ekin = 0.192eV (T=1483K)  Etot = -0.010eV\n",
      "Energy per atom: Epot = -0.207eV  Ekin = 0.197eV (T=1524K)  Etot = -0.010eV\n",
      "Energy per atom: Epot = -0.213eV  Ekin = 0.203eV (T=1567K)  Etot = -0.011eV\n",
      "Energy per atom: Epot = -0.218eV  Ekin = 0.208eV (T=1607K)  Etot = -0.011eV\n",
      "Energy per atom: Epot = -0.223eV  Ekin = 0.212eV (T=1641K)  Etot = -0.011eV\n",
      "Energy per atom: Epot = -0.226eV  Ekin = 0.215eV (T=1663K)  Etot = -0.011eV\n",
      "Energy per atom: Epot = -0.227eV  Ekin = 0.216eV (T=1669K)  Etot = -0.011eV\n",
      "Energy per atom: Epot = -0.226eV  Ekin = 0.215eV (T=1662K)  Etot = -0.011eV\n",
      "Energy per atom: Epot = -0.224eV  Ekin = 0.213eV (T=1650K)  Etot = -0.011eV\n",
      "Energy per atom: Epot = -0.224eV  Ekin = 0.213eV (T=1645K)  Etot = -0.011eV\n",
      "Energy per atom: Epot = -0.225eV  Ekin = 0.214eV (T=1658K)  Etot = -0.011eV\n",
      "Energy per atom: Epot = -0.230eV  Ekin = 0.219eV (T=1691K)  Etot = -0.011eV\n",
      "Energy per atom: Epot = -0.235eV  Ekin = 0.224eV (T=1734K)  Etot = -0.011eV\n",
      "Energy per atom: Epot = -0.241eV  Ekin = 0.230eV (T=1779K)  Etot = -0.011eV\n",
      "Energy per atom: Epot = -0.246eV  Ekin = 0.235eV (T=1815K)  Etot = -0.011eV\n",
      "Energy per atom: Epot = -0.249eV  Ekin = 0.238eV (T=1838K)  Etot = -0.011eV\n",
      "Energy per atom: Epot = -0.249eV  Ekin = 0.238eV (T=1843K)  Etot = -0.011eV\n",
      "Energy per atom: Epot = -0.247eV  Ekin = 0.236eV (T=1826K)  Etot = -0.011eV\n",
      "Energy per atom: Epot = -0.242eV  Ekin = 0.231eV (T=1787K)  Etot = -0.011eV\n",
      "Energy per atom: Epot = -0.235eV  Ekin = 0.224eV (T=1731K)  Etot = -0.011eV\n",
      "Energy per atom: Epot = -0.227eV  Ekin = 0.216eV (T=1669K)  Etot = -0.011eV\n",
      "Energy per atom: Epot = -0.219eV  Ekin = 0.208eV (T=1611K)  Etot = -0.011eV\n",
      "Energy per atom: Epot = -0.213eV  Ekin = 0.202eV (T=1563K)  Etot = -0.011eV\n",
      "Energy per atom: Epot = -0.208eV  Ekin = 0.197eV (T=1524K)  Etot = -0.011eV\n",
      "Energy per atom: Epot = -0.204eV  Ekin = 0.193eV (T=1490K)  Etot = -0.011eV\n",
      "Energy per atom: Epot = -0.199eV  Ekin = 0.188eV (T=1458K)  Etot = -0.011eV\n",
      "Energy per atom: Epot = -0.195eV  Ekin = 0.184eV (T=1423K)  Etot = -0.011eV\n",
      "Energy per atom: Epot = -0.190eV  Ekin = 0.179eV (T=1384K)  Etot = -0.011eV\n",
      "Energy per atom: Epot = -0.185eV  Ekin = 0.174eV (T=1345K)  Etot = -0.011eV\n",
      "Energy per atom: Epot = -0.180eV  Ekin = 0.169eV (T=1308K)  Etot = -0.011eV\n",
      "Energy per atom: Epot = -0.176eV  Ekin = 0.165eV (T=1278K)  Etot = -0.011eV\n",
      "Energy per atom: Epot = -0.173eV  Ekin = 0.162eV (T=1256K)  Etot = -0.011eV\n",
      "Energy per atom: Epot = -0.171eV  Ekin = 0.161eV (T=1243K)  Etot = -0.011eV\n",
      "Energy per atom: Epot = -0.171eV  Ekin = 0.160eV (T=1237K)  Etot = -0.011eV\n",
      "Energy per atom: Epot = -0.171eV  Ekin = 0.161eV (T=1243K)  Etot = -0.010eV\n",
      "Energy per atom: Epot = -0.173eV  Ekin = 0.163eV (T=1261K)  Etot = -0.010eV\n",
      "Energy per atom: Epot = -0.177eV  Ekin = 0.167eV (T=1295K)  Etot = -0.009eV\n",
      "Energy per atom: Epot = -0.181eV  Ekin = 0.173eV (T=1340K)  Etot = -0.008eV\n",
      "Energy per atom: Epot = -0.185eV  Ekin = 0.180eV (T=1389K)  Etot = -0.006eV\n",
      "Energy per atom: Epot = -0.187eV  Ekin = 0.185eV (T=1431K)  Etot = -0.002eV\n",
      "Energy per atom: Epot = -0.185eV  Ekin = 0.189eV (T=1463K)  Etot = 0.004eV\n",
      "Energy per atom: Epot = -0.190eV  Ekin = 0.196eV (T=1513K)  Etot = 0.005eV\n",
      "Energy per atom: Epot = -0.205eV  Ekin = 0.206eV (T=1592K)  Etot = 0.001eV\n",
      "Energy per atom: Epot = -0.219eV  Ekin = 0.215eV (T=1661K)  Etot = -0.004eV\n",
      "Energy per atom: Epot = -0.227eV  Ekin = 0.220eV (T=1702K)  Etot = -0.007eV\n",
      "Energy per atom: Epot = -0.230eV  Ekin = 0.222eV (T=1719K)  Etot = -0.008eV\n",
      "Energy per atom: Epot = -0.232eV  Ekin = 0.223eV (T=1726K)  Etot = -0.008eV\n",
      "Energy per atom: Epot = -0.232eV  Ekin = 0.224eV (T=1735K)  Etot = -0.008eV\n",
      "Energy per atom: Epot = -0.230eV  Ekin = 0.225eV (T=1742K)  Etot = -0.005eV\n",
      "Energy per atom: Epot = -0.220eV  Ekin = 0.222eV (T=1715K)  Etot = 0.002eV\n",
      "Energy per atom: Epot = -0.195eV  Ekin = 0.210eV (T=1625K)  Etot = 0.015eV\n",
      "Energy per atom: Epot = -0.184eV  Ekin = 0.204eV (T=1575K)  Etot = 0.019eV\n",
      "Energy per atom: Epot = -0.199eV  Ekin = 0.208eV (T=1612K)  Etot = 0.010eV\n",
      "Energy per atom: Epot = -0.207eV  Ekin = 0.210eV (T=1625K)  Etot = 0.003eV\n",
      "Energy per atom: Epot = -0.211eV  Ekin = 0.209eV (T=1619K)  Etot = -0.001eV\n",
      "Energy per atom: Epot = -0.213eV  Ekin = 0.209eV (T=1617K)  Etot = -0.004eV\n",
      "Energy per atom: Epot = -0.216eV  Ekin = 0.209eV (T=1617K)  Etot = -0.006eV\n",
      "Energy per atom: Epot = -0.217eV  Ekin = 0.209eV (T=1616K)  Etot = -0.008eV\n",
      "Energy per atom: Epot = -0.218eV  Ekin = 0.209eV (T=1613K)  Etot = -0.009eV\n",
      "Energy per atom: Epot = -0.219eV  Ekin = 0.209eV (T=1617K)  Etot = -0.010eV\n",
      "Energy per atom: Epot = -0.221eV  Ekin = 0.211eV (T=1634K)  Etot = -0.010eV\n",
      "Energy per atom: Epot = -0.225eV  Ekin = 0.215eV (T=1661K)  Etot = -0.010eV\n",
      "Energy per atom: Epot = -0.229eV  Ekin = 0.218eV (T=1688K)  Etot = -0.011eV\n",
      "Energy per atom: Epot = -0.231eV  Ekin = 0.220eV (T=1701K)  Etot = -0.011eV\n",
      "Energy per atom: Epot = -0.230eV  Ekin = 0.219eV (T=1697K)  Etot = -0.011eV\n",
      "Energy per atom: Epot = -0.228eV  Ekin = 0.217eV (T=1682K)  Etot = -0.011eV\n",
      "Energy per atom: Epot = -0.226eV  Ekin = 0.216eV (T=1668K)  Etot = -0.011eV\n",
      "Energy per atom: Epot = -0.226eV  Ekin = 0.216eV (T=1670K)  Etot = -0.010eV\n",
      "Energy per atom: Epot = -0.228eV  Ekin = 0.219eV (T=1691K)  Etot = -0.010eV\n",
      "Energy per atom: Epot = -0.231eV  Ekin = 0.222eV (T=1720K)  Etot = -0.008eV\n",
      "Energy per atom: Epot = -0.230eV  Ekin = 0.225eV (T=1738K)  Etot = -0.006eV\n",
      "Energy per atom: Epot = -0.226eV  Ekin = 0.224eV (T=1735K)  Etot = -0.002eV\n",
      "Energy per atom: Epot = -0.222eV  Ekin = 0.224eV (T=1730K)  Etot = 0.001eV\n",
      "Energy per atom: Epot = -0.227eV  Ekin = 0.226eV (T=1750K)  Etot = -0.000eV\n",
      "Energy per atom: Epot = -0.235eV  Ekin = 0.231eV (T=1785K)  Etot = -0.004eV\n",
      "Energy per atom: Epot = -0.241eV  Ekin = 0.234eV (T=1808K)  Etot = -0.007eV\n",
      "Energy per atom: Epot = -0.242eV  Ekin = 0.234eV (T=1811K)  Etot = -0.008eV\n",
      "Energy per atom: Epot = -0.241eV  Ekin = 0.232eV (T=1795K)  Etot = -0.009eV\n",
      "Energy per atom: Epot = -0.238eV  Ekin = 0.229eV (T=1770K)  Etot = -0.009eV\n"
     ]
    },
    {
     "name": "stdout",
     "output_type": "stream",
     "text": [
      "Energy per atom: Epot = -0.235eV  Ekin = 0.226eV (T=1747K)  Etot = -0.009eV\n",
      "Energy per atom: Epot = -0.234eV  Ekin = 0.225eV (T=1737K)  Etot = -0.009eV\n",
      "Energy per atom: Epot = -0.235eV  Ekin = 0.225eV (T=1742K)  Etot = -0.009eV\n",
      "Energy per atom: Epot = -0.236eV  Ekin = 0.227eV (T=1755K)  Etot = -0.009eV\n",
      "Energy per atom: Epot = -0.237eV  Ekin = 0.228eV (T=1764K)  Etot = -0.009eV\n",
      "Energy per atom: Epot = -0.237eV  Ekin = 0.228eV (T=1765K)  Etot = -0.009eV\n",
      "Energy per atom: Epot = -0.236eV  Ekin = 0.228eV (T=1761K)  Etot = -0.009eV\n",
      "Energy per atom: Epot = -0.234eV  Ekin = 0.227eV (T=1754K)  Etot = -0.007eV\n",
      "Energy per atom: Epot = -0.226eV  Ekin = 0.224eV (T=1730K)  Etot = -0.003eV\n",
      "Energy per atom: Epot = -0.211eV  Ekin = 0.217eV (T=1675K)  Etot = 0.006eV\n",
      "Energy per atom: Epot = -0.202eV  Ekin = 0.212eV (T=1642K)  Etot = 0.010eV\n",
      "Energy per atom: Epot = -0.215eV  Ekin = 0.218eV (T=1687K)  Etot = 0.003eV\n",
      "Energy per atom: Epot = -0.229eV  Ekin = 0.225eV (T=1742K)  Etot = -0.004eV\n",
      "Energy per atom: Epot = -0.239eV  Ekin = 0.231eV (T=1784K)  Etot = -0.008eV\n",
      "Energy per atom: Epot = -0.245eV  Ekin = 0.236eV (T=1825K)  Etot = -0.010eV\n",
      "Energy per atom: Epot = -0.250eV  Ekin = 0.240eV (T=1859K)  Etot = -0.010eV\n",
      "Energy per atom: Epot = -0.252eV  Ekin = 0.242eV (T=1870K)  Etot = -0.010eV\n",
      "Energy per atom: Epot = -0.249eV  Ekin = 0.239eV (T=1849K)  Etot = -0.010eV\n",
      "Energy per atom: Epot = -0.244eV  Ekin = 0.233eV (T=1806K)  Etot = -0.010eV\n",
      "Energy per atom: Epot = -0.237eV  Ekin = 0.227eV (T=1754K)  Etot = -0.010eV\n",
      "Energy per atom: Epot = -0.230eV  Ekin = 0.220eV (T=1699K)  Etot = -0.010eV\n",
      "Energy per atom: Epot = -0.223eV  Ekin = 0.213eV (T=1645K)  Etot = -0.010eV\n",
      "Energy per atom: Epot = -0.217eV  Ekin = 0.207eV (T=1602K)  Etot = -0.010eV\n",
      "Energy per atom: Epot = -0.214eV  Ekin = 0.204eV (T=1576K)  Etot = -0.010eV\n",
      "Energy per atom: Epot = -0.212eV  Ekin = 0.202eV (T=1566K)  Etot = -0.010eV\n",
      "Energy per atom: Epot = -0.211eV  Ekin = 0.202eV (T=1565K)  Etot = -0.009eV\n",
      "Energy per atom: Epot = -0.212eV  Ekin = 0.203eV (T=1573K)  Etot = -0.009eV\n",
      "Energy per atom: Epot = -0.214eV  Ekin = 0.206eV (T=1592K)  Etot = -0.008eV\n",
      "Energy per atom: Epot = -0.217eV  Ekin = 0.210eV (T=1623K)  Etot = -0.007eV\n",
      "Energy per atom: Epot = -0.220eV  Ekin = 0.215eV (T=1662K)  Etot = -0.006eV\n",
      "Energy per atom: Epot = -0.223eV  Ekin = 0.219eV (T=1696K)  Etot = -0.004eV\n",
      "Energy per atom: Epot = -0.223eV  Ekin = 0.221eV (T=1709K)  Etot = -0.002eV\n",
      "Energy per atom: Epot = -0.219eV  Ekin = 0.219eV (T=1691K)  Etot = -0.000eV\n",
      "Energy per atom: Epot = -0.211eV  Ekin = 0.213eV (T=1647K)  Etot = 0.002eV\n",
      "Energy per atom: Epot = -0.201eV  Ekin = 0.206eV (T=1593K)  Etot = 0.005eV\n",
      "Energy per atom: Epot = -0.194eV  Ekin = 0.200eV (T=1548K)  Etot = 0.006eV\n",
      "Energy per atom: Epot = -0.195eV  Ekin = 0.199eV (T=1536K)  Etot = 0.004eV\n",
      "Energy per atom: Epot = -0.200eV  Ekin = 0.199eV (T=1542K)  Etot = -0.000eV\n",
      "Energy per atom: Epot = -0.204eV  Ekin = 0.199eV (T=1541K)  Etot = -0.004eV\n",
      "Energy per atom: Epot = -0.204eV  Ekin = 0.197eV (T=1526K)  Etot = -0.007eV\n",
      "Energy per atom: Epot = -0.203eV  Ekin = 0.194eV (T=1503K)  Etot = -0.008eV\n",
      "Energy per atom: Epot = -0.200eV  Ekin = 0.191eV (T=1476K)  Etot = -0.009eV\n",
      "Energy per atom: Epot = -0.197eV  Ekin = 0.187eV (T=1448K)  Etot = -0.010eV\n",
      "Energy per atom: Epot = -0.194eV  Ekin = 0.184eV (T=1420K)  Etot = -0.010eV\n",
      "Energy per atom: Epot = -0.190eV  Ekin = 0.180eV (T=1392K)  Etot = -0.010eV\n",
      "Energy per atom: Epot = -0.188eV  Ekin = 0.177eV (T=1369K)  Etot = -0.011eV\n",
      "Energy per atom: Epot = -0.186eV  Ekin = 0.175eV (T=1356K)  Etot = -0.011eV\n",
      "Energy per atom: Epot = -0.187eV  Ekin = 0.176eV (T=1359K)  Etot = -0.011eV\n",
      "Energy per atom: Epot = -0.189eV  Ekin = 0.178eV (T=1379K)  Etot = -0.011eV\n",
      "Energy per atom: Epot = -0.194eV  Ekin = 0.183eV (T=1414K)  Etot = -0.011eV\n",
      "Energy per atom: Epot = -0.199eV  Ekin = 0.188eV (T=1457K)  Etot = -0.011eV\n",
      "Energy per atom: Epot = -0.205eV  Ekin = 0.194eV (T=1497K)  Etot = -0.011eV\n",
      "Energy per atom: Epot = -0.208eV  Ekin = 0.197eV (T=1524K)  Etot = -0.011eV\n",
      "Energy per atom: Epot = -0.209eV  Ekin = 0.198eV (T=1528K)  Etot = -0.011eV\n",
      "Energy per atom: Epot = -0.207eV  Ekin = 0.195eV (T=1512K)  Etot = -0.011eV\n",
      "Energy per atom: Epot = -0.203eV  Ekin = 0.192eV (T=1482K)  Etot = -0.011eV\n",
      "Energy per atom: Epot = -0.199eV  Ekin = 0.187eV (T=1450K)  Etot = -0.011eV\n",
      "Energy per atom: Epot = -0.195eV  Ekin = 0.184eV (T=1425K)  Etot = -0.011eV\n",
      "Energy per atom: Epot = -0.193eV  Ekin = 0.182eV (T=1409K)  Etot = -0.011eV\n",
      "Energy per atom: Epot = -0.192eV  Ekin = 0.181eV (T=1399K)  Etot = -0.011eV\n",
      "Energy per atom: Epot = -0.191eV  Ekin = 0.180eV (T=1392K)  Etot = -0.011eV\n",
      "Energy per atom: Epot = -0.190eV  Ekin = 0.179eV (T=1385K)  Etot = -0.011eV\n",
      "Energy per atom: Epot = -0.190eV  Ekin = 0.179eV (T=1383K)  Etot = -0.011eV\n",
      "Energy per atom: Epot = -0.190eV  Ekin = 0.179eV (T=1387K)  Etot = -0.011eV\n",
      "Energy per atom: Epot = -0.192eV  Ekin = 0.181eV (T=1399K)  Etot = -0.011eV\n",
      "Energy per atom: Epot = -0.194eV  Ekin = 0.183eV (T=1417K)  Etot = -0.011eV\n",
      "Energy per atom: Epot = -0.197eV  Ekin = 0.186eV (T=1438K)  Etot = -0.011eV\n",
      "Energy per atom: Epot = -0.200eV  Ekin = 0.189eV (T=1466K)  Etot = -0.011eV\n",
      "Energy per atom: Epot = -0.205eV  Ekin = 0.194eV (T=1503K)  Etot = -0.011eV\n",
      "Energy per atom: Epot = -0.211eV  Ekin = 0.201eV (T=1552K)  Etot = -0.011eV\n",
      "Energy per atom: Epot = -0.218eV  Ekin = 0.208eV (T=1607K)  Etot = -0.011eV\n",
      "Energy per atom: Epot = -0.225eV  Ekin = 0.214eV (T=1656K)  Etot = -0.011eV\n",
      "Energy per atom: Epot = -0.230eV  Ekin = 0.219eV (T=1694K)  Etot = -0.011eV\n",
      "Energy per atom: Epot = -0.233eV  Ekin = 0.222eV (T=1719K)  Etot = -0.011eV\n",
      "Energy per atom: Epot = -0.234eV  Ekin = 0.224eV (T=1732K)  Etot = -0.010eV\n",
      "Energy per atom: Epot = -0.234eV  Ekin = 0.224eV (T=1732K)  Etot = -0.010eV\n",
      "Energy per atom: Epot = -0.232eV  Ekin = 0.222eV (T=1720K)  Etot = -0.010eV\n",
      "Energy per atom: Epot = -0.230eV  Ekin = 0.220eV (T=1699K)  Etot = -0.010eV\n",
      "Energy per atom: Epot = -0.227eV  Ekin = 0.217eV (T=1679K)  Etot = -0.010eV\n",
      "Energy per atom: Epot = -0.225eV  Ekin = 0.215eV (T=1664K)  Etot = -0.010eV\n",
      "Energy per atom: Epot = -0.223eV  Ekin = 0.214eV (T=1654K)  Etot = -0.010eV\n",
      "Energy per atom: Epot = -0.222eV  Ekin = 0.213eV (T=1644K)  Etot = -0.010eV\n",
      "Energy per atom: Epot = -0.220eV  Ekin = 0.211eV (T=1629K)  Etot = -0.010eV\n",
      "Energy per atom: Epot = -0.217eV  Ekin = 0.208eV (T=1606K)  Etot = -0.010eV\n",
      "Energy per atom: Epot = -0.213eV  Ekin = 0.203eV (T=1572K)  Etot = -0.010eV\n",
      "Energy per atom: Epot = -0.208eV  Ekin = 0.198eV (T=1532K)  Etot = -0.010eV\n",
      "Energy per atom: Epot = -0.204eV  Ekin = 0.193eV (T=1497K)  Etot = -0.010eV\n",
      "Energy per atom: Epot = -0.200eV  Ekin = 0.190eV (T=1472K)  Etot = -0.010eV\n",
      "Energy per atom: Epot = -0.199eV  Ekin = 0.188eV (T=1457K)  Etot = -0.010eV\n",
      "Energy per atom: Epot = -0.197eV  Ekin = 0.187eV (T=1445K)  Etot = -0.010eV\n",
      "Energy per atom: Epot = -0.195eV  Ekin = 0.185eV (T=1432K)  Etot = -0.010eV\n",
      "Energy per atom: Epot = -0.193eV  Ekin = 0.183eV (T=1414K)  Etot = -0.011eV\n",
      "Energy per atom: Epot = -0.191eV  Ekin = 0.181eV (T=1398K)  Etot = -0.011eV\n",
      "Energy per atom: Epot = -0.190eV  Ekin = 0.180eV (T=1391K)  Etot = -0.011eV\n",
      "Energy per atom: Epot = -0.191eV  Ekin = 0.180eV (T=1395K)  Etot = -0.011eV\n",
      "Energy per atom: Epot = -0.193eV  Ekin = 0.182eV (T=1406K)  Etot = -0.011eV\n",
      "Energy per atom: Epot = -0.194eV  Ekin = 0.183eV (T=1418K)  Etot = -0.011eV\n",
      "Energy per atom: Epot = -0.196eV  Ekin = 0.185eV (T=1431K)  Etot = -0.011eV\n",
      "Energy per atom: Epot = -0.199eV  Ekin = 0.188eV (T=1455K)  Etot = -0.011eV\n",
      "Energy per atom: Epot = -0.204eV  Ekin = 0.193eV (T=1496K)  Etot = -0.011eV\n",
      "Energy per atom: Epot = -0.211eV  Ekin = 0.200eV (T=1550K)  Etot = -0.011eV\n",
      "Energy per atom: Epot = -0.218eV  Ekin = 0.207eV (T=1601K)  Etot = -0.011eV\n",
      "Energy per atom: Epot = -0.223eV  Ekin = 0.212eV (T=1638K)  Etot = -0.011eV\n",
      "Energy per atom: Epot = -0.225eV  Ekin = 0.214eV (T=1658K)  Etot = -0.011eV\n",
      "Energy per atom: Epot = -0.227eV  Ekin = 0.215eV (T=1667K)  Etot = -0.011eV\n",
      "Energy per atom: Epot = -0.227eV  Ekin = 0.216eV (T=1670K)  Etot = -0.011eV\n",
      "Energy per atom: Epot = -0.227eV  Ekin = 0.216eV (T=1668K)  Etot = -0.011eV\n",
      "Energy per atom: Epot = -0.226eV  Ekin = 0.215eV (T=1661K)  Etot = -0.011eV\n"
     ]
    },
    {
     "name": "stdout",
     "output_type": "stream",
     "text": [
      "Energy per atom: Epot = -0.224eV  Ekin = 0.213eV (T=1650K)  Etot = -0.011eV\n",
      "Energy per atom: Epot = -0.223eV  Ekin = 0.212eV (T=1637K)  Etot = -0.011eV\n",
      "Energy per atom: Epot = -0.221eV  Ekin = 0.210eV (T=1624K)  Etot = -0.011eV\n",
      "Energy per atom: Epot = -0.219eV  Ekin = 0.208eV (T=1611K)  Etot = -0.011eV\n",
      "Energy per atom: Epot = -0.217eV  Ekin = 0.206eV (T=1594K)  Etot = -0.011eV\n",
      "Energy per atom: Epot = -0.214eV  Ekin = 0.203eV (T=1570K)  Etot = -0.011eV\n",
      "Energy per atom: Epot = -0.210eV  Ekin = 0.199eV (T=1538K)  Etot = -0.011eV\n",
      "Energy per atom: Epot = -0.205eV  Ekin = 0.194eV (T=1499K)  Etot = -0.011eV\n",
      "Energy per atom: Epot = -0.200eV  Ekin = 0.189eV (T=1459K)  Etot = -0.011eV\n",
      "Energy per atom: Epot = -0.196eV  Ekin = 0.185eV (T=1428K)  Etot = -0.011eV\n",
      "Energy per atom: Epot = -0.194eV  Ekin = 0.183eV (T=1412K)  Etot = -0.011eV\n",
      "Energy per atom: Epot = -0.194eV  Ekin = 0.183eV (T=1417K)  Etot = -0.011eV\n",
      "Energy per atom: Epot = -0.197eV  Ekin = 0.186eV (T=1440K)  Etot = -0.011eV\n",
      "Energy per atom: Epot = -0.202eV  Ekin = 0.191eV (T=1478K)  Etot = -0.011eV\n",
      "Energy per atom: Epot = -0.208eV  Ekin = 0.197eV (T=1522K)  Etot = -0.011eV\n",
      "Energy per atom: Epot = -0.213eV  Ekin = 0.202eV (T=1563K)  Etot = -0.011eV\n",
      "Energy per atom: Epot = -0.217eV  Ekin = 0.206eV (T=1595K)  Etot = -0.011eV\n",
      "Energy per atom: Epot = -0.221eV  Ekin = 0.209eV (T=1620K)  Etot = -0.011eV\n",
      "Energy per atom: Epot = -0.223eV  Ekin = 0.212eV (T=1639K)  Etot = -0.011eV\n",
      "Energy per atom: Epot = -0.225eV  Ekin = 0.214eV (T=1652K)  Etot = -0.011eV\n",
      "Energy per atom: Epot = -0.225eV  Ekin = 0.214eV (T=1655K)  Etot = -0.011eV\n",
      "Energy per atom: Epot = -0.223eV  Ekin = 0.212eV (T=1642K)  Etot = -0.011eV\n",
      "Energy per atom: Epot = -0.219eV  Ekin = 0.208eV (T=1612K)  Etot = -0.011eV\n",
      "Energy per atom: Epot = -0.214eV  Ekin = 0.203eV (T=1570K)  Etot = -0.011eV\n",
      "Energy per atom: Epot = -0.208eV  Ekin = 0.197eV (T=1526K)  Etot = -0.011eV\n",
      "Energy per atom: Epot = -0.204eV  Ekin = 0.193eV (T=1490K)  Etot = -0.011eV\n",
      "Energy per atom: Epot = -0.201eV  Ekin = 0.190eV (T=1469K)  Etot = -0.011eV\n",
      "Energy per atom: Epot = -0.199eV  Ekin = 0.189eV (T=1459K)  Etot = -0.011eV\n",
      "Energy per atom: Epot = -0.199eV  Ekin = 0.188eV (T=1455K)  Etot = -0.011eV\n",
      "Energy per atom: Epot = -0.199eV  Ekin = 0.188eV (T=1453K)  Etot = -0.011eV\n",
      "Energy per atom: Epot = -0.198eV  Ekin = 0.187eV (T=1446K)  Etot = -0.011eV\n",
      "Energy per atom: Epot = -0.197eV  Ekin = 0.186eV (T=1436K)  Etot = -0.011eV\n",
      "Energy per atom: Epot = -0.195eV  Ekin = 0.184eV (T=1424K)  Etot = -0.011eV\n",
      "Energy per atom: Epot = -0.194eV  Ekin = 0.183eV (T=1417K)  Etot = -0.011eV\n",
      "Energy per atom: Epot = -0.194eV  Ekin = 0.183eV (T=1418K)  Etot = -0.011eV\n",
      "Energy per atom: Epot = -0.196eV  Ekin = 0.185eV (T=1431K)  Etot = -0.011eV\n",
      "Energy per atom: Epot = -0.199eV  Ekin = 0.188eV (T=1454K)  Etot = -0.011eV\n",
      "Energy per atom: Epot = -0.203eV  Ekin = 0.192eV (T=1487K)  Etot = -0.011eV\n",
      "Energy per atom: Epot = -0.208eV  Ekin = 0.197eV (T=1524K)  Etot = -0.011eV\n",
      "Energy per atom: Epot = -0.213eV  Ekin = 0.202eV (T=1561K)  Etot = -0.011eV\n",
      "Energy per atom: Epot = -0.217eV  Ekin = 0.205eV (T=1589K)  Etot = -0.011eV\n",
      "Energy per atom: Epot = -0.218eV  Ekin = 0.207eV (T=1601K)  Etot = -0.011eV\n",
      "Energy per atom: Epot = -0.217eV  Ekin = 0.206eV (T=1593K)  Etot = -0.011eV\n",
      "Energy per atom: Epot = -0.214eV  Ekin = 0.203eV (T=1570K)  Etot = -0.011eV\n",
      "Energy per atom: Epot = -0.210eV  Ekin = 0.199eV (T=1540K)  Etot = -0.011eV\n",
      "Energy per atom: Epot = -0.206eV  Ekin = 0.195eV (T=1507K)  Etot = -0.011eV\n",
      "Energy per atom: Epot = -0.202eV  Ekin = 0.190eV (T=1474K)  Etot = -0.011eV\n",
      "Energy per atom: Epot = -0.197eV  Ekin = 0.186eV (T=1438K)  Etot = -0.011eV\n",
      "Energy per atom: Epot = -0.192eV  Ekin = 0.181eV (T=1400K)  Etot = -0.011eV\n",
      "Energy per atom: Epot = -0.187eV  Ekin = 0.176eV (T=1361K)  Etot = -0.011eV\n",
      "Energy per atom: Epot = -0.183eV  Ekin = 0.171eV (T=1326K)  Etot = -0.011eV\n",
      "Energy per atom: Epot = -0.180eV  Ekin = 0.168eV (T=1304K)  Etot = -0.011eV\n",
      "Energy per atom: Epot = -0.179eV  Ekin = 0.168eV (T=1296K)  Etot = -0.011eV\n",
      "Energy per atom: Epot = -0.180eV  Ekin = 0.169eV (T=1305K)  Etot = -0.011eV\n",
      "Energy per atom: Epot = -0.183eV  Ekin = 0.172eV (T=1330K)  Etot = -0.011eV\n",
      "Energy per atom: Epot = -0.187eV  Ekin = 0.176eV (T=1362K)  Etot = -0.011eV\n",
      "Energy per atom: Epot = -0.191eV  Ekin = 0.180eV (T=1393K)  Etot = -0.011eV\n",
      "Energy per atom: Epot = -0.194eV  Ekin = 0.183eV (T=1415K)  Etot = -0.011eV\n",
      "Energy per atom: Epot = -0.196eV  Ekin = 0.185eV (T=1430K)  Etot = -0.011eV\n",
      "Energy per atom: Epot = -0.198eV  Ekin = 0.187eV (T=1443K)  Etot = -0.011eV\n",
      "Energy per atom: Epot = -0.200eV  Ekin = 0.188eV (T=1457K)  Etot = -0.011eV\n",
      "Energy per atom: Epot = -0.200eV  Ekin = 0.189eV (T=1464K)  Etot = -0.011eV\n",
      "Energy per atom: Epot = -0.200eV  Ekin = 0.189eV (T=1460K)  Etot = -0.011eV\n",
      "Energy per atom: Epot = -0.198eV  Ekin = 0.187eV (T=1445K)  Etot = -0.011eV\n",
      "Energy per atom: Epot = -0.195eV  Ekin = 0.184eV (T=1425K)  Etot = -0.011eV\n",
      "Energy per atom: Epot = -0.193eV  Ekin = 0.182eV (T=1407K)  Etot = -0.011eV\n",
      "Energy per atom: Epot = -0.191eV  Ekin = 0.180eV (T=1394K)  Etot = -0.011eV\n",
      "Energy per atom: Epot = -0.190eV  Ekin = 0.179eV (T=1386K)  Etot = -0.011eV\n",
      "Energy per atom: Epot = -0.190eV  Ekin = 0.178eV (T=1381K)  Etot = -0.011eV\n",
      "Energy per atom: Epot = -0.189eV  Ekin = 0.178eV (T=1377K)  Etot = -0.011eV\n",
      "Energy per atom: Epot = -0.189eV  Ekin = 0.178eV (T=1377K)  Etot = -0.011eV\n",
      "Energy per atom: Epot = -0.190eV  Ekin = 0.179eV (T=1385K)  Etot = -0.011eV\n",
      "Energy per atom: Epot = -0.192eV  Ekin = 0.181eV (T=1402K)  Etot = -0.011eV\n",
      "Energy per atom: Epot = -0.196eV  Ekin = 0.185eV (T=1429K)  Etot = -0.011eV\n",
      "Energy per atom: Epot = -0.200eV  Ekin = 0.189eV (T=1463K)  Etot = -0.011eV\n",
      "Energy per atom: Epot = -0.205eV  Ekin = 0.194eV (T=1502K)  Etot = -0.011eV\n",
      "Energy per atom: Epot = -0.210eV  Ekin = 0.199eV (T=1539K)  Etot = -0.011eV\n",
      "Energy per atom: Epot = -0.214eV  Ekin = 0.203eV (T=1572K)  Etot = -0.011eV\n",
      "Energy per atom: Epot = -0.217eV  Ekin = 0.206eV (T=1594K)  Etot = -0.011eV\n",
      "Energy per atom: Epot = -0.219eV  Ekin = 0.208eV (T=1606K)  Etot = -0.011eV\n",
      "Energy per atom: Epot = -0.219eV  Ekin = 0.208eV (T=1609K)  Etot = -0.011eV\n",
      "Energy per atom: Epot = -0.219eV  Ekin = 0.208eV (T=1608K)  Etot = -0.011eV\n",
      "Energy per atom: Epot = -0.219eV  Ekin = 0.208eV (T=1606K)  Etot = -0.011eV\n",
      "Energy per atom: Epot = -0.219eV  Ekin = 0.208eV (T=1606K)  Etot = -0.011eV\n",
      "Energy per atom: Epot = -0.218eV  Ekin = 0.207eV (T=1605K)  Etot = -0.011eV\n",
      "Energy per atom: Epot = -0.217eV  Ekin = 0.206eV (T=1596K)  Etot = -0.011eV\n",
      "Energy per atom: Epot = -0.215eV  Ekin = 0.204eV (T=1579K)  Etot = -0.011eV\n",
      "Energy per atom: Epot = -0.213eV  Ekin = 0.202eV (T=1559K)  Etot = -0.011eV\n",
      "Energy per atom: Epot = -0.211eV  Ekin = 0.200eV (T=1545K)  Etot = -0.011eV\n",
      "Energy per atom: Epot = -0.211eV  Ekin = 0.200eV (T=1544K)  Etot = -0.011eV\n",
      "Energy per atom: Epot = -0.212eV  Ekin = 0.201eV (T=1553K)  Etot = -0.011eV\n",
      "Energy per atom: Epot = -0.213eV  Ekin = 0.202eV (T=1564K)  Etot = -0.011eV\n",
      "Energy per atom: Epot = -0.213eV  Ekin = 0.202eV (T=1564K)  Etot = -0.011eV\n",
      "Energy per atom: Epot = -0.211eV  Ekin = 0.200eV (T=1545K)  Etot = -0.011eV\n",
      "Energy per atom: Epot = -0.207eV  Ekin = 0.195eV (T=1512K)  Etot = -0.011eV\n",
      "Energy per atom: Epot = -0.202eV  Ekin = 0.191eV (T=1475K)  Etot = -0.011eV\n",
      "Energy per atom: Epot = -0.198eV  Ekin = 0.187eV (T=1445K)  Etot = -0.011eV\n",
      "Energy per atom: Epot = -0.196eV  Ekin = 0.185eV (T=1428K)  Etot = -0.011eV\n",
      "Energy per atom: Epot = -0.195eV  Ekin = 0.184eV (T=1425K)  Etot = -0.011eV\n",
      "Energy per atom: Epot = -0.197eV  Ekin = 0.186eV (T=1435K)  Etot = -0.011eV\n",
      "Energy per atom: Epot = -0.200eV  Ekin = 0.188eV (T=1457K)  Etot = -0.011eV\n",
      "Energy per atom: Epot = -0.203eV  Ekin = 0.192eV (T=1486K)  Etot = -0.011eV\n",
      "Energy per atom: Epot = -0.207eV  Ekin = 0.196eV (T=1518K)  Etot = -0.011eV\n",
      "Energy per atom: Epot = -0.212eV  Ekin = 0.200eV (T=1550K)  Etot = -0.011eV\n",
      "Energy per atom: Epot = -0.216eV  Ekin = 0.205eV (T=1583K)  Etot = -0.011eV\n",
      "Energy per atom: Epot = -0.220eV  Ekin = 0.209eV (T=1616K)  Etot = -0.011eV\n",
      "Energy per atom: Epot = -0.224eV  Ekin = 0.213eV (T=1647K)  Etot = -0.011eV\n",
      "Energy per atom: Epot = -0.226eV  Ekin = 0.215eV (T=1662K)  Etot = -0.011eV\n",
      "Energy per atom: Epot = -0.225eV  Ekin = 0.213eV (T=1651K)  Etot = -0.011eV\n"
     ]
    },
    {
     "name": "stdout",
     "output_type": "stream",
     "text": [
      "Energy per atom: Epot = -0.220eV  Ekin = 0.209eV (T=1615K)  Etot = -0.011eV\n",
      "Energy per atom: Epot = -0.214eV  Ekin = 0.203eV (T=1569K)  Etot = -0.011eV\n",
      "Energy per atom: Epot = -0.209eV  Ekin = 0.198eV (T=1528K)  Etot = -0.011eV\n",
      "Energy per atom: Epot = -0.206eV  Ekin = 0.195eV (T=1506K)  Etot = -0.011eV\n",
      "Energy per atom: Epot = -0.206eV  Ekin = 0.195eV (T=1507K)  Etot = -0.011eV\n",
      "Energy per atom: Epot = -0.208eV  Ekin = 0.197eV (T=1526K)  Etot = -0.011eV\n",
      "Energy per atom: Epot = -0.212eV  Ekin = 0.201eV (T=1558K)  Etot = -0.011eV\n",
      "Energy per atom: Epot = -0.218eV  Ekin = 0.207eV (T=1598K)  Etot = -0.011eV\n",
      "Energy per atom: Epot = -0.224eV  Ekin = 0.213eV (T=1644K)  Etot = -0.011eV\n",
      "Energy per atom: Epot = -0.229eV  Ekin = 0.218eV (T=1688K)  Etot = -0.011eV\n",
      "Energy per atom: Epot = -0.234eV  Ekin = 0.223eV (T=1724K)  Etot = -0.011eV\n",
      "Energy per atom: Epot = -0.236eV  Ekin = 0.225eV (T=1742K)  Etot = -0.011eV\n",
      "Energy per atom: Epot = -0.236eV  Ekin = 0.225eV (T=1742K)  Etot = -0.011eV\n",
      "Energy per atom: Epot = -0.235eV  Ekin = 0.223eV (T=1728K)  Etot = -0.011eV\n",
      "Energy per atom: Epot = -0.233eV  Ekin = 0.221eV (T=1713K)  Etot = -0.011eV\n",
      "Energy per atom: Epot = -0.232eV  Ekin = 0.221eV (T=1710K)  Etot = -0.011eV\n",
      "Energy per atom: Epot = -0.233eV  Ekin = 0.222eV (T=1719K)  Etot = -0.011eV\n",
      "Energy per atom: Epot = -0.236eV  Ekin = 0.224eV (T=1736K)  Etot = -0.011eV\n",
      "Energy per atom: Epot = -0.238eV  Ekin = 0.227eV (T=1757K)  Etot = -0.011eV\n",
      "Energy per atom: Epot = -0.242eV  Ekin = 0.230eV (T=1783K)  Etot = -0.011eV\n",
      "Energy per atom: Epot = -0.245eV  Ekin = 0.234eV (T=1810K)  Etot = -0.011eV\n",
      "Energy per atom: Epot = -0.247eV  Ekin = 0.236eV (T=1827K)  Etot = -0.011eV\n",
      "Energy per atom: Epot = -0.246eV  Ekin = 0.235eV (T=1820K)  Etot = -0.011eV\n",
      "Energy per atom: Epot = -0.242eV  Ekin = 0.231eV (T=1784K)  Etot = -0.011eV\n"
     ]
    }
   ],
   "source": [
    "# this_traj = open(traj_filename, \"w\")\n",
    "# dyn.attach(savexyz, interval=50)\n",
    "dyn.attach(printenergy, interval=10)\n",
    "dyn.run(10000)"
   ]
  },
  {
   "cell_type": "code",
   "execution_count": null,
   "metadata": {
    "ExecuteTime": {
     "end_time": "2018-07-25T14:40:42.534006Z",
     "start_time": "2018-07-25T14:40:18.429Z"
    }
   },
   "outputs": [],
   "source": [
    "a = np.linspace(1.0, 2.0, 21)\n",
    "b = (1.2/a)**12\n",
    "plt.plot(a,b)\n",
    "plt.show()"
   ]
  },
  {
   "cell_type": "code",
   "execution_count": 26,
   "metadata": {
    "ExecuteTime": {
     "end_time": "2018-07-06T14:50:54.508465Z",
     "start_time": "2018-07-06T14:50:54.451313Z"
    }
   },
   "outputs": [],
   "source": [
    "from ase.calculators.eam import EAM\n",
    "\n",
    "from ase.build import bulk\n",
    "\n",
    "# test to generate an EAM potential file using a simplified\n",
    "# approximation to the Mishin potential Al99.eam.alloy data\n",
    "\n",
    "from scipy.interpolate import InterpolatedUnivariateSpline as spline\n",
    "\n",
    "cutoff = 10.0\n",
    "\n",
    "n = 21\n",
    "rs = np.arange(0, n) * (cutoff / n)\n",
    "rhos = np.arange(0, 2, 2. / n)\n",
    "\n",
    "# generated from\n",
    "# mishin = EAM(potential='../potentials/Al99.eam.alloy')\n",
    "# m_density = mishin.electron_density[0](rs)\n",
    "# m_embedded = mishin.embedded_energy[0](rhos)\n",
    "# m_phi = mishin.phi[0,0](rs)\n",
    "\n",
    "m_density = np.array([2.78589606e-01, 2.02694937e-01, 1.45334053e-01,\n",
    "                      1.06069912e-01, 8.42517168e-02, 7.65140344e-02,\n",
    "                      7.76263116e-02, 8.23214224e-02, 8.53322309e-02,\n",
    "                      8.13915861e-02, 6.59095390e-02, 4.28915711e-02,\n",
    "                      2.27910928e-02, 1.13713167e-02, 6.05020311e-03,\n",
    "                      3.65836583e-03, 2.60587564e-03, 2.06750708e-03,\n",
    "                      1.48749693e-03, 7.40019174e-04, 6.21225205e-05])\n",
    "\n",
    "m_embedded = np.array([1.04222211e-10, -1.04142633e+00, -1.60359806e+00,\n",
    "                       -1.89287637e+00, -2.09490167e+00, -2.26456628e+00,\n",
    "                       -2.40590322e+00, -2.52245359e+00, -2.61385603e+00,\n",
    "                       -2.67744693e+00, -2.71053295e+00, -2.71110418e+00,\n",
    "                       -2.69287013e+00, -2.68464527e+00, -2.69204083e+00,\n",
    "                       -2.68976209e+00, -2.66001244e+00, -2.60122024e+00,\n",
    "                       -2.51338548e+00, -2.39650817e+00, -2.25058831e+00])\n",
    "\n",
    "m_phi = np.array([6.27032242e+01, 3.49638589e+01, 1.79007014e+01,\n",
    "                  8.69001383e+00, 4.51545250e+00, 2.83260884e+00,\n",
    "                  1.93216616e+00, 1.06795515e+00, 3.37740836e-01,\n",
    "                  1.61087890e-02, -6.20816372e-02, -6.51314297e-02,\n",
    "                  -5.35210341e-02, -5.20950200e-02, -5.51709524e-02,\n",
    "                  -4.89093894e-02, -3.28051688e-02, -1.13738785e-02,\n",
    "                  2.33833655e-03, 4.19132033e-03, 1.68600692e-04])\n",
    "\n",
    "m_densityf = spline(rs, m_density)\n",
    "m_embeddedf = spline(rhos, m_embedded)\n",
    "m_phif = spline(rs, m_phi)\n",
    "\n",
    "mishin_approx = EAM(elements=['Ni'], embedded_energy=np.array([m_embeddedf]),\n",
    "                    electron_density=np.array([m_densityf]),\n",
    "                    phi=np.array([[m_phif]]), cutoff=cutoff, form='alloy',\n",
    "                    # the following terms are only required to write out a file\n",
    "                    Z=[13], nr=n, nrho=n, dr=cutoff / n, drho=2. / n,\n",
    "                    lattice=['fcc'], mass=[58.692], a=[2.58])\n",
    "\n",
    "atoms.set_calculator(mishin_approx)"
   ]
  },
  {
   "cell_type": "code",
   "execution_count": 32,
   "metadata": {
    "ExecuteTime": {
     "end_time": "2018-07-06T14:55:17.550916Z",
     "start_time": "2018-07-06T14:55:17.468699Z"
    }
   },
   "outputs": [],
   "source": [
    "from ase.calculators import morse\n",
    "pot = morse.MorsePotential\n",
    "atoms.set_calculator(pot)\n"
   ]
  },
  {
   "cell_type": "code",
   "execution_count": 33,
   "metadata": {
    "ExecuteTime": {
     "end_time": "2018-07-06T14:55:19.007919Z",
     "start_time": "2018-07-06T14:55:18.964016Z"
    }
   },
   "outputs": [
    {
     "ename": "AttributeError",
     "evalue": "'Atoms' object has no attribute 'get_property'",
     "output_type": "error",
     "traceback": [
      "\u001b[0;31m---------------------------------------------------------------------------\u001b[0m",
      "\u001b[0;31mAttributeError\u001b[0m                            Traceback (most recent call last)",
      "\u001b[0;32m<ipython-input-33-7d8292301e1e>\u001b[0m in \u001b[0;36m<module>\u001b[0;34m()\u001b[0m\n\u001b[0;32m----> 1\u001b[0;31m \u001b[0mdyn\u001b[0m\u001b[0;34m.\u001b[0m\u001b[0mrun\u001b[0m\u001b[0;34m(\u001b[0m\u001b[0;36m1000\u001b[0m\u001b[0;34m)\u001b[0m\u001b[0;34m\u001b[0m\u001b[0m\n\u001b[0m",
      "\u001b[0;32m/opt/conda/lib/python3.6/site-packages/ase/md/md.py\u001b[0m in \u001b[0;36mrun\u001b[0;34m(self, steps)\u001b[0m\n\u001b[1;32m     31\u001b[0m     \u001b[0;32mdef\u001b[0m \u001b[0mrun\u001b[0m\u001b[0;34m(\u001b[0m\u001b[0mself\u001b[0m\u001b[0;34m,\u001b[0m \u001b[0msteps\u001b[0m\u001b[0;34m=\u001b[0m\u001b[0;36m50\u001b[0m\u001b[0;34m)\u001b[0m\u001b[0;34m:\u001b[0m\u001b[0;34m\u001b[0m\u001b[0m\n\u001b[1;32m     32\u001b[0m         \u001b[0;34m\"\"\"Integrate equation of motion.\"\"\"\u001b[0m\u001b[0;34m\u001b[0m\u001b[0m\n\u001b[0;32m---> 33\u001b[0;31m         \u001b[0mf\u001b[0m \u001b[0;34m=\u001b[0m \u001b[0mself\u001b[0m\u001b[0;34m.\u001b[0m\u001b[0matoms\u001b[0m\u001b[0;34m.\u001b[0m\u001b[0mget_forces\u001b[0m\u001b[0;34m(\u001b[0m\u001b[0mmd\u001b[0m\u001b[0;34m=\u001b[0m\u001b[0;32mTrue\u001b[0m\u001b[0;34m)\u001b[0m\u001b[0;34m\u001b[0m\u001b[0m\n\u001b[0m\u001b[1;32m     34\u001b[0m \u001b[0;34m\u001b[0m\u001b[0m\n\u001b[1;32m     35\u001b[0m         \u001b[0;32mif\u001b[0m \u001b[0;32mnot\u001b[0m \u001b[0mself\u001b[0m\u001b[0;34m.\u001b[0m\u001b[0matoms\u001b[0m\u001b[0;34m.\u001b[0m\u001b[0mhas\u001b[0m\u001b[0;34m(\u001b[0m\u001b[0;34m'momenta'\u001b[0m\u001b[0;34m)\u001b[0m\u001b[0;34m:\u001b[0m\u001b[0;34m\u001b[0m\u001b[0m\n",
      "\u001b[0;32m/opt/conda/lib/python3.6/site-packages/ase/atoms.py\u001b[0m in \u001b[0;36mget_forces\u001b[0;34m(self, apply_constraint, md)\u001b[0m\n\u001b[1;32m    733\u001b[0m         \u001b[0;32mif\u001b[0m \u001b[0mself\u001b[0m\u001b[0;34m.\u001b[0m\u001b[0m_calc\u001b[0m \u001b[0;32mis\u001b[0m \u001b[0;32mNone\u001b[0m\u001b[0;34m:\u001b[0m\u001b[0;34m\u001b[0m\u001b[0m\n\u001b[1;32m    734\u001b[0m             \u001b[0;32mraise\u001b[0m \u001b[0mRuntimeError\u001b[0m\u001b[0;34m(\u001b[0m\u001b[0;34m'Atoms object has no calculator.'\u001b[0m\u001b[0;34m)\u001b[0m\u001b[0;34m\u001b[0m\u001b[0m\n\u001b[0;32m--> 735\u001b[0;31m         \u001b[0mforces\u001b[0m \u001b[0;34m=\u001b[0m \u001b[0mself\u001b[0m\u001b[0;34m.\u001b[0m\u001b[0m_calc\u001b[0m\u001b[0;34m.\u001b[0m\u001b[0mget_forces\u001b[0m\u001b[0;34m(\u001b[0m\u001b[0mself\u001b[0m\u001b[0;34m)\u001b[0m\u001b[0;34m\u001b[0m\u001b[0m\n\u001b[0m\u001b[1;32m    736\u001b[0m \u001b[0;34m\u001b[0m\u001b[0m\n\u001b[1;32m    737\u001b[0m         \u001b[0;32mif\u001b[0m \u001b[0mapply_constraint\u001b[0m\u001b[0;34m:\u001b[0m\u001b[0;34m\u001b[0m\u001b[0m\n",
      "\u001b[0;32m/opt/conda/lib/python3.6/site-packages/ase/calculators/calculator.py\u001b[0m in \u001b[0;36mget_forces\u001b[0;34m(self, atoms)\u001b[0m\n\u001b[1;32m    458\u001b[0m \u001b[0;34m\u001b[0m\u001b[0m\n\u001b[1;32m    459\u001b[0m     \u001b[0;32mdef\u001b[0m \u001b[0mget_forces\u001b[0m\u001b[0;34m(\u001b[0m\u001b[0mself\u001b[0m\u001b[0;34m,\u001b[0m \u001b[0matoms\u001b[0m\u001b[0;34m=\u001b[0m\u001b[0;32mNone\u001b[0m\u001b[0;34m)\u001b[0m\u001b[0;34m:\u001b[0m\u001b[0;34m\u001b[0m\u001b[0m\n\u001b[0;32m--> 460\u001b[0;31m         \u001b[0;32mreturn\u001b[0m \u001b[0mself\u001b[0m\u001b[0;34m.\u001b[0m\u001b[0mget_property\u001b[0m\u001b[0;34m(\u001b[0m\u001b[0;34m'forces'\u001b[0m\u001b[0;34m,\u001b[0m \u001b[0matoms\u001b[0m\u001b[0;34m)\u001b[0m\u001b[0;34m\u001b[0m\u001b[0m\n\u001b[0m\u001b[1;32m    461\u001b[0m \u001b[0;34m\u001b[0m\u001b[0m\n\u001b[1;32m    462\u001b[0m     \u001b[0;32mdef\u001b[0m \u001b[0mget_stress\u001b[0m\u001b[0;34m(\u001b[0m\u001b[0mself\u001b[0m\u001b[0;34m,\u001b[0m \u001b[0matoms\u001b[0m\u001b[0;34m=\u001b[0m\u001b[0;32mNone\u001b[0m\u001b[0;34m)\u001b[0m\u001b[0;34m:\u001b[0m\u001b[0;34m\u001b[0m\u001b[0m\n",
      "\u001b[0;31mAttributeError\u001b[0m: 'Atoms' object has no attribute 'get_property'"
     ]
    }
   ],
   "source": [
    "dyn.run(1000)"
   ]
  },
  {
   "cell_type": "markdown",
   "metadata": {
    "ExecuteTime": {
     "end_time": "2018-06-12T13:36:59.251733Z",
     "start_time": "2018-06-12T13:36:59.212677Z"
    }
   },
   "source": [
    "## Pairwise potential test"
   ]
  },
  {
   "cell_type": "code",
   "execution_count": 3,
   "metadata": {
    "ExecuteTime": {
     "end_time": "2018-07-04T11:27:46.699253Z",
     "start_time": "2018-07-04T11:27:46.685924Z"
    }
   },
   "outputs": [
    {
     "ename": "NameError",
     "evalue": "name 'TwoBodySingleSpeciesModel' is not defined",
     "output_type": "error",
     "traceback": [
      "\u001b[0;31m---------------------------------------------------------------------------\u001b[0m",
      "\u001b[0;31mNameError\u001b[0m                                 Traceback (most recent call last)",
      "\u001b[0;32m<ipython-input-3-0434e725845b>\u001b[0m in \u001b[0;36m<module>\u001b[0;34m()\u001b[0m\n\u001b[0;32m----> 1\u001b[0;31m \u001b[0mmodel_2b\u001b[0m \u001b[0;34m=\u001b[0m \u001b[0mTwoBodySingleSpeciesModel\u001b[0m\u001b[0;34m(\u001b[0m\u001b[0melementslist\u001b[0m\u001b[0;34m[\u001b[0m\u001b[0;36m0\u001b[0m\u001b[0;34m]\u001b[0m\u001b[0;34m,\u001b[0m \u001b[0mr_cut\u001b[0m\u001b[0;34m,\u001b[0m \u001b[0msigma_2b\u001b[0m\u001b[0;34m,\u001b[0m \u001b[0mr_cut\u001b[0m \u001b[0;34m/\u001b[0m \u001b[0;36m10.0\u001b[0m\u001b[0;34m,\u001b[0m \u001b[0mnoise\u001b[0m\u001b[0;34m)\u001b[0m\u001b[0;34m\u001b[0m\u001b[0m\n\u001b[0m\u001b[1;32m      2\u001b[0m \u001b[0mmodel_2b\u001b[0m\u001b[0;34m.\u001b[0m\u001b[0mfit\u001b[0m\u001b[0;34m(\u001b[0m\u001b[0mtr_confs\u001b[0m\u001b[0;34m,\u001b[0m \u001b[0mtr_forces\u001b[0m\u001b[0;34m)\u001b[0m\u001b[0;34m\u001b[0m\u001b[0m\n",
      "\u001b[0;31mNameError\u001b[0m: name 'TwoBodySingleSpeciesModel' is not defined"
     ]
    }
   ],
   "source": [
    "model_2b = TwoBodySingleSpeciesModel(elementslist[0], r_cut, sigma_2b, r_cut / 10.0, noise)\n",
    "model_2b.fit(tr_confs, tr_forces)"
   ]
  },
  {
   "cell_type": "code",
   "execution_count": 51,
   "metadata": {
    "ExecuteTime": {
     "end_time": "2018-06-12T13:37:45.118417Z",
     "start_time": "2018-06-12T13:37:44.734274Z"
    }
   },
   "outputs": [
    {
     "name": "stdout",
     "output_type": "stream",
     "text": [
      "Testing GP\n",
      "MAEF on forces: 0.1404 +- 0.0750\n",
      "Relative MAEF on forces: 0.1943 +- 0.1038\n"
     ]
    }
   ],
   "source": [
    "# Test the GP performance\n",
    "print('Testing GP')\n",
    "\n",
    "gp_forces = np.zeros((ntest, 3))\n",
    "gp_error = np.zeros((ntest, 3))\n",
    "\n",
    "for i in np.arange(ntest):\n",
    "    gp_forces[i, :] = model_2b.predict(np.reshape(tst_confs[i], (1, len(tst_confs[i]), 5)))\n",
    "    gp_error[i, :] = gp_forces[i, :] - tst_forces[i, :]\n",
    "\n",
    "MAEF = np.mean(np.sqrt(np.sum(np.square(gp_error), axis=1)))\n",
    "SMAEF = np.std(np.sqrt(np.sum(np.square(gp_error), axis=1)))\n",
    "\n",
    "MF = np.mean(np.linalg.norm(tst_forces, axis=1))\n",
    "\n",
    "print('MAEF on forces: {:.4f} +- {:.4f}'.format(MAEF, SMAEF))\n",
    "print('Relative MAEF on forces: {:.4f} +- {:.4f}'.format(MAEF / MF, SMAEF / MF))"
   ]
  },
  {
   "cell_type": "code",
   "execution_count": 52,
   "metadata": {
    "ExecuteTime": {
     "end_time": "2018-06-12T13:37:59.509524Z",
     "start_time": "2018-06-12T13:37:53.163224Z"
    }
   },
   "outputs": [],
   "source": [
    "grid_2b = model_2b.build_grid(grid_start, num_2b)\n"
   ]
  },
  {
   "cell_type": "code",
   "execution_count": 53,
   "metadata": {
    "ExecuteTime": {
     "end_time": "2018-06-12T13:38:23.622171Z",
     "start_time": "2018-06-12T13:38:23.580599Z"
    }
   },
   "outputs": [],
   "source": [
    "calc = TwoBodySingleSpecies(r_cut, grid_c_2b)\n",
    "atoms.set_calculator(calc)"
   ]
  },
  {
   "cell_type": "code",
   "execution_count": 54,
   "metadata": {
    "ExecuteTime": {
     "end_time": "2018-06-12T13:38:31.748710Z",
     "start_time": "2018-06-12T13:38:30.541773Z"
    }
   },
   "outputs": [
    {
     "name": "stderr",
     "output_type": "stream",
     "text": [
      "INFO:m_ff.calculators:numbers is in system_changes\n",
      "INFO:m_ff.calculators:initialize\n"
     ]
    }
   ],
   "source": [
    "dyn.run(steps)"
   ]
  },
  {
   "cell_type": "code",
   "execution_count": 17,
   "metadata": {
    "ExecuteTime": {
     "end_time": "2018-06-29T16:39:35.603807Z",
     "start_time": "2018-06-29T16:39:35.504228Z"
    }
   },
   "outputs": [
    {
     "data": {
      "text/plain": [
       "array([1.58381760e-02, 8.13802083e-05, 1.93337110e-06, 1.06288200e-07,\n",
       "       9.93410746e-09, 1.33912337e-09, 2.36007214e-10])"
      ]
     },
     "execution_count": 17,
     "metadata": {},
     "output_type": "execute_result"
    }
   ],
   "source": [
    "dist = 2+np.arange(7)\n",
    "norm = np.ones((7,3))\n"
   ]
  },
  {
   "cell_type": "code",
   "execution_count": 18,
   "metadata": {
    "ExecuteTime": {
     "end_time": "2018-06-29T16:39:44.284927Z",
     "start_time": "2018-06-29T16:39:44.247703Z"
    }
   },
   "outputs": [
    {
     "data": {
      "text/plain": [
       "array([1.58381760e-02, 8.13802083e-05, 1.93337110e-06, 1.06288200e-07,\n",
       "       9.93410746e-09, 1.33912337e-09, 2.36007214e-10])"
      ]
     },
     "execution_count": 18,
     "metadata": {},
     "output_type": "execute_result"
    }
   ],
   "source": [
    "np.power(1.5/dist, 12)/dist"
   ]
  },
  {
   "cell_type": "code",
   "execution_count": null,
   "metadata": {},
   "outputs": [],
   "source": []
  }
 ],
 "metadata": {
  "kernelspec": {
   "display_name": "Python 3",
   "language": "python",
   "name": "python3"
  },
  "language_info": {
   "codemirror_mode": {
    "name": "ipython",
    "version": 3
   },
   "file_extension": ".py",
   "mimetype": "text/x-python",
   "name": "python",
   "nbconvert_exporter": "python",
   "pygments_lexer": "ipython3",
   "version": "3.6.5"
  }
 },
 "nbformat": 4,
 "nbformat_minor": 2
}
