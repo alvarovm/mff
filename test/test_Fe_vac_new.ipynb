{
 "cells": [
  {
   "cell_type": "markdown",
   "metadata": {},
   "source": [
    "# Fe test"
   ]
  },
  {
   "cell_type": "code",
   "execution_count": 5,
   "metadata": {
    "ExecuteTime": {
     "end_time": "2018-06-08T11:19:20.422678Z",
     "start_time": "2018-06-08T11:19:20.387614Z"
    }
   },
   "outputs": [],
   "source": [
    "import sys\n",
    "sys.path.append('..')"
   ]
  },
  {
   "cell_type": "code",
   "execution_count": 6,
   "metadata": {
    "ExecuteTime": {
     "end_time": "2018-06-08T11:19:20.675836Z",
     "start_time": "2018-06-08T11:19:20.637646Z"
    }
   },
   "outputs": [
    {
     "name": "stdout",
     "output_type": "stream",
     "text": [
      "The autoreload extension is already loaded. To reload it, use:\n",
      "  %reload_ext autoreload\n"
     ]
    }
   ],
   "source": [
    "%matplotlib inline\n",
    "%load_ext autoreload\n",
    "%autoreload 2"
   ]
  },
  {
   "cell_type": "code",
   "execution_count": 7,
   "metadata": {
    "ExecuteTime": {
     "end_time": "2018-06-08T11:19:20.832955Z",
     "start_time": "2018-06-08T11:19:20.791258Z"
    }
   },
   "outputs": [],
   "source": [
    "import os\n",
    "import logging\n",
    "from pathlib import Path\n",
    "\n",
    "import numpy as np\n",
    "import matplotlib.pyplot as plt\n",
    "\n",
    "from ase import Atoms\n",
    "from ase.io import read\n",
    "# from asap3 import FullNeighborList\n",
    "\n",
    "from m_ff.configurations import carve_confs\n",
    "\n",
    "from m_ff.kernels import TwoBodySingleSpeciesKernel, ThreeBodySingleSpeciesKernel\n",
    "from m_ff.gp import GaussianProcess, ThreeBodySingleSpeciesGP, TwoBodySingleSpeciesGP\n",
    "from m_ff.grid import SingleSpeciesGrid\n",
    "\n",
    "from m_ff.interpolation import Spline3D, Spline1D\n",
    "from m_ff.calculators import TwoBodySingleSpecies, ThreeBodySingleSpecies, CombinedSingleSpecies\n",
    "\n",
    "logging.basicConfig(level=logging.INFO)"
   ]
  },
  {
   "cell_type": "markdown",
   "metadata": {},
   "source": [
    "## Parameters"
   ]
  },
  {
   "cell_type": "code",
   "execution_count": 8,
   "metadata": {
    "ExecuteTime": {
     "end_time": "2018-06-08T11:19:21.870026Z",
     "start_time": "2018-06-08T11:19:21.827661Z"
    }
   },
   "outputs": [],
   "source": [
    "# Parameters\n",
    "directory = Path('data/Fe_vac/')\n",
    "\n",
    "r_cut = 4.45\n",
    "ntr = 10\n",
    "ntest = 5\n",
    "\n",
    "\n",
    "# GP Parameters\n",
    "combine_2b_3b = True\n",
    "sigma_2b = 0.3\n",
    "sigma_3b = 0.6\n",
    "noise = 0.0001\n",
    "\n",
    "theta_2b = [sigma_2b, r_cut / 10.0, r_cut]\n",
    "theta_3b = [sigma_3b, r_cut / 10.0, r_cut]\n",
    "\n",
    "\n",
    "# mapping\n",
    "grid_start = 1.5\n",
    "elementslist = [26]\n",
    "num_2b = 1000\n",
    "num_3b = 100"
   ]
  },
  {
   "cell_type": "markdown",
   "metadata": {},
   "source": [
    "## Configurations"
   ]
  },
  {
   "cell_type": "code",
   "execution_count": 9,
   "metadata": {
    "ExecuteTime": {
     "end_time": "2018-06-08T11:19:23.185511Z",
     "start_time": "2018-06-08T11:19:23.151412Z"
    }
   },
   "outputs": [],
   "source": [
    "# Parameters(\n",
    "#     directory = Path('data/Fe_vac/'),\n",
    "#     r_cut = 4.45,\n",
    "#     sigma_2b = 0.3,\n",
    "#     sigma_3b = 0.6,\n",
    "#     noise = 0.0001,\n",
    "#     theta_2b = [sigma_2b, r_cut / 10.0, r_cut]\n",
    "#     theta_3b = [sigma_3b, r_cut / 10.0, r_cut]\n",
    "\n",
    "\n",
    "#     # GP Parameters\n",
    "#     ntr = 50,\n",
    "#     ntest = 10,\n",
    "#     combine_2b_3b = True,\n",
    "\n",
    "#     # mapping\n",
    "#     grid_start = 1.5,\n",
    "#     elementslist = [26],\n",
    "#     num_2b = 1000,\n",
    "#     num_3b = 100\n",
    "# )"
   ]
  },
  {
   "cell_type": "code",
   "execution_count": 10,
   "metadata": {
    "ExecuteTime": {
     "end_time": "2018-06-08T11:19:23.466121Z",
     "start_time": "2018-06-08T11:19:23.418629Z"
    },
    "scrolled": true
   },
   "outputs": [],
   "source": [
    "# # # ----------------------------------------\n",
    "# # # Construct a configuration database\n",
    "# # # ----------------------------------------\n",
    "\n",
    "\n",
    "# n_data = 50\n",
    "\n",
    "# filename = directory / 'movie.xyz'\n",
    "\n",
    "# traj = read(filename, index=slice(None), format='extxyz')\n",
    "\n",
    "# elements, confs, forces, energies = carve_confs(\n",
    "#     traj, r_cut, n_data,\n",
    "#     forces_label='force', energy_label='energy')\n",
    "\n",
    "# if not os.path.exists(directory):\n",
    "#     os.makedirs(directory)\n",
    "\n",
    "# np.save('{}/confs_cut={:.2f}.npy'.format(directory, r_cut), confs)\n",
    "# np.save('{}/forces_cut={:.2f}.npy'.format(directory, r_cut), forces)\n",
    "# np.save('{}/energies_cut={:.2f}.npy'.format(directory, r_cut), energies)\n",
    "\n",
    "# lens = [len(conf) for conf in confs]\n",
    "\n",
    "# logging.info('\\n'.join((\n",
    "#     'Number of atoms in a configuration:',\n",
    "#     '   maximum: {}'.format(np.max(lens)),\n",
    "#     '   minimum: {}'.format(np.min(lens)),\n",
    "#     '   average: {:.4}'.format(np.mean(lens))\n",
    "# )))"
   ]
  },
  {
   "cell_type": "markdown",
   "metadata": {},
   "source": [
    "## GP"
   ]
  },
  {
   "cell_type": "code",
   "execution_count": 11,
   "metadata": {
    "ExecuteTime": {
     "end_time": "2018-06-08T11:19:24.290099Z",
     "start_time": "2018-06-08T11:19:24.240246Z"
    }
   },
   "outputs": [],
   "source": [
    "# ----------------------------------------\n",
    "# Test a simple GP on the built database\n",
    "# ----------------------------------------\n",
    "\n",
    "\n",
    "# Get configurations and forces from file\n",
    "confs = np.load(directory / 'confs_cut={:.2f}.npy'.format(r_cut))\n",
    "forces = np.load(directory / 'forces_cut={:.2f}.npy'.format(r_cut))\n",
    "numconfs = len(forces)\n",
    "ind = np.arange(numconfs)\n",
    "# ind_tot = np.random.choice(ind, size=ntr + ntest, replace=False)\n",
    "\n",
    "# Separate into random testing and training dataset\n",
    "# tr_confs, tr_forces = confs[ind[:ntr]], forces[ind[:ntr]]\n",
    "# tst_confs, tst_forces = confs[ind[ntr:]], forces[ind[ntr:]]\n",
    "\n",
    "# Use fixed training and testing dataset\n",
    "tr_confs, tr_forces = confs[:ntr], forces[:ntr]\n",
    "tst_confs, tst_forces = confs[-ntest - 1:-1], forces[-ntest - 1:-1]"
   ]
  },
  {
   "cell_type": "code",
   "execution_count": 12,
   "metadata": {
    "ExecuteTime": {
     "end_time": "2018-06-08T11:23:24.514960Z",
     "start_time": "2018-06-08T11:19:25.143235Z"
    },
    "scrolled": true
   },
   "outputs": [
    {
     "name": "stderr",
     "output_type": "stream",
     "text": [
      "INFO:m_ff.kernels.twobody:Started compilation of theano two body single species kernels\n",
      "INFO (theano.gof.compilelock): Waiting for existing lock by process '50403' (I am process '52033')\n",
      "INFO:theano.gof.compilelock:Waiting for existing lock by process '50403' (I am process '52033')\n",
      "INFO (theano.gof.compilelock): To manually release the lock, delete /Users/fekad/.theano/compiledir_Darwin-17.5.0-x86_64-i386-64bit-i386-3.6.5-64/lock_dir\n",
      "INFO:theano.gof.compilelock:To manually release the lock, delete /Users/fekad/.theano/compiledir_Darwin-17.5.0-x86_64-i386-64bit-i386-3.6.5-64/lock_dir\n",
      "INFO (theano.gof.compilelock): Waiting for existing lock by process '50403' (I am process '52033')\n",
      "INFO:theano.gof.compilelock:Waiting for existing lock by process '50403' (I am process '52033')\n",
      "INFO (theano.gof.compilelock): To manually release the lock, delete /Users/fekad/.theano/compiledir_Darwin-17.5.0-x86_64-i386-64bit-i386-3.6.5-64/lock_dir\n",
      "INFO:theano.gof.compilelock:To manually release the lock, delete /Users/fekad/.theano/compiledir_Darwin-17.5.0-x86_64-i386-64bit-i386-3.6.5-64/lock_dir\n",
      "INFO:m_ff.kernels.twobody:Ended compilation of theano two body single species kernels\n"
     ]
    },
    {
     "name": "stdout",
     "output_type": "stream",
     "text": [
      "Training 2B GP\n"
     ]
    },
    {
     "name": "stderr",
     "output_type": "stream",
     "text": [
      "INFO:m_ff.kernels.threebodykernel:Started compilation of theano three body kernels\n"
     ]
    },
    {
     "name": "stdout",
     "output_type": "stream",
     "text": [
      "Saved Gaussian process with name: data/Fe_vac/gp_ker=2_ntr=10_sig=0.30_cut=4.45\n"
     ]
    },
    {
     "name": "stderr",
     "output_type": "stream",
     "text": [
      "INFO:m_ff.kernels.threebodykernel:Ended compilation of theano three body kernels\n"
     ]
    },
    {
     "name": "stdout",
     "output_type": "stream",
     "text": [
      "Training 3B GP\n",
      "Saved Gaussian process with name: data/Fe_vac/gp_ker=3_ntr=10_sig=0.60_cut=4.45\n"
     ]
    }
   ],
   "source": [
    "two_body_train_forces = np.zeros((ntr, 3))\n",
    "\n",
    "if combine_2b_3b:\n",
    "\n",
    "    # First train with a 2 body\n",
    "#     kernel_2b = TwoBodySingleSpeciesKernel(theta=theta_2b)\n",
    "    gp_2 = TwoBodySingleSpeciesGP(theta=theta_2b, noise=noise)\n",
    "\n",
    "    print('Training 2B GP')\n",
    "    gp_2.fit(tr_confs, tr_forces)\n",
    "\n",
    "    gp_2_name = 'gp_ker=2_ntr={}_sig={:.2f}_cut={:.2f}'.format(ntr, sigma_2b, r_cut)\n",
    "    gp_2.save(directory / gp_2_name)\n",
    "\n",
    "    # Calculate the predictions of the 2body on the training set\n",
    "    for i in np.arange(ntr):\n",
    "        two_body_train_forces[i] = gp_2.predict(np.reshape(tr_confs[i], (1, len(tr_confs[i]), 5)))\n",
    "\n",
    "# Then train with a 2 body on the difference between tr_force and tr_force obtained with the two body\n",
    "# kernel_3b = ThreeBodySingleSpeciesKernel(theta=theta_3b)\n",
    "gp_3 = ThreeBodySingleSpeciesGP(theta=theta_3b, noise=noise, optimizer=None)\n",
    "\n",
    "print('Training 3B GP')\n",
    "gp_3.fit(tr_confs, tr_forces - two_body_train_forces)\n",
    "\n",
    "gp_3_name = 'gp_ker=3_ntr={}_sig={:.2f}_cut={:.2f}'.format(ntr, sigma_3b, r_cut)\n",
    "gp_3.save(directory / gp_3_name)"
   ]
  },
  {
   "cell_type": "code",
   "execution_count": null,
   "metadata": {
    "ExecuteTime": {
     "end_time": "2018-05-26T13:39:20.362602Z",
     "start_time": "2018-05-26T13:39:06.902232Z"
    }
   },
   "outputs": [],
   "source": [
    "# Test the GP performance\n",
    "print('Testing GP')\n",
    "\n",
    "gp_3b_forces = np.zeros((ntest, 3))\n",
    "gp_error = np.zeros((ntest, 3))\n",
    "gp_2b_error = np.zeros((ntest, 3))\n",
    "gp_2b_forces = np.zeros((ntest, 3))\n",
    "\n",
    "for i in np.arange(ntest):\n",
    "    if combine_2b_3b:\n",
    "        gp_2b_forces[i, :] = gp_2.predict(np.reshape(tst_confs[i], (1, len(tst_confs[i]), 5)))\n",
    "        gp_2b_error[i, :] = gp_2b_forces[i, :] - tst_forces[i, :]\n",
    "    gp_3b_forces[i, :] = gp_3.predict(np.reshape(tst_confs[i], (1, len(tst_confs[i]), 5)))\n",
    "    gp_error[i, :] = gp_2b_forces[i, :] + gp_3b_forces[i, :] - tst_forces[i, :]\n",
    "\n",
    "MAEF = np.mean(np.sqrt(np.sum(np.square(gp_error), axis=1)))\n",
    "SMAEF = np.std(np.sqrt(np.sum(np.square(gp_error), axis=1)))\n",
    "MAEF_2B = np.mean(np.sqrt(np.sum(np.square(gp_2b_error), axis=1)))\n",
    "SMAE_2B = np.std(np.sqrt(np.sum(np.square(gp_2b_error), axis=1)))\n",
    "\n",
    "MF = np.mean(np.linalg.norm(tst_forces, axis=1))\n",
    "\n",
    "print('2 body MAEF on forces: {:.4f} +- {:.4f}'.format(MAEF_2B, SMAE_2B))\n",
    "print('MAEF on forces: {:.4f} +- {:.4f}'.format(MAEF, SMAEF))\n",
    "print('Relative MAEF on forces: {:.4f} +- {:.4f}'.format(MAEF / MF, SMAEF / MF))\n",
    "\n",
    "# Testing GP\n",
    "# 2 body MAEF on forces: 0.1539 +- 0.0901\n",
    "# MAEF on forces: 0.3682 +- 0.1116\n",
    "# Relative MAEF on forces: 0.4284 +- 0.1298"
   ]
  },
  {
   "cell_type": "markdown",
   "metadata": {
    "ExecuteTime": {
     "end_time": "2018-05-18T15:09:44.627620Z",
     "start_time": "2018-05-18T15:09:44.588743Z"
    }
   },
   "source": [
    "## Mapping"
   ]
  },
  {
   "cell_type": "code",
   "execution_count": null,
   "metadata": {
    "ExecuteTime": {
     "end_time": "2018-05-26T13:39:21.206044Z",
     "start_time": "2018-05-26T13:39:20.364652Z"
    }
   },
   "outputs": [],
   "source": [
    "# ----------------------------------------\n",
    "# Mapping\n",
    "# ----------------------------------------\n",
    "\n",
    "mapping_dists_2b = np.linspace(grid_start, r_cut, num_2b)\n",
    "grid_2b = gp_2.build_grid(mapping_dists_2b, elementslist[0])\n"
   ]
  },
  {
   "cell_type": "code",
   "execution_count": null,
   "metadata": {
    "ExecuteTime": {
     "end_time": "2018-05-26T13:39:21.240957Z",
     "start_time": "2018-05-26T13:39:21.207954Z"
    }
   },
   "outputs": [],
   "source": [
    "remap_2d_name = 'MFF_{}b_ntr_{}_sig_{:.2f}_cut_{:.2f}_num_{}.npy'.format(2, ntr, sigma_2b, r_cut, num_2b)\n",
    "np.save(directory / remap_2d_name, [elementslist, mapping_dists_2b, grid_2b._data[1]])"
   ]
  },
  {
   "cell_type": "code",
   "execution_count": null,
   "metadata": {
    "ExecuteTime": {
     "end_time": "2018-05-26T13:39:21.388207Z",
     "start_time": "2018-05-26T13:39:21.242821Z"
    }
   },
   "outputs": [],
   "source": [
    "plt.plot(mapping_dists_2b, grid_2b(mapping_dists_2b, nu=0))\n",
    "plt.plot(mapping_dists_2b, grid_2b(mapping_dists_2b, nu=1))"
   ]
  },
  {
   "cell_type": "code",
   "execution_count": null,
   "metadata": {
    "ExecuteTime": {
     "end_time": "2018-05-26T13:56:47.893635Z",
     "start_time": "2018-05-26T13:39:21.390579Z"
    }
   },
   "outputs": [],
   "source": [
    "# ----------------------------------------\n",
    "# Mapping 3b\n",
    "# ----------------------------------------\n",
    "\n",
    "mapping_dists_3b = np.linspace(grid_start, r_cut, num_3b)\n",
    "grid_3b = gp_3.build_grid(mapping_dists_3b, elementslist[0])\n"
   ]
  },
  {
   "cell_type": "code",
   "execution_count": null,
   "metadata": {
    "ExecuteTime": {
     "end_time": "2018-05-26T13:56:48.017248Z",
     "start_time": "2018-05-26T13:56:47.896048Z"
    }
   },
   "outputs": [],
   "source": [
    "remap_3d_name = 'MFF_{}b_ntr_{}_sig_{:.2f}_cut_{:.2f}_num_{}.npy'.format(3, ntr, sigma_3b, r_cut, num_3b)\n",
    "np.save(directory / remap_3d_name, [elementslist, mapping_dists_3b, grid_3b.data])"
   ]
  },
  {
   "cell_type": "code",
   "execution_count": null,
   "metadata": {
    "ExecuteTime": {
     "end_time": "2018-05-26T13:56:50.129197Z",
     "start_time": "2018-05-26T13:56:48.020340Z"
    },
    "scrolled": false
   },
   "outputs": [],
   "source": [
    "data = grid_3b.data\n",
    "z_min, z_max = -np.max(np.abs(data)), np.max(np.abs(data))\n",
    "for i in range(0, len(mapping_dists_3b), 20):\n",
    "    plt.title(mapping_dists_3b[i])\n",
    "    dists_k = np.ones_like(mapping_dists_3b) * mapping_dists_3b[i]\n",
    "    plt.pcolor(mapping_dists_3b, mapping_dists_3b, -data[:,:,i], cmap='RdBu', vmin=z_min, vmax=z_max)\n",
    "    plt.colorbar()\n",
    "    plt.axis('equal')\n",
    "\n",
    "    plt.show()"
   ]
  },
  {
   "cell_type": "code",
   "execution_count": null,
   "metadata": {
    "ExecuteTime": {
     "end_time": "2018-05-26T13:56:52.177734Z",
     "start_time": "2018-05-26T13:56:50.131406Z"
    },
    "scrolled": false
   },
   "outputs": [],
   "source": [
    "dist_range = mapping_dists_3b\n",
    "dist_range = np.linspace(grid_start, r_cut, 100)\n",
    "\n",
    "num = len(dist_range)\n",
    "\n",
    "for i in range(0, len(mapping_dists_3b), 20):\n",
    "    plt.title(dist_range[i])\n",
    "    X, Y = np.meshgrid(dist_range, dist_range)\n",
    "    g_data = grid_3b(X.flatten(), Y.flatten(), np.ones_like(X.flatten()) * mapping_dists_3b[i]).reshape(num, num)\n",
    "    plt.pcolor(dist_range, dist_range, -g_data, cmap='RdBu', vmin=z_min, vmax=z_max)\n",
    "    plt.colorbar()\n",
    "    plt.axis('equal')\n",
    "\n",
    "    plt.show()"
   ]
  },
  {
   "cell_type": "code",
   "execution_count": null,
   "metadata": {},
   "outputs": [],
   "source": []
  },
  {
   "cell_type": "markdown",
   "metadata": {},
   "source": [
    "## ASE Calculator"
   ]
  },
  {
   "cell_type": "code",
   "execution_count": null,
   "metadata": {
    "ExecuteTime": {
     "end_time": "2018-05-26T13:56:52.213277Z",
     "start_time": "2018-05-26T13:56:52.179747Z"
    }
   },
   "outputs": [],
   "source": [
    "\n",
    "def rmse(x1, x2):\n",
    "    rms = np.sqrt(np.sum(np.square(x1 - x2), axis=1))\n",
    "    return np.mean(rms), np.std(rms)\n",
    "    "
   ]
  },
  {
   "cell_type": "code",
   "execution_count": null,
   "metadata": {
    "ExecuteTime": {
     "end_time": "2018-05-26T13:56:52.245415Z",
     "start_time": "2018-05-26T13:56:52.215676Z"
    }
   },
   "outputs": [],
   "source": [
    "# grid_2b = TwoBodySingleSpeciesGrid.from_file(str(directory / 'MFF_2b_ntr_20_sig_0.30_cut_4.45.npy'))\n",
    "# grid_3b = ThreeBodySingleSpeciesGrid.from_file(str(directory / 'MFF_3b_ntr_20_sig_0.60_cut_4.45.npy'))\n",
    "\n",
    "# calc = ThreeBodySingleSpecies(r_cut=4.45, grid_2b=grid_2b, grid_3b=grid_3b)\n",
    "\n",
    "\n",
    "# filename = directory / 'movie.xyz'\n",
    "# traj = read(str(filename), index=slice(0,5))\n",
    "# for atoms in traj[0:5]:\n",
    "\n",
    "#     atoms.set_calculator(calc)\n",
    "\n",
    "#     rms_mean, rms_std = rmse(atoms.arrays['force'], atoms.get_forces())\n",
    "#     print('MAEF on forces: {:.4f} +- {:.4f}'.format(rms_mean, rms_std))\n",
    "\n"
   ]
  },
  {
   "cell_type": "code",
   "execution_count": null,
   "metadata": {
    "ExecuteTime": {
     "end_time": "2018-05-26T13:56:52.314544Z",
     "start_time": "2018-05-26T13:56:52.247777Z"
    }
   },
   "outputs": [],
   "source": [
    "calc = TwoBodySingleSpecies(r_cut, grid_2b)\n",
    "\n",
    "filename = directory / 'movie.xyz'\n",
    "traj = read(str(filename), index=slice(0, 5))\n",
    "\n",
    "for atoms in traj:\n",
    "\n",
    "    atoms.set_calculator(calc)\n",
    "\n",
    "    rms_mean, rms_std = rmse(atoms.arrays['force'], atoms.get_forces())\n",
    "    print('MAEF on forces: {:.4f} +- {:.4f}'.format(rms_mean, rms_std))\n",
    "    \n",
    "f2 = atoms.get_forces()"
   ]
  },
  {
   "cell_type": "code",
   "execution_count": null,
   "metadata": {
    "ExecuteTime": {
     "end_time": "2018-05-26T13:56:53.866250Z",
     "start_time": "2018-05-26T13:56:52.316499Z"
    }
   },
   "outputs": [],
   "source": [
    "calc = ThreeBodySingleSpecies(r_cut, grid_3b)\n",
    "\n",
    "filename = directory / 'movie.xyz'\n",
    "traj = read(str(filename), index=slice(0, 5))\n",
    "\n",
    "for atoms in traj:\n",
    "\n",
    "    atoms.set_calculator(calc)\n",
    "\n",
    "    rms_mean, rms_std = rmse(atoms.arrays['force'], atoms.get_forces())\n",
    "    print('MAEF on forces: {:.4f} +- {:.4f}'.format(rms_mean, rms_std))\n",
    "\n",
    "f3 = atoms.get_forces()"
   ]
  },
  {
   "cell_type": "code",
   "execution_count": null,
   "metadata": {
    "ExecuteTime": {
     "end_time": "2018-05-26T13:56:55.178808Z",
     "start_time": "2018-05-26T13:56:53.868366Z"
    }
   },
   "outputs": [],
   "source": [
    "calc = CombinedSingleSpecies(r_cut, grid_2b, grid_3b)\n",
    "\n",
    "filename = directory / 'movie.xyz'\n",
    "traj = read(str(filename), index=slice(0, 5))\n",
    "\n",
    "for atoms in traj:\n",
    "\n",
    "    atoms.set_calculator(calc)\n",
    "\n",
    "    rms_mean, rms_std = rmse(atoms.arrays['force'], atoms.get_forces())\n",
    "    print('MAEF on forces: {:.4f} +- {:.4f}'.format(rms_mean, rms_std))\n",
    "\n",
    "f23 = atoms.get_forces()"
   ]
  },
  {
   "cell_type": "code",
   "execution_count": null,
   "metadata": {
    "ExecuteTime": {
     "end_time": "2018-05-26T13:56:55.211231Z",
     "start_time": "2018-05-26T13:56:55.180681Z"
    }
   },
   "outputs": [],
   "source": [
    "np.allclose(f2 + f3, f23)"
   ]
  },
  {
   "cell_type": "code",
   "execution_count": null,
   "metadata": {},
   "outputs": [],
   "source": []
  },
  {
   "cell_type": "code",
   "execution_count": null,
   "metadata": {},
   "outputs": [],
   "source": []
  }
 ],
 "metadata": {
  "kernelspec": {
   "display_name": "Python 3",
   "language": "python",
   "name": "python3"
  },
  "language_info": {
   "codemirror_mode": {
    "name": "ipython",
    "version": 3
   },
   "file_extension": ".py",
   "mimetype": "text/x-python",
   "name": "python",
   "nbconvert_exporter": "python",
   "pygments_lexer": "ipython3",
   "version": "3.6.5"
  },
  "toc": {
   "base_numbering": 1,
   "nav_menu": {
    "height": "170px",
    "width": "182px"
   },
   "number_sections": false,
   "sideBar": true,
   "skip_h1_title": true,
   "title_cell": "Table of Contents",
   "title_sidebar": "Contents",
   "toc_cell": false,
   "toc_position": {
    "height": "calc(100% - 180px)",
    "left": "10px",
    "top": "150px",
    "width": "165px"
   },
   "toc_section_display": true,
   "toc_window_display": true
  }
 },
 "nbformat": 4,
 "nbformat_minor": 2
}
