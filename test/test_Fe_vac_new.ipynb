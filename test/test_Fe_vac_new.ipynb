{
 "cells": [
  {
   "cell_type": "markdown",
   "metadata": {},
   "source": [
    "# Fe test"
   ]
  },
  {
   "cell_type": "code",
   "execution_count": 22,
   "metadata": {
    "ExecuteTime": {
     "end_time": "2018-05-18T18:09:43.714494Z",
     "start_time": "2018-05-18T18:09:43.682118Z"
    }
   },
   "outputs": [],
   "source": [
    "import sys\n",
    "sys.path.append('..')"
   ]
  },
  {
   "cell_type": "code",
   "execution_count": 23,
   "metadata": {
    "ExecuteTime": {
     "end_time": "2018-05-18T18:09:44.025181Z",
     "start_time": "2018-05-18T18:09:43.989076Z"
    }
   },
   "outputs": [
    {
     "name": "stdout",
     "output_type": "stream",
     "text": [
      "The autoreload extension is already loaded. To reload it, use:\n",
      "  %reload_ext autoreload\n"
     ]
    }
   ],
   "source": [
    "%matplotlib inline\n",
    "%load_ext autoreload\n",
    "%autoreload 2"
   ]
  },
  {
   "cell_type": "code",
   "execution_count": 30,
   "metadata": {
    "ExecuteTime": {
     "end_time": "2018-05-18T18:10:31.118843Z",
     "start_time": "2018-05-18T18:10:31.082702Z"
    }
   },
   "outputs": [],
   "source": [
    "import os\n",
    "import logging\n",
    "from pathlib import Path\n",
    "\n",
    "import numpy as np\n",
    "import matplotlib.pyplot as plt\n",
    "\n",
    "from ase import Atoms\n",
    "from ase.io import read\n",
    "from asap3 import FullNeighborList\n",
    "\n",
    "from m_ff.configurations import carve_confs\n",
    "\n",
    "from m_ff.kernels import TwoBodySingleSpeciesKernel, ThreeBodySingleSpeciesKernel\n",
    "from m_ff.gp import GaussianProcess, TwoBodySingleSpeciesGP, ThreeBodySingleSpeciesGP\n",
    "from m_ff.grid import SingleSpeciesGrid\n",
    "\n",
    "from m_ff.interpolation import Spline3D, Spline1D\n",
    "from m_ff.calculators import ThreeBodySingleSpecies\n",
    "\n",
    "logging.basicConfig(level=logging.INFO)"
   ]
  },
  {
   "cell_type": "markdown",
   "metadata": {},
   "source": [
    "## Parameters"
   ]
  },
  {
   "cell_type": "code",
   "execution_count": 48,
   "metadata": {
    "ExecuteTime": {
     "end_time": "2018-05-18T18:19:24.816470Z",
     "start_time": "2018-05-18T18:19:24.729003Z"
    }
   },
   "outputs": [],
   "source": [
    "# Parameters\n",
    "directory = Path('data/Fe_vac/')\n",
    "r_cut = 3.0\n",
    "sigma_2b = 0.3\n",
    "sigma_3b = 0.6\n",
    "noise = 0.0001\n",
    "\n",
    "# GP Parameters\n",
    "ntr = 2\n",
    "ntest = 2\n",
    "combine_2b_3b = True\n",
    "\n",
    "# mapping\n",
    "grid_start = 1.5\n",
    "elementslist = [26]\n",
    "num_2b = 100\n",
    "num_3b = 10\n"
   ]
  },
  {
   "cell_type": "markdown",
   "metadata": {},
   "source": [
    "## Configurations"
   ]
  },
  {
   "cell_type": "code",
   "execution_count": 49,
   "metadata": {
    "ExecuteTime": {
     "end_time": "2018-05-18T18:19:25.245312Z",
     "start_time": "2018-05-18T18:19:25.204276Z"
    },
    "scrolled": true
   },
   "outputs": [],
   "source": [
    "# # # ----------------------------------------\n",
    "# # # Construct a configuration database\n",
    "# # # ----------------------------------------\n",
    "\n",
    "\n",
    "# n_data = 50\n",
    "\n",
    "# filename = directory / 'movie.xyz'\n",
    "\n",
    "# traj = read(filename, index=slice(None), format='extxyz')\n",
    "\n",
    "# elements, confs, forces, energies = carve_confs(\n",
    "#     traj, r_cut, n_data,\n",
    "#     forces_label='force', energy_label='energy')\n",
    "\n",
    "# if not os.path.exists(directory):\n",
    "#     os.makedirs(directory)\n",
    "\n",
    "# np.save('{}/confs_cut={:.2f}.npy'.format(directory, r_cut), confs)\n",
    "# np.save('{}/forces_cut={:.2f}.npy'.format(directory, r_cut), forces)\n",
    "# np.save('{}/energies_cut={:.2f}.npy'.format(directory, r_cut), energies)\n",
    "\n",
    "# lens = [len(conf) for conf in confs]\n",
    "\n",
    "# logging.info('\\n'.join((\n",
    "#     'Number of atoms in a configuration:',\n",
    "#     '   maximum: {}'.format(np.max(lens)),\n",
    "#     '   minimum: {}'.format(np.min(lens)),\n",
    "#     '   average: {:.4}'.format(np.mean(lens))\n",
    "# )))"
   ]
  },
  {
   "cell_type": "markdown",
   "metadata": {},
   "source": [
    "## GP"
   ]
  },
  {
   "cell_type": "code",
   "execution_count": 50,
   "metadata": {
    "ExecuteTime": {
     "end_time": "2018-05-18T18:19:25.932774Z",
     "start_time": "2018-05-18T18:19:25.888487Z"
    }
   },
   "outputs": [],
   "source": [
    "# ----------------------------------------\n",
    "# Test a simple GP on the built database\n",
    "# ----------------------------------------\n",
    "\n",
    "\n",
    "# Get configurations and forces from file\n",
    "confs = np.load(directory / 'confs_cut={:.2f}.npy'.format(r_cut))\n",
    "forces = np.load(directory / 'forces_cut={:.2f}.npy'.format(r_cut))\n",
    "numconfs = len(forces)\n",
    "ind = np.arange(numconfs)\n",
    "ind_tot = np.random.choice(ind, size=ntr + ntest, replace=False)\n",
    "\n",
    "# Separate into random testing and training dataset\n",
    "# tr_confs, tr_forces = confs[ind[:ntr]], forces[ind[:ntr]]\n",
    "# tst_confs, tst_forces = confs[ind[ntr:]], forces[ind[ntr:]]\n",
    "\n",
    "# Use fixed training and testing dataset\n",
    "tr_confs, tr_forces = confs[:ntr], forces[:ntr]\n",
    "tst_confs, tst_forces = confs[-ntest - 1:-1], forces[-ntest - 1:-1]"
   ]
  },
  {
   "cell_type": "code",
   "execution_count": 51,
   "metadata": {
    "ExecuteTime": {
     "end_time": "2018-05-18T18:19:33.043072Z",
     "start_time": "2018-05-18T18:19:26.370523Z"
    },
    "scrolled": true
   },
   "outputs": [
    {
     "name": "stderr",
     "output_type": "stream",
     "text": [
      "INFO:m_ff.kernels.twobody:Started compilation of theano two body single species kernels\n",
      "INFO:m_ff.kernels.twobody:Ended compilation of theano two body single species kernels\n",
      "INFO:m_ff.kernels.threebodykernel:Started compilation of theano three body single species kernels\n"
     ]
    },
    {
     "name": "stdout",
     "output_type": "stream",
     "text": [
      "Training 2B GP\n",
      "Saved Gaussian process with name: data/Fe_vac/gp_ker=2_ntr=2_sig=0.30_cut=3.00\n"
     ]
    },
    {
     "name": "stderr",
     "output_type": "stream",
     "text": [
      "INFO:m_ff.kernels.threebodykernel:Ended compilation of theano three body single species kernels\n"
     ]
    },
    {
     "name": "stdout",
     "output_type": "stream",
     "text": [
      "Training 3B GP\n",
      "Saved Gaussian process with name: data/Fe_vac/gp_ker=3_ntr=2_sig=0.60_cut=3.00\n"
     ]
    }
   ],
   "source": [
    "theta_2b = [sigma_2b, r_cut / 10.0, r_cut]\n",
    "theta_3b = [sigma_3b, r_cut / 10.0, r_cut]\n",
    "\n",
    "\n",
    "two_body_train_forces = np.zeros((ntr, 3))\n",
    "\n",
    "if combine_2b_3b:\n",
    "    \n",
    "    # First train with a 2 body\n",
    "    gp_2 = TwoBodySingleSpeciesGP(theta_2b, noise=noise)\n",
    "\n",
    "    print('Training 2B GP')\n",
    "    gp_2.fit(tr_confs, tr_forces)\n",
    "\n",
    "    gp_2_name = 'gp_ker=2_ntr={}_sig={:.2f}_cut={:.2f}'.format(\n",
    "        ntr, sigma_2b, r_cut)\n",
    "    gp_2.save(directory / gp_2_name)\n",
    "\n",
    "    # Calculate the predictions of the 2body on the training set\n",
    "    for i in np.arange(ntr):\n",
    "        two_body_train_forces[i] = gp_2.predict(\n",
    "            np.reshape(tr_confs[i], (1, len(tr_confs[i]), 5)))\n",
    "\n",
    "\n",
    "# Then train with a 2 body on the difference between tr_force and tr_force obtained with the two body\n",
    "gp_3 = ThreeBodySingleSpeciesGP(theta_3b, noise=noise, optimizer=None)\n",
    "\n",
    "print('Training 3B GP')\n",
    "gp_3.fit(tr_confs, tr_forces - two_body_train_forces)\n",
    "\n",
    "gp_3_name = 'gp_ker=3_ntr={}_sig={:.2f}_cut={:.2f}'.format(ntr, sigma_3b, r_cut)\n",
    "gp_3.save(directory / gp_3_name)"
   ]
  },
  {
   "cell_type": "code",
   "execution_count": 52,
   "metadata": {
    "ExecuteTime": {
     "end_time": "2018-05-18T18:19:33.200637Z",
     "start_time": "2018-05-18T18:19:33.046507Z"
    }
   },
   "outputs": [
    {
     "name": "stdout",
     "output_type": "stream",
     "text": [
      "Testing GP\n",
      "2 body MAEF on forces: 0.6792 +- 0.2499\n",
      "MAEF on forces: 0.6736 +- 0.2497\n",
      "Relative MAEF on forces: 0.7608 +- 0.2820\n"
     ]
    }
   ],
   "source": [
    "# Test the GP performance\n",
    "print('Testing GP')\n",
    "\n",
    "gp_3b_forces = np.zeros((ntest, 3))\n",
    "gp_error = np.zeros((ntest, 3))\n",
    "gp_2b_error = np.zeros((ntest, 3))\n",
    "gp_2b_forces = np.zeros((ntest, 3))\n",
    "\n",
    "for i in np.arange(ntest):\n",
    "    if combine_2b_3b:\n",
    "        gp_2b_forces[i, :] = gp_2.predict(np.reshape(\n",
    "            tst_confs[i], (1, len(tst_confs[i]), 5)))\n",
    "        gp_2b_error[i, :] = gp_2b_forces[i, :] - tst_forces[i, :]\n",
    "    gp_3b_forces[i, :] = gp_3.predict(np.reshape(\n",
    "        tst_confs[i], (1, len(tst_confs[i]), 5)))\n",
    "    gp_error[i, :] = gp_2b_forces[i, :] + gp_3b_forces[i, :] - tst_forces[i, :]\n",
    "\n",
    "MAEF = np.mean(np.sqrt(np.sum(np.square(gp_error), axis=1)))\n",
    "SMAEF = np.std(np.sqrt(np.sum(np.square(gp_error), axis=1)))\n",
    "MAEF_2B = np.mean(np.sqrt(np.sum(np.square(gp_2b_error), axis=1)))\n",
    "SMAE_2B = np.std(np.sqrt(np.sum(np.square(gp_2b_error), axis=1)))\n",
    "\n",
    "MF = np.mean(np.linalg.norm(tst_forces, axis=1))\n",
    "\n",
    "print('2 body MAEF on forces: {:.4f} +- {:.4f}'.format(MAEF_2B, SMAE_2B))\n",
    "print('MAEF on forces: {:.4f} +- {:.4f}'.format(MAEF, SMAEF))\n",
    "print(\n",
    "    'Relative MAEF on forces: {:.4f} +- {:.4f}'.format(MAEF / MF, SMAEF / MF))"
   ]
  },
  {
   "cell_type": "markdown",
   "metadata": {
    "ExecuteTime": {
     "end_time": "2018-05-18T15:09:44.627620Z",
     "start_time": "2018-05-18T15:09:44.588743Z"
    }
   },
   "source": [
    "## Mapping"
   ]
  },
  {
   "cell_type": "code",
   "execution_count": 53,
   "metadata": {
    "ExecuteTime": {
     "end_time": "2018-05-18T18:19:34.685615Z",
     "start_time": "2018-05-18T18:19:34.629597Z"
    }
   },
   "outputs": [
    {
     "name": "stdout",
     "output_type": "stream",
     "text": [
      "Saved mapping with name MFF_2b_ntr_2_sig_0.30_cut_3.00.npy\n"
     ]
    }
   ],
   "source": [
    "# ----------------------------------------\n",
    "# Mapping\n",
    "# ----------------------------------------\n",
    "\n",
    "mapping_2b = SingleSpeciesGrid(gp_2, grid_start, r_cut, num_2b, elementslist[0], build2donly=True)\n",
    "all_grids_2b = mapping_2b.build_grids()\n",
    "\n",
    "remap_name_2b = 'MFF_{}b_ntr_{}_sig_{:.2f}_cut_{:.2f}.npy'.format(\n",
    "    2, ntr, sigma_2b, r_cut)\n",
    "\n",
    "np.save(directory / remap_name_2b, all_grids_2b)\n",
    "print('Saved mapping with name {}'.format(remap_name_2b))"
   ]
  },
  {
   "cell_type": "code",
   "execution_count": 54,
   "metadata": {
    "ExecuteTime": {
     "end_time": "2018-05-18T18:19:35.699504Z",
     "start_time": "2018-05-18T18:19:35.530681Z"
    }
   },
   "outputs": [
    {
     "data": {
      "text/plain": [
       "[<matplotlib.lines.Line2D at 0x1c21f510f0>]"
      ]
     },
     "execution_count": 54,
     "metadata": {},
     "output_type": "execute_result"
    },
    {
     "data": {
      "image/png": "[encoded data removed]",
      "text/plain": [
       "<Figure size 432x288 with 1 Axes>"
      ]
     },
     "metadata": {},
     "output_type": "display_data"
    }
   ],
   "source": [
    "plt.plot(all_grids_2b[0], all_grids_2b[3])\n",
    "\n",
    "mapped_2b = Spline1D(all_grids_2b[0],all_grids_2b[3])\n",
    "plt.plot(all_grids_2b[0], mapped_2b(all_grids_2b[0], nu=0))\n",
    "plt.plot(all_grids_2b[0], mapped_2b(all_grids_2b[0], nu=1))\n"
   ]
  },
  {
   "cell_type": "code",
   "execution_count": 55,
   "metadata": {
    "ExecuteTime": {
     "end_time": "2018-05-18T18:19:36.449280Z",
     "start_time": "2018-05-18T18:19:36.409606Z"
    }
   },
   "outputs": [
    {
     "name": "stdout",
     "output_type": "stream",
     "text": [
      "test 0\n",
      "[-0.396088  0.058324 -0.40305 ]\n",
      "[-0.81701576  0.06283025 -0.31776974]\n",
      "[-0.81701177  0.06283031 -0.31855326]\n",
      "test 1\n",
      "[ 0.514221 -0.783814  0.753292]\n",
      "[ 0.11097376 -0.23111836  0.12284361]\n",
      "[ 0.11362911 -0.23118302  0.12294929]\n"
     ]
    }
   ],
   "source": [
    "\n",
    "traj = []\n",
    "\n",
    "forces = np.zeros((ntest, 3))\n",
    "\n",
    "for i in np.arange(ntest):\n",
    "\n",
    "    coords = np.vstack([[0,0,0], tst_confs[i][:,:3]])\n",
    "    atoms = Atoms('Fe' + str(len(coords)), positions=coords)\n",
    "\n",
    "    atoms.set_cell([100,100,100])\n",
    "    nl = FullNeighborList(rCut=4.45, atoms=atoms, driftfactor=0.)\n",
    "\n",
    "    inds, pos, dists2 = nl.get_neighbors(0)\n",
    "\n",
    "    dists = np.sqrt(dists2)\n",
    "    energy_local = mapped_2b(dists, nu=0)\n",
    "    fs_scalars = - mapped_2b(dists, nu=1)\n",
    "\n",
    "    potential_energies = np.sum(energy_local, axis=0)\n",
    "    forces[i] = np.sum(pos/dists[:, np.newaxis] * fs_scalars[:, np.newaxis], axis=0)\n",
    "    \n",
    "    print('test {}'.format(i))\n",
    "    print(tst_forces[i])\n",
    "    print(forces[i])\n",
    "    print(gp_2b_forces[i])\n",
    "    \n"
   ]
  },
  {
   "cell_type": "code",
   "execution_count": 56,
   "metadata": {
    "ExecuteTime": {
     "end_time": "2018-05-18T18:19:37.730932Z",
     "start_time": "2018-05-18T18:19:37.557395Z"
    }
   },
   "outputs": [
    {
     "name": "stdout",
     "output_type": "stream",
     "text": [
      "Saved mapping with name MFF_3b_ntr_2_sig_0.60_cut_3.00.npy\n"
     ]
    }
   ],
   "source": [
    "# ----------------------------------------\n",
    "# Mapping 3b\n",
    "# ----------------------------------------\n",
    "\n",
    "\n",
    "mapping = SingleSpeciesGrid(gp_3, grid_start, r_cut, num_3b, elementslist[0], build2donly=False)\n",
    "all_grids_3b = mapping.build_grids()\n",
    "\n",
    "mapping = 'MFF_{}b_ntr_{}_sig_{:.2f}_cut_{:.2f}.npy'.format(3, ntr, sigma_3b, r_cut)\n",
    "\n",
    "np.save(directory / mapping, all_grids_3b)\n",
    "print('Saved mapping with name {}'.format(mapping))\n"
   ]
  },
  {
   "cell_type": "code",
   "execution_count": 57,
   "metadata": {
    "ExecuteTime": {
     "end_time": "2018-05-18T18:19:44.003218Z",
     "start_time": "2018-05-18T18:19:43.964077Z"
    }
   },
   "outputs": [],
   "source": [
    "mapped_3b = Spline3D(all_grids_3b[0],all_grids_3b[0],all_grids_3b[0],all_grids_3b[4])\n"
   ]
  },
  {
   "cell_type": "code",
   "execution_count": 58,
   "metadata": {
    "ExecuteTime": {
     "end_time": "2018-05-18T18:19:49.571779Z",
     "start_time": "2018-05-18T18:19:48.846178Z"
    },
    "scrolled": false
   },
   "outputs": [
    {
     "data": {
      "image/png": "[encoded data removed]",
      "text/plain": [
       "<Figure size 432x288 with 2 Axes>"
      ]
     },
     "metadata": {},
     "output_type": "display_data"
    },
    {
     "data": {
      "image/png": "[encoded data removed]",
      "text/plain": [
       "<Figure size 432x288 with 2 Axes>"
      ]
     },
     "metadata": {},
     "output_type": "display_data"
    },
    {
     "data": {
      "image/png": "[encoded data removed]",
      "text/plain": [
       "<Figure size 432x288 with 2 Axes>"
      ]
     },
     "metadata": {},
     "output_type": "display_data"
    },
    {
     "data": {
      "image/png": "[encoded data removed]",
      "text/plain": [
       "<Figure size 432x288 with 2 Axes>"
      ]
     },
     "metadata": {},
     "output_type": "display_data"
    },
    {
     "data": {
      "image/png": "[encoded data removed]",
      "text/plain": [
       "<Figure size 432x288 with 2 Axes>"
      ]
     },
     "metadata": {},
     "output_type": "display_data"
    }
   ],
   "source": [
    "data = all_grids_3b[4]\n",
    "dists = np.linspace(grid_start, r_cut, num_3b)\n",
    "z_min, z_max = -np.max(np.abs(data)), np.max(np.abs(data))\n",
    "for i in range(0, len(dists), 2):\n",
    "    plt.title(dists[i])\n",
    "    plt.pcolor(dists, dists, -data[:,:,i], cmap='RdBu', vmin=z_min, vmax=z_max)\n",
    "    plt.colorbar()\n",
    "    plt.axis('equal')\n",
    "\n",
    "    plt.show()"
   ]
  },
  {
   "cell_type": "code",
   "execution_count": 59,
   "metadata": {
    "ExecuteTime": {
     "end_time": "2018-05-18T18:19:58.996424Z",
     "start_time": "2018-05-18T18:19:58.951385Z"
    }
   },
   "outputs": [],
   "source": [
    "def find_triplets(atoms, nl):\n",
    "    # atomic_numbers = self.atoms.get_array('numbers', copy=False)\n",
    "\n",
    "    indices, distances, positions = [], [], dict()\n",
    "\n",
    "    for i in range(len(atoms)):\n",
    "\n",
    "        inds, pos, dists2 = nl.get_neighbors(i)\n",
    "\n",
    "        # Limitation\n",
    "        assert len(inds) is len(np.unique(inds)), \"There are repetitive indices!\\n{}\".format(inds)\n",
    "\n",
    "        # ignoring already visited atoms\n",
    "        inds, pos, dists2 = inds[inds > i], pos[inds > i, :], dists2[inds > i]\n",
    "        dists = np.sqrt(dists2)\n",
    "\n",
    "        for local_ind, (j, pos_ij, dist_ij) in enumerate(zip(inds, pos, dists)):\n",
    "\n",
    "            # Caching local displacement vectors\n",
    "            positions[(i, j)], positions[(j, i)] = pos_ij, -pos_ij\n",
    "\n",
    "            for k, dist_ik in islice(zip(inds, dists), local_ind + 1, None):\n",
    "\n",
    "                try:\n",
    "                    jk_ind = list(nl[j]).index(k)\n",
    "                except ValueError:\n",
    "                    continue  # no valid triplet\n",
    "\n",
    "                _, _, dists_j = nl.get_neighbors(j)\n",
    "\n",
    "                indices.append([i, j, k])\n",
    "                distances.append([dist_ij, dist_ik, np.sqrt(dists_j[jk_ind])])\n",
    "\n",
    "    return np.array(indices), np.array(distances), positions\n",
    "\n",
    "# def find_triplets2(atoms, nl):\n",
    "#     indices, distances, positions = [], [], dict()\n",
    "\n",
    "#     # caching\n",
    "#     arr = [nl.get_neighbors(i) for i in range(len(nl))]\n",
    "\n",
    "#     for i, (inds, pos, dists2) in enumerate(arr):\n",
    "#         # assert len(inds) is len(np.unique(inds)), \"There are repetitive indices!\\n{}\".format(inds)\n",
    "\n",
    "#         # ingnore already visited nodes\n",
    "#         inds, pos, dists2 = inds[inds > i], pos[inds > i, :], dists2[inds > i]\n",
    "\n",
    "#         dists = np.sqrt(dists2)\n",
    "#         pos = pos / dists.reshape(-1, 1)\n",
    "\n",
    "#         for (j_ind, j), (k_ind, k) in combinations(enumerate(inds), 2):\n",
    "\n",
    "#             jk_ind, = np.where(arr[j][0] == k)\n",
    "\n",
    "#             if not jk_ind.size:\n",
    "#                 continue  # no valid triplet\n",
    "\n",
    "#             indices.append([i, j, k])\n",
    "\n",
    "#             # Caching local position vectors\n",
    "#             dist_jk = np.sqrt(arr[j][2][jk_ind[0]])\n",
    "#             positions[(i, j)], positions[(j, i)] = pos[j_ind], -pos[j_ind]\n",
    "#             positions[(i, k)], positions[(k, i)] = pos[k_ind], -pos[k_ind]\n",
    "#             positions[(j, k)], positions[(k, j)] = \\\n",
    "#                 arr[j][1][jk_ind[0], :] / dist_jk, -arr[j][1][jk_ind[0], :] / dist_jk\n",
    "\n",
    "#             distances.append([dists[j_ind], dists[k_ind], dist_jk])\n",
    "\n",
    "#     return np.array(indices), np.array(distances), positions"
   ]
  },
  {
   "cell_type": "code",
   "execution_count": null,
   "metadata": {},
   "outputs": [],
   "source": []
  },
  {
   "cell_type": "code",
   "execution_count": 60,
   "metadata": {
    "ExecuteTime": {
     "end_time": "2018-05-18T18:20:00.157714Z",
     "start_time": "2018-05-18T18:20:00.111511Z"
    },
    "scrolled": false
   },
   "outputs": [
    {
     "name": "stdout",
     "output_type": "stream",
     "text": [
      "test 0\n",
      "[-0.81701576  0.06283025 -0.31776974]\n",
      "[-0.81701177  0.06283031 -0.31855326]\n",
      "[-0.00662752 -0.00131296 -0.00487827]\n",
      "[ 0.00562504 -0.0022672   0.00037585]\n",
      "[-0.396088  0.058324 -0.40305 ]\n",
      "test 0\n",
      "[-0.81701576  0.06283025 -0.31776974]\n",
      "[-0.81701177  0.06283031 -0.31855326]\n",
      "[ 0.0039079  -0.01477247 -0.01381462]\n",
      "[ 0.00562504 -0.0022672   0.00037585]\n",
      "[-0.396088  0.058324 -0.40305 ]\n"
     ]
    }
   ],
   "source": [
    "from itertools import combinations, islice\n",
    "\n",
    "forces_2b = np.zeros((ntest, 3))\n",
    "forces_3b = np.zeros((ntest, 3))\n",
    "\n",
    "for i in np.arange(ntest):\n",
    "\n",
    "    coords = np.vstack([[0,0,0], tst_confs[i][:,:3]])\n",
    "    atoms = Atoms('Fe' + str(len(coords)), positions=coords)\n",
    "\n",
    "    atoms.set_cell([100,100,100])\n",
    "    nl = FullNeighborList(rCut=r_cut, atoms=atoms, driftfactor=0.)\n",
    "\n",
    "    inds, pos, dists2 = nl.get_neighbors(0)\n",
    "\n",
    "    dists = np.sqrt(dists2).reshape(-1, 1)\n",
    "    norm = pos / dists\n",
    "\n",
    "    energy_local = mapped_2b(dists, nu=0)\n",
    "    fs_scalars = - mapped_2b(dists, nu=1)\n",
    "\n",
    "    potential_energies = 1 / 2 * np.sum(energy_local, axis=0)\n",
    "    forces_2b[i] = np.sum(norm * fs_scalars, axis=0)\n",
    "\n",
    "    # 3 body    \n",
    "    indices, distances, positions = find_triplets([atoms[0]], nl)\n",
    "\n",
    "#     print(indices)\n",
    "    \n",
    "    xi, yi, zi = np.hsplit(distances, 3)\n",
    "    mapped = mapped_3b.ev_all(zi, xi, yi)\n",
    "\n",
    "    for (i, j, k), energy, dE_ij, dE_jk, dE_ki in zip(indices, mapped[0], mapped[1], mapped[2], mapped[3]):\n",
    "        forces_3b[i] +=  positions[(i, j)] * dE_ij + positions[(i, k)] * dE_ki\n",
    "        # forces_3b[j] += - positions[(j, k)] * dE_jk - positions[(j, i)] * dE_ij\n",
    "        # forces_3b[k] += - positions[(k, i)] * dE_ki - positions[(k, j)] * dE_jk\n",
    "\n",
    "        # potential_energies[[i, j, k]] += energy\n",
    "\n",
    "    print('test {}'.format(i))\n",
    "    print(forces_2b[i])\n",
    "    print(gp_2b_forces[i])\n",
    "    print(forces_3b[i])\n",
    "    print(gp_3b_forces[i])\n",
    "    print(tst_forces[i])\n",
    "\n"
   ]
  },
  {
   "cell_type": "code",
   "execution_count": 61,
   "metadata": {
    "ExecuteTime": {
     "end_time": "2018-05-18T18:20:00.452148Z",
     "start_time": "2018-05-18T18:20:00.334213Z"
    },
    "scrolled": false
   },
   "outputs": [
    {
     "name": "stdout",
     "output_type": "stream",
     "text": [
      "test 0\n",
      "[-0.81701576  0.06283025 -0.31776974]\n",
      "[-0.81701177  0.06283031 -0.31855326]\n",
      "[-0.00271961 -0.01608543 -0.01869289]\n",
      "[ 0.00562504 -0.0022672   0.00037585]\n",
      "[[ 0.00562504 -0.0022672   0.00037585]]\n",
      "[-0.396088  0.058324 -0.40305 ]\n"
     ]
    }
   ],
   "source": [
    "i=0\n",
    "\n",
    "coords = np.vstack([[0,0,0], tst_confs[i][:,:3]])\n",
    "atoms = Atoms('Fe' + str(len(coords)), positions=coords)\n",
    "\n",
    "atoms.set_cell([100,100,100])\n",
    "nl = FullNeighborList(rCut=r_cut, atoms=atoms, driftfactor=0.)\n",
    "\n",
    "inds, pos, dists2 = nl.get_neighbors(0)\n",
    "\n",
    "dists = np.sqrt(dists2).reshape(-1, 1)\n",
    "norm = pos / dists\n",
    "\n",
    "energy_local = mapped_2b(dists, nu=0)\n",
    "fs_scalars = - mapped_2b(dists, nu=1)\n",
    "\n",
    "potential_energies = 1 / 2 * np.sum(energy_local, axis=0)\n",
    "forces_2b[i] = np.sum(norm * fs_scalars, axis=0)\n",
    "\n",
    "# 3 body    \n",
    "indices, distances, positions = find_triplets([atoms[0]], nl)\n",
    "\n",
    "#     print(indices)\n",
    "\n",
    "xi, yi, zi = np.hsplit(distances, 3)\n",
    "mapped = mapped_3b.ev_all(zi, xi, yi)\n",
    "\n",
    "for (i, j, k), energy, dE_ij, dE_jk, dE_ki in zip(indices, mapped[0], mapped[1], mapped[2], mapped[3]):\n",
    "    forces_3b[i] +=  positions[(i, j)] * dE_ij + positions[(i, k)] * dE_ki\n",
    "    # forces_3b[j] += - positions[(j, k)] * dE_jk - positions[(j, i)] * dE_ij\n",
    "    # forces_3b[k] += - positions[(k, i)] * dE_ki - positions[(k, j)] * dE_jk\n",
    "\n",
    "    # potential_energies[[i, j, k]] += energy\n",
    "forces_3b_gp_test = 0\n",
    "for (i,j,k) in indices:\n",
    "    \n",
    "    conf = np.array([[\n",
    "        [*positions[(i,j)], 26, 26],\n",
    "        [*positions[(i,k)], 26, 26]\n",
    "    ]])\n",
    "#     print(conf)\n",
    "    forces_3b_gp_test += gp_3.predict(conf)\n",
    "\n",
    "\n",
    "print('test {}'.format(i))\n",
    "print(forces_2b[i])\n",
    "print(gp_2b_forces[i])\n",
    "print(forces_3b[i])\n",
    "print(gp_3b_forces[i])\n",
    "print(forces_3b_gp_test)\n",
    "print(tst_forces[i])"
   ]
  },
  {
   "cell_type": "markdown",
   "metadata": {},
   "source": [
    "## ASE Calculator"
   ]
  },
  {
   "cell_type": "code",
   "execution_count": 62,
   "metadata": {
    "ExecuteTime": {
     "end_time": "2018-05-18T18:20:00.719053Z",
     "start_time": "2018-05-18T18:20:00.685922Z"
    }
   },
   "outputs": [],
   "source": [
    "\n",
    "def rmse(x1, x2):\n",
    "    rms = np.sqrt(np.sum(np.square(x1 - x2), axis=1))\n",
    "    return np.mean(rms), np.std(rms)\n",
    "    "
   ]
  },
  {
   "cell_type": "code",
   "execution_count": 63,
   "metadata": {
    "ExecuteTime": {
     "end_time": "2018-05-18T18:20:01.796019Z",
     "start_time": "2018-05-18T18:20:01.759840Z"
    }
   },
   "outputs": [],
   "source": [
    "# grid_2b = TwoBodySingleSpeciesGrid.from_file(str(directory / 'MFF_2b_ntr_20_sig_0.30_cut_4.45.npy'))\n",
    "# grid_3b = ThreeBodySingleSpeciesGrid.from_file(str(directory / 'MFF_3b_ntr_20_sig_0.60_cut_4.45.npy'))\n",
    "\n",
    "# calc = ThreeBodySingleSpecies(r_cut=4.45, grid_2b=grid_2b, grid_3b=grid_3b)\n",
    "\n",
    "\n",
    "# filename = directory / 'movie.xyz'\n",
    "# traj = read(str(filename), index=slice(0,5))\n",
    "# for atoms in traj[0:5]:\n",
    "\n",
    "#     atoms.set_calculator(calc)\n",
    "\n",
    "#     rms_mean, rms_std = rmse(atoms.arrays['force'], atoms.get_forces())\n",
    "#     print('MAEF on forces: {:.4f} +- {:.4f}'.format(rms_mean, rms_std))\n",
    "\n"
   ]
  },
  {
   "cell_type": "code",
   "execution_count": 64,
   "metadata": {
    "ExecuteTime": {
     "end_time": "2018-05-18T18:20:03.732079Z",
     "start_time": "2018-05-18T18:20:01.912421Z"
    }
   },
   "outputs": [
    {
     "name": "stderr",
     "output_type": "stream",
     "text": [
      "INFO:m_ff.calculators:numbers is in system_changes\n",
      "INFO:m_ff.calculators:initialize\n"
     ]
    },
    {
     "name": "stdout",
     "output_type": "stream",
     "text": [
      "MAEF on forces: 1.1714 +- 0.4670\n",
      "MAEF on forces: 1.1753 +- 0.4562\n",
      "MAEF on forces: 1.1756 +- 0.4556\n",
      "MAEF on forces: 1.1772 +- 0.4605\n",
      "MAEF on forces: 1.1765 +- 0.4707\n"
     ]
    }
   ],
   "source": [
    "\n",
    "rs, element1, _, grid_1_1_data, _ = np.load(directory / 'MFF_2b_ntr_20_sig_0.30_cut_4.45.npy')\n",
    "grid_2b = Spline1D(rs, grid_1_1_data)\n",
    "\n",
    "# calc = TwoBodySingleSpecies(r_cut=4.45, grid_2b=grid_2b)\n",
    "\n",
    "rs, element1, _, _, grid_1_1_1_data = np.load(directory / 'MFF_3b_ntr_20_sig_0.60_cut_4.45.npy')\n",
    "grid_3b = Spline3D(rs, rs, rs, grid_1_1_1_data)\n",
    "\n",
    "calc = ThreeBodySingleSpecies(r_cut=4.45, grid_2b=grid_2b, grid_3b=grid_3b)\n",
    "\n",
    "\n",
    "filename = directory / 'movie.xyz'\n",
    "traj = read(str(filename), index=slice(0,5))\n",
    "\n",
    "for atoms in traj:\n",
    "\n",
    "    atoms.set_calculator(calc)\n",
    "\n",
    "    rms_mean, rms_std = rmse(atoms.arrays['force'], atoms.get_forces())\n",
    "    print('MAEF on forces: {:.4f} +- {:.4f}'.format(rms_mean, rms_std))\n",
    "\n",
    "\n"
   ]
  },
  {
   "cell_type": "code",
   "execution_count": null,
   "metadata": {},
   "outputs": [],
   "source": []
  },
  {
   "cell_type": "code",
   "execution_count": null,
   "metadata": {},
   "outputs": [],
   "source": []
  },
  {
   "cell_type": "code",
   "execution_count": null,
   "metadata": {},
   "outputs": [],
   "source": []
  },
  {
   "cell_type": "code",
   "execution_count": null,
   "metadata": {},
   "outputs": [],
   "source": []
  }
 ],
 "metadata": {
  "kernelspec": {
   "display_name": "Python 3",
   "language": "python",
   "name": "python3"
  },
  "language_info": {
   "codemirror_mode": {
    "name": "ipython",
    "version": 3
   },
   "file_extension": ".py",
   "mimetype": "text/x-python",
   "name": "python",
   "nbconvert_exporter": "python",
   "pygments_lexer": "ipython3",
   "version": "3.6.5"
  },
  "toc": {
   "base_numbering": 1,
   "nav_menu": {
    "height": "170px",
    "width": "182px"
   },
   "number_sections": false,
   "sideBar": true,
   "skip_h1_title": true,
   "title_cell": "Table of Contents",
   "title_sidebar": "Contents",
   "toc_cell": false,
   "toc_position": {
    "height": "calc(100% - 180px)",
    "left": "10px",
    "top": "150px",
    "width": "165px"
   },
   "toc_section_display": true,
   "toc_window_display": true
  }
 },
 "nbformat": 4,
 "nbformat_minor": 2
}
