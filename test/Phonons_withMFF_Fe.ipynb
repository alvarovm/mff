{
 "cells": [
  {
   "cell_type": "code",
   "execution_count": 1,
   "metadata": {
    "ExecuteTime": {
     "end_time": "2018-06-27T08:48:35.814961Z",
     "start_time": "2018-06-27T08:48:34.474898Z"
    }
   },
   "outputs": [],
   "source": [
    "import sys\n",
    "sys.path.append('..')\n",
    "%matplotlib inline\n",
    "%load_ext autoreload\n",
    "%autoreload 2\n",
    "import os\n",
    "import logging\n",
    "from pathlib import Path\n",
    "\n",
    "import numpy as np\n",
    "import matplotlib.pyplot as plt\n",
    "\n",
    "from ase import Atoms\n",
    "from ase.io import read\n",
    "\n",
    "from m_ff.configurations import carve_confs\n",
    "from m_ff.models import TwoBodySingleSpeciesModel, ThreeBodySingleSpeciesModel, CombinedSingleSpeciesModel\n",
    "from m_ff.calculators import TwoBodySingleSpecies, ThreeBodySingleSpecies, CombinedSingleSpecies\n",
    "\n",
    "logging.basicConfig(level=logging.INFO)"
   ]
  },
  {
   "cell_type": "markdown",
   "metadata": {
    "ExecuteTime": {
     "end_time": "2018-06-25T09:23:25.585704Z",
     "start_time": "2018-06-25T09:23:25.472993Z"
    }
   },
   "source": [
    "## Parameters"
   ]
  },
  {
   "cell_type": "code",
   "execution_count": 2,
   "metadata": {
    "ExecuteTime": {
     "end_time": "2018-06-27T08:48:36.765306Z",
     "start_time": "2018-06-27T08:48:36.738005Z"
    }
   },
   "outputs": [],
   "source": [
    "# Parameters\n",
    "directory = Path('data/Fe_grain_001/')\n",
    "r_cut = 3.4\n",
    "sigma_2b = 0.3\n",
    "sigma_3b = 0.6\n",
    "noise = 0.00000001\n",
    "\n",
    "# GP Parameters\n",
    "ntr = 300\n",
    "ntest = 100\n",
    "combine_2b_3b = True\n",
    "\n",
    "# mapping\n",
    "grid_start = 2.0\n",
    "num_2b = 100\n",
    "num_3b = 50"
   ]
  },
  {
   "cell_type": "code",
   "execution_count": 3,
   "metadata": {
    "ExecuteTime": {
     "end_time": "2018-06-27T08:48:39.104047Z",
     "start_time": "2018-06-27T08:48:38.995449Z"
    }
   },
   "outputs": [],
   "source": [
    "# # ----------------------------------------\n",
    "# # Construct a configuration database\n",
    "# # ----------------------------------------\n",
    "n_data = 5000\n",
    "\n",
    "filename = directory / 'dft_all_snapshots.xyz'\n",
    "\n",
    "traj = read(filename, index=slice(None), format='extxyz')"
   ]
  },
  {
   "cell_type": "code",
   "execution_count": 4,
   "metadata": {
    "ExecuteTime": {
     "end_time": "2018-06-27T08:48:40.223871Z",
     "start_time": "2018-06-27T08:48:39.876875Z"
    }
   },
   "outputs": [
    {
     "name": "stderr",
     "output_type": "stream",
     "text": [
      "INFO:root:Reading traj step 0\n",
      "INFO:root:Reading traj step 1\n",
      "INFO:root:Reading traj step 2\n",
      "INFO:root:Reading traj step 3\n"
     ]
    },
    {
     "name": "stdout",
     "output_type": "stream",
     "text": [
      "WARNING: n_data is larger that total number of configuration\n",
      "Settin n_data = 3840\n"
     ]
    },
    {
     "name": "stderr",
     "output_type": "stream",
     "text": [
      "INFO:root:Number of atoms in a configuration:\n",
      "   maximum: 16\n",
      "   minimum: 12\n",
      "   average: 13.81\n"
     ]
    }
   ],
   "source": [
    "elements, confs, forces, energies = carve_confs(\n",
    "    traj, r_cut, n_data,\n",
    "    forces_label='forces')\n",
    "\n",
    "if not os.path.exists(directory):\n",
    "    os.makedirs(directory)\n",
    "\n",
    "np.save('{}/confs_cut={:.2f}.npy'.format(directory, r_cut), confs)\n",
    "np.save('{}/forces_cut={:.2f}.npy'.format(directory, r_cut), forces)\n",
    "\n",
    "lens = [len(conf) for conf in confs]\n",
    "\n",
    "logging.info('\\n'.join((\n",
    "    'Number of atoms in a configuration:',\n",
    "    '   maximum: {}'.format(np.max(lens)),\n",
    "    '   minimum: {}'.format(np.min(lens)),\n",
    "    '   average: {:.4}'.format(np.mean(lens))\n",
    ")))"
   ]
  },
  {
   "cell_type": "code",
   "execution_count": 5,
   "metadata": {
    "ExecuteTime": {
     "end_time": "2018-06-27T08:48:41.739136Z",
     "start_time": "2018-06-27T08:48:41.288499Z"
    }
   },
   "outputs": [
    {
     "name": "stdout",
     "output_type": "stream",
     "text": [
      "M is 13.808854166666666 += 0.3858591037326562\n"
     ]
    },
    {
     "data": {
      "image/png": "[encoded data removed]",
      "text/plain": [
       "<Figure size 432x288 with 1 Axes>"
      ]
     },
     "metadata": {},
     "output_type": "display_data"
    }
   ],
   "source": [
    "confs = np.load(str(directory) + '/confs_cut={:.2f}.npy'.format(r_cut))\n",
    "\n",
    "distances = []\n",
    "M_mean = 0.\n",
    "M_std = 0.\n",
    "for c in confs:\n",
    "    distances += np.linalg.norm(c[:, 0:3], axis=1).tolist()\n",
    "    M_mean += c.shape[0]\n",
    "    M_std += c.shape[0] ** 2\n",
    "\n",
    "M_mean = M_mean / len(confs)\n",
    "M_std = M_std / len(confs) - M_mean ** 2\n",
    "print('M is {} += {}'.format(M_mean, M_std))\n",
    "plt.hist(distances, 40)\n",
    "plt.show()"
   ]
  },
  {
   "cell_type": "code",
   "execution_count": 6,
   "metadata": {
    "ExecuteTime": {
     "end_time": "2018-06-27T08:48:43.043715Z",
     "start_time": "2018-06-27T08:48:42.931087Z"
    }
   },
   "outputs": [],
   "source": [
    "# Get configurations and forces from file\n",
    "confs = np.load(directory / 'confs_cut={:.2f}.npy'.format(r_cut))\n",
    "forces = np.load(directory / 'forces_cut={:.2f}.npy'.format(r_cut))\n",
    "\n",
    "numconfs = len(forces)\n",
    "ind = np.arange(numconfs)\n",
    "ind_tot = np.random.choice(ind, size=ntr + ntest, replace=False)\n",
    "\n",
    "# Use fixed training and testing dataset\n",
    "tr_confs, tr_forces = confs[ind_tot[:ntr]], forces[ind_tot[:ntr]]\n",
    "tst_confs, tst_forces = confs[ind_tot[ntr:]], forces[ind_tot[ntr:]]"
   ]
  },
  {
   "cell_type": "markdown",
   "metadata": {
    "ExecuteTime": {
     "end_time": "2018-06-25T09:31:56.352629Z",
     "start_time": "2018-06-25T09:31:56.298289Z"
    }
   },
   "source": [
    "## GP - 2+3Body"
   ]
  },
  {
   "cell_type": "code",
   "execution_count": 7,
   "metadata": {
    "ExecuteTime": {
     "end_time": "2018-06-27T09:32:48.743586Z",
     "start_time": "2018-06-27T08:48:44.571419Z"
    }
   },
   "outputs": [
    {
     "name": "stderr",
     "output_type": "stream",
     "text": [
      "INFO:m_ff.kernels.twobody:Started compilation of theano two body single species kernels\n",
      "INFO:m_ff.kernels.twobody:Ended compilation of theano two body single species kernels\n",
      "INFO:m_ff.kernels.threebodykernel:Started compilation of theano three body kernels\n",
      "INFO:m_ff.kernels.threebodykernel:Ended compilation of theano three body kernels\n"
     ]
    }
   ],
   "source": [
    "model_3b = CombinedSingleSpeciesModel(elements[0], r_cut, sigma_2b, sigma_3b, r_cut / 10.0, r_cut / 10.0, noise)\n",
    "model_3b.fit(tr_confs, tr_forces)"
   ]
  },
  {
   "cell_type": "code",
   "execution_count": 8,
   "metadata": {
    "ExecuteTime": {
     "end_time": "2018-06-27T09:46:20.093466Z",
     "start_time": "2018-06-27T09:32:48.745724Z"
    }
   },
   "outputs": [
    {
     "name": "stdout",
     "output_type": "stream",
     "text": [
      "Testing GP\n",
      "MAE on training set  forces: 0.0742 +- 0.0854\n"
     ]
    }
   ],
   "source": [
    "# Test the GP performance\n",
    "print('Testing GP')\n",
    "\n",
    "gp_forces = np.zeros((ntest, 3))\n",
    "\n",
    "for i in np.arange(ntest):\n",
    "    gp_forces[i] = model_3b.predict(np.reshape(tst_confs[i], (1, len(tst_confs[i]), 5)))   \n",
    "    \n",
    "gp_error = gp_forces - tst_forces\n",
    "\n",
    "MAE = np.mean(np.abs(gp_error))\n",
    "SMAE = np.std(np.abs(gp_error))\n",
    "\n",
    "print('MAE on training set  forces: {:.4f} +- {:.4f}'.format(MAE, SMAE))"
   ]
  },
  {
   "cell_type": "code",
   "execution_count": 9,
   "metadata": {
    "ExecuteTime": {
     "end_time": "2018-06-27T09:46:20.265155Z",
     "start_time": "2018-06-27T09:46:20.095597Z"
    }
   },
   "outputs": [
    {
     "data": {
      "image/png": "[encoded data removed]",
      "text/plain": [
       "<Figure size 432x288 with 1 Axes>"
      ]
     },
     "metadata": {},
     "output_type": "display_data"
    }
   ],
   "source": [
    "plt.scatter(tst_forces, gp_forces)\n",
    "plt.plot(tst_forces, tst_forces, 'k-')\n",
    "plt.show()"
   ]
  },
  {
   "cell_type": "code",
   "execution_count": 10,
   "metadata": {
    "ExecuteTime": {
     "end_time": "2018-06-27T10:35:23.928585Z",
     "start_time": "2018-06-27T09:46:20.272908Z"
    }
   },
   "outputs": [],
   "source": [
    "model_3b.build_grid(grid_start, num_2b, num_3b)"
   ]
  },
  {
   "cell_type": "code",
   "execution_count": 11,
   "metadata": {
    "ExecuteTime": {
     "end_time": "2018-06-27T10:35:23.959726Z",
     "start_time": "2018-06-27T10:35:23.930236Z"
    }
   },
   "outputs": [],
   "source": [
    "calc = CombinedSingleSpecies(r_cut, model_3b.grid[(26, 26)], model_3b.grid[(26, 26, 26)])"
   ]
  },
  {
   "cell_type": "code",
   "execution_count": 18,
   "metadata": {
    "ExecuteTime": {
     "end_time": "2018-06-27T11:02:53.809307Z",
     "start_time": "2018-06-27T11:02:53.722107Z"
    }
   },
   "outputs": [
    {
     "data": {
      "text/plain": [
       "2.4733685532083567"
      ]
     },
     "execution_count": 18,
     "metadata": {},
     "output_type": "execute_result"
    }
   ],
   "source": [
    "\n",
    "from ase.calculators.emt import EMT\n",
    "from ase.dft.kpoints import ibz_points, bandpath\n",
    "from ase.phonons import Phonons\n",
    "\n",
    "# Setup crystal and EMT calculator\n",
    "# atoms = bulk('Si', 'diamond', a=5.39760794)\n",
    "atoms = bulk('Fe', 'bcc', a=2.856, cubic=True)\n",
    "np.sqrt(np.sum(np.square(atoms.get_positions()[1])))"
   ]
  },
  {
   "cell_type": "code",
   "execution_count": 19,
   "metadata": {
    "ExecuteTime": {
     "end_time": "2018-06-27T11:03:04.777509Z",
     "start_time": "2018-06-27T11:02:54.521544Z"
    }
   },
   "outputs": [
    {
     "name": "stderr",
     "output_type": "stream",
     "text": [
      "INFO:m_ff.calculators:numbers is in system_changes\n",
      "INFO:m_ff.calculators:initialize\n"
     ]
    },
    {
     "name": "stdout",
     "output_type": "stream",
     "text": [
      "Writing phonon.eq.pckl\n",
      "Writing phonon.0x-.pckl\n",
      "Writing phonon.0x+.pckl\n",
      "Writing phonon.0y-.pckl\n",
      "Writing phonon.0y+.pckl\n",
      "Writing phonon.0z-.pckl\n",
      "Writing phonon.0z+.pckl\n",
      "Writing phonon.1x-.pckl\n",
      "Writing phonon.1x+.pckl\n",
      "Writing phonon.1y-.pckl\n",
      "Writing phonon.1y+.pckl\n",
      "Writing phonon.1z-.pckl\n",
      "Writing phonon.1z+.pckl\n"
     ]
    }
   ],
   "source": [
    "# Phonon calculator\n",
    "N = 7\n",
    "ph = Phonons(atoms, calc, supercell=(N, N, N), delta=0.003)\n",
    "ph.run()"
   ]
  },
  {
   "cell_type": "code",
   "execution_count": 20,
   "metadata": {
    "ExecuteTime": {
     "end_time": "2018-06-27T11:03:56.143204Z",
     "start_time": "2018-06-27T11:03:14.465407Z"
    }
   },
   "outputs": [
    {
     "name": "stdout",
     "output_type": "stream",
     "text": [
      "WARNING, 2 imaginary frequencies at q = ( 0.00,  0.00,  0.00) ; (omega_q = 6.619e-09*i)\n",
      "WARNING, 2 imaginary frequencies at q = ( 0.00,  0.00,  0.00) ; (omega_q = 6.619e-09*i)\n"
     ]
    }
   ],
   "source": [
    "# Read forces and assemble the dynamical matrix\n",
    "ph.read(acoustic=True)\n",
    "\n",
    "# High-symmetry points in the Brillouin zone\n",
    "points = ibz_points['fcc']\n",
    "G = points['Gamma']\n",
    "X = points['X']\n",
    "W = points['W']\n",
    "K = points['K']\n",
    "L = points['L']\n",
    "U = points['U']\n",
    "\n",
    "point_names = ['$\\Gamma$', 'X', 'U', 'L', '$\\Gamma$', 'K']\n",
    "path = [G, X, U, L, G, K]\n",
    "\n",
    "# Band structure in meV\n",
    "path_kc, q, Q = bandpath(path, atoms.cell, 100)\n",
    "omega_kn = 1000 * ph.band_structure(path_kc)\n",
    "\n",
    "# Calculate phonon DOS\n",
    "omega_e, dos_e = ph.dos(kpts=(50, 50, 50), npts=5000, delta=5e-4)\n",
    "omega_e *= 1000"
   ]
  },
  {
   "cell_type": "code",
   "execution_count": 17,
   "metadata": {
    "ExecuteTime": {
     "end_time": "2018-06-27T11:01:28.444594Z",
     "start_time": "2018-06-27T11:01:27.909872Z"
    }
   },
   "outputs": [
    {
     "name": "stderr",
     "output_type": "stream",
     "text": [
      "/opt/conda/lib/python3.6/site-packages/matplotlib/cbook/deprecation.py:107: MatplotlibDeprecationWarning: Passing one of 'on', 'true', 'off', 'false' as a boolean is deprecated; use an actual boolean (True/False) instead.\n",
      "  warnings.warn(message, mplDeprecation, stacklevel=1)\n"
     ]
    },
    {
     "data": {
      "image/png": "[encoded data removed]",
      "text/plain": [
       "<Figure size 576x432 with 2 Axes>"
      ]
     },
     "metadata": {},
     "output_type": "display_data"
    }
   ],
   "source": [
    "# Plot the band structure and DOS\n",
    "import matplotlib.pyplot as plt\n",
    "plt.figure(1, (8, 6))\n",
    "plt.axes([.1, .07, .67, .85])\n",
    "for n in range(len(omega_kn[0])):\n",
    "    omega_n = omega_kn[:, n]\n",
    "    plt.plot(q, omega_n, 'k-', lw=2)\n",
    "    \n",
    "plt.xticks(Q, point_names, fontsize=18)\n",
    "\n",
    "plt.yticks(fontsize=18)\n",
    "plt.xlim(q[0], q[-1])\n",
    "plt.ylabel(\"Frequency ($\\mathrm{meV}$)\", fontsize=22)\n",
    "plt.grid('on')\n",
    "\n",
    "plt.axes([.8, .07, .17, .85])\n",
    "plt.fill_between(dos_e, omega_e, y2=0, color='lightgrey', edgecolor='k', lw=1)\n",
    "plt.ylim(0, 35)\n",
    "plt.xticks([], [])\n",
    "plt.yticks([], [])\n",
    "plt.xlabel(\"DOS\", fontsize=18)\n",
    "plt.show()"
   ]
  },
  {
   "cell_type": "code",
   "execution_count": null,
   "metadata": {},
   "outputs": [],
   "source": []
  }
 ],
 "metadata": {
  "kernelspec": {
   "display_name": "Python 3",
   "language": "python",
   "name": "python3"
  },
  "language_info": {
   "codemirror_mode": {
    "name": "ipython",
    "version": 3
   },
   "file_extension": ".py",
   "mimetype": "text/x-python",
   "name": "python",
   "nbconvert_exporter": "python",
   "pygments_lexer": "ipython3",
   "version": "3.6.5"
  }
 },
 "nbformat": 4,
 "nbformat_minor": 2
}
