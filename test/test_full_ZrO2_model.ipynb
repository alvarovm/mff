{
 "cells": [
  {
   "cell_type": "code",
   "execution_count": 1,
   "metadata": {
    "ExecuteTime": {
     "end_time": "2018-06-27T09:05:12.797630Z",
     "start_time": "2018-06-27T09:05:09.705079Z"
    }
   },
   "outputs": [],
   "source": [
    "import os\n",
    "import logging\n",
    "\n",
    "import numpy as np\n",
    "import matplotlib.pyplot as plt\n",
    "from ase.io import read\n",
    "\n",
    "import sys\n",
    "\n",
    "sys.path.insert(0, '../')\n",
    "\n",
    "# from original.better_MFF_database import carve_confs\n",
    "# from original import Kernels\n",
    "# from original import GP_for_MFF\n",
    "\n",
    "from m_ff import models\n",
    "from m_ff.configurations import carve_confs\n",
    "\n",
    "logging.basicConfig(level=logging.INFO)"
   ]
  },
  {
   "cell_type": "code",
   "execution_count": 2,
   "metadata": {
    "ExecuteTime": {
     "end_time": "2018-06-27T09:05:12.805229Z",
     "start_time": "2018-06-27T09:05:12.800522Z"
    }
   },
   "outputs": [],
   "source": [
    "\n",
    "# Parameters\n",
    "r_cut = 4.0\n",
    "\n",
    "# GP Parameters\n",
    "sigma = .6\n",
    "noise = 0.001\n"
   ]
  },
  {
   "cell_type": "markdown",
   "metadata": {},
   "source": [
    "# Construct a configuration database"
   ]
  },
  {
   "cell_type": "code",
   "execution_count": null,
   "metadata": {},
   "outputs": [],
   "source": []
  },
  {
   "cell_type": "code",
   "execution_count": 3,
   "metadata": {
    "ExecuteTime": {
     "end_time": "2018-06-27T09:05:22.131958Z",
     "start_time": "2018-06-27T09:05:13.906133Z"
    },
    "scrolled": true
   },
   "outputs": [
    {
     "name": "stderr",
     "output_type": "stream",
     "text": [
      "INFO:root:Reading traj step 0\n",
      "INFO:root:Reading traj step 1\n",
      "INFO:root:Reading traj step 2\n",
      "INFO:root:Reading traj step 3\n",
      "INFO:root:Reading traj step 4\n",
      "INFO:root:Reading traj step 5\n",
      "INFO:root:Reading traj step 6\n",
      "INFO:root:Reading traj step 7\n",
      "INFO:root:Reading traj step 8\n",
      "INFO:root:Reading traj step 9\n",
      "INFO:root:Reading traj step 10\n",
      "INFO:root:Reading traj step 11\n",
      "INFO:root:Reading traj step 12\n",
      "INFO:root:Reading traj step 13\n",
      "INFO:root:Reading traj step 14\n",
      "INFO:root:Reading traj step 15\n",
      "INFO:root:Reading traj step 16\n",
      "INFO:root:Reading traj step 17\n",
      "INFO:root:Reading traj step 18\n",
      "INFO:root:Reading traj step 19\n",
      "INFO:root:Reading traj step 20\n",
      "INFO:root:Reading traj step 21\n",
      "INFO:root:Reading traj step 22\n",
      "INFO:root:Reading traj step 23\n",
      "INFO:root:Reading traj step 24\n",
      "INFO:root:Reading traj step 25\n",
      "INFO:root:Reading traj step 26\n",
      "INFO:root:Reading traj step 27\n",
      "INFO:root:Reading traj step 28\n",
      "INFO:root:Reading traj step 29\n",
      "INFO:root:Reading traj step 30\n",
      "INFO:root:Reading traj step 31\n",
      "INFO:root:Reading traj step 32\n",
      "INFO:root:Reading traj step 33\n",
      "INFO:root:Reading traj step 34\n",
      "INFO:root:Reading traj step 35\n",
      "INFO:root:Reading traj step 36\n",
      "INFO:root:Reading traj step 37\n",
      "INFO:root:Reading traj step 38\n",
      "INFO:root:Reading traj step 39\n",
      "INFO:root:Reading traj step 40\n",
      "INFO:root:Reading traj step 41\n",
      "INFO:root:Reading traj step 42\n",
      "INFO:root:Reading traj step 43\n",
      "INFO:root:Reading traj step 44\n",
      "INFO:root:Reading traj step 45\n",
      "INFO:root:Reading traj step 46\n",
      "INFO:root:Reading traj step 47\n",
      "INFO:root:Reading traj step 48\n",
      "INFO:root:Reading traj step 49\n",
      "INFO:root:Reading traj step 50\n",
      "INFO:root:Reading traj step 51\n",
      "INFO:root:Reading traj step 52\n",
      "INFO:root:Reading traj step 53\n",
      "INFO:root:Reading traj step 54\n",
      "INFO:root:Reading traj step 55\n",
      "INFO:root:Reading traj step 56\n",
      "INFO:root:Reading traj step 57\n",
      "INFO:root:Reading traj step 58\n",
      "INFO:root:Reading traj step 59\n",
      "INFO:root:Reading traj step 60\n",
      "INFO:root:Reading traj step 61\n",
      "INFO:root:Reading traj step 62\n",
      "INFO:root:Reading traj step 63\n",
      "INFO:root:Reading traj step 64\n",
      "INFO:root:Reading traj step 65\n",
      "INFO:root:Reading traj step 66\n",
      "INFO:root:Reading traj step 67\n",
      "INFO:root:Reading traj step 68\n",
      "INFO:root:Reading traj step 69\n",
      "INFO:root:Reading traj step 70\n",
      "INFO:root:Reading traj step 71\n",
      "INFO:root:Reading traj step 72\n",
      "INFO:root:Reading traj step 73\n",
      "INFO:root:Reading traj step 74\n",
      "INFO:root:Reading traj step 75\n",
      "INFO:root:Reading traj step 76\n",
      "INFO:root:Reading traj step 77\n",
      "INFO:root:Reading traj step 78\n",
      "INFO:root:Reading traj step 79\n",
      "INFO:root:Reading traj step 80\n",
      "INFO:root:Reading traj step 81\n",
      "INFO:root:Reading traj step 82\n",
      "INFO:root:Reading traj step 83\n",
      "INFO:root:Reading traj step 84\n",
      "INFO:root:Reading traj step 85\n",
      "INFO:root:Reading traj step 86\n",
      "INFO:root:Reading traj step 87\n",
      "INFO:root:Reading traj step 88\n",
      "INFO:root:Reading traj step 89\n",
      "INFO:root:Reading traj step 90\n",
      "INFO:root:Reading traj step 91\n",
      "INFO:root:Reading traj step 92\n",
      "INFO:root:Reading traj step 93\n",
      "INFO:root:Reading traj step 94\n",
      "INFO:root:Reading traj step 95\n",
      "INFO:root:Reading traj step 96\n",
      "INFO:root:Reading traj step 97\n",
      "INFO:root:Reading traj step 98\n",
      "INFO:root:Reading traj step 99\n",
      "INFO:root:Reading traj step 100\n",
      "INFO:root:Reading traj step 101\n",
      "INFO:root:Reading traj step 102\n",
      "INFO:root:Reading traj step 103\n",
      "INFO:root:Reading traj step 104\n",
      "INFO:root:Reading traj step 105\n",
      "INFO:root:Reading traj step 106\n",
      "INFO:root:Reading traj step 107\n",
      "INFO:root:Reading traj step 108\n",
      "INFO:root:Reading traj step 109\n",
      "INFO:root:Reading traj step 110\n",
      "INFO:root:Reading traj step 111\n",
      "INFO:root:Reading traj step 112\n",
      "INFO:root:Reading traj step 113\n",
      "INFO:root:Reading traj step 114\n",
      "INFO:root:Reading traj step 115\n",
      "INFO:root:Reading traj step 116\n",
      "INFO:root:Reading traj step 117\n",
      "INFO:root:Reading traj step 118\n",
      "INFO:root:Reading traj step 119\n",
      "INFO:root:Reading traj step 120\n",
      "INFO:root:Reading traj step 121\n",
      "INFO:root:Reading traj step 122\n",
      "INFO:root:Reading traj step 123\n",
      "INFO:root:Reading traj step 124\n",
      "INFO:root:Reading traj step 125\n",
      "INFO:root:Reading traj step 126\n",
      "INFO:root:Reading traj step 127\n",
      "INFO:root:Reading traj step 128\n",
      "INFO:root:Reading traj step 129\n",
      "INFO:root:Reading traj step 130\n",
      "INFO:root:Reading traj step 131\n",
      "INFO:root:Reading traj step 132\n",
      "INFO:root:Reading traj step 133\n",
      "INFO:root:Reading traj step 134\n",
      "INFO:root:Reading traj step 135\n",
      "INFO:root:Reading traj step 136\n",
      "INFO:root:Reading traj step 137\n",
      "INFO:root:Reading traj step 138\n",
      "INFO:root:Reading traj step 139\n",
      "INFO:root:Reading traj step 140\n",
      "INFO:root:Reading traj step 141\n",
      "INFO:root:Reading traj step 142\n",
      "INFO:root:Reading traj step 143\n",
      "INFO:root:Reading traj step 144\n",
      "INFO:root:Reading traj step 145\n",
      "INFO:root:Reading traj step 146\n",
      "INFO:root:Reading traj step 147\n",
      "INFO:root:Reading traj step 148\n",
      "INFO:root:Reading traj step 149\n",
      "INFO:root:Reading traj step 150\n",
      "INFO:root:Reading traj step 151\n",
      "INFO:root:Reading traj step 152\n",
      "INFO:root:Reading traj step 153\n",
      "INFO:root:Reading traj step 154\n",
      "INFO:root:Reading traj step 155\n",
      "INFO:root:Reading traj step 156\n",
      "INFO:root:Reading traj step 157\n",
      "INFO:root:Reading traj step 158\n",
      "INFO:root:Reading traj step 159\n",
      "INFO:root:Reading traj step 160\n",
      "INFO:root:Reading traj step 161\n",
      "INFO:root:Reading traj step 162\n",
      "INFO:root:Reading traj step 163\n",
      "INFO:root:Reading traj step 164\n",
      "INFO:root:Reading traj step 165\n",
      "INFO:root:Reading traj step 166\n",
      "INFO:root:Reading traj step 167\n",
      "INFO:root:Reading traj step 168\n",
      "INFO:root:Reading traj step 169\n",
      "INFO:root:Reading traj step 170\n",
      "INFO:root:Reading traj step 171\n",
      "INFO:root:Reading traj step 172\n",
      "INFO:root:Reading traj step 173\n",
      "INFO:root:Reading traj step 174\n",
      "INFO:root:Reading traj step 175\n",
      "INFO:root:Reading traj step 176\n",
      "INFO:root:Reading traj step 177\n",
      "INFO:root:Reading traj step 178\n",
      "INFO:root:Reading traj step 179\n",
      "INFO:root:Reading traj step 180\n",
      "INFO:root:Reading traj step 181\n",
      "INFO:root:Reading traj step 182\n",
      "INFO:root:Reading traj step 183\n",
      "INFO:root:Reading traj step 184\n",
      "INFO:root:Reading traj step 185\n",
      "INFO:root:Reading traj step 186\n",
      "INFO:root:Reading traj step 187\n",
      "INFO:root:Reading traj step 188\n",
      "INFO:root:Reading traj step 189\n",
      "INFO:root:Reading traj step 190\n",
      "INFO:root:Reading traj step 191\n",
      "INFO:root:Reading traj step 192\n",
      "INFO:root:Reading traj step 193\n",
      "INFO:root:Reading traj step 194\n",
      "INFO:root:Reading traj step 195\n",
      "INFO:root:Reading traj step 196\n",
      "INFO:root:Reading traj step 197\n",
      "INFO:root:Reading traj step 198\n",
      "INFO:root:Reading traj step 199\n",
      "INFO:root:Reading traj step 200\n",
      "INFO:root:Reading traj step 201\n",
      "INFO:root:Reading traj step 202\n",
      "INFO:root:Reading traj step 203\n",
      "INFO:root:Reading traj step 204\n",
      "INFO:root:Reading traj step 205\n",
      "INFO:root:Reading traj step 206\n",
      "INFO:root:Reading traj step 207\n",
      "INFO:root:Reading traj step 208\n",
      "INFO:root:Reading traj step 209\n",
      "INFO:root:Reading traj step 210\n",
      "INFO:root:Reading traj step 211\n",
      "INFO:root:Reading traj step 212\n",
      "INFO:root:Reading traj step 213\n",
      "INFO:root:Reading traj step 214\n",
      "INFO:root:Reading traj step 215\n",
      "INFO:root:Reading traj step 216\n",
      "INFO:root:Reading traj step 217\n",
      "INFO:root:Reading traj step 218\n",
      "INFO:root:Reading traj step 219\n",
      "INFO:root:Reading traj step 220\n",
      "INFO:root:Reading traj step 221\n",
      "INFO:root:Reading traj step 222\n",
      "INFO:root:Reading traj step 223\n",
      "INFO:root:Reading traj step 224\n",
      "INFO:root:Reading traj step 225\n",
      "INFO:root:Reading traj step 226\n",
      "INFO:root:Reading traj step 227\n",
      "INFO:root:Reading traj step 228\n",
      "INFO:root:Reading traj step 229\n",
      "INFO:root:Reading traj step 230\n",
      "INFO:root:Reading traj step 231\n",
      "INFO:root:Reading traj step 232\n",
      "INFO:root:Reading traj step 233\n",
      "INFO:root:Reading traj step 234\n",
      "INFO:root:Reading traj step 235\n",
      "INFO:root:Reading traj step 236\n",
      "INFO:root:Reading traj step 237\n",
      "INFO:root:Reading traj step 238\n",
      "INFO:root:Reading traj step 239\n",
      "INFO:root:Reading traj step 240\n",
      "INFO:root:Reading traj step 241\n",
      "INFO:root:Reading traj step 242\n",
      "INFO:root:Reading traj step 243\n",
      "INFO:root:Reading traj step 244\n",
      "INFO:root:Reading traj step 245\n",
      "INFO:root:Reading traj step 246\n",
      "INFO:root:Reading traj step 247\n",
      "INFO:root:Reading traj step 248\n",
      "INFO:root:Reading traj step 249\n",
      "INFO:root:Reading traj step 250\n",
      "INFO:root:Reading traj step 251\n",
      "INFO:root:Reading traj step 252\n",
      "INFO:root:Reading traj step 253\n",
      "INFO:root:Reading traj step 254\n",
      "INFO:root:Reading traj step 255\n",
      "INFO:root:Reading traj step 256\n",
      "INFO:root:Reading traj step 257\n",
      "INFO:root:Reading traj step 258\n",
      "INFO:root:Reading traj step 259\n"
     ]
    },
    {
     "name": "stderr",
     "output_type": "stream",
     "text": [
      "INFO:root:Reading traj step 260\n",
      "INFO:root:Reading traj step 261\n",
      "INFO:root:Reading traj step 262\n",
      "INFO:root:Reading traj step 263\n",
      "INFO:root:Reading traj step 264\n",
      "INFO:root:Reading traj step 265\n",
      "INFO:root:Reading traj step 266\n",
      "INFO:root:Reading traj step 267\n",
      "INFO:root:Reading traj step 268\n",
      "INFO:root:Reading traj step 269\n",
      "INFO:root:Reading traj step 270\n",
      "INFO:root:Reading traj step 271\n",
      "INFO:root:Reading traj step 272\n",
      "INFO:root:Reading traj step 273\n",
      "INFO:root:Reading traj step 274\n",
      "INFO:root:Reading traj step 275\n",
      "INFO:root:Reading traj step 276\n",
      "INFO:root:Reading traj step 277\n",
      "INFO:root:Reading traj step 278\n",
      "INFO:root:Reading traj step 279\n",
      "INFO:root:Reading traj step 280\n",
      "INFO:root:Reading traj step 281\n",
      "INFO:root:Reading traj step 282\n",
      "INFO:root:Reading traj step 283\n",
      "INFO:root:Reading traj step 284\n",
      "INFO:root:Reading traj step 285\n",
      "INFO:root:Reading traj step 286\n",
      "INFO:root:Reading traj step 287\n",
      "INFO:root:Reading traj step 288\n",
      "INFO:root:Reading traj step 289\n",
      "INFO:root:Reading traj step 290\n",
      "INFO:root:Reading traj step 291\n",
      "INFO:root:Reading traj step 292\n",
      "INFO:root:Reading traj step 293\n",
      "INFO:root:Reading traj step 294\n",
      "INFO:root:Reading traj step 295\n",
      "INFO:root:Reading traj step 296\n",
      "INFO:root:Reading traj step 297\n",
      "INFO:root:Reading traj step 298\n",
      "INFO:root:Reading traj step 299\n",
      "INFO:root:Reading traj step 300\n",
      "INFO:root:Reading traj step 301\n",
      "INFO:root:Reading traj step 302\n",
      "INFO:root:Reading traj step 303\n",
      "INFO:root:Reading traj step 304\n",
      "INFO:root:Reading traj step 305\n",
      "INFO:root:Reading traj step 306\n",
      "INFO:root:Reading traj step 307\n",
      "INFO:root:Reading traj step 308\n",
      "INFO:root:Reading traj step 309\n",
      "INFO:root:Reading traj step 310\n",
      "INFO:root:Reading traj step 311\n",
      "INFO:root:Reading traj step 312\n",
      "INFO:root:Reading traj step 313\n",
      "INFO:root:Reading traj step 314\n",
      "INFO:root:Reading traj step 315\n",
      "INFO:root:Reading traj step 316\n",
      "INFO:root:Reading traj step 317\n",
      "INFO:root:Reading traj step 318\n",
      "INFO:root:Reading traj step 319\n",
      "INFO:root:Reading traj step 320\n",
      "INFO:root:Reading traj step 321\n",
      "INFO:root:Reading traj step 322\n",
      "INFO:root:Reading traj step 323\n",
      "INFO:root:Reading traj step 324\n",
      "INFO:root:Reading traj step 325\n",
      "INFO:root:Reading traj step 326\n",
      "INFO:root:Reading traj step 327\n",
      "INFO:root:Reading traj step 328\n",
      "INFO:root:Reading traj step 329\n",
      "INFO:root:Reading traj step 330\n",
      "INFO:root:Reading traj step 331\n",
      "INFO:root:Reading traj step 332\n",
      "INFO:root:Reading traj step 333\n",
      "INFO:root:Reading traj step 334\n",
      "INFO:root:Reading traj step 335\n",
      "INFO:root:Reading traj step 336\n",
      "INFO:root:Reading traj step 337\n",
      "INFO:root:Reading traj step 338\n",
      "INFO:root:Reading traj step 339\n",
      "INFO:root:Reading traj step 340\n",
      "INFO:root:Reading traj step 341\n",
      "INFO:root:Reading traj step 342\n",
      "INFO:root:Reading traj step 343\n",
      "INFO:root:Reading traj step 344\n",
      "INFO:root:Reading traj step 345\n",
      "INFO:root:Reading traj step 346\n",
      "INFO:root:Reading traj step 347\n",
      "INFO:root:Reading traj step 348\n",
      "INFO:root:Reading traj step 349\n",
      "INFO:root:Reading traj step 350\n",
      "INFO:root:Reading traj step 351\n",
      "INFO:root:Reading traj step 352\n",
      "INFO:root:Number of atoms in a configuration:\n",
      "   maximum: 31\n",
      "   minimum: 17\n",
      "   average: 21.84\n"
     ]
    }
   ],
   "source": [
    "n_data = 5000\n",
    "# directory = 'data/ZrO2/test/'\n",
    "# filename = directory + 'test_monoclinic.xyz'\n",
    "\n",
    "directory = 'data/ZrO2/train/'\n",
    "filename = directory + 'train.xyz'\n",
    "\n",
    "traj = read(filename, index=slice(None), format='extxyz')\n",
    "\n",
    "elements, confs, forces, energies = carve_confs(traj, r_cut, n_data)\n",
    "\n",
    "if not os.path.exists(directory):\n",
    "    os.makedirs(directory)\n",
    "\n",
    "np.save('{}/confs_cut={:.2f}.npy'.format(directory, r_cut), confs)\n",
    "np.save('{}/forces_cut={:.2f}.npy'.format(directory, r_cut), forces)\n",
    "np.save('{}/energies_cut={:.2f}.npy'.format(directory, r_cut), energies)\n",
    "\n",
    "lens = [len(conf) for conf in confs]\n",
    "\n",
    "logging.info('\\n'.join((\n",
    "    'Number of atoms in a configuration:',\n",
    "    '   maximum: {}'.format(np.max(lens)),\n",
    "    '   minimum: {}'.format(np.min(lens)),\n",
    "    '   average: {:.4}'.format(np.mean(lens))\n",
    ")))\n"
   ]
  },
  {
   "cell_type": "markdown",
   "metadata": {},
   "source": [
    "# Check the configurations created"
   ]
  },
  {
   "cell_type": "code",
   "execution_count": 4,
   "metadata": {
    "ExecuteTime": {
     "end_time": "2018-06-27T09:05:27.432197Z",
     "start_time": "2018-06-27T09:05:25.279147Z"
    }
   },
   "outputs": [
    {
     "name": "stdout",
     "output_type": "stream",
     "text": [
      "M is 21.844015580736542 += 3.792713242439106\n"
     ]
    },
    {
     "data": {
      "image/png": "[encoded data removed]",
      "text/plain": [
       "<Figure size 432x288 with 1 Axes>"
      ]
     },
     "metadata": {},
     "output_type": "display_data"
    }
   ],
   "source": [
    "\n",
    "directory = 'data/ZrO2/train/'\n",
    "filename = directory + 'train.xyz'\n",
    "confs = np.load(str(directory + 'confs_cut={:.2f}.npy'.format(r_cut)))\n",
    "\n",
    "distances = []\n",
    "M_mean = 0.\n",
    "M_std = 0.\n",
    "for c in confs:\n",
    "    distances += np.linalg.norm(c[:, 0:3], axis=1).tolist()\n",
    "    M_mean += c.shape[0]\n",
    "    M_std += c.shape[0] ** 2\n",
    "\n",
    "M_mean = M_mean / len(confs)\n",
    "M_std = M_std / len(confs) - M_mean ** 2\n",
    "print('M is {} += {}'.format(M_mean, M_std))\n",
    "plt.hist(distances, 40)\n",
    "plt.show()\n"
   ]
  },
  {
   "cell_type": "markdown",
   "metadata": {},
   "source": [
    "# Test GP on the built database"
   ]
  },
  {
   "cell_type": "code",
   "execution_count": 5,
   "metadata": {
    "ExecuteTime": {
     "end_time": "2018-06-27T09:05:29.436150Z",
     "start_time": "2018-06-27T09:05:27.435661Z"
    }
   },
   "outputs": [
    {
     "name": "stdout",
     "output_type": "stream",
     "text": [
      "N train: 10, N test: 10\n"
     ]
    }
   ],
   "source": [
    "# Directories\n",
    "train_directory = 'data/ZrO2/train/'\n",
    "test_directory = 'data/ZrO2/train/'\n",
    "\n",
    "# Parameters\n",
    "ntr = 10\n",
    "ntest = 10\n",
    "\n",
    "print('N train: {}, N test: {}'.format(ntr, ntest))\n",
    "\n",
    "# Get training configurations and forces from file\n",
    "tr_confs = np.load(str(train_directory + 'confs_cut={:.2f}.npy'.format(r_cut)))\n",
    "tr_forces = np.load(str(train_directory + 'forces_cut={:.2f}.npy'.format(r_cut)))\n",
    "numconfs = len(tr_forces)\n",
    "ind = np.arange(numconfs)\n",
    "ind_tot = np.random.choice(ind, size=ntr, replace=False)\n",
    "tr_confs, tr_forces = tr_confs[ind_tot], tr_forces[ind_tot]\n",
    "\n",
    "# Get test configurations and forces from file\n",
    "tst_confs = np.load(str(test_directory + 'confs_cut={:.2f}.npy'.format(r_cut)))\n",
    "tst_forces = np.load(str(test_directory + 'forces_cut={:.2f}.npy'.format(r_cut)))\n",
    "numconfs = len(tst_forces)\n",
    "ind = np.arange(numconfs)\n",
    "ind_tot = np.random.choice(ind, size=ntest, replace=False)\n",
    "tst_confs, tst_forces = tst_confs[ind_tot], tst_forces[ind_tot]\n"
   ]
  },
  {
   "cell_type": "code",
   "execution_count": 18,
   "metadata": {
    "ExecuteTime": {
     "end_time": "2018-06-27T09:13:25.311672Z",
     "start_time": "2018-06-27T09:13:12.137934Z"
    }
   },
   "outputs": [
    {
     "name": "stderr",
     "output_type": "stream",
     "text": [
      "INFO:m_ff.kernels.threebodykernel:Started compilation of theano three body kernels\n",
      "INFO:m_ff.kernels.threebodykernel:Ended compilation of theano three body kernels\n"
     ]
    }
   ],
   "source": [
    "m = models.ThreeBodyTwoSpeciesModel(elements=elements, noise=noise, sigma=sigma, r_cut=r_cut, theta=r_cut/8.0)"
   ]
  },
  {
   "cell_type": "code",
   "execution_count": 7,
   "metadata": {
    "ExecuteTime": {
     "end_time": "2018-06-27T09:06:29.586975Z",
     "start_time": "2018-06-27T09:06:05.711540Z"
    }
   },
   "outputs": [],
   "source": [
    "m.fit(tr_confs, tr_forces)"
   ]
  },
  {
   "cell_type": "code",
   "execution_count": 8,
   "metadata": {
    "ExecuteTime": {
     "end_time": "2018-06-27T09:07:39.115485Z",
     "start_time": "2018-06-27T09:07:18.340032Z"
    }
   },
   "outputs": [
    {
     "name": "stdout",
     "output_type": "stream",
     "text": [
      "Testing GP\n",
      "RMSE: 0.5503\n",
      "MAEC: 0.3891\n",
      "MAEF : 0.7702 +- 0.5615\n",
      "Relative MAEF on forces: 0.4030 +- 0.2938\n"
     ]
    }
   ],
   "source": [
    "\n",
    "# Test the GP performance\n",
    "print('Testing GP')\n",
    "\n",
    "gp_forces = np.zeros((ntest, 3))\n",
    "gp_error = np.zeros((ntest, 3))\n",
    "\n",
    "for i in np.arange(ntest):\n",
    "    gp_forces[i, :] = m.predict(np.reshape(tst_confs[i], (1, len(tst_confs[i]), 5)))\n",
    "    gp_error[i, :] = gp_forces[i, :] - tst_forces[i, :]\n",
    "\n",
    "MAEC = np.mean(abs(gp_error))\n",
    "MAEF = np.mean(np.sqrt(np.sum(np.square(gp_error), axis=1)))\n",
    "SMAEF = np.std(np.sqrt(np.sum(np.square(gp_error), axis=1)))\n",
    "MF = np.mean(np.linalg.norm(tst_forces, axis=1))\n",
    "RMSE = np.sqrt(np.mean((gp_error) ** 2))\n",
    "\n",
    "print('RMSE: {:.4}'.format(RMSE))\n",
    "print('MAEC: {:.4}'.format(MAEC))\n",
    "print('MAEF : {:.4f} +- {:.4f}'.format(MAEF, SMAEF))\n",
    "print('Relative MAEF on forces: {:.4f} +- {:.4f}'.format(MAEF / MF, SMAEF / MF))"
   ]
  },
  {
   "cell_type": "code",
   "execution_count": 10,
   "metadata": {
    "ExecuteTime": {
     "end_time": "2018-06-27T09:08:22.100615Z",
     "start_time": "2018-06-27T09:08:22.046315Z"
    }
   },
   "outputs": [
    {
     "name": "stdout",
     "output_type": "stream",
     "text": [
      "[[0.]] [[0.]]\n"
     ]
    }
   ],
   "source": [
    "toy_conf  = [[2.0, 0.0, 0.0, 8, 40], [0.0, 2.5, 0.0, 8, 12]]\n",
    "toy_conf2 = [[0.0, -2.5, 0.0, 12, 8], [2.0, -2.5, 0.0, 8, 40]]\n",
    "\n",
    "print(m.predict_energy(np.reshape(toy_conf, (1, len(toy_conf), 5))),\n",
    "      m.predict_energy(np.reshape(toy_conf2, (1, len(toy_conf2), 5))))"
   ]
  },
  {
   "cell_type": "code",
   "execution_count": 11,
   "metadata": {
    "ExecuteTime": {
     "end_time": "2018-06-26T13:50:04.700403Z",
     "start_time": "2018-06-26T13:49:44.823629Z"
    }
   },
   "outputs": [
    {
     "name": "stdout",
     "output_type": "stream",
     "text": [
      "8 8 8\n",
      "8 8 40\n",
      "8 40 40\n",
      "40 40 40\n"
     ]
    },
    {
     "data": {
      "text/plain": [
       "{(8, 8, 8): <m_ff.interpolation.tricube_cpp.Spline3D at 0x7ff077e3ae48>,\n",
       " (8, 8, 40): <m_ff.interpolation.tricube_cpp.Spline3D at 0x7ff0965be4e0>,\n",
       " (8, 40, 40): <m_ff.interpolation.tricube_cpp.Spline3D at 0x7ff077e3b400>,\n",
       " (40, 40, 40): <m_ff.interpolation.tricube_cpp.Spline3D at 0x7ff077e3b6d8>}"
      ]
     },
     "execution_count": 11,
     "metadata": {},
     "output_type": "execute_result"
    }
   ],
   "source": [
    "grid_start = 1.5\n",
    "g = m.build_grid(grid_start, 10)\n",
    "m.grid"
   ]
  },
  {
   "cell_type": "code",
   "execution_count": 12,
   "metadata": {
    "ExecuteTime": {
     "end_time": "2018-06-26T13:52:23.171265Z",
     "start_time": "2018-06-26T13:52:22.222336Z"
    }
   },
   "outputs": [
    {
     "data": {
      "image/png": "[encoded data removed]",
      "text/plain": [
       "<Figure size 432x288 with 2 Axes>"
      ]
     },
     "metadata": {},
     "output_type": "display_data"
    },
    {
     "data": {
      "image/png": "[encoded data removed]",
      "text/plain": [
       "<Figure size 432x288 with 2 Axes>"
      ]
     },
     "metadata": {},
     "output_type": "display_data"
    },
    {
     "data": {
      "image/png": "[encoded data removed]",
      "text/plain": [
       "<Figure size 432x288 with 2 Axes>"
      ]
     },
     "metadata": {},
     "output_type": "display_data"
    },
    {
     "data": {
      "image/png": "[encoded data removed]",
      "text/plain": [
       "<Figure size 432x288 with 2 Axes>"
      ]
     },
     "metadata": {},
     "output_type": "display_data"
    },
    {
     "data": {
      "image/png": "[encoded data removed]",
      "text/plain": [
       "<Figure size 432x288 with 2 Axes>"
      ]
     },
     "metadata": {},
     "output_type": "display_data"
    }
   ],
   "source": [
    "num_3b = 10\n",
    "dists_3b = np.linspace(grid_start, r_cut, num_3b)\n",
    "grid_c_3b = m.grid[(8, 8, 40)]\n",
    "# z_min, z_max = -.04, .04\n",
    "for i in range(0, num_3b, 2):\n",
    "    plt.title(dists_3b[i])\n",
    "\n",
    "    dists_k = np.ones_like(dists_3b) * dists_3b[i]\n",
    "    X, Y = np.meshgrid(dists_3b, dists_3b)\n",
    "\n",
    "    X = X.flatten()\n",
    "    Y = Y.flatten()\n",
    "    Z = np.ones_like(X) * dists_3b[i]\n",
    "\n",
    "    g_data = grid_c_3b(X, Y, Z).reshape(num_3b, num_3b)\n",
    "#     g_data = grid_c_3b(X, Z, Y).reshape(num_3b, num_3b)\n",
    "#     g_data = grid_c_3b(Z, Y, X).reshape(num_3b, num_3b)\n",
    "#     g_data = grid_c_3b(Z, X, Y).reshape(num_3b, num_3b)\n",
    "\n",
    "#     plt.pcolor(dists_3b, dists_3b, -g_data, cmap='RdBu', vmin=z_min, vmax=z_max)\n",
    "    plt.pcolor(dists_3b, dists_3b, -g_data, cmap='RdBu')\n",
    "    plt.colorbar()\n",
    "    plt.axis('equal')\n",
    "\n",
    "    plt.show()"
   ]
  },
  {
   "cell_type": "markdown",
   "metadata": {},
   "source": [
    "# Learning curve\n"
   ]
  },
  {
   "cell_type": "code",
   "execution_count": 18,
   "metadata": {
    "ExecuteTime": {
     "end_time": "2018-06-26T08:41:52.940406Z",
     "start_time": "2018-06-26T08:41:52.884318Z"
    }
   },
   "outputs": [
    {
     "ename": "NameError",
     "evalue": "name 'Kernels' is not defined",
     "output_type": "error",
     "traceback": [
      "\u001b[0;31m---------------------------------------------------------------------------\u001b[0m",
      "\u001b[0;31mNameError\u001b[0m                                 Traceback (most recent call last)",
      "\u001b[0;32m<ipython-input-18-12f45d119bb7>\u001b[0m in \u001b[0;36m<module>\u001b[0;34m()\u001b[0m\n\u001b[1;32m      3\u001b[0m \u001b[0mtest_directory\u001b[0m \u001b[0;34m=\u001b[0m \u001b[0;34m'data/ZrO2/train/'\u001b[0m\u001b[0;34m\u001b[0m\u001b[0m\n\u001b[1;32m      4\u001b[0m \u001b[0;34m\u001b[0m\u001b[0m\n\u001b[0;32m----> 5\u001b[0;31m \u001b[0mker\u001b[0m \u001b[0;34m=\u001b[0m \u001b[0mKernels\u001b[0m\u001b[0;34m.\u001b[0m\u001b[0mThreeBody\u001b[0m\u001b[0;34m(\u001b[0m\u001b[0mtheta\u001b[0m\u001b[0;34m=\u001b[0m\u001b[0;34m[\u001b[0m\u001b[0msigma\u001b[0m\u001b[0;34m,\u001b[0m \u001b[0mr_cut\u001b[0m \u001b[0;34m/\u001b[0m \u001b[0;36m5.0\u001b[0m\u001b[0;34m,\u001b[0m \u001b[0mr_cut\u001b[0m\u001b[0;34m]\u001b[0m\u001b[0;34m)\u001b[0m\u001b[0;34m\u001b[0m\u001b[0m\n\u001b[0m\u001b[1;32m      6\u001b[0m \u001b[0mgp\u001b[0m \u001b[0;34m=\u001b[0m \u001b[0mGP_for_MFF\u001b[0m\u001b[0;34m.\u001b[0m\u001b[0mGaussianProcess\u001b[0m\u001b[0;34m(\u001b[0m\u001b[0mkernel\u001b[0m\u001b[0;34m=\u001b[0m\u001b[0mker\u001b[0m\u001b[0;34m,\u001b[0m \u001b[0mnoise\u001b[0m\u001b[0;34m=\u001b[0m\u001b[0mnoise\u001b[0m\u001b[0;34m,\u001b[0m \u001b[0moptimizer\u001b[0m\u001b[0;34m=\u001b[0m\u001b[0;32mNone\u001b[0m\u001b[0;34m)\u001b[0m\u001b[0;34m\u001b[0m\u001b[0m\n\u001b[1;32m      7\u001b[0m \u001b[0;34m\u001b[0m\u001b[0m\n",
      "\u001b[0;31mNameError\u001b[0m: name 'Kernels' is not defined"
     ]
    }
   ],
   "source": [
    "# Directories\n",
    "train_directory = 'data/ZrO2/train/'\n",
    "test_directory = 'data/ZrO2/train/'\n",
    "\n",
    "ker = Kernels.ThreeBody(theta=[sigma, r_cut / 5.0, r_cut])\n",
    "gp = GP_for_MFF.GaussianProcess(kernel=ker, noise=noise, optimizer=None)\n",
    "\n",
    "ntrs = [20,40, 80, 160]\n",
    "ntest = 30\n",
    "print('N train: {}, N test: {}'.format(ntrs, ntest))\n",
    "errors = []\n",
    "np.random.seed(42)\n",
    "\n",
    "for ntr in ntrs:\n",
    "\n",
    "    # Get training configurations and forces from file\n",
    "    tr_confs = np.load(str(train_directory + 'confs_cut={:.2f}.npy'.format(r_cut)))\n",
    "    tr_forces = np.load(str(train_directory + 'forces_cut={:.2f}.npy'.format(r_cut)))\n",
    "    numconfs = len(tr_forces)\n",
    "    ind = np.arange(numconfs)\n",
    "    ind_tot = np.random.choice(ind, size=ntr, replace=False)\n",
    "    tr_confs, tr_forces = tr_confs[ind_tot], tr_forces[ind_tot]\n",
    "\n",
    "    # Get test configurations and forces from file\n",
    "    tst_confs = np.load(str(test_directory + 'confs_cut={:.2f}.npy'.format(r_cut)))\n",
    "    tst_forces = np.load(str(test_directory + 'forces_cut={:.2f}.npy'.format(r_cut)))\n",
    "    numconfs = len(tst_forces)\n",
    "    ind = np.arange(numconfs)\n",
    "    ind_tot = np.random.choice(ind, size=ntest, replace=False)\n",
    "    tst_confs, tst_forces = tst_confs[ind_tot], tst_forces[ind_tot]\n",
    "\n",
    "    print('Training GP')\n",
    "\n",
    "    gp.fit(tr_confs, tr_forces)\n",
    "\n",
    "    # Test the GP performance\n",
    "    print('Testing GP')\n",
    "\n",
    "    gp_forces = np.zeros((ntest, 3))\n",
    "    gp_error = np.zeros((ntest, 3))\n",
    "\n",
    "    for i in np.arange(ntest):\n",
    "        gp_forces[i, :] = gp.predict(np.reshape(tst_confs[i], (1, len(tst_confs[i]), 5)))\n",
    "        gp_error[i, :] = gp_forces[i, :] - tst_forces[i, :]\n",
    "\n",
    "    MAEC = np.mean(abs(gp_error))\n",
    "    MAEF = np.mean(np.sqrt(np.sum(np.square(gp_error), axis=1)))\n",
    "    SMAEF = np.std(np.sqrt(np.sum(np.square(gp_error), axis=1)))\n",
    "    RMSE = np.sqrt(np.mean((gp_error) ** 2))\n",
    "\n",
    "    MF = np.mean(np.linalg.norm(tst_forces, axis=1))\n",
    "\n",
    "    print('RMSE: {:.4}'.format(RMSE))\n",
    "    print('MAEC: {:.4}'.format(MAEC))\n",
    "    print('MAEF: {:.4f} +- {:.4f}'.format(MAEF, SMAEF))\n",
    "    print('Relative MAEF on forces: {:.4f} +- {:.4f}'.format(MAEF / MF, SMAEF / MF))\n",
    "\n",
    "    errors.append(MAEF)\n",
    "\n",
    "plt.plot(ntrs, errors)\n",
    "plt.xscale('log')\n",
    "plt.show()\n"
   ]
  },
  {
   "cell_type": "code",
   "execution_count": null,
   "metadata": {},
   "outputs": [],
   "source": []
  }
 ],
 "metadata": {
  "kernelspec": {
   "display_name": "Python 3",
   "language": "python",
   "name": "python3"
  },
  "language_info": {
   "codemirror_mode": {
    "name": "ipython",
    "version": 3
   },
   "file_extension": ".py",
   "mimetype": "text/x-python",
   "name": "python",
   "nbconvert_exporter": "python",
   "pygments_lexer": "ipython3",
   "version": "3.6.5"
  },
  "toc": {
   "base_numbering": 1,
   "nav_menu": {},
   "number_sections": false,
   "sideBar": true,
   "skip_h1_title": false,
   "title_cell": "Table of Contents",
   "title_sidebar": "Contents",
   "toc_cell": false,
   "toc_position": {},
   "toc_section_display": true,
   "toc_window_display": false
  }
 },
 "nbformat": 4,
 "nbformat_minor": 2
}
