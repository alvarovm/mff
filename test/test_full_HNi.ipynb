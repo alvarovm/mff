{
 "cells": [
  {
   "cell_type": "code",
   "execution_count": 1,
   "metadata": {
    "ExecuteTime": {
     "end_time": "2018-05-25T14:45:34.082500Z",
     "start_time": "2018-05-25T14:45:34.078588Z"
    }
   },
   "outputs": [],
   "source": [
    "import sys\n",
    "\n",
    "sys.path.append('..')\n"
   ]
  },
  {
   "cell_type": "code",
   "execution_count": 2,
   "metadata": {
    "ExecuteTime": {
     "end_time": "2018-05-25T14:45:34.639663Z",
     "start_time": "2018-05-25T14:45:34.085611Z"
    }
   },
   "outputs": [],
   "source": [
    "import os\n",
    "import logging\n",
    "\n",
    "import numpy as np\n",
    "from ase.io import read\n",
    "\n",
    "import os\n",
    "import numpy as np\n",
    "from original import GP_for_MFF\n",
    "from original import Kernels\n",
    "\n",
    "\n",
    "from original import better_MFF_database\n",
    "from original.better_MFF_database import carve_confs\n",
    "\n",
    "import matplotlib.pyplot as plt\n",
    "\n",
    "better_MFF_database.USE_ASAP = True\n",
    "logging.basicConfig(level=logging.INFO)"
   ]
  },
  {
   "cell_type": "markdown",
   "metadata": {},
   "source": [
    "# Parameters\n"
   ]
  },
  {
   "cell_type": "code",
   "execution_count": 26,
   "metadata": {
    "ExecuteTime": {
     "end_time": "2018-05-25T16:21:48.524430Z",
     "start_time": "2018-05-25T16:21:48.517213Z"
    }
   },
   "outputs": [],
   "source": [
    "\n",
    "r_cut = 4.5\n",
    "n_data = 3000\n",
    "\n",
    "\n",
    "nbodies = 2\n",
    "sigma = 1.0\n",
    "noise = 0.00001\n",
    "\n",
    "ntr = 100\n",
    "ntest = 50\n",
    "\n",
    "directory = 'data/HNi/'\n",
    "filename = directory + 'movie.xyz'\n"
   ]
  },
  {
   "cell_type": "code",
   "execution_count": null,
   "metadata": {
    "ExecuteTime": {
     "end_time": "2018-05-25T14:45:34.808910Z",
     "start_time": "2018-05-25T14:45:34.649323Z"
    }
   },
   "outputs": [],
   "source": []
  },
  {
   "cell_type": "code",
   "execution_count": 27,
   "metadata": {
    "ExecuteTime": {
     "end_time": "2018-05-25T16:21:49.870721Z",
     "start_time": "2018-05-25T16:21:49.865284Z"
    },
    "scrolled": true
   },
   "outputs": [],
   "source": [
    "\n",
    "# # Open file and get number of atoms and steps\n",
    "# traj = read(filename, index=slice(None), format='extxyz')\n",
    "\n",
    "# elements, confs, forces, energies = carve_confs(traj, r_cut, n_data, forces_label='force')\n",
    "\n",
    "# if not os.path.exists(directory):\n",
    "#     os.makedirs(directory)\n",
    "\n",
    "# np.save('{}/confs_cut={:.2f}.npy'.format(directory, r_cut), confs)\n",
    "# np.save('{}/forces_cut={:.2f}.npy'.format(directory, r_cut), forces)\n",
    "# np.save('{}/energies_cut={:.2f}.npy'.format(directory, r_cut), energies)\n",
    "\n",
    "# lens = [len(conf) for conf in confs]\n",
    "\n",
    "# logging.info('\\n'.join((\n",
    "#     'Number of atoms in a configuration:',\n",
    "#     '   maximum: {}'.format(np.max(lens)),\n",
    "#     '   minimum: {}'.format(np.min(lens)),\n",
    "#     '   average: {:.4}'.format(np.mean(lens))\n",
    "# )))\n"
   ]
  },
  {
   "cell_type": "markdown",
   "metadata": {},
   "source": [
    "# GP"
   ]
  },
  {
   "cell_type": "code",
   "execution_count": 28,
   "metadata": {
    "ExecuteTime": {
     "end_time": "2018-05-25T16:21:56.375481Z",
     "start_time": "2018-05-25T16:21:51.081404Z"
    }
   },
   "outputs": [
    {
     "name": "stdout",
     "output_type": "stream",
     "text": [
      "Started compilation of theano two body kernels\n",
      "Ended compilation of theano two body kernels\n",
      "Saved Gaussian process with name: data/HNi/gp_ker=2_ntr=100_sig=1.00_cut=4.50\n"
     ]
    }
   ],
   "source": [
    "# Get configurations and forces from file\n",
    "confs = np.load('{:s}/confs_cut={:.2f}.npy'.format(directory, r_cut))\n",
    "forces = np.load('{:s}/forces_cut={:.2f}.npy'.format(directory, r_cut))\n",
    "numconfs = len(forces)\n",
    "ind = np.arange(numconfs)\n",
    "ind_tot = np.random.choice(ind, size=ntr + ntest, replace=False)\n",
    "\n",
    "# Separate into testing and training dataset\n",
    "tr_confs, tr_forces = confs[ind[:ntr]], forces[ind[:ntr]]\n",
    "tst_confs, tst_forces = confs[ind[ntr:]], forces[ind[ntr:]]\n",
    "\n",
    "# Load, or train, the GP\n",
    "if nbodies == 3:\n",
    "    ker = Kernels.ThreeBody(theta=[sigma, r_cut / 10.0, r_cut])\n",
    "elif nbodies == 2:\n",
    "    ker = Kernels.TwoBody(theta=[sigma, r_cut / 10.0, r_cut])\n",
    "else:\n",
    "    NotImplementedError('Kernel order not understood, use 2 for two-body and 3 for three-body')\n",
    "\n",
    "gp = GP_for_MFF.GaussianProcess(kernel=ker, noise=noise, optimizer=None)\n",
    "gp_name = 'gp_ker={}_ntr={}_sig={:.2f}_cut={:.2f}'.format(nbodies, ntr, sigma, r_cut)\n",
    "\n",
    "gp.fit(tr_confs, tr_forces)\n",
    "gp.save(directory + gp_name)\n",
    "\n",
    "\n"
   ]
  },
  {
   "cell_type": "markdown",
   "metadata": {},
   "source": [
    "# Test the GP performance"
   ]
  },
  {
   "cell_type": "code",
   "execution_count": 17,
   "metadata": {
    "ExecuteTime": {
     "end_time": "2018-05-25T15:46:22.311933Z",
     "start_time": "2018-05-25T15:46:22.243532Z"
    }
   },
   "outputs": [
    {
     "name": "stdout",
     "output_type": "stream",
     "text": [
      "Testing the GP module\n",
      "MAEF on forces: 0.0593 +- 0.0341\n"
     ]
    }
   ],
   "source": [
    "print('Testing the GP module')\n",
    "gp_forces = np.zeros((ntest, 3))\n",
    "gp_error = np.zeros((ntest, 3))\n",
    "\n",
    "for i in np.arange(ntest):\n",
    "    gp_forces[i, :] = gp.predict(np.reshape(tst_confs[i], (1, len(tst_confs[i]), 5)))\n",
    "    gp_error[i, :] = gp_forces[i, :] - tst_forces[i, :]\n",
    "\n",
    "print('MAEF on forces: {:.4f} +- {:.4f}'.format(\n",
    "    np.mean(np.sqrt(np.sum(np.square(gp_error), axis=1))),\n",
    "    np.std(np.sqrt(np.sum(np.square(gp_error), axis=1)))))"
   ]
  },
  {
   "cell_type": "markdown",
   "metadata": {},
   "source": [
    "# Learning curve\n"
   ]
  },
  {
   "cell_type": "code",
   "execution_count": 24,
   "metadata": {
    "ExecuteTime": {
     "end_time": "2018-05-25T16:08:35.524641Z",
     "start_time": "2018-05-25T16:07:03.383314Z"
    }
   },
   "outputs": [
    {
     "name": "stdout",
     "output_type": "stream",
     "text": [
      "N train: [20, 60, 100, 140, 180, 220, 260, 300], N test: 50\n",
      "Training GP\n",
      "Testing GP\n",
      "RMSE: 0.05504\n",
      "MAEC: 0.03502\n",
      "MAEF: 0.0746 +- 0.0593\n",
      "Relative MAEF on forces: 0.0799 +- 0.0635\n",
      "Training GP\n",
      "Testing GP\n",
      "RMSE: 0.0497\n",
      "MAEC: 0.03083\n",
      "MAEF: 0.0650 +- 0.0565\n",
      "Relative MAEF on forces: 0.0696 +- 0.0605\n",
      "Training GP\n",
      "Testing GP\n",
      "RMSE: 0.04705\n",
      "MAEC: 0.0297\n",
      "MAEF: 0.0619 +- 0.0529\n",
      "Relative MAEF on forces: 0.0663 +- 0.0567\n",
      "Training GP\n",
      "Testing GP\n",
      "RMSE: 0.04441\n",
      "MAEC: 0.02864\n",
      "MAEF: 0.0596 +- 0.0486\n",
      "Relative MAEF on forces: 0.0638 +- 0.0521\n",
      "Training GP\n",
      "Testing GP\n",
      "RMSE: 0.03928\n",
      "MAEC: 0.02737\n",
      "MAEF: 0.0563 +- 0.0381\n",
      "Relative MAEF on forces: 0.0603 +- 0.0408\n",
      "Training GP\n",
      "Testing GP\n",
      "RMSE: 0.03752\n",
      "MAEC: 0.02864\n",
      "MAEF: 0.0575 +- 0.0304\n",
      "Relative MAEF on forces: 0.0615 +- 0.0325\n",
      "Training GP\n",
      "Testing GP\n",
      "RMSE: 0.03931\n",
      "MAEC: 0.03024\n",
      "MAEF: 0.0600 +- 0.0323\n",
      "Relative MAEF on forces: 0.0642 +- 0.0345\n",
      "Training GP\n",
      "Testing GP\n",
      "RMSE: 0.03859\n",
      "MAEC: 0.02975\n",
      "MAEF: 0.0591 +- 0.0313\n",
      "Relative MAEF on forces: 0.0632 +- 0.0335\n"
     ]
    },
    {
     "data": {
      "image/png": "[encoded data removed]",
      "text/plain": [
       "<Figure size 432x288 with 1 Axes>"
      ]
     },
     "metadata": {},
     "output_type": "display_data"
    }
   ],
   "source": [
    "ntrs = [20, 60, 100, 140, 180, 220, 260, 300]\n",
    "ntest = 50\n",
    "print('N train: {}, N test: {}'.format(ntrs, ntest))\n",
    "errors = []\n",
    "np.random.seed(42)\n",
    "\n",
    "for ntr in ntrs:\n",
    "\n",
    "    # Get configurations and forces from file\n",
    "    confs = np.load('{:s}/confs_cut={:.2f}.npy'.format(directory, r_cut))\n",
    "    forces = np.load('{:s}/forces_cut={:.2f}.npy'.format(directory, r_cut))\n",
    "    # numconfs = len(forces)\n",
    "    # ind = np.arange(numconfs)\n",
    "    # ind_tot = np.random.choice(ind, size=ntr + ntest, replace=False)\n",
    "\n",
    "    # # Separate into testing and training dataset\n",
    "    # tr_confs, tr_forces = confs[ind[:ntr]], forces[ind[:ntr]]\n",
    "    # tst_confs, tst_forces = confs[ind[ntr:]], forces[ind[ntr:]]\n",
    "\n",
    "    # Use fixed training and testing dataset\n",
    "    tr_confs, tr_forces = confs[:ntr], forces[:ntr]\n",
    "    tst_confs, tst_forces = confs[-ntest - 1:-1], forces[-ntest - 1:-1]\n",
    "    \n",
    "    print('Training GP')\n",
    "\n",
    "    gp.fit(tr_confs, tr_forces)\n",
    "\n",
    "    # Test the GP performance\n",
    "    print('Testing GP')\n",
    "\n",
    "    gp_forces = np.zeros((ntest, 3))\n",
    "    gp_error = np.zeros((ntest, 3))\n",
    "\n",
    "    for i in np.arange(ntest):\n",
    "        gp_forces[i, :] = gp.predict(np.reshape(tst_confs[i], (1, len(tst_confs[i]), 5)))\n",
    "        gp_error[i, :] = gp_forces[i, :] - tst_forces[i, :]\n",
    "\n",
    "    MAEC = np.mean(abs(gp_error))\n",
    "    MAEF = np.mean(np.sqrt(np.sum(np.square(gp_error), axis=1)))\n",
    "    SMAEF = np.std(np.sqrt(np.sum(np.square(gp_error), axis=1)))\n",
    "    RMSE = np.sqrt(np.mean((gp_error) ** 2))\n",
    "\n",
    "    MF = np.mean(np.linalg.norm(tst_forces, axis=1))\n",
    "\n",
    "    print('RMSE: {:.4}'.format(RMSE))\n",
    "    print('MAEC: {:.4}'.format(MAEC))\n",
    "    print('MAEF: {:.4f} +- {:.4f}'.format(MAEF, SMAEF))\n",
    "    print('Relative MAEF on forces: {:.4f} +- {:.4f}'.format(MAEF / MF, SMAEF / MF))\n",
    "\n",
    "    errors.append(MAEF)\n",
    "\n",
    "plt.plot(ntrs, errors)\n",
    "plt.xscale('log')\n",
    "plt.show()\n"
   ]
  },
  {
   "cell_type": "code",
   "execution_count": 21,
   "metadata": {
    "ExecuteTime": {
     "end_time": "2018-05-25T16:00:43.340997Z",
     "start_time": "2018-05-25T16:00:43.114802Z"
    }
   },
   "outputs": [
    {
     "data": {
      "image/png": "[encoded data removed]",
      "text/plain": [
       "<Figure size 432x288 with 1 Axes>"
      ]
     },
     "metadata": {},
     "output_type": "display_data"
    }
   ],
   "source": [
    "plt.plot(ntrs, errors)\n",
    "plt.xscale('log')\n",
    "plt.show()\n"
   ]
  },
  {
   "cell_type": "code",
   "execution_count": null,
   "metadata": {},
   "outputs": [],
   "source": []
  }
 ],
 "metadata": {
  "kernelspec": {
   "display_name": "Python 3",
   "language": "python",
   "name": "python3"
  },
  "language_info": {
   "codemirror_mode": {
    "name": "ipython",
    "version": 3
   },
   "file_extension": ".py",
   "mimetype": "text/x-python",
   "name": "python",
   "nbconvert_exporter": "python",
   "pygments_lexer": "ipython3",
   "version": "3.6.5"
  },
  "toc": {
   "base_numbering": 1,
   "nav_menu": {},
   "number_sections": false,
   "sideBar": true,
   "skip_h1_title": false,
   "title_cell": "Table of Contents",
   "title_sidebar": "Contents",
   "toc_cell": false,
   "toc_position": {
    "height": "calc(100% - 180px)",
    "left": "10px",
    "top": "150px",
    "width": "274px"
   },
   "toc_section_display": true,
   "toc_window_display": true
  }
 },
 "nbformat": 4,
 "nbformat_minor": 2
}
