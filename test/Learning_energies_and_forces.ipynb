{
 "cells": [
  {
   "cell_type": "markdown",
   "metadata": {},
   "source": [
    "# Learning energies and forces"
   ]
  },
  {
   "cell_type": "code",
   "execution_count": 1,
   "metadata": {
    "ExecuteTime": {
     "end_time": "2018-06-19T10:58:56.835739Z",
     "start_time": "2018-06-19T10:58:55.681786Z"
    }
   },
   "outputs": [],
   "source": [
    "import theano.tensor as T\n",
    "from theano import function, scan\n",
    "import numpy as np\n",
    "import matplotlib.pyplot as plt"
   ]
  },
  {
   "cell_type": "markdown",
   "metadata": {},
   "source": [
    "## Introduzione"
   ]
  },
  {
   "cell_type": "markdown",
   "metadata": {},
   "source": [
    "Assumendo che l'energia si possa scrivere come somma su tutte le triplette del sistema unicamente definite $ t \\in T_{\\rho}$\n",
    "\n",
    "$$ E(\\rho) = \\sum_{t}^{\\in T_{\\rho}} \\varepsilon(\\mathbf{q}_{t}) . $$\n",
    "\n",
    "A questo punto un kernel per le energie si formalmente scrivere come \n",
    "\n",
    "$$ k_{EE}(\\rho,\\rho') = \\langle E(\\rho) E(\\rho') \\rangle .$$\n",
    "\n",
    "Usando la decomposizione in triplette questo di trasforma in\n",
    "\n",
    "$$ k_{EE}(\\rho,\\rho') = \\sum_{t}^{\\in T_{\\rho}} \\sum_{t'}^{\\in T_{\\rho'}} \\langle \\varepsilon(\\mathbf{q}_{t}) \\varepsilon(\\mathbf{q}_{t'}) \\rangle . $$\n",
    "\n",
    "Definendo un kernel per triplette $k_T(\\mathbf{q}_{t},\\mathbf{q}_{t'})$ l'espressione di sopra legge\n",
    "\n",
    "$$ k_{EE}(\\rho,\\rho') = \\sum_{t}^{\\in T_{\\rho}} \\sum_{t'}^{\\in T_{\\rho'}} k_T(\\mathbf{q}_{t},\\mathbf{q}_{t'}) .$$\n",
    "\n",
    "A questo punto occorre soltanto definire il kernel che correlana le energie totali con le forze e quello che correla le forze tra loro. Questi si possono ricavare semplicemente calcolandosi le derivate relative. Infatti\n",
    "\n",
    "$$ k_{\\mathbf{f} E}(\\rho,\\rho') = \\frac{\\partial}{\\partial \\mathbf{r}_a} k_{EE}(\\rho,\\rho'),$$\n",
    "\n",
    "$$ k_{\\mathbf{f}\\mathbf{f}}(\\rho,\\rho') = \\frac{\\partial^2}{\\partial \\mathbf{r}_a \\partial \\mathbf{r}_b^{\\rm{T}}} k_{EE}(\\rho,\\rho').$$\n",
    "\n",
    "È conveniente riscrivere le equazioni qui sopra rendendo evidente la maniera in cui è possibil usare i kernel già costruiti per imparare sia forze che energie\n",
    "\n",
    "$$ k_{\\mathbf{f} E}(\\rho,\\rho')  = \\frac{\\partial}{\\partial \\mathbf{r}_a} \\sum_{t}^{\\in T_{\\rho_a}} \\sum_{t'}^{\\in T_{\\rho'}} k_T(\\mathbf{q}_{t},\\mathbf{q}_{t'}) $$\n",
    "\n",
    "$$ k_{\\mathbf{f}\\mathbf{f}}(\\rho,\\rho')  =\\frac{\\partial^2}{\\partial \\mathbf{r}_a \\partial \\mathbf{r}_b^{\\rm{T}}} \\sum_{t}^{\\in T_{\\rho_a}} \\sum_{t'}^{\\in T_{\\rho'_b}} k_T(\\mathbf{q}_{t},\\mathbf{q}_{t'}).$$\n",
    "\n",
    "Nel caso dei cluster di Nickel, nei quali non applichiamo un cutoff finito, l'inclusione delle energie è particolarmente semplice siccome (con le assunzioni appena descritte) ad ogni energia globale corrisponde, unica, l'energia \"locale\" di ogni atomo. Ciò praticamente significa che integrando la forza su qualsiasi atomo si ricava l'energia totale del sistema."
   ]
  },
  {
   "cell_type": "markdown",
   "metadata": {},
   "source": [
    "## Definizione di un kernel 4x4"
   ]
  },
  {
   "cell_type": "code",
   "execution_count": 91,
   "metadata": {},
   "outputs": [],
   "source": [
    "def compile_twobody_singlespecies():\n",
    "    \"\"\"\n",
    "    This function generates theano compiled kernels for energy and force learning\n",
    "\n",
    "    The position of the atoms relative to the centrla one, and their chemical species\n",
    "    are defined by a matrix of dimension Mx5\n",
    "\n",
    "    Returns:\n",
    "        k2_ee (func): energy-energy kernel\n",
    "        k2_ef (func): energy-force kernel\n",
    "        k2_ff (func): force-force kernel\n",
    "    \"\"\"\n",
    "    print(\"Started compilation of theano two body single species kernels\")\n",
    "    # --------------------------------------------------\n",
    "    # INITIAL DEFINITIONS\n",
    "    # --------------------------------------------------\n",
    "\n",
    "    # positions of central atoms\n",
    "    r1, r2 = T.dvectors('r1d', 'r2d')\n",
    "    # positions of neighbours\n",
    "    rho1, rho2 = T.dmatrices('rho1', 'rho2')\n",
    "    # lengthscale hyperparameter\n",
    "    sig = T.dscalar('sig')\n",
    "    # cutoff hyperparameters\n",
    "    theta = T.dscalar('theta')\n",
    "    rc = T.dscalar('rc')\n",
    "\n",
    "    # positions of neighbours without chemical species (3D space assumed)\n",
    "    rho1s = rho1[:, 0:3]\n",
    "    rho2s = rho2[:, 0:3]\n",
    "\n",
    "    # --------------------------------------------------\n",
    "    # RELATIVE DISTANCES TO CENTRAL VECTOR\n",
    "    # --------------------------------------------------\n",
    "\n",
    "    # first and second configuration\n",
    "    r1j = T.sqrt(T.sum((rho1s[:, :] - r1[None, :]) ** 2, axis=1))\n",
    "    r2m = T.sqrt(T.sum((rho2s[:, :] - r2[None, :]) ** 2, axis=1))\n",
    "\n",
    "    # Cutoff function\n",
    "    k_ij = T.exp(-(r1j[:, None] - r2m[None, :]) ** 2 / (2 * sig ** 2))\n",
    "\n",
    "    cut_ij = (0.5 * (1 + T.sgn(rc - r1j[:, None]))) * (0.5 * (1 + T.sgn(rc - r2m[None, :]))) * \\\n",
    "             (T.exp(-theta / (rc - r1j[:, None])) * T.exp(-theta / (rc - r2m[None, :])))\n",
    "\n",
    "    k_ij = k_ij * cut_ij\n",
    "\n",
    "    # kernel\n",
    "    k = T.sum(k_ij)\n",
    "\n",
    "    # --------------------------------------------------\n",
    "    # FINAL FUNCTIONS\n",
    "    # --------------------------------------------------\n",
    "\n",
    "    # energy energy kernel\n",
    "    k_ee_fun = function([r1, r2, rho1, rho2, sig, theta, rc], k,\n",
    "                        allow_input_downcast=False, on_unused_input='warn')\n",
    "\n",
    "    # energy force kernel\n",
    "    k_ef = T.grad(k, r2)\n",
    "    k_ef_fun = function([r1, r2, rho1, rho2, sig, theta, rc], k_ef,\n",
    "                        allow_input_downcast=False, on_unused_input='warn')\n",
    "\n",
    "    # force force kernel\n",
    "    k_ff = T.grad(k, r1)\n",
    "    k_ff_der, updates = scan(lambda j, k_ff, r2: T.grad(k_ff[j], r2),\n",
    "                             sequences=T.arange(k_ff.shape[0]), non_sequences=[k_ff, r2])\n",
    "\n",
    "    k_ff_fun = function([r1, r2, rho1, rho2, sig, theta, rc], k_ff_der,\n",
    "                        allow_input_downcast=False, on_unused_input='warn')\n",
    "\n",
    "    # --------------------------------------------------\n",
    "    # WRAPPERS (we don't want to plug the position of the central element every time)\n",
    "    # --------------------------------------------------\n",
    "\n",
    "    def k2_ee(conf1, conf2, sig, theta, rc):\n",
    "        \"\"\"\n",
    "        Two body kernel for energy-energy correlation\n",
    "\n",
    "        Args:\n",
    "            conf1: first configuration.\n",
    "            conf2: second configuration.\n",
    "            sig: lengthscale hyperparameter.\n",
    "            theta: cutoff smoothness hyperparameter.\n",
    "            rc: cutoff distance hyperparameter.\n",
    "\n",
    "        Returns:\n",
    "            kernel (scalar):\n",
    "\n",
    "        \"\"\"\n",
    "        return k_ee_fun(np.zeros(3), np.zeros(3), conf1, conf2, sig, theta, rc)\n",
    "\n",
    "    def k2_ef(conf1, conf2, sig, theta, rc):\n",
    "        \"\"\"\n",
    "        Two body kernel for energy-force correlation\n",
    "\n",
    "        Args:\n",
    "            conf1: first configuration.\n",
    "            conf2: second configuration.\n",
    "            sig: lengthscale hyperparameter.\n",
    "            theta: cutoff smoothness hyperparameter.\n",
    "            rc: cutoff distance hyperparameter.\n",
    "\n",
    "        Returns:\n",
    "            kernel (vector):\n",
    "        \"\"\"\n",
    "\n",
    "        return k_ef_fun(np.zeros(3), np.zeros(3), conf1, conf2, sig, theta, rc)\n",
    "\n",
    "    def k2_ff(conf1, conf2, sig, theta, rc):\n",
    "        \"\"\"\n",
    "        Two body kernel for force-force correlation\n",
    "\n",
    "        Args:\n",
    "            conf1: first configuration.\n",
    "            conf2: second configuration.\n",
    "            sig: lengthscale hyperparameter.\n",
    "            theta: cutoff smoothness hyperparameter.\n",
    "            rc: cutoff distance hyperparameter.\n",
    "\n",
    "        Returns:\n",
    "            kernel (matrix):\n",
    "        \"\"\"\n",
    "\n",
    "        return k_ff_fun(np.zeros(3), np.zeros(3), conf1, conf2, sig, theta, rc)\n",
    "\n",
    "    print(\"Ended compilation of theano two body kernels\")\n",
    "\n",
    "    return k2_ee, k2_ef, k2_ff\n",
    "\n",
    "\n",
    "def compile_threebody_singlespecies():\n",
    "\t\"\"\"\n",
    "\tThis function generates theano compiled kernels for energy and force learning\n",
    "\n",
    "\tThe position of the atoms relative to the centrla one, and their chemical species\n",
    "\tare defined by a matrix of dimension Mx5\n",
    "\n",
    "\tReturns:\n",
    "\t\tk3_ee (func): energy-energy kernel\n",
    "\t\tk3_ef (func): energy-force kernel\n",
    "\t\tk3_ff (func): force-force kernel\n",
    "\t\"\"\"\n",
    "\n",
    "\tprint(\"Started compilation of theano three body single species kernels\")\n",
    "\n",
    "\t# --------------------------------------------------\n",
    "\t# INITIAL DEFINITIONS\n",
    "\t# --------------------------------------------------\n",
    "\n",
    "\t# positions of central atoms\n",
    "\tr1, r2 = T.dvectors('r1d', 'r2d')\n",
    "\t# positions of neighbours\n",
    "\trho1, rho2 = T.dmatrices('rho1', 'rho2')\n",
    "\t# hyperparameter\n",
    "\tsig = T.dscalar('sig')\n",
    "\t# cutoff hyperparameters\n",
    "\ttheta = T.dscalar('theta')\n",
    "\trc = T.dscalar('rc')\n",
    "\n",
    "\t# positions of neighbours without chemical species\n",
    "\n",
    "\trho1s = rho1[:, 0:3]\n",
    "\trho2s = rho2[:, 0:3]\n",
    "\n",
    "\t# --------------------------------------------------\n",
    "\t# RELATIVE DISTANCES TO CENTRAL VECTOR AND BETWEEN NEIGHBOURS\n",
    "\t# --------------------------------------------------\n",
    "\n",
    "\t# first and second configuration\n",
    "\tr1j = T.sqrt(T.sum((rho1s[:, :] - r1[None, :]) ** 2, axis=1))\n",
    "\tr2m = T.sqrt(T.sum((rho2s[:, :] - r2[None, :]) ** 2, axis=1))\n",
    "\trjk = T.sqrt(T.sum((rho1s[None, :, :] - rho1s[:, None, :]) ** 2, axis=2))\n",
    "\trmn = T.sqrt(T.sum((rho2s[None, :, :] - rho2s[:, None, :]) ** 2, axis=2))\n",
    "\n",
    "\t# --------------------------------------------------\n",
    "\t# BUILD THE KERNEL\n",
    "\t# --------------------------------------------------\n",
    "\n",
    "\t# Squared exp of differences\n",
    "\tse_1j2m = T.exp(-(r1j[:, None] - r2m[None, :]) ** 2 / (2 * sig ** 2))\n",
    "\tse_jkmn = T.exp(-(rjk[:, :, None, None] - rmn[None, None, :, :]) ** 2 / (2 * sig ** 2))\n",
    "\tse_jk2m = T.exp(-(rjk[:, :, None] - r2m[None, None, :]) ** 2 / (2 * sig ** 2))\n",
    "\tse_1jmn = T.exp(-(r1j[:, None, None] - rmn[None, :, :]) ** 2 / (2 * sig ** 2))\n",
    "\n",
    "\t# Kernel not summed (cyclic permutations)\n",
    "\tk1n = (se_1j2m[:, None, :, None] * se_1j2m[None, :, None, :] * se_jkmn)\n",
    "\tk2n = (se_1jmn[:, None, :, :] * se_jk2m[:, :, None, :] * se_1j2m[None, :, :, None])\n",
    "\tk3n = (se_1j2m[:, None, None, :] * se_jk2m[:, :, :, None] * se_1jmn[None, :, :, :])\n",
    "\n",
    "\t# final shape is M1 M1 M2 M2\n",
    "\n",
    "\tker_jkmn = (k1n + k2n + k3n)\n",
    "\n",
    "\tcut_ik = (T.exp(-theta / T.abs_(rc - r1j[:, None])) *\n",
    "\t          T.exp(-theta / T.abs_(rc - r1j[None, :])) *\n",
    "\t          T.exp(-theta / T.abs_(rc - rjk[:, :])) *\n",
    "\t          (0.5 * (T.sgn(rc - r1j) + 1))[None, :] *\n",
    "\t          (0.5 * (T.sgn(rc - r1j) + 1))[:, None] *\n",
    "\t          (0.5 * (T.sgn(rc - rjk) + 1))[:, :])\n",
    "\n",
    "\tcut_mn = (T.exp(-theta / T.abs_(rc - r2m[:, None])) *\n",
    "\t          T.exp(-theta / T.abs_(rc - r2m[None, :])) *\n",
    "\t          T.exp(-theta / T.abs_(rc - rmn[:, :])) *\n",
    "\t          (0.5 * (T.sgn(rc - r2m) + 1))[None, :] *\n",
    "\t          (0.5 * (T.sgn(rc - r2m) + 1))[:, None] *\n",
    "\t          (0.5 * (T.sgn(rc - rmn) + 1))[:, :])\n",
    "\n",
    "\tker_jkmn_withcutoff = ker_jkmn * cut_ik[:, :, None, None] * cut_mn[None, None, :, :]\n",
    "\n",
    "\t# --------------------------------------------------\n",
    "\t# REMOVE DIAGONAL ELEMENTS\n",
    "\t# --------------------------------------------------\n",
    "\n",
    "\n",
    "\t# remove diagonal elements AND lower triangular ones from first configuration\n",
    "\tmask_jk = T.triu(T.ones_like(rjk)) #- T.identity_like(rjk)\n",
    "\t# remove diagonal elements from second configuration\n",
    "\tmask_mn = T.ones_like(rmn) #- T.identity_like(rmn)\n",
    "    \n",
    "\tmask_jkmn = mask_jk[:, :, None, None] * mask_mn[None, None, :, :]\n",
    "\n",
    "\tk_cutoff = T.sum(ker_jkmn_withcutoff * mask_jkmn)\n",
    "    \n",
    "\t# --------------------------------------------------\n",
    "\t# FINAL FUNCTIONS\n",
    "\t# --------------------------------------------------\n",
    "\n",
    "\t# energy energy kernel\n",
    "\tk_ee_fun = function([r1, r2, rho1, rho2, sig, theta, rc], k_cutoff, on_unused_input='warn')\n",
    "\n",
    "\t# energy force kernel\n",
    "\tk_ef_cut = T.grad(k_cutoff, r2)\n",
    "\tk_ef_fun = function([r1, r2, rho1, rho2, sig, theta, rc], k_ef_cut, on_unused_input='warn')\n",
    "\n",
    "\t# force force kernel\n",
    "\tk_ff_cut = T.grad(k_cutoff, r1)\n",
    "\tk_ff_cut_der, updates = scan(lambda j, k_ff_cut, r2: T.grad(k_ff_cut[j], r2),\n",
    "\t                             sequences=T.arange(k_ff_cut.shape[0]), non_sequences=[k_ff_cut, r2])\n",
    "\tk_ff_fun = function([r1, r2, rho1, rho2, sig, theta, rc], k_ff_cut_der, on_unused_input='warn')\n",
    "\n",
    "\t# WRAPPERS (we don't want to plug the position of the central element every time)\n",
    "\n",
    "\tdef k3_ee(conf1, conf2, sig, theta, rc):\n",
    "\t\t\"\"\"\n",
    "\t\tTwo body kernel for energy-energy correlation\n",
    "\n",
    "\t\tArgs:\n",
    "\t\t\tconf1: first configuration.\n",
    "\t\t\tconf2: second configuration.\n",
    "\t\t\tsig: lengthscale hyperparameter.\n",
    "\t\t\ttheta: cutoff smoothness hyperparameter.\n",
    "\t\t\trc: cutoff distance hyperparameter.\n",
    "\n",
    "\t\tReturns:\n",
    "\t\t\tkernel (scalar):\n",
    "\n",
    "\t\t\"\"\"\n",
    "\t\treturn k_ee_fun(np.zeros(3), np.zeros(3), conf1, conf2, sig, theta, rc)\n",
    "\n",
    "\tdef k3_ef(conf1, conf2, sig, theta, rc):\n",
    "\t\t\"\"\"\n",
    "\t\tTwo body kernel for energy-force correlation\n",
    "\n",
    "\t\tArgs:\n",
    "\t\t\tconf1: first configuration.\n",
    "\t\t\tconf2: second configuration.\n",
    "\t\t\tsig: lengthscale hyperparameter.\n",
    "\t\t\ttheta: cutoff smoothness hyperparameter.\n",
    "\t\t\trc: cutoff distance hyperparameter.\n",
    "\n",
    "\t\tReturns:\n",
    "\t\t\tkernel (vector):\n",
    "\t\t\"\"\"\n",
    "\n",
    "\t\treturn k_ef_fun(np.zeros(3), np.zeros(3), conf1, conf2, sig, theta, rc)\n",
    "\n",
    "\tdef k3_ff(conf1, conf2, sig, theta, rc):\n",
    "\t\t\"\"\"\n",
    "\t\tTwo body kernel for force-force correlation\n",
    "\n",
    "\t\tArgs:\n",
    "\t\t\tconf1: first configuration.\n",
    "\t\t\tconf2: second configuration.\n",
    "\t\t\tsig: lengthscale hyperparameter.\n",
    "\t\t\ttheta: cutoff smoothness hyperparameter.\n",
    "\t\t\trc: cutoff distance hyperparameter.\n",
    "\n",
    "\t\tReturns:\n",
    "\t\t\tkernel (matrix):\n",
    "\t\t\"\"\"\n",
    "\n",
    "\t\treturn k_ff_fun(np.zeros(3), np.zeros(3), conf1, conf2, sig, theta, rc)\n",
    "\n",
    "\tprint(\"Ended compilation of theano three body single species kernels\")\n",
    "\n",
    "\treturn k3_ee, k3_ef, k3_ff"
   ]
  },
  {
   "cell_type": "code",
   "execution_count": 81,
   "metadata": {},
   "outputs": [
    {
     "name": "stdout",
     "output_type": "stream",
     "text": [
      "Started compilation of theano two body single species kernels\n",
      "Ended compilation of theano two body kernels\n"
     ]
    }
   ],
   "source": [
    "k2_ee, k2_ef, k2_ff = compile_twobody_singlespecies()"
   ]
  },
  {
   "cell_type": "code",
   "execution_count": 3,
   "metadata": {
    "scrolled": true
   },
   "outputs": [
    {
     "name": "stdout",
     "output_type": "stream",
     "text": [
      "Started compilation of theano three body single species kernels\n",
      "Ended compilation of theano three body single species kernels\n"
     ]
    }
   ],
   "source": [
    "k3_ee, k3_ef, k3_ff = compile_threebody_singlespecies()"
   ]
  },
  {
   "cell_type": "code",
   "execution_count": 4,
   "metadata": {},
   "outputs": [],
   "source": [
    "def ker4by4(conf1, conf2, sig, theta, rc):\n",
    "    k4b4 = np.zeros((4,4))\n",
    "    k4b4[0,0] = k3_ee(conf1, conf2, sig, theta, rc)\n",
    "    k4b4[0,1:] = k3_ef(conf1, conf2, sig, theta, rc)\n",
    "    k4b4[1:,0] = k3_ef(conf2, conf1, sig, theta, rc)\n",
    "    k4b4[1:,1:] = k3_ff(conf1, conf2, sig, theta, rc)\n",
    "    return k4b4"
   ]
  },
  {
   "cell_type": "code",
   "execution_count": 5,
   "metadata": {},
   "outputs": [],
   "source": [
    "# define a benchmarking test on random configurations\n",
    "n = 10\n",
    "nn = 5\n",
    "confs = (np.random.rand(n, nn, 3)-0.5)*100"
   ]
  },
  {
   "cell_type": "code",
   "execution_count": 6,
   "metadata": {
    "scrolled": true
   },
   "outputs": [
    {
     "data": {
      "text/plain": [
       "array([[ 2.35539599, -0.23121468, -0.46842497, -0.63228977],\n",
       "       [-0.86741019,  1.47385267, -0.77946749,  0.72838943],\n",
       "       [-1.02605868,  0.67856179, -1.44553623,  1.9374967 ],\n",
       "       [-0.78414317,  0.96596372, -0.5466039 ,  0.45028934]])"
      ]
     },
     "execution_count": 6,
     "metadata": {},
     "output_type": "execute_result"
    }
   ],
   "source": [
    "ker4by4(confs[0], confs[3], 1., .00001, 100000.)"
   ]
  },
  {
   "cell_type": "markdown",
   "metadata": {},
   "source": [
    "## Import databases"
   ]
  },
  {
   "cell_type": "code",
   "execution_count": 7,
   "metadata": {},
   "outputs": [],
   "source": [
    "# the two structures are in\n",
    "# MD_300_DIH_2/ \n",
    "# MD_300_HCP2_2/"
   ]
  },
  {
   "cell_type": "code",
   "execution_count": 8,
   "metadata": {},
   "outputs": [],
   "source": [
    "energies1 = np.genfromtxt('Ni_19_traj/MD_300_DIH_2/energyycopy.txt')\n",
    "energies2 = np.genfromtxt('Ni_19_traj/MD_300_HCP2_2/energyycopy.txt')\n",
    "energies1 = energies1[:, 2]\n",
    "energies2 = energies2[:, 2]"
   ]
  },
  {
   "cell_type": "code",
   "execution_count": 9,
   "metadata": {},
   "outputs": [],
   "source": [
    "forces1 = np.genfromtxt('Ni_19_traj/MD_300_DIH_2/moviecopy.txt')\n",
    "forces2 = np.genfromtxt('Ni_19_traj/MD_300_HCP2_2/moviecopy.txt')\n",
    "forces1 = forces1[:, 4:7]\n",
    "forces2 = forces2[:, 4:7]"
   ]
  },
  {
   "cell_type": "code",
   "execution_count": 10,
   "metadata": {},
   "outputs": [],
   "source": [
    "forces1 = np.reshape(forces1, (int(forces1.shape[0]/19), 19, 3))\n",
    "forces2 = np.reshape(forces2, (int(forces2.shape[0]/19), 19, 3))"
   ]
  },
  {
   "cell_type": "code",
   "execution_count": 11,
   "metadata": {},
   "outputs": [],
   "source": [
    "confs1 = np.genfromtxt('Ni_19_traj/MD_300_DIH_2/moviecopy.txt')\n",
    "confs2 = np.genfromtxt('Ni_19_traj/MD_300_HCP2_2/moviecopy.txt')\n",
    "confs1 = confs1[:, 1:4]\n",
    "confs2 = confs2[:, 1:4]"
   ]
  },
  {
   "cell_type": "code",
   "execution_count": 12,
   "metadata": {},
   "outputs": [],
   "source": [
    "confs1 = np.reshape(confs1, (int(confs1.shape[0]/19), 19, 3))\n",
    "confs2 = np.reshape(confs2, (int(confs2.shape[0]/19), 19, 3))"
   ]
  },
  {
   "cell_type": "code",
   "execution_count": 13,
   "metadata": {},
   "outputs": [
    {
     "data": {
      "image/png": "[encoded data removed]",
      "text/plain": [
       "<Figure size 432x288 with 1 Axes>"
      ]
     },
     "metadata": {},
     "output_type": "display_data"
    }
   ],
   "source": [
    "plt.plot(energies1)\n",
    "plt.plot(energies2)\n",
    "plt.show()"
   ]
  },
  {
   "cell_type": "code",
   "execution_count": 161,
   "metadata": {},
   "outputs": [],
   "source": [
    "N = 300\n",
    "burn = 200\n",
    "idx1 = np.random.choice(np.arange(energies1.shape[0])[burn:], int(N/2), replace=False)\n",
    "idx2 = np.random.choice(np.arange(energies2.shape[0])[burn:], int(N/2), replace=False)"
   ]
  },
  {
   "cell_type": "code",
   "execution_count": 162,
   "metadata": {},
   "outputs": [],
   "source": [
    "confs = []\n",
    "forces = []\n",
    "energies = []\n",
    "energies_forces = []\n",
    "\n",
    "for i in idx1:\n",
    "    \n",
    "    conf = confs1[i, : , :]\n",
    "    cent_atom = np.random.choice(np.arange(19))\n",
    "    cent_pos = conf[cent_atom , :]\n",
    "    conf = np.delete(conf, cent_atom, 0)\n",
    "    conf = conf - cent_pos\n",
    "    confs.append(conf)\n",
    "    \n",
    "    force = forces1[i, cent_atom]\n",
    "    energy = energies1[i]\n",
    "    \n",
    "    en_for = np.hstack((energy, force))\n",
    "    \n",
    "    energies_forces.append(en_for)\n",
    "    forces.append(force)\n",
    "    energies.append(energy)\n",
    "    \n",
    "for i in idx2:\n",
    "    \n",
    "    conf = confs2[i, : , :]\n",
    "    cent_atom = np.random.choice(np.arange(19))\n",
    "    cent_pos = conf[cent_atom , :]\n",
    "    conf = np.delete(conf, cent_atom, 0)\n",
    "    conf = conf - cent_pos\n",
    "    confs.append(conf)\n",
    "    \n",
    "    force = forces2[i, cent_atom]\n",
    "    energy = energies2[i]\n",
    "    \n",
    "    en_for = np.hstack((energy, force))\n",
    "    \n",
    "    energies_forces.append(en_for)\n",
    "    forces.append(force)\n",
    "    energies.append(energy)\n",
    "    \n",
    "confs = np.array(confs)\n",
    "forces = np.array(forces).flatten()\n",
    "energies_forces = np.array(energies_forces).flatten()"
   ]
  },
  {
   "cell_type": "code",
   "execution_count": 163,
   "metadata": {},
   "outputs": [],
   "source": [
    "def calc_gram(confs):\n",
    "    N = len(confs)\n",
    "    gram = np.zeros((N*3,N*3))\n",
    "    for i in np.arange(N):\n",
    "        for j in np.arange(N):\n",
    "            gram[3*i:3*(i+1),3*j:3*(j+1)] = k3_ff(confs[i], confs[j], 1., 0.001, 100.)\n",
    "            \n",
    "    gram += np.identity(N*3)*0.00001\n",
    "    return gram\n",
    "\n",
    "def calc_gram_wen(confs):\n",
    "    N = len(confs)\n",
    "    gram = np.zeros((N*4,N*4))\n",
    "    for i in np.arange(N):\n",
    "        for j in np.arange(N):\n",
    "            gram[4*i:4*(i+1),4*j:4*(j+1)] = ker4by4(confs[i], confs[j], 1., 0.001, 100.)\n",
    "    gram += np.identity(N*4)*0.00001\n",
    "    return gram\n",
    "\n",
    "def calc_gram_en(confs):\n",
    "    N = len(confs)\n",
    "    gram = np.zeros((N,N))\n",
    "    for i in np.arange(N):\n",
    "        for j in np.arange(N):\n",
    "            gram[i:(i+1),j:(j+1)] = k2_ee(confs[i], confs[j], 1., 0.001, 100.)\n",
    "    gram += np.identity(N)*0.00001\n",
    "    return gram"
   ]
  },
  {
   "cell_type": "code",
   "execution_count": 164,
   "metadata": {},
   "outputs": [],
   "source": [
    "#gram_f = calc_gram(confs)"
   ]
  },
  {
   "cell_type": "code",
   "execution_count": 165,
   "metadata": {},
   "outputs": [],
   "source": [
    "#gram_fe = calc_gram_wen(confs)"
   ]
  },
  {
   "cell_type": "code",
   "execution_count": 166,
   "metadata": {},
   "outputs": [],
   "source": [
    "gram_ee = calc_gram_en(confs)"
   ]
  },
  {
   "cell_type": "code",
   "execution_count": 167,
   "metadata": {},
   "outputs": [
    {
     "data": {
      "text/plain": [
       "(300, 300)"
      ]
     },
     "execution_count": 167,
     "metadata": {},
     "output_type": "execute_result"
    }
   ],
   "source": [
    "gram_ee.shape"
   ]
  },
  {
   "cell_type": "code",
   "execution_count": 168,
   "metadata": {},
   "outputs": [],
   "source": [
    "#alphas_f = np.linalg.inv(gram_f).dot(forces) \n",
    "#alphas_fe = np.linalg.inv(gram_fe).dot(energies_forces) \n",
    "alphas_e = np.linalg.inv(gram_ee).dot(energies)"
   ]
  },
  {
   "cell_type": "code",
   "execution_count": 169,
   "metadata": {},
   "outputs": [],
   "source": [
    "def pred_force(conf, confs):\n",
    "\n",
    "    kv = np.zeros((3, confs.shape[0]*3 ))\n",
    "    \n",
    "    for i in np.arange(confs.shape[0]):\n",
    "        kv[:,3*i:3*(i+1)] = k3_ff(conf, confs[i], 1., 0.001, 100.)\n",
    "    \n",
    "    return kv.dot(alphas_f)\n",
    "\n",
    "\n",
    "def pred_energy(conf, confs):\n",
    "\n",
    "    kv = np.zeros((1, confs.shape[0]*3))\n",
    "    \n",
    "    for i in np.arange(confs.shape[0]):\n",
    "        kv[:,3*i:3*(i+1)] = k3_ef(conf, confs[i], 1., 0.001, 100.)\n",
    "        \n",
    "    return kv.dot(alphas_f)\n",
    "\n",
    "\n",
    "def pred_energy_fromen(conf, confs):\n",
    "\n",
    "    kv = np.zeros((1, confs.shape[0]))\n",
    "    \n",
    "    for i in np.arange(confs.shape[0]):\n",
    "        kv[:,i:(i+1)] = k2_ee(conf, confs[i], 1., 0.001, 100.)\n",
    "        \n",
    "    return kv.dot(alphas_e)\n",
    "\n",
    "\n",
    "def pred_energy_force_we(conf, confs):\n",
    "\n",
    "    kv = np.zeros((4, confs.shape[0]*4, ))\n",
    "    \n",
    "    for i in np.arange(confs.shape[0]):\n",
    "        kv[:,4*i:4*(i+1)] = ker4by4(conf, confs[i], 1., 0.001, 100.)\n",
    "    \n",
    "    return kv.dot(alphas_fe)\n"
   ]
  },
  {
   "cell_type": "markdown",
   "metadata": {},
   "source": [
    "## Testing energies and forces"
   ]
  },
  {
   "cell_type": "code",
   "execution_count": 170,
   "metadata": {},
   "outputs": [],
   "source": [
    "Ntst = 50\n",
    "burn = 200\n",
    "idx1 = np.random.choice(np.arange(energies1.shape[0])[burn:], int(Ntst/2), replace=False)\n",
    "idx2 = np.random.choice(np.arange(energies2.shape[0])[burn:], int(Ntst/2), replace=False)"
   ]
  },
  {
   "cell_type": "code",
   "execution_count": 171,
   "metadata": {},
   "outputs": [],
   "source": [
    "confs_tst = []\n",
    "forces_tst = []\n",
    "energies_tst = []\n",
    "energies_forces_tst = []\n",
    "\n",
    "for i in idx1:\n",
    "    \n",
    "    conf = confs1[i, : , :]\n",
    "    cent_atom = np.random.choice(np.arange(19))\n",
    "    cent_pos = conf[cent_atom , :]\n",
    "    conf = np.delete(conf, cent_atom, 0)\n",
    "    conf = conf - cent_pos\n",
    "    confs_tst.append(conf)\n",
    "    \n",
    "    force = forces1[i, cent_atom]\n",
    "    energy = energies1[i]\n",
    "    \n",
    "    en_for = np.hstack((energy, force))\n",
    "    \n",
    "    energies_forces_tst.append(en_for)\n",
    "    forces_tst.append(force)\n",
    "    energies_tst.append(energy)\n",
    "    \n",
    "for i in idx2:\n",
    "    \n",
    "    conf = confs2[i, : , :]\n",
    "    cent_atom = np.random.choice(np.arange(19))\n",
    "    cent_pos = conf[cent_atom , :]\n",
    "    conf = np.delete(conf, cent_atom, 0)\n",
    "    conf = conf - cent_pos\n",
    "    confs_tst.append(conf)\n",
    "    \n",
    "    force = forces2[i, cent_atom]\n",
    "    energy = energies2[i]\n",
    "    \n",
    "    en_for = np.hstack((energy, force))\n",
    "    \n",
    "    energies_forces_tst.append(en_for)\n",
    "    forces_tst.append(force)\n",
    "    energies_tst.append(energy)\n",
    "    \n",
    "confs_tst = np.array(confs_tst)\n",
    "forces_tst = np.array(forces_tst).flatten()\n",
    "energies_forces_tst = np.array(energies_forces_tst).flatten()"
   ]
  },
  {
   "cell_type": "markdown",
   "metadata": {},
   "source": [
    "### Testing energies only"
   ]
  },
  {
   "cell_type": "code",
   "execution_count": 176,
   "metadata": {},
   "outputs": [],
   "source": [
    "en_preds_fromen = []\n",
    "\n",
    "for i in np.arange(Ntst):\n",
    "    en_preds_fromen.append(pred_energy_fromen(confs_tst[i], confs))\n"
   ]
  },
  {
   "cell_type": "code",
   "execution_count": 175,
   "metadata": {},
   "outputs": [
    {
     "data": {
      "image/png": "[encoded data removed]",
      "text/plain": [
       "<Figure size 432x288 with 1 Axes>"
      ]
     },
     "metadata": {},
     "output_type": "display_data"
    }
   ],
   "source": [
    "plt.plot(en_preds_fromen, energies_tst, 'ro')\n",
    "plt.plot(energies_tst, energies_tst, 'k-')\n",
    "plt.xlabel('prediction')\n",
    "plt.ylabel('real value')\n",
    "plt.show()"
   ]
  },
  {
   "cell_type": "markdown",
   "metadata": {},
   "source": [
    "### Testing energies and forces"
   ]
  },
  {
   "cell_type": "code",
   "execution_count": 531,
   "metadata": {
    "scrolled": true
   },
   "outputs": [],
   "source": [
    "en_preds = []\n",
    "f_preds = []\n",
    "en_preds_we = []\n",
    "f_preds_we = []\n",
    "\n",
    "for i in np.arange(Ntst):\n",
    "    en_preds.append(pred_energy(confs_tst[i], confs))\n",
    "    f_preds.append(pred_force(confs_tst[i], confs))\n",
    "    \n",
    "    pred_we = pred_energy_force_we(confs_tst[i], confs)\n",
    "    en_preds_we.append(pred_we[0])\n",
    "    f_preds_we.append(pred_we[1:4])"
   ]
  },
  {
   "cell_type": "code",
   "execution_count": 532,
   "metadata": {},
   "outputs": [],
   "source": [
    "f_preds = np.array(f_preds)\n",
    "f_preds = np.reshape(f_preds, (f_preds.shape[0]*3))\n",
    "f_preds_we = np.array(f_preds_we)\n",
    "f_preds_we = np.reshape(f_preds_we, (f_preds_we.shape[0]*3))"
   ]
  },
  {
   "cell_type": "code",
   "execution_count": 533,
   "metadata": {
    "scrolled": true
   },
   "outputs": [],
   "source": [
    "en_preds = en_preds - np.mean(en_preds)\n",
    "en_preds_we = en_preds_we - np.mean(en_preds_we)\n",
    "energies_tst = energies_tst - np.mean(energies_tst)"
   ]
  },
  {
   "cell_type": "code",
   "execution_count": 546,
   "metadata": {},
   "outputs": [],
   "source": [
    "#en_preds\n",
    "fs = 13"
   ]
  },
  {
   "cell_type": "code",
   "execution_count": 551,
   "metadata": {},
   "outputs": [
    {
     "data": {
      "image/png": "[encoded data removed]",
      "text/plain": [
       "<Figure size 432x288 with 1 Axes>"
      ]
     },
     "metadata": {},
     "output_type": "display_data"
    }
   ],
   "source": [
    "plt.plot(f_preds, forces_tst, 'bo', label = 'without energy training')\n",
    "plt.plot(f_preds_we, forces_tst, 'ro', label = 'with energy training')\n",
    "plt.plot(forces_tst, forces_tst, 'k-')\n",
    "plt.xlabel('predicted force component', fontsize = fs)\n",
    "plt.ylabel('target force component', fontsize = fs)\n",
    "plt.legend()\n",
    "plt.savefig('forces.png', dpi=250)"
   ]
  },
  {
   "cell_type": "code",
   "execution_count": 584,
   "metadata": {},
   "outputs": [
    {
     "data": {
      "image/png": "[encoded data removed]",
      "text/plain": [
       "<Figure size 432x288 with 1 Axes>"
      ]
     },
     "metadata": {},
     "output_type": "display_data"
    }
   ],
   "source": [
    "plt.plot(en_preds[0:int(Ntst/2)], energies_tst[0:int(Ntst/2)], color = 'b', marker = 'o', label = 'without energy training', markerfacecolor='none', lw = 0)\n",
    "plt.plot(en_preds[int(Ntst/2):], energies_tst[int(Ntst/2):], color = 'b', marker = 'x', lw = 0)\n",
    "plt.plot(en_preds_we[0:int(Ntst/2)], energies_tst[0:int(Ntst/2)],  color = 'r',marker = 'o', label = 'with energy training', lw = 0 ,markerfacecolor='none')\n",
    "plt.plot(en_preds_we[int(Ntst/2):], energies_tst[int(Ntst/2):],  color = 'r', marker = 'x', lw = 0 )\n",
    "\n",
    "plt.plot(energies_tst, energies_tst, 'k-')\n",
    "plt.legend()\n",
    "plt.xlabel('predicted relative energy [eV]', fontsize = fs)\n",
    "plt.ylabel('target relative energy [eV]', fontsize = fs)\n",
    "plt.savefig('energies.png', dpi=250)"
   ]
  },
  {
   "cell_type": "code",
   "execution_count": null,
   "metadata": {},
   "outputs": [],
   "source": []
  },
  {
   "cell_type": "code",
   "execution_count": null,
   "metadata": {},
   "outputs": [],
   "source": []
  }
 ],
 "metadata": {
  "kernelspec": {
   "display_name": "Python 3",
   "language": "python",
   "name": "python3"
  },
  "language_info": {
   "codemirror_mode": {
    "name": "ipython",
    "version": 3
   },
   "file_extension": ".py",
   "mimetype": "text/x-python",
   "name": "python",
   "nbconvert_exporter": "python",
   "pygments_lexer": "ipython3",
   "version": "3.6.5"
  }
 },
 "nbformat": 4,
 "nbformat_minor": 2
}
