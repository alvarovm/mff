{
 "cells": [
  {
   "cell_type": "markdown",
   "metadata": {},
   "source": [
    "# Simplest test (to debug remapping)"
   ]
  },
  {
   "cell_type": "code",
   "execution_count": 27,
   "metadata": {
    "ExecuteTime": {
     "end_time": "2018-06-14T09:23:41.189737Z",
     "start_time": "2018-06-14T09:23:41.111690Z"
    }
   },
   "outputs": [
    {
     "name": "stdout",
     "output_type": "stream",
     "text": [
      "The autoreload extension is already loaded. To reload it, use:\n",
      "  %reload_ext autoreload\n"
     ]
    }
   ],
   "source": [
    "import sys\n",
    "sys.path.append('..')\n",
    "%matplotlib inline\n",
    "%load_ext autoreload\n",
    "%autoreload 2\n",
    "import os\n",
    "import logging\n",
    "from pathlib import Path\n",
    "\n",
    "import numpy as np\n",
    "import matplotlib.pyplot as plt\n",
    "\n",
    "from ase import Atoms\n",
    "from ase.io import read\n",
    "from asap3 import FullNeighborList\n",
    "\n",
    "from m_ff.configurations import carve_confs\n",
    "\n",
    "from m_ff.kernels import TwoBodySingleSpeciesKernel, ThreeBodySingleSpeciesKernel\n",
    "from m_ff.gp import GaussianProcess, ThreeBodySingleSpeciesGP, TwoBodySingleSpeciesGP\n",
    "from m_ff.grid import SingleSpeciesGrid\n",
    "\n",
    "from m_ff.interpolation import Spline3D, Spline1D\n",
    "from m_ff.calculators import TwoBodySingleSpecies, ThreeBodySingleSpecies, CombinedSingleSpecies\n",
    "\n",
    "logging.basicConfig(level=logging.INFO)"
   ]
  },
  {
   "cell_type": "markdown",
   "metadata": {},
   "source": [
    "### Create very simple fake database"
   ]
  },
  {
   "cell_type": "code",
   "execution_count": 2,
   "metadata": {
    "scrolled": true
   },
   "outputs": [],
   "source": [
    "# two atoms at 0,1 and at 1, 0\n",
    "\n",
    "conf0 = np.array([[2., 0., 0.], [0., 2., 0.]])\n",
    "\n",
    "N = 2\n",
    "s_n = 0.01\n",
    "confs = np.hstack((np.tile(conf0, (N, 1)) + np.random.normal(0, s_n, ((N*2, 3))), np.ones(((N*2, 2)))))\n",
    "confs = np.reshape(confs, (N, 2, 5))"
   ]
  },
  {
   "cell_type": "code",
   "execution_count": 3,
   "metadata": {},
   "outputs": [],
   "source": [
    "#confs"
   ]
  },
  {
   "cell_type": "code",
   "execution_count": 4,
   "metadata": {},
   "outputs": [],
   "source": [
    "def force(conf):\n",
    "    \n",
    "    r1, r2 = conf[0, 0:3], conf[1, 0:3]\n",
    "    r3 = r2 - r1\n",
    "    d1, d2, d3 = np.linalg.norm(r1), np.linalg.norm(r2), np.linalg.norm(r3)\n",
    "    e = np.exp(-(d1-1.) - (d2-1.) - (d3-1.))\n",
    "    f = e * (- r1/d1 - r2/d2)\n",
    "    return f\n",
    "\n",
    "    "
   ]
  },
  {
   "cell_type": "code",
   "execution_count": 5,
   "metadata": {},
   "outputs": [],
   "source": [
    "forces = np.zeros((N, 3))\n",
    "\n",
    "for i in np.arange(N):\n",
    "    forces[i] =  force(confs[i])\n"
   ]
  },
  {
   "cell_type": "code",
   "execution_count": null,
   "metadata": {},
   "outputs": [],
   "source": []
  },
  {
   "cell_type": "markdown",
   "metadata": {},
   "source": [
    "### Train a 3-body GP"
   ]
  },
  {
   "cell_type": "code",
   "execution_count": 6,
   "metadata": {
    "scrolled": false
   },
   "outputs": [
    {
     "name": "stderr",
     "output_type": "stream",
     "text": [
      "INFO:m_ff.kernels.threebodykernel:Started compilation of theano three body kernels\n",
      "INFO:m_ff.kernels.threebodykernel:Ended compilation of theano three body kernels\n"
     ]
    }
   ],
   "source": [
    "theta_3b = [1., 1., 100.]\n",
    "gp_3 = ThreeBodySingleSpeciesGP(theta=theta_3b, noise=0.001, optimizer=None)"
   ]
  },
  {
   "cell_type": "code",
   "execution_count": 7,
   "metadata": {
    "scrolled": true
   },
   "outputs": [
    {
     "data": {
      "text/plain": [
       "(2, 2, 5)"
      ]
     },
     "execution_count": 7,
     "metadata": {},
     "output_type": "execute_result"
    }
   ],
   "source": [
    "confs.shape"
   ]
  },
  {
   "cell_type": "code",
   "execution_count": 8,
   "metadata": {},
   "outputs": [
    {
     "data": {
      "text/plain": [
       "(2, 3)"
      ]
     },
     "execution_count": 8,
     "metadata": {},
     "output_type": "execute_result"
    }
   ],
   "source": [
    "forces.shape"
   ]
  },
  {
   "cell_type": "code",
   "execution_count": 9,
   "metadata": {},
   "outputs": [
    {
     "name": "stdout",
     "output_type": "stream",
     "text": [
      "error is  0.00615073718489035\n"
     ]
    }
   ],
   "source": [
    "gp_3.fit(confs, forces)\n",
    "\n",
    "preds = gp_3.predict(confs)\n",
    "print('error is ', np.mean(abs(preds - forces))/np.mean(abs(forces)))"
   ]
  },
  {
   "cell_type": "code",
   "execution_count": 10,
   "metadata": {},
   "outputs": [
    {
     "data": {
      "image/png": "[encoded data removed]",
      "text/plain": [
       "<Figure size 432x288 with 1 Axes>"
      ]
     },
     "metadata": {},
     "output_type": "display_data"
    }
   ],
   "source": [
    "plt.plot(preds, forces, 'ro')\n",
    "plt.plot(forces, forces, 'k-')\n",
    "plt.show()"
   ]
  },
  {
   "cell_type": "markdown",
   "metadata": {},
   "source": [
    "### Map the learned function"
   ]
  },
  {
   "cell_type": "code",
   "execution_count": 11,
   "metadata": {},
   "outputs": [],
   "source": [
    "grid_start, r_cut, num_3b  = 0.9, 3.5, 20\n",
    "\n",
    "mapping_dists_3b = np.linspace(grid_start, r_cut, num_3b)\n",
    "\n",
    "grid_3b = gp_3.build_grid(mapping_dists_3b, 1)\n"
   ]
  },
  {
   "cell_type": "code",
   "execution_count": 12,
   "metadata": {},
   "outputs": [],
   "source": [
    "calc = ThreeBodySingleSpecies(r_cut+20, grid_3b)"
   ]
  },
  {
   "cell_type": "markdown",
   "metadata": {},
   "source": [
    "### Test mapping direcly"
   ]
  },
  {
   "cell_type": "code",
   "execution_count": 13,
   "metadata": {},
   "outputs": [],
   "source": [
    "gp_forces = np.zeros((N, 3))\n",
    "gp_energies = np.zeros((N, 3))\n",
    "\n",
    "m_forces = np.zeros((N, 3))\n",
    "m_energies = np.zeros((N, 3))\n",
    "\n",
    "for i in np.arange(N):\n",
    "    gp_forces[i] =  gp_3.predict(np.array([confs[i]]))\n",
    "    gp_energies[i] = gp_3.predict_energy(np.array([confs[i]]))\n",
    "\n",
    "    r1, r2 = confs[i, 0, 0:3], confs[i, 1, 0:3]\n",
    "    r3 = r2-r1\n",
    "    d1, d2, d3 = np.linalg.norm(r1) , np.linalg.norm(r2) , np.linalg.norm(r3)          \n",
    "    n1, n2, n3 = r1/d1, r2/d2, r3/d3\n",
    "    e, de1, de2, de3 = calc.grid_3b.ev_all(d1, d2, d3)\n",
    "    \n",
    "    m_energies[i] = e\n",
    "    m_forces[i] = (- de1 * n1 - de2 * n2)"
   ]
  },
  {
   "cell_type": "code",
   "execution_count": 14,
   "metadata": {},
   "outputs": [
    {
     "name": "stdout",
     "output_type": "stream",
     "text": [
      "energy error is  0.0002849720758728293\n"
     ]
    },
    {
     "data": {
      "image/png": "[encoded data removed]",
      "text/plain": [
       "<Figure size 432x288 with 1 Axes>"
      ]
     },
     "metadata": {},
     "output_type": "display_data"
    }
   ],
   "source": [
    "print('energy error is ', np.mean(abs(gp_energies-m_energies)/np.mean(abs(gp_energies))))\n",
    "plt.plot(m_energies, gp_energies, 'ro')\n",
    "plt.show()"
   ]
  },
  {
   "cell_type": "code",
   "execution_count": 15,
   "metadata": {},
   "outputs": [
    {
     "name": "stdout",
     "output_type": "stream",
     "text": [
      "force error is  0.0046397255531399175\n"
     ]
    },
    {
     "data": {
      "image/png": "[encoded data removed]",
      "text/plain": [
       "<Figure size 432x288 with 1 Axes>"
      ]
     },
     "metadata": {},
     "output_type": "display_data"
    }
   ],
   "source": [
    "print('force error is ', np.mean(abs(gp_forces-m_forces)/np.mean(abs(gp_forces))))\n",
    "grid = np.linspace(np.min(gp_forces[:, 0]), np.max(gp_forces[:, 0]), 100)\n",
    "plt.plot(grid, grid, 'k-')\n",
    "plt.plot(m_forces[:, 0], gp_forces[:, 0], 'ro')\n",
    "plt.plot(m_forces[:, 1], gp_forces[:, 1], 'bo')\n",
    "#plt.plot(m_forces[:, 2], gp_forces[:, 2], 'go')\n",
    "plt.show()"
   ]
  },
  {
   "cell_type": "markdown",
   "metadata": {},
   "source": [
    "### Test mapping via the calculator object"
   ]
  },
  {
   "cell_type": "code",
   "execution_count": 16,
   "metadata": {},
   "outputs": [
    {
     "name": "stderr",
     "output_type": "stream",
     "text": [
      "INFO:m_ff.calculators:numbers is in system_changes\n",
      "INFO:m_ff.calculators:initialize\n"
     ]
    }
   ],
   "source": [
    "gp_forces = np.zeros((N, 3))\n",
    "gp_energies = np.zeros((N, 3))\n",
    "\n",
    "m_forces_ = np.zeros((N, 3))\n",
    "m_energies_ = np.zeros((N, 3))\n",
    "\n",
    "for i in np.arange(N):\n",
    "    gp_forces[i] =  gp_3.predict(np.array([confs[i]]))\n",
    "    gp_energies[i] = gp_3.predict_energy(np.array([confs[i]]))\n",
    "    \n",
    "    coords = np.vstack(([0, 0, 0], confs[i, 0:3, 0:3]))\n",
    "    atoms = Atoms('H3', positions = coords )\n",
    "    atoms.set_cell([100, 100, 100])\n",
    "    atoms.set_calculator(calc)\n",
    "    f = atoms.get_forces()[0, :]\n",
    "    #f = atoms.get_energy()\n",
    "    #m_energies[i] = e\n",
    "    m_forces_[i] = f\n",
    "\n",
    "\n"
   ]
  },
  {
   "cell_type": "code",
   "execution_count": 17,
   "metadata": {},
   "outputs": [
    {
     "name": "stdout",
     "output_type": "stream",
     "text": [
      "force error is  0.0002849720758728293\n"
     ]
    },
    {
     "data": {
      "image/png": "[encoded data removed]",
      "text/plain": [
       "<Figure size 432x288 with 1 Axes>"
      ]
     },
     "metadata": {},
     "output_type": "display_data"
    }
   ],
   "source": [
    "print('force error is ', np.mean(abs(gp_energies-m_energies)/np.mean(abs(gp_energies))))\n",
    "\n",
    "plt.plot(grid, grid, 'k-')\n",
    "plt.plot(m_forces[:, 0], gp_forces[:, 0], 'ro')\n",
    "plt.plot(m_forces_[:, 1], gp_forces[:, 1], 'bo')\n",
    "#plt.plot(m_forces[:, 2], gp_forces[:, 2], 'go')\n",
    "plt.xlabel('mapped force')\n",
    "plt.show()"
   ]
  },
  {
   "cell_type": "code",
   "execution_count": 18,
   "metadata": {},
   "outputs": [
    {
     "data": {
      "text/plain": [
       "[<matplotlib.lines.Line2D at 0x1c1d0b2160>]"
      ]
     },
     "execution_count": 18,
     "metadata": {},
     "output_type": "execute_result"
    },
    {
     "data": {
      "image/png": "[encoded data removed]",
      "text/plain": [
       "<Figure size 432x288 with 1 Axes>"
      ]
     },
     "metadata": {},
     "output_type": "display_data"
    }
   ],
   "source": [
    "diffgrid = np.linspace(np.min(m_forces_), np.max(m_forces_), 10)\n",
    "\n",
    "plt.plot(m_forces_[:, 1], m_forces[:, 1], 'bo')\n",
    "plt.plot(diffgrid, 0.8*diffgrid-0.13, 'k-')"
   ]
  },
  {
   "cell_type": "code",
   "execution_count": 28,
   "metadata": {},
   "outputs": [],
   "source": [
    "from itertools import combinations, islice\n"
   ]
  },
  {
   "cell_type": "code",
   "execution_count": 31,
   "metadata": {},
   "outputs": [],
   "source": [
    "def find_triplets(atoms, nl):\n",
    "    # atomic_numbers = self.atoms.get_array('numbers', copy=False)\n",
    "\n",
    "    indices, distances, positions = [], [], dict()\n",
    "\n",
    "    for i in range(len(atoms)):\n",
    "\n",
    "        inds, pos, dists2 = nl.get_neighbors(i)\n",
    "\n",
    "        # Limitation\n",
    "        assert len(inds) is len(np.unique(inds)), \"There are repetitive indices!\\n{}\".format(inds)\n",
    "\n",
    "        # ignoring already visited atoms\n",
    "        inds, pos, dists2 = inds[inds > i], pos[inds > i, :], dists2[inds > i]\n",
    "        dists = np.sqrt(dists2)\n",
    "\n",
    "        for local_ind, (j, pos_ij, dist_ij) in enumerate(zip(inds, pos, dists)):\n",
    "\n",
    "            # Caching local displacement vectors\n",
    "            positions[(i, j)], positions[(j, i)] = pos_ij / dist_ij, -pos_ij / dist_ij\n",
    "\n",
    "            for k, dist_ik in islice(zip(inds, dists), local_ind + 1, None):\n",
    "\n",
    "                try:\n",
    "                    jk_ind = list(nl[j]).index(k)\n",
    "                except ValueError:\n",
    "                    continue  # no valid triplet\n",
    "\n",
    "                _, _, dists_j = nl.get_neighbors(j)\n",
    "\n",
    "                indices.append([i, j, k])\n",
    "                distances.append([dist_ij, np.sqrt(dists_j[jk_ind]), dist_ik])\n",
    "\n",
    "    return np.array(indices), np.array(distances), positions\n"
   ]
  },
  {
   "cell_type": "code",
   "execution_count": null,
   "metadata": {},
   "outputs": [],
   "source": []
  },
  {
   "cell_type": "code",
   "execution_count": 32,
   "metadata": {},
   "outputs": [
    {
     "name": "stderr",
     "output_type": "stream",
     "text": [
      "INFO:m_ff.calculators:initialize\n",
      "INFO:m_ff.calculators:initialize\n"
     ]
    },
    {
     "name": "stdout",
     "output_type": "stream",
     "text": [
      "[[ 0.00000000e+00  0.00000000e+00  0.00000000e+00]\n",
      " [ 2.00397795e+00 -1.64881005e-02 -1.84562147e-03]\n",
      " [ 1.41142741e-03  2.00521100e+00  7.79136456e-03]]\n",
      "[[0 1 2]]\n",
      "[[2.00404663 2.845634   2.00522664]]\n",
      "[[ 0.00000000e+00  0.00000000e+00  0.00000000e+00]\n",
      " [ 2.01877780e+00  6.56611521e-04 -4.85291932e-03]\n",
      " [-9.47582128e-03  2.00218202e+00 -3.60113125e-03]]\n",
      "[[0 1 2]]\n",
      "[[2.01878374 2.84954703 2.00220768]]\n"
     ]
    }
   ],
   "source": [
    "m_forces_ = np.zeros((N, 3))\n",
    "\n",
    "for c in np.arange(N):\n",
    "    gp_forces[c] =  gp_3.predict(np.array([confs[c]]))\n",
    "    gp_energies[c] = gp_3.predict_energy(np.array([confs[c]]))\n",
    "    \n",
    "    coords = np.vstack(([0, 0, 0], confs[c, 0:3, 0:3]))\n",
    "    atoms = Atoms('H3', positions = coords )\n",
    "    atoms.set_cell([100, 100, 100])\n",
    "    calc = ThreeBodySingleSpecies(r_cut+20, grid_3b)\n",
    "    calc.initialize(atoms)\n",
    "    atoms.set_calculator(calc)\n",
    "    calc.atoms = atoms\n",
    "    \n",
    "    \n",
    "    indices, distances, positions = find_triplets(atoms, calc.nl)\n",
    "    print(coords)\n",
    "    print(indices)\n",
    "    print(distances)\n",
    "    d_ij, d_jk, d_ki = np.hsplit(distances, 3)\n",
    "    mapped = calc.grid_3b.ev_all(d_ij, d_jk, d_ki)\n",
    "\n",
    "    forces = np.zeros((len(atoms), 3))\n",
    "    \n",
    "    for (i, j, k), energy, dE_ij, dE_jk, dE_ki in zip(indices, mapped[0], mapped[1], mapped[2], mapped[3]):\n",
    "        \n",
    "        forces[i] += - positions[(i, j)] * dE_ij - positions[(i, k)] * dE_ki\n",
    "        forces[j] += - positions[(j, k)] * dE_jk - positions[(j, i)] * dE_ij\n",
    "        forces[k] += - positions[(k, i)] * dE_ki - positions[(k, j)] * dE_jk\n",
    "        \n",
    "    m_forces_[c] = forces[0]"
   ]
  },
  {
   "cell_type": "code",
   "execution_count": 33,
   "metadata": {},
   "outputs": [
    {
     "name": "stdout",
     "output_type": "stream",
     "text": [
      "force error is  0.0046397255531399175\n"
     ]
    },
    {
     "data": {
      "image/png": "[encoded data removed]",
      "text/plain": [
       "<Figure size 432x288 with 1 Axes>"
      ]
     },
     "metadata": {},
     "output_type": "display_data"
    }
   ],
   "source": [
    "print('force error is ', np.mean(abs(gp_forces-m_forces)/np.mean(abs(gp_forces))))\n",
    "grid = np.linspace(np.min(gp_forces[:, 0]), np.max(gp_forces[:, 0]), 100)\n",
    "plt.plot(grid, grid, 'k-')\n",
    "plt.plot(m_forces[:, 0], gp_forces[:, 0], 'ro')\n",
    "plt.plot(m_forces_[:, 1], gp_forces[:, 1], 'bo')\n",
    "plt.plot(m_forces[:, 2], gp_forces[:, 2], 'go')\n",
    "plt.show()"
   ]
  },
  {
   "cell_type": "code",
   "execution_count": 21,
   "metadata": {},
   "outputs": [],
   "source": [
    "#dir(calc)\n"
   ]
  },
  {
   "cell_type": "code",
   "execution_count": 22,
   "metadata": {},
   "outputs": [
    {
     "data": {
      "text/plain": [
       "Atoms(symbols='H3', pbc=False, cell=[100.0, 100.0, 100.0], calculator=ThreeBodySingleSpecies(...))"
      ]
     },
     "execution_count": 22,
     "metadata": {},
     "output_type": "execute_result"
    }
   ],
   "source": [
    "calc.atoms"
   ]
  },
  {
   "cell_type": "code",
   "execution_count": null,
   "metadata": {},
   "outputs": [],
   "source": []
  }
 ],
 "metadata": {
  "kernelspec": {
   "display_name": "Python 3",
   "language": "python",
   "name": "python3"
  },
  "language_info": {
   "codemirror_mode": {
    "name": "ipython",
    "version": 3
   },
   "file_extension": ".py",
   "mimetype": "text/x-python",
   "name": "python",
   "nbconvert_exporter": "python",
   "pygments_lexer": "ipython3",
   "version": "3.6.5"
  }
 },
 "nbformat": 4,
 "nbformat_minor": 2
}
