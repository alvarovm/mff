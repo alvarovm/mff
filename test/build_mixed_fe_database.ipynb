{
 "cells": [
  {
   "cell_type": "code",
   "execution_count": 31,
   "metadata": {
    "ExecuteTime": {
     "end_time": "2018-07-24T11:01:54.689693Z",
     "start_time": "2018-07-24T11:01:54.656050Z"
    }
   },
   "outputs": [
    {
     "name": "stdout",
     "output_type": "stream",
     "text": [
      "The autoreload extension is already loaded. To reload it, use:\n",
      "  %reload_ext autoreload\n"
     ]
    }
   ],
   "source": [
    "import sys\n",
    "sys.path.append('..')\n",
    "%matplotlib inline\n",
    "%load_ext autoreload\n",
    "%autoreload 2\n",
    "import os\n",
    "import logging\n",
    "from pathlib import Path\n",
    "\n",
    "import numpy as np\n",
    "import matplotlib.pyplot as plt\n",
    "\n",
    "from ase import Atoms\n",
    "from ase.io import read\n",
    "\n",
    "from m_ff.configurations import carve_confs\n",
    "from m_ff.models import TwoBodySingleSpeciesModel, ThreeBodySingleSpeciesModel, CombinedSingleSpeciesModel\n",
    "from m_ff.calculators import TwoBodySingleSpecies, ThreeBodySingleSpecies, CombinedSingleSpecies\n",
    "\n",
    "logging.basicConfig(level=logging.INFO)"
   ]
  },
  {
   "cell_type": "code",
   "execution_count": 32,
   "metadata": {
    "ExecuteTime": {
     "end_time": "2018-07-24T11:01:55.027197Z",
     "start_time": "2018-07-24T11:01:55.006111Z"
    }
   },
   "outputs": [],
   "source": [
    "# Parameters\n",
    "directory = Path('data/Fe_various/')\n",
    "r_cut = 4.45\n",
    "all_confs, all_forces, all_energies, length  = [], [], [], []"
   ]
  },
  {
   "cell_type": "code",
   "execution_count": 39,
   "metadata": {
    "ExecuteTime": {
     "end_time": "2018-07-24T11:03:12.136364Z",
     "start_time": "2018-07-24T11:03:11.954385Z"
    }
   },
   "outputs": [
    {
     "name": "stderr",
     "output_type": "stream",
     "text": [
      "INFO:root:Reading traj step 0\n",
      "INFO:root:Reading traj step 1\n",
      "INFO:root:Reading traj step 2\n",
      "INFO:root:Reading traj step 3\n",
      "INFO:root:Reading traj step 4\n",
      "INFO:root:Reading traj step 5\n",
      "INFO:root:Reading traj step 6\n",
      "INFO:root:Reading traj step 7\n",
      "INFO:root:Reading traj step 8\n"
     ]
    },
    {
     "name": "stdout",
     "output_type": "stream",
     "text": [
      "WARNING: n_data is larger that total number of configuration\n",
      "Settin n_data = 1944\n"
     ]
    }
   ],
   "source": [
    "n_data = 10000\n",
    "\n",
    "filename = directory / 'gamma_database.xyz'\n",
    "\n",
    "traj = read(filename, index=slice(None), format='extxyz')\n",
    "\n",
    "elements, confs, forces, energies = carve_confs(\n",
    "    traj, r_cut, n_data,\n",
    "    forces_label='forces', energy_label='energy')\n",
    "\n",
    "all_confs.append(confs)\n",
    "all_forces.append(forces)\n",
    "all_energies.append(energies)\n",
    "length.append(len(forces))"
   ]
  },
  {
   "cell_type": "code",
   "execution_count": 41,
   "metadata": {
    "ExecuteTime": {
     "end_time": "2018-07-24T11:03:25.917647Z",
     "start_time": "2018-07-24T11:03:25.889875Z"
    }
   },
   "outputs": [
    {
     "data": {
      "text/plain": [
       "3"
      ]
     },
     "execution_count": 41,
     "metadata": {},
     "output_type": "execute_result"
    }
   ],
   "source": [
    "len(all_forces)\n"
   ]
  },
  {
   "cell_type": "code",
   "execution_count": null,
   "metadata": {},
   "outputs": [],
   "source": [
    "if not os.path.exists(directory):\n",
    "    os.makedirs(directory)\n",
    "\n",
    "np.save('{}/confs_cut={:.2f}.npy'.format(directory, r_cut), confs)\n",
    "np.save('{}/forces_cut={:.2f}.npy'.format(directory, r_cut), forces)\n",
    "np.save('{}/energies_cut={:.2f}.npy'.format(directory, r_cut), energies)\n",
    "\n",
    "lens = [len(conf) for conf in confs]\n",
    "\n",
    "logging.info('\\n'.join((\n",
    "    'Number of atoms in a configuration:',\n",
    "    '   maximum: {}'.format(np.max(lens)),\n",
    "    '   minimum: {}'.format(np.min(lens)),\n",
    "    '   average: {:.4}'.format(np.mean(lens))\n",
    ")))"
   ]
  }
 ],
 "metadata": {
  "kernelspec": {
   "display_name": "Python 3",
   "language": "python",
   "name": "python3"
  },
  "language_info": {
   "codemirror_mode": {
    "name": "ipython",
    "version": 3
   },
   "file_extension": ".py",
   "mimetype": "text/x-python",
   "name": "python",
   "nbconvert_exporter": "python",
   "pygments_lexer": "ipython3",
   "version": "3.6.5"
  }
 },
 "nbformat": 4,
 "nbformat_minor": 2
}
