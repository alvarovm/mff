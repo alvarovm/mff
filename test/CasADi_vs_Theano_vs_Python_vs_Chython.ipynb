{
 "cells": [
  {
   "cell_type": "markdown",
   "metadata": {},
   "source": [
    "# CasADi vs Theano"
   ]
  },
  {
   "cell_type": "markdown",
   "metadata": {},
   "source": [
    "###### Jupyter notebook to compare the speed of Theano and CasADi softwares of automatic differentiation on the specific task of building force kernels\n",
    "\n",
    "###### The TwoBody is fully implemented in both softwares and Theano appears to be sensibly faster. Probably this is due to the use of numpy arrays"
   ]
  },
  {
   "cell_type": "markdown",
   "metadata": {},
   "source": [
    "# Two Body"
   ]
  },
  {
   "cell_type": "markdown",
   "metadata": {},
   "source": [
    "## Theano "
   ]
  },
  {
   "cell_type": "code",
   "execution_count": 10,
   "metadata": {},
   "outputs": [],
   "source": [
    "import theano.tensor as T\n",
    "from theano import function, scan\n",
    "import numpy as np"
   ]
  },
  {
   "cell_type": "code",
   "execution_count": 11,
   "metadata": {},
   "outputs": [],
   "source": [
    "# Theano functions\n",
    "\n",
    "def compile_twobody_singlespecies():\n",
    "    \"\"\"\n",
    "    This function generates theano compiled kernels for energy and force learning\n",
    "\n",
    "    The position of the atoms relative to the centrla one, and their chemical species\n",
    "    are defined by a matrix of dimension Mx5\n",
    "\n",
    "    Returns:\n",
    "        k2_ee (func): energy-energy kernel\n",
    "        k2_ef (func): energy-force kernel\n",
    "        k2_ff (func): force-force kernel\n",
    "    \"\"\"\n",
    "    print(\"Started compilation of theano two body single species kernels\")\n",
    "    # --------------------------------------------------\n",
    "    # INITIAL DEFINITIONS\n",
    "    # --------------------------------------------------\n",
    "\n",
    "    # positions of central atoms\n",
    "    r1, r2 = T.dvectors('r1d', 'r2d')\n",
    "    # positions of neighbours\n",
    "    rho1, rho2 = T.dmatrices('rho1', 'rho2')\n",
    "    # lengthscale hyperparameter\n",
    "    sig = T.dscalar('sig')\n",
    "    # cutoff hyperparameters\n",
    "    theta = T.dscalar('theta')\n",
    "    rc = T.dscalar('rc')\n",
    "\n",
    "    # positions of neighbours without chemical species (3D space assumed)\n",
    "    rho1s = rho1#[:, 0:3]\n",
    "    rho2s = rho2#[:, 0:3]\n",
    "\n",
    "    # --------------------------------------------------\n",
    "    # RELATIVE DISTANCES TO CENTRAL VECTOR\n",
    "    # --------------------------------------------------\n",
    "\n",
    "    # first and second configuration\n",
    "    r1j = T.sqrt(T.sum((rho1s[:, :] - r1[None, :])** 2, axis=1))\n",
    "    r2m = T.sqrt(T.sum((rho2s[:, :] - r2[None, :])** 2, axis=1))\n",
    "\n",
    "    # Cutoff function\n",
    "    k_ij = T.exp(-(r1j[:, None] - r2m[None, :])** 2 /(2*sig**2))\n",
    "\n",
    "    cut_ij = (0.5 * (1 + T.sgn(rc - r1j[:, None]))) * (0.5 * (1 + T.sgn(rc - r2m[None, :]))) * \\\n",
    "             (T.exp(-theta / (rc - r1j[:, None])) * T.exp(-theta / (rc - r2m[None, :])))\n",
    "\n",
    "    k_ij = k_ij #* cut_ij\n",
    "\n",
    "    # kernel\n",
    "    k = T.sum(k_ij)\n",
    "\n",
    "    # --------------------------------------------------\n",
    "    # FINAL FUNCTIONS\n",
    "    # --------------------------------------------------\n",
    "\n",
    "    # energy energy kernel\n",
    "    k_ee_fun = function([r1, r2, rho1, rho2, sig, theta, rc], k, allow_input_downcast=False, on_unused_input='ignore')\n",
    "\n",
    "    # energy force kernel\n",
    "    k_ef = T.grad(k, r2)\n",
    "    k_ef_fun = function([r1, r2, rho1, rho2, sig, theta, rc], k_ef, allow_input_downcast=False, on_unused_input='ignore')\n",
    "\n",
    "    # force force kernel\n",
    "    k_ff = T.grad(k, r1)\n",
    "    k_ff_der, updates = scan(lambda j, k_ff, r2: T.grad(k_ff[j], r2),\n",
    "                             sequences=T.arange(k_ff.shape[0]), non_sequences=[k_ff, r2])\n",
    "\n",
    "    k_ff_fun = function([r1, r2, rho1, rho2, sig, theta, rc], k_ff_der, allow_input_downcast=False,\n",
    "                        on_unused_input='ignore')\n",
    "\n",
    "    # --------------------------------------------------\n",
    "    # WRAPPERS (we don't want to plug the position of the central element every time)\n",
    "    # --------------------------------------------------\n",
    "\n",
    "    def k2_ee(conf1, conf2, sig, theta, rc):\n",
    "        \"\"\"\n",
    "        Two body kernel for energy-energy correlation\n",
    "\n",
    "        Args:\n",
    "            conf1: first configuration.\n",
    "            conf2: second configuration.\n",
    "            sig: lengthscale hyperparameter.\n",
    "            theta: cutoff smoothness hyperparameter.\n",
    "            rc: cutoff distance hyperparameter.\n",
    "\n",
    "        Returns:\n",
    "            kernel (scalar):\n",
    "\n",
    "        \"\"\"\n",
    "        return k_ee_fun(np.zeros(3), np.zeros(3), conf1, conf2, sig, theta, rc)\n",
    "\n",
    "    def k2_ef(conf1, conf2, sig, theta, rc):\n",
    "        \"\"\"\n",
    "        Two body kernel for energy-force correlation\n",
    "\n",
    "        Args:\n",
    "            conf1: first configuration.\n",
    "            conf2: second configuration.\n",
    "            sig: lengthscale hyperparameter.\n",
    "            theta: cutoff smoothness hyperparameter.\n",
    "            rc: cutoff distance hyperparameter.\n",
    "\n",
    "        Returns:\n",
    "            kernel (vector):\n",
    "        \"\"\"\n",
    "\n",
    "        return k_ef_fun(np.zeros(3), np.zeros(3), conf1, conf2, sig, theta, rc)\n",
    "\n",
    "    def k2_ff(conf1, conf2, sig, theta, rc):\n",
    "        \"\"\"\n",
    "        Two body kernel for force-force correlation\n",
    "\n",
    "        Args:\n",
    "            conf1: first configuration.\n",
    "            conf2: second configuration.\n",
    "            sig: lengthscale hyperparameter.\n",
    "            theta: cutoff smoothness hyperparameter.\n",
    "            rc: cutoff distance hyperparameter.\n",
    "\n",
    "        Returns:\n",
    "            kernel (matrix):\n",
    "        \"\"\"\n",
    "\n",
    "        return k_ff_fun(np.zeros(3), np.zeros(3), conf1, conf2, sig, theta, rc)\n",
    "\n",
    "    print(\"Ended compilation of theano two body single species kernels\")\n",
    "\n",
    "    return k2_ee, k2_ef, k2_ff\n",
    "\n"
   ]
  },
  {
   "cell_type": "code",
   "execution_count": 12,
   "metadata": {
    "scrolled": false
   },
   "outputs": [
    {
     "name": "stdout",
     "output_type": "stream",
     "text": [
      "Started compilation of theano two body single species kernels\n",
      "Ended compilation of theano two body single species kernels\n"
     ]
    }
   ],
   "source": [
    "k2_ee, k2_ef, k2_ff = compile_twobody_singlespecies()"
   ]
  },
  {
   "cell_type": "code",
   "execution_count": 29,
   "metadata": {},
   "outputs": [],
   "source": [
    "def fill_gram_theano(n,d,nn,confs):\n",
    "    gram = np.zeros((n*d,n*d))\n",
    "    for i in np.arange(n):\n",
    "        for j in np.arange(n):\n",
    "            gram[d*i:d*(i+1),d*j:d*(j+1)] = k2_ff(confs[i],confs[j], 1., 1., 1.)\n",
    "    return gram"
   ]
  },
  {
   "cell_type": "markdown",
   "metadata": {},
   "source": [
    "## CasADi"
   ]
  },
  {
   "cell_type": "code",
   "execution_count": 14,
   "metadata": {},
   "outputs": [],
   "source": [
    "from casadi import *"
   ]
  },
  {
   "cell_type": "code",
   "execution_count": 15,
   "metadata": {},
   "outputs": [],
   "source": [
    "# fix the number of neighbours\n",
    "M = 10"
   ]
  },
  {
   "cell_type": "code",
   "execution_count": 16,
   "metadata": {},
   "outputs": [],
   "source": [
    "# --------------------------------------------------\n",
    "# INITIAL DEFINITIONS\n",
    "# --------------------------------------------------\n",
    "\n",
    "r1, r2 = MX.sym( 'r1', 3  ), MX.sym( 'r2', 3 )\n",
    "rho1, rho2 = MX.sym('rho1', 3, M), MX.sym('rho2',3,  M)\n",
    "sig = MX.sym('sig')"
   ]
  },
  {
   "cell_type": "code",
   "execution_count": 17,
   "metadata": {},
   "outputs": [],
   "source": [
    "# kernel\n",
    "k = MX.zeros()\n",
    "for i in range(M):\n",
    "    for j in range(M):\n",
    "        k = k + exp(-(norm_2(rho1[:, i] - r1) - norm_2(rho2[:,j] - r2))**2/(2*sig**2))"
   ]
  },
  {
   "cell_type": "code",
   "execution_count": 18,
   "metadata": {
    "scrolled": true
   },
   "outputs": [],
   "source": [
    "# single and double derivative\n",
    "grad = gradient(k, r1)\n",
    "hess = jacobian( grad , r2)"
   ]
  },
  {
   "cell_type": "code",
   "execution_count": 19,
   "metadata": {},
   "outputs": [],
   "source": [
    "# define CasADi functions\n",
    "k2_ee_c = Function('k2_ee_c', [rho1, rho2, r1, r2, sig], [k], ['rho1', 'rho2', 'r1', 'r2', 'sig'] , [ 'k' ] )\n",
    "k2_ef_c = Function('k2_ef_c', [rho1, rho2, r1, r2, sig], [grad], ['rho1', 'rho2', 'r1', 'r2', 'sig'] , [ 'k_g' ] )\n",
    "k2_ff_c = Function('k2_ff_c', [rho1, rho2, r1, r2, sig], [hess], ['rho1', 'rho2', 'r1', 'r2', 'sig'] , [ 'k_h' ] )"
   ]
  },
  {
   "cell_type": "code",
   "execution_count": 20,
   "metadata": {},
   "outputs": [
    {
     "data": {
      "text/plain": [
       "'k2_ff_c.c'"
      ]
     },
     "execution_count": 20,
     "metadata": {},
     "output_type": "execute_result"
    }
   ],
   "source": [
    "# generate a CasADi C-compiled function\n",
    "k2_ff_c.generate('k2_ff_c.c')\n"
   ]
  },
  {
   "cell_type": "code",
   "execution_count": 22,
   "metadata": {
    "scrolled": true
   },
   "outputs": [
    {
     "name": "stdout",
     "output_type": "stream",
     "text": [
      "k2_ff_c.c:16:18: fatal error: math.h: No such file or directory\r\n",
      " #include <math.h>\r\n",
      "                  ^\r\n",
      "compilation terminated.\r\n"
     ]
    }
   ],
   "source": [
    "# compile CasADi function\n",
    "!gcc -shared -fPIC k2_ff_c.c -o k2_ff_c.so"
   ]
  },
  {
   "cell_type": "code",
   "execution_count": 23,
   "metadata": {},
   "outputs": [
    {
     "ename": "RuntimeError",
     "evalue": ".../casadi/core/importer_internal.cpp:227: Assertion \"handle_!=0\" failed:\nCommonExternal: Cannot open \"k2_ff_c.so\". Error code: dlopen(k2_ff_c.so, 1): image not found",
     "output_type": "error",
     "traceback": [
      "\u001b[0;31m---------------------------------------------------------------------------\u001b[0m",
      "\u001b[0;31mRuntimeError\u001b[0m                              Traceback (most recent call last)",
      "\u001b[0;32m<ipython-input-23-a4a1b4b12fd1>\u001b[0m in \u001b[0;36m<module>\u001b[0;34m()\u001b[0m\n\u001b[1;32m      1\u001b[0m \u001b[0;31m# import C-compiled function\u001b[0m\u001b[0;34m\u001b[0m\u001b[0;34m\u001b[0m\u001b[0m\n\u001b[0;32m----> 2\u001b[0;31m \u001b[0mk2_ff_c_comp\u001b[0m \u001b[0;34m=\u001b[0m \u001b[0mexternal\u001b[0m\u001b[0;34m(\u001b[0m \u001b[0;34m'k2_ff_c'\u001b[0m\u001b[0;34m,\u001b[0m \u001b[0;34m'k2_ff_c.so'\u001b[0m \u001b[0;34m)\u001b[0m\u001b[0;34m\u001b[0m\u001b[0m\n\u001b[0m",
      "\u001b[0;32m/usr/local/miniconda3/envs/py36/lib/python3.6/site-packages/casadi/casadi.py\u001b[0m in \u001b[0;36mexternal\u001b[0;34m(*args)\u001b[0m\n\u001b[1;32m  12745\u001b[0m \u001b[0;34m\u001b[0m\u001b[0m\n\u001b[1;32m  12746\u001b[0m     \"\"\"\n\u001b[0;32m> 12747\u001b[0;31m     \u001b[0;32mreturn\u001b[0m \u001b[0m_casadi\u001b[0m\u001b[0;34m.\u001b[0m\u001b[0mexternal\u001b[0m\u001b[0;34m(\u001b[0m\u001b[0;34m*\u001b[0m\u001b[0margs\u001b[0m\u001b[0;34m)\u001b[0m\u001b[0;34m\u001b[0m\u001b[0m\n\u001b[0m\u001b[1;32m  12748\u001b[0m \u001b[0;34m\u001b[0m\u001b[0m\n\u001b[1;32m  12749\u001b[0m \u001b[0;32mdef\u001b[0m \u001b[0mintegrator\u001b[0m\u001b[0;34m(\u001b[0m\u001b[0;34m*\u001b[0m\u001b[0margs\u001b[0m\u001b[0;34m)\u001b[0m \u001b[0;34m->\u001b[0m \u001b[0;34m\"casadi::Function\"\u001b[0m\u001b[0;34m:\u001b[0m\u001b[0;34m\u001b[0m\u001b[0m\n",
      "\u001b[0;31mRuntimeError\u001b[0m: .../casadi/core/importer_internal.cpp:227: Assertion \"handle_!=0\" failed:\nCommonExternal: Cannot open \"k2_ff_c.so\". Error code: dlopen(k2_ff_c.so, 1): image not found"
     ]
    }
   ],
   "source": [
    "# import C-compiled function\n",
    "k2_ff_c_comp = external( 'k2_ff_c', 'k2_ff_c.so' )"
   ]
  },
  {
   "cell_type": "code",
   "execution_count": 30,
   "metadata": {},
   "outputs": [],
   "source": [
    "def fill_gram_casadi(n,d,nn,confs):\n",
    "    gram = np.zeros((n*d,n*d))\n",
    "    for i in np.arange(n):\n",
    "        for j in np.arange(n):\n",
    "            gram[d*i:d*(i+1),d*j:d*(j+1)] = k2_ff_c(confs[i].T, confs[j].T, np.zeros(3), np.zeros(3), 1.)\n",
    "    return gram\n",
    "\n",
    "def fill_gram_casadi_comp(n,d,nn,confs):\n",
    "    gram = np.zeros((n*d,n*d))\n",
    "    for i in np.arange(n):\n",
    "        for j in np.arange(n):\n",
    "            gram[d*i:d*(i+1),d*j:d*(j+1)] = k2_ff_c_comp(confs[i],confs[j], np.zeros(3), np.zeros(3), 1.)\n",
    "    return gram"
   ]
  },
  {
   "cell_type": "markdown",
   "metadata": {},
   "source": [
    "## Python (numba)"
   ]
  },
  {
   "cell_type": "code",
   "execution_count": 24,
   "metadata": {},
   "outputs": [],
   "source": [
    "from numba import jit"
   ]
  },
  {
   "cell_type": "code",
   "execution_count": 25,
   "metadata": {},
   "outputs": [],
   "source": [
    "def gauss(d1, d2, sigma):\n",
    "    return np.exp(-(d1 - d2) ** 2 / (2 * sigma ** 2))\n",
    "\n",
    "def hessian(r1, r2, d1, d2, sigma):\n",
    "    return np.outer(r1, r2) * (1 - (d1 - d2) ** 2 / sigma ** 2) / (sigma ** 2 * d1 * d2) * np.exp(-(d1 - d2) ** 2 / (2 * sigma ** 2))\n",
    "\n",
    "\n",
    "def fill_gram_python(n, d, nn, confs):\n",
    "    gram = np.zeros((n * d, n * d))\n",
    "    for i in np.arange(n):\n",
    "        for j in np.arange(n):\n",
    "            tmp = np.zeros((3,3))\n",
    "            for ii in np.arange(nn):\n",
    "                r1 = confs[i, ii, :]\n",
    "                d1 = np.linalg.norm(r1)\n",
    "                for jj in np.arange(nn):\n",
    "                    r2 = confs[j, jj, :]\n",
    "                    d2 = np.linalg.norm(r2)\n",
    "                    tmp += hessian(r1, r1, d1, d2, 1.0)\n",
    "            gram[d * i:d * (i + 1), d * j:d * (j + 1)] = tmp\n",
    "    return gram\n",
    "\n",
    "@jit()\n",
    "def fill_gram_python_numba(n, d, nn, confs):\n",
    "    sigma = 1.0\n",
    "    \n",
    "    gram = np.zeros((n * d, n * d))\n",
    "    dd = np.linalg.norm(confs, axis=2)\n",
    "    \n",
    "    for i in range(n):\n",
    "        for j in range(n):\n",
    "            tmp = np.zeros((3,3))\n",
    "            for ii in range(nn):\n",
    "                r1 = confs[i, ii, :]\n",
    "                d1 = dd[i, ii]\n",
    "                for jj in range(nn):\n",
    "                    r2 = confs[j, jj, :]\n",
    "                    d2 = dd[j, jj]\n",
    "                    tmp += np.outer(r1, r2) * (1 - (d1 - d2) ** 2 / sigma ** 2) / (sigma ** 2 * d1 * d2) * np.exp(-(d1 - d2) ** 2 / (2 * sigma ** 2))\n",
    "\n",
    "            gram[d * i:d * (i + 1), d * j:d * (j + 1)] = tmp\n",
    "    \n",
    "    return gram\n",
    "\n",
    "@jit()\n",
    "def fill_energy_gram_python_numba(n, d, nn, confs):\n",
    "    sigma = 1.0\n",
    "    gram = np.zeros((n, n))\n",
    "    dd = np.linalg.norm(confs, axis=2)\n",
    "    \n",
    "    for i in range(n):\n",
    "        for j in range(n):\n",
    "            tmp = 0.\n",
    "            for ii in range(nn):\n",
    "                r1 = confs[i, ii, :]\n",
    "                d1 = dd[i, ii]\n",
    "                for jj in range(nn):\n",
    "                    r2 = confs[j, jj, :]\n",
    "                    d2 = dd[j, jj]\n",
    "                    tmp += np.exp(-(d1 - d2) ** 2 / (2 * sigma ** 2))\n",
    "\n",
    "            gram[i:(i + 1), j:(j + 1)] = tmp\n",
    "    \n",
    "    return gram"
   ]
  },
  {
   "cell_type": "markdown",
   "metadata": {},
   "source": [
    "### Cython "
   ]
  },
  {
   "cell_type": "code",
   "execution_count": 27,
   "metadata": {},
   "outputs": [],
   "source": [
    "import sys\n",
    "sys.path.insert(0, '../original/cython_funcs')\n",
    "import Cython_kernels_cy as CK"
   ]
  },
  {
   "cell_type": "code",
   "execution_count": 28,
   "metadata": {},
   "outputs": [],
   "source": [
    "def fill_gram_cython(n, d, nn, confs):\n",
    "    Ms = np.array([nn]*n, dtype = np.int)\n",
    "    confs_ = np.reshape(confs, (n*nn, d))\n",
    "    gram = CK.k2_calc_gram(confs_, Ms, 1.)\n",
    "    return gram\n",
    "\n",
    "def fill_energy_gram_cython(n, d, nn, confs):\n",
    "    Ms = np.array([nn]*n, dtype = np.int)\n",
    "    confs_ = np.reshape(confs, (n*nn, d))\n",
    "    gram = CK.k2_calc_gram_ee(confs_, Ms, 1.)\n",
    "    return gram"
   ]
  },
  {
   "cell_type": "markdown",
   "metadata": {},
   "source": [
    "### Tests"
   ]
  },
  {
   "cell_type": "code",
   "execution_count": 32,
   "metadata": {
    "scrolled": true
   },
   "outputs": [
    {
     "name": "stdout",
     "output_type": "stream",
     "text": [
      "481 µs ± 17.7 µs per loop (mean ± std. dev. of 7 runs, 1000 loops each)\n",
      "509 µs ± 21.7 µs per loop (mean ± std. dev. of 7 runs, 1000 loops each)\n"
     ]
    }
   ],
   "source": [
    "import numpy as np\n",
    "# define a benchmarking test on random configurations\n",
    "%timeit\n",
    "n = 10\n",
    "d = 3\n",
    "nn = 20\n",
    "confs = (np.random.rand(n, nn, d)-0.5)*100\n",
    "\n",
    "# profiling of the three versions\n",
    "#%timeit fill_gram_theano(n,d,nn,confs)\n",
    "#%timeit fill_gram_casadi(n,d,nn,confs)\n",
    "# %timeit fill_gram_casadi_comp(n,d,nn,confs)\n",
    "#%timeit fill_gram_python_numba(n,d,nn,confs)\n",
    "# %timeit fill_gram_python(n,d,nn,confs)\n",
    "%timeit fill_energy_gram_python_numba(n, d, nn, confs)\n",
    "%timeit fill_energy_gram_cython(n,d,nn,confs)"
   ]
  },
  {
   "cell_type": "code",
   "execution_count": 7,
   "metadata": {
    "scrolled": true
   },
   "outputs": [
    {
     "ename": "NameError",
     "evalue": "name 'k2_ff' is not defined",
     "output_type": "error",
     "traceback": [
      "\u001b[0;31m---------------------------------------------------------------------------\u001b[0m",
      "\u001b[0;31mNameError\u001b[0m                                 Traceback (most recent call last)",
      "\u001b[0;32m<ipython-input-7-5fcce0210fec>\u001b[0m in \u001b[0;36m<module>\u001b[0;34m()\u001b[0m\n\u001b[0;32m----> 1\u001b[0;31m \u001b[0mgram1\u001b[0m\u001b[0;34m,\u001b[0m \u001b[0mgram2\u001b[0m\u001b[0;34m,\u001b[0m \u001b[0mgram3\u001b[0m \u001b[0;34m=\u001b[0m \u001b[0mfill_gram_theano\u001b[0m\u001b[0;34m(\u001b[0m\u001b[0mn\u001b[0m\u001b[0;34m,\u001b[0m\u001b[0md\u001b[0m\u001b[0;34m,\u001b[0m\u001b[0mnn\u001b[0m\u001b[0;34m,\u001b[0m\u001b[0mconfs\u001b[0m\u001b[0;34m)\u001b[0m\u001b[0;34m,\u001b[0m \u001b[0mfill_gram_casadi\u001b[0m\u001b[0;34m(\u001b[0m\u001b[0mn\u001b[0m\u001b[0;34m,\u001b[0m\u001b[0md\u001b[0m\u001b[0;34m,\u001b[0m\u001b[0mnn\u001b[0m\u001b[0;34m,\u001b[0m\u001b[0mconfs\u001b[0m\u001b[0;34m)\u001b[0m\u001b[0;34m,\u001b[0m \u001b[0mfill_gram_python_numba\u001b[0m\u001b[0;34m(\u001b[0m\u001b[0mn\u001b[0m\u001b[0;34m,\u001b[0m\u001b[0md\u001b[0m\u001b[0;34m,\u001b[0m\u001b[0mnn\u001b[0m\u001b[0;34m,\u001b[0m\u001b[0mconfs\u001b[0m\u001b[0;34m)\u001b[0m\u001b[0;34m\u001b[0m\u001b[0m\n\u001b[0m\u001b[1;32m      2\u001b[0m \u001b[0mnp\u001b[0m\u001b[0;34m.\u001b[0m\u001b[0mallclose\u001b[0m\u001b[0;34m(\u001b[0m\u001b[0mgram1\u001b[0m\u001b[0;34m,\u001b[0m \u001b[0mgram2\u001b[0m\u001b[0;34m)\u001b[0m \u001b[0;32mand\u001b[0m \u001b[0mnp\u001b[0m\u001b[0;34m.\u001b[0m\u001b[0mallclose\u001b[0m\u001b[0;34m(\u001b[0m\u001b[0mgram2\u001b[0m\u001b[0;34m,\u001b[0m \u001b[0mgram3\u001b[0m\u001b[0;34m)\u001b[0m\u001b[0;34m\u001b[0m\u001b[0m\n",
      "\u001b[0;32m<ipython-input-5-2d28276ab40c>\u001b[0m in \u001b[0;36mfill_gram_theano\u001b[0;34m(n, d, nn, confs)\u001b[0m\n\u001b[1;32m      4\u001b[0m     \u001b[0;32mfor\u001b[0m \u001b[0mi\u001b[0m \u001b[0;32min\u001b[0m \u001b[0mnp\u001b[0m\u001b[0;34m.\u001b[0m\u001b[0marange\u001b[0m\u001b[0;34m(\u001b[0m\u001b[0mn\u001b[0m\u001b[0;34m)\u001b[0m\u001b[0;34m:\u001b[0m\u001b[0;34m\u001b[0m\u001b[0m\n\u001b[1;32m      5\u001b[0m         \u001b[0;32mfor\u001b[0m \u001b[0mj\u001b[0m \u001b[0;32min\u001b[0m \u001b[0mnp\u001b[0m\u001b[0;34m.\u001b[0m\u001b[0marange\u001b[0m\u001b[0;34m(\u001b[0m\u001b[0mn\u001b[0m\u001b[0;34m)\u001b[0m\u001b[0;34m:\u001b[0m\u001b[0;34m\u001b[0m\u001b[0m\n\u001b[0;32m----> 6\u001b[0;31m             \u001b[0mgram\u001b[0m\u001b[0;34m[\u001b[0m\u001b[0md\u001b[0m\u001b[0;34m*\u001b[0m\u001b[0mi\u001b[0m\u001b[0;34m:\u001b[0m\u001b[0md\u001b[0m\u001b[0;34m*\u001b[0m\u001b[0;34m(\u001b[0m\u001b[0mi\u001b[0m\u001b[0;34m+\u001b[0m\u001b[0;36m1\u001b[0m\u001b[0;34m)\u001b[0m\u001b[0;34m,\u001b[0m\u001b[0md\u001b[0m\u001b[0;34m*\u001b[0m\u001b[0mj\u001b[0m\u001b[0;34m:\u001b[0m\u001b[0md\u001b[0m\u001b[0;34m*\u001b[0m\u001b[0;34m(\u001b[0m\u001b[0mj\u001b[0m\u001b[0;34m+\u001b[0m\u001b[0;36m1\u001b[0m\u001b[0;34m)\u001b[0m\u001b[0;34m]\u001b[0m \u001b[0;34m=\u001b[0m \u001b[0mk2_ff\u001b[0m\u001b[0;34m(\u001b[0m\u001b[0mconfs\u001b[0m\u001b[0;34m[\u001b[0m\u001b[0mi\u001b[0m\u001b[0;34m]\u001b[0m\u001b[0;34m,\u001b[0m\u001b[0mconfs\u001b[0m\u001b[0;34m[\u001b[0m\u001b[0mj\u001b[0m\u001b[0;34m]\u001b[0m\u001b[0;34m,\u001b[0m \u001b[0;36m1.\u001b[0m\u001b[0;34m,\u001b[0m \u001b[0;36m1.\u001b[0m\u001b[0;34m,\u001b[0m \u001b[0;36m1.\u001b[0m\u001b[0;34m)\u001b[0m\u001b[0;34m\u001b[0m\u001b[0m\n\u001b[0m\u001b[1;32m      7\u001b[0m     \u001b[0;32mreturn\u001b[0m \u001b[0mgram\u001b[0m\u001b[0;34m\u001b[0m\u001b[0m\n\u001b[1;32m      8\u001b[0m \u001b[0;34m\u001b[0m\u001b[0m\n",
      "\u001b[0;31mNameError\u001b[0m: name 'k2_ff' is not defined"
     ]
    }
   ],
   "source": [
    "gram1, gram2, gram3 = fill_gram_theano(n,d,nn,confs), fill_gram_casadi(n,d,nn,confs), fill_gram_python_numba(n,d,nn,confs)\n",
    "np.allclose(gram1, gram2) and np.allclose(gram2, gram3)"
   ]
  },
  {
   "cell_type": "code",
   "execution_count": null,
   "metadata": {
    "scrolled": true
   },
   "outputs": [],
   "source": [
    "# check that results are identical\n",
    "\n",
    "print(k2_ff(confs[0],confs[1], 1., 100000., 1.))\n",
    "print(k2_ff_c(rho1 = confs[0], rho2 = confs[1], r1 = np.zeros(3), r2 = np.zeros(3), sig = 1.))\n",
    "print(k2_ff_c_comp(rho1 = confs[0], rho2 = confs[1], r1 = np.zeros(3), r2 = np.zeros(3), sig = 1.))\n"
   ]
  },
  {
   "cell_type": "markdown",
   "metadata": {},
   "source": [
    "Theano is sensibly faster than the others"
   ]
  },
  {
   "cell_type": "code",
   "execution_count": 33,
   "metadata": {},
   "outputs": [
    {
     "ename": "ZeroDivisionError",
     "evalue": "division by zero",
     "output_type": "error",
     "traceback": [
      "\u001b[0;31m---------------------------------------------------------------------------\u001b[0m",
      "\u001b[0;31mZeroDivisionError\u001b[0m                         Traceback (most recent call last)",
      "\u001b[0;32m<ipython-input-33-9e1622b385b6>\u001b[0m in \u001b[0;36m<module>\u001b[0;34m()\u001b[0m\n\u001b[0;32m----> 1\u001b[0;31m \u001b[0;36m1\u001b[0m\u001b[0;34m/\u001b[0m\u001b[0;36m0\u001b[0m\u001b[0;34m\u001b[0m\u001b[0m\n\u001b[0m",
      "\u001b[0;31mZeroDivisionError\u001b[0m: division by zero"
     ]
    }
   ],
   "source": [
    "1/0"
   ]
  },
  {
   "cell_type": "markdown",
   "metadata": {},
   "source": [
    "## Three Body"
   ]
  },
  {
   "cell_type": "code",
   "execution_count": null,
   "metadata": {},
   "outputs": [],
   "source": [
    "# TO BE FINISHED"
   ]
  },
  {
   "cell_type": "code",
   "execution_count": null,
   "metadata": {},
   "outputs": [],
   "source": [
    "def compile_threebody_singlespecies():\n",
    "\t\"\"\"\n",
    "\tThis function generates theano compiled kernels for energy and force learning\n",
    "\n",
    "\tThe position of the atoms relative to the centrla one, and their chemical species\n",
    "\tare defined by a matrix of dimension Mx5\n",
    "\n",
    "\tReturns:\n",
    "\t\tk3_ee (func): energy-energy kernel\n",
    "\t\tk3_ef (func): energy-force kernel\n",
    "\t\tk3_ff (func): force-force kernel\n",
    "\t\"\"\"\n",
    "\n",
    "\tprint(\"Started compilation of theano three body single species kernels\")\n",
    "\n",
    "\t# --------------------------------------------------\n",
    "\t# INITIAL DEFINITIONS\n",
    "\t# --------------------------------------------------\n",
    "\n",
    "\t# positions of central atoms\n",
    "\tr1, r2 = T.dvectors('r1d', 'r2d')\n",
    "\t# positions of neighbours\n",
    "\trho1, rho2 = T.dmatrices('rho1', 'rho2')\n",
    "\t# hyperparameter\n",
    "\tsig = T.dscalar('sig')\n",
    "\t# cutoff hyperparameters\n",
    "\ttheta = T.dscalar('theta')\n",
    "\trc = T.dscalar('rc')\n",
    "\n",
    "\t# positions of neighbours without chemical species\n",
    "\n",
    "\t#rho1s = rho1[:, 0:3]\n",
    "\t#rho2s = rho2[:, 0:3]\n",
    "\n",
    "\t# --------------------------------------------------\n",
    "\t# RELATIVE DISTANCES TO CENTRAL VECTOR AND BETWEEN NEIGHBOURS\n",
    "\t# --------------------------------------------------\n",
    "\n",
    "\t# first and second configuration\n",
    "\tr1j = T.sqrt(T.sum((rho1s[:, :] - r1[None, :]) ** 2, axis=1))\n",
    "\tr2m = T.sqrt(T.sum((rho2s[:, :] - r2[None, :]) ** 2, axis=1))\n",
    "\trjk = T.sqrt(T.sum((rho1s[None, :, :] - rho1s[:, None, :]) ** 2, axis=2))\n",
    "\trmn = T.sqrt(T.sum((rho2s[None, :, :] - rho2s[:, None, :]) ** 2, axis=2))\n",
    "\n",
    "\t# --------------------------------------------------\n",
    "\t# BUILD THE KERNEL\n",
    "\t# --------------------------------------------------\n",
    "\n",
    "\t# Squared exp of differences\n",
    "\tse_1j2m = T.exp(-(r1j[:, None] - r2m[None, :]) ** 2 / (2 * sig ** 2))\n",
    "\tse_jkmn = T.exp(-(rjk[:, :, None, None] - rmn[None, None, :, :]) ** 2 / (2 * sig ** 2))\n",
    "\tse_jk2m = T.exp(-(rjk[:, :, None] - r2m[None, None, :]) ** 2 / (2 * sig ** 2))\n",
    "\tse_1jmn = T.exp(-(r1j[:, None, None] - rmn[None, :, :]) ** 2 / (2 * sig ** 2))\n",
    "\n",
    "\t# Kernel not summed (cyclic permutations)\n",
    "\tk1n = (se_1j2m[:, None, :, None] * se_1j2m[None, :, None, :] * se_jkmn)\n",
    "\tk2n = (se_1jmn[:, None, :, :] * se_jk2m[:, :, None, :] * se_1j2m[None, :, :, None])\n",
    "\tk3n = (se_1j2m[:, None, None, :] * se_jk2m[:, :, :, None] * se_1jmn[None, :, :, :])\n",
    "\n",
    "\t# final shape is M1 M1 M2 M2\n",
    "\n",
    "\tker_jkmn = (k1n + k2n + k3n)\n",
    "\n",
    "\tcut_ik = (T.exp(-theta / T.abs_(rc - r1j[:, None])) *\n",
    "\t          T.exp(-theta / T.abs_(rc - r1j[None, :])) *\n",
    "\t          T.exp(-theta / T.abs_(rc - rjk[:, :])) *\n",
    "\t          (0.5 * (T.sgn(rc - r1j) + 1))[None, :] *\n",
    "\t          (0.5 * (T.sgn(rc - r1j) + 1))[:, None] *\n",
    "\t          (0.5 * (T.sgn(rc - rjk) + 1))[:, :])\n",
    "\n",
    "\tcut_mn = (T.exp(-theta / T.abs_(rc - r2m[:, None])) *\n",
    "\t          T.exp(-theta / T.abs_(rc - r2m[None, :])) *\n",
    "\t          T.exp(-theta / T.abs_(rc - rmn[:, :])) *\n",
    "\t          (0.5 * (T.sgn(rc - r2m) + 1))[None, :] *\n",
    "\t          (0.5 * (T.sgn(rc - r2m) + 1))[:, None] *\n",
    "\t          (0.5 * (T.sgn(rc - rmn) + 1))[:, :])\n",
    "\n",
    "\tker_jkmn_withcutoff = ker_jkmn * cut_ik[:, :, None, None] * cut_mn[None, None, :, :]\n",
    "\n",
    "\t# --------------------------------------------------\n",
    "\t# REMOVE DIAGONAL ELEMENTS\n",
    "\t# --------------------------------------------------\n",
    "\n",
    "\tmask_jk = T.ones_like(rjk) - T.identity_like(rjk)\n",
    "\tmask_mn = T.ones_like(rmn) - T.identity_like(rmn)\n",
    "\n",
    "\tmask_jkmn = mask_jk[:, :, None, None] * mask_mn[None, None, :, :]\n",
    "\n",
    "\tk_cutoff = T.sum(ker_jkmn_withcutoff * mask_jkmn)\n",
    "\n",
    "\t# --------------------------------------------------\n",
    "\t# FINAL FUNCTIONS\n",
    "\t# --------------------------------------------------\n",
    "\n",
    "\t# energy energy kernel\n",
    "\tk_ee_fun = function([r1, r2, rho1, rho2, sig, theta, rc], k_cutoff, on_unused_input='warn')\n",
    "\n",
    "\t# energy force kernel\n",
    "\tk_ef_cut = T.grad(k_cutoff, r2)\n",
    "\tk_ef_fun = function([r1, r2, rho1, rho2, sig, theta, rc], k_ef_cut, on_unused_input='warn')\n",
    "\n",
    "\t# force force kernel\n",
    "\tk_ff_cut = T.grad(k_cutoff, r1)\n",
    "\tk_ff_cut_der, updates = scan(lambda j, k_ff_cut, r2: T.grad(k_ff_cut[j], r2),\n",
    "\t                             sequences=T.arange(k_ff_cut.shape[0]), non_sequences=[k_ff_cut, r2])\n",
    "\tk_ff_fun = function([r1, r2, rho1, rho2, sig, theta, rc], k_ff_cut_der, on_unused_input='warn')\n",
    "\n",
    "\t# WRAPPERS (we don't want to plug the position of the central element every time)\n",
    "\n",
    "\tdef k3_ee(conf1, conf2, sig, theta, rc):\n",
    "\t\t\"\"\"\n",
    "\t\tTwo body kernel for energy-energy correlation\n",
    "\n",
    "\t\tArgs:\n",
    "\t\t\tconf1: first configuration.\n",
    "\t\t\tconf2: second configuration.\n",
    "\t\t\tsig: lengthscale hyperparameter.\n",
    "\t\t\ttheta: cutoff smoothness hyperparameter.\n",
    "\t\t\trc: cutoff distance hyperparameter.\n",
    "\n",
    "\t\tReturns:\n",
    "\t\t\tkernel (scalar):\n",
    "\n",
    "\t\t\"\"\"\n",
    "\t\treturn k_ee_fun(np.zeros(3), np.zeros(3), conf1, conf2, sig, theta, rc)\n",
    "\n",
    "\tdef k3_ef(conf1, conf2, sig, theta, rc):\n",
    "\t\t\"\"\"\n",
    "\t\tTwo body kernel for energy-force correlation\n",
    "\n",
    "\t\tArgs:\n",
    "\t\t\tconf1: first configuration.\n",
    "\t\t\tconf2: second configuration.\n",
    "\t\t\tsig: lengthscale hyperparameter.\n",
    "\t\t\ttheta: cutoff smoothness hyperparameter.\n",
    "\t\t\trc: cutoff distance hyperparameter.\n",
    "\n",
    "\t\tReturns:\n",
    "\t\t\tkernel (vector):\n",
    "\t\t\"\"\"\n",
    "\n",
    "\t\treturn k_ef_fun(np.zeros(3), np.zeros(3), conf1, conf2, sig, theta, rc)\n",
    "\n",
    "\tdef k3_ff(conf1, conf2, sig, theta, rc):\n",
    "\t\t\"\"\"\n",
    "\t\tTwo body kernel for force-force correlation\n",
    "\n",
    "\t\tArgs:\n",
    "\t\t\tconf1: first configuration.\n",
    "\t\t\tconf2: second configuration.\n",
    "\t\t\tsig: lengthscale hyperparameter.\n",
    "\t\t\ttheta: cutoff smoothness hyperparameter.\n",
    "\t\t\trc: cutoff distance hyperparameter.\n",
    "\n",
    "\t\tReturns:\n",
    "\t\t\tkernel (matrix):\n",
    "\t\t\"\"\"\n",
    "\n",
    "\t\treturn k_ff_fun(np.zeros(3), np.zeros(3), conf1, conf2, sig, theta, rc)\n",
    "\n",
    "\tprint(\"Ended compilation of theano three body single species kernels\")\n",
    "\n",
    "\treturn k3_ee, k3_ef, k3_ff"
   ]
  },
  {
   "cell_type": "code",
   "execution_count": null,
   "metadata": {},
   "outputs": [],
   "source": [
    "k3_ee, k3_ef, k3_ff = compile_twobody_singlespecies()"
   ]
  },
  {
   "cell_type": "code",
   "execution_count": null,
   "metadata": {},
   "outputs": [],
   "source": [
    "# --------------------------------------------------\n",
    "# INITIAL DEFINITIONS\n",
    "# --------------------------------------------------\n",
    "\n",
    "# positions of central atoms\n",
    "M = 3\n",
    "r1, r2 = SX.sym( 'r1', 1, 3  ), SX.sym( 'r2', 1, 3 )\n",
    "d1, d2 = SX.sym( 'd1'  ), SX.sym( 'd2')\n",
    "rho1, rho2 = SX.sym('rho1', M, 3 ), SX.sym('rho2', M, 3 )\n",
    "sig = SX.sym('sig')\n",
    "#theta = SX.sym('theta')\n",
    "#rc = SX.sym('rc')\n",
    "#rho1, rho2 = MX.sym('rho1', 3 ), MX.sym( 'rho2')\n",
    "\n",
    "\n",
    "                "
   ]
  },
  {
   "cell_type": "code",
   "execution_count": null,
   "metadata": {},
   "outputs": [],
   "source": [
    "k3 = SX.zeros()\n",
    "for i1 in range(M):\n",
    "    for j1 in range(M):\n",
    "        for i2 in range(M):\n",
    "            for j2 in range(M):\n",
    "                \n",
    "                ri, rj, rij = norm_2(rho1[i, :] - r1), norm_2(rho1[j, :] - r1), norm_2(rho1[i, :] - rho1[j, :])\n",
    "                ri2, rj2, ri2j2 = norm_2(rho2[i2, :] - r2), norm_2(rho2[j2, :] - r2), norm_2(rho2[i2, :] - rho2[j2, :])\n",
    "                \n",
    "                k3 = k3 + exp(-(ri - ri2)**2/(2*sig**2)) * \\\n",
    "                    exp(-(rj - rj2)**2/(2*sig**2)) * \\\n",
    "                    exp(-(rij - ri2j2)**2/(2*sig**2))\n",
    "                "
   ]
  },
  {
   "cell_type": "code",
   "execution_count": null,
   "metadata": {},
   "outputs": [],
   "source": [
    "grad3 = gradient(k3, r1)\n",
    "hess3 = jacobian( grad , r2)"
   ]
  },
  {
   "cell_type": "code",
   "execution_count": null,
   "metadata": {},
   "outputs": [],
   "source": [
    "k3_ee_c = Function('k2_ee_c', [rho1, rho2, r1, r2, sig], [k3], ['rho1', 'rho2', 'r1', 'r2', 'sig'] , [ 'k3' ] )\n",
    "k3_ef_c = Function('k2_ef_c', [rho1, rho2, r1, r2, sig], [grad3], ['rho1', 'rho2', 'r1', 'r2', 'sig'] , [ 'k3_g' ] )\n",
    "k3_ff_c = Function('k2_ff_c', [rho1, rho2, r1, r2, sig], [hess3], ['rho1', 'rho2', 'r1', 'r2', 'sig'] , [ 'k3_h' ] )"
   ]
  },
  {
   "cell_type": "code",
   "execution_count": null,
   "metadata": {},
   "outputs": [],
   "source": [
    "def fill_gram_theano3():\n",
    "    gram = np.zeros((n*d,n*d))\n",
    "    for i in np.arange(n):\n",
    "        for j in np.arange(n):\n",
    "            gram[d*i:d*(i+1),d*j:d*(j+1)] = k3_ff(confs[i],confs[j], 1., 1., 1.)\n",
    "    return gram\n",
    "\n",
    "def fill_gram_casadi3():\n",
    "    gram = np.zeros((n*d,n*d))\n",
    "    for i in np.arange(n):\n",
    "        for j in np.arange(n):\n",
    "            gram[d*i:d*(i+1),d*j:d*(j+1)] = k3_ff_c(confs[i], confs[j], np.zeros(3), np.zeros(3), 1.)\n",
    "    return gram"
   ]
  },
  {
   "cell_type": "code",
   "execution_count": null,
   "metadata": {},
   "outputs": [],
   "source": [
    "%timeit fill_gram_theano3()"
   ]
  },
  {
   "cell_type": "code",
   "execution_count": null,
   "metadata": {},
   "outputs": [],
   "source": [
    "%timeit fill_gram_casadi3()"
   ]
  },
  {
   "cell_type": "code",
   "execution_count": null,
   "metadata": {},
   "outputs": [],
   "source": []
  }
 ],
 "metadata": {
  "kernelspec": {
   "display_name": "Python 3",
   "language": "python",
   "name": "python3"
  },
  "language_info": {
   "codemirror_mode": {
    "name": "ipython",
    "version": 3
   },
   "file_extension": ".py",
   "mimetype": "text/x-python",
   "name": "python",
   "nbconvert_exporter": "python",
   "pygments_lexer": "ipython3",
   "version": "3.6.5"
  }
 },
 "nbformat": 4,
 "nbformat_minor": 2
}
