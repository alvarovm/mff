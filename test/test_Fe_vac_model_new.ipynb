{
 "cells": [
  {
   "cell_type": "markdown",
   "metadata": {},
   "source": [
    "# Fe test"
   ]
  },
  {
   "cell_type": "code",
   "execution_count": 1,
   "metadata": {
    "ExecuteTime": {
     "end_time": "2018-05-20T00:03:10.116810Z",
     "start_time": "2018-05-20T00:03:10.112278Z"
    }
   },
   "outputs": [],
   "source": [
    "import sys\n",
    "sys.path.append('..')"
   ]
  },
  {
   "cell_type": "code",
   "execution_count": 2,
   "metadata": {
    "ExecuteTime": {
     "end_time": "2018-05-20T00:03:10.494231Z",
     "start_time": "2018-05-20T00:03:10.119291Z"
    }
   },
   "outputs": [],
   "source": [
    "%matplotlib inline\n",
    "%load_ext autoreload\n",
    "%autoreload 2"
   ]
  },
  {
   "cell_type": "code",
   "execution_count": 3,
   "metadata": {
    "ExecuteTime": {
     "end_time": "2018-05-20T00:03:11.662882Z",
     "start_time": "2018-05-20T00:03:10.496230Z"
    }
   },
   "outputs": [],
   "source": [
    "import os\n",
    "import logging\n",
    "from pathlib import Path\n",
    "\n",
    "import numpy as np\n",
    "import matplotlib.pyplot as plt\n",
    "\n",
    "from ase import Atoms\n",
    "from ase.io import read\n",
    "from asap3 import FullNeighborList\n",
    "\n",
    "from m_ff.configurations import carve_confs\n",
    "\n",
    "from m_ff.kernels import TwoBodySingleSpeciesKernel, ThreeBodySingleSpeciesKernel\n",
    "from m_ff.gp import TwoBodySingleSpeciesGP, ThreeBodySingleSpeciesGP\n",
    "from m_ff.grid import SingleSpeciesGrid\n",
    "\n",
    "from m_ff.interpolation import Spline3D, Spline1D\n",
    "from m_ff.calculators import TwoBodySingleSpecies, ThreeBodySingleSpecies, CombinedSingleSpecies\n",
    "\n",
    "from m_ff.models import TwoBodySingleSpeciesModel, ThreeBodySingleSpeciesModel, CombinedSingleSpeciesModel\n",
    "\n",
    "logging.basicConfig(level=logging.INFO)"
   ]
  },
  {
   "cell_type": "markdown",
   "metadata": {},
   "source": [
    "## Parameters"
   ]
  },
  {
   "cell_type": "code",
   "execution_count": 4,
   "metadata": {
    "ExecuteTime": {
     "end_time": "2018-05-20T00:03:11.697803Z",
     "start_time": "2018-05-20T00:03:11.665199Z"
    }
   },
   "outputs": [],
   "source": [
    "# Parameters\n",
    "directory = Path('data/Fe_vac/')\n",
    "r_cut = 4.45\n",
    "sigma_2b = 0.3\n",
    "sigma_3b = 0.6\n",
    "noise = 0.0001\n",
    "\n",
    "# GP Parameters\n",
    "ntr = 50\n",
    "ntest = 5\n",
    "combine_2b_3b = True\n",
    "\n",
    "# mapping\n",
    "grid_start = 1.5\n",
    "elementslist = [26]\n",
    "num_2b = 100\n",
    "num_3b = 10\n"
   ]
  },
  {
   "cell_type": "markdown",
   "metadata": {},
   "source": [
    "## Configurations"
   ]
  },
  {
   "cell_type": "code",
   "execution_count": 5,
   "metadata": {
    "ExecuteTime": {
     "end_time": "2018-05-20T00:03:11.731115Z",
     "start_time": "2018-05-20T00:03:11.699934Z"
    },
    "scrolled": true
   },
   "outputs": [],
   "source": [
    "# # # ----------------------------------------\n",
    "# # # Construct a configuration database\n",
    "# # # ----------------------------------------\n",
    "\n",
    "\n",
    "# n_data = 50\n",
    "\n",
    "# filename = directory / 'movie.xyz'\n",
    "\n",
    "# traj = read(filename, index=slice(None), format='extxyz')\n",
    "\n",
    "# elements, confs, forces, energies = carve_confs(\n",
    "#     traj, r_cut, n_data,\n",
    "#     forces_label='force', energy_label='energy')\n",
    "\n",
    "# if not os.path.exists(directory):\n",
    "#     os.makedirs(directory)\n",
    "\n",
    "# np.save('{}/confs_cut={:.2f}.npy'.format(directory, r_cut), confs)\n",
    "# np.save('{}/forces_cut={:.2f}.npy'.format(directory, r_cut), forces)\n",
    "# np.save('{}/energies_cut={:.2f}.npy'.format(directory, r_cut), energies)\n",
    "\n",
    "# lens = [len(conf) for conf in confs]\n",
    "\n",
    "# logging.info('\\n'.join((\n",
    "#     'Number of atoms in a configuration:',\n",
    "#     '   maximum: {}'.format(np.max(lens)),\n",
    "#     '   minimum: {}'.format(np.min(lens)),\n",
    "#     '   average: {:.4}'.format(np.mean(lens))\n",
    "# )))"
   ]
  },
  {
   "cell_type": "markdown",
   "metadata": {},
   "source": [
    "## GP"
   ]
  },
  {
   "cell_type": "code",
   "execution_count": 6,
   "metadata": {
    "ExecuteTime": {
     "end_time": "2018-05-20T00:03:11.866455Z",
     "start_time": "2018-05-20T00:03:11.733156Z"
    }
   },
   "outputs": [],
   "source": [
    "# ----------------------------------------\n",
    "# Test a simple GP on the built database\n",
    "# ----------------------------------------\n",
    "\n",
    "\n",
    "# Get configurations and forces from file\n",
    "confs = np.load(directory / 'confs_cut={:.2f}.npy'.format(r_cut))\n",
    "forces = np.load(directory / 'forces_cut={:.2f}.npy'.format(r_cut))\n",
    "numconfs = len(forces)\n",
    "ind = np.arange(numconfs)\n",
    "ind_tot = np.random.choice(ind, size=ntr + ntest, replace=False)\n",
    "\n",
    "# Separate into random testing and training dataset\n",
    "# tr_confs, tr_forces = confs[ind[:ntr]], forces[ind[:ntr]]\n",
    "# tst_confs, tst_forces = confs[ind[ntr:]], forces[ind[ntr:]]\n",
    "\n",
    "# Use fixed training and testing dataset\n",
    "tr_confs, tr_forces = confs[:ntr], forces[:ntr]\n",
    "tst_confs, tst_forces = confs[-ntest - 1:-1], forces[-ntest - 1:-1]"
   ]
  },
  {
   "cell_type": "code",
   "execution_count": 7,
   "metadata": {
    "ExecuteTime": {
     "end_time": "2018-05-20T00:03:35.469034Z",
     "start_time": "2018-05-20T00:03:11.868185Z"
    }
   },
   "outputs": [
    {
     "name": "stderr",
     "output_type": "stream",
     "text": [
      "INFO:m_ff.kernels.twobody:Started compilation of theano two body single species kernels\n",
      "INFO:m_ff.kernels.twobody:Ended compilation of theano two body single species kernels\n",
      "INFO:m_ff.kernels.threebodykernel:Started compilation of theano three body kernels\n",
      "INFO:m_ff.kernels.threebodykernel:Ended compilation of theano three body kernels\n"
     ]
    },
    {
     "ename": "KeyboardInterrupt",
     "evalue": "",
     "output_type": "error",
     "traceback": [
      "\u001b[0;31m---------------------------------------------------------------------------\u001b[0m",
      "\u001b[0;31mKeyboardInterrupt\u001b[0m                         Traceback (most recent call last)",
      "\u001b[0;32m<ipython-input-7-bdfe78cbb01b>\u001b[0m in \u001b[0;36m<module>\u001b[0;34m()\u001b[0m\n\u001b[1;32m      1\u001b[0m \u001b[0mmodel\u001b[0m \u001b[0;34m=\u001b[0m \u001b[0mCombinedSingleSpeciesModel\u001b[0m\u001b[0;34m(\u001b[0m\u001b[0melementslist\u001b[0m\u001b[0;34m[\u001b[0m\u001b[0;36m0\u001b[0m\u001b[0;34m]\u001b[0m\u001b[0;34m,\u001b[0m \u001b[0mr_cut\u001b[0m\u001b[0;34m,\u001b[0m \u001b[0msigma_2b\u001b[0m\u001b[0;34m,\u001b[0m \u001b[0msigma_3b\u001b[0m\u001b[0;34m,\u001b[0m \u001b[0mr_cut\u001b[0m \u001b[0;34m/\u001b[0m \u001b[0;36m10.0\u001b[0m\u001b[0;34m,\u001b[0m \u001b[0mr_cut\u001b[0m \u001b[0;34m/\u001b[0m \u001b[0;36m10.0\u001b[0m\u001b[0;34m,\u001b[0m \u001b[0mnoise\u001b[0m\u001b[0;34m)\u001b[0m\u001b[0;34m\u001b[0m\u001b[0m\n\u001b[0;32m----> 2\u001b[0;31m \u001b[0mmodel\u001b[0m\u001b[0;34m.\u001b[0m\u001b[0mfit\u001b[0m\u001b[0;34m(\u001b[0m\u001b[0mtr_confs\u001b[0m\u001b[0;34m,\u001b[0m \u001b[0mtr_forces\u001b[0m\u001b[0;34m)\u001b[0m\u001b[0;34m\u001b[0m\u001b[0m\n\u001b[0m",
      "\u001b[0;32m~/Work/M-FF/m_ff/models.py\u001b[0m in \u001b[0;36mfit\u001b[0;34m(self, confs, forces)\u001b[0m\n\u001b[1;32m    172\u001b[0m             \u001b[0mtwo_body_forces\u001b[0m\u001b[0;34m[\u001b[0m\u001b[0mi\u001b[0m\u001b[0;34m]\u001b[0m \u001b[0;34m=\u001b[0m \u001b[0mself\u001b[0m\u001b[0;34m.\u001b[0m\u001b[0mgp_2b\u001b[0m\u001b[0;34m.\u001b[0m\u001b[0mpredict\u001b[0m\u001b[0;34m(\u001b[0m\u001b[0mnp\u001b[0m\u001b[0;34m.\u001b[0m\u001b[0mreshape\u001b[0m\u001b[0;34m(\u001b[0m\u001b[0mconfs\u001b[0m\u001b[0;34m[\u001b[0m\u001b[0mi\u001b[0m\u001b[0;34m]\u001b[0m\u001b[0;34m,\u001b[0m \u001b[0;34m(\u001b[0m\u001b[0;36m1\u001b[0m\u001b[0;34m,\u001b[0m \u001b[0mlen\u001b[0m\u001b[0;34m(\u001b[0m\u001b[0mconfs\u001b[0m\u001b[0;34m[\u001b[0m\u001b[0mi\u001b[0m\u001b[0;34m]\u001b[0m\u001b[0;34m)\u001b[0m\u001b[0;34m,\u001b[0m \u001b[0;36m5\u001b[0m\u001b[0;34m)\u001b[0m\u001b[0;34m)\u001b[0m\u001b[0;34m)\u001b[0m\u001b[0;34m\u001b[0m\u001b[0m\n\u001b[1;32m    173\u001b[0m \u001b[0;34m\u001b[0m\u001b[0m\n\u001b[0;32m--> 174\u001b[0;31m         \u001b[0mself\u001b[0m\u001b[0;34m.\u001b[0m\u001b[0mgp_3b\u001b[0m\u001b[0;34m.\u001b[0m\u001b[0mfit\u001b[0m\u001b[0;34m(\u001b[0m\u001b[0mconfs\u001b[0m\u001b[0;34m,\u001b[0m \u001b[0mforces\u001b[0m \u001b[0;34m-\u001b[0m \u001b[0mtwo_body_forces\u001b[0m\u001b[0;34m)\u001b[0m\u001b[0;34m\u001b[0m\u001b[0m\n\u001b[0m\u001b[1;32m    175\u001b[0m \u001b[0;34m\u001b[0m\u001b[0m\n\u001b[1;32m    176\u001b[0m     \u001b[0;32mdef\u001b[0m \u001b[0mpredict\u001b[0m\u001b[0;34m(\u001b[0m\u001b[0mself\u001b[0m\u001b[0;34m,\u001b[0m \u001b[0mconfs\u001b[0m\u001b[0;34m,\u001b[0m \u001b[0mreturn_std\u001b[0m\u001b[0;34m=\u001b[0m\u001b[0;32mFalse\u001b[0m\u001b[0;34m)\u001b[0m\u001b[0;34m:\u001b[0m\u001b[0;34m\u001b[0m\u001b[0m\n",
      "\u001b[0;32m~/Work/M-FF/m_ff/gp.py\u001b[0m in \u001b[0;36mfit\u001b[0;34m(self, X, y)\u001b[0m\n\u001b[1;32m    105\u001b[0m         \u001b[0;32melse\u001b[0m\u001b[0;34m:\u001b[0m\u001b[0;34m\u001b[0m\u001b[0m\n\u001b[1;32m    106\u001b[0m             \u001b[0mself\u001b[0m\u001b[0;34m.\u001b[0m\u001b[0mlog_marginal_likelihood_value_\u001b[0m \u001b[0;34m=\u001b[0m\u001b[0;31m \u001b[0m\u001b[0;31m\\\u001b[0m\u001b[0;34m\u001b[0m\u001b[0m\n\u001b[0;32m--> 107\u001b[0;31m                 \u001b[0mself\u001b[0m\u001b[0;34m.\u001b[0m\u001b[0mlog_marginal_likelihood\u001b[0m\u001b[0;34m(\u001b[0m\u001b[0mself\u001b[0m\u001b[0;34m.\u001b[0m\u001b[0mkernel_\u001b[0m\u001b[0;34m.\u001b[0m\u001b[0mtheta\u001b[0m\u001b[0;34m)\u001b[0m\u001b[0;34m\u001b[0m\u001b[0m\n\u001b[0m\u001b[1;32m    108\u001b[0m \u001b[0;34m\u001b[0m\u001b[0m\n\u001b[1;32m    109\u001b[0m         \u001b[0;31m# Precompute quantities required for predictions which are independent\u001b[0m\u001b[0;34m\u001b[0m\u001b[0;34m\u001b[0m\u001b[0m\n",
      "\u001b[0;32m~/Work/M-FF/m_ff/gp.py\u001b[0m in \u001b[0;36mlog_marginal_likelihood\u001b[0;34m(self, theta, eval_gradient)\u001b[0m\n\u001b[1;32m    262\u001b[0m             \u001b[0mK\u001b[0m\u001b[0;34m,\u001b[0m \u001b[0mK_gradient\u001b[0m \u001b[0;34m=\u001b[0m \u001b[0mkernel\u001b[0m\u001b[0;34m.\u001b[0m\u001b[0mcalc_gram\u001b[0m\u001b[0;34m(\u001b[0m\u001b[0mself\u001b[0m\u001b[0;34m.\u001b[0m\u001b[0mX_train_\u001b[0m\u001b[0;34m,\u001b[0m \u001b[0meval_gradient\u001b[0m\u001b[0;34m=\u001b[0m\u001b[0;32mTrue\u001b[0m\u001b[0;34m)\u001b[0m\u001b[0;34m\u001b[0m\u001b[0m\n\u001b[1;32m    263\u001b[0m         \u001b[0;32melse\u001b[0m\u001b[0;34m:\u001b[0m\u001b[0;34m\u001b[0m\u001b[0m\n\u001b[0;32m--> 264\u001b[0;31m             \u001b[0mK\u001b[0m \u001b[0;34m=\u001b[0m \u001b[0mkernel\u001b[0m\u001b[0;34m.\u001b[0m\u001b[0mcalc_gram\u001b[0m\u001b[0;34m(\u001b[0m\u001b[0mself\u001b[0m\u001b[0;34m.\u001b[0m\u001b[0mX_train_\u001b[0m\u001b[0;34m)\u001b[0m\u001b[0;34m\u001b[0m\u001b[0m\n\u001b[0m\u001b[1;32m    265\u001b[0m \u001b[0;34m\u001b[0m\u001b[0m\n\u001b[1;32m    266\u001b[0m         \u001b[0mK\u001b[0m\u001b[0;34m[\u001b[0m\u001b[0mnp\u001b[0m\u001b[0;34m.\u001b[0m\u001b[0mdiag_indices_from\u001b[0m\u001b[0;34m(\u001b[0m\u001b[0mK\u001b[0m\u001b[0;34m)\u001b[0m\u001b[0;34m]\u001b[0m \u001b[0;34m+=\u001b[0m \u001b[0mself\u001b[0m\u001b[0;34m.\u001b[0m\u001b[0mnoise\u001b[0m\u001b[0;34m\u001b[0m\u001b[0m\n",
      "\u001b[0;32m~/Work/M-FF/m_ff/kernels/threebodykernel.py\u001b[0m in \u001b[0;36mcalc_gram\u001b[0;34m(self, X, eval_gradient)\u001b[0m\n\u001b[1;32m     66\u001b[0m                 \u001b[0;32mfor\u001b[0m \u001b[0mj\u001b[0m \u001b[0;32min\u001b[0m \u001b[0mnp\u001b[0m\u001b[0;34m.\u001b[0m\u001b[0marange\u001b[0m\u001b[0;34m(\u001b[0m\u001b[0mi\u001b[0m\u001b[0;34m)\u001b[0m\u001b[0;34m:\u001b[0m\u001b[0;34m\u001b[0m\u001b[0m\n\u001b[1;32m     67\u001b[0m                     \u001b[0moff_diag\u001b[0m\u001b[0;34m[\u001b[0m\u001b[0;36m3\u001b[0m \u001b[0;34m*\u001b[0m \u001b[0mi\u001b[0m\u001b[0;34m:\u001b[0m\u001b[0;36m3\u001b[0m \u001b[0;34m*\u001b[0m \u001b[0mi\u001b[0m \u001b[0;34m+\u001b[0m \u001b[0;36m3\u001b[0m\u001b[0;34m,\u001b[0m \u001b[0;36m3\u001b[0m \u001b[0;34m*\u001b[0m \u001b[0mj\u001b[0m\u001b[0;34m:\u001b[0m\u001b[0;36m3\u001b[0m \u001b[0;34m*\u001b[0m \u001b[0mj\u001b[0m \u001b[0;34m+\u001b[0m \u001b[0;36m3\u001b[0m\u001b[0;34m]\u001b[0m \u001b[0;34m=\u001b[0m\u001b[0;31m \u001b[0m\u001b[0;31m\\\u001b[0m\u001b[0;34m\u001b[0m\u001b[0m\n\u001b[0;32m---> 68\u001b[0;31m                         \u001b[0mself\u001b[0m\u001b[0;34m.\u001b[0m\u001b[0mk3_ff\u001b[0m\u001b[0;34m(\u001b[0m\u001b[0mX\u001b[0m\u001b[0;34m[\u001b[0m\u001b[0mi\u001b[0m\u001b[0;34m]\u001b[0m\u001b[0;34m,\u001b[0m \u001b[0mX\u001b[0m\u001b[0;34m[\u001b[0m\u001b[0mj\u001b[0m\u001b[0;34m]\u001b[0m\u001b[0;34m,\u001b[0m \u001b[0mself\u001b[0m\u001b[0;34m.\u001b[0m\u001b[0mtheta\u001b[0m\u001b[0;34m[\u001b[0m\u001b[0;36m0\u001b[0m\u001b[0;34m]\u001b[0m\u001b[0;34m,\u001b[0m \u001b[0mself\u001b[0m\u001b[0;34m.\u001b[0m\u001b[0mtheta\u001b[0m\u001b[0;34m[\u001b[0m\u001b[0;36m1\u001b[0m\u001b[0;34m]\u001b[0m\u001b[0;34m,\u001b[0m \u001b[0mself\u001b[0m\u001b[0;34m.\u001b[0m\u001b[0mtheta\u001b[0m\u001b[0;34m[\u001b[0m\u001b[0;36m2\u001b[0m\u001b[0;34m]\u001b[0m\u001b[0;34m)\u001b[0m\u001b[0;34m\u001b[0m\u001b[0m\n\u001b[0m\u001b[1;32m     69\u001b[0m \u001b[0;34m\u001b[0m\u001b[0m\n\u001b[1;32m     70\u001b[0m             \u001b[0mgram\u001b[0m \u001b[0;34m=\u001b[0m \u001b[0mdiag\u001b[0m \u001b[0;34m+\u001b[0m \u001b[0moff_diag\u001b[0m \u001b[0;34m+\u001b[0m \u001b[0moff_diag\u001b[0m\u001b[0;34m.\u001b[0m\u001b[0mT\u001b[0m\u001b[0;34m\u001b[0m\u001b[0m\n",
      "\u001b[0;32m~/Work/M-FF/m_ff/kernels/threebodykernel.py\u001b[0m in \u001b[0;36mk3_ff\u001b[0;34m(conf1, conf2, sig, theta, rc)\u001b[0m\n\u001b[1;32m    633\u001b[0m             \"\"\"\n\u001b[1;32m    634\u001b[0m \u001b[0;34m\u001b[0m\u001b[0m\n\u001b[0;32m--> 635\u001b[0;31m             \u001b[0;32mreturn\u001b[0m \u001b[0mk_ff_fun\u001b[0m\u001b[0;34m(\u001b[0m\u001b[0mnp\u001b[0m\u001b[0;34m.\u001b[0m\u001b[0mzeros\u001b[0m\u001b[0;34m(\u001b[0m\u001b[0;36m3\u001b[0m\u001b[0;34m)\u001b[0m\u001b[0;34m,\u001b[0m \u001b[0mnp\u001b[0m\u001b[0;34m.\u001b[0m\u001b[0mzeros\u001b[0m\u001b[0;34m(\u001b[0m\u001b[0;36m3\u001b[0m\u001b[0;34m)\u001b[0m\u001b[0;34m,\u001b[0m \u001b[0mconf1\u001b[0m\u001b[0;34m,\u001b[0m \u001b[0mconf2\u001b[0m\u001b[0;34m,\u001b[0m \u001b[0msig\u001b[0m\u001b[0;34m,\u001b[0m \u001b[0mtheta\u001b[0m\u001b[0;34m,\u001b[0m \u001b[0mrc\u001b[0m\u001b[0;34m)\u001b[0m\u001b[0;34m\u001b[0m\u001b[0m\n\u001b[0m\u001b[1;32m    636\u001b[0m \u001b[0;34m\u001b[0m\u001b[0m\n\u001b[1;32m    637\u001b[0m         \u001b[0mlogger\u001b[0m\u001b[0;34m.\u001b[0m\u001b[0minfo\u001b[0m\u001b[0;34m(\u001b[0m\u001b[0;34m\"Ended compilation of theano three body kernels\"\u001b[0m\u001b[0;34m)\u001b[0m\u001b[0;34m\u001b[0m\u001b[0m\n",
      "\u001b[0;32m/usr/local/miniconda3/envs/dev/lib/python3.6/site-packages/theano/compile/function_module.py\u001b[0m in \u001b[0;36m__call__\u001b[0;34m(self, *args, **kwargs)\u001b[0m\n\u001b[1;32m    901\u001b[0m         \u001b[0;32mtry\u001b[0m\u001b[0;34m:\u001b[0m\u001b[0;34m\u001b[0m\u001b[0m\n\u001b[1;32m    902\u001b[0m             \u001b[0moutputs\u001b[0m \u001b[0;34m=\u001b[0m\u001b[0;31m\\\u001b[0m\u001b[0;34m\u001b[0m\u001b[0m\n\u001b[0;32m--> 903\u001b[0;31m                 \u001b[0mself\u001b[0m\u001b[0;34m.\u001b[0m\u001b[0mfn\u001b[0m\u001b[0;34m(\u001b[0m\u001b[0;34m)\u001b[0m \u001b[0;32mif\u001b[0m \u001b[0moutput_subset\u001b[0m \u001b[0;32mis\u001b[0m \u001b[0;32mNone\u001b[0m \u001b[0;32melse\u001b[0m\u001b[0;31m\\\u001b[0m\u001b[0;34m\u001b[0m\u001b[0m\n\u001b[0m\u001b[1;32m    904\u001b[0m                 \u001b[0mself\u001b[0m\u001b[0;34m.\u001b[0m\u001b[0mfn\u001b[0m\u001b[0;34m(\u001b[0m\u001b[0moutput_subset\u001b[0m\u001b[0;34m=\u001b[0m\u001b[0moutput_subset\u001b[0m\u001b[0;34m)\u001b[0m\u001b[0;34m\u001b[0m\u001b[0m\n\u001b[1;32m    905\u001b[0m         \u001b[0;32mexcept\u001b[0m \u001b[0mException\u001b[0m\u001b[0;34m:\u001b[0m\u001b[0;34m\u001b[0m\u001b[0m\n",
      "\u001b[0;32m/usr/local/miniconda3/envs/dev/lib/python3.6/site-packages/theano/scan_module/scan_op.py\u001b[0m in \u001b[0;36mrval\u001b[0;34m(p, i, o, n, allow_gc)\u001b[0m\n\u001b[1;32m    959\u001b[0m         \u001b[0mallow_gc\u001b[0m \u001b[0;34m=\u001b[0m \u001b[0mconfig\u001b[0m\u001b[0;34m.\u001b[0m\u001b[0mallow_gc\u001b[0m \u001b[0;32mand\u001b[0m \u001b[0;32mnot\u001b[0m \u001b[0mself\u001b[0m\u001b[0;34m.\u001b[0m\u001b[0mallow_gc\u001b[0m\u001b[0;34m\u001b[0m\u001b[0m\n\u001b[1;32m    960\u001b[0m \u001b[0;34m\u001b[0m\u001b[0m\n\u001b[0;32m--> 961\u001b[0;31m         def rval(p=p, i=node_input_storage, o=node_output_storage, n=node,\n\u001b[0m\u001b[1;32m    962\u001b[0m                  allow_gc=allow_gc):\n\u001b[1;32m    963\u001b[0m             \u001b[0mr\u001b[0m \u001b[0;34m=\u001b[0m \u001b[0mp\u001b[0m\u001b[0;34m(\u001b[0m\u001b[0mn\u001b[0m\u001b[0;34m,\u001b[0m \u001b[0;34m[\u001b[0m\u001b[0mx\u001b[0m\u001b[0;34m[\u001b[0m\u001b[0;36m0\u001b[0m\u001b[0;34m]\u001b[0m \u001b[0;32mfor\u001b[0m \u001b[0mx\u001b[0m \u001b[0;32min\u001b[0m \u001b[0mi\u001b[0m\u001b[0;34m]\u001b[0m\u001b[0;34m,\u001b[0m \u001b[0mo\u001b[0m\u001b[0;34m)\u001b[0m\u001b[0;34m\u001b[0m\u001b[0m\n",
      "\u001b[0;31mKeyboardInterrupt\u001b[0m: "
     ]
    }
   ],
   "source": [
    "model = CombinedSingleSpeciesModel(elementslist[0], r_cut, sigma_2b, sigma_3b, r_cut / 10.0, r_cut / 10.0, noise)\n",
    "model.fit(tr_confs, tr_forces)"
   ]
  },
  {
   "cell_type": "code",
   "execution_count": null,
   "metadata": {
    "ExecuteTime": {
     "end_time": "2018-05-20T00:03:35.470187Z",
     "start_time": "2018-05-20T00:03:10.105Z"
    }
   },
   "outputs": [],
   "source": [
    "# Test the GP performance\n",
    "print('Testing GP')\n",
    "\n",
    "gp_forces = np.zeros((ntest, 3))\n",
    "gp_error = np.zeros((ntest, 3))\n",
    "\n",
    "for i in np.arange(ntest):\n",
    "    gp_forces[i, :] = model.predict(np.reshape(tst_confs[i], (1, len(tst_confs[i]), 5)))\n",
    "    gp_error[i, :] = gp_forces[i, :] - tst_forces[i, :]\n",
    "\n",
    "MAEF = np.mean(np.sqrt(np.sum(np.square(gp_error), axis=1)))\n",
    "SMAEF = np.std(np.sqrt(np.sum(np.square(gp_error), axis=1)))\n",
    "\n",
    "MF = np.mean(np.linalg.norm(tst_forces, axis=1))\n",
    "\n",
    "print('MAEF on forces: {:.4f} +- {:.4f}'.format(MAEF, SMAEF))\n",
    "print('Relative MAEF on forces: {:.4f} +- {:.4f}'.format(MAEF / MF, SMAEF / MF))"
   ]
  },
  {
   "cell_type": "markdown",
   "metadata": {
    "ExecuteTime": {
     "end_time": "2018-05-18T15:09:44.627620Z",
     "start_time": "2018-05-18T15:09:44.588743Z"
    }
   },
   "source": [
    "## Mapping"
   ]
  },
  {
   "cell_type": "code",
   "execution_count": null,
   "metadata": {
    "ExecuteTime": {
     "end_time": "2018-05-20T00:03:35.472970Z",
     "start_time": "2018-05-20T00:03:10.108Z"
    }
   },
   "outputs": [],
   "source": [
    "\n",
    "grid_2b, grid_3b = model.build_grid(grid_start, num_2b, 30)\n"
   ]
  },
  {
   "cell_type": "code",
   "execution_count": null,
   "metadata": {
    "ExecuteTime": {
     "end_time": "2018-05-20T00:03:35.477928Z",
     "start_time": "2018-05-20T00:03:10.111Z"
    }
   },
   "outputs": [],
   "source": [
    "dists_2b = np.linspace(grid_start, r_cut, num_2b)\n",
    "plt.plot(dists_2b, grid_2b(dists_2b, nu=0))\n",
    "plt.plot(dists_2b, grid_2b(dists_2b, nu=1))"
   ]
  },
  {
   "cell_type": "code",
   "execution_count": null,
   "metadata": {
    "ExecuteTime": {
     "end_time": "2018-05-20T00:03:35.479464Z",
     "start_time": "2018-05-20T00:03:10.112Z"
    },
    "scrolled": false
   },
   "outputs": [],
   "source": [
    "dists_3b = np.linspace(grid_start, r_cut, 100)\n",
    "\n",
    "z_min, z_max = -0.2, 0.2\n",
    "for i in range(0, num_3b, 2):\n",
    "    plt.title(dists_3b[i])\n",
    "    \n",
    "    dists_k = np.ones_like(dists_3b) * dists_3b[i]\n",
    "    X, Y = np.meshgrid(dists_3b, dists_3b)\n",
    "\n",
    "    g_data = grid_3b(X.flatten(), Y.flatten(), np.ones_like(X.flatten()) * dists_3b[i]).reshape(100, 100)\n",
    "\n",
    "    plt.pcolor(dists_3b, dists_3b, -g_data, cmap='RdBu', vmin=z_min, vmax=z_max)\n",
    "#     plt.pcolor(dists_3b, dists_3b, -g_data[:,:,i], cmap='RdBu', vmin=z_min, vmax=z_max)\n",
    "    plt.colorbar()\n",
    "    plt.axis('equal')\n",
    "\n",
    "    plt.show()"
   ]
  },
  {
   "cell_type": "code",
   "execution_count": null,
   "metadata": {},
   "outputs": [],
   "source": []
  },
  {
   "cell_type": "markdown",
   "metadata": {},
   "source": [
    "## ASE Calculator"
   ]
  },
  {
   "cell_type": "code",
   "execution_count": null,
   "metadata": {
    "ExecuteTime": {
     "end_time": "2018-05-20T00:03:35.480663Z",
     "start_time": "2018-05-20T00:03:10.116Z"
    }
   },
   "outputs": [],
   "source": [
    "\n",
    "def rmse(x1, x2):\n",
    "    rms = np.sqrt(np.sum(np.square(x1 - x2), axis=1))\n",
    "    return np.mean(rms), np.std(rms)\n",
    "    "
   ]
  },
  {
   "cell_type": "code",
   "execution_count": null,
   "metadata": {
    "ExecuteTime": {
     "end_time": "2018-05-20T00:03:35.482456Z",
     "start_time": "2018-05-20T00:03:10.119Z"
    }
   },
   "outputs": [],
   "source": [
    "# grid_2b = TwoBodySingleSpeciesGrid.from_file(str(directory / 'MFF_2b_ntr_20_sig_0.30_cut_4.45.npy'))\n",
    "# grid_3b = ThreeBodySingleSpeciesGrid.from_file(str(directory / 'MFF_3b_ntr_20_sig_0.60_cut_4.45.npy'))\n",
    "\n",
    "# calc = ThreeBodySingleSpecies(r_cut=4.45, grid_2b=grid_2b, grid_3b=grid_3b)\n",
    "\n",
    "\n",
    "# filename = directory / 'movie.xyz'\n",
    "# traj = read(str(filename), index=slice(0,5))\n",
    "# for atoms in traj[0:5]:\n",
    "\n",
    "#     atoms.set_calculator(calc)\n",
    "\n",
    "#     rms_mean, rms_std = rmse(atoms.arrays['force'], atoms.get_forces())\n",
    "#     print('MAEF on forces: {:.4f} +- {:.4f}'.format(rms_mean, rms_std))\n",
    "\n"
   ]
  },
  {
   "cell_type": "code",
   "execution_count": null,
   "metadata": {
    "ExecuteTime": {
     "end_time": "2018-05-20T00:03:35.483809Z",
     "start_time": "2018-05-20T00:03:10.121Z"
    }
   },
   "outputs": [],
   "source": [
    "calc = TwoBodySingleSpecies(r_cut, grid_2b)\n",
    "\n",
    "filename = directory / 'movie.xyz'\n",
    "traj = read(str(filename), index=slice(0, 5))\n",
    "\n",
    "for atoms in traj:\n",
    "\n",
    "    atoms.set_calculator(calc)\n",
    "\n",
    "    rms_mean, rms_std = rmse(atoms.arrays['force'], atoms.get_forces())\n",
    "    print('MAEF on forces: {:.4f} +- {:.4f}'.format(rms_mean, rms_std))\n",
    "    \n",
    "f2 = atoms.get_forces()"
   ]
  },
  {
   "cell_type": "code",
   "execution_count": null,
   "metadata": {
    "ExecuteTime": {
     "end_time": "2018-05-20T00:03:35.485064Z",
     "start_time": "2018-05-20T00:03:10.123Z"
    },
    "scrolled": true
   },
   "outputs": [],
   "source": [
    "calc = CombinedSingleSpecies(r_cut, grid_2b, grid_3b)\n",
    "\n",
    "filename = directory / 'movie.xyz'\n",
    "traj = read(str(filename), index=slice(0, 5))\n",
    "\n",
    "for atoms in traj:\n",
    "\n",
    "    atoms.set_calculator(calc)\n",
    "\n",
    "    rms_mean, rms_std = rmse(atoms.arrays['force'], atoms.get_forces())\n",
    "    print('MAEF on forces: {:.4f} +- {:.4f}'.format(rms_mean, rms_std))\n",
    "\n",
    "f23 = atoms.get_forces()"
   ]
  },
  {
   "cell_type": "code",
   "execution_count": null,
   "metadata": {
    "ExecuteTime": {
     "end_time": "2018-05-19T03:51:16.092625Z",
     "start_time": "2018-05-19T03:51:16.050999Z"
    }
   },
   "outputs": [],
   "source": []
  },
  {
   "cell_type": "code",
   "execution_count": null,
   "metadata": {},
   "outputs": [],
   "source": []
  },
  {
   "cell_type": "code",
   "execution_count": null,
   "metadata": {},
   "outputs": [],
   "source": []
  }
 ],
 "metadata": {
  "kernelspec": {
   "display_name": "Python 3",
   "language": "python",
   "name": "python3"
  },
  "language_info": {
   "codemirror_mode": {
    "name": "ipython",
    "version": 3
   },
   "file_extension": ".py",
   "mimetype": "text/x-python",
   "name": "python",
   "nbconvert_exporter": "python",
   "pygments_lexer": "ipython3",
   "version": "3.6.5"
  },
  "toc": {
   "base_numbering": 1,
   "nav_menu": {
    "height": "170px",
    "width": "182px"
   },
   "number_sections": false,
   "sideBar": true,
   "skip_h1_title": true,
   "title_cell": "Table of Contents",
   "title_sidebar": "Contents",
   "toc_cell": false,
   "toc_position": {
    "height": "calc(100% - 180px)",
    "left": "10px",
    "top": "150px",
    "width": "165px"
   },
   "toc_section_display": true,
   "toc_window_display": true
  }
 },
 "nbformat": 4,
 "nbformat_minor": 2
}
