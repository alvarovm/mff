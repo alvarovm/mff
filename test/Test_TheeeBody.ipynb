{
 "cells": [
  {
   "cell_type": "code",
   "execution_count": 1,
   "metadata": {},
   "outputs": [],
   "source": [
    "import numpy as np\n",
    "import randrot as rd\n",
    "import copy\n",
    "import sys\n",
    "sys.path.insert(0, '../')\n",
    "from original import Kernels as K\n",
    "import matplotlib.pyplot as plt\n",
    "\n"
   ]
  },
  {
   "cell_type": "markdown",
   "metadata": {},
   "source": [
    "### Initial Definitions"
   ]
  },
  {
   "cell_type": "code",
   "execution_count": null,
   "metadata": {
    "scrolled": true
   },
   "outputs": [
    {
     "name": "stdout",
     "output_type": "stream",
     "text": [
      "Started compilation of theano three body single species kernels\n"
     ]
    }
   ],
   "source": [
    "k3 = K.ThreeBodySingleSpecies(theta=[1., 10., 100000.])"
   ]
  },
  {
   "cell_type": "code",
   "execution_count": null,
   "metadata": {},
   "outputs": [],
   "source": [
    "k3.theta = [.0001, .000001, 100000.]"
   ]
  },
  {
   "cell_type": "code",
   "execution_count": null,
   "metadata": {},
   "outputs": [],
   "source": [
    "\n",
    "def k_tilde_basic(ri_n, rj_n, rij_n, rl_n, rm_n, rlm_n, sig):\n",
    "    \n",
    "    twosigsq = 2*sig**2\n",
    "    k_cyc_1 = np.exp(-(ri_n-rl_n)**2/twosigsq) * np.exp(-(rj_n-rm_n)**2/twosigsq) * np.exp(-(rij_n-rlm_n)**2/twosigsq)\n",
    "    \n",
    "    k_cyc_2 = np.exp(-(ri_n-rm_n)**2/twosigsq) * np.exp(-(rj_n-rlm_n)**2/twosigsq) * np.exp(-(rij_n-rl_n)**2/twosigsq)\n",
    "    \n",
    "    k_cyc_3 = np.exp(-(ri_n-rlm_n)**2/twosigsq) * np.exp(-(rj_n-rl_n)**2/twosigsq) * np.exp(-(rij_n-rm_n)**2/twosigsq)\n",
    " \n",
    "    return k_cyc_1 + k_cyc_2 + k_cyc_3"
   ]
  },
  {
   "cell_type": "code",
   "execution_count": null,
   "metadata": {},
   "outputs": [],
   "source": []
  },
  {
   "cell_type": "code",
   "execution_count": null,
   "metadata": {},
   "outputs": [],
   "source": [
    "# basic implementation \n",
    "\n",
    "def k3_basic(conf1, conf2, sig):\n",
    "\n",
    "    k_ee = 0.\n",
    "    \n",
    "    for i in np.arange(conf1.shape[0]):\n",
    "        for j in np.arange(i):\n",
    "            for l in np.arange(conf2.shape[0]):\n",
    "                for m in np.arange(conf2.shape[0]):\n",
    "                    if l != m:\n",
    "                        ri = conf1[i]\n",
    "                        rj = conf1[j]\n",
    "                        rij= rj - ri\n",
    "                        rl = conf2[l]\n",
    "                        rm = conf2[m]\n",
    "                        rlm= rm - rl\n",
    "\n",
    "                        rin = np.linalg.norm(ri)\n",
    "                        rjn = np.linalg.norm(rj)\n",
    "                        rijn= np.linalg.norm(rij)\n",
    "                        rln = np.linalg.norm(rl)\n",
    "                        rmn = np.linalg.norm(rm)\n",
    "                        rlmn= np.linalg.norm(rlm)\n",
    "                        \n",
    "                        k_ee += k_tilde_basic(rin, rjn, rijn, rln, rmn, rlmn, sig)\n",
    "\n",
    "    return k_ee"
   ]
  },
  {
   "cell_type": "code",
   "execution_count": null,
   "metadata": {},
   "outputs": [],
   "source": [
    "# define a function taking the positions \n",
    "# of thre atoms and creating a local configuration around the first \n",
    "\n",
    "def build_conf(r1, r2, r3):\n",
    "    r1, r2, r3 = np.array(r1, dtype = float), np.array(r2, dtype = float), np.array(r3, dtype = float)\n",
    "    riv = r2[0:3]-r1[0:3]\n",
    "    rjv = r3[0:3]-r1[0:3]\n",
    "\n",
    "    ri = np.concatenate((riv, np.array([r1[3], r2[3]])))\n",
    "    rj = np.concatenate((rjv, np.array([r1[3], r3[3]])))\n",
    "    conf = np.reshape(np.array([[ri],[rj]]),(1, 2, 5))\n",
    "    return conf\n",
    "     "
   ]
  },
  {
   "cell_type": "markdown",
   "metadata": {},
   "source": [
    "### A simple configuration"
   ]
  },
  {
   "cell_type": "code",
   "execution_count": null,
   "metadata": {},
   "outputs": [],
   "source": [
    "# test that three body works correctly\n",
    "s1 = 1.\n",
    "s2 = 1.\n",
    "s3 = 1."
   ]
  },
  {
   "cell_type": "code",
   "execution_count": null,
   "metadata": {},
   "outputs": [],
   "source": [
    "# Define thee atoms, symmetrically positioned\n",
    "\n",
    "r1 = [0, 0, 0, s1]\n",
    "r2 = [3, 0, 0, s2]\n",
    "r3 = [0, 4, 0, s3]\n",
    "\n",
    "c1 = build_conf(r1, r2, r3)\n",
    "c1"
   ]
  },
  {
   "cell_type": "code",
   "execution_count": null,
   "metadata": {},
   "outputs": [],
   "source": [
    "k3.calc_ee(c1, c1)"
   ]
  },
  {
   "cell_type": "code",
   "execution_count": null,
   "metadata": {},
   "outputs": [],
   "source": [
    "# Define a random configuration"
   ]
  },
  {
   "cell_type": "code",
   "execution_count": null,
   "metadata": {
    "scrolled": true
   },
   "outputs": [],
   "source": [
    "confR = np.random.normal(0, 1, (3,3))\n",
    "confR = np.hstack((confR, np.reshape([s1, s2, s3],(3,1))))\n",
    "confR_ = build_conf(confR[0], confR[1], confR[2])\n"
   ]
  },
  {
   "cell_type": "code",
   "execution_count": null,
   "metadata": {
    "scrolled": true
   },
   "outputs": [],
   "source": [
    "print(confR)"
   ]
  },
  {
   "cell_type": "code",
   "execution_count": null,
   "metadata": {},
   "outputs": [],
   "source": [
    "k3.calc_ee(confR_, confR_)"
   ]
  },
  {
   "cell_type": "code",
   "execution_count": null,
   "metadata": {},
   "outputs": [],
   "source": [
    "k3_basic(confR_[0], confR_[0], .0000001)"
   ]
  },
  {
   "cell_type": "code",
   "execution_count": null,
   "metadata": {},
   "outputs": [],
   "source": [
    "confRP = confR[:]"
   ]
  },
  {
   "cell_type": "code",
   "execution_count": null,
   "metadata": {
    "scrolled": false
   },
   "outputs": [],
   "source": [
    "confRP[0, :] = confR[2, :]\n",
    "confRP[2, :] = confR[0, :]\n",
    "confRP_ = build_conf(confRP[0], confRP[1], confRP[2])"
   ]
  },
  {
   "cell_type": "code",
   "execution_count": null,
   "metadata": {
    "scrolled": true
   },
   "outputs": [],
   "source": [
    "k3.calc_ee(confRP_, confRP_)"
   ]
  },
  {
   "cell_type": "code",
   "execution_count": null,
   "metadata": {},
   "outputs": [],
   "source": [
    "k3_basic(confRP_[0], confRP_[0], .0000001)"
   ]
  },
  {
   "cell_type": "markdown",
   "metadata": {},
   "source": [
    "### Randomly sampled triplets"
   ]
  },
  {
   "cell_type": "code",
   "execution_count": null,
   "metadata": {},
   "outputs": [],
   "source": [
    "base_kernels = []\n",
    "\n",
    "for i in np.arange(10):\n",
    "    r1r = np.concatenate((np.random.normal(0, 1, (3,)),[s1]))\n",
    "    r2r = np.concatenate((np.random.normal(0, 1, (3,)),[s2]))\n",
    "    r3r = np.concatenate((np.random.normal(0, 1, (3,)), [s3]))\n",
    "    c_ran = build_conf(r1r, r2r, r3r)\n",
    "    base_kernels.append(k3.calc_ee(c_ran, c_ran)[0,0])"
   ]
  },
  {
   "cell_type": "code",
   "execution_count": null,
   "metadata": {},
   "outputs": [],
   "source": [
    "base_kernels"
   ]
  },
  {
   "cell_type": "code",
   "execution_count": null,
   "metadata": {},
   "outputs": [],
   "source": [
    "#plt.hist(base_kernels, 60)\n",
    "#plt.show()"
   ]
  },
  {
   "cell_type": "markdown",
   "metadata": {},
   "source": [
    "### Rndom Permutations"
   ]
  },
  {
   "cell_type": "code",
   "execution_count": null,
   "metadata": {
    "scrolled": true
   },
   "outputs": [],
   "source": [
    "np.random.permutation(confR)"
   ]
  },
  {
   "cell_type": "code",
   "execution_count": null,
   "metadata": {},
   "outputs": [],
   "source": [
    "permuted_kernels = []\n",
    "\n",
    "for i in np.arange(10):\n",
    "    rs_per = np.random.permutation(confR)\n",
    "    c_per = build_conf(rs_per[0], rs_per[1], rs_per[2])\n",
    "    permuted_kernels.append(k3.calc_ee(c_per, c_per)[0,0])"
   ]
  },
  {
   "cell_type": "code",
   "execution_count": null,
   "metadata": {},
   "outputs": [],
   "source": [
    "permuted_kernels"
   ]
  },
  {
   "cell_type": "markdown",
   "metadata": {},
   "source": [
    "### Random Rotations"
   ]
  },
  {
   "cell_type": "code",
   "execution_count": null,
   "metadata": {},
   "outputs": [],
   "source": [
    "rotated_kernels = []\n",
    "\n",
    "for i in np.arange(10):\n",
    "    RM = rd.generate(3)\n",
    "    r1r, r2r, r3r = np.array(r1[:]), np.array(r2[:]), np.array(r3[:])\n",
    "    r1r[0:3], r2r[0:3], r3r[0:3] = np.array(RM.dot(r1[0:3])), np.array(RM.dot(r2[0:3])), np.array(RM.dot(r3[0:3]))\n",
    "    c_rot = build_conf(r1r, r2r, r3r)\n",
    "    \n",
    "    rotated_kernels.append(k3.calc_ee(c_rot, c_rot)[0,0])"
   ]
  },
  {
   "cell_type": "code",
   "execution_count": null,
   "metadata": {},
   "outputs": [],
   "source": [
    "rotated_kernels"
   ]
  },
  {
   "cell_type": "code",
   "execution_count": null,
   "metadata": {},
   "outputs": [],
   "source": []
  },
  {
   "cell_type": "code",
   "execution_count": null,
   "metadata": {},
   "outputs": [],
   "source": []
  },
  {
   "cell_type": "code",
   "execution_count": null,
   "metadata": {},
   "outputs": [],
   "source": []
  },
  {
   "cell_type": "code",
   "execution_count": null,
   "metadata": {},
   "outputs": [],
   "source": []
  }
 ],
 "metadata": {
  "kernelspec": {
   "display_name": "Python 3",
   "language": "python",
   "name": "python3"
  },
  "language_info": {
   "codemirror_mode": {
    "name": "ipython",
    "version": 3
   },
   "file_extension": ".py",
   "mimetype": "text/x-python",
   "name": "python",
   "nbconvert_exporter": "python",
   "pygments_lexer": "ipython3",
   "version": "3.6.5"
  }
 },
 "nbformat": 4,
 "nbformat_minor": 2
}
