{
 "cells": [
  {
   "cell_type": "code",
   "execution_count": 385,
   "metadata": {},
   "outputs": [],
   "source": [
    "import numpy as np\n",
    "import randrot as rd\n",
    "import copy\n",
    "import sys\n",
    "sys.path.insert(0, '../')\n",
    "from original import Kernels as K\n",
    "import matplotlib.pyplot as plt"
   ]
  },
  {
   "cell_type": "code",
   "execution_count": 402,
   "metadata": {},
   "outputs": [
    {
     "name": "stdout",
     "output_type": "stream",
     "text": [
      "Started compilation of theano three body kernels\n",
      "Ended compilation of theano three body kernels\n"
     ]
    }
   ],
   "source": [
    "k3 = K.ThreeBody(theta=[1., 1000., 100000.])"
   ]
  },
  {
   "cell_type": "code",
   "execution_count": 403,
   "metadata": {},
   "outputs": [],
   "source": [
    "# define a function taking the positions \n",
    "# of thre atoms and creating a local configuration around the first \n",
    "\n",
    "def build_conf(r1, r2, r3):\n",
    "    r1, r2, r3 = np.array(r1, dtype = float), np.array(r2, dtype = float), np.array(r3, dtype = float)\n",
    "    riv = r2[0:3]-r1[0:3]\n",
    "    rjv = r3[0:3]-r1[0:3]\n",
    "\n",
    "    ri = np.concatenate((riv, np.array([r1[3], r2[3]])))\n",
    "    rj = np.concatenate((rjv, np.array([r1[3], r3[3]])))\n",
    "    conf = np.reshape(np.array([[ri],[rj]]),(1, 2, 5))\n",
    "    return conf\n",
    "     "
   ]
  },
  {
   "cell_type": "code",
   "execution_count": 404,
   "metadata": {},
   "outputs": [],
   "source": [
    "# test that three body works correctly\n",
    "s1 = 1.\n",
    "s2 = 2.\n",
    "s3 = 3."
   ]
  },
  {
   "cell_type": "code",
   "execution_count": 405,
   "metadata": {},
   "outputs": [
    {
     "data": {
      "text/plain": [
       "array([[[3., 0., 0., 1., 2.],\n",
       "        [0., 4., 0., 1., 3.]]])"
      ]
     },
     "execution_count": 405,
     "metadata": {},
     "output_type": "execute_result"
    }
   ],
   "source": [
    "# Define thee atoms, arbitrarily positioned\n",
    "\n",
    "r1 = [0, 0, 0, s1]\n",
    "r2 = [3, 0, 0, s2]\n",
    "r3 = [0, 4, 0, s3]\n",
    "\n",
    "c1 = build_conf(r1, r2, r3)\n",
    "c1"
   ]
  },
  {
   "cell_type": "code",
   "execution_count": 406,
   "metadata": {},
   "outputs": [
    {
     "data": {
      "text/plain": [
       "array([[3.70729732]])"
      ]
     },
     "execution_count": 406,
     "metadata": {},
     "output_type": "execute_result"
    }
   ],
   "source": [
    "k3.calc_ee(c1, c1)"
   ]
  },
  {
   "cell_type": "code",
   "execution_count": 407,
   "metadata": {},
   "outputs": [],
   "source": [
    "base_kernels = []\n",
    "\n",
    "for i in np.arange(10000):\n",
    "    r2r = np.concatenate((np.random.normal(0, 1, (3,)),[1,1]))\n",
    "    r3r = np.concatenate((np.random.normal(0, 1, (3,)), [1,1]))\n",
    "    c_ran = build_conf(r1, r2, r3)\n",
    "    base_kernels.append(k3.calc_ee(c_ran, c_ran)[0,0])"
   ]
  },
  {
   "cell_type": "code",
   "execution_count": 408,
   "metadata": {},
   "outputs": [
    {
     "data": {
      "image/png": "[encoded data removed]",
      "text/plain": [
       "<Figure size 432x288 with 1 Axes>"
      ]
     },
     "metadata": {},
     "output_type": "display_data"
    }
   ],
   "source": [
    "plt.hist(base_kernels, 60)\n",
    "plt.show()"
   ]
  },
  {
   "cell_type": "markdown",
   "metadata": {},
   "source": [
    "### Permutations"
   ]
  },
  {
   "cell_type": "code",
   "execution_count": 409,
   "metadata": {},
   "outputs": [],
   "source": [
    "rs = [r1, r2, r3]"
   ]
  },
  {
   "cell_type": "code",
   "execution_count": 410,
   "metadata": {},
   "outputs": [
    {
     "data": {
      "text/plain": [
       "[[0, 0, 0, 1.0], [3, 0, 0, 2.0], [0, 4, 0, 3.0]]"
      ]
     },
     "execution_count": 410,
     "metadata": {},
     "output_type": "execute_result"
    }
   ],
   "source": [
    "rs"
   ]
  },
  {
   "cell_type": "code",
   "execution_count": 411,
   "metadata": {
    "scrolled": true
   },
   "outputs": [
    {
     "data": {
      "text/plain": [
       "array([[0., 4., 0., 3.],\n",
       "       [3., 0., 0., 2.],\n",
       "       [0., 0., 0., 1.]])"
      ]
     },
     "execution_count": 411,
     "metadata": {},
     "output_type": "execute_result"
    }
   ],
   "source": [
    "np.random.permutation(rs)"
   ]
  },
  {
   "cell_type": "code",
   "execution_count": 412,
   "metadata": {},
   "outputs": [],
   "source": [
    "permuted_kernels = []\n",
    "\n",
    "for i in np.arange(10):\n",
    "    \n",
    "    rs_per = np.random.permutation(rs)\n",
    "\n",
    "    c_per = build_conf(rs_per[0], rs_per[1], rs_per[2])\n",
    "    \n",
    "    permuted_kernels.append(k3.calc_ee(c_per, c_per)[0,0])"
   ]
  },
  {
   "cell_type": "code",
   "execution_count": 413,
   "metadata": {},
   "outputs": [
    {
     "data": {
      "text/plain": [
       "[3.707297315934694,\n",
       " 3.707297315934693,\n",
       " 3.707297315934693,\n",
       " 3.707297315934693,\n",
       " 3.707297315934693,\n",
       " 3.707297315934693,\n",
       " 3.707297315934693,\n",
       " 3.707297315934693,\n",
       " 3.707297315934694,\n",
       " 3.707297315934694]"
      ]
     },
     "execution_count": 413,
     "metadata": {},
     "output_type": "execute_result"
    }
   ],
   "source": [
    "permuted_kernels"
   ]
  },
  {
   "cell_type": "markdown",
   "metadata": {},
   "source": [
    "### Rotations"
   ]
  },
  {
   "cell_type": "code",
   "execution_count": 414,
   "metadata": {},
   "outputs": [],
   "source": [
    "rotated_kernels = []\n",
    "\n",
    "for i in np.arange(10):\n",
    "    RM = rd.generate(3)\n",
    "    r1r, r2r, r3r = np.array(r1[:]), np.array(r2[:]), np.array(r3[:])\n",
    "    r1r[0:3], r2r[0:3], r3r[0:3] = np.array(RM.dot(r1[0:3])), np.array(RM.dot(r2[0:3])), np.array(RM.dot(r3[0:3]))\n",
    "    c_rot = build_conf(r1r, r2r, r3r)\n",
    "    \n",
    "    rotated_kernels.append(k3.calc_ee(c_rot, c_rot)[0,0])"
   ]
  },
  {
   "cell_type": "code",
   "execution_count": 415,
   "metadata": {},
   "outputs": [
    {
     "data": {
      "text/plain": [
       "[3.707297315934695,\n",
       " 3.7072973159346945,\n",
       " 3.7072973159346923,\n",
       " 3.7072973159346923,\n",
       " 3.707297315934693,\n",
       " 3.7072973159346887,\n",
       " 3.7072973159346923,\n",
       " 3.707297315934693,\n",
       " 3.7072973159346923,\n",
       " 3.707297315934693]"
      ]
     },
     "execution_count": 415,
     "metadata": {},
     "output_type": "execute_result"
    }
   ],
   "source": [
    "rotated_kernels"
   ]
  },
  {
   "cell_type": "code",
   "execution_count": null,
   "metadata": {},
   "outputs": [],
   "source": []
  },
  {
   "cell_type": "code",
   "execution_count": null,
   "metadata": {},
   "outputs": [],
   "source": []
  }
 ],
 "metadata": {
  "kernelspec": {
   "display_name": "Python 3",
   "language": "python",
   "name": "python3"
  },
  "language_info": {
   "codemirror_mode": {
    "name": "ipython",
    "version": 3
   },
   "file_extension": ".py",
   "mimetype": "text/x-python",
   "name": "python",
   "nbconvert_exporter": "python",
   "pygments_lexer": "ipython3",
   "version": "3.6.5"
  }
 },
 "nbformat": 4,
 "nbformat_minor": 2
}
