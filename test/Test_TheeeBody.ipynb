{
 "cells": [
  {
   "cell_type": "code",
   "execution_count": 1,
   "metadata": {},
   "outputs": [],
   "source": [
    "import numpy as np\n",
    "import randrot as rd\n",
    "import copy\n",
    "import sys\n",
    "sys.path.insert(0, '../')\n",
    "from original import Kernels as K\n",
    "import matplotlib.pyplot as plt\n"
   ]
  },
  {
   "cell_type": "markdown",
   "metadata": {},
   "source": [
    "### Initial Definitions"
   ]
  },
  {
   "cell_type": "code",
   "execution_count": 2,
   "metadata": {
    "scrolled": true
   },
   "outputs": [
    {
     "name": "stdout",
     "output_type": "stream",
     "text": [
      "Started compilation of theano three body kernels\n",
      "Ended compilation of theano three body kernels\n"
     ]
    }
   ],
   "source": [
    "k3 = K.ThreeBody(theta=[1., 10., 100000.])"
   ]
  },
  {
   "cell_type": "code",
   "execution_count": 3,
   "metadata": {},
   "outputs": [],
   "source": [
    "k3.theta = [.001, 1., 1.]"
   ]
  },
  {
   "cell_type": "code",
   "execution_count": 4,
   "metadata": {},
   "outputs": [],
   "source": [
    "# define a function taking the positions \n",
    "# of thre atoms and creating a local configuration around the first \n",
    "\n",
    "def build_conf(r1, r2, r3):\n",
    "    r1, r2, r3 = np.array(r1, dtype = float), np.array(r2, dtype = float), np.array(r3, dtype = float)\n",
    "    riv = r2[0:3]-r1[0:3]\n",
    "    rjv = r3[0:3]-r1[0:3]\n",
    "\n",
    "    ri = np.concatenate((riv, np.array([r1[3], r2[3]])))\n",
    "    rj = np.concatenate((rjv, np.array([r1[3], r3[3]])))\n",
    "    conf = np.reshape(np.array([[ri],[rj]]),(1, 2, 5))\n",
    "    return conf\n",
    "     "
   ]
  },
  {
   "cell_type": "markdown",
   "metadata": {},
   "source": [
    "### A simple configuration"
   ]
  },
  {
   "cell_type": "code",
   "execution_count": 5,
   "metadata": {},
   "outputs": [],
   "source": [
    "# test that three body works correctly\n",
    "s1 = 1.\n",
    "s2 = 1.\n",
    "s3 = 3."
   ]
  },
  {
   "cell_type": "code",
   "execution_count": 6,
   "metadata": {},
   "outputs": [
    {
     "data": {
      "text/plain": [
       "array([[[3., 0., 0., 1., 1.],\n",
       "        [0., 4., 0., 1., 3.]]])"
      ]
     },
     "execution_count": 6,
     "metadata": {},
     "output_type": "execute_result"
    }
   ],
   "source": [
    "# Define thee atoms, symmetrically positioned\n",
    "\n",
    "r1 = [0, 0, 0, s1]\n",
    "r2 = [3, 0, 0, s2]\n",
    "r3 = [0, 4, 0, s3]\n",
    "\n",
    "c1 = build_conf(r1, r2, r3)\n",
    "c1"
   ]
  },
  {
   "cell_type": "code",
   "execution_count": 7,
   "metadata": {},
   "outputs": [
    {
     "data": {
      "text/plain": [
       "array([[3.]])"
      ]
     },
     "execution_count": 7,
     "metadata": {},
     "output_type": "execute_result"
    }
   ],
   "source": [
    "k3.calc_ee(c1, c1)"
   ]
  },
  {
   "cell_type": "code",
   "execution_count": null,
   "metadata": {},
   "outputs": [],
   "source": [
    "k3.calc_ee(c1, c1)"
   ]
  },
  {
   "cell_type": "code",
   "execution_count": 8,
   "metadata": {},
   "outputs": [],
   "source": [
    "# Define a random configuration"
   ]
  },
  {
   "cell_type": "code",
   "execution_count": 37,
   "metadata": {
    "scrolled": true
   },
   "outputs": [],
   "source": [
    "confR = np.random.normal(0, 1, (3,3))\n",
    "confR = np.hstack((confR, np.reshape([s1, s2, s3],(3,1))))\n",
    "confR_ = build_conf(confR[0], confR[1], confR[2])\n"
   ]
  },
  {
   "cell_type": "code",
   "execution_count": 38,
   "metadata": {},
   "outputs": [
    {
     "name": "stdout",
     "output_type": "stream",
     "text": [
      "[[-1.2286262   0.2954585  -1.12020994  1.        ]\n",
      " [-1.27759234  1.20948867  0.9194729   1.        ]\n",
      " [-0.13258819  1.29121865 -0.4380652   3.        ]]\n"
     ]
    }
   ],
   "source": [
    "print(confR)"
   ]
  },
  {
   "cell_type": "code",
   "execution_count": 39,
   "metadata": {},
   "outputs": [
    {
     "data": {
      "text/plain": [
       "array([[3.]])"
      ]
     },
     "execution_count": 39,
     "metadata": {},
     "output_type": "execute_result"
    }
   ],
   "source": [
    "k3.calc_ee(confR_, confR_)"
   ]
  },
  {
   "cell_type": "code",
   "execution_count": 40,
   "metadata": {},
   "outputs": [],
   "source": [
    "confRP[:] = confR[:]"
   ]
  },
  {
   "cell_type": "code",
   "execution_count": 46,
   "metadata": {
    "scrolled": false
   },
   "outputs": [],
   "source": [
    "confRP[0, :] = confR[2, :]\n",
    "confRP[2, :] = confR[0, :]\n",
    "confRP_ = build_conf(confRP[0], confRP[1], confRP[2])"
   ]
  },
  {
   "cell_type": "code",
   "execution_count": 47,
   "metadata": {},
   "outputs": [
    {
     "data": {
      "text/plain": [
       "array([[2.]])"
      ]
     },
     "execution_count": 47,
     "metadata": {},
     "output_type": "execute_result"
    }
   ],
   "source": [
    "k3.calc_ee(confRP_, confRP_)"
   ]
  },
  {
   "cell_type": "markdown",
   "metadata": {},
   "source": [
    "### Randomly sampled triplets"
   ]
  },
  {
   "cell_type": "code",
   "execution_count": 11,
   "metadata": {},
   "outputs": [],
   "source": [
    "base_kernels = []\n",
    "\n",
    "for i in np.arange(10):\n",
    "    r1r = np.concatenate((np.random.normal(0, 1, (3,)),[s1]))\n",
    "    r2r = np.concatenate((np.random.normal(0, 1, (3,)),[s2]))\n",
    "    r3r = np.concatenate((np.random.normal(0, 1, (3,)), [s3]))\n",
    "    c_ran = build_conf(r1r, r2r, r3r)\n",
    "    base_kernels.append(k3.calc_ee(c_ran, c_ran)[0,0])"
   ]
  },
  {
   "cell_type": "code",
   "execution_count": 12,
   "metadata": {},
   "outputs": [
    {
     "data": {
      "text/plain": [
       "[3.0, 3.0, 3.0, 3.0, 3.0, 3.0, 3.0, 3.0, 3.0, 3.0]"
      ]
     },
     "execution_count": 12,
     "metadata": {},
     "output_type": "execute_result"
    }
   ],
   "source": [
    "base_kernels"
   ]
  },
  {
   "cell_type": "code",
   "execution_count": 13,
   "metadata": {},
   "outputs": [],
   "source": [
    "#plt.hist(base_kernels, 60)\n",
    "#plt.show()"
   ]
  },
  {
   "cell_type": "markdown",
   "metadata": {},
   "source": [
    "### Rndom Permutations"
   ]
  },
  {
   "cell_type": "code",
   "execution_count": 14,
   "metadata": {
    "scrolled": true
   },
   "outputs": [
    {
     "data": {
      "text/plain": [
       "array([[ 1.26258858,  0.55844067,  0.50672498,  1.        ],\n",
       "       [-0.59367035,  0.9001541 , -1.65946354,  3.        ],\n",
       "       [ 0.00728949, -0.55702106,  0.37340277,  1.        ]])"
      ]
     },
     "execution_count": 14,
     "metadata": {},
     "output_type": "execute_result"
    }
   ],
   "source": [
    "np.random.permutation(confR)"
   ]
  },
  {
   "cell_type": "code",
   "execution_count": 15,
   "metadata": {},
   "outputs": [],
   "source": [
    "permuted_kernels = []\n",
    "\n",
    "for i in np.arange(10):\n",
    "    rs_per = np.random.permutation(confR)\n",
    "    c_per = build_conf(rs_per[0], rs_per[1], rs_per[2])\n",
    "    permuted_kernels.append(k3.calc_ee(c_per, c_per)[0,0])"
   ]
  },
  {
   "cell_type": "code",
   "execution_count": 16,
   "metadata": {},
   "outputs": [
    {
     "data": {
      "text/plain": [
       "[1.0, 2.0, 2.0, 3.0, 2.0, 1.0, 3.0, 3.0, 1.0, 2.0]"
      ]
     },
     "execution_count": 16,
     "metadata": {},
     "output_type": "execute_result"
    }
   ],
   "source": [
    "permuted_kernels"
   ]
  },
  {
   "cell_type": "markdown",
   "metadata": {},
   "source": [
    "### Random Rotations"
   ]
  },
  {
   "cell_type": "code",
   "execution_count": 162,
   "metadata": {},
   "outputs": [],
   "source": [
    "rotated_kernels = []\n",
    "\n",
    "for i in np.arange(10):\n",
    "    RM = rd.generate(3)\n",
    "    r1r, r2r, r3r = np.array(r1[:]), np.array(r2[:]), np.array(r3[:])\n",
    "    r1r[0:3], r2r[0:3], r3r[0:3] = np.array(RM.dot(r1[0:3])), np.array(RM.dot(r2[0:3])), np.array(RM.dot(r3[0:3]))\n",
    "    c_rot = build_conf(r1r, r2r, r3r)\n",
    "    \n",
    "    rotated_kernels.append(k3.calc_ee(c_rot, c_rot)[0,0])"
   ]
  },
  {
   "cell_type": "code",
   "execution_count": 163,
   "metadata": {},
   "outputs": [
    {
     "data": {
      "text/plain": [
       "[3.0, 3.0, 3.0, 3.0, 3.0, 3.0, 3.0, 3.0, 3.0, 3.0]"
      ]
     },
     "execution_count": 163,
     "metadata": {},
     "output_type": "execute_result"
    }
   ],
   "source": [
    "rotated_kernels"
   ]
  },
  {
   "cell_type": "code",
   "execution_count": null,
   "metadata": {},
   "outputs": [],
   "source": []
  },
  {
   "cell_type": "code",
   "execution_count": null,
   "metadata": {},
   "outputs": [],
   "source": []
  },
  {
   "cell_type": "code",
   "execution_count": null,
   "metadata": {},
   "outputs": [],
   "source": []
  },
  {
   "cell_type": "code",
   "execution_count": null,
   "metadata": {},
   "outputs": [],
   "source": []
  }
 ],
 "metadata": {
  "kernelspec": {
   "display_name": "Python 3",
   "language": "python",
   "name": "python3"
  },
  "language_info": {
   "codemirror_mode": {
    "name": "ipython",
    "version": 3
   },
   "file_extension": ".py",
   "mimetype": "text/x-python",
   "name": "python",
   "nbconvert_exporter": "python",
   "pygments_lexer": "ipython3",
   "version": "3.6.5"
  }
 },
 "nbformat": 4,
 "nbformat_minor": 2
}
