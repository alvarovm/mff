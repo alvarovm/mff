{
 "cells": [
  {
   "cell_type": "code",
   "execution_count": 75,
   "metadata": {
    "ExecuteTime": {
     "end_time": "2018-11-26T11:15:55.374415Z",
     "start_time": "2018-11-26T11:15:55.279855Z"
    }
   },
   "outputs": [
    {
     "name": "stdout",
     "output_type": "stream",
     "text": [
      "The autoreload extension is already loaded. To reload it, use:\n",
      "  %reload_ext autoreload\n"
     ]
    }
   ],
   "source": [
    "import numpy as np\n",
    "import sys\n",
    "import os\n",
    "import pymf\n",
    "os.environ[\"MKL_THREADING_LAYER\"] = \"GNU\"\n",
    "sys.path.insert(0, '../mff/')\n",
    "from advanced_sampling import Sampling\n",
    "%load_ext autoreload\n",
    "%autoreload 2"
   ]
  },
  {
   "cell_type": "code",
   "execution_count": 76,
   "metadata": {
    "ExecuteTime": {
     "end_time": "2018-11-26T11:15:56.269692Z",
     "start_time": "2018-11-26T11:15:55.605659Z"
    }
   },
   "outputs": [
    {
     "name": "stdout",
     "output_type": "stream",
     "text": [
      "75240\n"
     ]
    }
   ],
   "source": [
    "directory = \"data/Ni_19_energies\"\n",
    "confs = np.load(directory+\"/confs_cut=8.50.npy\")\n",
    "forces = np.load(directory+\"/forces_cut=8.50.npy\")\n",
    "energies = np.load(directory+\"/energies_cut=8.50.npy\")\n",
    "print(len(forces))\n",
    "s = Sampling(confs=confs, energies=energies, forces=forces)\n",
    "s.clean_dataset()\n",
    "myd = {}"
   ]
  },
  {
   "cell_type": "code",
   "execution_count": 77,
   "metadata": {
    "ExecuteTime": {
     "end_time": "2018-11-26T11:16:08.168278Z",
     "start_time": "2018-11-26T11:15:56.274864Z"
    }
   },
   "outputs": [],
   "source": [
    "sigma_2b = 0.05\n",
    "sigma_3b = 0.1\n",
    "sigma_mb = 0.2\n",
    "theta, r_cut = .5, 8.5\n",
    "noise = 0.001\n",
    "ntr = 3\n",
    "ntest = 3\n",
    "\n",
    "s.train_test_split(confs=s.reduced_confs, energies= s.reduced_energies, forces = s.reduced_forces, ntr = ntr, ntest = ntest)\n",
    "s.initialize_gps(sigma_2b, sigma_3b, sigma_mb, noise, r_cut, theta)\n",
    "\n",
    "myd['directory'] = directory\n",
    "myd['sigma_2b'] = sigma_2b\n",
    "myd['sigma_3b'] = sigma_3b\n",
    "myd['sigma_mb'] = sigma_mb\n",
    "myd['theta'] = theta\n",
    "myd['r_cut'] = r_cut\n",
    "myd['noise'] = noise\n",
    "myd['ntr'] = ntr\n",
    "myd['ntest'] = ntest\n"
   ]
  },
  {
   "cell_type": "code",
   "execution_count": 78,
   "metadata": {
    "ExecuteTime": {
     "end_time": "2018-11-26T11:16:20.642022Z",
     "start_time": "2018-11-26T11:16:08.169928Z"
    }
   },
   "outputs": [],
   "source": [
    "# 2 BODY\n",
    "myd['res_ivm_en_var_2b'] = s.ivm_sampling_energy('2b')\n",
    "myd['res_ivm_fz_var_2b'] = s.ivm_sampling_force('2b')\n",
    "myd['res_ivm_en_err_2b'] = s.ivm_sampling_energy('2b', use_pred_error=False)\n",
    "myd['res_ivm_fz_err_2b'] = s.ivm_sampling_force('2b', use_pred_error=False)\n",
    "myd['res_grid_2b']       = s.grid_2b_sampling(10)\n",
    "myd['res_rvm_2b']        = s.rvm_sampling('2b')\n",
    "myd['res_full_2b']       = s.full_sampling(ker='2b')\n",
    "myd['res_cur_2b']        = s.cur_sampling(k=len(myd['res_ivm_fz_var_2b'][2]), ker='2b')"
   ]
  },
  {
   "cell_type": "code",
   "execution_count": 79,
   "metadata": {
    "ExecuteTime": {
     "end_time": "2018-11-26T11:16:34.066861Z",
     "start_time": "2018-11-26T11:16:20.644972Z"
    }
   },
   "outputs": [
    {
     "name": "stdout",
     "output_type": "stream",
     "text": [
      "MAEF: 0.5235 SMAEF: 0.2308 RMSE: 0.3303\n",
      "MAEF: 0.4984 SMAEF: 0.1738 RMSE: 0.3048\n",
      "MAEF: 0.4984 SMAEF: 0.1738 RMSE: 0.3048\n",
      "MAEF: 0.5235 SMAEF: 0.2308 RMSE: 0.3303\n",
      "MAEF: 0.4984 SMAEF: 0.1738 RMSE: 0.3048\n",
      "MAEF: 0.2881 SMAEF: 0.2487 RMSE: 0.2197\n",
      "MAEF: 0.6293 SMAEF: 0.3989 RMSE: 0.4302\n",
      "MAEF: 0.4984 SMAEF: 0.1738 RMSE: 0.3048\n"
     ]
    }
   ],
   "source": [
    "myd['err_ivm_en_var_2b'] = s.test_gp_on_forces(ker='2b', index = myd['res_ivm_en_var_2b'][2])\n",
    "myd['err_ivm_fz_var_2b'] = s.test_gp_on_forces(ker='2b', index = myd['res_ivm_fz_var_2b'][2])\n",
    "myd['err_ivm_en_err_2b'] = s.test_gp_on_forces(ker='2b', index = myd['res_ivm_en_err_2b'][2])\n",
    "myd['err_ivm_fz_err_2b'] = s.test_gp_on_forces(ker='2b', index = myd['res_ivm_fz_err_2b'][2])\n",
    "myd['err_grid_2b']       = s.test_gp_on_forces(ker='2b', index = myd['res_grid_2b'][2])\n",
    "myd['err_rvm_2b']        = s.test_gp_on_forces(ker='2b', index = myd['res_rvm_2b'][2])\n",
    "myd['err_full_2b']      = s.test_gp_on_forces(ker='2b', index = myd['res_full_2b'][2])\n",
    "myd['err_cur_2b']        = s.test_gp_on_forces(ker='2b', index = myd['res_cur_2b'][2])"
   ]
  },
  {
   "cell_type": "code",
   "execution_count": 80,
   "metadata": {
    "ExecuteTime": {
     "end_time": "2018-11-26T11:17:32.223872Z",
     "start_time": "2018-11-26T11:16:34.069047Z"
    }
   },
   "outputs": [],
   "source": [
    "# 3 BODY\n",
    "myd['res_ivm_en_var_3b'] = s.ivm_sampling_energy('3b')\n",
    "myd['res_ivm_fz_var_3b'] = s.ivm_sampling_force('3b')\n",
    "myd['res_ivm_en_err_3b'] = s.ivm_sampling_energy('3b', use_pred_error=False)\n",
    "myd['res_ivm_fz_err_3b'] = s.ivm_sampling_force('3b', use_pred_error=False)\n",
    "myd['res_grid_3b']       = s.grid_3b_sampling(10)\n",
    "myd['res_rvm_3b']        = s.rvm_sampling('3b')\n",
    "myd['res_full_3b']       = s.full_sampling(ker='3b')\n",
    "myd['res_cur_3b']        = s.cur_sampling(k=len(myd['res_ivm_fz_var_3b'][2]), ker='3b')"
   ]
  },
  {
   "cell_type": "code",
   "execution_count": null,
   "metadata": {
    "ExecuteTime": {
     "start_time": "2018-11-26T11:15:56.941Z"
    }
   },
   "outputs": [
    {
     "name": "stdout",
     "output_type": "stream",
     "text": [
      "MAEF: 0.6293 SMAEF: 0.3992 RMSE: 0.4303\n",
      "MAEF: 0.5236 SMAEF: 0.2309 RMSE: 0.3304\n",
      "MAEF: 0.5236 SMAEF: 0.2309 RMSE: 0.3304\n",
      "MAEF: 0.5236 SMAEF: 0.2309 RMSE: 0.3304\n",
      "MAEF: 0.6293 SMAEF: 0.3992 RMSE: 0.4303\n",
      "MAEF: 0.2881 SMAEF: 0.2487 RMSE: 0.2197\n",
      "MAEF: 0.6293 SMAEF: 0.3992 RMSE: 0.4303\n"
     ]
    }
   ],
   "source": [
    "myd['err_ivm_en_var_3b'] = s.test_gp_on_forces(ker='3b', index = myd['res_ivm_en_var_3b'][2])\n",
    "myd['err_ivm_fz_var_3b'] = s.test_gp_on_forces(ker='3b', index = myd['res_ivm_fz_var_3b'][2])\n",
    "myd['err_ivm_en_err_3b'] = s.test_gp_on_forces(ker='3b', index = myd['res_ivm_en_err_3b'][2])\n",
    "myd['err_ivm_fz_err_3b'] = s.test_gp_on_forces(ker='3b', index = myd['res_ivm_fz_err_3b'][2])\n",
    "myd['err_grid_3b']       = s.test_gp_on_forces(ker='3b', index = myd['res_grid_3b'][2])\n",
    "myd['err_rvm_3b']        = s.test_gp_on_forces(ker='3b', index = myd['res_rvm_3b'][2])\n",
    "myd['err_full_3b']      = s.test_gp_on_forces(ker='3b', index = myd['res_full_3b'][2])\n",
    "myd['err_cur_3b']        = s.test_gp_on_forces(ker='3b', index = myd['res_cur_3b'][2])"
   ]
  },
  {
   "cell_type": "code",
   "execution_count": null,
   "metadata": {
    "ExecuteTime": {
     "start_time": "2018-11-26T11:15:57.650Z"
    }
   },
   "outputs": [],
   "source": [
    "class NumpyEncoder(json.JSONEncoder):\n",
    "    def default(self, obj):\n",
    "        if isinstance(obj, np.ndarray):\n",
    "            return obj.tolist()\n",
    "        return json.JSONEncoder.default(self, obj)\n",
    "    \n",
    "\n",
    "import json\n",
    "with open(directory + \"/sampling_%i_ntr.json\" %(ntr), \"w\") as write_file:\n",
    "    json.dump(myd, write_file, indent=4, cls=NumpyEncoder)"
   ]
  },
  {
   "cell_type": "code",
   "execution_count": null,
   "metadata": {},
   "outputs": [],
   "source": []
  }
 ],
 "metadata": {
  "kernelspec": {
   "display_name": "Python 3",
   "language": "python",
   "name": "python3"
  },
  "language_info": {
   "codemirror_mode": {
    "name": "ipython",
    "version": 3
   },
   "file_extension": ".py",
   "mimetype": "text/x-python",
   "name": "python",
   "nbconvert_exporter": "python",
   "pygments_lexer": "ipython3",
   "version": "3.6.3"
  },
  "latex_envs": {
   "LaTeX_envs_menu_present": true,
   "autoclose": false,
   "autocomplete": true,
   "bibliofile": "biblio.bib",
   "cite_by": "apalike",
   "current_citInitial": 1,
   "eqLabelWithNumbers": true,
   "eqNumInitial": 1,
   "hotkeys": {
    "equation": "Ctrl-E",
    "itemize": "Ctrl-I"
   },
   "labels_anchors": false,
   "latex_user_defs": false,
   "report_style_numbering": false,
   "user_envs_cfg": false
  }
 },
 "nbformat": 4,
 "nbformat_minor": 2
}
