{
 "cells": [
  {
   "cell_type": "code",
   "execution_count": 11,
   "metadata": {
    "ExecuteTime": {
     "end_time": "2018-11-27T11:46:25.105893Z",
     "start_time": "2018-11-27T11:46:25.056422Z"
    }
   },
   "outputs": [
    {
     "name": "stdout",
     "output_type": "stream",
     "text": [
      "The autoreload extension is already loaded. To reload it, use:\n",
      "  %reload_ext autoreload\n"
     ]
    }
   ],
   "source": [
    "import numpy as np\n",
    "import sys\n",
    "import os\n",
    "import pymf\n",
    "import time\n",
    "os.environ[\"MKL_THREADING_LAYER\"] = \"GNU\"\n",
    "sys.path.insert(0, '../mff/')\n",
    "from advanced_sampling import Sampling\n",
    "%load_ext autoreload\n",
    "%autoreload 2"
   ]
  },
  {
   "cell_type": "code",
   "execution_count": 2,
   "metadata": {
    "ExecuteTime": {
     "end_time": "2018-11-27T11:13:56.298375Z",
     "start_time": "2018-11-27T11:13:55.483360Z"
    }
   },
   "outputs": [
    {
     "name": "stdout",
     "output_type": "stream",
     "text": [
      "75240\n"
     ]
    }
   ],
   "source": [
    "directory = \"data/Ni_19_energies\"\n",
    "confs = np.load(directory+\"/confs_cut=8.50.npy\")\n",
    "forces = np.load(directory+\"/forces_cut=8.50.npy\")\n",
    "energies = np.load(directory+\"/energies_cut=8.50.npy\")\n",
    "print(len(forces))\n",
    "s = Sampling(confs=confs, energies=energies, forces=forces)\n",
    "s.clean_dataset()\n",
    "myd = {}"
   ]
  },
  {
   "cell_type": "code",
   "execution_count": 3,
   "metadata": {
    "ExecuteTime": {
     "end_time": "2018-11-27T11:14:11.024242Z",
     "start_time": "2018-11-27T11:13:56.306963Z"
    }
   },
   "outputs": [],
   "source": [
    "sigma_2b = 0.05\n",
    "sigma_3b = 0.1\n",
    "sigma_mb = 0.2\n",
    "theta, r_cut = .5, 8.5\n",
    "noise = 0.001\n",
    "ntr = 3\n",
    "ntest = 3\n",
    "\n",
    "s.train_test_split(confs=s.reduced_confs, energies= s.reduced_energies, forces = s.reduced_forces, ntr = ntr, ntest = ntest)\n",
    "s.initialize_gps(sigma_2b, sigma_3b, sigma_mb, noise, r_cut, theta)\n",
    "\n",
    "myd['directory'] = directory\n",
    "myd['sigma_2b'] = sigma_2b\n",
    "myd['sigma_3b'] = sigma_3b\n",
    "myd['sigma_mb'] = sigma_mb\n",
    "myd['theta'] = theta\n",
    "myd['r_cut'] = r_cut\n",
    "myd['noise'] = noise\n",
    "myd['ntr'] = ntr\n",
    "myd['ntest'] = ntest\n"
   ]
  },
  {
   "cell_type": "code",
   "execution_count": 21,
   "metadata": {
    "ExecuteTime": {
     "end_time": "2018-11-27T11:55:25.339701Z",
     "start_time": "2018-11-27T11:53:40.530661Z"
    }
   },
   "outputs": [],
   "source": [
    "# # 2 BODY\n",
    "# t0 = time.time()\n",
    "# myd['res_ivm_en_var_2b'] = s.ivm_sampling_energy('2b', ntrain = ntr, batchsize = 20), -(t0-time.time())\n",
    "# t1 = time.time()\n",
    "# myd['res_ivm_fz_var_2b'] = s.ivm_sampling_force('2b', ntrain = ntr, batchsize = 20), -(t1-time.time())\n",
    "# t2 = time.time()\n",
    "# myd['res_ivm_en_err_2b'] = s.ivm_sampling_energy('2b', ntrain = ntr, batchsize = 20, use_pred_error=False), -(t2-time.time())\n",
    "# t3 = time.time()\n",
    "# myd['res_ivm_fz_err_2b'] = s.ivm_sampling_force('2b', ntrain = ntr, batchsize = 20, use_pred_error=False), -(t3-time.time())\n",
    "# t4 = time.time()\n",
    "# myd['res_grid_2b']       = s.grid_2b_sampling(5), -(t4-time.time())\n",
    "t5 = time.time()\n",
    "myd['res_rvm_2b']        = s.rvm_sampling(batchsize = 500, ker = '2b'), -(t5-time.time())\n",
    "# t6 = time.time()\n",
    "# myd['res_full_2b']       = s.full_sampling(ker='2b', ntrain = ntr), -(t6-time.time())\n",
    "# t7 = time.time()\n",
    "# myd['res_cur_2b']        = s.cur_sampling(ntrain=ntr, ker='2b'), -(t7-time.time())"
   ]
  },
  {
   "cell_type": "code",
   "execution_count": null,
   "metadata": {
    "ExecuteTime": {
     "end_time": "2018-11-26T15:24:51.483399Z",
     "start_time": "2018-11-26T15:16:19.899Z"
    }
   },
   "outputs": [],
   "source": [
    "myd['err_ivm_en_var_2b'] = s.test_gp_on_forces(ker='2b', index = myd['res_ivm_en_var_2b'][2])\n",
    "myd['err_ivm_fz_var_2b'] = s.test_gp_on_forces(ker='2b', index = myd['res_ivm_fz_var_2b'][2])\n",
    "myd['err_ivm_en_err_2b'] = s.test_gp_on_forces(ker='2b', index = myd['res_ivm_en_err_2b'][2])\n",
    "myd['err_ivm_fz_err_2b'] = s.test_gp_on_forces(ker='2b', index = myd['res_ivm_fz_err_2b'][2])\n",
    "myd['err_grid_2b']       = s.test_gp_on_forces(ker='2b', index = myd['res_grid_2b'][2])\n",
    "myd['err_rvm_2b']        = s.test_gp_on_forces(ker='2b', index = myd['res_rvm_2b'][2])\n",
    "myd['err_full_2b']       = s.test_gp_on_forces(ker='2b', index = myd['res_full_2b'][2])\n",
    "myd['err_cur_2b']        = s.test_gp_on_forces(ker='2b', index = myd['res_cur_2b'][2])"
   ]
  },
  {
   "cell_type": "code",
   "execution_count": 9,
   "metadata": {
    "ExecuteTime": {
     "end_time": "2018-11-26T14:22:34.985215Z",
     "start_time": "2018-11-26T14:21:41.532097Z"
    }
   },
   "outputs": [],
   "source": [
    "# 3 BODY\n",
    "t0 = time.time()\n",
    "myd['res_ivm_en_var_3b'] = s.ivm_sampling_energy('3b', ntrain = ntr, batchsize = 20), -(t0-time.time())\n",
    "t1 = time.time()\n",
    "myd['res_ivm_fz_var_3b'] = s.ivm_sampling_force('3b', ntrain = ntr, batchsize = 20), -(t1-time.time())\n",
    "t2 = time.time()\n",
    "myd['res_ivm_en_err_3b'] = s.ivm_sampling_energy('3b', ntrain = ntr, batchsize = 20, use_pred_error=False), -(t2-time.time())\n",
    "t3 = time.time()\n",
    "myd['res_ivm_fz_err_3b'] = s.ivm_sampling_force('3b', ntrain = ntr, batchsize = 20, use_pred_error=False), -(t3-time.time())\n",
    "t4 = time.time()\n",
    "myd['res_grid_3b']       = s.grid_3b_sampling(5), -(t4-time.time())\n",
    "t5 = time.time()\n",
    "myd['res_rvm_3b']        = s.rvm_sampling('3b'), -(t5-time.time())\n",
    "t6 = time.time()\n",
    "myd['res_full_3b']       = s.full_sampling(ker='3b', ntrain = ntr), -(t6-time.time())\n",
    "t7 = time.time()\n",
    "myd['res_cur_3b']        = s.cur_sampling(ntrain=ntr, ker='3b'), -(t7-time.time())"
   ]
  },
  {
   "cell_type": "code",
   "execution_count": 10,
   "metadata": {
    "ExecuteTime": {
     "end_time": "2018-11-26T14:23:40.159653Z",
     "start_time": "2018-11-26T14:22:34.989985Z"
    }
   },
   "outputs": [
    {
     "name": "stdout",
     "output_type": "stream",
     "text": [
      "MAEF: 0.8481 SMAEF: 0.5996 RMSE: 0.5997\n",
      "MAEF: 0.8481 SMAEF: 0.5996 RMSE: 0.5997\n",
      "MAEF: 0.8537 SMAEF: 0.4225 RMSE: 0.5500\n",
      "MAEF: 0.8752 SMAEF: 0.4415 RMSE: 0.5660\n",
      "MAEF: 0.8481 SMAEF: 0.5996 RMSE: 0.5997\n",
      "MAEF: 0.7758 SMAEF: 0.3908 RMSE: 0.5015\n",
      "MAEF: 0.8481 SMAEF: 0.5996 RMSE: 0.5997\n",
      "MAEF: 0.8537 SMAEF: 0.4225 RMSE: 0.5500\n"
     ]
    }
   ],
   "source": [
    "myd['err_ivm_en_var_3b'] = s.test_gp_on_forces(ker='3b', index = myd['res_ivm_en_var_3b'][2])\n",
    "myd['err_ivm_fz_var_3b'] = s.test_gp_on_forces(ker='3b', index = myd['res_ivm_fz_var_3b'][2])\n",
    "myd['err_ivm_en_err_3b'] = s.test_gp_on_forces(ker='3b', index = myd['res_ivm_en_err_3b'][2])\n",
    "myd['err_ivm_fz_err_3b'] = s.test_gp_on_forces(ker='3b', index = myd['res_ivm_fz_err_3b'][2])\n",
    "myd['err_grid_3b']       = s.test_gp_on_forces(ker='3b', index = myd['res_grid_3b'][2])\n",
    "myd['err_rvm_3b']        = s.test_gp_on_forces(ker='3b', index = myd['res_rvm_3b'][2])\n",
    "myd['err_full_3b']      = s.test_gp_on_forces(ker='3b', index = myd['res_full_3b'][2])\n",
    "myd['err_cur_3b']        = s.test_gp_on_forces(ker='3b', index = myd['res_cur_3b'][2])"
   ]
  },
  {
   "cell_type": "code",
   "execution_count": 11,
   "metadata": {
    "ExecuteTime": {
     "end_time": "2018-11-26T14:23:40.211845Z",
     "start_time": "2018-11-26T14:23:40.162705Z"
    }
   },
   "outputs": [],
   "source": [
    "class NumpyEncoder(json.JSONEncoder):\n",
    "    def default(self, obj):\n",
    "        if isinstance(obj, np.ndarray):\n",
    "            return obj.tolist()\n",
    "        return json.JSONEncoder.default(self, obj)\n",
    "    \n",
    "\n",
    "import json\n",
    "with open(directory + \"/sampling_%i_ntr.json\" %(ntr), \"w\") as write_file:\n",
    "    json.dump(myd, write_file, indent=4, cls=NumpyEncoder)"
   ]
  },
  {
   "cell_type": "code",
   "execution_count": 22,
   "metadata": {
    "ExecuteTime": {
     "end_time": "2018-11-27T11:55:25.424076Z",
     "start_time": "2018-11-27T11:55:25.342006Z"
    }
   },
   "outputs": [
    {
     "data": {
      "text/plain": [
       "((0.05998544207362356,\n",
       "  array([0.11855938, 0.09626185, 0.19339416]),\n",
       "  array([3204, 3402, 3517, 3534, 3603, 3629, 3638, 3693, 3792, 3797, 3826,\n",
       "         3859, 3870, 3899])),\n",
       " 104.75972032546997)"
      ]
     },
     "execution_count": 22,
     "metadata": {},
     "output_type": "execute_result"
    }
   ],
   "source": [
    "myd['res_rvm_2b']"
   ]
  },
  {
   "cell_type": "code",
   "execution_count": null,
   "metadata": {},
   "outputs": [],
   "source": []
  }
 ],
 "metadata": {
  "kernelspec": {
   "display_name": "Python 3",
   "language": "python",
   "name": "python3"
  },
  "language_info": {
   "codemirror_mode": {
    "name": "ipython",
    "version": 3
   },
   "file_extension": ".py",
   "mimetype": "text/x-python",
   "name": "python",
   "nbconvert_exporter": "python",
   "pygments_lexer": "ipython3",
   "version": "3.6.3"
  },
  "latex_envs": {
   "LaTeX_envs_menu_present": true,
   "autoclose": false,
   "autocomplete": true,
   "bibliofile": "biblio.bib",
   "cite_by": "apalike",
   "current_citInitial": 1,
   "eqLabelWithNumbers": true,
   "eqNumInitial": 1,
   "hotkeys": {
    "equation": "Ctrl-E",
    "itemize": "Ctrl-I"
   },
   "labels_anchors": false,
   "latex_user_defs": false,
   "report_style_numbering": false,
   "user_envs_cfg": false
  }
 },
 "nbformat": 4,
 "nbformat_minor": 2
}
