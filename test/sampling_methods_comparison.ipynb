{
 "cells": [
  {
   "cell_type": "code",
   "execution_count": 30,
   "metadata": {
    "ExecuteTime": {
     "end_time": "2018-11-22T18:03:12.107257Z",
     "start_time": "2018-11-22T18:03:12.054910Z"
    }
   },
   "outputs": [
    {
     "name": "stdout",
     "output_type": "stream",
     "text": [
      "The autoreload extension is already loaded. To reload it, use:\n",
      "  %reload_ext autoreload\n"
     ]
    }
   ],
   "source": [
    "import numpy as np\n",
    "import sys\n",
    "import os\n",
    "import pymf\n",
    "os.environ[\"MKL_THREADING_LAYER\"] = \"GNU\"\n",
    "sys.path.insert(0, '../mff/')\n",
    "from advanced_sampling import Sampling\n",
    "%load_ext autoreload\n",
    "%autoreload 2"
   ]
  },
  {
   "cell_type": "code",
   "execution_count": 16,
   "metadata": {
    "ExecuteTime": {
     "end_time": "2018-11-22T16:57:51.354991Z",
     "start_time": "2018-11-22T16:57:50.888979Z"
    }
   },
   "outputs": [
    {
     "name": "stdout",
     "output_type": "stream",
     "text": [
      "75240\n"
     ]
    }
   ],
   "source": [
    "directory = \"data/Ni_19_energies\"\n",
    "confs = np.load(directory+\"/confs_cut=8.50.npy\")\n",
    "forces = np.load(directory+\"/forces_cut=8.50.npy\")\n",
    "energies = np.load(directory+\"/energies_cut=8.50.npy\")\n",
    "print(len(forces))\n",
    "s = Sampling(confs=confs, energies=energies, forces=forces)\n",
    "s.clean_dataset()"
   ]
  },
  {
   "cell_type": "code",
   "execution_count": 24,
   "metadata": {
    "ExecuteTime": {
     "end_time": "2018-11-22T17:20:44.986714Z",
     "start_time": "2018-11-22T17:20:35.639918Z"
    }
   },
   "outputs": [],
   "source": [
    "sigma_2b = 0.05\n",
    "sigma_3b = 0.1\n",
    "sigma_mb = 0.2\n",
    "theta, r_cut = .5, 8.5\n",
    "noise = 0.001\n",
    "ntr = 5\n",
    "ntest = 5\n",
    "s.train_test_split(confs=s.reduced_confs, energies= s.reduced_energies, forces = s.reduced_forces, ntr = ntr, ntest = ntest)\n",
    "s.initialize_gps(sigma_2b, sigma_3b, sigma_mb, noise, r_cut, theta)"
   ]
  },
  {
   "cell_type": "code",
   "execution_count": 29,
   "metadata": {
    "ExecuteTime": {
     "end_time": "2018-11-22T17:25:15.718462Z",
     "start_time": "2018-11-22T17:25:03.272692Z"
    }
   },
   "outputs": [],
   "source": [
    "# 2 BODY\n",
    "res_ivm_en_var = s.ivm_sampling_energy('2b')\n",
    "res_ivm_fz_var = s.ivm_sampling_force('2b')\n",
    "res_ivm_en_err = s.ivm_sampling_energy('2b', use_pred_error=False)\n",
    "res_ivm_fz_err = s.ivm_sampling_force('2b', use_pred_error=False)\n",
    "res_grid       = s.grid_2b_sampling(10)\n",
    "res_rvm        = s.rvm_sampling('2b')\n",
    "res_full       = s.full_sampling(ker='2b')\n",
    "res_cur        = s.cur_sampling(k=len(res_ivm_en_var[2]), ker='2b')"
   ]
  },
  {
   "cell_type": "code",
   "execution_count": 23,
   "metadata": {
    "ExecuteTime": {
     "end_time": "2018-11-22T17:19:53.387207Z",
     "start_time": "2018-11-22T17:19:39.399356Z"
    }
   },
   "outputs": [
    {
     "name": "stdout",
     "output_type": "stream",
     "text": [
      "MAEF: 0.4034 SMAEF: 0.1645 RMSE: 0.2515\n",
      "MAEF: 0.4718 SMAEF: 0.1949 RMSE: 0.2947\n",
      "MAEF: 0.3527 SMAEF: 0.1925 RMSE: 0.2320\n",
      "MAEF: 0.6605 SMAEF: 0.2476 RMSE: 0.4072\n",
      "MAEF: 0.4311 SMAEF: 0.2790 RMSE: 0.2965\n",
      "MAEF: 0.4718 SMAEF: 0.1949 RMSE: 0.2947\n",
      "MAEF: 0.4731 SMAEF: 0.1986 RMSE: 0.2963\n",
      "MAEF: 0.4906 SMAEF: 0.2156 RMSE: 0.3094\n"
     ]
    }
   ],
   "source": [
    "err_ivm_en_var = s.test_gp_on_forces(ker='2b', index = res_ivm_en_var[2])\n",
    "err_ivm_fz_var = s.test_gp_on_forces(ker='2b', index = res_ivm_fz_var[2])\n",
    "err_ivm_en_err = s.test_gp_on_forces(ker='2b', index = res_ivm_en_err[2])\n",
    "err_ivm_fz_err = s.test_gp_on_forces(ker='2b', index = res_ivm_fz_err[2])\n",
    "err_grid       = s.test_gp_on_forces(ker='2b', index = res_grid[2])\n",
    "err_rvm        = s.test_gp_on_forces(ker='2b', index = res_rvm[2])\n",
    "err_full       = s.test_gp_on_forces(ker='2b', index = res_full[2])\n",
    "err_cur        = s.test_gp_on_forces(ker='2b', index = res_cur[2])"
   ]
  },
  {
   "cell_type": "code",
   "execution_count": null,
   "metadata": {},
   "outputs": [],
   "source": [
    "# 3 BODY\n",
    "res_ivm_en_var = s.ivm_sampling_energy('3b')\n",
    "res_ivm_fz_var = s.ivm_sampling_force('3b')\n",
    "res_ivm_en_err = s.ivm_sampling_energy('3b', use_pred_error=False)\n",
    "res_ivm_fz_err = s.ivm_sampling_force('3b', use_pred_error=False)\n",
    "res_grid       = s.grid_3b_sampling(10)\n",
    "res_rvm        = s.rvm_sampling('3b')\n",
    "res_full       = s.full_sampling(ker='3b')\n",
    "res_cur        = s.cur_sampling(k=len(res_ivm_en_var[2]), ker='3b')"
   ]
  },
  {
   "cell_type": "code",
   "execution_count": 26,
   "metadata": {
    "ExecuteTime": {
     "end_time": "2018-11-22T17:23:43.078118Z",
     "start_time": "2018-11-22T17:22:19.721070Z"
    }
   },
   "outputs": [
    {
     "name": "stdout",
     "output_type": "stream",
     "text": [
      "MAEF: 0.7182 SMAEF: 0.1788 RMSE: 0.4273\n",
      "MAEF: 0.7385 SMAEF: 0.1564 RMSE: 0.4358\n",
      "MAEF: 0.4909 SMAEF: 0.2905 RMSE: 0.3293\n",
      "MAEF: 0.4486 SMAEF: 0.3100 RMSE: 0.3148\n",
      "MAEF: 0.5163 SMAEF: 0.2007 RMSE: 0.3198\n",
      "MAEF: 0.5522 SMAEF: 0.2301 RMSE: 0.3454\n",
      "MAEF: 0.5163 SMAEF: 0.2007 RMSE: 0.3198\n",
      "MAEF: 0.7385 SMAEF: 0.1564 RMSE: 0.4358\n"
     ]
    }
   ],
   "source": [
    "err_ivm_en_var = s.test_gp_on_forces(ker='3b', index = res_ivm_en_var[2])\n",
    "err_ivm_fz_var = s.test_gp_on_forces(ker='3b', index = res_ivm_fz_var[2])\n",
    "err_ivm_en_err = s.test_gp_on_forces(ker='3b', index = res_ivm_en_err[2])\n",
    "err_ivm_fz_err = s.test_gp_on_forces(ker='3b', index = res_ivm_fz_err[2])\n",
    "err_grid       = s.test_gp_on_forces(ker='3b', index = res_grid[2])\n",
    "err_rvm        = s.test_gp_on_forces(ker='3b', index = res_rvm[2])\n",
    "err_full       = s.test_gp_on_forces(ker='3b', index = res_full[2])\n",
    "err_cur        = s.test_gp_on_forces(ker='3b', index = res_cur[2])"
   ]
  },
  {
   "cell_type": "code",
   "execution_count": null,
   "metadata": {},
   "outputs": [],
   "source": []
  }
 ],
 "metadata": {
  "kernelspec": {
   "display_name": "Python 3",
   "language": "python",
   "name": "python3"
  },
  "language_info": {
   "codemirror_mode": {
    "name": "ipython",
    "version": 3
   },
   "file_extension": ".py",
   "mimetype": "text/x-python",
   "name": "python",
   "nbconvert_exporter": "python",
   "pygments_lexer": "ipython3",
   "version": "3.6.3"
  },
  "latex_envs": {
   "LaTeX_envs_menu_present": true,
   "autoclose": false,
   "autocomplete": true,
   "bibliofile": "biblio.bib",
   "cite_by": "apalike",
   "current_citInitial": 1,
   "eqLabelWithNumbers": true,
   "eqNumInitial": 1,
   "hotkeys": {
    "equation": "Ctrl-E",
    "itemize": "Ctrl-I"
   },
   "labels_anchors": false,
   "latex_user_defs": false,
   "report_style_numbering": false,
   "user_envs_cfg": false
  }
 },
 "nbformat": 4,
 "nbformat_minor": 2
}
