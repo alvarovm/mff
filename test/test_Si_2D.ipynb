{
 "cells": [
  {
   "cell_type": "markdown",
   "metadata": {},
   "source": [
    "# Fe test"
   ]
  },
  {
   "cell_type": "code",
   "execution_count": 1,
   "metadata": {
    "ExecuteTime": {
     "end_time": "2018-05-26T13:38:19.051668Z",
     "start_time": "2018-05-26T13:38:19.047910Z"
    }
   },
   "outputs": [],
   "source": [
    "import sys\n",
    "sys.path.append('..')"
   ]
  },
  {
   "cell_type": "code",
   "execution_count": 2,
   "metadata": {
    "ExecuteTime": {
     "end_time": "2018-05-26T13:38:19.856266Z",
     "start_time": "2018-05-26T13:38:19.053820Z"
    }
   },
   "outputs": [],
   "source": [
    "%matplotlib inline\n",
    "%load_ext autoreload\n",
    "%autoreload 2"
   ]
  },
  {
   "cell_type": "code",
   "execution_count": 3,
   "metadata": {
    "ExecuteTime": {
     "end_time": "2018-05-26T13:38:21.856161Z",
     "start_time": "2018-05-26T13:38:19.857981Z"
    }
   },
   "outputs": [],
   "source": [
    "import os\n",
    "import logging\n",
    "from pathlib import Path\n",
    "\n",
    "import numpy as np\n",
    "import matplotlib.pyplot as plt\n",
    "\n",
    "from ase import Atoms\n",
    "from ase.io import read\n",
    "from asap3 import FullNeighborList\n",
    "\n",
    "from m_ff.configurations import carve_confs\n",
    "\n",
    "from m_ff.kernels import TwoBodySingleSpeciesKernel, ThreeBodySingleSpeciesKernel\n",
    "from m_ff.gp import GaussianProcess, ThreeBodySingleSpeciesGP, TwoBodySingleSpeciesGP\n",
    "from m_ff.grid import SingleSpeciesGrid\n",
    "\n",
    "from m_ff.interpolation import Spline3D, Spline1D\n",
    "from m_ff.calculators import TwoBodySingleSpecies, ThreeBodySingleSpecies, CombinedSingleSpecies\n",
    "\n",
    "logging.basicConfig(level=logging.INFO)"
   ]
  },
  {
   "cell_type": "markdown",
   "metadata": {},
   "source": [
    "## Parameters"
   ]
  },
  {
   "cell_type": "code",
   "execution_count": 4,
   "metadata": {
    "ExecuteTime": {
     "end_time": "2018-05-26T13:38:21.892736Z",
     "start_time": "2018-05-26T13:38:21.858301Z"
    }
   },
   "outputs": [],
   "source": [
    "# Parameters\n",
    "directory = Path('data/Si_SW_2D/')\n",
    "\n",
    "r_cut = 4.45\n",
    "ntr = 2\n",
    "ntest = 25\n",
    "\n",
    "\n",
    "# GP Parameters\n",
    "combine_2b_3b = False\n",
    "sigma_2b = 10\n",
    "sigma_3b = 5.\n",
    "noise = 0.0001\n",
    "\n",
    "theta_2b = [sigma_2b, r_cut / 10.0, r_cut]\n",
    "theta_3b = [sigma_3b, r_cut / 10.0, r_cut]\n",
    "\n",
    "\n",
    "# mapping\n",
    "grid_start = 2.\n",
    "elementslist = [14]\n",
    "num_2b = 20\n",
    "num_3b = 20"
   ]
  },
  {
   "cell_type": "markdown",
   "metadata": {},
   "source": [
    "## Configurations"
   ]
  },
  {
   "cell_type": "code",
   "execution_count": 5,
   "metadata": {
    "ExecuteTime": {
     "end_time": "2018-05-26T13:38:21.924166Z",
     "start_time": "2018-05-26T13:38:21.896770Z"
    }
   },
   "outputs": [],
   "source": [
    "# Parameters(\n",
    "#     directory = Path('data/Fe_vac/'),\n",
    "#     r_cut = 4.45,\n",
    "#     sigma_2b = 0.3,\n",
    "#     sigma_3b = 0.6,\n",
    "#     noise = 0.0001,\n",
    "#     theta_2b = [sigma_2b, r_cut / 10.0, r_cut]\n",
    "#     theta_3b = [sigma_3b, r_cut / 10.0, r_cut]\n",
    "\n",
    "\n",
    "#     # GP Parameters\n",
    "#     ntr = 50,\n",
    "#     ntest = 10,\n",
    "#     combine_2b_3b = True,\n",
    "\n",
    "#     # mapping\n",
    "#     grid_start = 1.5,\n",
    "#     elementslist = [26],\n",
    "#     num_2b = 1000,\n",
    "#     num_3b = 100\n",
    "# )"
   ]
  },
  {
   "cell_type": "code",
   "execution_count": 6,
   "metadata": {
    "ExecuteTime": {
     "end_time": "2018-05-26T13:38:21.958241Z",
     "start_time": "2018-05-26T13:38:21.926548Z"
    },
    "scrolled": true
   },
   "outputs": [
    {
     "name": "stderr",
     "output_type": "stream",
     "text": [
      "INFO:root:Reading traj step 0\n",
      "INFO:root:Energy in the xyz file is not present, or is not called energy\n",
      "INFO:root:Reading traj step 1\n",
      "INFO:root:Reading traj step 2\n",
      "INFO:root:Energy in the xyz file is not present, or is not called energy\n",
      "INFO:root:Reading traj step 3\n",
      "INFO:root:Reading traj step 4\n",
      "INFO:root:Energy in the xyz file is not present, or is not called energy\n",
      "INFO:root:Reading traj step 5\n",
      "INFO:root:Reading traj step 6\n",
      "INFO:root:Energy in the xyz file is not present, or is not called energy\n",
      "INFO:root:Reading traj step 7\n",
      "INFO:root:Reading traj step 8\n",
      "INFO:root:Energy in the xyz file is not present, or is not called energy\n",
      "INFO:root:Reading traj step 9\n",
      "INFO:root:Reading traj step 10\n",
      "INFO:root:Energy in the xyz file is not present, or is not called energy\n",
      "INFO:root:Reading traj step 11\n",
      "INFO:root:Reading traj step 12\n",
      "INFO:root:Energy in the xyz file is not present, or is not called energy\n",
      "INFO:root:Reading traj step 13\n",
      "INFO:root:Reading traj step 14\n",
      "INFO:root:Energy in the xyz file is not present, or is not called energy\n",
      "INFO:root:Reading traj step 15\n",
      "INFO:root:Reading traj step 16\n",
      "INFO:root:Energy in the xyz file is not present, or is not called energy\n",
      "INFO:root:Reading traj step 17\n",
      "INFO:root:Reading traj step 18\n",
      "INFO:root:Energy in the xyz file is not present, or is not called energy\n",
      "INFO:root:Reading traj step 19\n",
      "INFO:root:Reading traj step 20\n",
      "INFO:root:Energy in the xyz file is not present, or is not called energy\n",
      "INFO:root:Reading traj step 21\n",
      "INFO:root:Reading traj step 22\n",
      "INFO:root:Energy in the xyz file is not present, or is not called energy\n",
      "INFO:root:Reading traj step 23\n",
      "INFO:root:Reading traj step 24\n",
      "INFO:root:Reading traj step 25\n",
      "INFO:root:Energy in the xyz file is not present, or is not called energy\n",
      "INFO:root:Reading traj step 26\n",
      "INFO:root:Reading traj step 27\n",
      "INFO:root:Energy in the xyz file is not present, or is not called energy\n",
      "INFO:root:Reading traj step 28\n",
      "INFO:root:Reading traj step 29\n",
      "INFO:root:Energy in the xyz file is not present, or is not called energy\n",
      "INFO:root:Reading traj step 30\n",
      "INFO:root:Reading traj step 31\n",
      "INFO:root:Energy in the xyz file is not present, or is not called energy\n",
      "INFO:root:Reading traj step 32\n",
      "INFO:root:Reading traj step 33\n",
      "INFO:root:Energy in the xyz file is not present, or is not called energy\n",
      "INFO:root:Reading traj step 34\n",
      "INFO:root:Reading traj step 35\n",
      "INFO:root:Energy in the xyz file is not present, or is not called energy\n",
      "INFO:root:Reading traj step 36\n",
      "INFO:root:Reading traj step 37\n",
      "INFO:root:Energy in the xyz file is not present, or is not called energy\n",
      "INFO:root:Reading traj step 38\n",
      "INFO:root:Reading traj step 39\n",
      "INFO:root:Energy in the xyz file is not present, or is not called energy\n",
      "INFO:root:Reading traj step 40\n",
      "INFO:root:Reading traj step 41\n",
      "INFO:root:Energy in the xyz file is not present, or is not called energy\n",
      "INFO:root:Reading traj step 42\n",
      "INFO:root:Reading traj step 43\n",
      "INFO:root:Energy in the xyz file is not present, or is not called energy\n",
      "INFO:root:Reading traj step 44\n",
      "INFO:root:Reading traj step 45\n",
      "INFO:root:Energy in the xyz file is not present, or is not called energy\n",
      "INFO:root:Reading traj step 46\n",
      "INFO:root:Reading traj step 47\n",
      "INFO:root:Energy in the xyz file is not present, or is not called energy\n",
      "INFO:root:Reading traj step 48\n",
      "INFO:root:Reading traj step 49\n",
      "INFO:root:Reading traj step 50\n",
      "INFO:root:Energy in the xyz file is not present, or is not called energy\n",
      "INFO:root:Reading traj step 51\n",
      "INFO:root:Reading traj step 52\n",
      "INFO:root:Energy in the xyz file is not present, or is not called energy\n",
      "INFO:root:Reading traj step 53\n",
      "INFO:root:Reading traj step 54\n",
      "INFO:root:Energy in the xyz file is not present, or is not called energy\n",
      "INFO:root:Reading traj step 55\n",
      "INFO:root:Reading traj step 56\n",
      "INFO:root:Energy in the xyz file is not present, or is not called energy\n",
      "INFO:root:Reading traj step 57\n",
      "INFO:root:Reading traj step 58\n",
      "INFO:root:Energy in the xyz file is not present, or is not called energy\n",
      "INFO:root:Reading traj step 59\n",
      "INFO:root:Reading traj step 60\n",
      "INFO:root:Energy in the xyz file is not present, or is not called energy\n",
      "INFO:root:Reading traj step 61\n",
      "INFO:root:Reading traj step 62\n",
      "INFO:root:Energy in the xyz file is not present, or is not called energy\n",
      "INFO:root:Reading traj step 63\n",
      "INFO:root:Reading traj step 64\n",
      "INFO:root:Energy in the xyz file is not present, or is not called energy\n",
      "INFO:root:Reading traj step 65\n",
      "INFO:root:Reading traj step 66\n",
      "INFO:root:Energy in the xyz file is not present, or is not called energy\n",
      "INFO:root:Reading traj step 67\n",
      "INFO:root:Reading traj step 68\n",
      "INFO:root:Energy in the xyz file is not present, or is not called energy\n",
      "INFO:root:Reading traj step 69\n",
      "INFO:root:Reading traj step 70\n",
      "INFO:root:Energy in the xyz file is not present, or is not called energy\n",
      "INFO:root:Reading traj step 71\n",
      "INFO:root:Reading traj step 72\n",
      "INFO:root:Energy in the xyz file is not present, or is not called energy\n",
      "INFO:root:Reading traj step 73\n",
      "INFO:root:Reading traj step 74\n",
      "INFO:root:Reading traj step 75\n",
      "INFO:root:Energy in the xyz file is not present, or is not called energy\n",
      "INFO:root:Reading traj step 76\n",
      "INFO:root:Reading traj step 77\n",
      "INFO:root:Energy in the xyz file is not present, or is not called energy\n",
      "INFO:root:Reading traj step 78\n",
      "INFO:root:Reading traj step 79\n",
      "INFO:root:Energy in the xyz file is not present, or is not called energy\n",
      "INFO:root:Reading traj step 80\n",
      "INFO:root:Reading traj step 81\n",
      "INFO:root:Energy in the xyz file is not present, or is not called energy\n",
      "INFO:root:Reading traj step 82\n",
      "INFO:root:Reading traj step 83\n",
      "INFO:root:Energy in the xyz file is not present, or is not called energy\n",
      "INFO:root:Reading traj step 84\n",
      "INFO:root:Reading traj step 85\n",
      "INFO:root:Energy in the xyz file is not present, or is not called energy\n",
      "INFO:root:Reading traj step 86\n",
      "INFO:root:Reading traj step 87\n",
      "INFO:root:Energy in the xyz file is not present, or is not called energy\n",
      "INFO:root:Reading traj step 88\n",
      "INFO:root:Reading traj step 89\n",
      "INFO:root:Energy in the xyz file is not present, or is not called energy\n",
      "INFO:root:Reading traj step 90\n",
      "INFO:root:Reading traj step 91\n",
      "INFO:root:Energy in the xyz file is not present, or is not called energy\n",
      "INFO:root:Reading traj step 92\n",
      "INFO:root:Reading traj step 93\n",
      "INFO:root:Energy in the xyz file is not present, or is not called energy\n",
      "INFO:root:Reading traj step 94\n",
      "INFO:root:Reading traj step 95\n",
      "INFO:root:Energy in the xyz file is not present, or is not called energy\n",
      "INFO:root:Reading traj step 96\n",
      "INFO:root:Reading traj step 97\n",
      "INFO:root:Energy in the xyz file is not present, or is not called energy\n",
      "INFO:root:Reading traj step 98\n",
      "INFO:root:Reading traj step 99\n",
      "INFO:root:Number of atoms in a configuration:\n",
      "   maximum: 9\n",
      "   minimum: 9\n",
      "   average: 9.0\n"
     ]
    }
   ],
   "source": [
    "# # # ----------------------------------------\n",
    "# # # Construct a configuration database\n",
    "# # # ----------------------------------------\n",
    "\n",
    "\n",
    "n_data = 50\n",
    "\n",
    "filename = directory / 'movie.xyz'\n",
    "\n",
    "traj = read(filename, index=slice(None), format='extxyz')\n",
    "\n",
    "elements, confs, forces, energies = carve_confs(\n",
    "    traj, r_cut, n_data,\n",
    "    forces_label='force', energy_label='energy')\n",
    "\n",
    "if not os.path.exists(directory):\n",
    "    os.makedirs(directory)\n",
    "\n",
    "np.save('{}/confs_cut={:.2f}.npy'.format(directory, r_cut), confs)\n",
    "np.save('{}/forces_cut={:.2f}.npy'.format(directory, r_cut), forces)\n",
    "np.save('{}/energies_cut={:.2f}.npy'.format(directory, r_cut), energies)\n",
    "\n",
    "lens = [len(conf) for conf in confs]\n",
    "\n",
    "logging.info('\\n'.join((\n",
    "    'Number of atoms in a configuration:',\n",
    "    '   maximum: {}'.format(np.max(lens)),\n",
    "    '   minimum: {}'.format(np.min(lens)),\n",
    "    '   average: {:.4}'.format(np.mean(lens))\n",
    ")))"
   ]
  },
  {
   "cell_type": "markdown",
   "metadata": {},
   "source": [
    "## GP"
   ]
  },
  {
   "cell_type": "code",
   "execution_count": 7,
   "metadata": {
    "ExecuteTime": {
     "end_time": "2018-05-26T13:38:22.004354Z",
     "start_time": "2018-05-26T13:38:21.960659Z"
    }
   },
   "outputs": [],
   "source": [
    "# ----------------------------------------\n",
    "# Test a simple GP on the built database\n",
    "# ----------------------------------------\n",
    "\n",
    "\n",
    "# Get configurations and forces from file\n",
    "confs = np.load(directory / 'confs_cut={:.2f}.npy'.format(r_cut))\n",
    "forces = np.load(directory / 'forces_cut={:.2f}.npy'.format(r_cut))\n",
    "numconfs = len(forces)\n",
    "ind = np.arange(numconfs)\n",
    "# ind_tot = np.random.choice(ind, size=ntr + ntest, replace=False)\n",
    "\n",
    "# Separate into random testing and training dataset\n",
    "# tr_confs, tr_forces = confs[ind[:ntr]], forces[ind[:ntr]]\n",
    "# tst_confs, tst_forces = confs[ind[ntr:]], forces[ind[ntr:]]\n",
    "\n",
    "# Use fixed training and testing dataset\n",
    "tr_confs, tr_forces = confs[:ntr], forces[:ntr]\n",
    "tst_confs, tst_forces = confs[-ntest - 1:-1], forces[-ntest - 1:-1]"
   ]
  },
  {
   "cell_type": "code",
   "execution_count": 8,
   "metadata": {
    "ExecuteTime": {
     "end_time": "2018-05-26T13:39:06.899573Z",
     "start_time": "2018-05-26T13:38:22.008597Z"
    },
    "scrolled": true
   },
   "outputs": [
    {
     "name": "stderr",
     "output_type": "stream",
     "text": [
      "INFO:m_ff.kernels.threebodykernel:Started compilation of theano three body kernels\n",
      "INFO:m_ff.kernels.threebodykernel:Ended compilation of theano three body kernels\n"
     ]
    },
    {
     "name": "stdout",
     "output_type": "stream",
     "text": [
      "Training 3B GP\n"
     ]
    }
   ],
   "source": [
    "two_body_train_forces = np.zeros((ntr, 3))\n",
    "\n",
    "if combine_2b_3b:\n",
    "\n",
    "    # First train with a 2 body\n",
    "#     kernel_2b = TwoBodySingleSpeciesKernel(theta=theta_2b)\n",
    "    gp_2 = TwoBodySingleSpeciesGP(theta=theta_2b, noise=noise)\n",
    "\n",
    "    print('Training 2B GP')\n",
    "    gp_2.fit(tr_confs, tr_forces)\n",
    "\n",
    "    gp_2_name = 'gp_ker=2_ntr={}_sig={:.2f}_cut={:.2f}'.format(ntr, sigma_2b, r_cut)\n",
    "    #gp_2.save(directory / gp_2_name)\n",
    "\n",
    "    # Calculate the predictions of the 2body on the training set\n",
    "    for i in np.arange(ntr):\n",
    "        two_body_train_forces[i] = gp_2.predict(np.reshape(tr_confs[i], (1, len(tr_confs[i]), 5)))\n",
    "\n",
    "# Then train with a 2 body on the difference between tr_force and tr_force obtained with the two body\n",
    "# kernel_3b = ThreeBodySingleSpeciesKernel(theta=theta_3b)\n",
    "gp_3 = ThreeBodySingleSpeciesGP(theta=theta_3b, noise=noise, optimizer=None)\n",
    "\n",
    "print('Training 3B GP')\n",
    "gp_3.fit(tr_confs, tr_forces - two_body_train_forces)\n",
    "\n",
    "gp_3_name = 'gp_ker=3_ntr={}_sig={:.2f}_cut={:.2f}'.format(ntr, sigma_3b, r_cut)\n",
    "#gp_3.save(directory / gp_3_name)"
   ]
  },
  {
   "cell_type": "code",
   "execution_count": 9,
   "metadata": {},
   "outputs": [
    {
     "data": {
      "text/plain": [
       "(2, 9, 5)"
      ]
     },
     "execution_count": 9,
     "metadata": {},
     "output_type": "execute_result"
    }
   ],
   "source": [
    "tr_confs.shape"
   ]
  },
  {
   "cell_type": "code",
   "execution_count": 10,
   "metadata": {},
   "outputs": [
    {
     "data": {
      "text/plain": [
       "(2, 3)"
      ]
     },
     "execution_count": 10,
     "metadata": {},
     "output_type": "execute_result"
    }
   ],
   "source": [
    "tr_forces.shape"
   ]
  },
  {
   "cell_type": "code",
   "execution_count": 11,
   "metadata": {
    "ExecuteTime": {
     "end_time": "2018-05-26T13:39:20.362602Z",
     "start_time": "2018-05-26T13:39:06.902232Z"
    }
   },
   "outputs": [
    {
     "name": "stdout",
     "output_type": "stream",
     "text": [
      "Testing GP\n",
      "2 body MAEF on forces: 0.0000 +- 0.0000\n",
      "2+3 body MAEF on forces: 0.9206 +- 0.4157\n",
      "2+3 body Relative MAEF on forces: 1.2132 +- 0.5477\n"
     ]
    }
   ],
   "source": [
    "# Test the GP performance\n",
    "print('Testing GP')\n",
    "\n",
    "gp_3b_forces = np.zeros((ntest, 3))\n",
    "gp_error = np.zeros((ntest, 3))\n",
    "gp_2b_error = np.zeros((ntest, 3))\n",
    "gp_2b_forces = np.zeros((ntest, 3))\n",
    "\n",
    "for i in np.arange(ntest):\n",
    "    if combine_2b_3b:\n",
    "        gp_2b_forces[i, :] = gp_2.predict(np.reshape(tst_confs[i], (1, len(tst_confs[i]), 5)))\n",
    "        gp_2b_error[i, :] = gp_2b_forces[i, :] - tst_forces[i, :]\n",
    "    gp_3b_forces[i, :] = gp_3.predict(np.reshape(tst_confs[i], (1, len(tst_confs[i]), 5)))\n",
    "    gp_error[i, :] = gp_2b_forces[i, :] + gp_3b_forces[i, :] - tst_forces[i, :]\n",
    "\n",
    "MAEF = np.mean(np.sqrt(np.sum(np.square(gp_error), axis=1)))\n",
    "SMAEF = np.std(np.sqrt(np.sum(np.square(gp_error), axis=1)))\n",
    "MAEF_2B = np.mean(np.sqrt(np.sum(np.square(gp_2b_error), axis=1)))\n",
    "SMAE_2B = np.std(np.sqrt(np.sum(np.square(gp_2b_error), axis=1)))\n",
    "\n",
    "MF = np.mean(np.linalg.norm(tst_forces, axis=1))\n",
    "\n",
    "print('2 body MAEF on forces: {:.4f} +- {:.4f}'.format(MAEF_2B, SMAE_2B))\n",
    "print('2+3 body MAEF on forces: {:.4f} +- {:.4f}'.format(MAEF, SMAEF))\n",
    "print('2+3 body Relative MAEF on forces: {:.4f} +- {:.4f}'.format(MAEF / MF, SMAEF / MF))\n",
    "\n",
    "# Testing GP\n",
    "# 2 body MAEF on forces: 0.1539 +- 0.0901\n",
    "# MAEF on forces: 0.3682 +- 0.1116\n",
    "# Relative MAEF on forces: 0.4284 +- 0.1298"
   ]
  },
  {
   "cell_type": "code",
   "execution_count": 12,
   "metadata": {
    "scrolled": true
   },
   "outputs": [
    {
     "data": {
      "image/png": "[encoded data removed]",
      "text/plain": [
       "<Figure size 432x288 with 1 Axes>"
      ]
     },
     "metadata": {},
     "output_type": "display_data"
    }
   ],
   "source": [
    "plt.plot(tst_forces[:, :], tst_forces[:, :], 'k-')\n",
    "plt.plot(gp_2b_forces[:, :], tst_forces[:, :], 'bo')\n",
    "plt.plot(gp_2b_forces[:, :] + gp_3b_forces[:, :], tst_forces[:, :], 'ro')\n",
    "\n",
    "plt.show()"
   ]
  },
  {
   "cell_type": "code",
   "execution_count": null,
   "metadata": {},
   "outputs": [],
   "source": []
  },
  {
   "cell_type": "markdown",
   "metadata": {
    "ExecuteTime": {
     "end_time": "2018-05-18T15:09:44.627620Z",
     "start_time": "2018-05-18T15:09:44.588743Z"
    }
   },
   "source": [
    "## Mapping"
   ]
  },
  {
   "cell_type": "markdown",
   "metadata": {
    "heading_collapsed": true
   },
   "source": [
    "### 2-body"
   ]
  },
  {
   "cell_type": "code",
   "execution_count": 13,
   "metadata": {
    "ExecuteTime": {
     "end_time": "2018-05-26T13:39:21.206044Z",
     "start_time": "2018-05-26T13:39:20.364652Z"
    },
    "hidden": true
   },
   "outputs": [
    {
     "ename": "NameError",
     "evalue": "name 'gp_2' is not defined",
     "output_type": "error",
     "traceback": [
      "\u001b[0;31m---------------------------------------------------------------------------\u001b[0m",
      "\u001b[0;31mNameError\u001b[0m                                 Traceback (most recent call last)",
      "\u001b[0;32m<ipython-input-13-7beee1e12beb>\u001b[0m in \u001b[0;36m<module>\u001b[0;34m()\u001b[0m\n\u001b[1;32m      4\u001b[0m \u001b[0;34m\u001b[0m\u001b[0m\n\u001b[1;32m      5\u001b[0m \u001b[0mmapping_dists_2b\u001b[0m \u001b[0;34m=\u001b[0m \u001b[0mnp\u001b[0m\u001b[0;34m.\u001b[0m\u001b[0mlinspace\u001b[0m\u001b[0;34m(\u001b[0m\u001b[0mgrid_start\u001b[0m\u001b[0;34m,\u001b[0m \u001b[0mr_cut\u001b[0m\u001b[0;34m,\u001b[0m \u001b[0mnum_2b\u001b[0m\u001b[0;34m)\u001b[0m\u001b[0;34m\u001b[0m\u001b[0m\n\u001b[0;32m----> 6\u001b[0;31m \u001b[0mgrid_2b\u001b[0m \u001b[0;34m=\u001b[0m \u001b[0mgp_2\u001b[0m\u001b[0;34m.\u001b[0m\u001b[0mbuild_grid\u001b[0m\u001b[0;34m(\u001b[0m\u001b[0mmapping_dists_2b\u001b[0m\u001b[0;34m,\u001b[0m \u001b[0melementslist\u001b[0m\u001b[0;34m[\u001b[0m\u001b[0;36m0\u001b[0m\u001b[0;34m]\u001b[0m\u001b[0;34m)\u001b[0m\u001b[0;34m\u001b[0m\u001b[0m\n\u001b[0m",
      "\u001b[0;31mNameError\u001b[0m: name 'gp_2' is not defined"
     ]
    }
   ],
   "source": [
    "# ----------------------------------------\n",
    "# Mapping\n",
    "# ----------------------------------------\n",
    "\n",
    "mapping_dists_2b = np.linspace(grid_start, r_cut, num_2b)\n",
    "grid_2b = gp_2.build_grid(mapping_dists_2b, elementslist[0])\n"
   ]
  },
  {
   "cell_type": "code",
   "execution_count": null,
   "metadata": {
    "ExecuteTime": {
     "end_time": "2018-05-26T13:39:21.240957Z",
     "start_time": "2018-05-26T13:39:21.207954Z"
    },
    "hidden": true
   },
   "outputs": [],
   "source": [
    "remap_2d_name = 'MFF_{}b_ntr_{}_sig_{:.2f}_cut_{:.2f}_num_{}.npy'.format(2, ntr, sigma_2b, r_cut, num_2b)\n",
    "#np.save(directory / remap_2d_name, [elementslist, mapping_dists_2b, grid_2b._data[1]])"
   ]
  },
  {
   "cell_type": "code",
   "execution_count": null,
   "metadata": {
    "ExecuteTime": {
     "end_time": "2018-05-26T13:39:21.388207Z",
     "start_time": "2018-05-26T13:39:21.242821Z"
    },
    "hidden": true,
    "scrolled": true
   },
   "outputs": [],
   "source": [
    "plt.plot(mapping_dists_2b, -grid_2b(mapping_dists_2b, nu=0))\n",
    "plt.plot(mapping_dists_2b, -grid_2b(mapping_dists_2b, nu=1))\n",
    "plt.show()"
   ]
  },
  {
   "cell_type": "markdown",
   "metadata": {},
   "source": [
    "### 3-body"
   ]
  },
  {
   "cell_type": "code",
   "execution_count": 14,
   "metadata": {
    "ExecuteTime": {
     "end_time": "2018-05-26T13:56:47.893635Z",
     "start_time": "2018-05-26T13:39:21.390579Z"
    }
   },
   "outputs": [],
   "source": [
    "# ----------------------------------------\n",
    "# Mapping 3b\n",
    "# ----------------------------------------\n",
    "\n",
    "mapping_dists_3b = np.linspace(grid_start, r_cut, num_3b)\n",
    "grid_3b = gp_3.build_grid(mapping_dists_3b, elementslist[0])\n"
   ]
  },
  {
   "cell_type": "code",
   "execution_count": 15,
   "metadata": {
    "ExecuteTime": {
     "end_time": "2018-05-26T13:56:48.017248Z",
     "start_time": "2018-05-26T13:56:47.896048Z"
    }
   },
   "outputs": [],
   "source": [
    "remap_3d_name = 'MFF_{}b_ntr_{}_sig_{:.2f}_cut_{:.2f}_num_{}.npy'.format(3, ntr, sigma_3b, r_cut, num_3b)\n",
    "#np.save(directory / remap_3d_name, [elementslist, mapping_dists_3b, grid_3b.data])"
   ]
  },
  {
   "cell_type": "code",
   "execution_count": 16,
   "metadata": {
    "ExecuteTime": {
     "end_time": "2018-05-26T13:56:50.129197Z",
     "start_time": "2018-05-26T13:56:48.020340Z"
    },
    "scrolled": false
   },
   "outputs": [
    {
     "data": {
      "image/png": "[encoded data removed]",
      "text/plain": [
       "<Figure size 432x288 with 2 Axes>"
      ]
     },
     "metadata": {},
     "output_type": "display_data"
    }
   ],
   "source": [
    "data = grid_3b.data\n",
    "z_min, z_max = -np.max(np.abs(data)), np.max(np.abs(data))\n",
    "\n",
    "for i in np.arange(0, len(mapping_dists_3b), 20):\n",
    "    plt.title(mapping_dists_3b[i])\n",
    "    dists_k = np.ones_like(mapping_dists_3b) * mapping_dists_3b[i]\n",
    "    plt.pcolor(mapping_dists_3b, mapping_dists_3b, -data[:,:,i], cmap='RdBu', vmin=z_min, vmax=z_max)\n",
    "    plt.colorbar()\n",
    "    plt.axis('equal')\n",
    "    plt.show()"
   ]
  },
  {
   "cell_type": "code",
   "execution_count": 17,
   "metadata": {
    "ExecuteTime": {
     "end_time": "2018-05-26T13:56:52.177734Z",
     "start_time": "2018-05-26T13:56:50.131406Z"
    },
    "scrolled": false
   },
   "outputs": [
    {
     "data": {
      "image/png": "[encoded data removed]",
      "text/plain": [
       "<Figure size 432x288 with 2 Axes>"
      ]
     },
     "metadata": {},
     "output_type": "display_data"
    }
   ],
   "source": [
    "dist_range = mapping_dists_3b\n",
    "dist_range = np.linspace(grid_start, r_cut, 100)\n",
    "\n",
    "num = len(dist_range)\n",
    "\n",
    "for i in range(0, len(mapping_dists_3b), 20):\n",
    "    plt.title(dist_range[i])\n",
    "    X, Y = np.meshgrid(dist_range, dist_range)\n",
    "    g_data = grid_3b(X.flatten(), Y.flatten(), np.ones_like(X.flatten()) * mapping_dists_3b[i]).reshape(num, num)\n",
    "    plt.pcolor(dist_range, dist_range, -g_data, cmap='RdBu', vmin=z_min, vmax=z_max)\n",
    "    plt.colorbar()\n",
    "    plt.axis('equal')\n",
    "\n",
    "    plt.show()"
   ]
  },
  {
   "cell_type": "code",
   "execution_count": null,
   "metadata": {},
   "outputs": [],
   "source": []
  },
  {
   "cell_type": "markdown",
   "metadata": {},
   "source": [
    "## ASE Calculator"
   ]
  },
  {
   "cell_type": "code",
   "execution_count": 18,
   "metadata": {
    "ExecuteTime": {
     "end_time": "2018-05-26T13:56:52.213277Z",
     "start_time": "2018-05-26T13:56:52.179747Z"
    }
   },
   "outputs": [],
   "source": [
    "\n",
    "def rmse(x1, x2):\n",
    "    rms = np.sqrt(np.sum(np.square(x1 - x2), axis=1))\n",
    "    return np.mean(rms), np.std(rms)\n",
    "    "
   ]
  },
  {
   "cell_type": "code",
   "execution_count": null,
   "metadata": {
    "ExecuteTime": {
     "end_time": "2018-05-26T13:56:52.245415Z",
     "start_time": "2018-05-26T13:56:52.215676Z"
    }
   },
   "outputs": [],
   "source": [
    "# grid_2b = TwoBodySingleSpeciesGrid.from_file(str(directory / 'MFF_2b_ntr_20_sig_0.30_cut_4.45.npy'))\n",
    "# grid_3b = ThreeBodySingleSpeciesGrid.from_file(str(directory / 'MFF_3b_ntr_20_sig_0.60_cut_4.45.npy'))\n",
    "\n",
    "# calc = ThreeBodySingleSpecies(r_cut=4.45, grid_2b=grid_2b, grid_3b=grid_3b)\n",
    "\n",
    "\n",
    "# filename = directory / 'movie.xyz'\n",
    "# traj = read(str(filename), index=slice(0,5))\n",
    "# for atoms in traj[0:5]:\n",
    "\n",
    "#     atoms.set_calculator(calc)\n",
    "\n",
    "#     rms_mean, rms_std = rmse(atoms.arrays['force'], atoms.get_forces())\n",
    "#     print('MAEF on forces: {:.4f} +- {:.4f}'.format(rms_mean, rms_std))\n",
    "\n"
   ]
  },
  {
   "cell_type": "code",
   "execution_count": null,
   "metadata": {
    "ExecuteTime": {
     "end_time": "2018-05-26T13:56:52.314544Z",
     "start_time": "2018-05-26T13:56:52.247777Z"
    }
   },
   "outputs": [],
   "source": [
    "calc = TwoBodySingleSpecies(r_cut, grid_2b)\n",
    "\n",
    "filename = directory / 'movie.xyz'\n",
    "traj = read(str(filename), index=slice(0, 5))\n",
    "\n",
    "for atoms in traj:\n",
    "\n",
    "    atoms.set_calculator(calc)\n",
    "\n",
    "    rms_mean, rms_std = rmse(atoms.arrays['force'], atoms.get_forces())\n",
    "    print('MAEF on forces: {:.4f} +- {:.4f}'.format(rms_mean, rms_std))\n",
    "    \n",
    "f2 = atoms.get_forces()"
   ]
  },
  {
   "cell_type": "code",
   "execution_count": 23,
   "metadata": {
    "ExecuteTime": {
     "end_time": "2018-05-26T13:56:53.866250Z",
     "start_time": "2018-05-26T13:56:52.316499Z"
    },
    "scrolled": false
   },
   "outputs": [
    {
     "name": "stderr",
     "output_type": "stream",
     "text": [
      "INFO:m_ff.calculators:numbers is in system_changes\n",
      "INFO:m_ff.calculators:initialize\n"
     ]
    },
    {
     "name": "stdout",
     "output_type": "stream",
     "text": [
      "MAEF on forces: 0.5480 +- 0.2582\n",
      "MAEF on forces: 0.8749 +- 0.4240\n",
      "MAEF on forces: 0.8495 +- 0.4078\n",
      "MAEF on forces: 0.7100 +- 0.3273\n",
      "MAEF on forces: 0.5702 +- 0.2616\n"
     ]
    }
   ],
   "source": [
    "calc = ThreeBodySingleSpecies(r_cut, grid_3b)\n",
    "\n",
    "filename = directory / 'movie.xyz'\n",
    "traj = read(str(filename), index=slice(0, 5))\n",
    "\n",
    "for atoms in traj:\n",
    "\n",
    "    atoms.set_calculator(calc)\n",
    "    rms_mean, rms_std = rmse(atoms.arrays['force'],  atoms.get_forces()/2.)\n",
    "    print('MAEF on forces: {:.4f} +- {:.4f}'.format(rms_mean, rms_std))\n",
    "\n",
    "f3 = atoms.get_forces()"
   ]
  },
  {
   "cell_type": "code",
   "execution_count": null,
   "metadata": {
    "ExecuteTime": {
     "end_time": "2018-05-26T13:56:55.178808Z",
     "start_time": "2018-05-26T13:56:53.868366Z"
    }
   },
   "outputs": [],
   "source": [
    "calc = CombinedSingleSpecies(r_cut, grid_2b, grid_3b)\n",
    "\n",
    "filename = directory / 'movie.xyz'\n",
    "traj = read(str(filename), index=slice(0, 5))\n",
    "\n",
    "for atoms in traj:\n",
    "\n",
    "    atoms.set_calculator(calc)\n",
    "\n",
    "    rms_mean, rms_std = rmse(atoms.arrays['force'], atoms.get_forces())\n",
    "    print('MAEF on forces: {:.4f} +- {:.4f}'.format(rms_mean, rms_std))\n",
    "\n",
    "f23 = atoms.get_forces()"
   ]
  },
  {
   "cell_type": "code",
   "execution_count": null,
   "metadata": {
    "ExecuteTime": {
     "end_time": "2018-05-26T13:56:55.211231Z",
     "start_time": "2018-05-26T13:56:55.180681Z"
    }
   },
   "outputs": [],
   "source": [
    "np.allclose(f2 + f3, f23)"
   ]
  },
  {
   "cell_type": "code",
   "execution_count": null,
   "metadata": {},
   "outputs": [],
   "source": []
  },
  {
   "cell_type": "code",
   "execution_count": null,
   "metadata": {},
   "outputs": [],
   "source": []
  },
  {
   "cell_type": "markdown",
   "metadata": {},
   "source": [
    "## Manual tests"
   ]
  },
  {
   "cell_type": "code",
   "execution_count": 19,
   "metadata": {
    "scrolled": true
   },
   "outputs": [
    {
     "name": "stdout",
     "output_type": "stream",
     "text": [
      "0\n",
      "10\n",
      "20\n",
      "30\n",
      "40\n",
      "50\n",
      "60\n",
      "70\n",
      "80\n"
     ]
    },
    {
     "name": "stderr",
     "output_type": "stream",
     "text": [
      "INFO:m_ff.calculators:numbers is in system_changes\n",
      "INFO:m_ff.calculators:initialize\n"
     ]
    },
    {
     "name": "stdout",
     "output_type": "stream",
     "text": [
      "90\n",
      "MAEF on forces: 0.8555 +- 0.5093\n"
     ]
    }
   ],
   "source": [
    "\n",
    "from asap3 import FullNeighborList\n",
    "\n",
    "calc = ThreeBodySingleSpecies(r_cut, grid_3b)\n",
    "\n",
    "filename = directory / 'movie.xyz'\n",
    "traj = read(str(filename), index=slice(0, 5))\n",
    "\n",
    "for atoms in traj[0:1]:\n",
    "    force = atoms.arrays['force']\n",
    "    \n",
    "    atoms.set_calculator(calc)\n",
    "\n",
    "    nl = FullNeighborList(r_cut, atoms=atoms, driftfactor=0.)\n",
    "    \n",
    "    gp_force = np.zeros((len(atoms),3))\n",
    "    \n",
    "    for i in range(len(atoms)):\n",
    "        if i%10 == 0: print(i)\n",
    "        conf = nl.get_neighbors(i)[1]\n",
    "        elements = np.ones((conf.shape[0], 2))*elementslist[0]\n",
    "        conf = np.hstack((conf, elements))\n",
    "        gp_force[i,:] = gp_3.predict(np.array([conf])).flatten()\n",
    "        \n",
    "    rms_mean, rms_std = rmse(force,  atoms.get_forces())\n",
    "    print('MAEF on forces: {:.4f} +- {:.4f}'.format(rms_mean, rms_std))\n"
   ]
  },
  {
   "cell_type": "code",
   "execution_count": null,
   "metadata": {},
   "outputs": [],
   "source": []
  },
  {
   "cell_type": "code",
   "execution_count": 20,
   "metadata": {},
   "outputs": [
    {
     "data": {
      "text/plain": [
       "array([0.16679079, 0.88558956, 0.        ])"
      ]
     },
     "execution_count": 20,
     "metadata": {},
     "output_type": "execute_result"
    }
   ],
   "source": [
    "gp_force[0]"
   ]
  },
  {
   "cell_type": "code",
   "execution_count": 21,
   "metadata": {},
   "outputs": [
    {
     "data": {
      "text/plain": [
       "array([0.10471069, 0.89021256, 0.        ])"
      ]
     },
     "execution_count": 21,
     "metadata": {},
     "output_type": "execute_result"
    }
   ],
   "source": [
    "atoms.arrays['force'][0]"
   ]
  },
  {
   "cell_type": "code",
   "execution_count": 22,
   "metadata": {},
   "outputs": [
    {
     "data": {
      "text/plain": [
       "array([0.17538345, 0.90302246, 0.        ])"
      ]
     },
     "execution_count": 22,
     "metadata": {},
     "output_type": "execute_result"
    }
   ],
   "source": [
    "atoms.get_forces()[0]"
   ]
  },
  {
   "cell_type": "code",
   "execution_count": null,
   "metadata": {},
   "outputs": [],
   "source": [
    "traj[0].calc.results['forces'][0]"
   ]
  },
  {
   "cell_type": "code",
   "execution_count": null,
   "metadata": {},
   "outputs": [],
   "source": [
    "\n",
    "forces = np.zeros((len(atoms), 3))\n",
    "potential_energies = np.zeros((len(atoms), 1))\n",
    "\n",
    "indices, distances, positions = calc.find_triplets()\n",
    "\n",
    "d_ij, d_jk, d_ki = np.hsplit(distances, 3)\n",
    "mapped = calc.grid_3b.ev_all(d_ij, d_jk, d_ki)\n",
    "\n",
    "for (i, j, k), energy, dE_ij, dE_jk, dE_ki in zip(indices, mapped[0], mapped[1], mapped[2], mapped[3]):\n",
    "    forces[i] += (- positions[(i, j)] * dE_ij - positions[(i, k)] * dE_ki)/2.\n",
    "    forces[j] += (- positions[(j, k)] * dE_jk - positions[(j, i)] * dE_ij)/2.\n",
    "    forces[k] += (- positions[(k, i)] * dE_ki - positions[(k, j)] * dE_jk)/2.\n",
    "    \n",
    "    potential_energies[[i, j, k]] += energy\n",
    "\n",
    "#print(forces)   \n",
    "\n",
    "if 'energy' in calc.results:\n",
    "    calc.results['energy'] += np.sum(potential_energies)\n",
    "else:\n",
    "    self.results['energy'] = np.sum(potential_energies)\n",
    "\n",
    "if 'forces' in calc.results:\n",
    "    calc.results['forces'] += forces\n",
    "else:\n",
    "    self.results['forces'] = forces\n",
    "    \n",
    "    "
   ]
  },
  {
   "cell_type": "code",
   "execution_count": null,
   "metadata": {},
   "outputs": [],
   "source": [
    "c = tst_confs[np.random.randint(25)]"
   ]
  },
  {
   "cell_type": "code",
   "execution_count": null,
   "metadata": {},
   "outputs": [],
   "source": [
    "global_gp_force = np.zeros(3)\n",
    "global_m_force = np.zeros(3)\n",
    "global_gp_force2 = gp_3.predict(np.array([c]))\n",
    "\n",
    "for i in np.arange(c.shape[0]):\n",
    "    for j in np.arange(i):\n",
    "        r1, r2 = c[i, 0:3], c[j,0:3]\n",
    "        r3 = r2-r1\n",
    "        d1, d2, d3 = np.linalg.norm(r1) , np.linalg.norm(r2) , np.linalg.norm(r3)          \n",
    "        n1, n2, n3 = r1/d1, r2/d2, r3/d3\n",
    "        \n",
    "        local_conf = np.array([[c[i],c[j]]])\n",
    "        \n",
    "        gp_e = gp_3.predict_energy(local_conf)\n",
    "        gp_f = gp_3.predict(local_conf)\n",
    "        \n",
    "        if d1<= r_cut and d2 <= r_cut and d3 <= r_cut:\n",
    "            e, de1, de2, de3 = calc.grid_3b.ev_all(d1, d2, d3)\n",
    "        \n",
    "            f = (- de1 * r1 - de2 * r2)/1.\n",
    "            global_m_force += f.flatten()\n",
    "        else:\n",
    "            assert((gp_f == np.zeros(3)).all())\n",
    "        \n",
    "        global_gp_force += gp_f.flatten()\n",
    "        \n"
   ]
  },
  {
   "cell_type": "code",
   "execution_count": null,
   "metadata": {},
   "outputs": [],
   "source": [
    "#global_gp_force - global_m_force"
   ]
  },
  {
   "cell_type": "code",
   "execution_count": null,
   "metadata": {
    "scrolled": true
   },
   "outputs": [],
   "source": [
    "global_m_force"
   ]
  },
  {
   "cell_type": "code",
   "execution_count": null,
   "metadata": {
    "scrolled": true
   },
   "outputs": [],
   "source": [
    "global_gp_force"
   ]
  },
  {
   "cell_type": "code",
   "execution_count": null,
   "metadata": {},
   "outputs": [],
   "source": [
    "global_gp_force2"
   ]
  },
  {
   "cell_type": "code",
   "execution_count": null,
   "metadata": {},
   "outputs": [],
   "source": [
    "np.nanmean(global_m_force/global_gp_force)"
   ]
  },
  {
   "cell_type": "code",
   "execution_count": null,
   "metadata": {},
   "outputs": [],
   "source": [
    "calc.grid_3b.ev_all(3, 3, 3)"
   ]
  },
  {
   "cell_type": "code",
   "execution_count": null,
   "metadata": {},
   "outputs": [],
   "source": [
    "xgrid = np.linspace(2., 4.45, 100)\n",
    "profile = np.zeros(xgrid.shape[0])\n",
    "grad = np.zeros(xgrid.shape[0])\n",
    "for i in np.arange(xgrid.shape[0]):\n",
    "    profile[i] = calc.grid_3b.ev_all(xgrid[i], 2.3, 3)[0] \n",
    "    grad[i] = calc.grid_3b.ev_all(xgrid[i], 2.3, 3)[1]\n",
    "\n",
    "npgrad = np.gradient(profile, xgrid )"
   ]
  },
  {
   "cell_type": "code",
   "execution_count": null,
   "metadata": {},
   "outputs": [],
   "source": []
  },
  {
   "cell_type": "code",
   "execution_count": null,
   "metadata": {},
   "outputs": [],
   "source": [
    "#plt.plot(xgrid, profile)\n",
    "plt.plot(xgrid, grad)\n",
    "plt.plot(xgrid, npgrad)\n"
   ]
  },
  {
   "cell_type": "code",
   "execution_count": null,
   "metadata": {},
   "outputs": [],
   "source": []
  }
 ],
 "metadata": {
  "kernelspec": {
   "display_name": "Python 3",
   "language": "python",
   "name": "python3"
  },
  "language_info": {
   "codemirror_mode": {
    "name": "ipython",
    "version": 3
   },
   "file_extension": ".py",
   "mimetype": "text/x-python",
   "name": "python",
   "nbconvert_exporter": "python",
   "pygments_lexer": "ipython3",
   "version": "3.6.5"
  },
  "toc": {
   "base_numbering": 1,
   "nav_menu": {
    "height": "170px",
    "width": "182px"
   },
   "number_sections": false,
   "sideBar": true,
   "skip_h1_title": true,
   "title_cell": "Table of Contents",
   "title_sidebar": "Contents",
   "toc_cell": false,
   "toc_position": {
    "height": "calc(100% - 180px)",
    "left": "10px",
    "top": "150px",
    "width": "165px"
   },
   "toc_section_display": true,
   "toc_window_display": true
  }
 },
 "nbformat": 4,
 "nbformat_minor": 2
}
