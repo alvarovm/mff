{
 "cells": [
  {
   "cell_type": "code",
   "execution_count": 2,
   "metadata": {
    "ExecuteTime": {
     "end_time": "2018-07-26T09:27:21.388380Z",
     "start_time": "2018-07-26T09:27:21.306824Z"
    }
   },
   "outputs": [
    {
     "name": "stdout",
     "output_type": "stream",
     "text": [
      "The autoreload extension is already loaded. To reload it, use:\n",
      "  %reload_ext autoreload\n"
     ]
    }
   ],
   "source": [
    "import sys\n",
    "sys.path.append('..')\n",
    "%matplotlib inline\n",
    "%load_ext autoreload\n",
    "%autoreload 2\n",
    "import os\n",
    "import logging\n",
    "from pathlib import Path\n",
    "\n",
    "import numpy as np\n",
    "import matplotlib.pyplot as plt\n",
    "\n",
    "from ase import Atoms\n",
    "from ase.io import read\n",
    "\n",
    "from m_ff.configurations import carve_confs\n",
    "from m_ff.models import TwoBodySingleSpeciesModel, ThreeBodySingleSpeciesModel, CombinedSingleSpeciesModel\n",
    "\n",
    "logging.basicConfig(level=logging.INFO)"
   ]
  },
  {
   "cell_type": "markdown",
   "metadata": {
    "ExecuteTime": {
     "end_time": "2018-06-12T11:07:25.784152Z",
     "start_time": "2018-06-12T11:07:25.751100Z"
    }
   },
   "source": [
    "## Parameters"
   ]
  },
  {
   "cell_type": "code",
   "execution_count": 3,
   "metadata": {
    "ExecuteTime": {
     "end_time": "2018-07-26T09:27:22.714760Z",
     "start_time": "2018-07-26T09:27:22.681738Z"
    }
   },
   "outputs": [],
   "source": [
    "# Parameters\n",
    "directory = Path('data/BIP_300/')\n",
    "r_cut = 8.4 # 8.4 to get the sensible energy files for BIP_300\n",
    "sigma_2b = 0.2\n",
    "sigma_3b = 1.2\n",
    "noise = 0.003\n",
    "\n",
    "# GP Parameters\n",
    "ntr = 10\n",
    "ntest = 50\n",
    "\n",
    "# mapping\n",
    "grid_start = 1.5\n",
    "num_2b = 200\n",
    "num_3b = 100\n"
   ]
  },
  {
   "cell_type": "markdown",
   "metadata": {},
   "source": [
    "## Configurations"
   ]
  },
  {
   "cell_type": "code",
   "execution_count": 4,
   "metadata": {
    "ExecuteTime": {
     "end_time": "2018-07-26T09:27:27.848948Z",
     "start_time": "2018-07-26T09:27:27.742787Z"
    }
   },
   "outputs": [],
   "source": [
    "# Get configurations and forces from file\n",
    "elementslist = [28]\n",
    "confs = np.load(directory / 'confs_cut={:.2f}.npy'.format(r_cut))\n",
    "forces = np.load(directory / 'forces_cut={:.2f}.npy'.format(r_cut))\n",
    "energies = np.load(directory / 'energies_cut={:.2f}.npy'.format(r_cut))\n",
    "numconfs = len(forces)\n",
    "ind = np.arange(numconfs)\n",
    "ind_tot = np.random.choice(ind, size=ntr + ntest, replace=False)\n",
    "\n",
    "energies = np.repeat(energies, 19)\n",
    "energies = energies - np.mean(energies)\n",
    "# Separate into random testing and training dataset\n",
    "# tr_confs, tr_forces, tr_energies = confs[ind_tot[:ntr]], forces[ind_tot[:ntr]], energies[ind_tot[:ntr]]\n",
    "# tst_confs, tst_forces, tst_energies = confs[ind_tot[ntr:]], forces[ind_tot[ntr:]], energies[ind_tot[ntr:]]\n",
    "\n",
    "# # Use fixed training and testing dataset\n",
    "tr_confs, tr_forces, tr_energies = confs[0::20][:ntr], forces[0::20][:ntr],  energies[0::20][:ntr]\n",
    "tst_confs, tst_forces, tst_energies = confs[0::20][-ntest - 1:-1], forces[0::20][-ntest - 1:-1], energies[0::20][-ntest - 1:-1]"
   ]
  },
  {
   "cell_type": "markdown",
   "metadata": {},
   "source": [
    "## GP"
   ]
  },
  {
   "cell_type": "code",
   "execution_count": 30,
   "metadata": {
    "ExecuteTime": {
     "end_time": "2018-07-26T09:58:38.439299Z",
     "start_time": "2018-07-26T09:58:27.938031Z"
    }
   },
   "outputs": [
    {
     "name": "stderr",
     "output_type": "stream",
     "text": [
      "INFO:m_ff.kernels.threebodykernel:Started compilation of theano three body kernels\n",
      "INFO:m_ff.kernels.threebodykernel:Ended compilation of theano three body kernels\n"
     ]
    }
   ],
   "source": [
    "# model_c = CombinedSingleSpeciesModel(elementslist[0], r_cut, sigma_2b, sigma_3b, r_cut / 10.0, r_cut / 10.0, noise)\n",
    "model_c = ThreeBodySingleSpeciesModel(elementslist[0], r_cut, sigma_3b, r_cut / 10.0, noise)\n",
    "# model_c = TwoBodySingleSpeciesModel(elementslist[0], r_cut, sigma_2b, r_cut / 10.0, noise)"
   ]
  },
  {
   "cell_type": "code",
   "execution_count": 31,
   "metadata": {
    "ExecuteTime": {
     "end_time": "2018-07-26T09:58:49.738068Z",
     "start_time": "2018-07-26T09:58:38.442666Z"
    }
   },
   "outputs": [],
   "source": [
    "# model_c.fit(tr_confs, tr_forces)\n",
    "# model_c.fit_energy(tr_confs, tr_energies)\n",
    "model_c.fit_force_and_energy(tr_confs, tr_forces, tr_energies)"
   ]
  },
  {
   "cell_type": "code",
   "execution_count": 32,
   "metadata": {
    "ExecuteTime": {
     "end_time": "2018-07-26T09:59:51.670281Z",
     "start_time": "2018-07-26T09:58:49.740274Z"
    }
   },
   "outputs": [
    {
     "name": "stdout",
     "output_type": "stream",
     "text": [
      "Testing GP\n",
      "MAEF on forces:  0.2089 +- 0.0832\n",
      "MAE on energies: 0.2563 +- 0.1112\n"
     ]
    }
   ],
   "source": [
    "# Test the GP performance\n",
    "print('Testing GP')\n",
    "\n",
    "gp_forces = np.zeros((ntest, 3))\n",
    "gp_energies = np.zeros(ntest)\n",
    "\n",
    "for i in np.arange(ntest):\n",
    "    gp_forces[i, :] = model_c.predict(np.reshape(tst_confs[i], (1, len(tst_confs[i]), 5)))\n",
    "    gp_energies[i] = model_c.predict_energy(np.reshape(tst_confs[i], (1, len(tst_confs[i]), 5)))\n",
    "                \n",
    "force_error = gp_forces - tst_forces\n",
    "energy_error = gp_energies - tst_energies\n",
    "\n",
    "MAEF = np.mean(np.sqrt(np.sum(np.square(force_error), axis=1)))\n",
    "SMAEF = np.std(np.sqrt(np.sum(np.square(force_error), axis=1)))\n",
    "\n",
    "MAE = np.mean(np.abs(energy_error))\n",
    "SMAE = np.std(np.abs(energy_error))\n",
    "\n",
    "MF = np.mean(np.linalg.norm(tst_forces, axis=1))\n",
    "\n",
    "print('MAEF on forces:  {:.4f} +- {:.4f}'.format(MAEF, SMAEF))\n",
    "print('MAE on energies: {:.4f} +- {:.4f}'.format(MAE, SMAE))"
   ]
  },
  {
   "cell_type": "code",
   "execution_count": 33,
   "metadata": {
    "ExecuteTime": {
     "end_time": "2018-07-26T09:59:51.947588Z",
     "start_time": "2018-07-26T09:59:51.673493Z"
    }
   },
   "outputs": [
    {
     "data": {
      "image/png": "[encoded data removed]",
      "text/plain": [
       "<Figure size 432x288 with 1 Axes>"
      ]
     },
     "metadata": {},
     "output_type": "display_data"
    }
   ],
   "source": [
    "plt.scatter(tst_forces, gp_forces)\n",
    "plt.plot(tst_forces, tst_forces, 'k-')\n",
    "plt.show()"
   ]
  },
  {
   "cell_type": "code",
   "execution_count": 34,
   "metadata": {
    "ExecuteTime": {
     "end_time": "2018-07-26T09:59:52.139177Z",
     "start_time": "2018-07-26T09:59:51.956340Z"
    }
   },
   "outputs": [
    {
     "data": {
      "image/png": "[encoded data removed]",
      "text/plain": [
       "<Figure size 432x288 with 1 Axes>"
      ]
     },
     "metadata": {},
     "output_type": "display_data"
    }
   ],
   "source": [
    "plt.scatter(tst_energies, gp_energies)\n",
    "plt.plot(tst_energies, tst_energies, 'k-')\n",
    "plt.show()"
   ]
  },
  {
   "cell_type": "code",
   "execution_count": 11,
   "metadata": {
    "ExecuteTime": {
     "end_time": "2018-07-26T09:28:49.741141Z",
     "start_time": "2018-07-26T09:28:49.488519Z"
    }
   },
   "outputs": [
    {
     "data": {
      "image/png": "[encoded data removed]",
      "text/plain": [
       "<Figure size 288x288 with 2 Axes>"
      ]
     },
     "metadata": {},
     "output_type": "display_data"
    }
   ],
   "source": [
    "plt.matshow(np.abs(model_c.gp.K))\n",
    "# diag = np.diag(model_c.gp.energy_K)\n",
    "# distance = np.sqrt(diag[:,None]+ diag[None,:] - 2*model_c.gp.energy_K)\n",
    "# plt.matshow(distance)\n",
    "\n",
    "plt.colorbar()\n",
    "plt.show()"
   ]
  },
  {
   "cell_type": "code",
   "execution_count": 12,
   "metadata": {
    "ExecuteTime": {
     "end_time": "2018-07-26T09:28:55.634304Z",
     "start_time": "2018-07-26T09:28:55.441177Z"
    }
   },
   "outputs": [
    {
     "data": {
      "image/png": "[encoded data removed]",
      "text/plain": [
       "<Figure size 288x288 with 2 Axes>"
      ]
     },
     "metadata": {},
     "output_type": "display_data"
    }
   ],
   "source": [
    "# plt.matshow(abs(model_c.gp.L_))\n",
    "diag = np.diag(model_c.gp.K)\n",
    "distance = np.sqrt(diag[:,None]+ diag[None,:] - 2*model_c.gp.K)\n",
    "plt.matshow(distance)\n",
    "\n",
    "plt.colorbar()\n",
    "plt.show()"
   ]
  },
  {
   "cell_type": "markdown",
   "metadata": {},
   "source": [
    "## Mapping"
   ]
  },
  {
   "cell_type": "code",
   "execution_count": 36,
   "metadata": {
    "ExecuteTime": {
     "end_time": "2018-07-26T10:32:55.019649Z",
     "start_time": "2018-07-26T10:01:44.575605Z"
    }
   },
   "outputs": [],
   "source": [
    "# model_c.build_grid(grid_start, num_2b, num_3b)\n",
    "model_c.build_grid(grid_start, num_3b)"
   ]
  },
  {
   "cell_type": "markdown",
   "metadata": {},
   "source": [
    "## Test Mapping on GP"
   ]
  },
  {
   "cell_type": "code",
   "execution_count": 72,
   "metadata": {
    "ExecuteTime": {
     "end_time": "2018-07-26T10:55:01.489868Z",
     "start_time": "2018-07-26T10:55:01.348199Z"
    }
   },
   "outputs": [
    {
     "name": "stderr",
     "output_type": "stream",
     "text": [
      "INFO:m_ff.calculators:numbers is in system_changes\n",
      "INFO:m_ff.calculators:initialize\n"
     ]
    },
    {
     "ename": "IndexError",
     "evalue": "invalid index to scalar variable.",
     "output_type": "error",
     "traceback": [
      "\u001b[0;31m---------------------------------------------------------------------------\u001b[0m",
      "\u001b[0;31mIndexError\u001b[0m                                Traceback (most recent call last)",
      "\u001b[0;32m<ipython-input-72-76fc8967b7e3>\u001b[0m in \u001b[0;36m<module>\u001b[0;34m()\u001b[0m\n\u001b[1;32m     15\u001b[0m     \u001b[0matoms\u001b[0m\u001b[0;34m.\u001b[0m\u001b[0mset_calculator\u001b[0m\u001b[0;34m(\u001b[0m\u001b[0mcalc\u001b[0m\u001b[0;34m)\u001b[0m\u001b[0;34m\u001b[0m\u001b[0m\n\u001b[1;32m     16\u001b[0m     \u001b[0mmap_forces\u001b[0m\u001b[0;34m[\u001b[0m\u001b[0mi\u001b[0m\u001b[0;34m]\u001b[0m \u001b[0;34m=\u001b[0m \u001b[0matoms\u001b[0m\u001b[0;34m.\u001b[0m\u001b[0mget_forces\u001b[0m\u001b[0;34m(\u001b[0m\u001b[0;34m)\u001b[0m\u001b[0;34m[\u001b[0m\u001b[0;36m0\u001b[0m\u001b[0;34m]\u001b[0m\u001b[0;34m\u001b[0m\u001b[0m\n\u001b[0;32m---> 17\u001b[0;31m     \u001b[0mmap_energies\u001b[0m\u001b[0;34m[\u001b[0m\u001b[0mi\u001b[0m\u001b[0;34m]\u001b[0m \u001b[0;34m=\u001b[0m \u001b[0matoms\u001b[0m\u001b[0;34m.\u001b[0m\u001b[0mget_potential_energy\u001b[0m\u001b[0;34m(\u001b[0m\u001b[0;34m)\u001b[0m\u001b[0;34m[\u001b[0m\u001b[0;36m0\u001b[0m\u001b[0;34m]\u001b[0m\u001b[0;34m\u001b[0m\u001b[0m\n\u001b[0m\u001b[1;32m     18\u001b[0m     \u001b[0mgp_energies\u001b[0m\u001b[0;34m[\u001b[0m\u001b[0mi\u001b[0m\u001b[0;34m]\u001b[0m \u001b[0;34m=\u001b[0m \u001b[0mmodel_c\u001b[0m\u001b[0;34m.\u001b[0m\u001b[0mpredict_energy\u001b[0m\u001b[0;34m(\u001b[0m\u001b[0mnp\u001b[0m\u001b[0;34m.\u001b[0m\u001b[0mreshape\u001b[0m\u001b[0;34m(\u001b[0m\u001b[0mtst_confs\u001b[0m\u001b[0;34m[\u001b[0m\u001b[0mi\u001b[0m\u001b[0;34m]\u001b[0m\u001b[0;34m,\u001b[0m \u001b[0;34m(\u001b[0m\u001b[0;36m1\u001b[0m\u001b[0;34m,\u001b[0m \u001b[0mlen\u001b[0m\u001b[0;34m(\u001b[0m\u001b[0mtst_confs\u001b[0m\u001b[0;34m[\u001b[0m\u001b[0mi\u001b[0m\u001b[0;34m]\u001b[0m\u001b[0;34m)\u001b[0m\u001b[0;34m,\u001b[0m \u001b[0;36m5\u001b[0m\u001b[0;34m)\u001b[0m\u001b[0;34m)\u001b[0m\u001b[0;34m)\u001b[0m\u001b[0;34m\u001b[0m\u001b[0m\n\u001b[1;32m     19\u001b[0m \u001b[0;34m\u001b[0m\u001b[0m\n",
      "\u001b[0;31mIndexError\u001b[0m: invalid index to scalar variable."
     ]
    }
   ],
   "source": [
    "from m_ff.calculators import TwoBodySingleSpecies, ThreeBodySingleSpecies, CombinedSingleSpecies\n",
    "\n",
    "calc = ThreeBodySingleSpecies(r_cut, model_c.grid[(elementslist[0], elementslist[0], elementslist[0])])\n",
    "# calc = TwoBodySingleSpecies(r_cut, model_c.grid[(elementslist[0], elementslist[0])], rep_alpha = 0.0)\n",
    "# calc = CombinedSingleSpecies(r_cut, model_c.grid[(elementslist[0], elementslist[0])], model_c.grid[(elementslist[0], elementslist[0], elementslist[0])], \\\n",
    "#                              rep_alpha = 0.0)\n",
    "\n",
    "map_forces = np.zeros((ntest,3))\n",
    "map_energies = np.zeros(ntest)\n",
    "gp_energies = np.zeros(ntest)\n",
    "for i in np.arange(ntest):\n",
    "    numatoms = len(tst_confs[i][:,:3])+1\n",
    "#     atoms = Atoms('Ni19', positions = np.vstack(([0.0, 0.0, 0.0], tst_confs[i][:,:3])), cell = 21.0*np.eye(3), pbc = [0, 0, 0] )\n",
    "    atoms = Atoms('Ni%i' %(numatoms), positions = np.vstack(([0.0, 0.0, 0.0], tst_confs[i][:,:3])), cell = 21.0*np.eye(3), pbc = [0, 0, 0] )\n",
    "    atoms.set_calculator(calc)\n",
    "    map_forces[i] = atoms.get_forces()[0]\n",
    "    map_energies[i] = atoms.get_potential_energy(0)\n",
    "    gp_energies[i] = model_c.predict_energy(np.reshape(tst_confs[i], (1, len(tst_confs[i]), 5)))\n",
    "\n",
    "map_error = gp_forces - map_forces  \n",
    "energy_error = gp_energies - map_energies\n",
    "MAEF = np.mean(np.sqrt(np.sum(np.square(map_error), axis=1)))\n",
    "SMAEF = np.std(np.sqrt(np.sum(np.square(map_error), axis=1)))\n",
    "\n",
    "MF = np.mean(np.linalg.norm(tst_forces, axis=1))\n",
    "# print(np.mean(np.sqrt(np.mean(np.square(map_forces), axis = 1))))\n",
    "print('MAEF on forces: {:.4f} +- {:.4f}'.format(MAEF, SMAEF))\n",
    "#     print('Relative MAEF on forces: {:.4f} +- {:.4f}'.format(MAEF / MF, SMAEF / MF))"
   ]
  },
  {
   "cell_type": "code",
   "execution_count": 71,
   "metadata": {
    "ExecuteTime": {
     "end_time": "2018-07-26T10:54:19.295887Z",
     "start_time": "2018-07-26T10:54:19.263137Z"
    }
   },
   "outputs": [
    {
     "data": {
      "text/plain": [
       "array([ 0.1006353 ,  0.06555088,  0.01737561,  0.17807218,  0.02836893,\n",
       "        0.12012974,  0.14361698,  0.20216593,  0.15899922,  0.18943031,\n",
       "        0.1911506 ,  0.02423323,  0.05021078,  0.03617001,  0.17797671,\n",
       "       -0.05403239,  0.03322589,  0.24857123, -0.14317   ,  0.04634741,\n",
       "        0.06812281,  0.03080674,  0.02937339, -0.20694536, -0.06940461,\n",
       "        0.0204848 ,  0.2134665 , -0.06600333,  0.04788283,  0.11977905,\n",
       "        0.1367812 ,  0.1162682 ,  0.1696397 ,  0.14346116,  0.09663201,\n",
       "        0.16958415,  0.22125063, -0.04798212,  0.0908457 ,  0.02356609,\n",
       "       -0.09812682,  0.02285668, -0.02254621,  0.17944684, -0.09271213,\n",
       "        0.0709704 ,  0.03531622, -0.00294271, -0.04700861,  0.05077196])"
      ]
     },
     "execution_count": 71,
     "metadata": {},
     "output_type": "execute_result"
    }
   ],
   "source": []
  },
  {
   "cell_type": "code",
   "execution_count": 61,
   "metadata": {
    "ExecuteTime": {
     "end_time": "2018-07-26T10:48:24.195496Z",
     "start_time": "2018-07-26T10:48:23.104225Z"
    }
   },
   "outputs": [
    {
     "name": "stdout",
     "output_type": "stream",
     "text": [
      "[-0.12862253 -0.00264319  0.        ] [[-0.06511187 -0.03449926  0.        ]]\n",
      "[ 0.01218898 -0.06296959  0.        ] [[-0.00250781 -0.06161733  0.        ]]\n",
      "[ 0.04628615 -0.08399869  0.        ] [[ 0.03469848 -0.08392164  0.        ]]\n",
      "[ 0.04062265 -0.08892666  0.        ] [[ 0.0268778 -0.0865384  0.       ]]\n",
      "[-0.02077004 -0.0579659   0.        ] [[-0.03053204 -0.05806066  0.        ]]\n",
      "[ 0.18456401 -0.05165494  0.        ] [[ 0.14921356 -0.04817779  0.        ]]\n",
      "[ 0.18582515 -0.07059203  0.        ] [[ 0.17502592 -0.07101577  0.        ]]\n",
      "[ 0.17632342 -0.08117278  0.        ] [[ 0.17332615 -0.08659357  0.        ]]\n",
      "[ 0.12796176 -0.08545187  0.        ] [[ 0.12949708 -0.08206437  0.        ]]\n",
      "[ 0.04302044 -0.0478452   0.        ] [[ 0.04306978 -0.04789692  0.        ]]\n",
      "[ 0.2464194  -0.05123722  0.        ] [[ 0.27546486 -0.06415943  0.        ]]\n",
      "[ 0.29466292 -0.09217595  0.        ] [[ 0.27927087 -0.0855441   0.        ]]\n",
      "[ 0.25604714 -0.09763943  0.        ] [[ 0.25496131 -0.09667966  0.        ]]\n",
      "[ 0.19256589 -0.08576752  0.        ] [[ 0.19259403 -0.0859448   0.        ]]\n",
      "[ 0.09681906 -0.0472903   0.        ] [[ 0.09681887 -0.04735797  0.        ]]\n",
      "[ 0.64208957 -0.19392525  0.        ] [[ 0.3311749 -0.0775803  0.       ]]\n",
      "[ 0.34347542 -0.10911798  0.        ] [[ 0.32181868 -0.09699893  0.        ]]\n",
      "[ 0.28378316 -0.10287065  0.        ] [[ 0.28424997 -0.10310893  0.        ]]\n",
      "[ 0.21413858 -0.08712163  0.        ] [[ 0.214084   -0.08708887  0.        ]]\n",
      "[ 0.12170748 -0.04862232  0.        ] [[ 0.12175946 -0.04867389  0.        ]]\n",
      "[ 0.57965246 -0.17889297  0.        ] [[ 0.28611084 -0.07627359  0.        ]]\n",
      "[ 0.26839132 -0.09027254  0.        ] [[ 0.26700251 -0.09011653  0.        ]]\n",
      "[ 0.22409207 -0.08950018  0.        ] [[ 0.22310084 -0.08953371  0.        ]]\n",
      "[ 0.1562895  -0.07015977  0.        ] [[ 0.15642531 -0.07012623  0.        ]]\n",
      "[ 0.08180723 -0.0371902   0.        ] [[ 0.08199322 -0.03722233  0.        ]]\n",
      "MAEF on forces: 0.0360 +- 0.0857\n"
     ]
    }
   ],
   "source": [
    "from m_ff.calculators import TwoBodySingleSpecies, ThreeBodySingleSpecies, CombinedSingleSpecies\n",
    "\n",
    "# calc = CombinedSingleSpecies(r_cut, model_c.grid[(elementslist[0], elementslist[0])], model_c.grid[(elementslist[0], elementslist[0], elementslist[0])], \\\n",
    "#                              rep_alpha = 0.0)\n",
    "# calc = ThreeBodySingleSpecies(r_cut, model_c.grid[(elementslist[0], elementslist[0], elementslist[0])])\n",
    "# calc = TwoBodySingleSpecies(r_cut, model_c.grid[(elementslist[0], elementslist[0])], rep_alpha = 1.3)\n",
    "\n",
    "reps = 5\n",
    "map_error = np.zeros((reps**2, 3))\n",
    "for i in np.arange(reps):\n",
    "    for j in np.arange(reps):\n",
    "        for k in np.arange(1):\n",
    "            for l in np.arange(1):\n",
    "                conf = np.asarray([[0.0, 0.0, 0.0, 28, 28],[1.5+i*0.4, 0.0, 0.0, 28, 28], [-4.0, 1.5+j*0.4, 0.0, 28, 28]])\n",
    "                atoms = Atoms('Ni3', positions = conf[:,:3], cell = 21.0*np.eye(3), pbc = [0, 0, 0] )\n",
    "                atoms.set_calculator(calc)\n",
    "                map_forces = atoms.get_forces()\n",
    "                small_gp_forces = model_c.predict(np.reshape(conf[1:], (1,2,5)))\n",
    "                print(map_forces[0], small_gp_forces)\n",
    "#                 print(atoms.get_potential_energy(0), model_c.predict_energy(np.reshape(conf[1:], (1,2,5))))\n",
    "                map_error[i*reps+j]= small_gp_forces - map_forces[0]\n",
    "\n",
    "    #             MAEF = np.mean(np.sqrt(np.sum(np.square(map_error), axis=1)))\n",
    "    #             SMAEF = np.std(np.sqrt(np.sum(np.square(map_error), axis=1)))\n",
    "\n",
    "    #             MF = np.mean(np.linalg.norm(tst_forces, axis=1))\n",
    "            #     print(small_gp_forces)\n",
    "            #     print(map_forces[0])\n",
    "    #             print('MAEF on forces: {:.4f} +- {:.4f}'.format(MAEF, SMAEF))\n",
    "            #     print('Relative MAEF on forces: {:.4f} +- {:.4f}'.format(MAEF / MF, SMAEF / MF))\n",
    "MAEF = np.mean(np.sqrt(np.sum(np.square(map_error), axis=1)))\n",
    "SMAEF = np.std(np.sqrt(np.sum(np.square(map_error), axis=1)))  \n",
    "print('MAEF on forces: {:.4f} +- {:.4f}'.format(MAEF, SMAEF))"
   ]
  },
  {
   "cell_type": "code",
   "execution_count": 40,
   "metadata": {
    "ExecuteTime": {
     "end_time": "2018-07-26T10:43:40.973529Z",
     "start_time": "2018-07-26T10:43:37.290905Z"
    }
   },
   "outputs": [
    {
     "name": "stderr",
     "output_type": "stream",
     "text": [
      "INFO:m_ff.calculators:numbers is in system_changes\n",
      "INFO:m_ff.calculators:initialize\n"
     ]
    }
   ],
   "source": [
    "from m_ff.calculators import TwoBodySingleSpecies, ThreeBodySingleSpecies, CombinedSingleSpecies\n",
    "# calc = CombinedSingleSpecies(r_cut, model_c.grid[(elementslist[0], elementslist[0])], model_c.grid[(elementslist[0], elementslist[0], elementslist[0])], \\\n",
    "#                              rep_alpha = 1.5)\n",
    "# calc = ThreeBodySingleSpecies(r_cut, model_c.grid[(elementslist[0], elementslist[0], elementslist[0])])\n",
    "\n",
    "potential = np.zeros(50)\n",
    "force = np.zeros(50)\n",
    "gp_potential = np.zeros(50)\n",
    "gp_force = np.zeros((50, 3))\n",
    "for i in np.arange(50):\n",
    "    conf = np.asarray([[0.0, 0.0, 0.0, 28, 28],[1.5+i*0.05, 0.0, 0.0, 28, 28]])\n",
    "    atoms = Atoms('Ni2', positions = conf[:,:3], cell = 21.0*np.eye(3), pbc = [0, 0, 0] )\n",
    "    atoms.set_calculator(calc)\n",
    "    potential[i] = atoms.get_potential_energy()\n",
    "    force[i] = atoms.get_forces()[0][0]\n",
    "    gp_potential[i] = model_c.predict_energy(np.reshape(conf[1], (1, 1, 5)))\n",
    "    gp_force[i] = model_c.predict(np.reshape(conf[1], (1, 1, 5)))"
   ]
  },
  {
   "cell_type": "code",
   "execution_count": 41,
   "metadata": {
    "ExecuteTime": {
     "end_time": "2018-07-26T10:43:41.573257Z",
     "start_time": "2018-07-26T10:43:40.985722Z"
    }
   },
   "outputs": [
    {
     "data": {
      "image/png": "[encoded data removed]",
      "text/plain": [
       "<Figure size 432x288 with 1 Axes>"
      ]
     },
     "metadata": {},
     "output_type": "display_data"
    }
   ],
   "source": [
    "plt.plot(np.linspace(1.5, 4.5, 50), potential)\n",
    "plt.plot(np.linspace(1.5, 4.5, 50), force)\n",
    "plt.plot(np.linspace(1.5, 4.5, 50), gp_potential)\n",
    "plt.plot(np.linspace(1.5, 4.5, 50), gp_force[:,0], 'r')\n",
    "plt.show()"
   ]
  },
  {
   "cell_type": "markdown",
   "metadata": {},
   "source": [
    "## Test mapping on traj"
   ]
  },
  {
   "cell_type": "code",
   "execution_count": 42,
   "metadata": {
    "ExecuteTime": {
     "end_time": "2018-07-26T10:43:44.918801Z",
     "start_time": "2018-07-26T10:43:44.838726Z"
    }
   },
   "outputs": [],
   "source": [
    "from m_ff.calculators import TwoBodySingleSpecies, ThreeBodySingleSpecies, CombinedSingleSpecies\n",
    "# calc = CombinedSingleSpecies(r_cut, model_c.grid[(28, 28)], model_c.grid[(28, 28, 28)], rep_alpha = 1.2)\n",
    "# calc = TwoBodySingleSpecies(r_cut, model_c.grid[(elementslist[0], elementslist[0])], rep_alpha = 0.0)\n",
    "# calc = ThreeBodySingleSpecies(r_cut, model_c.grid[(elementslist[0], elementslist[0], elementslist[0])])\n",
    "\n",
    "filename = directory / 'movie.xyz'\n",
    "traj = read(str(filename), index=slice(0, 10))\n",
    "# for atoms in traj:\n",
    "#     atoms.set_cell(21.0*np.identity(3))\n",
    "#     atoms.set_calculator(calc)\n",
    "\n",
    "#     #rms_mean, rms_std = rmse(atoms.arrays['force'], atoms.get_forces())\n",
    "#     #print('MAEF on forces: {:.4f} +- {:.4f}'.format(rms_mean, rms_std))\n",
    "#     print(atoms.get_forces())\n"
   ]
  },
  {
   "cell_type": "markdown",
   "metadata": {},
   "source": [
    "## Run simple dynamics"
   ]
  },
  {
   "cell_type": "code",
   "execution_count": 43,
   "metadata": {
    "ExecuteTime": {
     "end_time": "2018-07-26T10:43:45.817710Z",
     "start_time": "2018-07-26T10:43:45.771880Z"
    }
   },
   "outputs": [],
   "source": [
    "# Global Variables Definition\n",
    "gamma = 0.001\n",
    "temp = 200 #K\n",
    "dt = 1.0  # fs\n",
    "steps = 10000\n",
    "t = steps * dt * 10 ** (-3)  # time in ps"
   ]
  },
  {
   "cell_type": "code",
   "execution_count": 44,
   "metadata": {
    "ExecuteTime": {
     "end_time": "2018-07-26T10:43:46.298855Z",
     "start_time": "2018-07-26T10:43:46.232801Z"
    }
   },
   "outputs": [],
   "source": [
    "atoms = traj[1]\n",
    "atoms.set_positions(traj[1].get_positions())\n",
    "atoms.set_pbc(False)\n",
    "atoms.set_cell([(21, 0, 0), (0, 21, 0), (0, 0, 21)])\n",
    "atoms.set_calculator(calc)"
   ]
  },
  {
   "cell_type": "code",
   "execution_count": 45,
   "metadata": {
    "ExecuteTime": {
     "end_time": "2018-07-26T10:43:46.780162Z",
     "start_time": "2018-07-26T10:43:46.742425Z"
    }
   },
   "outputs": [],
   "source": [
    "# from ase.build import bulk, stack\n",
    "# atoms = bulk('Fe', 'bcc', a=2.856, cubic=True)\n",
    "# atoms = stack(atoms, atoms, axis=0)\n",
    "# atoms = stack(atoms, atoms, axis=1)\n",
    "# atoms = stack(atoms, atoms, axis=2)\n",
    "# atoms = stack(atoms, atoms, axis=0)\n",
    "# atoms = stack(atoms, atoms, axis=1)\n",
    "# atoms = stack(atoms, atoms, axis=2)\n",
    "\n",
    "# del atoms[0]\n",
    "# atoms.set_calculator(calc)\n",
    "# len(atoms)"
   ]
  },
  {
   "cell_type": "code",
   "execution_count": 46,
   "metadata": {
    "ExecuteTime": {
     "end_time": "2018-07-26T10:43:47.201824Z",
     "start_time": "2018-07-26T10:43:47.147187Z"
    }
   },
   "outputs": [],
   "source": [
    "from ase.md.velocitydistribution import MaxwellBoltzmannDistribution\n",
    "from ase.md.velocitydistribution import Stationary\n",
    "from ase.md.velocitydistribution import ZeroRotation\n",
    "from ase.md.verlet import VelocityVerlet\n",
    "from ase.md.langevin import Langevin\n",
    "from ase import units\n",
    "\n",
    "Stationary(atoms)\n",
    "ZeroRotation(atoms)\n",
    "dyn = VelocityVerlet(atoms, dt * units.fs)\n",
    "MaxwellBoltzmannDistribution(atoms, 2.0 * temp * units.kB)"
   ]
  },
  {
   "cell_type": "code",
   "execution_count": 47,
   "metadata": {
    "ExecuteTime": {
     "end_time": "2018-07-26T10:43:47.634382Z",
     "start_time": "2018-07-26T10:43:47.564072Z"
    }
   },
   "outputs": [],
   "source": [
    "def printenergy(a=atoms):\n",
    "    \"\"\"Function to print the potential, kinetic and total energy\"\"\"\n",
    "    epot = a.get_potential_energy() / len(a)\n",
    "    ekin = a.get_kinetic_energy() / len(a)\n",
    "    print('Energy per atom: Epot = %.3feV  Ekin = %.3feV (T=%3.0fK)  '\n",
    "          'Etot = %.3feV' % (epot, ekin, ekin / (1.5 * units.kB), epot + ekin))\n",
    "    \n",
    "def savexyz(a=atoms):\n",
    "    this_traj = open(traj_filename, \"a\")\n",
    "    extxyz.write_extxyz(this_traj, [atoms])\n",
    "    \n",
    "def printforces(a=atoms):\n",
    "    forces = a.get_forces()\n",
    "    print(forces)"
   ]
  },
  {
   "cell_type": "code",
   "execution_count": 48,
   "metadata": {
    "ExecuteTime": {
     "end_time": "2018-07-26T10:43:48.019126Z",
     "start_time": "2018-07-26T10:43:47.971515Z"
    }
   },
   "outputs": [],
   "source": [
    "import scipy as sp\n",
    "pos = atoms.get_positions()\n",
    "dist = np.reshape(sp.spatial.distance.cdist(pos, pos), len(pos)**2)\n",
    "from ase.io import extxyz\n",
    "traj_filename = \"example.xyz\""
   ]
  },
  {
   "cell_type": "code",
   "execution_count": 49,
   "metadata": {
    "ExecuteTime": {
     "end_time": "2018-07-26T10:45:11.558166Z",
     "start_time": "2018-07-26T10:43:48.361317Z"
    }
   },
   "outputs": [
    {
     "name": "stderr",
     "output_type": "stream",
     "text": [
      "INFO:m_ff.calculators:numbers is in system_changes\n",
      "INFO:m_ff.calculators:initialize\n"
     ]
    },
    {
     "name": "stdout",
     "output_type": "stream",
     "text": [
      "Energy per atom: Epot = -0.029eV  Ekin = 0.065eV (T=503K)  Etot = 0.036eV\n",
      "Energy per atom: Epot = -0.016eV  Ekin = 0.052eV (T=400K)  Etot = 0.036eV\n",
      "Energy per atom: Epot = -0.008eV  Ekin = 0.044eV (T=342K)  Etot = 0.036eV\n",
      "Energy per atom: Epot = -0.006eV  Ekin = 0.042eV (T=322K)  Etot = 0.036eV\n",
      "Energy per atom: Epot = -0.006eV  Ekin = 0.042eV (T=323K)  Etot = 0.036eV\n",
      "Energy per atom: Epot = -0.007eV  Ekin = 0.043eV (T=329K)  Etot = 0.036eV\n",
      "Energy per atom: Epot = -0.013eV  Ekin = 0.049eV (T=381K)  Etot = 0.036eV\n",
      "Energy per atom: Epot = -0.017eV  Ekin = 0.053eV (T=409K)  Etot = 0.036eV\n",
      "Energy per atom: Epot = -0.013eV  Ekin = 0.049eV (T=380K)  Etot = 0.036eV\n",
      "Energy per atom: Epot = -0.027eV  Ekin = 0.063eV (T=484K)  Etot = 0.036eV\n",
      "Energy per atom: Epot = -0.026eV  Ekin = 0.062eV (T=480K)  Etot = 0.036eV\n",
      "Energy per atom: Epot = -0.029eV  Ekin = 0.064eV (T=498K)  Etot = 0.036eV\n",
      "Energy per atom: Epot = -0.032eV  Ekin = 0.068eV (T=526K)  Etot = 0.036eV\n",
      "Energy per atom: Epot = -0.036eV  Ekin = 0.072eV (T=558K)  Etot = 0.036eV\n",
      "Energy per atom: Epot = -0.043eV  Ekin = 0.079eV (T=611K)  Etot = 0.036eV\n",
      "Energy per atom: Epot = -0.056eV  Ekin = 0.091eV (T=707K)  Etot = 0.036eV\n",
      "Energy per atom: Epot = -0.061eV  Ekin = 0.097eV (T=748K)  Etot = 0.036eV\n",
      "Energy per atom: Epot = -0.059eV  Ekin = 0.095eV (T=734K)  Etot = 0.036eV\n",
      "Energy per atom: Epot = -0.057eV  Ekin = 0.093eV (T=716K)  Etot = 0.036eV\n",
      "Energy per atom: Epot = -0.058eV  Ekin = 0.094eV (T=730K)  Etot = 0.036eV\n",
      "Energy per atom: Epot = -0.065eV  Ekin = 0.100eV (T=777K)  Etot = 0.036eV\n",
      "Energy per atom: Epot = -0.074eV  Ekin = 0.110eV (T=852K)  Etot = 0.036eV\n",
      "Energy per atom: Epot = -0.081eV  Ekin = 0.116eV (T=901K)  Etot = 0.036eV\n",
      "Energy per atom: Epot = -0.086eV  Ekin = 0.122eV (T=942K)  Etot = 0.036eV\n",
      "Energy per atom: Epot = -0.088eV  Ekin = 0.124eV (T=962K)  Etot = 0.036eV\n",
      "Energy per atom: Epot = -0.099eV  Ekin = 0.135eV (T=1046K)  Etot = 0.036eV\n",
      "Energy per atom: Epot = -0.115eV  Ekin = 0.151eV (T=1171K)  Etot = 0.036eV\n",
      "Energy per atom: Epot = -0.129eV  Ekin = 0.165eV (T=1278K)  Etot = 0.036eV\n",
      "Energy per atom: Epot = -0.136eV  Ekin = 0.172eV (T=1334K)  Etot = 0.036eV\n",
      "Energy per atom: Epot = -0.144eV  Ekin = 0.180eV (T=1389K)  Etot = 0.036eV\n",
      "Energy per atom: Epot = -0.148eV  Ekin = 0.184eV (T=1422K)  Etot = 0.036eV\n",
      "Energy per atom: Epot = -0.140eV  Ekin = 0.176eV (T=1360K)  Etot = 0.036eV\n",
      "Energy per atom: Epot = -0.119eV  Ekin = 0.155eV (T=1201K)  Etot = 0.036eV\n",
      "Energy per atom: Epot = -0.102eV  Ekin = 0.138eV (T=1071K)  Etot = 0.036eV\n",
      "Energy per atom: Epot = -0.104eV  Ekin = 0.140eV (T=1081K)  Etot = 0.036eV\n",
      "Energy per atom: Epot = -0.118eV  Ekin = 0.154eV (T=1191K)  Etot = 0.036eV\n",
      "Energy per atom: Epot = -0.120eV  Ekin = 0.156eV (T=1208K)  Etot = 0.036eV\n",
      "Energy per atom: Epot = -0.106eV  Ekin = 0.142eV (T=1097K)  Etot = 0.036eV\n",
      "Energy per atom: Epot = -0.104eV  Ekin = 0.140eV (T=1081K)  Etot = 0.036eV\n",
      "Energy per atom: Epot = -0.122eV  Ekin = 0.158eV (T=1221K)  Etot = 0.036eV\n",
      "Energy per atom: Epot = -0.143eV  Ekin = 0.179eV (T=1383K)  Etot = 0.036eV\n",
      "Energy per atom: Epot = -0.144eV  Ekin = 0.180eV (T=1395K)  Etot = 0.036eV\n",
      "Energy per atom: Epot = -0.122eV  Ekin = 0.158eV (T=1221K)  Etot = 0.036eV\n",
      "Energy per atom: Epot = -0.106eV  Ekin = 0.142eV (T=1099K)  Etot = 0.036eV\n",
      "Energy per atom: Epot = -0.115eV  Ekin = 0.151eV (T=1167K)  Etot = 0.036eV\n",
      "Energy per atom: Epot = -0.131eV  Ekin = 0.167eV (T=1293K)  Etot = 0.036eV\n",
      "Energy per atom: Epot = -0.125eV  Ekin = 0.161eV (T=1242K)  Etot = 0.036eV\n",
      "Energy per atom: Epot = -0.095eV  Ekin = 0.131eV (T=1017K)  Etot = 0.036eV\n",
      "Energy per atom: Epot = -0.075eV  Ekin = 0.111eV (T=860K)  Etot = 0.036eV\n",
      "Energy per atom: Epot = -0.080eV  Ekin = 0.116eV (T=895K)  Etot = 0.036eV\n",
      "Energy per atom: Epot = -0.103eV  Ekin = 0.139eV (T=1073K)  Etot = 0.036eV\n"
     ]
    },
    {
     "ename": "KeyboardInterrupt",
     "evalue": "",
     "output_type": "error",
     "traceback": [
      "\u001b[0;31m---------------------------------------------------------------------------\u001b[0m",
      "\u001b[0;31mKeyboardInterrupt\u001b[0m                         Traceback (most recent call last)",
      "\u001b[0;32m<ipython-input-49-a508717ea474>\u001b[0m in \u001b[0;36m<module>\u001b[0;34m()\u001b[0m\n\u001b[1;32m      2\u001b[0m \u001b[0;31m# dyn.attach(savexyz, interval=50)\u001b[0m\u001b[0;34m\u001b[0m\u001b[0;34m\u001b[0m\u001b[0m\n\u001b[1;32m      3\u001b[0m \u001b[0mdyn\u001b[0m\u001b[0;34m.\u001b[0m\u001b[0mattach\u001b[0m\u001b[0;34m(\u001b[0m\u001b[0mprintenergy\u001b[0m\u001b[0;34m,\u001b[0m \u001b[0minterval\u001b[0m\u001b[0;34m=\u001b[0m\u001b[0;36m10\u001b[0m\u001b[0;34m)\u001b[0m\u001b[0;34m\u001b[0m\u001b[0m\n\u001b[0;32m----> 4\u001b[0;31m \u001b[0mdyn\u001b[0m\u001b[0;34m.\u001b[0m\u001b[0mrun\u001b[0m\u001b[0;34m(\u001b[0m\u001b[0;36m10000\u001b[0m\u001b[0;34m)\u001b[0m\u001b[0;34m\u001b[0m\u001b[0m\n\u001b[0m",
      "\u001b[0;32m/opt/conda/lib/python3.6/site-packages/ase/md/md.py\u001b[0m in \u001b[0;36mrun\u001b[0;34m(self, steps)\u001b[0m\n\u001b[1;32m     37\u001b[0m \u001b[0;34m\u001b[0m\u001b[0m\n\u001b[1;32m     38\u001b[0m         \u001b[0;32mfor\u001b[0m \u001b[0mstep\u001b[0m \u001b[0;32min\u001b[0m \u001b[0mrange\u001b[0m\u001b[0;34m(\u001b[0m\u001b[0msteps\u001b[0m\u001b[0;34m)\u001b[0m\u001b[0;34m:\u001b[0m\u001b[0;34m\u001b[0m\u001b[0m\n\u001b[0;32m---> 39\u001b[0;31m             \u001b[0mf\u001b[0m \u001b[0;34m=\u001b[0m \u001b[0mself\u001b[0m\u001b[0;34m.\u001b[0m\u001b[0mstep\u001b[0m\u001b[0;34m(\u001b[0m\u001b[0mf\u001b[0m\u001b[0;34m)\u001b[0m\u001b[0;34m\u001b[0m\u001b[0m\n\u001b[0m\u001b[1;32m     40\u001b[0m             \u001b[0mself\u001b[0m\u001b[0;34m.\u001b[0m\u001b[0mnsteps\u001b[0m \u001b[0;34m+=\u001b[0m \u001b[0;36m1\u001b[0m\u001b[0;34m\u001b[0m\u001b[0m\n\u001b[1;32m     41\u001b[0m             \u001b[0mself\u001b[0m\u001b[0;34m.\u001b[0m\u001b[0mcall_observers\u001b[0m\u001b[0;34m(\u001b[0m\u001b[0;34m)\u001b[0m\u001b[0;34m\u001b[0m\u001b[0m\n",
      "\u001b[0;32m/opt/conda/lib/python3.6/site-packages/ase/md/verlet.py\u001b[0m in \u001b[0;36mstep\u001b[0;34m(self, f)\u001b[0m\n\u001b[1;32m     28\u001b[0m         \u001b[0mself\u001b[0m\u001b[0;34m.\u001b[0m\u001b[0matoms\u001b[0m\u001b[0;34m.\u001b[0m\u001b[0mset_momenta\u001b[0m\u001b[0;34m(\u001b[0m\u001b[0mp\u001b[0m\u001b[0;34m,\u001b[0m \u001b[0mapply_constraint\u001b[0m\u001b[0;34m=\u001b[0m\u001b[0;32mFalse\u001b[0m\u001b[0;34m)\u001b[0m\u001b[0;34m\u001b[0m\u001b[0m\n\u001b[1;32m     29\u001b[0m \u001b[0;34m\u001b[0m\u001b[0m\n\u001b[0;32m---> 30\u001b[0;31m         \u001b[0mf\u001b[0m \u001b[0;34m=\u001b[0m \u001b[0mself\u001b[0m\u001b[0;34m.\u001b[0m\u001b[0matoms\u001b[0m\u001b[0;34m.\u001b[0m\u001b[0mget_forces\u001b[0m\u001b[0;34m(\u001b[0m\u001b[0mmd\u001b[0m\u001b[0;34m=\u001b[0m\u001b[0;32mTrue\u001b[0m\u001b[0;34m)\u001b[0m\u001b[0;34m\u001b[0m\u001b[0m\n\u001b[0m\u001b[1;32m     31\u001b[0m \u001b[0;34m\u001b[0m\u001b[0m\n\u001b[1;32m     32\u001b[0m         \u001b[0;31m# Second part of RATTLE will be done here:\u001b[0m\u001b[0;34m\u001b[0m\u001b[0;34m\u001b[0m\u001b[0m\n",
      "\u001b[0;32m/opt/conda/lib/python3.6/site-packages/ase/atoms.py\u001b[0m in \u001b[0;36mget_forces\u001b[0;34m(self, apply_constraint, md)\u001b[0m\n\u001b[1;32m    733\u001b[0m         \u001b[0;32mif\u001b[0m \u001b[0mself\u001b[0m\u001b[0;34m.\u001b[0m\u001b[0m_calc\u001b[0m \u001b[0;32mis\u001b[0m \u001b[0;32mNone\u001b[0m\u001b[0;34m:\u001b[0m\u001b[0;34m\u001b[0m\u001b[0m\n\u001b[1;32m    734\u001b[0m             \u001b[0;32mraise\u001b[0m \u001b[0mRuntimeError\u001b[0m\u001b[0;34m(\u001b[0m\u001b[0;34m'Atoms object has no calculator.'\u001b[0m\u001b[0;34m)\u001b[0m\u001b[0;34m\u001b[0m\u001b[0m\n\u001b[0;32m--> 735\u001b[0;31m         \u001b[0mforces\u001b[0m \u001b[0;34m=\u001b[0m \u001b[0mself\u001b[0m\u001b[0;34m.\u001b[0m\u001b[0m_calc\u001b[0m\u001b[0;34m.\u001b[0m\u001b[0mget_forces\u001b[0m\u001b[0;34m(\u001b[0m\u001b[0mself\u001b[0m\u001b[0;34m)\u001b[0m\u001b[0;34m\u001b[0m\u001b[0m\n\u001b[0m\u001b[1;32m    736\u001b[0m \u001b[0;34m\u001b[0m\u001b[0m\n\u001b[1;32m    737\u001b[0m         \u001b[0;32mif\u001b[0m \u001b[0mapply_constraint\u001b[0m\u001b[0;34m:\u001b[0m\u001b[0;34m\u001b[0m\u001b[0m\n",
      "\u001b[0;32m/opt/conda/lib/python3.6/site-packages/ase/calculators/calculator.py\u001b[0m in \u001b[0;36mget_forces\u001b[0;34m(self, atoms)\u001b[0m\n\u001b[1;32m    458\u001b[0m \u001b[0;34m\u001b[0m\u001b[0m\n\u001b[1;32m    459\u001b[0m     \u001b[0;32mdef\u001b[0m \u001b[0mget_forces\u001b[0m\u001b[0;34m(\u001b[0m\u001b[0mself\u001b[0m\u001b[0;34m,\u001b[0m \u001b[0matoms\u001b[0m\u001b[0;34m=\u001b[0m\u001b[0;32mNone\u001b[0m\u001b[0;34m)\u001b[0m\u001b[0;34m:\u001b[0m\u001b[0;34m\u001b[0m\u001b[0m\n\u001b[0;32m--> 460\u001b[0;31m         \u001b[0;32mreturn\u001b[0m \u001b[0mself\u001b[0m\u001b[0;34m.\u001b[0m\u001b[0mget_property\u001b[0m\u001b[0;34m(\u001b[0m\u001b[0;34m'forces'\u001b[0m\u001b[0;34m,\u001b[0m \u001b[0matoms\u001b[0m\u001b[0;34m)\u001b[0m\u001b[0;34m\u001b[0m\u001b[0m\n\u001b[0m\u001b[1;32m    461\u001b[0m \u001b[0;34m\u001b[0m\u001b[0m\n\u001b[1;32m    462\u001b[0m     \u001b[0;32mdef\u001b[0m \u001b[0mget_stress\u001b[0m\u001b[0;34m(\u001b[0m\u001b[0mself\u001b[0m\u001b[0;34m,\u001b[0m \u001b[0matoms\u001b[0m\u001b[0;34m=\u001b[0m\u001b[0;32mNone\u001b[0m\u001b[0;34m)\u001b[0m\u001b[0;34m:\u001b[0m\u001b[0;34m\u001b[0m\u001b[0m\n",
      "\u001b[0;32m/opt/conda/lib/python3.6/site-packages/ase/calculators/calculator.py\u001b[0m in \u001b[0;36mget_property\u001b[0;34m(self, name, atoms, allow_calculation)\u001b[0m\n\u001b[1;32m    491\u001b[0m             \u001b[0;32mif\u001b[0m \u001b[0;32mnot\u001b[0m \u001b[0mallow_calculation\u001b[0m\u001b[0;34m:\u001b[0m\u001b[0;34m\u001b[0m\u001b[0m\n\u001b[1;32m    492\u001b[0m                 \u001b[0;32mreturn\u001b[0m \u001b[0;32mNone\u001b[0m\u001b[0;34m\u001b[0m\u001b[0m\n\u001b[0;32m--> 493\u001b[0;31m             \u001b[0mself\u001b[0m\u001b[0;34m.\u001b[0m\u001b[0mcalculate\u001b[0m\u001b[0;34m(\u001b[0m\u001b[0matoms\u001b[0m\u001b[0;34m,\u001b[0m \u001b[0;34m[\u001b[0m\u001b[0mname\u001b[0m\u001b[0;34m]\u001b[0m\u001b[0;34m,\u001b[0m \u001b[0msystem_changes\u001b[0m\u001b[0;34m)\u001b[0m\u001b[0;34m\u001b[0m\u001b[0m\n\u001b[0m\u001b[1;32m    494\u001b[0m \u001b[0;34m\u001b[0m\u001b[0m\n\u001b[1;32m    495\u001b[0m         \u001b[0;32mif\u001b[0m \u001b[0mname\u001b[0m \u001b[0;34m==\u001b[0m \u001b[0;34m'magmom'\u001b[0m \u001b[0;32mand\u001b[0m \u001b[0;34m'magmom'\u001b[0m \u001b[0;32mnot\u001b[0m \u001b[0;32min\u001b[0m \u001b[0mself\u001b[0m\u001b[0;34m.\u001b[0m\u001b[0mresults\u001b[0m\u001b[0;34m:\u001b[0m\u001b[0;34m\u001b[0m\u001b[0m\n",
      "\u001b[0;32m~/work/M-FF/m_ff/calculators.py\u001b[0m in \u001b[0;36mcalculate\u001b[0;34m(self, atoms, properties, system_changes)\u001b[0m\n\u001b[1;32m    154\u001b[0m \u001b[0;34m\u001b[0m\u001b[0m\n\u001b[1;32m    155\u001b[0m         \u001b[0;32mfor\u001b[0m \u001b[0;34m(\u001b[0m\u001b[0mi\u001b[0m\u001b[0;34m,\u001b[0m \u001b[0mj\u001b[0m\u001b[0;34m,\u001b[0m \u001b[0mk\u001b[0m\u001b[0;34m)\u001b[0m\u001b[0;34m,\u001b[0m \u001b[0menergy\u001b[0m\u001b[0;34m,\u001b[0m \u001b[0mdE_ij\u001b[0m\u001b[0;34m,\u001b[0m \u001b[0mdE_jk\u001b[0m\u001b[0;34m,\u001b[0m \u001b[0mdE_ki\u001b[0m \u001b[0;32min\u001b[0m \u001b[0mzip\u001b[0m\u001b[0;34m(\u001b[0m\u001b[0mindices\u001b[0m\u001b[0;34m,\u001b[0m \u001b[0mmapped\u001b[0m\u001b[0;34m[\u001b[0m\u001b[0;36m0\u001b[0m\u001b[0;34m]\u001b[0m\u001b[0;34m,\u001b[0m \u001b[0mmapped\u001b[0m\u001b[0;34m[\u001b[0m\u001b[0;36m1\u001b[0m\u001b[0;34m]\u001b[0m\u001b[0;34m,\u001b[0m \u001b[0mmapped\u001b[0m\u001b[0;34m[\u001b[0m\u001b[0;36m2\u001b[0m\u001b[0;34m]\u001b[0m\u001b[0;34m,\u001b[0m \u001b[0mmapped\u001b[0m\u001b[0;34m[\u001b[0m\u001b[0;36m3\u001b[0m\u001b[0;34m]\u001b[0m\u001b[0;34m)\u001b[0m\u001b[0;34m:\u001b[0m\u001b[0;34m\u001b[0m\u001b[0m\n\u001b[0;32m--> 156\u001b[0;31m             \u001b[0mforces\u001b[0m\u001b[0;34m[\u001b[0m\u001b[0mi\u001b[0m\u001b[0;34m]\u001b[0m \u001b[0;34m+=\u001b[0m  \u001b[0mpositions\u001b[0m\u001b[0;34m[\u001b[0m\u001b[0;34m(\u001b[0m\u001b[0mi\u001b[0m\u001b[0;34m,\u001b[0m \u001b[0mj\u001b[0m\u001b[0;34m)\u001b[0m\u001b[0;34m]\u001b[0m \u001b[0;34m*\u001b[0m \u001b[0mdE_ij\u001b[0m \u001b[0;34m+\u001b[0m \u001b[0mpositions\u001b[0m\u001b[0;34m[\u001b[0m\u001b[0;34m(\u001b[0m\u001b[0mi\u001b[0m\u001b[0;34m,\u001b[0m \u001b[0mk\u001b[0m\u001b[0;34m)\u001b[0m\u001b[0;34m]\u001b[0m \u001b[0;34m*\u001b[0m \u001b[0mdE_ki\u001b[0m \u001b[0;31m# F = - dE/dx\u001b[0m\u001b[0;34m\u001b[0m\u001b[0m\n\u001b[0m\u001b[1;32m    157\u001b[0m             \u001b[0mforces\u001b[0m\u001b[0;34m[\u001b[0m\u001b[0mj\u001b[0m\u001b[0;34m]\u001b[0m \u001b[0;34m+=\u001b[0m  \u001b[0mpositions\u001b[0m\u001b[0;34m[\u001b[0m\u001b[0;34m(\u001b[0m\u001b[0mj\u001b[0m\u001b[0;34m,\u001b[0m \u001b[0mk\u001b[0m\u001b[0;34m)\u001b[0m\u001b[0;34m]\u001b[0m \u001b[0;34m*\u001b[0m \u001b[0mdE_jk\u001b[0m \u001b[0;34m+\u001b[0m \u001b[0mpositions\u001b[0m\u001b[0;34m[\u001b[0m\u001b[0;34m(\u001b[0m\u001b[0mj\u001b[0m\u001b[0;34m,\u001b[0m \u001b[0mi\u001b[0m\u001b[0;34m)\u001b[0m\u001b[0;34m]\u001b[0m \u001b[0;34m*\u001b[0m \u001b[0mdE_ij\u001b[0m \u001b[0;31m# F = - dE/dx\u001b[0m\u001b[0;34m\u001b[0m\u001b[0m\n\u001b[1;32m    158\u001b[0m             \u001b[0mforces\u001b[0m\u001b[0;34m[\u001b[0m\u001b[0mk\u001b[0m\u001b[0;34m]\u001b[0m \u001b[0;34m+=\u001b[0m  \u001b[0mpositions\u001b[0m\u001b[0;34m[\u001b[0m\u001b[0;34m(\u001b[0m\u001b[0mk\u001b[0m\u001b[0;34m,\u001b[0m \u001b[0mi\u001b[0m\u001b[0;34m)\u001b[0m\u001b[0;34m]\u001b[0m \u001b[0;34m*\u001b[0m \u001b[0mdE_ki\u001b[0m \u001b[0;34m+\u001b[0m \u001b[0mpositions\u001b[0m\u001b[0;34m[\u001b[0m\u001b[0;34m(\u001b[0m\u001b[0mk\u001b[0m\u001b[0;34m,\u001b[0m \u001b[0mj\u001b[0m\u001b[0;34m)\u001b[0m\u001b[0;34m]\u001b[0m \u001b[0;34m*\u001b[0m \u001b[0mdE_jk\u001b[0m \u001b[0;31m# F = - dE/dx\u001b[0m\u001b[0;34m\u001b[0m\u001b[0m\n",
      "\u001b[0;31mKeyboardInterrupt\u001b[0m: "
     ]
    }
   ],
   "source": [
    "# this_traj = open(traj_filename, \"w\")\n",
    "# dyn.attach(savexyz, interval=50)\n",
    "dyn.attach(printenergy, interval=10)\n",
    "dyn.run(10000)"
   ]
  },
  {
   "cell_type": "code",
   "execution_count": null,
   "metadata": {
    "ExecuteTime": {
     "end_time": "2018-07-25T14:40:42.534006Z",
     "start_time": "2018-07-25T14:40:18.429Z"
    }
   },
   "outputs": [],
   "source": [
    "a = np.linspace(1.0, 2.0, 21)\n",
    "b = (1.2/a)**12\n",
    "plt.plot(a,b)\n",
    "plt.show()"
   ]
  },
  {
   "cell_type": "code",
   "execution_count": 26,
   "metadata": {
    "ExecuteTime": {
     "end_time": "2018-07-06T14:50:54.508465Z",
     "start_time": "2018-07-06T14:50:54.451313Z"
    }
   },
   "outputs": [],
   "source": [
    "from ase.calculators.eam import EAM\n",
    "\n",
    "from ase.build import bulk\n",
    "\n",
    "# test to generate an EAM potential file using a simplified\n",
    "# approximation to the Mishin potential Al99.eam.alloy data\n",
    "\n",
    "from scipy.interpolate import InterpolatedUnivariateSpline as spline\n",
    "\n",
    "cutoff = 10.0\n",
    "\n",
    "n = 21\n",
    "rs = np.arange(0, n) * (cutoff / n)\n",
    "rhos = np.arange(0, 2, 2. / n)\n",
    "\n",
    "# generated from\n",
    "# mishin = EAM(potential='../potentials/Al99.eam.alloy')\n",
    "# m_density = mishin.electron_density[0](rs)\n",
    "# m_embedded = mishin.embedded_energy[0](rhos)\n",
    "# m_phi = mishin.phi[0,0](rs)\n",
    "\n",
    "m_density = np.array([2.78589606e-01, 2.02694937e-01, 1.45334053e-01,\n",
    "                      1.06069912e-01, 8.42517168e-02, 7.65140344e-02,\n",
    "                      7.76263116e-02, 8.23214224e-02, 8.53322309e-02,\n",
    "                      8.13915861e-02, 6.59095390e-02, 4.28915711e-02,\n",
    "                      2.27910928e-02, 1.13713167e-02, 6.05020311e-03,\n",
    "                      3.65836583e-03, 2.60587564e-03, 2.06750708e-03,\n",
    "                      1.48749693e-03, 7.40019174e-04, 6.21225205e-05])\n",
    "\n",
    "m_embedded = np.array([1.04222211e-10, -1.04142633e+00, -1.60359806e+00,\n",
    "                       -1.89287637e+00, -2.09490167e+00, -2.26456628e+00,\n",
    "                       -2.40590322e+00, -2.52245359e+00, -2.61385603e+00,\n",
    "                       -2.67744693e+00, -2.71053295e+00, -2.71110418e+00,\n",
    "                       -2.69287013e+00, -2.68464527e+00, -2.69204083e+00,\n",
    "                       -2.68976209e+00, -2.66001244e+00, -2.60122024e+00,\n",
    "                       -2.51338548e+00, -2.39650817e+00, -2.25058831e+00])\n",
    "\n",
    "m_phi = np.array([6.27032242e+01, 3.49638589e+01, 1.79007014e+01,\n",
    "                  8.69001383e+00, 4.51545250e+00, 2.83260884e+00,\n",
    "                  1.93216616e+00, 1.06795515e+00, 3.37740836e-01,\n",
    "                  1.61087890e-02, -6.20816372e-02, -6.51314297e-02,\n",
    "                  -5.35210341e-02, -5.20950200e-02, -5.51709524e-02,\n",
    "                  -4.89093894e-02, -3.28051688e-02, -1.13738785e-02,\n",
    "                  2.33833655e-03, 4.19132033e-03, 1.68600692e-04])\n",
    "\n",
    "m_densityf = spline(rs, m_density)\n",
    "m_embeddedf = spline(rhos, m_embedded)\n",
    "m_phif = spline(rs, m_phi)\n",
    "\n",
    "mishin_approx = EAM(elements=['Ni'], embedded_energy=np.array([m_embeddedf]),\n",
    "                    electron_density=np.array([m_densityf]),\n",
    "                    phi=np.array([[m_phif]]), cutoff=cutoff, form='alloy',\n",
    "                    # the following terms are only required to write out a file\n",
    "                    Z=[13], nr=n, nrho=n, dr=cutoff / n, drho=2. / n,\n",
    "                    lattice=['fcc'], mass=[58.692], a=[2.58])\n",
    "\n",
    "atoms.set_calculator(mishin_approx)"
   ]
  },
  {
   "cell_type": "code",
   "execution_count": 32,
   "metadata": {
    "ExecuteTime": {
     "end_time": "2018-07-06T14:55:17.550916Z",
     "start_time": "2018-07-06T14:55:17.468699Z"
    }
   },
   "outputs": [],
   "source": [
    "from ase.calculators import morse\n",
    "pot = morse.MorsePotential\n",
    "atoms.set_calculator(pot)\n"
   ]
  },
  {
   "cell_type": "code",
   "execution_count": 33,
   "metadata": {
    "ExecuteTime": {
     "end_time": "2018-07-06T14:55:19.007919Z",
     "start_time": "2018-07-06T14:55:18.964016Z"
    }
   },
   "outputs": [
    {
     "ename": "AttributeError",
     "evalue": "'Atoms' object has no attribute 'get_property'",
     "output_type": "error",
     "traceback": [
      "\u001b[0;31m---------------------------------------------------------------------------\u001b[0m",
      "\u001b[0;31mAttributeError\u001b[0m                            Traceback (most recent call last)",
      "\u001b[0;32m<ipython-input-33-7d8292301e1e>\u001b[0m in \u001b[0;36m<module>\u001b[0;34m()\u001b[0m\n\u001b[0;32m----> 1\u001b[0;31m \u001b[0mdyn\u001b[0m\u001b[0;34m.\u001b[0m\u001b[0mrun\u001b[0m\u001b[0;34m(\u001b[0m\u001b[0;36m1000\u001b[0m\u001b[0;34m)\u001b[0m\u001b[0;34m\u001b[0m\u001b[0m\n\u001b[0m",
      "\u001b[0;32m/opt/conda/lib/python3.6/site-packages/ase/md/md.py\u001b[0m in \u001b[0;36mrun\u001b[0;34m(self, steps)\u001b[0m\n\u001b[1;32m     31\u001b[0m     \u001b[0;32mdef\u001b[0m \u001b[0mrun\u001b[0m\u001b[0;34m(\u001b[0m\u001b[0mself\u001b[0m\u001b[0;34m,\u001b[0m \u001b[0msteps\u001b[0m\u001b[0;34m=\u001b[0m\u001b[0;36m50\u001b[0m\u001b[0;34m)\u001b[0m\u001b[0;34m:\u001b[0m\u001b[0;34m\u001b[0m\u001b[0m\n\u001b[1;32m     32\u001b[0m         \u001b[0;34m\"\"\"Integrate equation of motion.\"\"\"\u001b[0m\u001b[0;34m\u001b[0m\u001b[0m\n\u001b[0;32m---> 33\u001b[0;31m         \u001b[0mf\u001b[0m \u001b[0;34m=\u001b[0m \u001b[0mself\u001b[0m\u001b[0;34m.\u001b[0m\u001b[0matoms\u001b[0m\u001b[0;34m.\u001b[0m\u001b[0mget_forces\u001b[0m\u001b[0;34m(\u001b[0m\u001b[0mmd\u001b[0m\u001b[0;34m=\u001b[0m\u001b[0;32mTrue\u001b[0m\u001b[0;34m)\u001b[0m\u001b[0;34m\u001b[0m\u001b[0m\n\u001b[0m\u001b[1;32m     34\u001b[0m \u001b[0;34m\u001b[0m\u001b[0m\n\u001b[1;32m     35\u001b[0m         \u001b[0;32mif\u001b[0m \u001b[0;32mnot\u001b[0m \u001b[0mself\u001b[0m\u001b[0;34m.\u001b[0m\u001b[0matoms\u001b[0m\u001b[0;34m.\u001b[0m\u001b[0mhas\u001b[0m\u001b[0;34m(\u001b[0m\u001b[0;34m'momenta'\u001b[0m\u001b[0;34m)\u001b[0m\u001b[0;34m:\u001b[0m\u001b[0;34m\u001b[0m\u001b[0m\n",
      "\u001b[0;32m/opt/conda/lib/python3.6/site-packages/ase/atoms.py\u001b[0m in \u001b[0;36mget_forces\u001b[0;34m(self, apply_constraint, md)\u001b[0m\n\u001b[1;32m    733\u001b[0m         \u001b[0;32mif\u001b[0m \u001b[0mself\u001b[0m\u001b[0;34m.\u001b[0m\u001b[0m_calc\u001b[0m \u001b[0;32mis\u001b[0m \u001b[0;32mNone\u001b[0m\u001b[0;34m:\u001b[0m\u001b[0;34m\u001b[0m\u001b[0m\n\u001b[1;32m    734\u001b[0m             \u001b[0;32mraise\u001b[0m \u001b[0mRuntimeError\u001b[0m\u001b[0;34m(\u001b[0m\u001b[0;34m'Atoms object has no calculator.'\u001b[0m\u001b[0;34m)\u001b[0m\u001b[0;34m\u001b[0m\u001b[0m\n\u001b[0;32m--> 735\u001b[0;31m         \u001b[0mforces\u001b[0m \u001b[0;34m=\u001b[0m \u001b[0mself\u001b[0m\u001b[0;34m.\u001b[0m\u001b[0m_calc\u001b[0m\u001b[0;34m.\u001b[0m\u001b[0mget_forces\u001b[0m\u001b[0;34m(\u001b[0m\u001b[0mself\u001b[0m\u001b[0;34m)\u001b[0m\u001b[0;34m\u001b[0m\u001b[0m\n\u001b[0m\u001b[1;32m    736\u001b[0m \u001b[0;34m\u001b[0m\u001b[0m\n\u001b[1;32m    737\u001b[0m         \u001b[0;32mif\u001b[0m \u001b[0mapply_constraint\u001b[0m\u001b[0;34m:\u001b[0m\u001b[0;34m\u001b[0m\u001b[0m\n",
      "\u001b[0;32m/opt/conda/lib/python3.6/site-packages/ase/calculators/calculator.py\u001b[0m in \u001b[0;36mget_forces\u001b[0;34m(self, atoms)\u001b[0m\n\u001b[1;32m    458\u001b[0m \u001b[0;34m\u001b[0m\u001b[0m\n\u001b[1;32m    459\u001b[0m     \u001b[0;32mdef\u001b[0m \u001b[0mget_forces\u001b[0m\u001b[0;34m(\u001b[0m\u001b[0mself\u001b[0m\u001b[0;34m,\u001b[0m \u001b[0matoms\u001b[0m\u001b[0;34m=\u001b[0m\u001b[0;32mNone\u001b[0m\u001b[0;34m)\u001b[0m\u001b[0;34m:\u001b[0m\u001b[0;34m\u001b[0m\u001b[0m\n\u001b[0;32m--> 460\u001b[0;31m         \u001b[0;32mreturn\u001b[0m \u001b[0mself\u001b[0m\u001b[0;34m.\u001b[0m\u001b[0mget_property\u001b[0m\u001b[0;34m(\u001b[0m\u001b[0;34m'forces'\u001b[0m\u001b[0;34m,\u001b[0m \u001b[0matoms\u001b[0m\u001b[0;34m)\u001b[0m\u001b[0;34m\u001b[0m\u001b[0m\n\u001b[0m\u001b[1;32m    461\u001b[0m \u001b[0;34m\u001b[0m\u001b[0m\n\u001b[1;32m    462\u001b[0m     \u001b[0;32mdef\u001b[0m \u001b[0mget_stress\u001b[0m\u001b[0;34m(\u001b[0m\u001b[0mself\u001b[0m\u001b[0;34m,\u001b[0m \u001b[0matoms\u001b[0m\u001b[0;34m=\u001b[0m\u001b[0;32mNone\u001b[0m\u001b[0;34m)\u001b[0m\u001b[0;34m:\u001b[0m\u001b[0;34m\u001b[0m\u001b[0m\n",
      "\u001b[0;31mAttributeError\u001b[0m: 'Atoms' object has no attribute 'get_property'"
     ]
    }
   ],
   "source": [
    "dyn.run(1000)"
   ]
  },
  {
   "cell_type": "markdown",
   "metadata": {
    "ExecuteTime": {
     "end_time": "2018-06-12T13:36:59.251733Z",
     "start_time": "2018-06-12T13:36:59.212677Z"
    }
   },
   "source": [
    "## Pairwise potential test"
   ]
  },
  {
   "cell_type": "code",
   "execution_count": 3,
   "metadata": {
    "ExecuteTime": {
     "end_time": "2018-07-04T11:27:46.699253Z",
     "start_time": "2018-07-04T11:27:46.685924Z"
    }
   },
   "outputs": [
    {
     "ename": "NameError",
     "evalue": "name 'TwoBodySingleSpeciesModel' is not defined",
     "output_type": "error",
     "traceback": [
      "\u001b[0;31m---------------------------------------------------------------------------\u001b[0m",
      "\u001b[0;31mNameError\u001b[0m                                 Traceback (most recent call last)",
      "\u001b[0;32m<ipython-input-3-0434e725845b>\u001b[0m in \u001b[0;36m<module>\u001b[0;34m()\u001b[0m\n\u001b[0;32m----> 1\u001b[0;31m \u001b[0mmodel_2b\u001b[0m \u001b[0;34m=\u001b[0m \u001b[0mTwoBodySingleSpeciesModel\u001b[0m\u001b[0;34m(\u001b[0m\u001b[0melementslist\u001b[0m\u001b[0;34m[\u001b[0m\u001b[0;36m0\u001b[0m\u001b[0;34m]\u001b[0m\u001b[0;34m,\u001b[0m \u001b[0mr_cut\u001b[0m\u001b[0;34m,\u001b[0m \u001b[0msigma_2b\u001b[0m\u001b[0;34m,\u001b[0m \u001b[0mr_cut\u001b[0m \u001b[0;34m/\u001b[0m \u001b[0;36m10.0\u001b[0m\u001b[0;34m,\u001b[0m \u001b[0mnoise\u001b[0m\u001b[0;34m)\u001b[0m\u001b[0;34m\u001b[0m\u001b[0m\n\u001b[0m\u001b[1;32m      2\u001b[0m \u001b[0mmodel_2b\u001b[0m\u001b[0;34m.\u001b[0m\u001b[0mfit\u001b[0m\u001b[0;34m(\u001b[0m\u001b[0mtr_confs\u001b[0m\u001b[0;34m,\u001b[0m \u001b[0mtr_forces\u001b[0m\u001b[0;34m)\u001b[0m\u001b[0;34m\u001b[0m\u001b[0m\n",
      "\u001b[0;31mNameError\u001b[0m: name 'TwoBodySingleSpeciesModel' is not defined"
     ]
    }
   ],
   "source": [
    "model_2b = TwoBodySingleSpeciesModel(elementslist[0], r_cut, sigma_2b, r_cut / 10.0, noise)\n",
    "model_2b.fit(tr_confs, tr_forces)"
   ]
  },
  {
   "cell_type": "code",
   "execution_count": 51,
   "metadata": {
    "ExecuteTime": {
     "end_time": "2018-06-12T13:37:45.118417Z",
     "start_time": "2018-06-12T13:37:44.734274Z"
    }
   },
   "outputs": [
    {
     "name": "stdout",
     "output_type": "stream",
     "text": [
      "Testing GP\n",
      "MAEF on forces: 0.1404 +- 0.0750\n",
      "Relative MAEF on forces: 0.1943 +- 0.1038\n"
     ]
    }
   ],
   "source": [
    "# Test the GP performance\n",
    "print('Testing GP')\n",
    "\n",
    "gp_forces = np.zeros((ntest, 3))\n",
    "gp_error = np.zeros((ntest, 3))\n",
    "\n",
    "for i in np.arange(ntest):\n",
    "    gp_forces[i, :] = model_2b.predict(np.reshape(tst_confs[i], (1, len(tst_confs[i]), 5)))\n",
    "    gp_error[i, :] = gp_forces[i, :] - tst_forces[i, :]\n",
    "\n",
    "MAEF = np.mean(np.sqrt(np.sum(np.square(gp_error), axis=1)))\n",
    "SMAEF = np.std(np.sqrt(np.sum(np.square(gp_error), axis=1)))\n",
    "\n",
    "MF = np.mean(np.linalg.norm(tst_forces, axis=1))\n",
    "\n",
    "print('MAEF on forces: {:.4f} +- {:.4f}'.format(MAEF, SMAEF))\n",
    "print('Relative MAEF on forces: {:.4f} +- {:.4f}'.format(MAEF / MF, SMAEF / MF))"
   ]
  },
  {
   "cell_type": "code",
   "execution_count": 52,
   "metadata": {
    "ExecuteTime": {
     "end_time": "2018-06-12T13:37:59.509524Z",
     "start_time": "2018-06-12T13:37:53.163224Z"
    }
   },
   "outputs": [],
   "source": [
    "grid_2b = model_2b.build_grid(grid_start, num_2b)\n"
   ]
  },
  {
   "cell_type": "code",
   "execution_count": 53,
   "metadata": {
    "ExecuteTime": {
     "end_time": "2018-06-12T13:38:23.622171Z",
     "start_time": "2018-06-12T13:38:23.580599Z"
    }
   },
   "outputs": [],
   "source": [
    "calc = TwoBodySingleSpecies(r_cut, grid_c_2b)\n",
    "atoms.set_calculator(calc)"
   ]
  },
  {
   "cell_type": "code",
   "execution_count": 54,
   "metadata": {
    "ExecuteTime": {
     "end_time": "2018-06-12T13:38:31.748710Z",
     "start_time": "2018-06-12T13:38:30.541773Z"
    }
   },
   "outputs": [
    {
     "name": "stderr",
     "output_type": "stream",
     "text": [
      "INFO:m_ff.calculators:numbers is in system_changes\n",
      "INFO:m_ff.calculators:initialize\n"
     ]
    }
   ],
   "source": [
    "dyn.run(steps)"
   ]
  },
  {
   "cell_type": "code",
   "execution_count": 17,
   "metadata": {
    "ExecuteTime": {
     "end_time": "2018-06-29T16:39:35.603807Z",
     "start_time": "2018-06-29T16:39:35.504228Z"
    }
   },
   "outputs": [
    {
     "data": {
      "text/plain": [
       "array([1.58381760e-02, 8.13802083e-05, 1.93337110e-06, 1.06288200e-07,\n",
       "       9.93410746e-09, 1.33912337e-09, 2.36007214e-10])"
      ]
     },
     "execution_count": 17,
     "metadata": {},
     "output_type": "execute_result"
    }
   ],
   "source": [
    "dist = 2+np.arange(7)\n",
    "norm = np.ones((7,3))\n"
   ]
  },
  {
   "cell_type": "code",
   "execution_count": 18,
   "metadata": {
    "ExecuteTime": {
     "end_time": "2018-06-29T16:39:44.284927Z",
     "start_time": "2018-06-29T16:39:44.247703Z"
    }
   },
   "outputs": [
    {
     "data": {
      "text/plain": [
       "array([1.58381760e-02, 8.13802083e-05, 1.93337110e-06, 1.06288200e-07,\n",
       "       9.93410746e-09, 1.33912337e-09, 2.36007214e-10])"
      ]
     },
     "execution_count": 18,
     "metadata": {},
     "output_type": "execute_result"
    }
   ],
   "source": [
    "np.power(1.5/dist, 12)/dist"
   ]
  },
  {
   "cell_type": "code",
   "execution_count": null,
   "metadata": {},
   "outputs": [],
   "source": []
  }
 ],
 "metadata": {
  "kernelspec": {
   "display_name": "Python 3",
   "language": "python",
   "name": "python3"
  },
  "language_info": {
   "codemirror_mode": {
    "name": "ipython",
    "version": 3
   },
   "file_extension": ".py",
   "mimetype": "text/x-python",
   "name": "python",
   "nbconvert_exporter": "python",
   "pygments_lexer": "ipython3",
   "version": "3.6.5"
  }
 },
 "nbformat": 4,
 "nbformat_minor": 2
}
