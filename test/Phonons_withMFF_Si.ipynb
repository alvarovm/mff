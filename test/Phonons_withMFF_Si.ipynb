{
 "cells": [
  {
   "cell_type": "code",
   "execution_count": 1,
   "metadata": {
    "ExecuteTime": {
     "end_time": "2018-06-27T08:48:17.325451Z",
     "start_time": "2018-06-27T08:48:14.776337Z"
    }
   },
   "outputs": [],
   "source": [
    "import sys\n",
    "sys.path.append('..')\n",
    "%matplotlib inline\n",
    "%load_ext autoreload\n",
    "%autoreload 2\n",
    "import os\n",
    "import logging\n",
    "from pathlib import Path\n",
    "\n",
    "import numpy as np\n",
    "import matplotlib.pyplot as plt\n",
    "\n",
    "from ase import Atoms\n",
    "from ase.io import read\n",
    "\n",
    "from m_ff.configurations import carve_confs\n",
    "from m_ff.models import TwoBodySingleSpeciesModel, ThreeBodySingleSpeciesModel, CombinedSingleSpeciesModel\n",
    "from m_ff.calculators import TwoBodySingleSpecies, ThreeBodySingleSpecies, CombinedSingleSpecies\n",
    "\n",
    "logging.basicConfig(level=logging.INFO)"
   ]
  },
  {
   "cell_type": "markdown",
   "metadata": {
    "ExecuteTime": {
     "end_time": "2018-06-25T09:23:25.585704Z",
     "start_time": "2018-06-25T09:23:25.472993Z"
    }
   },
   "source": [
    "## Parameters"
   ]
  },
  {
   "cell_type": "code",
   "execution_count": 2,
   "metadata": {
    "ExecuteTime": {
     "end_time": "2018-06-27T08:48:17.355618Z",
     "start_time": "2018-06-27T08:48:17.329311Z"
    }
   },
   "outputs": [],
   "source": [
    "# Parameters\n",
    "directory = Path('data/Si_DFT/')\n",
    "r_cut = 4.0\n",
    "sigma_2b = 0.3\n",
    "sigma_3b = 0.6\n",
    "noise = 0.00000001\n",
    "\n",
    "# GP Parameters\n",
    "ntr = 200\n",
    "ntest = 50\n",
    "combine_2b_3b = True\n",
    "\n",
    "# mapping\n",
    "grid_start = 2.0\n",
    "num_2b = 100\n",
    "num_3b = 40"
   ]
  },
  {
   "cell_type": "code",
   "execution_count": 3,
   "metadata": {
    "ExecuteTime": {
     "end_time": "2018-06-27T08:48:17.436279Z",
     "start_time": "2018-06-27T08:48:17.361759Z"
    }
   },
   "outputs": [],
   "source": [
    "# # ----------------------------------------\n",
    "# # Construct a configuration database\n",
    "# # ----------------------------------------\n",
    "n_data = 16*30\n",
    "\n",
    "filename = directory / 'phonons_cell=2_mov=30.xyz'\n",
    "\n",
    "traj = read(filename, index=slice(None), format='extxyz')\n",
    "for i in np.arange(len(traj)):\n",
    "    traj[i].set_cell(5.39760794*2*np.array([[-0.5,  0,   0.5 ],\n",
    " [ 0,  0.5,  0.5 ],\n",
    " [ -0.5 ,  0.5 , 0.0]]))"
   ]
  },
  {
   "cell_type": "code",
   "execution_count": 4,
   "metadata": {
    "ExecuteTime": {
     "end_time": "2018-06-27T08:48:17.965481Z",
     "start_time": "2018-06-27T08:48:17.443814Z"
    }
   },
   "outputs": [
    {
     "name": "stderr",
     "output_type": "stream",
     "text": [
      "INFO:root:Reading traj step 0\n",
      "INFO:root:Energy in the xyz file is not present, or is not called energy\n",
      "INFO:root:Reading traj step 1\n",
      "INFO:root:Energy in the xyz file is not present, or is not called energy\n",
      "INFO:root:Reading traj step 2\n",
      "INFO:root:Energy in the xyz file is not present, or is not called energy\n",
      "INFO:root:Reading traj step 3\n",
      "INFO:root:Energy in the xyz file is not present, or is not called energy\n",
      "INFO:root:Reading traj step 4\n",
      "INFO:root:Energy in the xyz file is not present, or is not called energy\n",
      "INFO:root:Reading traj step 5\n",
      "INFO:root:Energy in the xyz file is not present, or is not called energy\n",
      "INFO:root:Reading traj step 6\n",
      "INFO:root:Energy in the xyz file is not present, or is not called energy\n",
      "INFO:root:Reading traj step 7\n",
      "INFO:root:Energy in the xyz file is not present, or is not called energy\n",
      "INFO:root:Reading traj step 8\n",
      "INFO:root:Energy in the xyz file is not present, or is not called energy\n",
      "INFO:root:Reading traj step 9\n",
      "INFO:root:Energy in the xyz file is not present, or is not called energy\n",
      "INFO:root:Reading traj step 10\n",
      "INFO:root:Energy in the xyz file is not present, or is not called energy\n",
      "INFO:root:Reading traj step 11\n",
      "INFO:root:Energy in the xyz file is not present, or is not called energy\n",
      "INFO:root:Reading traj step 12\n",
      "INFO:root:Energy in the xyz file is not present, or is not called energy\n",
      "INFO:root:Reading traj step 13\n",
      "INFO:root:Energy in the xyz file is not present, or is not called energy\n",
      "INFO:root:Reading traj step 14\n",
      "INFO:root:Energy in the xyz file is not present, or is not called energy\n",
      "INFO:root:Reading traj step 15\n",
      "INFO:root:Energy in the xyz file is not present, or is not called energy\n",
      "INFO:root:Reading traj step 16\n",
      "INFO:root:Energy in the xyz file is not present, or is not called energy\n",
      "INFO:root:Reading traj step 17\n",
      "INFO:root:Energy in the xyz file is not present, or is not called energy\n",
      "INFO:root:Reading traj step 18\n",
      "INFO:root:Energy in the xyz file is not present, or is not called energy\n",
      "INFO:root:Reading traj step 19\n",
      "INFO:root:Energy in the xyz file is not present, or is not called energy\n",
      "INFO:root:Reading traj step 20\n",
      "INFO:root:Energy in the xyz file is not present, or is not called energy\n",
      "INFO:root:Reading traj step 21\n",
      "INFO:root:Energy in the xyz file is not present, or is not called energy\n",
      "INFO:root:Reading traj step 22\n",
      "INFO:root:Energy in the xyz file is not present, or is not called energy\n",
      "INFO:root:Reading traj step 23\n",
      "INFO:root:Energy in the xyz file is not present, or is not called energy\n",
      "INFO:root:Reading traj step 24\n",
      "INFO:root:Energy in the xyz file is not present, or is not called energy\n",
      "INFO:root:Reading traj step 25\n",
      "INFO:root:Energy in the xyz file is not present, or is not called energy\n",
      "INFO:root:Reading traj step 26\n",
      "INFO:root:Energy in the xyz file is not present, or is not called energy\n",
      "INFO:root:Reading traj step 27\n",
      "INFO:root:Energy in the xyz file is not present, or is not called energy\n",
      "INFO:root:Reading traj step 28\n",
      "INFO:root:Energy in the xyz file is not present, or is not called energy\n",
      "INFO:root:Reading traj step 29\n",
      "INFO:root:Energy in the xyz file is not present, or is not called energy\n",
      "INFO:root:Number of atoms in a configuration:\n",
      "   maximum: 16\n",
      "   minimum: 16\n",
      "   average: 16.0\n"
     ]
    }
   ],
   "source": [
    "elements, confs, forces, energies = carve_confs(\n",
    "    traj, r_cut, n_data,\n",
    "    forces_label='forces')\n",
    "\n",
    "if not os.path.exists(directory):\n",
    "    os.makedirs(directory)\n",
    "\n",
    "np.save('{}/confs_cut={:.2f}.npy'.format(directory, r_cut), confs)\n",
    "np.save('{}/forces_cut={:.2f}.npy'.format(directory, r_cut), forces)\n",
    "\n",
    "lens = [len(conf) for conf in confs]\n",
    "\n",
    "logging.info('\\n'.join((\n",
    "    'Number of atoms in a configuration:',\n",
    "    '   maximum: {}'.format(np.max(lens)),\n",
    "    '   minimum: {}'.format(np.min(lens)),\n",
    "    '   average: {:.4}'.format(np.mean(lens))\n",
    ")))"
   ]
  },
  {
   "cell_type": "code",
   "execution_count": 5,
   "metadata": {
    "ExecuteTime": {
     "end_time": "2018-06-27T08:48:18.940852Z",
     "start_time": "2018-06-27T08:48:18.632443Z"
    }
   },
   "outputs": [
    {
     "name": "stdout",
     "output_type": "stream",
     "text": [
      "M is 16.0 += 0.0\n"
     ]
    },
    {
     "data": {
      "image/png": "[encoded data removed]",
      "text/plain": [
       "<Figure size 432x288 with 1 Axes>"
      ]
     },
     "metadata": {},
     "output_type": "display_data"
    }
   ],
   "source": [
    "confs = np.load(str(directory) + '/confs_cut={:.2f}.npy'.format(r_cut))\n",
    "\n",
    "distances = []\n",
    "M_mean = 0.\n",
    "M_std = 0.\n",
    "for c in confs:\n",
    "    distances += np.linalg.norm(c[:, 0:3], axis=1).tolist()\n",
    "    M_mean += c.shape[0]\n",
    "    M_std += c.shape[0] ** 2\n",
    "\n",
    "M_mean = M_mean / len(confs)\n",
    "M_std = M_std / len(confs) - M_mean ** 2\n",
    "print('M is {} += {}'.format(M_mean, M_std))\n",
    "plt.hist(distances, 40)\n",
    "plt.show()"
   ]
  },
  {
   "cell_type": "code",
   "execution_count": 6,
   "metadata": {
    "ExecuteTime": {
     "end_time": "2018-06-27T08:48:19.236710Z",
     "start_time": "2018-06-27T08:48:19.191326Z"
    }
   },
   "outputs": [],
   "source": [
    "# Get configurations and forces from file\n",
    "confs = np.load(directory / 'confs_cut={:.2f}.npy'.format(r_cut))\n",
    "forces = np.load(directory / 'forces_cut={:.2f}.npy'.format(r_cut))\n",
    "forces *= 25.71104309541616 # Ry/Bohr to Ev/A\n",
    "\n",
    "numconfs = len(forces)\n",
    "ind = np.arange(numconfs)\n",
    "ind_tot = np.random.choice(ind, size=ntr + ntest, replace=False)\n",
    "\n",
    "# Use fixed training and testing dataset\n",
    "tr_confs, tr_forces = confs[ind_tot[:ntr]], forces[ind_tot[:ntr]]\n",
    "tst_confs, tst_forces = confs[ind_tot[ntr:]], forces[ind_tot[ntr:]]"
   ]
  },
  {
   "cell_type": "markdown",
   "metadata": {
    "ExecuteTime": {
     "end_time": "2018-06-25T09:31:56.352629Z",
     "start_time": "2018-06-25T09:31:56.298289Z"
    }
   },
   "source": [
    "## GP - 2+3Body"
   ]
  },
  {
   "cell_type": "code",
   "execution_count": 8,
   "metadata": {
    "ExecuteTime": {
     "end_time": "2018-06-27T09:32:24.649230Z",
     "start_time": "2018-06-27T08:58:58.553705Z"
    }
   },
   "outputs": [
    {
     "name": "stderr",
     "output_type": "stream",
     "text": [
      "INFO:m_ff.kernels.twobody:Started compilation of theano two body single species kernels\n",
      "INFO:m_ff.kernels.twobody:Ended compilation of theano two body single species kernels\n",
      "INFO:m_ff.kernels.threebodykernel:Started compilation of theano three body kernels\n",
      "INFO:m_ff.kernels.threebodykernel:Ended compilation of theano three body kernels\n"
     ]
    }
   ],
   "source": [
    "model_3b = CombinedSingleSpeciesModel(elements[0], r_cut, sigma_2b, sigma_3b, r_cut / 10.0, r_cut / 10.0, noise)\n",
    "model_3b.fit(tr_confs, tr_forces)"
   ]
  },
  {
   "cell_type": "code",
   "execution_count": 9,
   "metadata": {
    "ExecuteTime": {
     "end_time": "2018-06-27T09:39:51.984140Z",
     "start_time": "2018-06-27T09:32:24.651350Z"
    }
   },
   "outputs": [
    {
     "name": "stdout",
     "output_type": "stream",
     "text": [
      "Testing GP\n",
      "MAE on training set  forces: 0.0002 +- 0.0002\n"
     ]
    }
   ],
   "source": [
    "# Test the GP performance\n",
    "print('Testing GP')\n",
    "\n",
    "gp_forces = np.zeros((ntest, 3))\n",
    "\n",
    "for i in np.arange(ntest):\n",
    "    gp_forces[i] = model_3b.predict(np.reshape(tst_confs[i], (1, len(tst_confs[i]), 5)))   \n",
    "    \n",
    "gp_error = gp_forces - tst_forces\n",
    "\n",
    "MAE = np.mean(np.abs(gp_error))\n",
    "SMAE = np.std(np.abs(gp_error))\n",
    "\n",
    "print('MAE on training set  forces: {:.4f} +- {:.4f}'.format(MAE, SMAE))"
   ]
  },
  {
   "cell_type": "code",
   "execution_count": 10,
   "metadata": {
    "ExecuteTime": {
     "end_time": "2018-06-27T09:39:52.270945Z",
     "start_time": "2018-06-27T09:39:51.990362Z"
    }
   },
   "outputs": [
    {
     "data": {
      "image/png": "[encoded data removed]",
      "text/plain": [
       "<Figure size 432x288 with 1 Axes>"
      ]
     },
     "metadata": {},
     "output_type": "display_data"
    }
   ],
   "source": [
    "plt.scatter(tst_forces, gp_forces)\n",
    "plt.plot(tst_forces, tst_forces, 'k-')\n",
    "plt.show()"
   ]
  },
  {
   "cell_type": "code",
   "execution_count": 12,
   "metadata": {
    "ExecuteTime": {
     "end_time": "2018-06-27T10:20:48.762188Z",
     "start_time": "2018-06-27T10:00:48.356301Z"
    }
   },
   "outputs": [],
   "source": [
    "model_3b.build_grid(grid_start, num_2b, num_3b)"
   ]
  },
  {
   "cell_type": "code",
   "execution_count": 13,
   "metadata": {
    "ExecuteTime": {
     "end_time": "2018-06-27T10:20:48.840777Z",
     "start_time": "2018-06-27T10:20:48.763763Z"
    }
   },
   "outputs": [],
   "source": [
    "calc = CombinedSingleSpecies(r_cut, model_3b.grid[(28, 28)], model_3b.grid[(28, 28, 28)])"
   ]
  },
  {
   "cell_type": "code",
   "execution_count": 14,
   "metadata": {
    "ExecuteTime": {
     "end_time": "2018-06-27T10:20:48.952636Z",
     "start_time": "2018-06-27T10:20:48.848428Z"
    }
   },
   "outputs": [
    {
     "data": {
      "text/plain": [
       "array([[0.        , 0.        , 0.        ],\n",
       "       [1.34940199, 1.34940199, 1.34940199]])"
      ]
     },
     "execution_count": 14,
     "metadata": {},
     "output_type": "execute_result"
    }
   ],
   "source": [
    "from ase.build import bulk\n",
    "from ase.calculators.emt import EMT\n",
    "from ase.dft.kpoints import ibz_points, bandpath\n",
    "from ase.phonons import Phonons\n",
    "\n",
    "# Setup crystal and EMT calculator\n",
    "atoms = bulk('Si', 'diamond', a=5.39760794)\n",
    "atoms.get_positions()"
   ]
  },
  {
   "cell_type": "code",
   "execution_count": 16,
   "metadata": {
    "ExecuteTime": {
     "end_time": "2018-06-27T10:56:08.690558Z",
     "start_time": "2018-06-27T10:56:07.532347Z"
    }
   },
   "outputs": [
    {
     "name": "stderr",
     "output_type": "stream",
     "text": [
      "INFO:m_ff.calculators:numbers is in system_changes\n",
      "INFO:m_ff.calculators:initialize\n"
     ]
    },
    {
     "name": "stdout",
     "output_type": "stream",
     "text": [
      "Writing phonon.0x-.pckl\n",
      "Writing phonon.0x+.pckl\n",
      "Writing phonon.0y-.pckl\n",
      "Writing phonon.0y+.pckl\n",
      "Writing phonon.0z-.pckl\n",
      "Writing phonon.0z+.pckl\n",
      "Writing phonon.1x-.pckl\n",
      "Writing phonon.1x+.pckl\n",
      "Writing phonon.1y-.pckl\n",
      "Writing phonon.1y+.pckl\n",
      "Writing phonon.1z-.pckl\n",
      "Writing phonon.1z+.pckl\n"
     ]
    }
   ],
   "source": [
    "# Phonon calculator\n",
    "N = 3\n",
    "ph = Phonons(atoms, calc, supercell=(N, N, N), delta=0.003)\n",
    "ph.run()"
   ]
  },
  {
   "cell_type": "code",
   "execution_count": 17,
   "metadata": {
    "ExecuteTime": {
     "end_time": "2018-06-27T10:56:45.347677Z",
     "start_time": "2018-06-27T10:56:10.967496Z"
    }
   },
   "outputs": [
    {
     "name": "stdout",
     "output_type": "stream",
     "text": [
      "WARNING, 2 imaginary frequencies at q = ( 0.00,  0.00,  0.00) ; (omega_q = 8.047e-09*i)\n",
      "WARNING, 2 imaginary frequencies at q = ( 0.00,  0.00,  0.00) ; (omega_q = 8.047e-09*i)\n"
     ]
    }
   ],
   "source": [
    "# Read forces and assemble the dynamical matrix\n",
    "ph.read(acoustic=True)\n",
    "\n",
    "# High-symmetry points in the Brillouin zone\n",
    "points = ibz_points['fcc']\n",
    "G = points['Gamma']\n",
    "X = points['X']\n",
    "W = points['W']\n",
    "K = points['K']\n",
    "L = points['L']\n",
    "U = points['U']\n",
    "\n",
    "point_names = ['$\\Gamma$', 'X', 'U', 'L', '$\\Gamma$', 'K']\n",
    "path = [G, X, U, L, G, K]\n",
    "\n",
    "# Band structure in meV\n",
    "path_kc, q, Q = bandpath(path, atoms.cell, 100)\n",
    "omega_kn = 1000 * ph.band_structure(path_kc)\n",
    "\n",
    "# Calculate phonon DOS\n",
    "omega_e, dos_e = ph.dos(kpts=(50, 50, 50), npts=5000, delta=5e-4)\n",
    "omega_e *= 1000\n"
   ]
  },
  {
   "cell_type": "code",
   "execution_count": 18,
   "metadata": {
    "ExecuteTime": {
     "end_time": "2018-06-27T10:56:46.184094Z",
     "start_time": "2018-06-27T10:56:45.350804Z"
    }
   },
   "outputs": [
    {
     "name": "stderr",
     "output_type": "stream",
     "text": [
      "/opt/conda/lib/python3.6/site-packages/matplotlib/cbook/deprecation.py:107: MatplotlibDeprecationWarning: Passing one of 'on', 'true', 'off', 'false' as a boolean is deprecated; use an actual boolean (True/False) instead.\n",
      "  warnings.warn(message, mplDeprecation, stacklevel=1)\n"
     ]
    },
    {
     "data": {
      "image/png": "[encoded data removed]",
      "text/plain": [
       "<Figure size 576x432 with 2 Axes>"
      ]
     },
     "metadata": {},
     "output_type": "display_data"
    }
   ],
   "source": [
    "# Plot the band structure and DOS\n",
    "import matplotlib.pyplot as plt\n",
    "plt.figure(1, (8, 6))\n",
    "plt.axes([.1, .07, .67, .85])\n",
    "for n in range(len(omega_kn[0])):\n",
    "    omega_n = omega_kn[:, n]\n",
    "    plt.plot(q, omega_n, 'k-', lw=2)\n",
    "    \n",
    "plt.xticks(Q, point_names, fontsize=18)\n",
    "plt.yticks(fontsize=18)\n",
    "plt.xlim(q[0], q[-1])\n",
    "plt.ylabel(\"Frequency ($\\mathrm{meV}$)\", fontsize=22)\n",
    "plt.grid('on')\n",
    "\n",
    "plt.axes([.8, .07, .17, .85])\n",
    "plt.fill_between(dos_e, omega_e, y2=0, color='lightgrey', edgecolor='k', lw=1)\n",
    "plt.ylim(0, 35)\n",
    "plt.xticks([], [])\n",
    "plt.yticks([], [])\n",
    "plt.xlabel(\"DOS\", fontsize=18)\n",
    "plt.show()"
   ]
  },
  {
   "cell_type": "code",
   "execution_count": null,
   "metadata": {},
   "outputs": [],
   "source": []
  }
 ],
 "metadata": {
  "kernelspec": {
   "display_name": "Python 3",
   "language": "python",
   "name": "python3"
  },
  "language_info": {
   "codemirror_mode": {
    "name": "ipython",
    "version": 3
   },
   "file_extension": ".py",
   "mimetype": "text/x-python",
   "name": "python",
   "nbconvert_exporter": "python",
   "pygments_lexer": "ipython3",
   "version": "3.6.5"
  }
 },
 "nbformat": 4,
 "nbformat_minor": 2
}
